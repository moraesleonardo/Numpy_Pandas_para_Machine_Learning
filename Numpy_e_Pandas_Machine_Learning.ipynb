{
  "cells": [
    {
      "cell_type": "markdown",
      "metadata": {
        "id": "view-in-github",
        "colab_type": "text"
      },
      "source": [
        "<a href=\"https://colab.research.google.com/github/moraesleonardo/Numpy_Pandas_para_Machine_Learning/blob/main/Numpy_e_Pandas_Machine_Learning.ipynb\" target=\"_parent\"><img src=\"https://colab.research.google.com/assets/colab-badge.svg\" alt=\"Open In Colab\"/></a>"
      ]
    },
    {
      "cell_type": "markdown",
      "metadata": {
        "id": "9DOTM3x4dIc6"
      },
      "source": [
        "# Python para Data Science\n",
        "# Numpy"
      ]
    },
    {
      "cell_type": "markdown",
      "metadata": {
        "id": "sfefmAb2dIc7"
      },
      "source": [
        "O pacote chamado Numpy é a base de funcionamento para diversos outros pacotes desenvolvidos pela comunidade Python. Ele permite operações eficientes sobre vetores e matrizes. \n",
        "\n",
        "Vamos ver algumas da operações mais comuns oferecidas pelo Numpy. Para maiores detalhes, um bom ponto de partida é o site do [Numpy](http://www.numpy.org/) e/ou os diversos livros específicos sobre o assunto."
      ]
    },
    {
      "cell_type": "markdown",
      "metadata": {
        "id": "z_oMidYjdIc7"
      },
      "source": [
        "## Referências\n",
        "\n",
        "- NumPy Essentials - https://learning.oreilly.com/library/view/numpy-essentials/9781784393670/\n",
        "- NumPy : Beginner's Guide - Third Edition - https://learning.oreilly.com/library/view/numpy-beginners/9781785281969/\n",
        "- Mastering Numerical Computing with NumPy - https://learning.oreilly.com/library/view/mastering-numerical-computing/9781788993357/"
      ]
    },
    {
      "cell_type": "markdown",
      "metadata": {
        "id": "BbMeRjUudIc8"
      },
      "source": [
        "### Usando o Numpy para criar arrays unidimensionais\n",
        "\n",
        "A estrutura principal do Numpy é o array, que pode ser multidimensional. Para criar um vetor, basta gerarmos um array unidimensional."
      ]
    },
    {
      "cell_type": "code",
      "execution_count": null,
      "metadata": {
        "id": "yfN3X5CtdIc9"
      },
      "outputs": [],
      "source": [
        "# Importando o pacote\n",
        "\n",
        "import numpy as np"
      ]
    },
    {
      "cell_type": "code",
      "execution_count": null,
      "metadata": {
        "id": "Q1v-ZulLdIc-"
      },
      "outputs": [],
      "source": [
        "# Criando um vetor como uma linha.\n",
        "linha = np.array([1, 2, 3])\n",
        "\n",
        "# Criando um vetor como uma coluna.\n",
        "coluna = np.array([[1],[2],[3]])\n",
        "\n",
        "print(linha)\n",
        "print()\n",
        "print(coluna)"
      ]
    },
    {
      "cell_type": "markdown",
      "metadata": {
        "id": "93StHqeCdIc-"
      },
      "source": [
        "### Criando uma matriz\n",
        "\n",
        "Vamos usar o Numpy para criar uma matriz. Agora faremos uso de uma estrutura bidimensional."
      ]
    },
    {
      "cell_type": "code",
      "execution_count": null,
      "metadata": {
        "id": "ZecN8B75dIc_"
      },
      "outputs": [],
      "source": [
        "# Criando uma matriz.\n",
        "matriz = np.array([[1, 2],\n",
        "                   [1, 2],\n",
        "                   [1, 2]])\n",
        "\n",
        "print(matriz)"
      ]
    },
    {
      "cell_type": "markdown",
      "metadata": {
        "id": "KaQOLF6sdIc_"
      },
      "source": [
        "Porém o Numpy possui uma estrutura específica para matrizes!"
      ]
    },
    {
      "cell_type": "code",
      "execution_count": null,
      "metadata": {
        "id": "vEtePLVXdIdA"
      },
      "outputs": [],
      "source": [
        "matriz_obj = np.mat([[1, 2],\n",
        "                    [1, 2],\n",
        "                    [1, 2]])\n",
        "\n",
        "print(matriz_obj)"
      ]
    },
    {
      "cell_type": "markdown",
      "metadata": {
        "id": "7aR-UXULdIdA"
      },
      "source": [
        "### Selecionando elementos\n",
        "\n",
        "Como os demais elementos em Python, os arrays do Numpy são 'zero-indexed', ou seja, os índices iniciam por zero. O Numpy oferece uma série de formas diferentes de selecionar objetos. "
      ]
    },
    {
      "cell_type": "code",
      "execution_count": null,
      "metadata": {
        "id": "kItQPIHZdIdA"
      },
      "outputs": [],
      "source": [
        "# Criar um vetor em linha.\n",
        "vetor = np.array([1, 2, 3, 4, 5, 6])\n",
        "\n",
        "print(vetor)"
      ]
    },
    {
      "cell_type": "code",
      "execution_count": null,
      "metadata": {
        "id": "FbN9m8sAdIdA"
      },
      "outputs": [],
      "source": [
        "# Criando uma matriz.\n",
        "matriz = np.array([[1, 2, 3],\n",
        "                   [4, 5, 6],\n",
        "                   [7, 8, 9]])\n",
        "\n",
        "print(matriz)"
      ]
    },
    {
      "cell_type": "code",
      "execution_count": null,
      "metadata": {
        "id": "eL2_sXSedIdB"
      },
      "outputs": [],
      "source": [
        "# Selecionando o terceiro elemento do vetor.\n",
        "vetor[2]"
      ]
    },
    {
      "cell_type": "code",
      "execution_count": null,
      "metadata": {
        "id": "pPfqJogGdIdB"
      },
      "outputs": [],
      "source": [
        "# Selecionando o elemento da segunda linha, segunda coluna, na matriz\n",
        "matriz[1,1]"
      ]
    },
    {
      "cell_type": "code",
      "execution_count": null,
      "metadata": {
        "id": "hrv3YezpdIdB"
      },
      "outputs": [],
      "source": [
        "# Selecionando todos os elementos do vetor.\n",
        "vetor[:]"
      ]
    },
    {
      "cell_type": "code",
      "execution_count": null,
      "metadata": {
        "id": "U9Ka4vHgdIdB"
      },
      "outputs": [],
      "source": [
        "# Selecionando todos os elementos até o quarto, inclusive, no vetor\n",
        "vetor[:4]"
      ]
    },
    {
      "cell_type": "code",
      "execution_count": null,
      "metadata": {
        "id": "VfEjpa6ZdIdB"
      },
      "outputs": [],
      "source": [
        "# Selecionando todos os elementos após o terceiro, no vetor\n",
        "vetor[3:]"
      ]
    },
    {
      "cell_type": "code",
      "execution_count": null,
      "metadata": {
        "id": "_PjJubqNdIdC"
      },
      "outputs": [],
      "source": [
        "# Selecionando o último elemento do vetor\n",
        "vetor[-1]"
      ]
    },
    {
      "cell_type": "code",
      "execution_count": null,
      "metadata": {
        "id": "ZmaIwIW5dIdC"
      },
      "outputs": [],
      "source": [
        "# Selecionando as primeiras duas linhas e todas as colunas da matriz.\n",
        "matriz[:2,:]"
      ]
    },
    {
      "cell_type": "code",
      "execution_count": null,
      "metadata": {
        "id": "lHnmszoIdIdC"
      },
      "outputs": [],
      "source": [
        "# Selecionando todas as linhas e a segunda coluna.\n",
        "matriz[:,1:2]"
      ]
    },
    {
      "cell_type": "markdown",
      "metadata": {
        "id": "787ZfiOwdIdC"
      },
      "source": [
        "O Numpy é o principal responsável por implementar operações vetorizadas em Python! \n",
        "\n",
        "Este tipo de operação é extremamente importante na manipulação de dados. Vejamos alguns exemplos simples."
      ]
    },
    {
      "cell_type": "code",
      "execution_count": null,
      "metadata": {
        "id": "sQGUA9v8dIdC"
      },
      "outputs": [],
      "source": [
        "# Criando uma matriz.\n",
        "matriz = np.array([[1, 2, 3],\n",
        "                   [4, 5, 6],\n",
        "                   [7, 8, 9]])\n",
        "\n",
        "# Adicionando 100 a todos os elementos em uma única operação.\n",
        "matriz + 100"
      ]
    },
    {
      "cell_type": "code",
      "execution_count": null,
      "metadata": {
        "id": "Z6V8uuJVdIdC"
      },
      "outputs": [],
      "source": [
        "# Multiplicando toda a matriz em uma única operação.\n",
        "matriz * 30"
      ]
    },
    {
      "cell_type": "markdown",
      "metadata": {
        "id": "xRtCYDnZdIdD"
      },
      "source": [
        "### Encontrando máximos e mínimos\n",
        "\n",
        "Precisamos com frequência encontrar máximos e mínimos de um array ou de um subconjunto deste. Podemos usar também o parâmetro chamado 'axis' para aplicar a operação em um determinado eixo do objeto (linha ou coluna)."
      ]
    },
    {
      "cell_type": "code",
      "execution_count": null,
      "metadata": {
        "id": "hiARJTT7dIdD"
      },
      "outputs": [],
      "source": [
        "# Criando uma matriz.\n",
        "matriz = np.array([[1, 2, 3],\n",
        "                   [4, 5, 6],\n",
        "                   [7, 8, 9]])"
      ]
    },
    {
      "cell_type": "code",
      "execution_count": null,
      "metadata": {
        "id": "cjebQjqPdIdD"
      },
      "outputs": [],
      "source": [
        "# Retorna o maior elemento.\n",
        "np.max(matriz)"
      ]
    },
    {
      "cell_type": "code",
      "execution_count": null,
      "metadata": {
        "id": "X3CSvcowdIdD"
      },
      "outputs": [],
      "source": [
        "# Retorna o menor elemento.\n",
        "np.min(matriz)"
      ]
    },
    {
      "cell_type": "code",
      "execution_count": null,
      "metadata": {
        "id": "y39YmuTSdIdD"
      },
      "outputs": [],
      "source": [
        "# Retorna o maior elemento de cada coluna.\n",
        "np.max(matriz, axis=0)"
      ]
    },
    {
      "cell_type": "code",
      "execution_count": null,
      "metadata": {
        "id": "PxHlAOK8dIdD"
      },
      "outputs": [],
      "source": [
        "# Retorna o maior elemento de cada linha.\n",
        "np.max(matriz, axis=1)"
      ]
    },
    {
      "cell_type": "markdown",
      "metadata": {
        "id": "j0tsm0wAdIdD"
      },
      "source": [
        "### Exemplos - Média, variância e desvio padrão\n",
        "\n",
        "Vamos agora calcular medidas estatísticas básicas."
      ]
    },
    {
      "cell_type": "code",
      "execution_count": null,
      "metadata": {
        "id": "P5BNQjgOdIdE"
      },
      "outputs": [],
      "source": [
        "# Criando uma matriz.\n",
        "matriz = np.array([[1, 2, 3],\n",
        "                   [4, 5, 6],\n",
        "                   [7, 8, 9]])"
      ]
    },
    {
      "cell_type": "code",
      "execution_count": null,
      "metadata": {
        "id": "gB_6-QNEdIdE"
      },
      "outputs": [],
      "source": [
        "# Retorna a média.\n",
        "np.mean(matriz)"
      ]
    },
    {
      "cell_type": "code",
      "execution_count": null,
      "metadata": {
        "id": "Qn06m_CTdIdE"
      },
      "outputs": [],
      "source": [
        "# Retorna a variância.\n",
        "np.var(matriz)"
      ]
    },
    {
      "cell_type": "code",
      "execution_count": null,
      "metadata": {
        "id": "p3QNF5CMdIdE"
      },
      "outputs": [],
      "source": [
        "# Retorna o desvio padrão.\n",
        "np.std(matriz)"
      ]
    },
    {
      "cell_type": "markdown",
      "metadata": {
        "id": "ChaAN6wTdIdE"
      },
      "source": [
        "Podemos novamente aplicar as funções aos eixos."
      ]
    },
    {
      "cell_type": "code",
      "execution_count": null,
      "metadata": {
        "id": "kap_xEoZdIdE"
      },
      "outputs": [],
      "source": [
        "# Encontra o valor médio por coluna.\n",
        "np.mean(matriz, axis=1)"
      ]
    },
    {
      "cell_type": "markdown",
      "metadata": {
        "id": "DOWaNOYAdIdE"
      },
      "source": [
        "### Transpondo arrays ou matrizes\n",
        "\n",
        "A transposição é uma operação bem comum onde os índices de coluna e linha são trocados."
      ]
    },
    {
      "cell_type": "code",
      "execution_count": null,
      "metadata": {
        "id": "paDDQ32HdIdF"
      },
      "outputs": [],
      "source": [
        "# Criando uma matriz.\n",
        "matriz = np.array([[1, 2, 3],\n",
        "                   [4, 5, 6],\n",
        "                   [7, 8, 9]])\n",
        "\n",
        "# Transpondo a matriz.\n",
        "matriz.T"
      ]
    },
    {
      "cell_type": "markdown",
      "metadata": {
        "id": "1FWLTWUNdIdF"
      },
      "source": [
        "### Determinante de uma matriz"
      ]
    },
    {
      "cell_type": "code",
      "execution_count": null,
      "metadata": {
        "id": "X5XJ2KR8dIdF"
      },
      "outputs": [],
      "source": [
        "# Criando uma matriz.\n",
        "matriz = np.array([[1, 2, 3],\n",
        "                   [2, 4, 6],\n",
        "                   [3, 8, 9]])\n",
        "\n",
        "# Retornando o determinante da matriz.\n",
        "np.linalg.det(matriz)"
      ]
    },
    {
      "cell_type": "markdown",
      "metadata": {
        "id": "xHIekOttdIdF"
      },
      "source": [
        "### Diagonal principal de uma matriz"
      ]
    },
    {
      "cell_type": "code",
      "execution_count": null,
      "metadata": {
        "id": "HvGTlyvzdIdF"
      },
      "outputs": [],
      "source": [
        "# Criando uma matriz.\n",
        "matriz = np.array([[1, 2, 3],\n",
        "                   [2, 4, 6],\n",
        "                   [3, 8, 9]])\n",
        "matriz.diagonal()"
      ]
    },
    {
      "cell_type": "markdown",
      "metadata": {
        "id": "Vq23QOufdIdF"
      },
      "source": [
        "### Traço de uma matriz\n",
        "\n",
        "O traço de uma matriz é a soma dos elementos da diagonal principal."
      ]
    },
    {
      "cell_type": "code",
      "execution_count": null,
      "metadata": {
        "id": "2lYTE3ubdIdF"
      },
      "outputs": [],
      "source": [
        "# Criando uma matriz.\n",
        "matriz = np.array([[1, 2, 3],\n",
        "                   [2, 4, 6],\n",
        "                   [3, 8, 9]])\n",
        "\n",
        "# Retornando o traço da matriz.\n",
        "matriz.trace()"
      ]
    },
    {
      "cell_type": "markdown",
      "metadata": {
        "id": "mZd_wa69dIdF"
      },
      "source": [
        "### Adição e subtração de matrizes"
      ]
    },
    {
      "cell_type": "code",
      "execution_count": null,
      "metadata": {
        "id": "1HdY2tjPdIdG"
      },
      "outputs": [],
      "source": [
        "# Criando a primeira matriz.\n",
        "matriz_a = np.array([[1, 1, 1],\n",
        "                     [1, 1, 1],\n",
        "                     [1, 1, 2]])\n",
        "\n",
        "# Criando a segunda matriz.\n",
        "matriz_b = np.array([[1, 3, 1],\n",
        "                     [1, 3, 1],\n",
        "                     [1, 3, 8]])\n",
        "\n",
        "# Somando as duas matrizes.\n",
        "ad = np.add(matriz_a, matriz_b)\n",
        "\n",
        "# Subtraindo as duas matrizes.\n",
        "sub = np.subtract(matriz_a, matriz_b)\n",
        "\n",
        "print(ad)\n",
        "print()\n",
        "print(sub)"
      ]
    },
    {
      "cell_type": "markdown",
      "metadata": {
        "id": "rovMMBhAdIdG"
      },
      "source": [
        "Podemos também utilizar os operadores usuais de adição e subtração."
      ]
    },
    {
      "cell_type": "code",
      "execution_count": null,
      "metadata": {
        "id": "14tMNItCdIdG"
      },
      "outputs": [],
      "source": [
        "# Somando as duas matrizes.\n",
        "ad1 = matriz_a + matriz_b\n",
        "\n",
        "# Subtraindo as duas matrizes.\n",
        "sub1 = matriz_a - matriz_b\n",
        "\n",
        "print(ad1)\n",
        "print()\n",
        "print(sub1)"
      ]
    },
    {
      "cell_type": "markdown",
      "metadata": {
        "id": "nIvBh_pPdIdG"
      },
      "source": [
        "### Multiplicação de matrizes\n",
        "\n",
        "Pode ser feito de duas formas: usando a função 'dot' ou o operador '@'."
      ]
    },
    {
      "cell_type": "code",
      "execution_count": null,
      "metadata": {
        "id": "xNvDg1aUdIdG"
      },
      "outputs": [],
      "source": [
        "# Criando a primeira matriz.\n",
        "matriz_a = np.array([[1, 1],\n",
        "                     [1, 2]])\n",
        "\n",
        "# Criando a segunda  matriz.\n",
        "matriz_b = np.array([[1, 3],\n",
        "                     [1, 2]])\n",
        "\n",
        "# Multiplicando as duas matrizes.\n",
        "np.dot(matriz_a, matriz_b)"
      ]
    },
    {
      "cell_type": "code",
      "execution_count": null,
      "metadata": {
        "id": "WoAOj5tmdIdG"
      },
      "outputs": [],
      "source": [
        "# Multiplicando as duas matrizes.\n",
        "matriz_a @ matriz_b"
      ]
    },
    {
      "cell_type": "markdown",
      "source": [
        "###Utilizando a biblioteca 'random'"
      ],
      "metadata": {
        "id": "hFVXiCvX8SjM"
      }
    },
    {
      "cell_type": "markdown",
      "source": [
        "**Aliás, aproveitando, vocês sabem o que é um número aleatório e como ele é representado em um computador?**\n",
        "\n",
        "Números aleatórios têm muita utilização em computação em geral e particularmente em algoritmos inteligentes e economia. Um uso clássico está na aplicação do método de simulação chamado 'Método de Monte Carlo'."
      ],
      "metadata": {
        "id": "pibBMgRI8p5d"
      }
    },
    {
      "cell_type": "code",
      "source": [
        "import random\n",
        "\n",
        "random.seed(1)\n",
        "print(random.randint(1, 6))\n",
        "\n",
        "estados = [\"RJ\", \"SP\", \"MG\", \"ES\", \"GO\", \"MS\", \"MT\"]\n",
        "print(random.choice(estados))"
      ],
      "metadata": {
        "id": "e9jpwIxTTx4v",
        "colab": {
          "base_uri": "https://localhost:8080/"
        },
        "outputId": "95b6e369-d293-47bc-bdc0-4ad2b5f5ea67"
      },
      "execution_count": null,
      "outputs": [
        {
          "output_type": "stream",
          "name": "stdout",
          "text": [
            "2\n",
            "GO\n"
          ]
        }
      ]
    },
    {
      "cell_type": "markdown",
      "source": [
        "E no código abaixo, o que mudou?"
      ],
      "metadata": {
        "id": "w671g8Hk9X5s"
      }
    },
    {
      "cell_type": "code",
      "source": [
        "random.seed(0)\n",
        "print(random.randint(1, 6))\n",
        "\n",
        "estados = [\"RJ\", \"SP\", \"MG\", \"ES\", \"GO\", \"MS\", \"MT\"]\n",
        "print(random.choice(estados))"
      ],
      "metadata": {
        "id": "sXD5KzJR9T8c"
      },
      "execution_count": null,
      "outputs": []
    },
    {
      "cell_type": "markdown",
      "source": [
        "Retornando escolhas aleatórias de valores de um conjunto"
      ],
      "metadata": {
        "id": "7GZnFmQy9mkJ"
      }
    },
    {
      "cell_type": "code",
      "source": [
        "print(random.choices(estados, k=3)) # pode retornar valores repetidos"
      ],
      "metadata": {
        "id": "stNTbydcU3S7",
        "colab": {
          "base_uri": "https://localhost:8080/"
        },
        "outputId": "447f44a2-fe34-4e3f-e733-ff69beccfc4e"
      },
      "execution_count": null,
      "outputs": [
        {
          "output_type": "stream",
          "name": "stdout",
          "text": [
            "['MS', 'ES', 'MS']\n"
          ]
        }
      ]
    },
    {
      "cell_type": "code",
      "source": [
        "print(random.sample(estados, 3)) # retorna valores únicos"
      ],
      "metadata": {
        "id": "HGt6kbd_VF9q",
        "colab": {
          "base_uri": "https://localhost:8080/"
        },
        "outputId": "a818f1b4-b268-442a-afc2-b82485d76e4f"
      },
      "execution_count": null,
      "outputs": [
        {
          "output_type": "stream",
          "name": "stdout",
          "text": [
            "['ES', 'MS', 'SP']\n"
          ]
        }
      ]
    },
    {
      "cell_type": "markdown",
      "source": [
        "\"Embaralhando\" os dados de um conjunto"
      ],
      "metadata": {
        "id": "E2rXnhpI9x0H"
      }
    },
    {
      "cell_type": "code",
      "source": [
        "random.shuffle(estados)\n",
        "print(estados)"
      ],
      "metadata": {
        "id": "Xmuq55uqVP1C",
        "colab": {
          "base_uri": "https://localhost:8080/"
        },
        "outputId": "2b32c95d-8d79-4e82-bb1b-32138bc811b4"
      },
      "execution_count": null,
      "outputs": [
        {
          "output_type": "stream",
          "name": "stdout",
          "text": [
            "['MT', 'MG', 'GO', 'SP', 'ES', 'MS', 'RJ']\n"
          ]
        }
      ]
    },
    {
      "cell_type": "markdown",
      "source": [
        "Vamos fazer 100 lançamentos de um D6 (dado de seis faces, não viciado)"
      ],
      "metadata": {
        "id": "i8F97QXj_SLy"
      }
    },
    {
      "cell_type": "code",
      "source": [
        "lancamentos = []\n",
        "\n",
        "for _ in range(100000):\n",
        "  dado = random.randint(1, 6)\n",
        "  lancamentos.append(dado)\n",
        "\n",
        "print(lancamentos)"
      ],
      "metadata": {
        "id": "47mM26bqaRSz",
        "colab": {
          "base_uri": "https://localhost:8080/"
        },
        "outputId": "598e3ebf-8894-4a24-c0fa-ff5e5c0ea57b"
      },
      "execution_count": null,
      "outputs": [
        {
          "output_type": "stream",
          "name": "stdout",
          "text": [
            "[5, 5, 3, 4, 5, 1, 2, 6, 2, 5, 5, 2, 1, 5, 3, 1, 6, 1, 1, 1, 4, 1, 3, 2, 3, 1, 5, 2, 3, 3, 1, 2, 2, 3, 5, 2, 6, 3, 6, 6, 3, 4, 6, 3, 4, 4, 1, 1, 3, 4, 3, 4, 2, 3, 1, 3, 6, 5, 2, 5, 4, 1, 2, 1, 4, 2, 1, 6, 2, 4, 6, 5, 6, 4, 5, 2, 6, 6, 5, 4, 2, 5, 6, 1, 4, 6, 5, 3, 6, 6, 4, 1, 6, 3, 2, 2, 1, 3, 1, 1, 3, 3, 6, 2, 4, 5, 3, 2, 1, 5, 1, 5, 2, 5, 4, 2, 6, 5, 5, 1, 4, 2, 3, 1, 2, 5, 6, 4, 5, 2, 4, 1, 6, 4, 3, 5, 4, 1, 3, 5, 4, 3, 1, 2, 2, 3, 5, 2, 3, 4, 2, 3, 6, 1, 4, 5, 3, 6, 5, 4, 5, 2, 1, 6, 1, 1, 2, 2, 2, 5, 2, 3, 3, 5, 5, 3, 3, 3, 3, 1, 3, 2, 5, 6, 4, 2, 5, 5, 1, 3, 1, 4, 1, 4, 2, 2, 3, 1, 5, 5, 4, 1, 5, 5, 2, 5, 1, 3, 3, 3, 5, 5, 1, 4, 3, 1, 1, 3, 1, 5, 6, 1, 1, 4, 1, 1, 2, 2, 5, 4, 2, 1, 4, 2, 6, 2, 2, 6, 1, 4, 4, 5, 3, 5, 3, 6, 4, 3, 1, 2, 6, 3, 1, 1, 1, 3, 6, 5, 3, 4, 4, 3, 4, 1, 1, 3, 5, 4, 1, 3, 2, 5, 5, 6, 4, 6, 3, 3, 2, 5, 2, 3, 2, 2, 3, 1, 3, 1, 4, 1, 6, 5, 6, 3, 2, 4, 3, 1, 3, 2, 3, 5, 3, 2, 3, 1, 5, 5, 5, 5, 1, 2, 2, 1, 2, 4, 1, 3, 5, 1, 6, 1, 1, 6, 1, 3, 3, 4, 4, 2, 1, 5, 3, 1, 5, 6, 2, 2, 2, 2, 3, 3, 1, 6, 5, 5, 3, 2, 2, 2, 5, 6, 1, 3, 5, 6, 5, 6, 6, 2, 2, 3, 4, 5, 2, 1, 6, 6, 2, 3, 1, 6, 4, 4, 5, 3, 5, 4, 5, 4, 1, 4, 3, 2, 3, 4, 1, 6, 4, 5, 1, 1, 6, 3, 5, 2, 5, 2, 2, 3, 3, 4, 5, 4, 2, 5, 1, 2, 4, 1, 2, 5, 3, 5, 6, 4, 6, 6, 6, 2, 2, 3, 4, 6, 4, 2, 6, 4, 3, 5, 5, 6, 6, 3, 6, 2, 1, 1, 5, 6, 3, 2, 5, 2, 3, 3, 6, 3, 5, 3, 2, 6, 6, 6, 4, 5, 1, 1, 5, 5, 5, 4, 2, 2, 3, 4, 2, 5, 6, 1, 4, 6, 4, 6, 6, 3, 4, 5, 2, 5, 6, 1, 5, 1, 3, 6, 1, 3, 6, 1, 2, 5, 6, 6, 6, 1, 4, 2, 4, 4, 4, 2, 3, 4, 2, 5, 4, 2, 1, 4, 5, 5, 4, 1, 6, 3, 3, 2, 4, 6, 5, 1, 2, 5, 4, 5, 1, 1, 6, 5, 2, 3, 2, 2, 3, 2, 5, 2, 3, 3, 5, 3, 6, 4, 2, 5, 3, 4, 4, 1, 2, 5, 4, 2, 3, 1, 1, 1, 5, 6, 1, 5, 3, 6, 6, 6, 2, 1, 5, 3, 5, 3, 4, 5, 6, 3, 5, 3, 1, 1, 4, 6, 4, 3, 3, 5, 4, 3, 6, 6, 5, 4, 1, 6, 4, 4, 2, 5, 1, 3, 6, 5, 6, 6, 6, 5, 2, 4, 5, 5, 4, 6, 6, 3, 6, 2, 4, 5, 6, 5, 2, 3, 5, 1, 6, 4, 5, 4, 4, 3, 5, 5, 6, 6, 6, 1, 4, 6, 2, 6, 6, 3, 6, 1, 4, 6, 6, 2, 6, 4, 3, 2, 1, 5, 1, 3, 3, 6, 4, 6, 5, 3, 2, 4, 3, 4, 2, 4, 5, 1, 3, 5, 1, 6, 5, 4, 1, 3, 1, 6, 4, 1, 2, 5, 6, 2, 6, 1, 4, 6, 6, 3, 5, 3, 2, 5, 2, 2, 3, 3, 1, 1, 6, 5, 6, 3, 4, 5, 5, 6, 1, 2, 3, 6, 6, 6, 5, 3, 3, 5, 6, 2, 4, 5, 4, 2, 4, 3, 5, 3, 6, 2, 3, 5, 6, 2, 6, 1, 5, 4, 3, 4, 2, 3, 2, 1, 6, 6, 2, 5, 4, 5, 6, 2, 5, 3, 4, 5, 2, 2, 2, 6, 4, 3, 3, 4, 2, 1, 6, 2, 6, 6, 3, 1, 1, 2, 4, 3, 4, 1, 2, 1, 1, 5, 1, 2, 6, 1, 4, 6, 5, 6, 5, 4, 3, 6, 3, 1, 5, 6, 2, 1, 2, 4, 2, 4, 4, 4, 2, 2, 2, 3, 4, 5, 5, 4, 2, 4, 6, 3, 3, 4, 5, 1, 2, 1, 1, 1, 1, 4, 3, 4, 5, 3, 2, 4, 2, 6, 2, 1, 1, 4, 2, 6, 5, 1, 5, 4, 3, 2, 1, 4, 6, 3, 1, 1, 5, 1, 5, 2, 1, 3, 1, 4, 1, 2, 1, 4, 6, 2, 6, 3, 6, 2, 6, 4, 4, 3, 6, 3, 3, 6, 6, 2, 2, 1, 5, 5, 2, 3, 4, 5, 6, 5, 6, 5, 1, 3, 5, 4, 5, 2, 6, 5, 4, 6, 1, 6, 3, 6, 5, 6, 1, 3, 2, 1, 2, 1, 2, 4, 1, 1, 6, 1, 5, 4, 5, 3, 1, 3, 1, 2, 5, 1, 4, 6, 2, 4, 6, 4, 1, 6, 5, 3, 1, 3, 3, 1, 3, 1, 4, 1, 6, 3, 3, 6, 2, 3, 4, 1, 6, 3, 1, 4, 2, 5, 5, 2, 3, 3, 5, 4, 5, 4, 1, 2, 6, 4, 5, 5, 6, 5, 6, 5, 5, 1, 3, 6, 2, 2, 3, 4, 5, 3, 1, 4, 3, 2, 5, 1, 1, 3, 6, 5, 3, 4, 3, 3, 3, 3, 3, 6, 6, 5, 5, 1, 5, 1, 2, 3, 6, 3, 3, 5, 1, 4, 3, 4, 4, 3, 6, 4, 1, 5, 1, 2, 1, 5, 4, 5, 3, 2, 6, 5, 6, 3, 3, 6, 3, 4, 3, 4, 5, 3, 5, 5, 2, 1, 2, 3, 6, 2, 5, 2, 1, 2, 4, 6, 5, 1, 1, 5, 6, 3, 6, 1, 2, 3, 1, 6, 5, 5, 6, 1, 1, 2, 6, 2, 5, 4, 1, 5, 3, 4, 6, 3, 2, 2, 5, 4, 2, 4, 4, 6, 3, 5, 2, 4, 6, 1, 3, 4, 2, 1, 6, 5, 4, 5, 4, 1, 4, 5, 5, 5, 5, 4, 1, 3, 4, 1, 2, 3, 6, 6, 6, 1, 5, 1, 3, 5, 6, 3, 5, 6, 5, 5, 3, 5, 4, 5, 5, 4, 5, 6, 5, 3, 4, 3, 2, 5, 4, 5, 2, 5, 2, 3, 6, 1, 4, 6, 6, 5, 1, 3, 4, 4, 3, 6, 6, 1, 1, 1, 1, 4, 3, 4, 3, 3, 6, 6, 4, 3, 4, 4, 1, 4, 3, 2, 4, 2, 1, 2, 3, 3, 2, 5, 3, 4, 3, 5, 3, 6, 4, 6, 3, 4, 3, 4, 2, 6, 4, 4, 6, 4, 1, 1, 2, 2, 2, 2, 6, 1, 1, 3, 2, 4, 1, 4, 6, 6, 2, 1, 1, 4, 5, 1, 5, 2, 5, 4, 3, 1, 6, 1, 6, 5, 6, 4, 6, 6, 1, 3, 6, 3, 2, 4, 6, 1, 2, 6, 6, 1, 4, 1, 6, 4, 3, 6, 5, 4, 4, 1, 5, 4, 1, 2, 4, 5, 6, 2, 2, 5, 3, 4, 6, 5, 3, 4, 6, 5, 2, 5, 3, 4, 1, 1, 6, 6, 3, 6, 3, 1, 5, 6, 4, 3, 1, 2, 5, 3, 3, 6, 2, 4, 2, 2, 3, 2, 4, 5, 6, 5, 1, 5, 5, 5, 2, 4, 3, 3, 4, 6, 3, 3, 4, 2, 4, 3, 5, 4, 2, 3, 2, 5, 2, 6, 5, 6, 4, 5, 2, 1, 5, 3, 5, 6, 2, 6, 2, 3, 5, 4, 4, 3, 1, 2, 2, 6, 3, 2, 1, 6, 5, 6, 1, 5, 2, 6, 1, 2, 5, 2, 5, 5, 6, 3, 4, 3, 1, 1, 3, 5, 2, 1, 6, 2, 3, 6, 6, 3, 3, 5, 6, 5, 4, 1, 1, 3, 3, 2, 1, 3, 2, 6, 5, 1, 3, 1, 1, 6, 1, 3, 3, 2, 3, 5, 1, 3, 1, 1, 2, 4, 3, 6, 6, 6, 2, 1, 6, 3, 3, 1, 5, 3, 1, 3, 6, 6, 2, 5, 3, 4, 1, 6, 5, 5, 6, 5, 4, 5, 4, 5, 4, 3, 2, 6, 3, 5, 2, 1, 5, 5, 1, 2, 2, 2, 4, 3, 5, 1, 3, 5, 3, 5, 3, 4, 2, 4, 6, 1, 6, 3, 1, 6, 5, 3, 5, 5, 6, 5, 6, 5, 1, 5, 3, 4, 6, 2, 2, 1, 5, 2, 6, 2, 4, 3, 3, 3, 2, 2, 4, 4, 4, 1, 5, 2, 3, 3, 6, 6, 6, 5, 1, 5, 1, 6, 2, 4, 6, 5, 1, 4, 1, 4, 5, 6, 4, 3, 3, 4, 4, 5, 4, 1, 1, 4, 1, 6, 6, 6, 1, 1, 1, 5, 2, 5, 5, 3, 5, 3, 5, 6, 3, 4, 6, 2, 5, 2, 1, 5, 3, 2, 1, 1, 6, 3, 4, 6, 3, 3, 6, 6, 1, 5, 4, 4, 4, 3, 3, 3, 4, 6, 2, 6, 5, 5, 2, 1, 3, 6, 1, 5, 2, 5, 6, 6, 4, 3, 6, 1, 5, 1, 4, 2, 4, 6, 2, 4, 6, 2, 1, 2, 3, 3, 6, 2, 6, 4, 6, 4, 3, 4, 6, 6, 6, 2, 4, 4, 4, 5, 1, 5, 4, 3, 2, 2, 1, 4, 4, 1, 1, 6, 1, 2, 4, 4, 6, 5, 3, 2, 2, 5, 1, 3, 1, 4, 4, 6, 6, 6, 2, 5, 6, 4, 1, 5, 2, 4, 2, 6, 2, 3, 6, 2, 1, 5, 5, 2, 2, 4, 5, 1, 5, 2, 4, 2, 1, 5, 6, 2, 6, 5, 6, 5, 6, 5, 1, 2, 4, 4, 1, 5, 6, 1, 4, 1, 5, 1, 6, 4, 1, 5, 2, 1, 1, 3, 4, 3, 6, 4, 2, 5, 2, 5, 6, 3, 5, 6, 4, 5, 4, 5, 2, 6, 4, 6, 4, 2, 4, 3, 3, 2, 3, 5, 3, 2, 6, 5, 1, 6, 3, 3, 2, 3, 3, 3, 3, 4, 3, 5, 4, 1, 2, 2, 3, 2, 2, 1, 5, 5, 5, 2, 5, 4, 6, 2, 5, 2, 5, 4, 4, 6, 2, 1, 6, 1, 2, 6, 1, 1, 6, 4, 4, 4, 6, 2, 5, 5, 2, 6, 5, 5, 1, 2, 4, 2, 3, 2, 6, 6, 4, 3, 6, 2, 2, 3, 6, 2, 3, 4, 5, 3, 1, 5, 3, 2, 6, 4, 1, 3, 5, 5, 1, 5, 3, 4, 3, 5, 1, 1, 3, 2, 2, 6, 1, 1, 4, 6, 5, 2, 6, 2, 5, 5, 4, 1, 6, 2, 4, 6, 5, 2, 6, 5, 3, 6, 1, 6, 1, 2, 5, 4, 6, 4, 5, 5, 2, 3, 1, 6, 2, 6, 6, 5, 5, 2, 4, 3, 6, 4, 4, 3, 4, 1, 6, 2, 2, 5, 1, 4, 1, 4, 2, 4, 6, 5, 3, 2, 1, 1, 6, 6, 1, 4, 4, 2, 2, 5, 5, 2, 5, 4, 5, 3, 2, 2, 3, 6, 5, 1, 3, 1, 4, 1, 5, 2, 2, 3, 4, 1, 5, 5, 1, 5, 4, 1, 4, 5, 5, 6, 3, 4, 3, 3, 4, 1, 5, 4, 1, 4, 3, 5, 6, 3, 2, 5, 5, 5, 3, 1, 5, 3, 4, 4, 5, 1, 5, 5, 1, 1, 5, 5, 1, 1, 3, 3, 3, 5, 1, 6, 3, 5, 1, 4, 6, 1, 5, 4, 3, 5, 5, 1, 2, 3, 3, 2, 2, 5, 2, 5, 1, 4, 3, 5, 4, 3, 3, 3, 5, 3, 1, 6, 1, 6, 2, 3, 4, 5, 3, 5, 5, 1, 1, 6, 2, 3, 4, 1, 2, 3, 5, 6, 6, 3, 2, 2, 1, 3, 6, 4, 1, 6, 5, 3, 2, 5, 1, 5, 3, 3, 3, 5, 2, 1, 4, 3, 6, 1, 1, 3, 4, 6, 2, 5, 1, 6, 5, 6, 6, 6, 5, 4, 2, 2, 2, 1, 5, 2, 5, 5, 1, 6, 3, 4, 2, 1, 3, 4, 3, 5, 6, 3, 2, 6, 1, 1, 4, 1, 2, 3, 5, 1, 1, 2, 1, 5, 2, 1, 5, 2, 2, 4, 3, 2, 4, 5, 3, 3, 4, 6, 1, 2, 5, 2, 2, 6, 5, 3, 5, 4, 5, 4, 3, 1, 4, 1, 1, 6, 6, 5, 6, 5, 4, 6, 5, 3, 3, 1, 6, 4, 2, 6, 5, 4, 5, 5, 6, 5, 5, 4, 5, 6, 6, 5, 4, 5, 4, 2, 3, 6, 5, 3, 5, 4, 5, 5, 3, 3, 3, 1, 5, 1, 4, 4, 3, 2, 5, 4, 2, 6, 4, 3, 6, 6, 2, 4, 4, 1, 6, 1, 3, 1, 3, 5, 6, 1, 3, 4, 1, 3, 3, 3, 5, 1, 2, 6, 1, 3, 1, 6, 6, 1, 2, 6, 3, 4, 5, 3, 2, 1, 6, 6, 6, 2, 5, 6, 5, 6, 3, 3, 3, 4, 4, 5, 4, 1, 2, 4, 2, 5, 1, 5, 2, 6, 2, 2, 6, 4, 4, 2, 5, 2, 6, 3, 6, 6, 3, 1, 6, 6, 6, 3, 4, 4, 2, 6, 2, 1, 3, 4, 5, 3, 5, 4, 3, 5, 1, 5, 6, 3, 5, 6, 3, 4, 1, 3, 1, 6, 4, 1, 5, 2, 5, 6, 6, 6, 3, 4, 3, 2, 1, 1, 5, 5, 5, 5, 2, 2, 3, 1, 1, 2, 1, 6, 1, 4, 6, 6, 1, 1, 1, 1, 1, 5, 3, 3, 1, 5, 1, 5, 2, 4, 2, 3, 3, 5, 5, 5, 3, 2, 2, 2, 4, 1, 2, 5, 6, 4, 1, 3, 3, 4, 1, 1, 5, 2, 5, 6, 1, 2, 2, 2, 2, 3, 1, 1, 3, 6, 2, 1, 4, 2, 2, 1, 6, 3, 3, 1, 5, 1, 4, 2, 2, 6, 2, 1, 1, 2, 1, 6, 6, 1, 1, 6, 2, 3, 6, 3, 5, 4, 2, 6, 1, 6, 3, 2, 3, 3, 3, 4, 6, 5, 4, 6, 4, 1, 4, 2, 4, 3, 2, 5, 6, 1, 2, 1, 4, 3, 5, 3, 3, 3, 4, 4, 3, 3, 3, 4, 4, 5, 1, 3, 2, 3, 2, 3, 5, 2, 5, 6, 6, 2, 2, 4, 6, 6, 2, 2, 2, 1, 5, 3, 2, 3, 6, 3, 2, 3, 4, 3, 1, 4, 2, 5, 3, 4, 1, 2, 6, 3, 1, 6, 2, 4, 5, 1, 1, 6, 2, 6, 3, 6, 3, 5, 3, 5, 6, 6, 3, 3, 6, 1, 2, 4, 1, 3, 5, 6, 2, 1, 2, 3, 3, 5, 4, 2, 3, 1, 2, 3, 6, 5, 1, 2, 1, 2, 2, 3, 5, 3, 2, 2, 2, 1, 3, 5, 5, 5, 5, 5, 5, 4, 4, 5, 5, 4, 2, 5, 3, 2, 4, 1, 3, 2, 2, 2, 2, 2, 1, 2, 4, 3, 2, 1, 3, 1, 5, 2, 6, 6, 2, 1, 4, 6, 6, 2, 5, 3, 2, 5, 6, 6, 6, 1, 2, 3, 4, 5, 1, 1, 3, 4, 5, 3, 2, 4, 1, 5, 3, 6, 6, 5, 6, 3, 5, 3, 5, 1, 4, 3, 4, 1, 3, 1, 6, 6, 3, 1, 2, 3, 2, 3, 3, 3, 3, 4, 4, 1, 3, 2, 6, 3, 1, 1, 4, 4, 5, 2, 3, 3, 6, 6, 5, 4, 5, 3, 5, 3, 6, 2, 3, 2, 3, 1, 4, 3, 5, 6, 5, 6, 2, 4, 4, 2, 4, 6, 2, 1, 6, 6, 2, 1, 6, 1, 1, 5, 5, 4, 5, 4, 6, 3, 5, 2, 5, 6, 4, 4, 1, 4, 5, 6, 5, 6, 4, 2, 5, 5, 3, 1, 6, 3, 3, 4, 2, 6, 6, 6, 5, 3, 1, 4, 3, 2, 2, 2, 4, 1, 3, 5, 3, 2, 5, 4, 4, 1, 5, 2, 5, 1, 4, 6, 2, 5, 2, 4, 4, 1, 3, 3, 2, 2, 3, 2, 2, 6, 5, 5, 3, 2, 5, 6, 4, 4, 4, 5, 5, 3, 2, 5, 5, 5, 3, 5, 2, 3, 6, 2, 6, 1, 3, 1, 4, 4, 6, 6, 5, 6, 2, 5, 4, 4, 5, 4, 3, 2, 1, 1, 6, 1, 1, 5, 4, 2, 4, 4, 2, 4, 4, 5, 5, 1, 5, 2, 5, 4, 4, 4, 3, 3, 2, 5, 3, 2, 1, 5, 1, 6, 1, 5, 2, 4, 3, 4, 3, 6, 1, 4, 1, 6, 4, 3, 4, 4, 3, 5, 1, 2, 4, 5, 4, 5, 6, 4, 5, 2, 3, 2, 3, 2, 5, 2, 2, 2, 4, 6, 2, 1, 6, 1, 4, 1, 4, 2, 3, 5, 3, 3, 4, 1, 4, 4, 6, 4, 3, 6, 6, 3, 6, 5, 4, 3, 3, 2, 1, 4, 2, 4, 2, 4, 1, 5, 1, 5, 3, 3, 4, 6, 5, 6, 3, 6, 5, 3, 5, 5, 4, 3, 4, 6, 4, 5, 2, 2, 2, 5, 2, 5, 2, 1, 3, 5, 1, 3, 4, 1, 3, 3, 3, 5, 5, 6, 4, 2, 3, 2, 3, 4, 6, 4, 6, 2, 1, 4, 6, 3, 5, 5, 2, 2, 1, 5, 3, 4, 2, 6, 3, 1, 4, 1, 3, 1, 4, 2, 1, 5, 6, 2, 3, 2, 4, 4, 3, 5, 6, 6, 5, 3, 2, 2, 2, 2, 5, 2, 2, 1, 4, 5, 5, 2, 4, 2, 3, 5, 6, 6, 6, 3, 5, 2, 1, 3, 2, 2, 2, 6, 4, 5, 4, 1, 6, 1, 2, 5, 4, 5, 2, 2, 3, 6, 2, 3, 6, 3, 1, 4, 4, 1, 5, 4, 2, 6, 2, 2, 6, 1, 6, 6, 3, 1, 3, 5, 2, 1, 1, 1, 4, 3, 1, 4, 6, 5, 5, 6, 6, 4, 6, 3, 2, 4, 3, 6, 3, 4, 4, 4, 3, 5, 2, 2, 1, 2, 2, 2, 1, 2, 6, 4, 4, 5, 4, 5, 1, 1, 2, 5, 1, 1, 4, 3, 4, 2, 2, 6, 6, 3, 4, 3, 5, 6, 1, 5, 4, 2, 6, 5, 3, 5, 1, 3, 1, 2, 6, 6, 1, 4, 2, 1, 3, 2, 2, 3, 1, 4, 6, 1, 4, 1, 5, 4, 1, 4, 5, 5, 5, 1, 2, 5, 6, 6, 4, 6, 5, 5, 4, 2, 5, 4, 4, 6, 3, 4, 1, 1, 2, 5, 5, 6, 3, 1, 1, 3, 1, 2, 1, 6, 6, 5, 1, 1, 5, 4, 2, 1, 3, 4, 5, 1, 5, 4, 5, 3, 4, 6, 1, 6, 5, 1, 3, 5, 4, 4, 2, 3, 3, 4, 4, 5, 1, 3, 5, 2, 6, 6, 4, 4, 3, 5, 5, 2, 3, 5, 6, 4, 6, 6, 4, 6, 5, 5, 4, 4, 6, 2, 3, 1, 1, 2, 4, 1, 3, 3, 3, 5, 3, 2, 1, 5, 2, 4, 1, 4, 4, 6, 5, 3, 5, 3, 2, 6, 1, 5, 2, 3, 5, 1, 4, 3, 1, 6, 3, 6, 5, 6, 1, 5, 4, 1, 1, 6, 3, 5, 5, 6, 6, 6, 5, 4, 1, 5, 4, 5, 3, 5, 6, 1, 2, 2, 1, 5, 1, 1, 1, 5, 5, 3, 2, 2, 5, 2, 2, 2, 1, 5, 3, 6, 5, 4, 3, 5, 2, 3, 5, 2, 1, 5, 3, 1, 1, 4, 5, 3, 4, 4, 4, 1, 2, 2, 6, 1, 6, 4, 4, 3, 3, 5, 2, 2, 2, 2, 1, 3, 1, 4, 3, 2, 2, 3, 2, 6, 6, 5, 4, 1, 4, 6, 6, 5, 1, 4, 3, 3, 6, 3, 2, 2, 6, 6, 4, 6, 1, 4, 4, 5, 1, 2, 2, 4, 6, 1, 3, 6, 5, 4, 2, 5, 3, 1, 2, 2, 4, 5, 1, 2, 4, 3, 6, 6, 5, 6, 5, 4, 4, 5, 4, 1, 6, 4, 2, 4, 2, 1, 3, 4, 5, 4, 6, 1, 2, 5, 3, 4, 5, 4, 3, 5, 1, 3, 2, 5, 6, 5, 3, 6, 6, 1, 5, 6, 6, 1, 3, 4, 3, 1, 3, 2, 1, 4, 6, 4, 1, 4, 5, 6, 2, 5, 4, 4, 2, 5, 1, 4, 1, 4, 5, 1, 2, 6, 1, 4, 1, 3, 5, 1, 3, 1, 1, 1, 1, 5, 3, 3, 3, 1, 5, 4, 5, 3, 3, 2, 6, 3, 5, 2, 3, 5, 2, 2, 6, 6, 2, 3, 3, 5, 3, 6, 3, 5, 1, 6, 4, 3, 6, 2, 2, 2, 2, 1, 3, 4, 2, 2, 2, 5, 5, 1, 3, 4, 6, 2, 2, 1, 4, 2, 4, 1, 6, 3, 2, 6, 6, 3, 5, 6, 4, 3, 1, 1, 1, 2, 1, 5, 4, 6, 5, 4, 1, 5, 2, 4, 4, 5, 1, 2, 1, 2, 3, 2, 5, 5, 3, 3, 3, 3, 3, 3, 1, 1, 1, 6, 4, 1, 2, 1, 3, 4, 6, 3, 1, 2, 6, 1, 2, 1, 2, 6, 2, 5, 5, 6, 6, 1, 4, 6, 1, 5, 2, 4, 2, 5, 1, 2, 2, 1, 1, 2, 3, 5, 1, 5, 5, 3, 2, 4, 1, 5, 3, 3, 3, 5, 4, 4, 5, 5, 5, 4, 3, 1, 2, 4, 5, 4, 2, 5, 2, 5, 1, 5, 1, 3, 2, 2, 3, 4, 1, 4, 6, 5, 4, 5, 1, 6, 1, 2, 5, 4, 5, 4, 5, 3, 5, 1, 2, 2, 3, 6, 4, 3, 5, 1, 5, 3, 2, 5, 5, 6, 5, 2, 2, 1, 2, 4, 2, 1, 6, 4, 3, 1, 2, 1, 1, 6, 5, 4, 4, 2, 2, 5, 4, 6, 1, 6, 4, 2, 1, 2, 3, 5, 4, 4, 5, 6, 3, 4, 5, 2, 4, 3, 4, 3, 4, 5, 2, 4, 5, 1, 2, 6, 5, 6, 3, 1, 1, 4, 5, 4, 1, 4, 1, 6, 6, 2, 4, 3, 5, 1, 3, 6, 1, 3, 5, 5, 5, 3, 2, 5, 2, 4, 6, 3, 6, 4, 6, 2, 4, 6, 4, 1, 5, 3, 1, 3, 3, 1, 5, 1, 3, 6, 5, 6, 2, 2, 3, 6, 1, 2, 4, 3, 4, 6, 4, 6, 4, 6, 6, 1, 5, 4, 5, 1, 6, 1, 1, 1, 3, 1, 3, 3, 2, 5, 4, 5, 6, 6, 3, 1, 4, 3, 2, 2, 3, 6, 6, 1, 1, 4, 5, 2, 4, 2, 2, 2, 1, 4, 1, 2, 3, 1, 4, 5, 5, 5, 2, 1, 4, 2, 3, 6, 5, 4, 2, 1, 5, 6, 4, 4, 4, 5, 4, 3, 4, 3, 5, 1, 1, 4, 6, 6, 4, 2, 4, 2, 5, 5, 5, 6, 5, 5, 2, 3, 4, 6, 4, 3, 3, 6, 4, 4, 5, 4, 3, 2, 3, 5, 5, 6, 6, 5, 2, 3, 1, 6, 1, 3, 6, 4, 2, 3, 5, 3, 4, 1, 2, 4, 1, 2, 2, 1, 4, 1, 2, 1, 1, 4, 5, 6, 6, 4, 1, 1, 3, 1, 5, 4, 6, 6, 2, 3, 5, 4, 1, 3, 3, 4, 6, 4, 3, 1, 2, 6, 4, 5, 3, 4, 4, 6, 6, 6, 4, 5, 3, 2, 2, 1, 3, 3, 4, 1, 6, 5, 3, 5, 2, 2, 6, 6, 1, 5, 2, 4, 6, 2, 3, 5, 5, 6, 6, 2, 2, 3, 2, 6, 2, 6, 4, 4, 4, 3, 6, 1, 5, 1, 1, 3, 2, 2, 2, 4, 4, 5, 5, 3, 4, 5, 3, 4, 3, 1, 5, 5, 1, 2, 5, 6, 4, 2, 1, 1, 1, 1, 2, 3, 2, 6, 4, 4, 6, 5, 5, 3, 6, 6, 3, 5, 4, 1, 6, 4, 4, 2, 1, 6, 6, 3, 2, 6, 5, 1, 6, 6, 4, 6, 1, 3, 3, 6, 1, 6, 5, 4, 3, 5, 1, 5, 3, 6, 4, 6, 6, 1, 5, 6, 4, 6, 6, 6, 1, 4, 4, 6, 1, 5, 1, 1, 5, 5, 4, 3, 2, 4, 6, 1, 2, 3, 5, 6, 5, 4, 6, 2, 5, 4, 6, 3, 5, 5, 3, 6, 6, 1, 4, 5, 5, 4, 2, 3, 2, 4, 4, 5, 5, 6, 2, 5, 6, 1, 5, 5, 5, 4, 3, 4, 4, 6, 1, 6, 6, 3, 2, 6, 3, 4, 3, 1, 3, 1, 1, 6, 1, 4, 2, 4, 2, 2, 1, 2, 1, 1, 1, 6, 1, 5, 6, 1, 1, 3, 4, 2, 3, 1, 1, 4, 5, 5, 2, 2, 5, 5, 4, 2, 3, 5, 4, 5, 5, 6, 2, 3, 5, 1, 6, 1, 1, 5, 3, 1, 4, 1, 1, 6, 1, 6, 3, 5, 3, 5, 5, 3, 4, 4, 1, 6, 2, 3, 6, 6, 2, 5, 5, 6, 1, 3, 6, 4, 1, 4, 6, 2, 3, 1, 3, 3, 2, 3, 5, 2, 5, 2, 5, 1, 2, 6, 4, 3, 6, 2, 4, 6, 3, 4, 5, 4, 1, 3, 1, 5, 3, 6, 5, 3, 2, 2, 2, 6, 2, 4, 3, 3, 1, 4, 5, 2, 4, 4, 1, 5, 3, 1, 2, 1, 4, 4, 2, 1, 6, 4, 5, 6, 2, 2, 2, 3, 3, 6, 3, 3, 6, 3, 5, 2, 1, 2, 3, 4, 5, 5, 1, 3, 1, 2, 6, 2, 3, 6, 2, 1, 4, 6, 3, 6, 3, 2, 1, 1, 4, 3, 5, 3, 6, 4, 3, 5, 6, 3, 4, 5, 3, 3, 5, 1, 4, 2, 5, 4, 3, 3, 6, 1, 1, 5, 5, 1, 2, 5, 2, 5, 4, 3, 4, 4, 5, 1, 1, 4, 2, 6, 5, 2, 4, 6, 4, 4, 1, 4, 6, 2, 6, 6, 4, 2, 6, 3, 5, 1, 3, 3, 2, 3, 6, 5, 3, 4, 2, 4, 3, 5, 3, 2, 3, 1, 3, 5, 5, 3, 4, 3, 3, 2, 3, 3, 3, 2, 3, 4, 6, 4, 6, 4, 6, 2, 4, 1, 1, 5, 2, 3, 1, 5, 6, 3, 1, 4, 1, 5, 6, 6, 3, 2, 1, 3, 2, 5, 3, 5, 4, 6, 2, 5, 1, 1, 3, 1, 6, 4, 1, 2, 6, 3, 6, 5, 2, 4, 3, 6, 2, 1, 1, 4, 4, 5, 6, 6, 1, 4, 3, 4, 1, 2, 3, 4, 5, 5, 4, 5, 2, 5, 5, 6, 1, 3, 6, 4, 6, 2, 2, 5, 4, 1, 6, 4, 6, 4, 2, 3, 1, 3, 1, 3, 1, 2, 5, 3, 4, 6, 4, 3, 1, 3, 1, 4, 2, 3, 5, 2, 2, 1, 6, 4, 5, 1, 5, 5, 3, 1, 6, 4, 3, 1, 3, 2, 5, 6, 2, 1, 2, 6, 6, 5, 6, 4, 5, 5, 6, 1, 2, 4, 6, 1, 6, 1, 5, 4, 5, 2, 1, 6, 4, 6, 4, 2, 2, 2, 1, 5, 4, 5, 5, 3, 6, 6, 3, 2, 5, 5, 3, 4, 2, 6, 3, 5, 3, 6, 2, 6, 6, 3, 3, 5, 6, 3, 5, 6, 2, 2, 5, 6, 1, 1, 2, 3, 2, 6, 3, 2, 2, 6, 6, 1, 5, 2, 4, 3, 3, 2, 6, 3, 4, 1, 1, 2, 6, 4, 4, 3, 3, 4, 3, 5, 2, 3, 3, 3, 4, 5, 2, 5, 3, 2, 4, 1, 1, 3, 1, 4, 2, 4, 3, 1, 3, 3, 1, 6, 6, 5, 4, 4, 4, 4, 3, 5, 6, 4, 2, 6, 4, 4, 3, 1, 1, 6, 2, 6, 3, 3, 5, 4, 6, 4, 1, 4, 1, 4, 5, 2, 1, 2, 6, 4, 4, 2, 6, 2, 2, 5, 1, 6, 3, 3, 5, 4, 2, 4, 6, 4, 5, 2, 1, 5, 2, 6, 2, 2, 1, 3, 5, 1, 1, 3, 3, 2, 1, 3, 6, 6, 2, 2, 1, 6, 2, 5, 4, 3, 2, 1, 2, 2, 5, 4, 2, 4, 5, 4, 2, 5, 1, 4, 2, 2, 1, 6, 2, 2, 2, 5, 5, 6, 2, 5, 3, 1, 5, 3, 1, 3, 5, 3, 2, 6, 5, 4, 4, 5, 5, 6, 5, 2, 2, 5, 5, 1, 4, 6, 4, 3, 2, 4, 6, 5, 4, 3, 6, 5, 2, 1, 1, 3, 5, 4, 2, 6, 6, 4, 5, 3, 3, 2, 4, 2, 5, 4, 5, 3, 5, 2, 2, 5, 2, 3, 1, 6, 1, 6, 2, 4, 5, 2, 6, 3, 4, 6, 1, 4, 2, 6, 6, 1, 3, 6, 3, 5, 2, 4, 1, 4, 3, 4, 2, 6, 1, 2, 5, 1, 6, 4, 2, 1, 5, 4, 4, 3, 5, 4, 1, 6, 5, 6, 4, 4, 2, 5, 1, 5, 6, 1, 6, 2, 6, 3, 1, 2, 4, 6, 2, 4, 2, 2, 3, 5, 4, 6, 1, 5, 1, 1, 6, 4, 4, 3, 2, 1, 5, 4, 2, 4, 2, 2, 2, 2, 5, 6, 3, 6, 6, 3, 4, 5, 5, 5, 2, 2, 3, 1, 5, 1, 1, 5, 3, 1, 5, 6, 2, 4, 5, 1, 4, 6, 2, 5, 1, 6, 2, 3, 6, 6, 3, 4, 6, 2, 4, 4, 1, 4, 3, 1, 3, 2, 5, 3, 3, 6, 1, 1, 4, 4, 3, 6, 2, 3, 6, 6, 2, 6, 3, 3, 2, 1, 1, 1, 6, 2, 5, 4, 3, 6, 1, 3, 5, 5, 3, 1, 6, 6, 2, 1, 2, 4, 3, 3, 4, 1, 4, 1, 3, 6, 4, 2, 2, 5, 5, 4, 5, 3, 1, 1, 2, 4, 6, 2, 3, 1, 5, 2, 5, 6, 5, 2, 2, 4, 2, 5, 6, 6, 3, 2, 2, 2, 5, 6, 1, 2, 1, 5, 3, 3, 3, 1, 2, 6, 1, 1, 4, 6, 4, 6, 4, 3, 6, 2, 4, 4, 3, 4, 3, 3, 4, 2, 3, 1, 3, 2, 6, 1, 4, 1, 1, 1, 5, 4, 1, 6, 2, 2, 6, 4, 6, 5, 4, 2, 5, 5, 3, 2, 6, 2, 2, 1, 3, 3, 1, 1, 5, 2, 2, 3, 5, 5, 4, 6, 1, 4, 5, 3, 2, 2, 5, 1, 3, 2, 6, 4, 5, 1, 4, 4, 2, 1, 1, 6, 6, 3, 3, 4, 3, 5, 3, 4, 5, 5, 5, 6, 1, 2, 4, 3, 5, 6, 4, 3, 6, 1, 4, 3, 1, 2, 3, 4, 6, 6, 2, 2, 3, 6, 5, 5, 1, 2, 5, 3, 1, 6, 1, 3, 6, 5, 1, 2, 6, 6, 5, 4, 5, 2, 4, 4, 1, 2, 4, 3, 5, 3, 6, 4, 1, 5, 4, 2, 6, 6, 5, 2, 4, 4, 1, 5, 6, 3, 5, 5, 2, 1, 6, 2, 2, 1, 3, 2, 2, 6, 5, 5, 6, 4, 5, 4, 2, 2, 1, 2, 5, 5, 1, 6, 2, 5, 1, 1, 2, 5, 3, 2, 3, 3, 6, 2, 1, 3, 4, 3, 5, 1, 5, 1, 6, 4, 1, 6, 6, 3, 3, 3, 6, 6, 4, 3, 4, 4, 3, 6, 1, 5, 6, 6, 1, 6, 1, 4, 1, 2, 1, 6, 1, 2, 4, 1, 2, 3, 2, 3, 3, 4, 4, 6, 5, 5, 6, 5, 2, 6, 4, 4, 1, 6, 1, 1, 3, 6, 5, 4, 2, 6, 3, 4, 2, 6, 5, 6, 4, 4, 6, 4, 2, 2, 4, 1, 3, 3, 4, 4, 3, 1, 5, 6, 6, 6, 1, 2, 6, 4, 4, 2, 4, 1, 6, 2, 6, 6, 4, 4, 3, 5, 2, 1, 5, 6, 2, 1, 5, 2, 5, 5, 6, 4, 6, 3, 3, 4, 2, 1, 6, 4, 4, 6, 6, 5, 3, 4, 6, 3, 2, 3, 2, 6, 4, 5, 4, 3, 6, 5, 4, 3, 3, 4, 1, 1, 3, 4, 6, 6, 3, 5, 2, 5, 3, 2, 2, 2, 3, 6, 2, 4, 1, 6, 4, 4, 2, 2, 1, 1, 2, 4, 5, 6, 4, 2, 3, 5, 4, 3, 1, 3, 2, 1, 6, 4, 3, 6, 6, 3, 6, 4, 5, 1, 6, 6, 6, 2, 1, 2, 5, 4, 4, 1, 1, 3, 6, 3, 3, 1, 3, 4, 1, 3, 3, 5, 6, 2, 3, 6, 3, 2, 3, 5, 3, 5, 1, 6, 1, 2, 2, 4, 3, 3, 4, 2, 3, 1, 3, 1, 5, 6, 5, 5, 1, 4, 5, 4, 1, 5, 5, 4, 1, 1, 5, 5, 1, 4, 1, 4, 2, 3, 5, 1, 4, 4, 5, 3, 2, 1, 2, 4, 4, 3, 4, 6, 5, 1, 4, 4, 5, 5, 3, 1, 1, 4, 2, 3, 2, 1, 4, 3, 1, 5, 5, 3, 6, 1, 2, 5, 3, 2, 2, 3, 1, 2, 6, 3, 5, 5, 1, 4, 5, 4, 5, 4, 4, 3, 5, 6, 5, 4, 2, 6, 2, 1, 2, 3, 2, 6, 6, 2, 2, 2, 6, 2, 4, 2, 1, 4, 5, 5, 4, 4, 5, 6, 6, 4, 5, 6, 5, 6, 6, 4, 4, 3, 4, 2, 6, 6, 2, 4, 1, 3, 5, 2, 4, 2, 2, 4, 4, 6, 6, 1, 3, 6, 2, 6, 2, 3, 5, 6, 5, 4, 3, 2, 5, 6, 6, 1, 6, 5, 4, 6, 1, 1, 1, 1, 6, 1, 1, 2, 5, 3, 1, 2, 4, 3, 6, 3, 6, 3, 2, 6, 2, 4, 1, 3, 1, 4, 4, 3, 5, 1, 1, 6, 1, 2, 4, 5, 6, 2, 2, 1, 6, 2, 4, 5, 1, 3, 6, 5, 3, 6, 3, 2, 4, 1, 1, 3, 2, 1, 5, 3, 1, 2, 3, 1, 2, 3, 6, 5, 4, 4, 2, 1, 2, 3, 1, 6, 2, 2, 6, 2, 2, 5, 5, 4, 1, 1, 2, 5, 3, 6, 6, 2, 3, 1, 1, 3, 2, 4, 3, 5, 2, 3, 2, 3, 5, 1, 3, 5, 1, 2, 4, 4, 6, 1, 1, 4, 4, 6, 1, 3, 6, 4, 4, 3, 2, 2, 4, 5, 2, 5, 6, 5, 6, 2, 2, 4, 6, 6, 2, 6, 3, 4, 2, 1, 2, 1, 3, 1, 6, 1, 2, 4, 3, 6, 4, 4, 4, 4, 6, 5, 6, 5, 6, 6, 4, 3, 1, 2, 6, 3, 2, 5, 6, 1, 4, 2, 3, 1, 1, 6, 6, 2, 2, 6, 4, 2, 3, 3, 6, 3, 2, 1, 6, 2, 5, 3, 3, 2, 6, 6, 1, 1, 3, 6, 2, 6, 5, 4, 4, 4, 6, 1, 2, 5, 3, 1, 1, 2, 2, 2, 4, 2, 6, 4, 4, 5, 3, 1, 1, 5, 4, 5, 3, 3, 6, 3, 6, 3, 3, 1, 1, 4, 3, 3, 1, 6, 5, 4, 3, 1, 4, 3, 6, 4, 6, 4, 5, 5, 5, 2, 2, 5, 1, 4, 3, 2, 3, 2, 6, 1, 5, 2, 4, 4, 5, 3, 5, 6, 2, 1, 3, 2, 6, 3, 5, 2, 4, 4, 1, 2, 3, 5, 2, 2, 4, 1, 4, 5, 6, 4, 5, 6, 1, 4, 1, 6, 6, 3, 4, 4, 1, 6, 5, 4, 4, 1, 3, 5, 1, 3, 3, 3, 5, 1, 2, 5, 1, 2, 3, 6, 1, 2, 3, 6, 4, 5, 2, 1, 5, 4, 5, 1, 4, 3, 6, 2, 4, 4, 5, 3, 6, 3, 4, 5, 1, 5, 2, 1, 6, 1, 2, 5, 5, 6, 3, 4, 5, 2, 2, 6, 2, 4, 1, 1, 3, 6, 6, 6, 3, 6, 3, 6, 3, 3, 3, 4, 4, 4, 4, 3, 3, 5, 6, 4, 2, 2, 6, 4, 3, 6, 6, 3, 4, 5, 4, 5, 1, 3, 5, 4, 3, 4, 2, 4, 2, 6, 6, 4, 2, 2, 3, 1, 6, 5, 5, 5, 3, 2, 4, 6, 4, 3, 3, 2, 5, 1, 6, 4, 3, 1, 3, 4, 6, 4, 4, 1, 4, 3, 4, 5, 2, 3, 2, 2, 6, 4, 1, 1, 3, 2, 4, 6, 5, 4, 5, 2, 4, 2, 1, 2, 6, 4, 3, 6, 6, 3, 4, 3, 1, 4, 1, 2, 1, 5, 3, 4, 3, 2, 3, 4, 3, 4, 3, 6, 6, 3, 1, 6, 3, 1, 3, 2, 6, 5, 1, 5, 6, 3, 1, 3, 3, 1, 4, 4, 3, 5, 3, 3, 2, 4, 1, 1, 4, 4, 3, 1, 4, 6, 2, 2, 3, 2, 2, 4, 2, 3, 3, 2, 6, 6, 6, 2, 5, 1, 5, 4, 3, 6, 6, 4, 4, 4, 3, 4, 4, 1, 2, 3, 1, 3, 1, 6, 4, 5, 6, 6, 4, 3, 2, 2, 1, 3, 4, 4, 4, 3, 4, 5, 1, 4, 5, 3, 6, 5, 6, 1, 6, 5, 2, 4, 1, 6, 2, 4, 1, 4, 6, 5, 2, 2, 1, 5, 6, 5, 1, 1, 1, 6, 3, 1, 6, 5, 5, 6, 3, 4, 6, 4, 1, 4, 6, 4, 3, 6, 4, 4, 4, 5, 5, 5, 2, 4, 5, 4, 4, 1, 3, 3, 6, 2, 3, 6, 1, 1, 2, 6, 6, 1, 1, 3, 3, 1, 2, 4, 4, 5, 1, 4, 5, 5, 4, 1, 6, 4, 1, 1, 2, 2, 5, 4, 6, 4, 3, 2, 3, 5, 2, 5, 5, 2, 5, 2, 2, 5, 2, 6, 2, 1, 2, 4, 5, 4, 3, 4, 6, 4, 5, 1, 4, 2, 6, 4, 3, 5, 1, 5, 3, 1, 5, 2, 4, 3, 2, 5, 4, 5, 5, 3, 3, 1, 6, 6, 6, 1, 6, 3, 4, 4, 3, 4, 6, 5, 4, 4, 4, 5, 1, 1, 4, 3, 2, 1, 1, 3, 1, 6, 2, 6, 4, 1, 2, 2, 4, 6, 1, 2, 6, 3, 4, 6, 3, 2, 2, 1, 3, 6, 4, 5, 5, 4, 5, 3, 2, 1, 3, 4, 2, 2, 2, 2, 3, 1, 3, 2, 4, 6, 5, 3, 6, 2, 4, 4, 6, 1, 3, 5, 3, 2, 1, 5, 5, 2, 4, 5, 2, 3, 4, 2, 3, 3, 3, 1, 2, 2, 3, 2, 6, 1, 1, 6, 1, 4, 3, 2, 5, 6, 1, 6, 1, 5, 2, 2, 2, 1, 4, 2, 2, 4, 3, 1, 4, 5, 5, 3, 6, 3, 5, 2, 5, 5, 5, 1, 2, 1, 4, 4, 2, 5, 3, 1, 6, 3, 2, 3, 6, 4, 3, 1, 1, 1, 3, 5, 2, 1, 3, 2, 1, 1, 1, 3, 2, 1, 6, 3, 4, 6, 6, 5, 6, 4, 3, 5, 1, 2, 2, 3, 6, 6, 1, 3, 2, 3, 2, 4, 4, 4, 3, 5, 5, 1, 2, 2, 1, 2, 1, 6, 3, 5, 3, 1, 1, 5, 5, 3, 2, 5, 3, 6, 3, 1, 2, 6, 4, 2, 4, 2, 2, 1, 4, 1, 4, 2, 5, 2, 3, 3, 5, 5, 6, 5, 4, 4, 1, 1, 6, 3, 4, 4, 6, 4, 2, 5, 3, 2, 6, 3, 3, 6, 2, 5, 1, 6, 4, 3, 3, 1, 6, 2, 2, 3, 4, 6, 3, 5, 1, 1, 6, 4, 2, 4, 4, 5, 2, 3, 3, 5, 2, 3, 1, 3, 2, 3, 3, 2, 1, 4, 2, 4, 2, 5, 5, 1, 4, 1, 4, 2, 4, 3, 5, 5, 4, 5, 2, 6, 6, 1, 6, 5, 2, 2, 4, 4, 4, 6, 3, 3, 5, 1, 5, 5, 6, 6, 6, 3, 1, 4, 6, 5, 4, 2, 2, 5, 3, 1, 4, 1, 6, 4, 4, 1, 4, 1, 5, 1, 2, 3, 4, 5, 6, 6, 3, 3, 6, 6, 3, 2, 4, 2, 2, 6, 4, 5, 6, 1, 2, 2, 5, 2, 5, 3, 2, 1, 2, 4, 1, 5, 3, 5, 6, 3, 3, 6, 6, 4, 2, 3, 4, 1, 2, 4, 2, 3, 6, 3, 1, 4, 5, 4, 4, 3, 1, 4, 4, 6, 2, 3, 6, 6, 1, 5, 3, 4, 2, 3, 6, 4, 3, 4, 5, 1, 2, 6, 2, 6, 1, 2, 3, 3, 2, 5, 2, 4, 3, 3, 6, 1, 6, 6, 2, 4, 5, 3, 3, 6, 5, 5, 4, 3, 5, 3, 4, 1, 1, 1, 5, 3, 6, 3, 2, 4, 5, 5, 2, 2, 3, 1, 4, 4, 6, 5, 3, 3, 5, 4, 1, 4, 2, 6, 2, 4, 1, 5, 3, 5, 5, 1, 1, 1, 3, 2, 4, 1, 2, 1, 4, 2, 1, 6, 4, 1, 1, 2, 4, 2, 6, 4, 4, 4, 3, 1, 5, 3, 5, 6, 1, 5, 1, 6, 5, 5, 5, 3, 1, 2, 5, 6, 5, 2, 1, 4, 1, 2, 3, 6, 4, 5, 1, 5, 4, 3, 3, 2, 4, 4, 1, 4, 3, 1, 6, 6, 6, 1, 3, 6, 2, 5, 5, 4, 1, 4, 1, 6, 5, 1, 2, 1, 4, 5, 4, 5, 3, 5, 1, 2, 4, 4, 5, 3, 2, 5, 1, 2, 3, 5, 1, 4, 6, 6, 5, 4, 2, 2, 3, 4, 4, 3, 5, 4, 5, 3, 6, 4, 6, 5, 5, 1, 1, 2, 5, 2, 2, 5, 6, 3, 4, 5, 1, 1, 1, 2, 6, 3, 2, 6, 2, 5, 2, 5, 1, 5, 2, 1, 3, 6, 3, 5, 6, 6, 3, 3, 4, 3, 2, 1, 5, 5, 4, 2, 2, 4, 1, 2, 1, 3, 3, 2, 4, 6, 2, 2, 4, 6, 5, 2, 4, 5, 4, 1, 2, 5, 1, 6, 2, 1, 1, 3, 2, 5, 4, 5, 3, 2, 5, 6, 2, 2, 5, 2, 4, 6, 1, 4, 2, 3, 3, 3, 4, 2, 5, 6, 1, 6, 2, 6, 2, 3, 2, 6, 6, 4, 6, 6, 3, 6, 2, 3, 4, 4, 2, 4, 5, 6, 5, 3, 1, 2, 2, 5, 2, 4, 1, 5, 1, 4, 4, 5, 4, 5, 4, 1, 2, 1, 4, 2, 5, 6, 2, 4, 5, 6, 5, 6, 5, 5, 5, 4, 3, 6, 1, 4, 6, 6, 3, 5, 3, 3, 2, 4, 6, 5, 2, 2, 1, 2, 1, 3, 6, 4, 6, 2, 4, 6, 3, 1, 4, 3, 4, 4, 4, 2, 1, 3, 2, 2, 2, 3, 6, 6, 6, 5, 6, 3, 5, 5, 4, 4, 6, 3, 3, 6, 3, 3, 2, 4, 4, 6, 3, 1, 5, 2, 6, 1, 6, 6, 2, 2, 3, 2, 6, 5, 4, 4, 3, 1, 4, 3, 2, 3, 1, 2, 4, 2, 4, 5, 5, 5, 1, 6, 6, 4, 2, 1, 2, 4, 1, 4, 5, 5, 6, 2, 4, 4, 5, 1, 2, 1, 3, 1, 5, 4, 2, 4, 4, 2, 6, 2, 5, 1, 3, 2, 4, 3, 6, 2, 5, 4, 5, 6, 5, 4, 1, 2, 2, 1, 3, 4, 6, 1, 2, 6, 1, 4, 3, 5, 2, 3, 2, 2, 3, 5, 2, 6, 3, 4, 5, 2, 5, 2, 6, 1, 2, 5, 4, 3, 3, 6, 4, 1, 6, 4, 1, 2, 4, 2, 3, 3, 2, 1, 6, 4, 4, 3, 3, 3, 5, 5, 6, 5, 2, 5, 2, 2, 4, 6, 1, 2, 3, 3, 5, 4, 3, 6, 4, 1, 4, 6, 4, 2, 1, 4, 4, 2, 3, 5, 6, 4, 2, 5, 6, 4, 6, 6, 1, 2, 6, 4, 3, 3, 4, 3, 1, 1, 5, 3, 2, 2, 1, 3, 4, 2, 5, 6, 6, 1, 1, 1, 4, 4, 4, 4, 2, 4, 2, 1, 2, 3, 3, 2, 1, 1, 2, 4, 6, 3, 4, 3, 3, 1, 6, 4, 2, 3, 3, 3, 5, 5, 3, 1, 3, 2, 3, 4, 5, 6, 5, 2, 1, 3, 4, 1, 1, 4, 3, 3, 1, 2, 6, 6, 6, 5, 3, 3, 3, 4, 2, 1, 4, 3, 2, 5, 2, 4, 2, 5, 4, 5, 4, 1, 3, 1, 5, 4, 2, 5, 4, 4, 6, 2, 6, 1, 1, 5, 6, 5, 4, 5, 5, 5, 2, 2, 1, 5, 3, 4, 6, 5, 4, 3, 5, 3, 5, 3, 5, 3, 5, 1, 2, 4, 2, 4, 6, 3, 6, 3, 6, 6, 2, 1, 5, 3, 3, 5, 1, 3, 4, 4, 6, 2, 1, 6, 5, 5, 5, 2, 1, 5, 5, 5, 3, 3, 1, 5, 5, 2, 5, 6, 2, 2, 6, 6, 4, 6, 5, 3, 6, 6, 2, 5, 4, 6, 2, 1, 2, 1, 1, 1, 4, 3, 4, 2, 2, 1, 4, 1, 2, 1, 4, 1, 3, 3, 5, 5, 2, 4, 5, 6, 1, 6, 3, 4, 6, 1, 4, 2, 4, 5, 1, 4, 5, 5, 4, 1, 3, 5, 3, 2, 4, 4, 4, 3, 1, 1, 4, 5, 4, 5, 2, 6, 2, 3, 2, 2, 4, 4, 3, 1, 3, 3, 3, 6, 1, 4, 2, 6, 6, 1, 2, 1, 6, 3, 3, 3, 1, 1, 2, 2, 2, 3, 2, 2, 4, 2, 4, 3, 2, 3, 5, 2, 4, 1, 5, 2, 6, 6, 1, 1, 6, 2, 4, 6, 3, 5, 2, 1, 1, 5, 5, 5, 5, 6, 4, 6, 3, 6, 4, 5, 4, 4, 6, 5, 5, 1, 5, 3, 1, 3, 2, 1, 2, 1, 2, 2, 6, 4, 4, 6, 2, 5, 2, 5, 6, 2, 4, 6, 5, 6, 2, 6, 6, 6, 1, 4, 4, 3, 6, 1, 5, 4, 6, 4, 1, 2, 5, 3, 2, 5, 5, 4, 1, 6, 3, 1, 3, 6, 5, 3, 6, 2, 5, 6, 1, 3, 1, 2, 5, 6, 2, 2, 6, 1, 5, 5, 1, 1, 1, 5, 3, 4, 1, 6, 5, 6, 6, 5, 1, 4, 4, 5, 6, 1, 3, 3, 4, 1, 3, 1, 2, 2, 5, 1, 5, 4, 2, 5, 6, 2, 2, 4, 1, 3, 5, 6, 4, 5, 1, 6, 5, 5, 6, 2, 5, 3, 1, 3, 1, 5, 1, 5, 3, 5, 4, 5, 6, 5, 3, 4, 3, 5, 4, 5, 4, 5, 2, 3, 5, 3, 1, 6, 3, 1, 5, 4, 6, 2, 4, 5, 6, 6, 6, 3, 6, 3, 1, 5, 3, 4, 2, 2, 4, 5, 5, 1, 4, 6, 2, 3, 1, 6, 3, 2, 3, 1, 3, 4, 1, 2, 2, 4, 3, 4, 4, 1, 5, 5, 4, 1, 4, 2, 4, 5, 5, 6, 3, 5, 5, 2, 2, 4, 1, 1, 6, 1, 4, 1, 3, 5, 4, 3, 2, 6, 6, 2, 6, 4, 5, 2, 6, 2, 4, 3, 6, 4, 3, 3, 2, 3, 6, 1, 5, 5, 5, 1, 5, 5, 4, 5, 5, 5, 2, 1, 4, 1, 4, 5, 5, 2, 1, 6, 6, 3, 5, 6, 4, 5, 2, 5, 1, 4, 2, 1, 1, 4, 3, 5, 5, 3, 1, 3, 5, 6, 4, 2, 4, 2, 5, 5, 4, 1, 4, 3, 4, 6, 5, 5, 5, 1, 6, 1, 4, 1, 3, 4, 1, 1, 5, 3, 1, 4, 6, 4, 4, 6, 6, 6, 6, 2, 4, 1, 3, 4, 6, 4, 4, 4, 1, 6, 6, 2, 5, 2, 1, 4, 4, 2, 1, 6, 6, 4, 2, 4, 6, 4, 4, 1, 3, 1, 1, 4, 6, 4, 2, 5, 2, 6, 2, 5, 4, 3, 1, 5, 1, 4, 6, 2, 4, 2, 3, 1, 6, 3, 5, 3, 1, 5, 5, 3, 3, 1, 4, 1, 2, 6, 6, 6, 5, 4, 6, 6, 4, 3, 4, 1, 4, 1, 3, 1, 3, 2, 3, 2, 2, 2, 1, 1, 1, 2, 3, 3, 4, 5, 5, 5, 4, 1, 4, 5, 5, 4, 2, 6, 5, 2, 5, 1, 4, 5, 4, 2, 5, 1, 5, 5, 5, 3, 4, 4, 5, 6, 6, 2, 2, 4, 2, 1, 5, 1, 6, 3, 2, 3, 4, 4, 5, 2, 5, 3, 6, 6, 2, 3, 1, 6, 5, 3, 2, 6, 5, 5, 2, 3, 2, 6, 2, 1, 4, 3, 2, 5, 2, 3, 6, 1, 4, 4, 4, 6, 1, 2, 5, 4, 6, 6, 4, 6, 6, 3, 3, 3, 2, 3, 6, 5, 6, 6, 3, 1, 4, 2, 6, 3, 1, 3, 2, 6, 1, 3, 6, 5, 6, 6, 6, 3, 1, 5, 3, 5, 1, 4, 6, 1, 1, 1, 5, 2, 4, 1, 2, 3, 1, 5, 2, 4, 2, 4, 5, 1, 5, 3, 6, 4, 2, 3, 6, 2, 1, 6, 2, 1, 6, 4, 2, 2, 2, 3, 1, 1, 5, 2, 1, 5, 6, 2, 1, 6, 4, 6, 2, 5, 4, 3, 2, 3, 3, 5, 4, 1, 5, 5, 2, 3, 1, 4, 4, 6, 2, 2, 1, 5, 3, 4, 2, 1, 1, 2, 5, 6, 2, 2, 2, 6, 5, 3, 5, 5, 1, 5, 5, 2, 4, 1, 1, 2, 4, 2, 6, 4, 5, 2, 2, 1, 3, 2, 5, 6, 2, 4, 5, 2, 3, 3, 6, 5, 5, 2, 3, 5, 2, 1, 5, 1, 3, 3, 5, 2, 6, 2, 4, 3, 5, 3, 5, 1, 6, 5, 2, 1, 3, 4, 1, 2, 4, 1, 4, 6, 6, 4, 4, 5, 5, 2, 4, 1, 6, 6, 2, 6, 2, 6, 3, 5, 6, 3, 1, 1, 6, 6, 4, 1, 2, 5, 3, 3, 6, 5, 2, 4, 5, 2, 4, 1, 4, 5, 4, 4, 1, 6, 1, 3, 3, 2, 6, 2, 4, 5, 4, 4, 1, 5, 2, 1, 3, 6, 3, 4, 6, 2, 6, 6, 2, 3, 5, 3, 6, 5, 5, 3, 1, 6, 6, 3, 4, 5, 4, 4, 4, 2, 1, 2, 5, 5, 4, 5, 4, 1, 1, 1, 4, 4, 3, 2, 6, 6, 4, 5, 6, 6, 3, 5, 4, 5, 5, 1, 5, 1, 2, 4, 4, 3, 5, 3, 1, 2, 4, 1, 1, 2, 3, 2, 2, 3, 5, 1, 2, 6, 1, 4, 3, 2, 2, 5, 2, 5, 3, 5, 2, 1, 3, 6, 4, 2, 3, 5, 6, 1, 6, 5, 2, 2, 3, 6, 5, 2, 2, 6, 4, 1, 3, 5, 5, 6, 3, 2, 1, 6, 6, 6, 5, 3, 4, 5, 4, 4, 1, 3, 3, 2, 3, 3, 5, 4, 2, 4, 2, 4, 4, 1, 4, 6, 1, 5, 2, 3, 3, 4, 3, 6, 3, 2, 3, 6, 6, 2, 6, 5, 2, 5, 6, 1, 4, 2, 3, 5, 5, 6, 6, 2, 2, 6, 5, 6, 1, 3, 1, 6, 4, 3, 6, 6, 1, 6, 1, 5, 2, 1, 6, 3, 1, 2, 6, 2, 2, 2, 6, 5, 1, 5, 5, 5, 6, 6, 5, 1, 6, 4, 4, 6, 1, 5, 2, 5, 2, 6, 1, 3, 4, 2, 1, 5, 5, 4, 3, 3, 1, 4, 3, 4, 4, 4, 4, 3, 6, 6, 2, 4, 1, 6, 6, 5, 3, 3, 5, 1, 1, 4, 2, 4, 2, 4, 5, 5, 6, 4, 2, 2, 5, 1, 5, 2, 4, 4, 6, 5, 6, 6, 1, 2, 1, 5, 5, 4, 1, 6, 5, 4, 1, 2, 2, 6, 4, 3, 2, 1, 6, 4, 3, 1, 5, 1, 2, 3, 3, 6, 1, 6, 4, 5, 3, 4, 3, 6, 5, 2, 6, 2, 5, 5, 2, 6, 6, 1, 5, 1, 4, 2, 2, 4, 1, 1, 4, 2, 5, 3, 5, 6, 4, 6, 6, 2, 5, 5, 4, 2, 6, 3, 3, 1, 6, 1, 5, 1, 4, 1, 5, 4, 3, 5, 1, 1, 4, 3, 1, 5, 3, 6, 4, 2, 3, 4, 1, 2, 3, 5, 1, 5, 1, 6, 1, 4, 4, 5, 1, 4, 3, 5, 5, 2, 6, 5, 4, 4, 6, 6, 6, 5, 5, 4, 3, 4, 4, 2, 2, 5, 5, 2, 2, 1, 3, 6, 1, 4, 4, 6, 2, 2, 3, 5, 3, 2, 1, 2, 5, 1, 6, 2, 2, 4, 2, 2, 4, 3, 3, 6, 2, 5, 2, 4, 3, 6, 1, 6, 6, 2, 2, 6, 3, 1, 1, 2, 5, 6, 1, 4, 5, 1, 5, 1, 2, 6, 5, 1, 5, 4, 6, 6, 4, 6, 2, 3, 4, 2, 6, 5, 4, 6, 5, 6, 3, 1, 5, 6, 3, 1, 3, 6, 5, 1, 3, 1, 1, 3, 3, 1, 6, 5, 4, 3, 6, 1, 1, 5, 3, 3, 3, 2, 3, 4, 3, 1, 2, 4, 4, 4, 2, 5, 4, 4, 4, 2, 4, 5, 6, 1, 6, 5, 4, 4, 2, 2, 5, 2, 1, 6, 2, 4, 3, 3, 6, 1, 3, 2, 3, 3, 1, 6, 3, 4, 4, 3, 6, 3, 6, 6, 1, 6, 6, 1, 3, 4, 6, 2, 2, 5, 3, 5, 4, 1, 2, 5, 6, 6, 2, 2, 6, 1, 2, 1, 2, 6, 6, 2, 1, 4, 6, 3, 2, 6, 6, 1, 4, 6, 5, 2, 1, 5, 1, 6, 1, 1, 2, 3, 1, 4, 5, 5, 2, 6, 3, 4, 3, 2, 5, 3, 3, 3, 5, 3, 2, 2, 1, 6, 4, 2, 3, 3, 3, 5, 5, 5, 3, 1, 5, 1, 1, 4, 3, 5, 3, 5, 2, 3, 5, 3, 4, 5, 5, 3, 2, 2, 5, 1, 6, 5, 2, 6, 2, 6, 3, 4, 4, 3, 5, 6, 5, 6, 6, 3, 3, 4, 4, 1, 4, 5, 4, 1, 5, 1, 3, 5, 5, 2, 6, 1, 1, 2, 3, 4, 3, 6, 3, 2, 3, 6, 1, 6, 2, 6, 4, 3, 5, 2, 3, 1, 1, 1, 2, 4, 4, 6, 5, 1, 4, 1, 5, 6, 2, 1, 3, 1, 6, 5, 4, 2, 5, 6, 2, 2, 6, 2, 5, 5, 4, 2, 5, 6, 2, 2, 3, 6, 1, 3, 1, 6, 6, 6, 4, 4, 1, 1, 6, 6, 4, 2, 4, 6, 3, 1, 1, 5, 1, 2, 2, 5, 6, 3, 5, 1, 5, 3, 2, 1, 5, 1, 4, 2, 3, 1, 5, 1, 6, 3, 2, 2, 2, 3, 5, 4, 3, 5, 6, 6, 1, 5, 1, 6, 3, 5, 5, 2, 1, 6, 5, 6, 3, 5, 3, 5, 2, 6, 1, 4, 5, 2, 3, 5, 5, 3, 6, 5, 4, 4, 4, 3, 4, 1, 6, 1, 1, 2, 3, 2, 1, 6, 5, 5, 6, 1, 5, 3, 2, 5, 4, 4, 1, 6, 1, 4, 6, 5, 3, 6, 5, 3, 6, 1, 1, 3, 2, 3, 4, 4, 2, 6, 2, 4, 6, 4, 2, 1, 5, 6, 2, 2, 6, 6, 2, 6, 1, 5, 6, 6, 5, 5, 1, 1, 2, 4, 3, 1, 4, 3, 4, 6, 2, 4, 1, 1, 2, 2, 2, 1, 2, 4, 6, 4, 4, 3, 2, 6, 2, 4, 1, 4, 6, 3, 3, 1, 5, 6, 4, 5, 6, 5, 6, 1, 2, 3, 3, 3, 1, 2, 2, 4, 3, 3, 6, 5, 4, 4, 6, 6, 6, 1, 6, 5, 1, 6, 2, 3, 1, 4, 3, 6, 6, 2, 1, 3, 1, 3, 5, 2, 4, 3, 5, 1, 3, 1, 4, 4, 2, 2, 5, 1, 5, 1, 2, 2, 3, 5, 1, 5, 4, 4, 5, 6, 4, 6, 5, 3, 4, 4, 3, 5, 3, 2, 2, 5, 6, 3, 5, 1, 6, 4, 3, 4, 6, 2, 6, 1, 1, 4, 6, 1, 4, 2, 5, 6, 2, 2, 5, 1, 6, 4, 5, 2, 5, 4, 3, 6, 5, 4, 2, 4, 5, 3, 2, 6, 5, 3, 5, 5, 1, 6, 3, 3, 5, 3, 2, 2, 4, 1, 3, 1, 6, 6, 1, 1, 6, 6, 1, 4, 2, 4, 4, 5, 4, 2, 6, 1, 4, 2, 1, 3, 4, 1, 2, 5, 6, 6, 2, 2, 6, 6, 2, 2, 2, 1, 4, 6, 1, 4, 5, 3, 3, 3, 2, 3, 3, 5, 6, 3, 6, 1, 3, 4, 2, 1, 1, 6, 1, 4, 6, 1, 2, 4, 5, 5, 4, 5, 1, 3, 5, 4, 1, 4, 2, 1, 5, 1, 6, 6, 3, 4, 1, 3, 3, 5, 4, 1, 5, 6, 3, 2, 2, 1, 2, 4, 1, 5, 5, 4, 6, 1, 5, 1, 5, 2, 6, 6, 6, 6, 4, 1, 1, 5, 1, 2, 2, 1, 5, 1, 5, 6, 5, 6, 2, 5, 6, 4, 6, 1, 4, 3, 3, 2, 6, 6, 2, 2, 1, 6, 2, 2, 6, 3, 1, 1, 6, 2, 2, 6, 1, 4, 3, 3, 2, 2, 2, 5, 2, 4, 1, 3, 5, 5, 2, 1, 5, 6, 1, 3, 1, 5, 6, 5, 4, 4, 2, 5, 1, 3, 6, 3, 5, 5, 5, 6, 5, 6, 3, 2, 6, 5, 3, 3, 4, 5, 3, 5, 6, 5, 4, 1, 1, 1, 1, 3, 5, 4, 6, 4, 3, 3, 5, 1, 6, 2, 5, 5, 6, 4, 5, 4, 2, 5, 3, 6, 4, 3, 6, 3, 2, 1, 1, 6, 1, 4, 1, 6, 4, 6, 3, 3, 1, 3, 4, 1, 2, 5, 6, 5, 4, 6, 5, 1, 4, 3, 5, 1, 3, 1, 1, 5, 2, 4, 2, 4, 3, 1, 2, 1, 1, 4, 6, 3, 3, 5, 5, 6, 2, 3, 2, 6, 6, 1, 6, 2, 1, 2, 6, 3, 4, 6, 3, 2, 2, 2, 4, 5, 2, 2, 2, 4, 2, 5, 5, 5, 3, 5, 3, 2, 6, 3, 5, 5, 5, 3, 2, 2, 2, 3, 1, 2, 2, 1, 4, 1, 3, 6, 4, 2, 4, 2, 2, 5, 3, 6, 2, 6, 1, 6, 3, 3, 3, 1, 5, 3, 6, 2, 6, 5, 4, 6, 1, 4, 6, 4, 5, 1, 1, 1, 1, 1, 1, 2, 3, 2, 4, 1, 6, 1, 2, 3, 2, 5, 2, 2, 5, 2, 3, 5, 2, 6, 2, 5, 6, 1, 3, 2, 5, 6, 4, 6, 4, 1, 5, 4, 1, 1, 4, 3, 5, 3, 3, 4, 2, 6, 1, 1, 4, 6, 3, 2, 6, 1, 4, 1, 5, 4, 1, 6, 5, 2, 3, 3, 3, 1, 4, 4, 1, 5, 2, 1, 4, 5, 4, 1, 2, 1, 6, 4, 6, 5, 5, 1, 5, 3, 1, 1, 2, 5, 6, 6, 4, 3, 6, 3, 6, 1, 2, 5, 6, 4, 2, 6, 4, 5, 1, 2, 5, 5, 3, 6, 1, 1, 4, 1, 1, 4, 5, 4, 2, 1, 6, 4, 3, 2, 1, 1, 5, 4, 1, 2, 3, 4, 5, 2, 6, 4, 6, 3, 3, 6, 3, 4, 2, 6, 3, 5, 1, 2, 2, 1, 6, 4, 1, 1, 3, 6, 1, 3, 6, 2, 2, 6, 3, 1, 4, 1, 3, 5, 5, 1, 4, 5, 4, 1, 5, 5, 1, 4, 5, 4, 3, 4, 4, 4, 4, 4, 1, 4, 3, 6, 6, 1, 1, 2, 4, 4, 1, 1, 6, 4, 6, 5, 5, 3, 1, 1, 5, 6, 1, 4, 6, 5, 2, 4, 3, 6, 4, 1, 5, 6, 5, 2, 4, 3, 4, 4, 6, 4, 6, 6, 1, 5, 6, 6, 5, 6, 5, 1, 2, 4, 5, 2, 3, 2, 4, 6, 2, 3, 6, 6, 5, 6, 1, 2, 5, 6, 6, 4, 1, 3, 1, 6, 5, 1, 3, 4, 6, 2, 4, 3, 3, 3, 3, 3, 2, 5, 5, 2, 5, 5, 5, 1, 5, 2, 3, 1, 2, 1, 6, 6, 2, 5, 6, 5, 6, 6, 6, 6, 4, 6, 6, 5, 1, 5, 5, 2, 2, 4, 4, 5, 2, 1, 3, 6, 1, 3, 6, 2, 2, 3, 2, 6, 5, 1, 6, 6, 4, 6, 2, 3, 5, 2, 6, 2, 4, 3, 3, 5, 6, 5, 5, 6, 5, 5, 4, 2, 2, 6, 1, 5, 2, 4, 2, 4, 2, 1, 6, 1, 6, 1, 1, 5, 1, 5, 4, 4, 6, 1, 4, 3, 3, 3, 6, 4, 4, 1, 1, 3, 6, 4, 4, 2, 2, 5, 2, 1, 6, 6, 6, 3, 2, 1, 3, 3, 2, 2, 3, 3, 2, 6, 1, 1, 6, 2, 3, 2, 6, 1, 1, 3, 5, 6, 4, 2, 3, 5, 6, 6, 1, 4, 4, 3, 6, 3, 3, 6, 5, 1, 5, 1, 2, 2, 1, 1, 2, 2, 6, 6, 6, 6, 4, 3, 6, 2, 1, 4, 5, 5, 1, 5, 2, 1, 2, 2, 3, 2, 6, 3, 2, 3, 3, 4, 6, 3, 1, 4, 2, 6, 1, 4, 2, 4, 4, 2, 3, 3, 2, 4, 4, 4, 6, 1, 4, 3, 6, 6, 4, 3, 1, 4, 4, 6, 5, 6, 5, 6, 4, 4, 6, 6, 3, 1, 5, 4, 2, 1, 6, 3, 6, 2, 4, 2, 3, 2, 5, 3, 6, 4, 1, 2, 5, 5, 4, 1, 3, 6, 6, 3, 5, 3, 1, 4, 1, 5, 5, 6, 1, 2, 6, 4, 2, 4, 3, 3, 4, 5, 5, 3, 6, 3, 5, 2, 4, 4, 4, 5, 2, 2, 4, 5, 4, 1, 6, 4, 1, 1, 6, 2, 3, 2, 1, 6, 1, 4, 2, 1, 6, 2, 3, 1, 6, 5, 3, 2, 2, 4, 5, 1, 5, 2, 3, 1, 2, 1, 6, 1, 5, 5, 2, 6, 2, 3, 2, 2, 6, 4, 5, 1, 1, 5, 3, 5, 6, 1, 2, 1, 6, 4, 4, 1, 2, 3, 5, 1, 4, 3, 5, 5, 5, 2, 2, 3, 1, 6, 5, 3, 6, 3, 2, 5, 5, 1, 1, 3, 2, 2, 2, 5, 2, 4, 3, 4, 5, 4, 6, 1, 3, 1, 4, 3, 4, 6, 1, 1, 3, 4, 6, 1, 2, 5, 2, 1, 4, 1, 2, 1, 3, 5, 3, 1, 1, 3, 3, 6, 2, 2, 5, 6, 5, 2, 4, 1, 4, 4, 6, 1, 1, 3, 6, 4, 3, 4, 1, 6, 4, 3, 4, 6, 1, 2, 3, 3, 2, 1, 2, 5, 6, 3, 4, 5, 5, 5, 6, 3, 5, 3, 3, 4, 2, 5, 2, 4, 2, 1, 1, 2, 1, 6, 1, 1, 4, 5, 5, 1, 2, 3, 5, 5, 6, 2, 2, 6, 4, 1, 4, 1, 1, 4, 6, 3, 4, 6, 2, 5, 3, 2, 5, 2, 4, 3, 2, 5, 6, 5, 1, 3, 4, 2, 5, 6, 4, 2, 3, 1, 2, 2, 6, 4, 5, 2, 1, 4, 6, 3, 4, 5, 4, 2, 2, 6, 1, 1, 2, 4, 5, 6, 2, 4, 3, 4, 1, 5, 1, 1, 3, 2, 2, 6, 4, 3, 4, 3, 5, 6, 2, 4, 4, 1, 1, 6, 6, 2, 3, 4, 3, 4, 3, 4, 6, 4, 2, 2, 6, 4, 3, 6, 6, 3, 5, 3, 5, 4, 1, 3, 1, 3, 1, 2, 6, 5, 3, 2, 5, 5, 6, 3, 4, 5, 2, 4, 3, 3, 1, 2, 2, 5, 3, 6, 6, 4, 6, 4, 6, 5, 2, 1, 3, 6, 6, 1, 4, 2, 4, 3, 4, 3, 1, 5, 2, 4, 1, 6, 1, 6, 1, 5, 5, 2, 2, 1, 5, 4, 6, 3, 2, 2, 1, 1, 6, 3, 6, 3, 6, 1, 2, 3, 4, 4, 3, 6, 1, 5, 3, 1, 4, 2, 2, 5, 5, 5, 2, 5, 3, 5, 6, 5, 4, 3, 6, 3, 1, 5, 6, 3, 2, 2, 5, 6, 5, 2, 4, 6, 3, 4, 4, 2, 2, 4, 2, 5, 5, 3, 2, 2, 2, 3, 6, 6, 1, 6, 1, 6, 2, 1, 6, 3, 1, 2, 4, 4, 6, 1, 1, 5, 1, 2, 4, 4, 3, 2, 2, 4, 2, 6, 5, 2, 5, 3, 5, 4, 4, 5, 5, 6, 3, 2, 6, 6, 5, 2, 1, 2, 6, 5, 2, 5, 1, 5, 3, 5, 5, 2, 6, 1, 3, 4, 5, 5, 2, 2, 3, 6, 6, 2, 6, 2, 6, 2, 5, 4, 6, 6, 2, 2, 2, 1, 5, 3, 2, 4, 4, 6, 3, 6, 2, 1, 1, 1, 1, 3, 4, 1, 1, 6, 3, 5, 3, 3, 2, 2, 3, 2, 2, 3, 3, 6, 6, 3, 3, 1, 1, 2, 2, 4, 6, 4, 2, 5, 1, 4, 4, 4, 3, 6, 3, 4, 5, 5, 1, 6, 3, 6, 1, 6, 1, 4, 4, 3, 6, 4, 2, 3, 6, 2, 5, 1, 3, 1, 4, 1, 4, 1, 4, 2, 5, 5, 4, 3, 1, 5, 6, 6, 2, 2, 6, 6, 2, 5, 6, 3, 2, 6, 3, 3, 1, 4, 3, 1, 6, 4, 1, 4, 1, 1, 2, 6, 2, 1, 4, 5, 4, 2, 1, 2, 2, 4, 5, 5, 6, 3, 3, 1, 6, 2, 2, 1, 2, 5, 3, 3, 6, 6, 3, 4, 3, 4, 3, 6, 2, 1, 4, 2, 6, 3, 6, 1, 5, 5, 3, 2, 3, 5, 6, 3, 3, 6, 2, 6, 3, 3, 5, 5, 3, 4, 1, 4, 2, 6, 4, 6, 5, 2, 2, 3, 4, 4, 1, 1, 3, 2, 5, 4, 1, 3, 5, 5, 2, 3, 3, 4, 4, 6, 6, 5, 2, 3, 2, 2, 4, 6, 5, 3, 5, 5, 5, 6, 1, 3, 4, 5, 6, 3, 6, 1, 2, 4, 4, 1, 1, 4, 6, 6, 4, 6, 1, 2, 6, 4, 6, 3, 4, 4, 4, 4, 1, 4, 2, 5, 6, 2, 2, 1, 6, 4, 3, 2, 2, 4, 6, 5, 3, 6, 5, 3, 2, 5, 6, 2, 2, 3, 5, 2, 6, 1, 1, 2, 5, 4, 4, 1, 3, 2, 1, 4, 1, 3, 2, 4, 2, 3, 6, 5, 5, 2, 3, 2, 4, 6, 1, 6, 1, 1, 3, 5, 3, 1, 6, 3, 2, 4, 6, 2, 6, 1, 4, 1, 3, 4, 4, 4, 5, 6, 2, 4, 3, 4, 5, 1, 5, 4, 6, 4, 1, 1, 3, 3, 3, 4, 4, 4, 2, 6, 2, 2, 2, 1, 6, 1, 5, 6, 2, 4, 3, 3, 3, 1, 2, 6, 5, 5, 2, 6, 3, 6, 2, 1, 5, 3, 5, 4, 3, 5, 5, 3, 2, 5, 4, 5, 2, 6, 3, 2, 5, 6, 3, 2, 5, 2, 4, 6, 3, 1, 1, 6, 1, 4, 3, 1, 5, 4, 5, 6, 6, 4, 6, 5, 3, 5, 4, 4, 6, 3, 3, 4, 1, 1, 2, 3, 1, 6, 3, 1, 1, 6, 4, 3, 2, 2, 4, 2, 3, 3, 1, 2, 2, 3, 4, 3, 4, 4, 4, 5, 4, 3, 1, 4, 4, 4, 5, 4, 6, 5, 2, 5, 3, 6, 4, 2, 2, 6, 5, 4, 5, 3, 5, 5, 1, 2, 6, 1, 3, 6, 1, 6, 6, 4, 1, 3, 6, 1, 1, 5, 3, 2, 6, 1, 3, 2, 2, 3, 2, 3, 2, 5, 4, 5, 1, 1, 3, 6, 3, 4, 1, 4, 6, 4, 3, 1, 1, 3, 4, 3, 5, 5, 3, 2, 4, 6, 4, 2, 5, 6, 3, 1, 5, 4, 3, 4, 6, 3, 2, 3, 4, 3, 2, 4, 3, 3, 5, 6, 2, 2, 6, 2, 3, 6, 6, 1, 1, 2, 2, 2, 5, 5, 1, 4, 2, 2, 3, 4, 4, 1, 1, 4, 2, 4, 1, 6, 5, 2, 1, 5, 3, 3, 2, 5, 6, 6, 3, 6, 6, 1, 5, 4, 1, 5, 6, 1, 2, 5, 3, 6, 4, 1, 2, 1, 5, 1, 6, 5, 1, 3, 6, 6, 1, 4, 6, 5, 2, 5, 5, 5, 3, 6, 2, 1, 1, 5, 2, 2, 2, 6, 6, 1, 6, 3, 1, 6, 6, 6, 6, 3, 1, 5, 2, 2, 1, 1, 2, 2, 4, 5, 2, 2, 1, 5, 4, 4, 1, 2, 4, 3, 4, 5, 6, 3, 5, 3, 5, 6, 4, 4, 2, 6, 3, 4, 4, 4, 1, 2, 3, 2, 1, 3, 4, 1, 6, 2, 3, 6, 5, 2, 4, 6, 4, 2, 2, 5, 1, 5, 5, 3, 4, 6, 6, 6, 3, 5, 3, 3, 5, 5, 4, 2, 5, 2, 3, 3, 3, 5, 3, 5, 4, 3, 2, 5, 5, 1, 6, 4, 2, 3, 5, 6, 5, 2, 5, 5, 1, 4, 4, 6, 3, 3, 1, 5, 5, 2, 2, 6, 6, 2, 3, 3, 5, 5, 5, 5, 2, 2, 6, 2, 5, 2, 2, 5, 1, 5, 6, 4, 2, 4, 4, 3, 6, 1, 3, 2, 2, 2, 4, 5, 4, 2, 5, 1, 1, 5, 1, 1, 5, 4, 2, 1, 5, 1, 2, 6, 1, 4, 3, 2, 3, 6, 4, 6, 4, 4, 5, 4, 4, 6, 5, 3, 1, 3, 3, 1, 4, 5, 6, 4, 3, 4, 3, 1, 3, 2, 3, 6, 6, 1, 2, 2, 2, 5, 4, 1, 2, 4, 2, 6, 3, 3, 5, 5, 2, 4, 1, 5, 4, 3, 2, 1, 1, 2, 6, 4, 1, 1, 5, 3, 3, 4, 1, 2, 5, 2, 2, 2, 4, 2, 5, 2, 4, 3, 4, 2, 4, 1, 1, 1, 2, 1, 2, 3, 3, 1, 4, 4, 2, 6, 1, 3, 5, 3, 6, 2, 5, 3, 4, 2, 3, 6, 3, 1, 3, 4, 1, 5, 2, 2, 1, 5, 6, 5, 3, 2, 4, 3, 5, 1, 2, 1, 2, 5, 1, 3, 2, 5, 6, 2, 6, 1, 2, 2, 2, 2, 6, 2, 5, 6, 2, 2, 6, 6, 5, 3, 5, 5, 4, 2, 6, 5, 2, 4, 5, 6, 6, 6, 5, 2, 6, 2, 4, 4, 5, 2, 6, 1, 5, 5, 2, 5, 2, 6, 2, 4, 2, 4, 1, 3, 1, 4, 2, 4, 2, 5, 5, 4, 4, 1, 1, 2, 2, 5, 5, 2, 3, 5, 4, 3, 1, 1, 4, 4, 6, 1, 4, 2, 4, 2, 5, 1, 1, 3, 6, 1, 2, 2, 6, 2, 6, 4, 5, 3, 6, 2, 5, 6, 2, 3, 3, 4, 5, 1, 4, 1, 5, 6, 4, 3, 1, 3, 1, 2, 4, 1, 3, 6, 2, 6, 5, 2, 5, 1, 6, 4, 4, 5, 1, 2, 6, 5, 2, 6, 3, 4, 5, 6, 4, 2, 1, 3, 6, 4, 5, 2, 3, 5, 2, 2, 4, 6, 4, 2, 4, 6, 1, 2, 6, 4, 2, 4, 1, 1, 1, 6, 2, 2, 4, 2, 5, 4, 5, 1, 3, 4, 6, 5, 4, 3, 6, 2, 4, 1, 1, 3, 3, 4, 4, 3, 1, 3, 5, 2, 1, 1, 1, 2, 4, 3, 4, 6, 1, 4, 1, 6, 4, 3, 2, 4, 2, 4, 2, 6, 3, 4, 6, 1, 6, 4, 5, 4, 3, 6, 6, 6, 6, 6, 2, 1, 1, 3, 6, 1, 5, 2, 4, 2, 5, 5, 6, 2, 1, 1, 3, 6, 1, 5, 1, 5, 6, 1, 6, 2, 4, 2, 1, 6, 1, 6, 2, 2, 2, 5, 1, 4, 2, 4, 2, 6, 2, 3, 1, 5, 5, 3, 4, 1, 3, 6, 1, 2, 4, 5, 4, 2, 6, 4, 3, 2, 3, 6, 3, 1, 1, 5, 5, 5, 4, 5, 4, 5, 5, 5, 6, 1, 2, 6, 2, 3, 6, 3, 1, 3, 2, 4, 6, 6, 1, 4, 1, 2, 6, 1, 2, 2, 4, 2, 2, 2, 5, 2, 3, 5, 2, 5, 1, 3, 3, 1, 1, 2, 1, 1, 5, 6, 2, 1, 3, 2, 5, 1, 6, 6, 2, 4, 1, 4, 1, 1, 2, 1, 1, 1, 3, 4, 5, 4, 3, 6, 4, 5, 1, 5, 6, 5, 5, 2, 2, 3, 5, 4, 4, 1, 3, 5, 6, 4, 4, 2, 6, 6, 4, 2, 2, 2, 1, 3, 2, 4, 6, 1, 1, 3, 6, 1, 5, 3, 5, 6, 2, 2, 2, 5, 5, 3, 2, 6, 3, 2, 4, 4, 6, 2, 4, 3, 3, 3, 3, 2, 3, 1, 3, 5, 6, 6, 2, 6, 5, 2, 3, 2, 5, 5, 3, 5, 2, 2, 6, 4, 2, 6, 6, 3, 6, 3, 6, 6, 4, 3, 2, 3, 3, 1, 6, 1, 5, 5, 4, 4, 3, 6, 3, 2, 2, 6, 5, 1, 1, 5, 5, 5, 1, 1, 2, 2, 3, 1, 2, 3, 4, 4, 5, 3, 4, 4, 6, 1, 6, 5, 6, 6, 3, 4, 6, 5, 4, 1, 3, 5, 6, 1, 3, 4, 3, 1, 4, 3, 6, 4, 4, 4, 2, 2, 3, 5, 6, 2, 4, 2, 5, 3, 1, 2, 5, 1, 1, 6, 5, 6, 2, 1, 6, 4, 3, 4, 4, 2, 5, 3, 6, 2, 1, 3, 1, 1, 1, 1, 6, 6, 4, 2, 5, 3, 3, 5, 3, 1, 2, 3, 3, 6, 5, 1, 5, 4, 3, 4, 6, 3, 2, 5, 3, 1, 3, 4, 1, 5, 5, 5, 2, 2, 6, 1, 6, 5, 5, 4, 3, 3, 1, 1, 3, 4, 6, 6, 4, 4, 4, 1, 5, 5, 3, 1, 1, 2, 4, 2, 6, 3, 4, 4, 6, 3, 4, 4, 4, 4, 1, 5, 3, 4, 3, 4, 1, 2, 6, 1, 1, 6, 6, 6, 5, 4, 2, 3, 2, 1, 4, 5, 1, 2, 4, 5, 2, 5, 1, 4, 1, 2, 3, 3, 1, 2, 2, 6, 1, 4, 2, 4, 3, 2, 5, 3, 5, 5, 3, 4, 1, 3, 3, 1, 4, 4, 4, 1, 3, 4, 4, 3, 1, 3, 2, 6, 2, 1, 1, 3, 4, 4, 3, 3, 6, 6, 5, 6, 3, 1, 4, 2, 6, 1, 4, 2, 2, 5, 5, 5, 3, 2, 3, 1, 2, 4, 3, 4, 2, 4, 1, 3, 3, 1, 3, 6, 2, 3, 5, 4, 3, 2, 3, 6, 3, 6, 4, 3, 6, 3, 6, 4, 6, 2, 2, 2, 3, 4, 1, 1, 5, 6, 1, 3, 4, 3, 2, 6, 1, 6, 1, 2, 6, 5, 6, 5, 6, 3, 4, 6, 3, 3, 5, 3, 1, 3, 3, 4, 6, 4, 5, 5, 4, 1, 5, 5, 6, 3, 1, 5, 6, 2, 3, 1, 6, 4, 6, 2, 3, 4, 3, 4, 3, 1, 5, 5, 6, 2, 2, 5, 4, 3, 1, 4, 5, 1, 3, 2, 3, 1, 2, 4, 4, 2, 4, 5, 6, 6, 1, 3, 6, 4, 2, 6, 5, 5, 6, 3, 1, 3, 1, 2, 1, 1, 2, 1, 2, 5, 3, 5, 2, 4, 4, 3, 1, 4, 2, 3, 4, 5, 4, 6, 4, 6, 6, 4, 4, 6, 1, 1, 5, 5, 3, 6, 2, 3, 4, 4, 1, 3, 1, 1, 3, 2, 2, 6, 1, 6, 6, 4, 3, 6, 5, 6, 4, 6, 6, 1, 2, 1, 2, 6, 2, 5, 4, 6, 5, 3, 3, 4, 5, 3, 1, 1, 1, 1, 6, 5, 1, 2, 1, 1, 1, 1, 4, 3, 5, 6, 2, 5, 5, 2, 2, 4, 4, 5, 4, 4, 1, 1, 3, 2, 3, 6, 2, 3, 3, 3, 5, 5, 6, 6, 3, 1, 3, 5, 2, 4, 2, 5, 4, 2, 5, 2, 4, 1, 3, 4, 1, 6, 4, 6, 5, 1, 5, 4, 2, 4, 1, 2, 3, 5, 6, 6, 3, 5, 3, 3, 6, 6, 2, 5, 5, 4, 1, 3, 2, 6, 3, 4, 5, 5, 4, 3, 5, 2, 2, 6, 2, 5, 2, 2, 3, 6, 1, 1, 6, 3, 2, 2, 5, 3, 2, 2, 6, 2, 4, 4, 1, 5, 5, 2, 2, 2, 4, 4, 2, 3, 1, 1, 6, 2, 5, 6, 2, 2, 6, 5, 2, 5, 4, 1, 5, 3, 4, 2, 2, 1, 4, 3, 1, 1, 3, 5, 6, 2, 3, 3, 4, 4, 3, 1, 4, 3, 3, 5, 2, 4, 1, 6, 3, 2, 6, 4, 3, 1, 2, 5, 2, 3, 4, 3, 1, 1, 6, 4, 3, 1, 3, 6, 2, 5, 6, 1, 1, 1, 1, 4, 3, 1, 5, 5, 1, 3, 2, 3, 4, 3, 1, 6, 4, 1, 6, 5, 5, 6, 6, 6, 1, 4, 1, 4, 6, 6, 5, 1, 6, 3, 4, 4, 1, 2, 3, 4, 2, 4, 4, 5, 6, 6, 6, 5, 6, 4, 6, 5, 4, 4, 2, 1, 6, 6, 6, 1, 2, 1, 1, 4, 3, 2, 6, 2, 5, 6, 6, 4, 5, 6, 1, 4, 4, 3, 5, 6, 5, 3, 6, 2, 2, 5, 4, 2, 4, 3, 2, 1, 2, 6, 2, 1, 1, 6, 4, 5, 1, 6, 2, 5, 5, 4, 2, 4, 1, 4, 3, 4, 4, 6, 5, 4, 5, 1, 6, 4, 1, 6, 5, 6, 4, 1, 1, 4, 6, 1, 6, 4, 4, 3, 1, 5, 5, 4, 4, 3, 6, 4, 6, 6, 4, 6, 2, 5, 5, 1, 2, 3, 6, 1, 4, 2, 1, 2, 3, 5, 3, 6, 2, 3, 4, 6, 6, 2, 5, 2, 1, 1, 3, 4, 6, 4, 6, 6, 3, 2, 2, 3, 3, 2, 1, 1, 6, 1, 6, 3, 5, 2, 1, 5, 6, 6, 4, 5, 3, 5, 3, 1, 5, 2, 3, 6, 4, 3, 2, 2, 6, 3, 2, 2, 2, 2, 4, 6, 4, 3, 6, 1, 5, 3, 4, 1, 3, 6, 2, 3, 4, 1, 4, 3, 5, 1, 1, 2, 1, 4, 1, 3, 6, 3, 2, 2, 3, 5, 6, 6, 3, 4, 4, 6, 2, 4, 3, 5, 6, 4, 2, 3, 5, 4, 4, 5, 1, 1, 2, 3, 5, 1, 1, 2, 5, 4, 5, 4, 4, 6, 2, 4, 4, 3, 6, 4, 2, 1, 5, 2, 6, 2, 4, 2, 5, 2, 1, 1, 4, 6, 5, 1, 6, 2, 3, 2, 5, 6, 2, 6, 6, 2, 5, 4, 1, 2, 4, 6, 3, 6, 4, 3, 5, 6, 5, 2, 6, 1, 2, 3, 3, 5, 2, 5, 6, 3, 1, 5, 4, 2, 2, 2, 2, 6, 3, 2, 5, 5, 6, 3, 1, 6, 3, 6, 5, 2, 5, 3, 2, 4, 3, 3, 4, 1, 4, 6, 5, 3, 4, 5, 3, 1, 6, 6, 3, 3, 2, 6, 1, 6, 6, 1, 5, 6, 2, 6, 3, 2, 1, 3, 4, 5, 1, 5, 1, 2, 2, 3, 4, 1, 2, 2, 5, 2, 1, 4, 2, 2, 5, 1, 3, 1, 3, 1, 2, 1, 4, 2, 5, 3, 1, 3, 6, 4, 1, 5, 2, 2, 5, 2, 4, 3, 5, 2, 6, 4, 4, 3, 5, 1, 1, 5, 5, 5, 4, 1, 3, 1, 2, 4, 6, 4, 4, 6, 2, 6, 1, 5, 4, 2, 2, 3, 6, 1, 6, 3, 3, 3, 2, 1, 3, 4, 2, 3, 1, 4, 1, 4, 1, 3, 5, 3, 4, 3, 4, 5, 6, 3, 1, 4, 6, 2, 6, 1, 6, 2, 1, 1, 6, 1, 3, 6, 2, 3, 6, 4, 5, 4, 1, 6, 3, 6, 1, 1, 5, 5, 1, 6, 3, 5, 3, 6, 1, 2, 4, 2, 6, 1, 3, 6, 4, 2, 1, 2, 5, 4, 4, 3, 3, 4, 2, 5, 6, 3, 6, 5, 1, 2, 1, 1, 4, 1, 6, 5, 5, 3, 3, 5, 6, 5, 2, 4, 2, 2, 1, 6, 3, 5, 3, 1, 1, 5, 6, 2, 5, 1, 3, 6, 5, 1, 5, 5, 5, 5, 5, 1, 3, 5, 2, 5, 1, 5, 2, 4, 4, 4, 1, 4, 5, 1, 1, 1, 2, 3, 5, 4, 3, 2, 6, 2, 1, 4, 1, 6, 2, 2, 5, 6, 2, 5, 1, 1, 5, 3, 2, 1, 3, 1, 3, 4, 1, 1, 5, 1, 5, 4, 1, 2, 6, 2, 5, 5, 1, 3, 4, 2, 2, 3, 6, 4, 2, 2, 3, 3, 5, 6, 4, 5, 5, 4, 3, 5, 3, 6, 4, 3, 1, 1, 3, 3, 2, 4, 4, 4, 4, 4, 5, 1, 5, 2, 2, 4, 2, 1, 1, 4, 5, 4, 4, 5, 6, 6, 3, 3, 6, 1, 3, 5, 4, 3, 4, 6, 4, 1, 5, 4, 1, 2, 6, 5, 3, 3, 1, 6, 4, 1, 4, 6, 5, 4, 6, 6, 1, 6, 2, 3, 1, 1, 1, 5, 5, 6, 1, 6, 3, 3, 1, 6, 6, 3, 1, 1, 6, 1, 2, 3, 5, 5, 1, 5, 5, 1, 5, 3, 2, 5, 2, 1, 3, 5, 4, 4, 6, 4, 4, 2, 5, 2, 4, 2, 1, 2, 5, 2, 5, 1, 6, 5, 2, 2, 4, 6, 5, 5, 2, 4, 2, 5, 5, 4, 1, 6, 2, 3, 3, 4, 2, 1, 5, 4, 1, 1, 6, 5, 1, 5, 3, 1, 3, 2, 3, 3, 2, 2, 1, 1, 3, 2, 1, 6, 2, 3, 2, 6, 1, 2, 6, 4, 4, 2, 4, 6, 1, 1, 4, 1, 5, 6, 3, 6, 4, 4, 3, 3, 1, 3, 5, 3, 4, 1, 2, 2, 2, 1, 2, 3, 6, 6, 3, 2, 6, 6, 2, 5, 3, 1, 5, 3, 5, 2, 1, 1, 3, 5, 6, 5, 3, 4, 4, 3, 6, 1, 4, 6, 6, 4, 1, 4, 2, 6, 5, 3, 1, 3, 2, 6, 4, 6, 1, 4, 4, 4, 3, 4, 2, 6, 4, 5, 3, 1, 2, 1, 2, 4, 3, 3, 1, 3, 6, 2, 2, 1, 5, 2, 5, 6, 5, 1, 3, 4, 1, 3, 3, 3, 3, 3, 6, 2, 6, 5, 2, 5, 4, 1, 5, 5, 6, 6, 3, 4, 2, 5, 2, 1, 3, 6, 1, 3, 2, 1, 2, 6, 5, 1, 6, 6, 4, 6, 6, 2, 2, 1, 2, 3, 4, 2, 4, 2, 4, 3, 3, 1, 4, 1, 3, 2, 5, 4, 1, 3, 6, 2, 3, 2, 1, 3, 1, 2, 3, 6, 3, 5, 5, 6, 6, 2, 1, 2, 4, 3, 6, 6, 2, 2, 4, 2, 5, 1, 1, 4, 4, 4, 5, 5, 6, 4, 2, 4, 5, 6, 3, 1, 2, 3, 1, 6, 3, 3, 3, 1, 1, 2, 3, 1, 5, 2, 4, 6, 4, 4, 5, 2, 2, 4, 4, 2, 3, 3, 6, 3, 1, 1, 6, 6, 6, 4, 6, 3, 4, 5, 2, 3, 1, 5, 4, 2, 3, 6, 5, 4, 5, 5, 6, 6, 5, 5, 5, 4, 4, 2, 2, 2, 1, 2, 3, 2, 3, 3, 1, 6, 1, 1, 1, 6, 3, 5, 2, 2, 5, 2, 3, 5, 5, 4, 2, 1, 3, 1, 2, 1, 3, 6, 3, 5, 5, 5, 2, 3, 1, 2, 6, 6, 3, 1, 3, 4, 1, 2, 6, 5, 1, 1, 4, 3, 5, 2, 5, 1, 4, 4, 2, 4, 6, 5, 1, 1, 2, 3, 4, 5, 4, 6, 6, 6, 5, 6, 1, 6, 4, 2, 2, 1, 1, 4, 2, 1, 1, 5, 3, 3, 1, 2, 1, 5, 2, 1, 3, 6, 2, 3, 4, 2, 6, 6, 4, 5, 2, 5, 3, 2, 4, 5, 2, 3, 5, 6, 6, 3, 4, 4, 2, 2, 2, 2, 4, 4, 6, 3, 2, 5, 2, 3, 5, 6, 6, 6, 6, 1, 4, 5, 3, 6, 2, 5, 3, 6, 6, 1, 5, 3, 1, 2, 6, 6, 4, 1, 1, 6, 1, 5, 5, 1, 4, 5, 4, 3, 5, 2, 2, 1, 1, 3, 6, 5, 6, 6, 1, 1, 1, 2, 2, 1, 3, 2, 5, 6, 5, 2, 6, 1, 3, 4, 3, 6, 4, 4, 5, 2, 3, 6, 5, 2, 6, 4, 2, 4, 2, 1, 3, 2, 4, 6, 2, 3, 5, 3, 1, 2, 2, 3, 3, 5, 4, 1, 1, 2, 6, 5, 3, 2, 2, 3, 2, 1, 2, 4, 5, 4, 3, 2, 1, 3, 4, 5, 4, 2, 5, 6, 1, 3, 3, 4, 5, 6, 2, 6, 3, 3, 4, 2, 5, 1, 4, 2, 2, 1, 4, 2, 2, 1, 5, 6, 2, 6, 1, 1, 5, 4, 2, 5, 4, 6, 3, 3, 1, 2, 3, 6, 1, 1, 3, 3, 3, 5, 3, 2, 4, 6, 4, 3, 4, 3, 5, 4, 2, 4, 3, 1, 6, 5, 4, 3, 3, 4, 3, 6, 6, 1, 3, 2, 1, 6, 3, 2, 6, 2, 5, 5, 6, 3, 2, 5, 1, 3, 2, 5, 3, 5, 6, 4, 6, 1, 6, 5, 2, 3, 3, 3, 5, 6, 5, 6, 1, 1, 4, 3, 1, 1, 2, 5, 3, 1, 1, 3, 1, 5, 4, 4, 1, 2, 2, 6, 1, 3, 3, 3, 5, 2, 3, 3, 4, 1, 5, 6, 2, 2, 5, 2, 6, 2, 6, 1, 1, 1, 1, 2, 3, 4, 6, 2, 2, 2, 3, 6, 2, 2, 1, 4, 3, 5, 6, 4, 2, 3, 6, 6, 2, 1, 4, 3, 6, 4, 4, 5, 1, 2, 6, 6, 3, 6, 5, 3, 6, 4, 4, 4, 3, 1, 4, 1, 4, 6, 1, 3, 2, 2, 3, 4, 2, 5, 2, 6, 2, 6, 5, 3, 4, 1, 5, 2, 5, 6, 5, 6, 6, 5, 2, 6, 6, 4, 3, 3, 6, 2, 3, 4, 1, 4, 2, 5, 4, 3, 3, 5, 5, 1, 3, 4, 2, 1, 1, 4, 1, 3, 5, 4, 5, 2, 1, 5, 1, 5, 3, 4, 2, 3, 4, 6, 5, 2, 2, 6, 2, 1, 4, 4, 1, 2, 1, 6, 5, 1, 1, 4, 5, 4, 3, 2, 5, 1, 3, 4, 1, 3, 2, 4, 2, 6, 1, 5, 3, 5, 5, 1, 5, 4, 2, 5, 3, 4, 2, 3, 4, 2, 5, 1, 2, 3, 5, 4, 5, 2, 3, 4, 1, 2, 6, 4, 4, 4, 4, 5, 3, 6, 2, 2, 3, 1, 5, 1, 6, 1, 3, 4, 1, 4, 5, 6, 5, 1, 1, 6, 4, 6, 2, 4, 6, 5, 3, 4, 3, 3, 5, 2, 6, 6, 6, 5, 1, 6, 5, 6, 1, 6, 1, 5, 5, 1, 1, 1, 2, 6, 3, 4, 1, 1, 1, 2, 5, 2, 4, 1, 2, 2, 2, 2, 2, 6, 1, 3, 5, 6, 1, 2, 1, 5, 2, 2, 1, 2, 4, 2, 2, 6, 3, 1, 1, 6, 3, 3, 3, 1, 2, 4, 1, 1, 5, 1, 1, 4, 2, 1, 6, 1, 1, 1, 6, 4, 4, 1, 1, 1, 5, 1, 5, 3, 1, 6, 3, 3, 2, 3, 1, 1, 5, 3, 3, 2, 5, 5, 4, 1, 5, 3, 5, 5, 1, 4, 1, 1, 1, 6, 1, 1, 6, 1, 2, 2, 4, 6, 3, 6, 5, 5, 6, 2, 3, 6, 1, 5, 1, 5, 3, 5, 3, 4, 4, 5, 3, 4, 4, 2, 1, 3, 1, 6, 2, 6, 6, 5, 6, 2, 5, 6, 2, 4, 2, 5, 1, 5, 1, 4, 4, 3, 5, 4, 5, 5, 3, 1, 6, 1, 1, 1, 6, 2, 6, 2, 6, 4, 2, 1, 1, 3, 1, 2, 6, 2, 3, 2, 3, 2, 5, 2, 6, 1, 5, 6, 4, 4, 2, 1, 4, 2, 5, 5, 6, 5, 4, 5, 2, 6, 3, 2, 3, 3, 6, 1, 6, 5, 4, 5, 6, 2, 6, 4, 5, 6, 6, 3, 6, 2, 6, 3, 4, 4, 2, 5, 5, 1, 4, 3, 4, 4, 5, 4, 4, 4, 2, 6, 5, 5, 4, 2, 2, 1, 6, 4, 6, 6, 5, 5, 3, 2, 6, 6, 4, 1, 3, 1, 1, 4, 1, 2, 5, 4, 5, 4, 4, 3, 1, 2, 4, 1, 5, 3, 4, 6, 3, 3, 4, 5, 4, 2, 3, 3, 2, 3, 6, 1, 3, 6, 5, 1, 4, 6, 3, 3, 1, 1, 3, 5, 4, 4, 2, 5, 1, 3, 3, 1, 3, 3, 2, 5, 1, 4, 4, 6, 5, 3, 3, 3, 4, 2, 5, 6, 3, 1, 4, 4, 5, 6, 3, 4, 1, 1, 3, 5, 4, 4, 6, 6, 6, 5, 1, 3, 2, 2, 1, 6, 6, 6, 6, 4, 5, 1, 1, 2, 1, 6, 5, 6, 1, 1, 5, 1, 6, 4, 4, 6, 4, 3, 4, 1, 2, 2, 1, 2, 5, 1, 2, 2, 2, 1, 4, 3, 2, 5, 2, 4, 4, 5, 6, 4, 2, 4, 3, 5, 6, 3, 2, 2, 3, 1, 4, 3, 3, 1, 6, 3, 3, 2, 6, 4, 1, 1, 2, 2, 6, 6, 6, 1, 2, 3, 2, 3, 5, 2, 6, 6, 1, 4, 2, 5, 6, 1, 2, 1, 5, 5, 6, 3, 1, 1, 4, 1, 5, 4, 1, 6, 4, 4, 4, 5, 3, 4, 3, 6, 3, 4, 6, 6, 3, 5, 2, 5, 2, 1, 4, 2, 6, 6, 1, 2, 6, 4, 4, 6, 5, 3, 5, 6, 4, 1, 3, 2, 5, 2, 5, 3, 4, 3, 4, 5, 2, 5, 4, 2, 2, 6, 6, 6, 3, 5, 6, 2, 2, 4, 6, 1, 4, 6, 6, 3, 2, 6, 6, 5, 2, 3, 3, 3, 6, 1, 1, 5, 1, 2, 4, 5, 6, 2, 5, 5, 5, 1, 5, 2, 6, 2, 2, 5, 3, 4, 3, 1, 6, 6, 1, 5, 6, 5, 4, 3, 6, 3, 2, 6, 2, 4, 1, 4, 1, 3, 5, 4, 1, 3, 2, 6, 2, 6, 4, 1, 4, 4, 5, 6, 2, 2, 6, 1, 3, 6, 4, 4, 1, 3, 3, 2, 1, 2, 5, 4, 1, 5, 4, 5, 2, 5, 4, 4, 4, 4, 4, 5, 2, 5, 4, 5, 2, 6, 1, 1, 3, 3, 2, 3, 6, 4, 3, 6, 2, 3, 2, 2, 5, 6, 2, 4, 2, 2, 2, 6, 2, 5, 1, 4, 3, 3, 4, 5, 3, 3, 6, 6, 2, 4, 4, 4, 2, 5, 1, 6, 2, 2, 2, 5, 5, 2, 2, 3, 4, 4, 6, 4, 4, 1, 6, 2, 1, 4, 4, 4, 2, 5, 5, 4, 6, 1, 5, 2, 4, 3, 1, 4, 5, 6, 3, 2, 2, 4, 3, 6, 3, 1, 4, 4, 3, 3, 5, 4, 3, 1, 1, 4, 5, 2, 4, 6, 4, 2, 6, 6, 3, 3, 6, 6, 2, 3, 4, 3, 1, 5, 1, 4, 5, 6, 6, 6, 4, 3, 6, 4, 3, 4, 3, 1, 1, 6, 1, 1, 2, 1, 3, 2, 1, 4, 6, 6, 4, 5, 4, 3, 4, 5, 2, 2, 5, 5, 6, 1, 4, 6, 3, 5, 4, 6, 6, 2, 2, 2, 2, 4, 2, 6, 5, 3, 1, 2, 1, 2, 6, 1, 4, 3, 6, 1, 6, 4, 5, 2, 2, 4, 6, 1, 5, 5, 5, 5, 6, 3, 6, 6, 5, 2, 1, 3, 1, 4, 4, 2, 2, 4, 2, 2, 2, 5, 2, 4, 3, 1, 2, 6, 3, 5, 4, 4, 4, 6, 1, 4, 2, 4, 5, 3, 4, 5, 3, 3, 6, 4, 4, 6, 5, 5, 6, 1, 3, 1, 2, 2, 3, 6, 6, 5, 5, 6, 6, 2, 1, 4, 4, 4, 5, 1, 5, 5, 6, 4, 4, 5, 4, 3, 3, 3, 4, 4, 6, 4, 3, 3, 4, 2, 3, 2, 6, 5, 5, 5, 4, 3, 1, 5, 1, 3, 4, 6, 4, 1, 1, 1, 4, 3, 3, 4, 1, 3, 2, 4, 1, 1, 4, 3, 3, 6, 3, 1, 4, 1, 2, 6, 4, 6, 4, 1, 3, 3, 2, 1, 4, 2, 4, 1, 1, 1, 1, 1, 3, 6, 5, 1, 2, 1, 3, 5, 1, 5, 5, 5, 5, 1, 3, 5, 2, 6, 6, 4, 2, 2, 6, 6, 5, 6, 6, 2, 2, 4, 5, 4, 6, 5, 6, 1, 1, 6, 2, 4, 3, 3, 1, 3, 2, 5, 5, 2, 5, 5, 5, 2, 4, 2, 5, 4, 6, 4, 2, 5, 2, 1, 3, 5, 6, 1, 5, 1, 2, 4, 4, 2, 6, 5, 5, 2, 6, 5, 4, 2, 1, 2, 5, 1, 6, 3, 3, 1, 5, 6, 5, 3, 3, 6, 6, 3, 5, 5, 1, 3, 1, 1, 4, 4, 2, 6, 5, 5, 4, 2, 5, 1, 6, 2, 6, 6, 2, 4, 6, 1, 3, 4, 4, 2, 4, 6, 2, 2, 5, 5, 2, 4, 6, 1, 5, 5, 6, 2, 1, 5, 3, 1, 3, 6, 1, 3, 4, 3, 5, 4, 4, 5, 3, 1, 6, 3, 4, 6, 4, 5, 5, 5, 6, 5, 6, 4, 2, 4, 3, 3, 2, 6, 5, 4, 1, 1, 2, 4, 2, 6, 1, 4, 3, 6, 2, 2, 6, 3, 6, 1, 2, 6, 3, 5, 3, 5, 1, 6, 3, 3, 6, 4, 1, 5, 6, 1, 5, 5, 2, 2, 5, 5, 4, 1, 2, 3, 2, 1, 5, 2, 5, 2, 5, 5, 5, 6, 4, 2, 4, 5, 1, 3, 4, 1, 2, 4, 4, 3, 1, 6, 4, 5, 4, 3, 1, 4, 3, 1, 3, 3, 6, 2, 4, 3, 5, 4, 6, 1, 3, 5, 4, 1, 5, 1, 5, 4, 4, 6, 2, 2, 5, 6, 6, 1, 3, 1, 2, 6, 2, 2, 6, 3, 3, 6, 2, 1, 4, 3, 3, 3, 4, 1, 5, 6, 1, 3, 1, 3, 1, 5, 6, 6, 2, 3, 6, 1, 1, 4, 2, 1, 2, 1, 6, 4, 4, 2, 5, 4, 6, 6, 6, 2, 3, 5, 1, 3, 6, 6, 2, 1, 2, 3, 6, 5, 2, 1, 6, 1, 5, 4, 2, 1, 6, 2, 6, 1, 2, 6, 4, 6, 5, 2, 1, 1, 4, 1, 3, 4, 5, 3, 6, 3, 5, 3, 6, 1, 6, 2, 6, 1, 1, 3, 1, 5, 3, 3, 4, 5, 5, 3, 2, 2, 5, 1, 2, 5, 5, 5, 5, 5, 4, 3, 4, 5, 6, 2, 3, 6, 3, 1, 6, 2, 3, 1, 4, 4, 4, 5, 3, 5, 3, 5, 4, 6, 6, 3, 4, 2, 5, 3, 5, 5, 5, 2, 2, 2, 6, 2, 1, 3, 2, 2, 4, 6, 6, 1, 1, 3, 2, 4, 4, 4, 2, 5, 6, 3, 4, 5, 3, 2, 2, 4, 1, 1, 4, 4, 4, 1, 5, 4, 2, 5, 2, 1, 6, 6, 4, 1, 6, 2, 2, 4, 3, 2, 5, 2, 5, 5, 3, 3, 5, 3, 6, 2, 1, 3, 6, 2, 2, 1, 3, 2, 2, 2, 2, 5, 1, 5, 5, 4, 1, 6, 5, 3, 3, 2, 6, 5, 3, 2, 4, 5, 4, 2, 5, 6, 1, 4, 2, 3, 5, 6, 3, 1, 5, 3, 5, 1, 2, 1, 6, 4, 6, 3, 5, 1, 4, 5, 6, 4, 6, 4, 6, 5, 4, 5, 5, 6, 3, 1, 3, 3, 5, 4, 2, 1, 2, 6, 5, 3, 2, 4, 5, 3, 3, 5, 6, 3, 6, 3, 6, 6, 5, 5, 4, 3, 5, 5, 5, 1, 2, 3, 3, 3, 2, 1, 2, 5, 3, 5, 6, 2, 1, 1, 5, 6, 5, 5, 5, 4, 6, 2, 4, 2, 2, 3, 2, 6, 5, 3, 6, 4, 4, 1, 3, 3, 6, 6, 2, 1, 3, 2, 3, 3, 4, 3, 2, 5, 5, 4, 2, 5, 4, 5, 3, 3, 5, 1, 3, 1, 4, 3, 3, 6, 4, 6, 6, 3, 5, 2, 2, 4, 3, 1, 3, 4, 2, 4, 1, 4, 5, 6, 5, 2, 2, 6, 6, 2, 5, 4, 1, 6, 2, 2, 6, 3, 1, 4, 6, 4, 4, 5, 2, 4, 5, 6, 2, 1, 4, 3, 5, 4, 1, 6, 6, 1, 4, 3, 1, 4, 6, 2, 6, 6, 2, 1, 5, 6, 6, 2, 2, 1, 2, 4, 3, 2, 3, 1, 5, 3, 1, 1, 3, 2, 2, 3, 5, 3, 2, 6, 2, 2, 6, 3, 3, 3, 1, 1, 3, 3, 1, 4, 1, 4, 4, 2, 2, 6, 3, 3, 6, 3, 2, 4, 6, 1, 5, 5, 4, 3, 2, 6, 1, 4, 6, 1, 2, 1, 4, 2, 5, 6, 5, 5, 1, 2, 1, 5, 5, 3, 1, 6, 5, 6, 3, 5, 5, 6, 6, 2, 2, 2, 3, 4, 1, 3, 2, 5, 1, 2, 5, 2, 5, 1, 3, 6, 2, 2, 3, 5, 4, 5, 5, 5, 6, 3, 1, 2, 6, 3, 4, 4, 5, 3, 5, 1, 2, 2, 5, 3, 5, 6, 6, 6, 2, 4, 4, 3, 4, 1, 4, 4, 5, 3, 5, 5, 1, 1, 3, 4, 1, 2, 3, 2, 1, 1, 5, 1, 6, 5, 4, 6, 1, 5, 2, 4, 6, 2, 3, 4, 1, 1, 1, 5, 1, 5, 3, 2, 5, 2, 4, 4, 2, 3, 1, 4, 1, 2, 1, 6, 3, 2, 4, 6, 6, 6, 4, 1, 3, 1, 2, 1, 3, 2, 1, 6, 1, 5, 1, 2, 3, 1, 5, 4, 6, 5, 5, 4, 2, 5, 6, 1, 1, 3, 1, 6, 6, 3, 1, 2, 6, 4, 3, 3, 5, 6, 3, 6, 3, 5, 4, 5, 5, 5, 3, 5, 1, 6, 3, 3, 6, 6, 4, 1, 5, 1, 2, 1, 1, 2, 4, 4, 3, 2, 1, 2, 2, 5, 6, 1, 3, 2, 6, 4, 1, 4, 3, 1, 3, 5, 1, 2, 2, 1, 4, 3, 6, 4, 5, 2, 5, 2, 3, 5, 1, 5, 3, 3, 1, 4, 2, 5, 4, 3, 3, 3, 6, 4, 2, 6, 1, 3, 4, 6, 3, 3, 5, 2, 3, 6, 6, 1, 4, 1, 6, 5, 6, 1, 6, 5, 4, 5, 5, 4, 2, 3, 5, 3, 5, 4, 2, 3, 4, 6, 1, 2, 2, 5, 2, 3, 6, 3, 2, 1, 5, 2, 6, 2, 5, 4, 1, 2, 2, 6, 1, 3, 2, 3, 4, 3, 5, 4, 1, 5, 6, 2, 2, 4, 1, 6, 5, 3, 6, 5, 2, 4, 1, 3, 5, 6, 4, 1, 4, 1, 5, 5, 5, 3, 5, 6, 1, 3, 1, 3, 2, 4, 5, 4, 4, 2, 3, 2, 1, 1, 1, 3, 2, 2, 5, 2, 4, 3, 3, 5, 4, 3, 4, 1, 5, 4, 5, 5, 1, 1, 5, 6, 4, 4, 4, 6, 1, 1, 1, 5, 5, 6, 3, 2, 5, 3, 2, 4, 6, 1, 5, 3, 2, 1, 6, 2, 5, 5, 2, 3, 2, 1, 4, 4, 5, 3, 6, 5, 5, 3, 3, 5, 6, 3, 4, 2, 6, 2, 5, 3, 6, 3, 3, 3, 5, 3, 1, 5, 2, 1, 1, 1, 4, 4, 3, 1, 6, 3, 4, 4, 3, 4, 5, 4, 4, 5, 1, 4, 2, 6, 1, 6, 5, 3, 3, 2, 4, 3, 1, 6, 6, 4, 4, 3, 3, 4, 3, 5, 2, 3, 6, 3, 3, 1, 6, 2, 6, 4, 3, 1, 6, 3, 6, 3, 3, 6, 6, 4, 1, 2, 5, 6, 6, 3, 4, 6, 4, 5, 4, 5, 6, 6, 1, 5, 1, 5, 6, 2, 6, 2, 5, 2, 3, 1, 1, 2, 6, 3, 2, 2, 5, 3, 1, 6, 2, 6, 3, 6, 1, 2, 1, 5, 3, 1, 1, 5, 3, 6, 2, 4, 2, 6, 4, 6, 4, 1, 1, 1, 6, 1, 1, 5, 3, 1, 3, 5, 4, 5, 6, 1, 3, 5, 3, 4, 5, 6, 3, 1, 5, 1, 1, 2, 4, 4, 6, 2, 4, 5, 4, 3, 1, 5, 3, 3, 5, 2, 3, 5, 6, 2, 5, 5, 6, 5, 2, 3, 5, 1, 6, 3, 2, 5, 1, 4, 4, 2, 2, 3, 2, 4, 3, 5, 2, 5, 5, 6, 6, 5, 4, 4, 4, 5, 6, 1, 4, 1, 5, 1, 4, 3, 6, 6, 1, 4, 5, 6, 5, 2, 2, 5, 5, 1, 3, 5, 6, 1, 5, 1, 6, 5, 4, 5, 6, 5, 3, 4, 6, 5, 5, 4, 6, 1, 2, 6, 3, 1, 6, 3, 5, 2, 3, 5, 2, 6, 5, 5, 2, 6, 6, 6, 2, 6, 1, 6, 2, 5, 3, 6, 4, 2, 6, 1, 3, 5, 3, 2, 3, 2, 1, 2, 4, 4, 4, 2, 4, 4, 3, 4, 4, 1, 3, 2, 5, 1, 1, 4, 3, 4, 5, 4, 6, 2, 2, 2, 2, 6, 2, 4, 6, 6, 5, 4, 5, 2, 1, 6, 4, 3, 5, 1, 4, 6, 4, 1, 3, 6, 5, 3, 2, 4, 1, 2, 6, 5, 4, 5, 1, 3, 6, 4, 3, 3, 2, 1, 3, 1, 1, 1, 2, 3, 6, 2, 6, 2, 2, 2, 5, 4, 4, 3, 6, 5, 4, 1, 5, 6, 4, 3, 2, 2, 6, 6, 1, 2, 3, 6, 4, 5, 4, 3, 6, 2, 5, 2, 2, 2, 3, 3, 2, 2, 6, 4, 2, 2, 3, 2, 6, 5, 6, 3, 5, 4, 3, 2, 1, 3, 3, 3, 2, 1, 6, 5, 3, 6, 6, 2, 1, 6, 3, 5, 3, 3, 6, 4, 3, 3, 4, 4, 1, 1, 6, 6, 3, 1, 4, 6, 4, 2, 5, 3, 6, 1, 6, 4, 4, 6, 4, 1, 4, 1, 6, 1, 5, 4, 4, 3, 6, 6, 2, 5, 5, 3, 6, 1, 3, 2, 3, 4, 2, 6, 3, 6, 6, 4, 2, 4, 3, 6, 6, 6, 3, 2, 2, 6, 2, 1, 4, 1, 4, 5, 2, 6, 4, 3, 2, 3, 2, 2, 5, 4, 4, 3, 2, 5, 4, 3, 3, 4, 5, 5, 4, 4, 3, 2, 5, 3, 1, 5, 5, 3, 1, 3, 2, 4, 6, 1, 2, 3, 6, 6, 5, 2, 3, 2, 4, 6, 4, 2, 1, 6, 4, 2, 6, 6, 6, 4, 1, 1, 1, 5, 3, 6, 4, 5, 6, 3, 5, 4, 4, 3, 2, 2, 4, 4, 1, 5, 4, 3, 5, 1, 3, 6, 4, 1, 6, 3, 6, 3, 6, 2, 1, 3, 5, 2, 4, 2, 5, 6, 3, 3, 5, 5, 2, 5, 1, 2, 3, 4, 6, 6, 1, 6, 1, 5, 1, 6, 4, 2, 3, 5, 4, 5, 6, 5, 2, 4, 6, 5, 2, 1, 4, 2, 1, 1, 6, 4, 2, 2, 5, 2, 1, 2, 3, 3, 6, 6, 6, 4, 4, 5, 4, 5, 1, 5, 4, 3, 3, 2, 6, 4, 3, 2, 4, 6, 3, 1, 6, 4, 3, 3, 5, 4, 5, 3, 4, 2, 4, 2, 3, 6, 3, 6, 2, 2, 2, 6, 6, 5, 2, 4, 2, 3, 6, 6, 5, 2, 5, 3, 5, 5, 2, 3, 5, 6, 6, 4, 1, 4, 3, 3, 4, 3, 6, 6, 3, 3, 5, 5, 3, 6, 1, 1, 5, 6, 5, 1, 4, 1, 3, 6, 4, 5, 2, 3, 2, 5, 4, 5, 6, 2, 1, 6, 3, 2, 5, 6, 1, 2, 1, 6, 2, 3, 1, 2, 5, 5, 1, 5, 5, 1, 2, 2, 6, 5, 6, 2, 6, 3, 4, 2, 3, 2, 6, 4, 5, 4, 6, 5, 1, 4, 3, 2, 1, 2, 3, 6, 5, 5, 1, 5, 1, 4, 3, 3, 1, 6, 2, 2, 1, 3, 1, 2, 3, 1, 6, 5, 3, 4, 2, 6, 2, 6, 4, 6, 1, 4, 2, 2, 4, 4, 2, 1, 2, 3, 6, 5, 5, 1, 6, 2, 6, 1, 5, 3, 2, 5, 2, 6, 6, 5, 5, 4, 6, 6, 4, 1, 5, 5, 5, 4, 4, 4, 5, 4, 2, 5, 2, 3, 3, 3, 6, 6, 1, 3, 6, 6, 6, 6, 4, 5, 6, 1, 5, 5, 4, 6, 6, 1, 2, 6, 2, 2, 1, 6, 2, 1, 4, 5, 3, 3, 1, 6, 1, 6, 1, 5, 5, 4, 2, 5, 3, 6, 1, 4, 4, 2, 3, 3, 6, 6, 2, 6, 4, 3, 2, 3, 6, 2, 3, 2, 4, 1, 3, 3, 4, 6, 2, 2, 4, 2, 3, 4, 1, 4, 5, 6, 4, 3, 2, 5, 3, 2, 4, 5, 3, 2, 6, 6, 4, 2, 2, 1, 1, 6, 2, 2, 3, 4, 2, 6, 2, 1, 4, 3, 5, 5, 1, 3, 5, 5, 5, 6, 2, 1, 2, 6, 5, 1, 6, 2, 6, 4, 4, 1, 5, 3, 1, 5, 6, 3, 1, 4, 3, 5, 6, 5, 6, 3, 5, 2, 4, 6, 2, 3, 3, 2, 2, 5, 6, 4, 6, 4, 6, 5, 4, 4, 6, 2, 3, 4, 4, 3, 5, 6, 2, 3, 1, 5, 2, 1, 1, 5, 2, 3, 6, 3, 2, 6, 6, 6, 1, 5, 1, 4, 1, 4, 1, 4, 2, 3, 5, 5, 1, 6, 2, 6, 2, 1, 5, 6, 1, 6, 1, 2, 5, 6, 1, 4, 5, 1, 6, 6, 3, 5, 2, 6, 1, 5, 1, 3, 4, 5, 2, 5, 2, 4, 6, 1, 3, 2, 3, 6, 3, 2, 5, 1, 1, 4, 2, 3, 1, 5, 5, 1, 5, 5, 3, 3, 3, 3, 3, 3, 2, 3, 5, 6, 5, 4, 4, 6, 2, 6, 3, 6, 6, 1, 6, 4, 1, 4, 6, 3, 1, 5, 4, 3, 6, 5, 3, 2, 4, 4, 2, 6, 4, 1, 4, 3, 6, 3, 1, 1, 2, 4, 3, 2, 6, 4, 3, 3, 4, 3, 5, 6, 1, 3, 2, 3, 1, 6, 1, 2, 6, 2, 6, 4, 5, 5, 1, 3, 3, 4, 5, 3, 1, 1, 5, 6, 1, 2, 3, 1, 1, 2, 5, 5, 5, 5, 3, 6, 5, 5, 5, 1, 2, 2, 3, 2, 1, 2, 5, 1, 2, 2, 2, 4, 3, 4, 3, 6, 5, 1, 3, 6, 5, 1, 2, 6, 2, 3, 5, 2, 1, 6, 4, 1, 1, 6, 2, 6, 4, 6, 3, 3, 6, 5, 1, 1, 2, 3, 1, 6, 5, 6, 3, 1, 4, 2, 2, 6, 6, 6, 6, 2, 4, 2, 4, 4, 2, 3, 1, 1, 6, 1, 6, 5, 2, 5, 3, 4, 1, 3, 3, 6, 3, 1, 1, 3, 2, 5, 4, 3, 3, 5, 1, 2, 3, 2, 2, 4, 6, 4, 6, 5, 5, 5, 1, 2, 3, 4, 5, 4, 6, 6, 2, 1, 2, 6, 5, 4, 4, 3, 6, 1, 1, 1, 1, 3, 4, 1, 3, 2, 4, 1, 5, 4, 5, 5, 2, 6, 2, 6, 6, 1, 1, 6, 5, 5, 5, 3, 3, 1, 4, 3, 6, 3, 6, 1, 4, 1, 2, 1, 1, 5, 6, 5, 1, 5, 5, 6, 3, 2, 2, 6, 5, 6, 1, 4, 5, 1, 5, 3, 6, 3, 5, 5, 6, 6, 2, 1, 6, 4, 5, 4, 1, 6, 5, 1, 6, 5, 6, 5, 5, 4, 3, 5, 1, 2, 3, 4, 1, 2, 6, 4, 5, 4, 4, 1, 3, 1, 5, 2, 1, 3, 1, 4, 2, 1, 5, 5, 6, 4, 6, 1, 2, 4, 6, 5, 4, 6, 5, 3, 2, 3, 2, 4, 3, 6, 6, 5, 2, 2, 3, 1, 4, 3, 1, 4, 4, 2, 2, 2, 4, 2, 3, 6, 4, 5, 4, 5, 4, 2, 1, 2, 5, 5, 3, 1, 2, 2, 5, 1, 1, 6, 6, 6, 2, 1, 4, 3, 6, 5, 3, 2, 1, 2, 5, 3, 3, 6, 4, 5, 6, 3, 1, 5, 1, 1, 4, 4, 6, 1, 2, 4, 1, 5, 5, 4, 4, 1, 6, 2, 6, 1, 3, 1, 6, 5, 6, 2, 1, 2, 6, 2, 5, 1, 5, 2, 3, 6, 2, 3, 5, 5, 6, 4, 6, 5, 3, 2, 4, 3, 1, 3, 4, 1, 1, 6, 2, 2, 2, 3, 3, 5, 6, 6, 2, 6, 5, 3, 2, 4, 4, 6, 3, 4, 6, 6, 2, 6, 6, 6, 3, 2, 3, 4, 1, 6, 5, 4, 4, 6, 2, 4, 5, 6, 3, 2, 1, 5, 6, 5, 5, 4, 1, 6, 2, 1, 1, 1, 2, 1, 2, 2, 5, 4, 5, 3, 1, 6, 6, 3, 1, 2, 6, 3, 3, 5, 6, 2, 5, 4, 3, 2, 6, 6, 1, 5, 1, 6, 6, 3, 5, 3, 4, 3, 4, 2, 1, 6, 5, 5, 2, 2, 4, 3, 3, 5, 6, 5, 1, 5, 1, 2, 3, 3, 2, 6, 2, 1, 3, 5, 4, 4, 3, 4, 4, 2, 6, 4, 2, 4, 1, 6, 3, 3, 3, 1, 6, 5, 2, 4, 4, 2, 5, 6, 2, 3, 2, 5, 6, 3, 1, 1, 4, 1, 2, 2, 1, 6, 5, 3, 6, 3, 1, 5, 1, 5, 5, 5, 2, 6, 4, 5, 1, 6, 3, 6, 4, 5, 2, 2, 1, 6, 1, 5, 4, 5, 4, 1, 5, 1, 5, 2, 1, 1, 6, 1, 2, 4, 4, 3, 6, 5, 4, 5, 3, 4, 6, 5, 3, 6, 6, 1, 5, 4, 3, 4, 3, 2, 5, 3, 3, 2, 6, 6, 1, 1, 4, 3, 3, 4, 4, 2, 3, 2, 6, 6, 4, 2, 1, 2, 5, 1, 6, 4, 2, 2, 1, 6, 3, 2, 1, 3, 1, 2, 5, 5, 1, 2, 5, 3, 3, 5, 1, 3, 6, 4, 3, 3, 1, 5, 3, 3, 5, 5, 2, 3, 1, 2, 1, 3, 5, 1, 4, 4, 3, 2, 5, 4, 2, 2, 6, 5, 6, 2, 2, 4, 2, 1, 5, 6, 6, 2, 6, 5, 3, 2, 2, 6, 5, 2, 2, 5, 6, 6, 1, 3, 1, 1, 6, 5, 6, 5, 5, 3, 5, 1, 6, 1, 1, 3, 2, 5, 1, 4, 2, 3, 4, 5, 3, 6, 5, 1, 4, 4, 2, 4, 5, 5, 3, 6, 6, 6, 2, 1, 3, 1, 4, 2, 4, 4, 3, 1, 2, 2, 3, 1, 1, 2, 5, 1, 2, 1, 6, 3, 3, 1, 1, 3, 1, 2, 2, 6, 3, 5, 1, 4, 3, 3, 4, 2, 6, 1, 5, 4, 4, 4, 1, 5, 2, 1, 5, 6, 3, 4, 2, 2, 4, 2, 1, 5, 2, 6, 6, 5, 3, 2, 3, 4, 4, 4, 6, 2, 5, 4, 6, 2, 6, 1, 4, 1, 6, 2, 2, 6, 2, 4, 6, 5, 5, 2, 6, 6, 6, 3, 4, 5, 2, 5, 2, 3, 2, 2, 5, 5, 1, 1, 5, 4, 3, 1, 2, 3, 5, 3, 5, 4, 5, 1, 3, 1, 5, 6, 3, 4, 1, 4, 6, 3, 4, 6, 3, 6, 4, 6, 1, 6, 6, 1, 3, 6, 5, 6, 2, 3, 2, 6, 2, 2, 1, 5, 5, 4, 6, 5, 6, 1, 6, 2, 4, 2, 4, 1, 5, 1, 3, 4, 2, 6, 4, 1, 4, 4, 4, 3, 4, 4, 6, 4, 5, 6, 5, 5, 6, 1, 3, 1, 4, 2, 3, 2, 1, 4, 4, 5, 1, 4, 4, 2, 6, 2, 1, 1, 6, 4, 1, 3, 4, 2, 1, 6, 2, 6, 5, 6, 2, 2, 2, 4, 5, 4, 6, 4, 4, 5, 3, 3, 1, 4, 4, 4, 6, 4, 5, 6, 1, 6, 1, 4, 6, 3, 1, 5, 6, 4, 1, 6, 3, 5, 6, 2, 1, 4, 1, 6, 2, 6, 4, 1, 5, 4, 3, 4, 3, 4, 5, 3, 2, 3, 3, 4, 3, 1, 5, 1, 3, 6, 4, 5, 3, 2, 4, 1, 3, 4, 5, 6, 5, 2, 6, 5, 5, 2, 2, 3, 1, 6, 5, 5, 1, 4, 4, 4, 5, 5, 4, 5, 6, 1, 5, 5, 1, 1, 2, 2, 1, 3, 3, 5, 6, 5, 5, 3, 3, 6, 1, 6, 3, 2, 6, 5, 1, 1, 4, 5, 5, 3, 3, 5, 2, 2, 2, 2, 4, 4, 1, 3, 6, 6, 4, 4, 6, 6, 1, 4, 4, 4, 5, 1, 5, 2, 6, 5, 5, 2, 4, 1, 4, 1, 2, 6, 5, 4, 4, 3, 4, 1, 4, 1, 4, 1, 5, 1, 5, 5, 4, 3, 2, 1, 3, 3, 3, 2, 1, 2, 4, 3, 1, 5, 3, 3, 2, 6, 1, 1, 1, 4, 5, 4, 6, 6, 2, 5, 4, 2, 1, 2, 1, 3, 6, 4, 3, 4, 3, 4, 5, 5, 3, 5, 2, 4, 5, 4, 3, 3, 3, 2, 1, 5, 4, 5, 6, 6, 3, 1, 2, 5, 5, 2, 3, 6, 5, 3, 4, 3, 6, 1, 3, 1, 6, 6, 1, 2, 3, 5, 4, 1, 6, 2, 4, 1, 6, 6, 3, 5, 5, 1, 5, 3, 4, 3, 5, 3, 3, 6, 6, 5, 4, 3, 4, 2, 5, 2, 5, 5, 2, 6, 2, 6, 1, 4, 1, 2, 2, 5, 1, 6, 3, 6, 2, 4, 5, 3, 1, 2, 2, 5, 3, 2, 1, 6, 5, 3, 4, 6, 5, 2, 3, 2, 2, 6, 1, 1, 2, 2, 1, 6, 2, 2, 6, 6, 1, 2, 4, 6, 1, 3, 4, 5, 5, 4, 4, 5, 6, 5, 4, 5, 2, 6, 3, 6, 3, 2, 1, 2, 2, 6, 6, 6, 6, 3, 5, 2, 4, 6, 4, 2, 5, 5, 4, 2, 4, 1, 1, 4, 4, 1, 6, 6, 3, 1, 6, 2, 1, 5, 1, 5, 2, 5, 4, 3, 2, 4, 5, 2, 3, 4, 3, 6, 6, 5, 2, 6, 6, 2, 5, 2, 5, 1, 4, 3, 1, 1, 4, 2, 4, 3, 3, 4, 1, 4, 4, 4, 6, 5, 3, 2, 6, 2, 4, 5, 3, 1, 2, 4, 3, 1, 1, 4, 3, 1, 1, 3, 1, 5, 2, 5, 1, 4, 2, 1, 3, 4, 4, 1, 5, 4, 5, 3, 1, 2, 5, 6, 6, 5, 4, 2, 5, 3, 2, 1, 4, 1, 2, 6, 2, 2, 3, 1, 4, 5, 6, 5, 2, 3, 3, 4, 4, 1, 2, 2, 3, 1, 6, 6, 6, 3, 4, 5, 4, 2, 1, 6, 5, 2, 5, 2, 1, 1, 4, 6, 3, 5, 1, 3, 1, 2, 5, 1, 1, 1, 1, 5, 6, 2, 5, 1, 4, 3, 6, 6, 6, 3, 5, 5, 2, 1, 3, 1, 6, 5, 1, 6, 1, 4, 6, 1, 4, 6, 4, 4, 1, 1, 2, 6, 1, 1, 6, 6, 4, 2, 1, 3, 6, 4, 6, 4, 6, 1, 6, 4, 1, 6, 2, 2, 3, 2, 1, 6, 4, 4, 1, 2, 4, 2, 3, 1, 5, 1, 4, 3, 2, 3, 5, 3, 3, 2, 1, 2, 3, 5, 4, 2, 3, 1, 6, 4, 6, 1, 3, 4, 2, 5, 1, 1, 2, 5, 3, 2, 3, 4, 4, 4, 2, 3, 4, 4, 2, 1, 6, 1, 6, 3, 4, 1, 3, 5, 5, 3, 1, 3, 1, 1, 2, 2, 5, 1, 2, 6, 4, 5, 6, 5, 2, 4, 3, 5, 3, 6, 2, 3, 1, 3, 4, 3, 1, 6, 1, 6, 1, 3, 4, 6, 1, 6, 2, 4, 6, 1, 3, 5, 1, 3, 5, 3, 2, 2, 1, 2, 3, 4, 4, 2, 4, 5, 1, 3, 3, 6, 3, 3, 1, 1, 4, 4, 4, 4, 6, 6, 2, 2, 1, 1, 5, 1, 4, 3, 5, 2, 5, 6, 5, 1, 4, 5, 5, 3, 1, 5, 2, 4, 3, 5, 6, 3, 4, 1, 6, 1, 3, 6, 1, 3, 5, 2, 3, 1, 5, 1, 3, 3, 5, 4, 3, 6, 3, 2, 4, 3, 2, 1, 2, 6, 2, 6, 2, 3, 6, 4, 1, 5, 4, 3, 2, 2, 1, 1, 5, 1, 4, 2, 3, 2, 5, 2, 1, 5, 5, 5, 3, 5, 6, 2, 4, 5, 5, 1, 1, 1, 3, 4, 4, 2, 4, 2, 1, 2, 6, 2, 2, 3, 1, 3, 4, 3, 3, 6, 3, 2, 4, 3, 4, 3, 1, 2, 1, 5, 6, 1, 4, 2, 4, 3, 3, 6, 5, 2, 2, 4, 4, 1, 2, 6, 2, 3, 6, 1, 4, 4, 3, 5, 3, 2, 4, 3, 4, 4, 2, 2, 4, 5, 2, 2, 6, 1, 5, 3, 5, 4, 4, 2, 5, 3, 6, 5, 6, 2, 5, 5, 3, 1, 2, 1, 2, 4, 2, 5, 5, 4, 4, 5, 1, 4, 2, 2, 5, 3, 5, 5, 6, 5, 2, 1, 6, 3, 4, 6, 2, 1, 3, 3, 6, 3, 2, 2, 4, 3, 2, 4, 2, 4, 4, 4, 6, 1, 4, 1, 5, 5, 2, 6, 4, 1, 3, 3, 3, 4, 4, 3, 4, 6, 4, 4, 6, 2, 3, 5, 6, 3, 4, 1, 3, 2, 3, 3, 2, 1, 6, 4, 1, 5, 5, 3, 5, 2, 4, 4, 1, 5, 5, 4, 2, 4, 5, 4, 1, 3, 4, 1, 5, 1, 6, 4, 6, 1, 4, 3, 2, 4, 3, 1, 6, 6, 4, 3, 6, 5, 1, 5, 6, 1, 2, 4, 1, 5, 1, 2, 2, 4, 1, 4, 2, 2, 4, 5, 4, 5, 3, 2, 3, 1, 6, 4, 5, 1, 3, 4, 5, 6, 2, 3, 6, 5, 3, 3, 1, 3, 3, 5, 6, 3, 4, 2, 3, 2, 3, 3, 5, 4, 4, 2, 2, 4, 5, 4, 5, 3, 4, 6, 3, 1, 2, 4, 4, 6, 5, 1, 5, 2, 3, 4, 6, 3, 6, 6, 2, 1, 4, 2, 5, 6, 2, 2, 4, 6, 2, 6, 2, 5, 6, 2, 6, 4, 2, 1, 5, 1, 4, 2, 2, 4, 2, 4, 6, 2, 6, 3, 4, 2, 2, 2, 1, 4, 6, 3, 6, 5, 6, 4, 5, 4, 2, 4, 6, 5, 6, 1, 2, 6, 3, 5, 1, 1, 5, 4, 4, 5, 1, 5, 3, 6, 3, 5, 3, 6, 5, 1, 5, 2, 2, 2, 6, 4, 1, 2, 4, 3, 1, 1, 3, 1, 2, 5, 3, 1, 6, 6, 6, 4, 5, 4, 3, 4, 4, 2, 3, 2, 1, 2, 4, 6, 4, 4, 6, 1, 3, 4, 2, 5, 1, 4, 5, 1, 4, 3, 1, 4, 4, 3, 1, 4, 3, 3, 1, 3, 5, 2, 6, 1, 2, 6, 3, 1, 1, 4, 3, 2, 1, 2, 6, 6, 4, 1, 3, 3, 5, 5, 5, 2, 5, 1, 6, 5, 3, 2, 5, 3, 6, 2, 3, 5, 5, 5, 6, 3, 2, 2, 1, 3, 1, 3, 5, 6, 5, 4, 2, 4, 3, 6, 1, 3, 4, 2, 4, 1, 2, 5, 6, 2, 2, 2, 1, 5, 1, 5, 1, 1, 3, 4, 4, 2, 4, 3, 2, 2, 5, 6, 2, 3, 3, 1, 2, 4, 1, 6, 1, 2, 5, 3, 6, 2, 3, 2, 1, 6, 5, 2, 2, 3, 6, 4, 3, 2, 1, 3, 2, 2, 5, 4, 6, 5, 2, 5, 1, 6, 5, 5, 4, 6, 4, 5, 4, 1, 6, 3, 1, 5, 6, 1, 3, 5, 5, 4, 6, 6, 3, 4, 5, 4, 5, 4, 3, 6, 4, 6, 1, 2, 1, 4, 4, 3, 3, 2, 5, 2, 1, 2, 6, 4, 1, 2, 5, 6, 2, 6, 4, 5, 5, 4, 2, 3, 2, 5, 4, 2, 4, 2, 4, 1, 4, 1, 2, 2, 5, 4, 2, 6, 2, 2, 4, 5, 3, 5, 5, 4, 3, 5, 3, 2, 2, 4, 1, 5, 5, 4, 6, 1, 1, 2, 2, 4, 2, 3, 5, 3, 3, 6, 6, 6, 4, 2, 3, 2, 6, 5, 5, 1, 4, 5, 4, 3, 6, 4, 2, 5, 4, 6, 5, 6, 5, 4, 6, 6, 4, 3, 5, 4, 3, 2, 1, 4, 2, 6, 3, 1, 5, 6, 6, 6, 6, 6, 4, 4, 6, 4, 3, 4, 4, 6, 6, 1, 4, 6, 4, 3, 2, 3, 5, 6, 3, 5, 4, 4, 3, 5, 4, 2, 6, 2, 4, 5, 5, 5, 1, 6, 6, 4, 3, 4, 5, 1, 3, 4, 1, 6, 3, 5, 6, 6, 5, 1, 5, 2, 3, 1, 5, 1, 3, 3, 4, 2, 3, 1, 4, 3, 5, 5, 3, 3, 5, 2, 4, 3, 5, 2, 1, 1, 3, 4, 3, 2, 2, 6, 1, 3, 2, 6, 6, 6, 5, 5, 2, 1, 6, 4, 6, 1, 2, 4, 6, 1, 2, 2, 3, 1, 6, 2, 5, 1, 1, 2, 5, 5, 1, 2, 1, 4, 1, 3, 3, 6, 3, 1, 4, 6, 2, 4, 5, 3, 2, 3, 6, 2, 5, 4, 5, 4, 4, 4, 2, 5, 3, 4, 2, 2, 3, 2, 4, 5, 6, 2, 5, 6, 6, 3, 2, 6, 5, 1, 1, 2, 5, 2, 5, 6, 2, 5, 6, 2, 5, 4, 6, 5, 6, 4, 2, 5, 5, 6, 1, 2, 5, 2, 3, 3, 5, 4, 4, 3, 4, 2, 3, 4, 1, 5, 4, 5, 5, 2, 5, 3, 5, 5, 2, 4, 6, 6, 5, 5, 4, 2, 5, 5, 6, 6, 5, 4, 2, 2, 4, 2, 4, 3, 3, 6, 1, 5, 4, 1, 3, 5, 2, 3, 3, 5, 6, 5, 4, 5, 2, 1, 4, 1, 4, 5, 4, 1, 3, 3, 1, 6, 4, 5, 3, 3, 6, 4, 5, 5, 2, 2, 2, 5, 5, 4, 2, 5, 5, 4, 5, 2, 1, 2, 4, 3, 1, 2, 2, 4, 5, 6, 6, 2, 4, 5, 4, 5, 4, 5, 5, 2, 6, 2, 4, 4, 6, 6, 3, 2, 2, 6, 5, 6, 4, 3, 5, 4, 2, 6, 6, 6, 5, 1, 1, 2, 4, 4, 5, 1, 2, 1, 2, 5, 4, 1, 4, 1, 2, 6, 3, 3, 6, 5, 3, 3, 4, 4, 6, 3, 6, 5, 2, 2, 4, 1, 3, 3, 2, 5, 1, 3, 1, 4, 2, 6, 5, 3, 1, 4, 2, 5, 6, 5, 2, 2, 6, 3, 2, 2, 3, 2, 6, 6, 6, 6, 5, 4, 4, 3, 1, 1, 4, 3, 4, 2, 5, 3, 2, 6, 1, 5, 4, 4, 1, 4, 3, 4, 1, 1, 4, 4, 4, 1, 1, 2, 3, 1, 6, 6, 4, 5, 3, 3, 2, 6, 5, 2, 5, 4, 1, 6, 4, 1, 4, 5, 4, 4, 5, 4, 4, 4, 4, 1, 1, 4, 1, 1, 1, 2, 5, 1, 6, 1, 6, 5, 4, 2, 2, 3, 6, 5, 6, 5, 4, 5, 1, 4, 3, 5, 3, 5, 1, 4, 6, 1, 5, 5, 5, 6, 5, 4, 4, 5, 4, 6, 5, 5, 1, 3, 3, 4, 5, 1, 5, 4, 6, 5, 3, 2, 6, 4, 6, 6, 3, 1, 4, 4, 1, 2, 3, 5, 3, 4, 4, 5, 5, 5, 3, 4, 3, 1, 4, 5, 6, 1, 6, 5, 4, 2, 4, 3, 2, 1, 3, 6, 4, 4, 3, 3, 3, 2, 3, 5, 4, 2, 1, 4, 5, 5, 6, 2, 3, 1, 3, 3, 5, 2, 3, 1, 6, 1, 6, 3, 5, 4, 6, 4, 4, 1, 3, 3, 3, 1, 3, 3, 6, 3, 3, 3, 5, 5, 2, 4, 4, 6, 1, 2, 5, 2, 5, 6, 6, 4, 3, 2, 2, 5, 2, 6, 2, 1, 1, 6, 1, 6, 4, 4, 2, 1, 5, 6, 4, 3, 4, 6, 5, 6, 1, 6, 1, 3, 2, 2, 4, 5, 2, 6, 1, 3, 2, 1, 4, 2, 2, 3, 4, 3, 4, 1, 1, 4, 1, 5, 5, 5, 4, 5, 3, 2, 5, 6, 4, 6, 1, 3, 6, 3, 5, 1, 6, 2, 6, 2, 5, 5, 1, 4, 3, 4, 4, 5, 4, 4, 5, 6, 5, 4, 6, 4, 3, 1, 5, 4, 3, 1, 2, 2, 2, 6, 6, 3, 2, 3, 6, 1, 6, 4, 6, 5, 4, 3, 6, 3, 1, 1, 2, 4, 3, 3, 2, 2, 5, 1, 1, 1, 3, 4, 4, 5, 5, 6, 2, 1, 1, 6, 1, 4, 6, 1, 3, 2, 3, 2, 2, 6, 3, 3, 3, 2, 6, 6, 2, 3, 5, 5, 3, 1, 2, 1, 5, 4, 3, 4, 3, 3, 1, 1, 6, 4, 6, 4, 2, 1, 3, 1, 6, 5, 4, 5, 3, 3, 6, 4, 3, 4, 5, 1, 6, 6, 1, 1, 4, 3, 3, 3, 3, 2, 5, 4, 6, 3, 5, 5, 5, 5, 3, 2, 1, 6, 1, 1, 1, 2, 4, 5, 4, 4, 5, 4, 5, 2, 6, 6, 6, 1, 4, 5, 2, 3, 1, 4, 6, 1, 3, 5, 2, 6, 3, 1, 4, 3, 5, 6, 2, 2, 2, 5, 5, 1, 3, 4, 3, 5, 1, 3, 1, 2, 4, 6, 1, 3, 1, 5, 2, 2, 3, 4, 2, 3, 5, 2, 5, 3, 5, 4, 1, 2, 3, 2, 5, 6, 3, 4, 6, 2, 5, 3, 2, 3, 3, 4, 1, 4, 5, 5, 6, 5, 2, 5, 3, 3, 1, 2, 4, 3, 2, 2, 1, 1, 1, 5, 2, 3, 3, 3, 6, 4, 2, 4, 6, 6, 6, 1, 4, 1, 6, 6, 4, 1, 1, 3, 5, 5, 3, 2, 2, 2, 2, 6, 3, 4, 6, 6, 2, 1, 6, 2, 4, 4, 4, 2, 4, 1, 1, 5, 3, 3, 4, 3, 2, 6, 1, 4, 3, 5, 2, 6, 5, 3, 1, 6, 3, 6, 2, 1, 1, 2, 5, 1, 3, 1, 1, 1, 5, 4, 3, 2, 3, 6, 5, 3, 4, 3, 4, 4, 6, 5, 3, 2, 4, 4, 2, 6, 6, 1, 6, 4, 2, 6, 6, 2, 4, 1, 3, 2, 6, 6, 1, 2, 3, 6, 6, 4, 5, 6, 5, 5, 6, 4, 5, 5, 1, 6, 2, 3, 6, 4, 3, 5, 1, 3, 2, 1, 1, 1, 6, 6, 6, 4, 5, 4, 6, 2, 3, 1, 3, 4, 2, 2, 3, 2, 5, 5, 3, 6, 2, 5, 5, 5, 1, 6, 2, 2, 5, 3, 4, 3, 1, 6, 4, 1, 1, 5, 3, 2, 3, 1, 3, 2, 6, 3, 6, 4, 1, 5, 1, 1, 5, 1, 3, 5, 2, 2, 2, 3, 5, 6, 6, 2, 4, 6, 4, 2, 1, 1, 6, 3, 5, 4, 2, 1, 1, 1, 1, 2, 3, 4, 3, 1, 5, 6, 1, 1, 4, 2, 6, 1, 3, 1, 2, 1, 4, 6, 5, 2, 4, 5, 3, 6, 1, 2, 5, 6, 2, 6, 2, 4, 1, 6, 3, 2, 5, 5, 2, 4, 6, 5, 3, 4, 3, 6, 3, 4, 5, 3, 4, 5, 6, 2, 1, 2, 2, 1, 1, 1, 4, 4, 6, 2, 4, 6, 4, 4, 1, 5, 4, 3, 4, 4, 2, 3, 2, 4, 6, 6, 2, 4, 6, 4, 1, 5, 3, 2, 2, 5, 1, 6, 4, 2, 3, 6, 3, 4, 3, 6, 1, 4, 6, 4, 3, 2, 1, 5, 3, 5, 1, 3, 3, 5, 6, 2, 6, 6, 6, 5, 6, 1, 6, 1, 1, 1, 6, 3, 3, 1, 4, 3, 5, 2, 3, 4, 4, 2, 1, 3, 2, 2, 4, 5, 4, 5, 5, 6, 1, 2, 5, 5, 4, 6, 3, 1, 2, 2, 4, 3, 4, 2, 4, 5, 5, 5, 5, 6, 2, 1, 2, 4, 2, 3, 2, 2, 5, 3, 3, 1, 1, 5, 6, 2, 1, 5, 5, 2, 3, 4, 6, 3, 2, 5, 4, 6, 5, 4, 5, 2, 5, 2, 2, 6, 3, 3, 2, 6, 1, 3, 6, 5, 1, 6, 3, 2, 2, 1, 1, 5, 6, 2, 6, 1, 6, 1, 4, 5, 4, 1, 1, 2, 2, 4, 4, 5, 4, 5, 1, 2, 4, 1, 1, 3, 3, 3, 4, 3, 1, 1, 1, 6, 2, 1, 1, 1, 4, 1, 1, 4, 6, 5, 2, 4, 1, 4, 6, 6, 5, 2, 1, 1, 2, 3, 6, 6, 2, 3, 3, 6, 1, 2, 2, 4, 4, 4, 3, 6, 6, 3, 5, 1, 4, 5, 2, 3, 5, 3, 4, 5, 5, 1, 5, 2, 2, 3, 2, 3, 4, 4, 5, 1, 4, 3, 3, 2, 1, 4, 2, 3, 3, 6, 1, 3, 1, 6, 6, 3, 4, 1, 2, 1, 4, 2, 2, 6, 3, 1, 2, 4, 1, 1, 6, 6, 4, 4, 3, 2, 6, 6, 5, 3, 4, 3, 1, 2, 2, 6, 1, 3, 2, 2, 1, 1, 6, 1, 1, 2, 1, 1, 5, 5, 1, 3, 6, 5, 1, 1, 5, 2, 6, 4, 1, 1, 2, 1, 4, 3, 5, 2, 2, 3, 4, 6, 1, 5, 6, 2, 4, 1, 6, 2, 1, 2, 6, 1, 6, 2, 3, 2, 2, 2, 4, 2, 5, 4, 5, 1, 6, 6, 6, 5, 2, 5, 1, 3, 1, 1, 2, 5, 1, 5, 1, 5, 1, 3, 4, 6, 4, 4, 3, 6, 3, 6, 6, 5, 5, 3, 4, 1, 1, 5, 2, 3, 6, 3, 4, 2, 2, 6, 1, 3, 3, 1, 1, 6, 5, 3, 1, 2, 5, 6, 4, 4, 4, 6, 4, 6, 1, 5, 2, 5, 3, 6, 3, 1, 6, 6, 4, 1, 6, 1, 5, 6, 3, 1, 6, 3, 6, 6, 2, 2, 5, 3, 4, 5, 2, 3, 6, 4, 6, 5, 4, 6, 1, 6, 6, 3, 4, 1, 5, 1, 3, 3, 2, 4, 6, 6, 3, 1, 3, 6, 5, 4, 3, 2, 4, 3, 2, 5, 4, 3, 4, 2, 3, 2, 6, 5, 1, 4, 1, 6, 4, 1, 1, 4, 6, 5, 3, 3, 6, 4, 4, 4, 5, 5, 3, 5, 1, 4, 4, 3, 3, 1, 6, 2, 2, 3, 3, 4, 5, 1, 2, 4, 6, 3, 2, 6, 6, 1, 4, 1, 4, 4, 1, 1, 2, 5, 4, 4, 3, 5, 3, 2, 4, 6, 3, 4, 1, 2, 2, 6, 1, 6, 5, 6, 1, 5, 4, 4, 2, 3, 1, 1, 1, 3, 4, 4, 5, 5, 5, 4, 6, 2, 3, 1, 1, 4, 4, 5, 3, 4, 3, 2, 6, 3, 2, 6, 2, 6, 2, 6, 6, 6, 4, 1, 5, 4, 6, 3, 2, 1, 6, 3, 5, 4, 2, 6, 5, 4, 2, 5, 6, 2, 3, 4, 2, 4, 1, 1, 4, 4, 4, 6, 5, 6, 4, 6, 1, 5, 3, 3, 5, 3, 3, 3, 4, 5, 1, 6, 3, 1, 4, 1, 3, 4, 6, 6, 5, 3, 4, 4, 2, 6, 1, 4, 1, 3, 3, 5, 6, 2, 1, 5, 2, 3, 3, 3, 4, 2, 5, 1, 2, 3, 5, 1, 4, 5, 2, 3, 6, 4, 2, 1, 6, 2, 2, 1, 6, 1, 3, 1, 5, 6, 6, 1, 4, 5, 1, 2, 5, 1, 5, 1, 2, 2, 1, 5, 4, 5, 3, 2, 4, 4, 3, 5, 4, 6, 4, 6, 3, 1, 2, 4, 3, 3, 6, 2, 4, 1, 4, 6, 4, 6, 2, 3, 3, 4, 1, 1, 1, 3, 3, 4, 2, 2, 4, 3, 4, 5, 3, 5, 2, 6, 2, 4, 1, 5, 4, 3, 6, 2, 5, 5, 6, 6, 5, 2, 3, 3, 5, 6, 6, 3, 4, 5, 4, 2, 2, 5, 1, 4, 1, 5, 3, 6, 1, 6, 1, 5, 1, 4, 5, 6, 4, 6, 1, 4, 4, 4, 6, 2, 2, 4, 5, 2, 4, 6, 2, 1, 3, 2, 2, 2, 4, 4, 2, 5, 2, 4, 4, 3, 2, 4, 2, 4, 4, 2, 4, 4, 6, 2, 3, 6, 1, 3, 3, 4, 5, 5, 6, 2, 2, 2, 3, 1, 2, 1, 5, 6, 4, 4, 3, 1, 3, 1, 3, 5, 2, 6, 6, 2, 6, 1, 1, 3, 2, 4, 1, 5, 4, 4, 5, 6, 3, 1, 1, 2, 4, 3, 5, 6, 1, 3, 2, 1, 5, 2, 2, 4, 3, 3, 3, 1, 3, 5, 6, 5, 3, 2, 1, 1, 1, 1, 1, 1, 4, 3, 3, 6, 3, 3, 1, 6, 1, 2, 3, 4, 2, 3, 1, 1, 1, 5, 5, 5, 2, 2, 1, 5, 4, 2, 2, 3, 6, 2, 6, 1, 1, 6, 2, 2, 4, 6, 4, 5, 4, 6, 3, 2, 1, 1, 4, 1, 4, 6, 5, 6, 2, 4, 3, 5, 1, 4, 6, 6, 4, 4, 1, 1, 3, 4, 2, 5, 1, 3, 2, 4, 2, 2, 4, 4, 4, 6, 1, 2, 5, 3, 6, 3, 4, 1, 1, 2, 2, 1, 6, 2, 2, 2, 5, 5, 5, 3, 3, 1, 2, 2, 4, 5, 5, 4, 2, 4, 2, 2, 2, 2, 1, 2, 6, 5, 1, 3, 2, 1, 2, 1, 2, 2, 4, 5, 6, 4, 5, 2, 1, 1, 2, 4, 4, 5, 1, 5, 6, 5, 5, 1, 3, 1, 2, 5, 2, 3, 4, 2, 4, 5, 6, 5, 6, 6, 4, 1, 2, 4, 5, 2, 1, 2, 5, 2, 4, 4, 3, 6, 1, 1, 2, 6, 1, 2, 6, 5, 3, 6, 3, 6, 3, 2, 6, 1, 6, 1, 3, 3, 3, 2, 4, 4, 5, 3, 2, 2, 3, 2, 2, 2, 4, 3, 3, 5, 2, 6, 5, 6, 3, 5, 1, 3, 3, 6, 6, 5, 6, 5, 4, 3, 6, 5, 6, 3, 1, 5, 1, 4, 2, 6, 4, 6, 5, 5, 4, 4, 2, 3, 5, 2, 3, 5, 6, 6, 5, 6, 2, 5, 3, 2, 6, 3, 3, 5, 3, 3, 4, 1, 3, 4, 4, 4, 6, 2, 2, 6, 4, 1, 6, 2, 3, 3, 4, 3, 3, 1, 4, 5, 5, 1, 3, 4, 2, 2, 4, 3, 6, 3, 2, 1, 3, 4, 1, 5, 3, 4, 3, 6, 2, 3, 5, 5, 1, 1, 6, 6, 6, 3, 5, 6, 3, 6, 5, 3, 1, 3, 4, 4, 6, 1, 5, 4, 2, 3, 6, 6, 4, 1, 2, 1, 1, 6, 2, 2, 2, 1, 6, 5, 2, 3, 1, 2, 6, 6, 6, 2, 3, 5, 5, 6, 5, 1, 6, 1, 5, 3, 5, 6, 5, 6, 3, 6, 3, 3, 4, 5, 3, 1, 2, 5, 4, 1, 3, 2, 2, 6, 5, 4, 1, 2, 3, 5, 4, 4, 3, 4, 1, 2, 4, 1, 5, 2, 2, 5, 5, 4, 5, 4, 4, 4, 1, 3, 5, 4, 4, 3, 5, 5, 5, 3, 6, 3, 1, 4, 4, 6, 1, 1, 5, 4, 6, 4, 1, 2, 2, 4, 4, 2, 1, 6, 5, 3, 5, 1, 3, 1, 2, 1, 4, 6, 2, 4, 4, 4, 2, 1, 4, 1, 3, 6, 6, 6, 2, 5, 1, 1, 1, 1, 5, 1, 4, 5, 3, 4, 4, 3, 2, 3, 3, 1, 6, 1, 4, 4, 1, 2, 1, 4, 5, 2, 3, 1, 5, 3, 6, 6, 1, 3, 4, 2, 6, 5, 3, 1, 2, 1, 3, 5, 4, 2, 4, 4, 4, 6, 2, 1, 4, 1, 2, 4, 3, 1, 5, 4, 4, 6, 4, 2, 6, 2, 4, 2, 4, 2, 6, 5, 4, 6, 6, 5, 5, 6, 4, 1, 5, 2, 2, 3, 6, 2, 3, 6, 4, 3, 5, 3, 4, 4, 3, 3, 6, 6, 4, 4, 6, 6, 5, 6, 4, 4, 4, 6, 2, 2, 2, 2, 3, 2, 4, 4, 5, 6, 5, 1, 4, 3, 2, 6, 1, 4, 5, 5, 6, 4, 3, 5, 2, 5, 2, 3, 4, 6, 4, 3, 6, 3, 4, 5, 4, 3, 6, 2, 1, 6, 6, 2, 6, 4, 6, 3, 2, 2, 6, 3, 2, 4, 6, 2, 1, 6, 1, 6, 5, 4, 5, 4, 3, 4, 6, 4, 4, 2, 3, 3, 1, 6, 4, 3, 2, 6, 6, 2, 3, 4, 4, 1, 2, 4, 3, 3, 3, 2, 2, 3, 4, 4, 1, 4, 6, 5, 4, 4, 4, 4, 1, 2, 4, 3, 5, 3, 3, 1, 3, 2, 6, 6, 1, 5, 6, 6, 1, 5, 6, 5, 1, 2, 4, 3, 6, 5, 1, 6, 2, 4, 5, 5, 6, 1, 4, 2, 2, 5, 5, 6, 4, 2, 6, 2, 5, 5, 2, 3, 3, 5, 6, 3, 1, 1, 5, 6, 3, 4, 5, 4, 6, 5, 1, 5, 4, 4, 1, 1, 3, 2, 1, 4, 3, 6, 1, 5, 6, 6, 2, 2, 3, 2, 3, 5, 1, 2, 5, 5, 4, 3, 1, 5, 5, 1, 6, 3, 2, 1, 5, 5, 5, 1, 6, 5, 5, 5, 6, 1, 4, 4, 5, 1, 1, 6, 3, 5, 4, 1, 2, 3, 4, 5, 4, 5, 4, 5, 6, 5, 3, 2, 3, 1, 1, 1, 5, 3, 3, 5, 2, 3, 4, 6, 3, 1, 6, 2, 1, 5, 4, 2, 2, 2, 4, 3, 1, 1, 4, 4, 6, 2, 6, 5, 6, 1, 1, 1, 4, 3, 1, 6, 2, 1, 6, 6, 6, 5, 6, 4, 4, 5, 6, 1, 1, 2, 1, 2, 2, 2, 4, 3, 6, 6, 5, 2, 6, 5, 2, 1, 2, 5, 6, 1, 6, 5, 6, 5, 5, 1, 2, 3, 4, 5, 1, 2, 6, 5, 3, 3, 2, 2, 6, 2, 1, 5, 4, 6, 2, 2, 2, 1, 2, 6, 3, 2, 3, 4, 4, 6, 1, 5, 3, 6, 1, 1, 2, 6, 4, 5, 3, 1, 4, 1, 2, 5, 4, 4, 5, 5, 3, 6, 5, 1, 2, 2, 4, 6, 6, 6, 4, 5, 5, 3, 1, 3, 2, 4, 1, 3, 1, 1, 2, 3, 5, 1, 5, 4, 4, 3, 6, 6, 5, 6, 5, 6, 2, 2, 5, 5, 2, 5, 5, 3, 2, 1, 6, 6, 1, 2, 3, 2, 4, 5, 1, 6, 2, 4, 2, 6, 2, 4, 5, 5, 1, 1, 1, 1, 3, 5, 6, 1, 3, 1, 2, 5, 6, 3, 3, 5, 3, 3, 1, 5, 3, 5, 4, 4, 1, 4, 4, 1, 4, 1, 6, 5, 2, 6, 5, 6, 2, 3, 6, 2, 4, 6, 3, 1, 5, 3, 3, 5, 3, 2, 4, 6, 3, 2, 6, 3, 5, 3, 2, 1, 2, 1, 4, 1, 3, 5, 2, 5, 4, 3, 5, 1, 3, 2, 6, 2, 3, 6, 2, 6, 2, 2, 6, 4, 5, 4, 3, 5, 1, 1, 5, 2, 3, 4, 1, 3, 4, 4, 5, 6, 6, 1, 6, 1, 2, 5, 1, 5, 2, 4, 4, 3, 5, 6, 5, 6, 1, 1, 2, 2, 6, 5, 2, 3, 4, 4, 3, 1, 5, 3, 3, 1, 1, 6, 3, 5, 4, 4, 2, 6, 6, 4, 6, 1, 4, 3, 1, 1, 1, 1, 6, 5, 6, 4, 2, 4, 3, 4, 6, 5, 5, 3, 1, 5, 5, 5, 3, 3, 4, 3, 3, 5, 4, 3, 5, 2, 2, 1, 6, 5, 4, 2, 2, 5, 5, 5, 6, 2, 5, 1, 2, 3, 2, 4, 5, 1, 1, 6, 6, 4, 6, 1, 4, 4, 2, 6, 2, 5, 1, 2, 5, 3, 4, 4, 5, 5, 3, 6, 5, 3, 1, 4, 5, 4, 2, 5, 3, 5, 4, 3, 4, 2, 2, 1, 2, 6, 3, 5, 6, 4, 5, 1, 2, 5, 1, 1, 3, 2, 6, 2, 1, 3, 5, 6, 4, 3, 1, 3, 2, 5, 6, 2, 4, 1, 2, 3, 5, 4, 1, 6, 5, 6, 1, 4, 2, 5, 6, 1, 5, 6, 1, 4, 1, 6, 4, 1, 1, 5, 6, 2, 3, 6, 4, 4, 6, 6, 1, 1, 2, 2, 6, 2, 6, 5, 1, 4, 2, 6, 2, 1, 3, 4, 6, 1, 3, 5, 1, 1, 6, 4, 1, 6, 5, 5, 6, 5, 4, 5, 1, 3, 5, 4, 3, 6, 6, 6, 6, 5, 3, 3, 5, 4, 5, 4, 6, 2, 5, 4, 3, 6, 1, 6, 1, 6, 3, 2, 1, 5, 1, 2, 4, 6, 4, 2, 1, 6, 5, 6, 6, 4, 6, 4, 3, 1, 3, 5, 5, 1, 4, 5, 3, 2, 4, 1, 2, 4, 3, 5, 6, 1, 2, 1, 4, 2, 3, 3, 6, 3, 6, 1, 4, 2, 2, 2, 6, 1, 4, 2, 1, 4, 5, 3, 4, 6, 3, 6, 1, 3, 1, 2, 4, 1, 3, 3, 3, 1, 4, 4, 1, 2, 6, 2, 1, 1, 3, 2, 3, 1, 2, 2, 1, 5, 2, 3, 3, 4, 4, 2, 2, 4, 5, 2, 3, 3, 4, 5, 4, 2, 1, 4, 2, 6, 1, 4, 1, 5, 6, 2, 3, 2, 4, 6, 3, 2, 3, 5, 2, 5, 4, 6, 3, 6, 3, 3, 3, 5, 3, 1, 6, 4, 5, 3, 6, 2, 6, 4, 1, 5, 6, 4, 4, 1, 3, 4, 6, 2, 1, 4, 5, 1, 3, 6, 2, 3, 4, 2, 1, 1, 5, 3, 1, 5, 5, 6, 3, 1, 4, 1, 4, 2, 5, 6, 1, 6, 3, 6, 3, 1, 6, 4, 3, 6, 5, 2, 1, 3, 4, 2, 5, 2, 4, 3, 2, 6, 2, 1, 4, 3, 1, 1, 1, 2, 1, 2, 2, 3, 5, 6, 3, 4, 3, 1, 5, 5, 5, 2, 5, 6, 2, 3, 4, 2, 5, 2, 4, 5, 6, 5, 1, 6, 4, 6, 3, 1, 6, 5, 5, 3, 6, 3, 5, 3, 3, 1, 4, 4, 2, 5, 4, 1, 6, 2, 3, 3, 1, 5, 6, 4, 4, 3, 2, 2, 4, 3, 2, 2, 5, 2, 5, 2, 3, 2, 3, 5, 4, 4, 6, 5, 3, 3, 6, 5, 2, 3, 4, 3, 2, 3, 1, 6, 5, 2, 5, 2, 1, 4, 2, 1, 4, 2, 4, 3, 6, 3, 5, 3, 6, 1, 2, 5, 5, 6, 2, 6, 1, 6, 1, 3, 6, 4, 4, 6, 4, 3, 4, 5, 6, 5, 4, 2, 3, 1, 5, 3, 1, 2, 2, 4, 4, 4, 4, 6, 3, 4, 3, 6, 3, 1, 5, 1, 6, 2, 2, 2, 3, 6, 6, 2, 3, 1, 1, 1, 1, 2, 2, 6, 1, 5, 6, 5, 5, 3, 4, 5, 5, 3, 5, 5, 6, 4, 1, 4, 2, 4, 5, 5, 4, 1, 4, 5, 3, 5, 3, 1, 5, 1, 2, 5, 5, 1, 3, 3, 1, 5, 1, 5, 6, 5, 5, 1, 6, 5, 6, 2, 1, 3, 5, 2, 1, 4, 1, 3, 5, 6, 5, 3, 6, 3, 4, 5, 5, 5, 6, 6, 2, 4, 6, 1, 2, 3, 2, 3, 4, 6, 5, 4, 6, 4, 4, 1, 5, 5, 4, 3, 3, 4, 1, 4, 5, 1, 5, 5, 5, 1, 3, 2, 4, 6, 5, 4, 3, 1, 4, 3, 6, 1, 3, 1, 1, 4, 2, 4, 5, 3, 2, 4, 1, 4, 6, 3, 4, 6, 2, 3, 3, 2, 4, 6, 6, 2, 4, 2, 1, 1, 5, 5, 4, 4, 6, 5, 5, 5, 6, 1, 4, 2, 3, 2, 6, 5, 3, 4, 4, 4, 3, 1, 3, 2, 1, 3, 5, 6, 6, 2, 4, 2, 6, 5, 4, 1, 4, 6, 5, 5, 5, 5, 6, 4, 1, 1, 6, 6, 5, 1, 1, 4, 5, 3, 2, 3, 3, 2, 3, 2, 6, 1, 2, 4, 3, 5, 6, 5, 5, 1, 4, 3, 6, 6, 1, 4, 5, 5, 2, 5, 3, 2, 2, 4, 1, 1, 2, 5, 6, 4, 5, 3, 4, 6, 4, 1, 1, 2, 5, 2, 6, 5, 3, 1, 3, 6, 5, 3, 1, 4, 5, 6, 3, 2, 4, 4, 5, 2, 4, 1, 5, 6, 1, 2, 3, 1, 1, 6, 6, 1, 2, 5, 1, 5, 3, 5, 6, 2, 5, 4, 2, 6, 3, 1, 3, 1, 4, 5, 1, 4, 2, 6, 2, 2, 5, 3, 1, 3, 3, 4, 5, 1, 5, 5, 3, 5, 3, 3, 3, 4, 6, 5, 3, 5, 5, 2, 5, 4, 5, 5, 4, 6, 5, 1, 1, 4, 4, 5, 2, 6, 5, 6, 1, 5, 3, 3, 1, 2, 6, 6, 6, 1, 3, 2, 4, 2, 3, 3, 2, 1, 6, 6, 6, 6, 2, 4, 5, 6, 4, 1, 4, 2, 2, 5, 1, 1, 1, 1, 4, 5, 6, 6, 2, 5, 2, 1, 5, 5, 5, 5, 6, 4, 5, 4, 6, 1, 5, 6, 5, 6, 4, 1, 3, 6, 6, 1, 4, 1, 5, 3, 5, 1, 6, 2, 6, 6, 5, 1, 4, 6, 6, 2, 3, 3, 2, 6, 1, 5, 1, 6, 2, 3, 6, 5, 3, 6, 1, 2, 1, 5, 4, 4, 4, 1, 4, 1, 5, 2, 6, 2, 3, 5, 6, 4, 2, 6, 2, 1, 2, 2, 1, 4, 6, 6, 1, 4, 5, 2, 5, 1, 5, 4, 1, 3, 3, 3, 1, 5, 6, 6, 5, 5, 2, 4, 2, 4, 1, 2, 2, 6, 3, 6, 1, 3, 6, 5, 5, 2, 4, 2, 1, 3, 1, 6, 1, 3, 3, 5, 6, 1, 5, 5, 2, 3, 6, 4, 3, 1, 3, 4, 4, 3, 6, 1, 6, 2, 4, 2, 1, 3, 3, 2, 2, 1, 1, 4, 4, 2, 3, 4, 3, 5, 3, 1, 2, 2, 4, 3, 4, 6, 2, 4, 3, 6, 2, 4, 5, 3, 2, 4, 3, 6, 2, 3, 1, 4, 6, 4, 3, 6, 2, 2, 1, 1, 2, 3, 3, 2, 1, 3, 2, 1, 4, 5, 4, 1, 1, 3, 1, 2, 6, 4, 4, 5, 2, 4, 2, 6, 3, 6, 5, 5, 3, 2, 1, 1, 4, 2, 2, 1, 4, 4, 5, 3, 4, 5, 5, 3, 5, 2, 1, 3, 2, 5, 2, 5, 3, 4, 1, 2, 4, 3, 6, 5, 2, 4, 4, 2, 4, 1, 2, 5, 3, 6, 5, 1, 3, 2, 2, 1, 1, 2, 4, 5, 1, 4, 1, 6, 6, 2, 2, 1, 2, 1, 4, 1, 5, 1, 1, 1, 5, 5, 3, 2, 4, 2, 4, 3, 6, 3, 3, 5, 6, 1, 5, 5, 5, 2, 5, 1, 4, 6, 3, 5, 6, 1, 5, 1, 4, 4, 5, 4, 5, 3, 4, 1, 3, 1, 2, 1, 3, 4, 5, 1, 6, 4, 4, 5, 2, 3, 5, 3, 4, 1, 3, 5, 4, 4, 5, 1, 2, 4, 6, 4, 2, 1, 1, 1, 3, 2, 3, 6, 5, 5, 1, 1, 6, 1, 6, 1, 6, 1, 1, 6, 1, 3, 2, 6, 4, 2, 1, 2, 6, 5, 5, 4, 1, 4, 4, 3, 1, 6, 5, 1, 2, 6, 3, 4, 4, 5, 5, 5, 5, 3, 2, 5, 4, 1, 6, 4, 1, 1, 4, 3, 1, 1, 1, 2, 1, 6, 6, 3, 6, 5, 5, 5, 3, 1, 1, 5, 1, 4, 3, 4, 3, 3, 3, 6, 1, 1, 1, 4, 4, 2, 5, 6, 5, 5, 4, 4, 6, 3, 5, 4, 2, 6, 1, 3, 6, 1, 2, 6, 3, 2, 2, 6, 3, 5, 1, 5, 6, 6, 4, 1, 5, 5, 6, 1, 3, 2, 2, 1, 3, 1, 2, 2, 3, 3, 1, 6, 2, 5, 5, 1, 1, 5, 1, 3, 2, 2, 3, 6, 5, 5, 2, 4, 2, 6, 4, 1, 1, 1, 6, 4, 6, 1, 4, 6, 2, 6, 5, 5, 4, 4, 3, 4, 2, 5, 1, 4, 1, 2, 5, 3, 4, 4, 2, 5, 1, 6, 1, 3, 5, 5, 6, 4, 3, 4, 6, 1, 6, 2, 1, 3, 1, 6, 4, 3, 6, 1, 5, 6, 3, 4, 6, 1, 4, 2, 1, 6, 6, 5, 4, 6, 3, 2, 3, 6, 2, 5, 4, 1, 1, 3, 4, 6, 4, 4, 2, 4, 6, 5, 2, 2, 5, 5, 3, 5, 4, 2, 3, 2, 3, 6, 6, 4, 3, 3, 2, 6, 1, 1, 1, 1, 5, 1, 4, 4, 3, 4, 5, 2, 1, 1, 4, 6, 4, 1, 6, 1, 5, 6, 1, 5, 3, 5, 2, 4, 3, 4, 5, 6, 6, 3, 6, 6, 4, 4, 1, 3, 3, 2, 3, 5, 4, 6, 3, 1, 5, 1, 1, 6, 4, 3, 3, 2, 6, 2, 2, 6, 1, 2, 6, 6, 1, 1, 1, 6, 3, 2, 4, 5, 5, 2, 4, 4, 5, 1, 3, 6, 6, 3, 5, 4, 3, 5, 5, 5, 6, 2, 4, 2, 1, 2, 3, 1, 3, 4, 3, 4, 3, 5, 3, 6, 4, 5, 6, 2, 3, 5, 1, 4, 6, 4, 2, 5, 2, 3, 6, 1, 5, 6, 3, 6, 4, 2, 3, 5, 6, 5, 5, 5, 2, 4, 4, 1, 5, 6, 4, 2, 4, 4, 5, 5, 2, 1, 1, 1, 3, 5, 1, 3, 5, 4, 2, 5, 6, 3, 4, 3, 1, 3, 1, 4, 6, 5, 2, 6, 4, 1, 1, 4, 1, 3, 4, 4, 5, 1, 2, 1, 2, 2, 6, 3, 5, 1, 2, 5, 3, 5, 2, 1, 5, 6, 6, 1, 4, 1, 3, 5, 6, 4, 1, 2, 5, 4, 5, 2, 4, 5, 3, 3, 3, 3, 3, 1, 6, 3, 6, 5, 3, 2, 4, 3, 6, 2, 1, 3, 3, 5, 3, 2, 6, 4, 6, 4, 2, 2, 5, 1, 4, 3, 4, 6, 1, 4, 4, 1, 2, 6, 5, 6, 5, 6, 4, 6, 3, 6, 5, 5, 6, 4, 6, 6, 6, 6, 2, 6, 6, 6, 1, 4, 6, 2, 4, 5, 6, 3, 2, 1, 5, 1, 1, 6, 3, 6, 4, 3, 6, 5, 2, 4, 6, 3, 4, 6, 4, 5, 3, 3, 5, 4, 3, 2, 4, 6, 3, 5, 6, 5, 6, 3, 4, 1, 3, 5, 2, 3, 5, 3, 5, 4, 6, 5, 4, 1, 5, 3, 6, 2, 4, 1, 1, 4, 1, 3, 6, 3, 4, 4, 1, 3, 2, 6, 2, 1, 6, 6, 5, 1, 1, 2, 1, 3, 1, 3, 6, 6, 6, 5, 4, 1, 5, 2, 5, 4, 6, 4, 2, 6, 1, 4, 6, 4, 2, 4, 3, 3, 5, 6, 3, 5, 5, 3, 1, 2, 3, 6, 5, 5, 5, 1, 3, 3, 2, 2, 5, 1, 2, 6, 5, 4, 4, 4, 5, 5, 6, 3, 3, 1, 4, 3, 3, 1, 4, 2, 4, 2, 3, 2, 4, 5, 6, 6, 3, 5, 6, 2, 1, 4, 3, 3, 3, 4, 5, 2, 1, 2, 4, 4, 4, 1, 4, 2, 2, 3, 2, 4, 1, 3, 3, 5, 2, 3, 6, 2, 2, 2, 6, 3, 4, 5, 6, 1, 3, 3, 6, 3, 5, 3, 2, 1, 4, 1, 6, 1, 6, 3, 2, 3, 1, 5, 3, 1, 5, 3, 2, 6, 5, 6, 4, 6, 4, 4, 5, 4, 6, 5, 5, 2, 3, 5, 5, 4, 4, 4, 6, 5, 3, 1, 4, 4, 2, 1, 3, 6, 2, 5, 3, 1, 4, 3, 1, 2, 1, 2, 6, 1, 4, 2, 2, 5, 2, 2, 5, 4, 2, 2, 3, 3, 4, 1, 5, 5, 6, 2, 5, 6, 2, 3, 5, 4, 1, 4, 6, 5, 6, 6, 5, 5, 4, 5, 5, 1, 6, 2, 1, 4, 2, 4, 6, 3, 4, 1, 6, 5, 2, 5, 5, 3, 3, 6, 6, 1, 5, 5, 4, 2, 4, 1, 6, 3, 2, 4, 2, 4, 1, 4, 2, 3, 4, 6, 5, 4, 1, 1, 3, 3, 3, 1, 2, 1, 5, 2, 4, 2, 3, 4, 4, 5, 3, 1, 6, 5, 4, 3, 3, 5, 3, 2, 6, 5, 1, 6, 1, 5, 2, 3, 2, 4, 1, 1, 1, 1, 5, 5, 6, 3, 2, 4, 5, 6, 5, 2, 3, 3, 3, 2, 1, 6, 4, 3, 4, 3, 4, 3, 4, 6, 3, 6, 3, 6, 5, 6, 2, 6, 2, 3, 2, 3, 6, 1, 1, 4, 4, 4, 6, 6, 5, 5, 4, 3, 6, 3, 2, 6, 1, 1, 2, 5, 1, 1, 3, 1, 4, 4, 5, 3, 5, 4, 3, 4, 2, 3, 4, 5, 2, 1, 5, 2, 1, 6, 3, 6, 1, 3, 6, 2, 2, 6, 4, 4, 5, 4, 2, 5, 4, 4, 6, 4, 4, 3, 1, 3, 2, 1, 6, 2, 2, 5, 5, 2, 6, 2, 4, 6, 1, 1, 5, 4, 4, 1, 1, 4, 3, 1, 5, 3, 5, 3, 1, 5, 2, 5, 5, 4, 4, 6, 6, 3, 1, 2, 1, 4, 1, 6, 2, 4, 3, 6, 3, 1, 4, 6, 4, 6, 3, 2, 3, 6, 4, 4, 2, 6, 1, 2, 4, 5, 2, 5, 3, 3, 5, 5, 4, 5, 3, 2, 2, 6, 3, 5, 4, 4, 2, 5, 6, 5, 4, 4, 5, 2, 5, 4, 2, 1, 5, 1, 3, 3, 6, 6, 4, 3, 3, 5, 4, 5, 2, 4, 5, 1, 3, 4, 2, 1, 2, 3, 5, 3, 6, 6, 6, 1, 5, 5, 2, 6, 5, 2, 4, 2, 4, 6, 3, 4, 2, 5, 4, 5, 1, 1, 6, 6, 3, 6, 2, 6, 2, 1, 2, 1, 1, 3, 6, 2, 1, 4, 4, 2, 1, 4, 2, 6, 5, 1, 4, 6, 4, 3, 1, 3, 3, 4, 3, 1, 6, 1, 2, 5, 2, 3, 6, 4, 1, 1, 5, 5, 1, 4, 2, 5, 1, 4, 5, 3, 3, 4, 2, 5, 3, 2, 2, 6, 3, 6, 6, 1, 3, 4, 2, 6, 5, 3, 3, 1, 3, 1, 5, 4, 4, 3, 3, 5, 5, 1, 5, 4, 5, 1, 6, 4, 5, 2, 2, 3, 5, 2, 2, 6, 4, 4, 1, 4, 5, 1, 2, 2, 3, 5, 2, 3, 3, 2, 4, 3, 6, 3, 6, 3, 4, 2, 1, 6, 5, 4, 5, 4, 5, 5, 2, 4, 5, 3, 4, 5, 1, 6, 3, 6, 6, 3, 6, 4, 4, 4, 5, 2, 3, 3, 3, 3, 2, 6, 2, 3, 5, 5, 3, 1, 1, 3, 5, 1, 5, 3, 5, 3, 4, 3, 6, 6, 6, 6, 3, 5, 4, 6, 3, 5, 1, 2, 3, 1, 5, 3, 2, 6, 3, 4, 1, 1, 4, 4, 6, 4, 6, 5, 6, 3, 1, 2, 4, 6, 2, 4, 2, 5, 4, 4, 2, 1, 3, 4, 4, 1, 6, 5, 1, 5, 4, 6, 1, 5, 5, 6, 3, 6, 4, 5, 4, 6, 4, 3, 1, 3, 3, 5, 3, 6, 3, 6, 1, 5, 6, 4, 4, 5, 2, 5, 3, 5, 6, 2, 1, 5, 2, 2, 4, 4, 5, 5, 6, 3, 5, 2, 6, 6, 3, 1, 5, 3, 3, 2, 6, 3, 3, 2, 2, 5, 5, 3, 5, 5, 1, 2, 3, 4, 2, 6, 3, 5, 3, 2, 2, 1, 4, 2, 5, 5, 5, 3, 3, 2, 1, 6, 5, 4, 6, 3, 4, 5, 3, 2, 2, 1, 4, 6, 6, 3, 3, 3, 2, 3, 6, 1, 3, 6, 2, 2, 2, 1, 6, 2, 1, 3, 1, 6, 2, 5, 5, 1, 5, 1, 5, 5, 1, 5, 4, 1, 6, 6, 6, 3, 5, 2, 6, 4, 2, 3, 1, 5, 3, 3, 2, 2, 3, 5, 3, 5, 5, 6, 4, 3, 6, 1, 4, 2, 4, 6, 1, 3, 2, 1, 5, 2, 6, 6, 2, 1, 4, 5, 6, 5, 4, 6, 4, 2, 3, 2, 6, 2, 4, 6, 1, 1, 2, 4, 6, 3, 6, 1, 6, 3, 4, 1, 2, 6, 5, 1, 1, 2, 3, 3, 6, 5, 3, 4, 1, 1, 3, 1, 6, 1, 6, 2, 3, 3, 3, 4, 5, 5, 3, 5, 2, 6, 5, 6, 1, 4, 1, 5, 4, 5, 3, 2, 5, 6, 2, 1, 6, 3, 3, 2, 4, 3, 5, 2, 5, 2, 6, 4, 2, 6, 5, 4, 3, 6, 4, 2, 5, 5, 2, 4, 1, 5, 2, 3, 3, 1, 3, 4, 1, 2, 3, 5, 3, 2, 6, 3, 2, 6, 1, 4, 3, 4, 2, 2, 1, 1, 4, 2, 3, 2, 2, 5, 5, 1, 5, 4, 1, 6, 3, 6, 1, 4, 2, 5, 3, 3, 1, 5, 2, 5, 2, 5, 5, 2, 4, 2, 6, 5, 1, 2, 4, 1, 6, 1, 3, 6, 3, 6, 6, 3, 2, 4, 5, 1, 1, 1, 1, 2, 1, 1, 1, 6, 3, 1, 2, 1, 4, 1, 2, 1, 2, 1, 3, 1, 1, 2, 5, 3, 1, 4, 5, 2, 5, 2, 2, 1, 5, 1, 3, 6, 2, 6, 6, 5, 4, 2, 4, 5, 6, 6, 6, 1, 2, 1, 3, 5, 2, 6, 4, 2, 5, 3, 2, 4, 1, 2, 4, 3, 2, 6, 1, 3, 5, 6, 5, 1, 2, 3, 1, 4, 3, 1, 4, 3, 5, 3, 1, 1, 4, 3, 4, 3, 1, 6, 2, 5, 6, 6, 3, 4, 4, 5, 6, 6, 5, 2, 4, 2, 2, 1, 2, 1, 3, 5, 2, 4, 1, 5, 4, 4, 4, 2, 1, 5, 2, 3, 1, 1, 2, 1, 1, 4, 5, 3, 2, 1, 3, 1, 1, 2, 6, 2, 3, 3, 6, 1, 1, 5, 2, 5, 5, 3, 2, 4, 6, 1, 1, 5, 2, 6, 5, 6, 1, 1, 6, 1, 4, 4, 3, 3, 4, 3, 1, 3, 5, 3, 3, 3, 5, 3, 6, 6, 6, 4, 2, 3, 1, 3, 3, 5, 4, 5, 6, 5, 4, 6, 3, 5, 2, 3, 3, 4, 5, 3, 4, 1, 3, 6, 1, 2, 3, 6, 1, 4, 6, 2, 6, 5, 1, 2, 1, 6, 4, 2, 5, 6, 1, 3, 4, 5, 6, 1, 1, 5, 4, 6, 5, 4, 6, 5, 4, 4, 4, 1, 4, 4, 3, 2, 6, 6, 4, 2, 3, 4, 3, 1, 1, 1, 2, 5, 5, 2, 3, 6, 3, 4, 3, 3, 5, 1, 4, 4, 6, 3, 3, 4, 3, 4, 6, 3, 4, 5, 2, 3, 5, 3, 2, 3, 4, 5, 5, 2, 5, 6, 2, 1, 3, 6, 3, 2, 5, 3, 2, 3, 4, 3, 6, 1, 6, 2, 4, 1, 3, 4, 2, 3, 5, 2, 3, 3, 3, 6, 1, 1, 6, 5, 5, 1, 6, 5, 4, 3, 2, 1, 5, 5, 6, 1, 1, 3, 4, 2, 3, 4, 5, 5, 6, 2, 4, 1, 2, 6, 6, 6, 1, 3, 2, 6, 5, 6, 1, 2, 2, 4, 6, 5, 1, 1, 1, 1, 4, 2, 1, 3, 4, 1, 6, 5, 6, 5, 2, 3, 1, 4, 4, 4, 5, 6, 1, 1, 2, 2, 3, 4, 1, 5, 3, 3, 2, 3, 1, 6, 6, 5, 1, 6, 1, 1, 2, 4, 6, 1, 6, 5, 3, 4, 6, 6, 3, 2, 4, 5, 3, 3, 4, 3, 5, 5, 6, 2, 3, 3, 2, 6, 5, 4, 3, 3, 4, 5, 1, 2, 1, 1, 3, 5, 3, 3, 5, 5, 5, 4, 2, 1, 5, 3, 3, 1, 1, 3, 1, 1, 4, 6, 5, 1, 5, 6, 4, 1, 1, 1, 2, 6, 1, 6, 6, 3, 6, 1, 4, 1, 4, 1, 1, 2, 3, 2, 4, 1, 3, 6, 5, 4, 3, 3, 5, 2, 3, 6, 1, 5, 4, 1, 6, 3, 1, 1, 3, 2, 2, 3, 2, 6, 4, 2, 4, 1, 5, 3, 3, 2, 6, 4, 5, 6, 2, 5, 3, 4, 5, 4, 2, 2, 6, 3, 6, 2, 3, 4, 5, 6, 6, 5, 1, 1, 2, 3, 3, 1, 3, 1, 2, 1, 6, 3, 5, 3, 3, 4, 3, 3, 3, 4, 6, 1, 2, 3, 6, 3, 2, 1, 2, 5, 6, 3, 2, 2, 1, 6, 4, 5, 5, 5, 6, 3, 5, 6, 4, 4, 2, 3, 4, 4, 6, 1, 2, 6, 4, 5, 1, 2, 6, 3, 4, 5, 2, 1, 5, 6, 5, 4, 5, 5, 4, 2, 3, 1, 1, 1, 1, 5, 2, 1, 5, 2, 4, 3, 6, 5, 3, 3, 1, 1, 5, 2, 2, 6, 2, 3, 5, 4, 4, 6, 5, 6, 6, 5, 2, 1, 4, 6, 5, 3, 3, 2, 1, 3, 6, 2, 4, 3, 3, 1, 3, 2, 3, 6, 4, 2, 4, 3, 3, 1, 5, 2, 3, 3, 3, 3, 4, 5, 6, 6, 5, 1, 2, 6, 2, 5, 5, 1, 6, 2, 4, 5, 3, 5, 5, 5, 3, 5, 4, 2, 1, 6, 2, 3, 3, 3, 3, 1, 1, 6, 4, 4, 5, 4, 5, 3, 6, 4, 2, 5, 3, 4, 2, 1, 3, 5, 5, 1, 5, 5, 2, 2, 5, 5, 5, 4, 3, 2, 2, 2, 3, 6, 2, 5, 1, 2, 4, 1, 4, 3, 1, 5, 4, 6, 6, 3, 4, 3, 5, 2, 2, 1, 5, 6, 1, 5, 5, 6, 5, 1, 4, 6, 2, 4, 1, 6, 3, 3, 5, 6, 1, 1, 1, 6, 5, 4, 4, 3, 5, 4, 4, 6, 5, 2, 3, 2, 4, 2, 6, 6, 5, 4, 3, 2, 2, 4, 5, 1, 2, 1, 1, 1, 4, 3, 5, 5, 2, 5, 3, 3, 1, 5, 1, 5, 5, 2, 4, 3, 2, 1, 2, 6, 2, 5, 2, 4, 4, 6, 4, 3, 5, 6, 5, 3, 6, 6, 1, 2, 1, 1, 6, 6, 4, 4, 3, 5, 3, 5, 6, 6, 6, 1, 5, 5, 1, 3, 2, 5, 6, 2, 6, 6, 3, 3, 1, 3, 6, 1, 6, 5, 3, 1, 2, 1, 2, 2, 3, 1, 3, 6, 5, 5, 4, 6, 4, 6, 3, 5, 4, 6, 3, 1, 2, 3, 6, 2, 5, 4, 4, 4, 6, 3, 3, 3, 5, 2, 5, 2, 4, 3, 2, 6, 6, 5, 6, 6, 5, 5, 5, 4, 5, 2, 4, 1, 1, 1, 2, 2, 2, 4, 3, 4, 3, 2, 6, 1, 1, 1, 6, 2, 5, 6, 1, 2, 2, 2, 3, 1, 1, 1, 3, 3, 3, 6, 5, 2, 6, 2, 3, 2, 3, 4, 2, 5, 3, 3, 5, 2, 3, 6, 1, 5, 2, 1, 4, 6, 6, 3, 6, 1, 3, 5, 4, 2, 3, 5, 3, 3, 2, 1, 6, 1, 2, 3, 3, 4, 6, 4, 6, 4, 5, 6, 5, 5, 4, 6, 5, 2, 6, 2, 1, 6, 1, 5, 4, 6, 5, 4, 4, 2, 5, 6, 2, 1, 5, 1, 6, 3, 5, 3, 1, 3, 1, 1, 2, 4, 4, 4, 6, 6, 2, 6, 5, 1, 2, 2, 5, 3, 5, 5, 4, 2, 1, 3, 1, 2, 3, 2, 3, 3, 5, 4, 3, 4, 6, 4, 1, 2, 4, 2, 3, 1, 5, 5, 6, 2, 2, 3, 4, 4, 2, 3, 4, 6, 6, 6, 3, 4, 6, 2, 3, 2, 4, 6, 4, 3, 1, 2, 6, 2, 2, 4, 6, 4, 2, 4, 1, 3, 5, 5, 4, 1, 6, 6, 3, 1, 3, 5, 4, 3, 1, 5, 2, 1, 3, 5, 3, 5, 6, 6, 4, 5, 4, 3, 6, 2, 4, 6, 6, 2, 3, 4, 5, 1, 5, 4, 4, 1, 4, 4, 4, 1, 6, 1, 2, 4, 1, 5, 5, 1, 4, 5, 3, 2, 6, 3, 2, 2, 4, 3, 5, 6, 4, 1, 3, 5, 2, 1, 3, 1, 5, 3, 2, 1, 3, 5, 5, 5, 2, 5, 4, 4, 2, 4, 4, 3, 2, 4, 5, 1, 6, 3, 2, 5, 1, 2, 1, 2, 1, 3, 3, 6, 3, 4, 2, 3, 2, 3, 6, 1, 5, 3, 4, 4, 2, 5, 3, 3, 3, 1, 2, 4, 6, 1, 4, 1, 5, 4, 5, 1, 4, 2, 6, 1, 1, 5, 4, 5, 2, 5, 6, 2, 5, 5, 4, 6, 2, 4, 6, 6, 1, 3, 4, 1, 1, 4, 1, 5, 3, 2, 4, 4, 6, 5, 5, 6, 3, 4, 1, 4, 3, 1, 6, 4, 6, 6, 6, 2, 6, 6, 6, 3, 6, 5, 3, 6, 2, 3, 4, 5, 5, 4, 2, 5, 1, 5, 2, 1, 5, 1, 6, 2, 5, 2, 3, 3, 6, 5, 1, 1, 3, 6, 5, 1, 5, 1, 3, 2, 6, 1, 4, 1, 3, 3, 5, 5, 6, 1, 6, 4, 6, 3, 2, 2, 2, 1, 5, 2, 6, 2, 1, 2, 4, 2, 2, 3, 1, 6, 4, 1, 2, 5, 2, 3, 5, 4, 1, 1, 4, 4, 4, 5, 1, 4, 5, 4, 1, 2, 3, 6, 6, 1, 4, 4, 2, 6, 2, 5, 5, 5, 2, 2, 4, 4, 4, 4, 4, 3, 2, 6, 4, 1, 2, 1, 4, 2, 5, 3, 5, 4, 6, 4, 2, 1, 6, 2, 2, 5, 1, 6, 1, 4, 2, 1, 2, 5, 6, 1, 2, 5, 2, 3, 2, 1, 5, 3, 4, 3, 2, 1, 3, 3, 4, 3, 2, 1, 1, 5, 4, 4, 5, 2, 3, 5, 4, 1, 2, 2, 1, 5, 5, 2, 6, 5, 1, 2, 6, 2, 4, 1, 5, 5, 2, 4, 1, 3, 5, 1, 1, 3, 1, 5, 3, 4, 1, 5, 4, 4, 2, 1, 3, 4, 3, 6, 1, 5, 2, 6, 6, 5, 4, 3, 1, 6, 2, 2, 1, 4, 4, 3, 5, 2, 4, 3, 2, 1, 6, 6, 5, 6, 4, 3, 5, 5, 2, 2, 2, 5, 4, 5, 6, 4, 1, 1, 3, 4, 4, 2, 6, 5, 3, 4, 3, 2, 5, 2, 2, 1, 3, 3, 6, 1, 6, 1, 4, 1, 2, 3, 3, 5, 3, 1, 1, 4, 1, 1, 3, 3, 3, 2, 1, 1, 2, 1, 1, 6, 2, 5, 6, 4, 2, 4, 4, 1, 5, 5, 1, 5, 5, 5, 2, 5, 1, 1, 1, 3, 6, 3, 5, 1, 3, 5, 5, 5, 3, 2, 4, 6, 1, 3, 4, 5, 4, 3, 6, 4, 2, 4, 5, 2, 2, 1, 3, 6, 6, 6, 6, 6, 4, 1, 4, 2, 4, 3, 5, 1, 2, 4, 2, 5, 6, 2, 2, 6, 3, 2, 4, 1, 6, 1, 2, 3, 6, 2, 1, 5, 2, 6, 6, 6, 4, 5, 1, 4, 5, 3, 3, 6, 6, 1, 2, 1, 6, 4, 1, 4, 3, 2, 3, 6, 4, 1, 2, 4, 4, 1, 5, 1, 6, 3, 5, 6, 6, 1, 6, 3, 2, 1, 2, 6, 2, 4, 1, 5, 2, 5, 1, 5, 5, 5, 6, 3, 4, 3, 6, 4, 6, 1, 1, 4, 3, 4, 3, 2, 1, 2, 1, 2, 6, 4, 3, 1, 4, 3, 3, 2, 6, 6, 1, 6, 5, 5, 5, 3, 4, 1, 6, 5, 3, 2, 4, 5, 4, 5, 1, 5, 4, 6, 5, 2, 5, 5, 5, 2, 3, 5, 5, 1, 2, 1, 2, 3, 6, 4, 5, 5, 6, 3, 5, 5, 6, 3, 1, 4, 4, 4, 3, 6, 5, 6, 3, 5, 5, 6, 5, 5, 4, 6, 2, 2, 6, 6, 6, 1, 4, 4, 2, 1, 4, 6, 5, 3, 5, 6, 3, 6, 6, 4, 5, 1, 2, 4, 2, 6, 5, 4, 4, 6, 3, 5, 2, 2, 5, 4, 2, 6, 1, 6, 4, 3, 2, 2, 5, 3, 6, 6, 5, 4, 5, 3, 6, 4, 4, 4, 4, 2, 6, 2, 4, 4, 4, 5, 1, 5, 5, 3, 1, 3, 6, 4, 5, 3, 2, 5, 4, 3, 6, 6, 2, 2, 2, 3, 3, 2, 3, 5, 2, 6, 2, 4, 1, 3, 1, 6, 2, 4, 2, 5, 5, 3, 1, 1, 4, 5, 5, 6, 5, 5, 6, 2, 4, 2, 6, 1, 5, 6, 2, 6, 1, 5, 4, 2, 5, 1, 2, 5, 1, 5, 1, 6, 6, 3, 2, 3, 3, 1, 6, 6, 6, 5, 1, 3, 2, 1, 1, 4, 1, 3, 3, 2, 4, 6, 6, 6, 2, 6, 5, 5, 4, 1, 3, 6, 1, 6, 1, 6, 3, 4, 6, 5, 2, 6, 4, 4, 6, 1, 2, 3, 1, 3, 2, 2, 2, 1, 6, 4, 6, 1, 5, 4, 6, 5, 3, 2, 3, 5, 6, 5, 1, 3, 2, 5, 2, 2, 3, 6, 4, 2, 6, 2, 6, 1, 4, 6, 6, 4, 4, 5, 5, 3, 4, 2, 4, 1, 1, 4, 5, 3, 6, 5, 1, 4, 3, 6, 1, 3, 3, 2, 2, 2, 3, 2, 4, 2, 6, 1, 2, 4, 2, 3, 1, 6, 1, 4, 2, 4, 6, 1, 6, 1, 3, 5, 1, 2, 2, 1, 2, 5, 6, 6, 6, 1, 6, 3, 2, 4, 2, 3, 4, 4, 3, 5, 2, 6, 6, 3, 2, 5, 6, 5, 4, 3, 2, 4, 3, 1, 2, 3, 3, 5, 3, 1, 5, 5, 3, 1, 2, 2, 1, 3, 4, 1, 1, 4, 2, 1, 4, 3, 3, 6, 6, 5, 5, 4, 4, 1, 5, 2, 3, 5, 2, 4, 4, 6, 4, 4, 1, 5, 2, 1, 5, 6, 5, 3, 2, 5, 4, 4, 4, 6, 6, 5, 6, 5, 5, 5, 6, 2, 5, 3, 2, 1, 2, 6, 2, 3, 1, 2, 6, 5, 5, 2, 2, 4, 3, 2, 5, 4, 4, 4, 5, 4, 2, 3, 6, 4, 1, 5, 5, 4, 6, 4, 6, 2, 6, 1, 6, 1, 5, 5, 5, 1, 1, 6, 4, 3, 1, 1, 4, 6, 2, 6, 1, 1, 5, 6, 1, 1, 1, 2, 3, 6, 4, 5, 1, 2, 6, 6, 6, 1, 6, 5, 3, 4, 6, 3, 5, 4, 4, 2, 5, 1, 5, 1, 3, 6, 2, 1, 5, 4, 2, 1, 6, 1, 6, 6, 4, 4, 3, 4, 2, 6, 3, 2, 5, 5, 3, 4, 5, 4, 4, 3, 5, 2, 3, 5, 2, 5, 6, 3, 2, 6, 1, 1, 1, 2, 2, 6, 5, 3, 4, 6, 4, 1, 6, 4, 2, 3, 6, 4, 4, 5, 5, 3, 5, 4, 4, 1, 6, 4, 5, 1, 6, 5, 4, 2, 5, 3, 5, 6, 6, 2, 4, 6, 2, 4, 5, 6, 2, 4, 3, 5, 6, 5, 4, 6, 5, 4, 3, 1, 5, 2, 2, 5, 2, 4, 4, 4, 6, 5, 5, 6, 2, 5, 4, 2, 2, 3, 1, 4, 5, 4, 5, 6, 5, 2, 3, 1, 6, 2, 6, 4, 4, 5, 5, 4, 5, 3, 1, 6, 2, 1, 1, 5, 6, 4, 5, 5, 6, 5, 1, 3, 4, 5, 5, 5, 5, 4, 2, 5, 5, 3, 2, 5, 3, 2, 5, 6, 2, 4, 1, 3, 2, 1, 3, 1, 4, 5, 4, 1, 1, 3, 5, 5, 6, 2, 5, 4, 1, 3, 4, 6, 5, 5, 5, 3, 1, 3, 6, 5, 2, 4, 6, 5, 1, 6, 5, 3, 5, 1, 4, 2, 3, 5, 4, 4, 1, 3, 5, 6, 1, 3, 1, 1, 3, 1, 4, 5, 6, 6, 3, 2, 6, 6, 1, 1, 3, 6, 1, 2, 2, 2, 1, 2, 3, 3, 3, 3, 3, 3, 5, 6, 2, 1, 2, 3, 5, 1, 6, 2, 5, 6, 1, 6, 1, 3, 2, 4, 6, 5, 6, 4, 1, 4, 6, 1, 3, 1, 1, 4, 4, 5, 5, 2, 3, 3, 3, 3, 2, 1, 6, 2, 4, 1, 5, 6, 2, 1, 5, 6, 6, 4, 1, 3, 5, 2, 3, 5, 1, 6, 5, 4, 4, 2, 3, 5, 2, 4, 2, 6, 4, 1, 5, 3, 6, 2, 6, 6, 4, 6, 6, 5, 4, 2, 4, 6, 5, 4, 3, 1, 1, 6, 3, 5, 3, 2, 5, 3, 3, 1, 6, 1, 5, 5, 3, 2, 4, 1, 5, 3, 3, 4, 2, 6, 6, 3, 4, 1, 6, 4, 3, 2, 6, 2, 5, 2, 6, 4, 3, 1, 4, 2, 5, 1, 5, 2, 2, 5, 3, 3, 5, 5, 5, 4, 5, 5, 3, 2, 2, 6, 1, 2, 1, 4, 1, 5, 6, 1, 4, 2, 4, 4, 1, 3, 1, 1, 2, 3, 5, 3, 6, 5, 1, 5, 6, 4, 3, 2, 3, 3, 5, 3, 1, 5, 1, 2, 6, 4, 1, 4, 3, 3, 6, 2, 3, 5, 1, 6, 6, 6, 5, 2, 3, 1, 2, 6, 2, 6, 1, 6, 1, 2, 5, 2, 2, 4, 6, 2, 5, 4, 1, 4, 5, 2, 5, 5, 5, 4, 5, 2, 3, 3, 3, 3, 2, 3, 2, 4, 1, 5, 4, 4, 1, 1, 5, 3, 2, 6, 2, 5, 1, 2, 5, 3, 3, 5, 2, 3, 1, 5, 4, 4, 5, 1, 5, 4, 4, 1, 2, 4, 5, 5, 2, 3, 5, 1, 2, 2, 6, 2, 4, 4, 5, 2, 5, 5, 4, 1, 6, 3, 5, 3, 1, 3, 5, 3, 3, 3, 3, 3, 1, 5, 4, 1, 2, 1, 2, 5, 1, 1, 2, 6, 2, 5, 3, 4, 3, 3, 2, 6, 1, 2, 3, 3, 5, 2, 1, 3, 2, 6, 2, 1, 1, 4, 3, 2, 2, 4, 6, 2, 6, 1, 1, 6, 2, 3, 4, 6, 5, 4, 1, 4, 1, 5, 1, 2, 4, 2, 5, 5, 3, 2, 5, 6, 3, 1, 5, 4, 1, 2, 2, 4, 6, 3, 4, 6, 5, 3, 5, 1, 3, 1, 3, 2, 3, 6, 2, 4, 4, 2, 3, 1, 1, 3, 1, 2, 4, 5, 4, 1, 3, 2, 1, 4, 3, 6, 3, 2, 2, 6, 1, 6, 5, 6, 4, 1, 6, 5, 5, 1, 6, 6, 6, 1, 6, 4, 2, 2, 5, 4, 6, 1, 5, 4, 3, 1, 3, 3, 1, 1, 2, 6, 6, 2, 1, 3, 3, 3, 4, 6, 4, 5, 5, 3, 1, 5, 2, 6, 4, 6, 1, 6, 4, 2, 6, 5, 1, 1, 1, 2, 6, 1, 3, 6, 5, 5, 2, 2, 2, 2, 6, 2, 4, 2, 5, 2, 3, 3, 5, 6, 6, 6, 4, 6, 3, 2, 4, 6, 3, 1, 6, 3, 5, 6, 5, 1, 1, 5, 3, 2, 6, 4, 2, 5, 6, 3, 2, 5, 3, 2, 4, 5, 5, 3, 3, 6, 1, 1, 1, 5, 5, 2, 4, 1, 4, 1, 2, 2, 4, 2, 6, 5, 2, 6, 4, 2, 6, 2, 2, 5, 2, 4, 2, 5, 5, 2, 1, 4, 3, 1, 6, 1, 1, 1, 4, 2, 3, 1, 6, 5, 5, 1, 5, 2, 5, 6, 6, 3, 2, 4, 6, 2, 5, 1, 1, 2, 5, 4, 3, 6, 2, 5, 1, 5, 1, 6, 1, 4, 4, 3, 6, 1, 2, 4, 3, 4, 4, 6, 1, 4, 3, 2, 4, 1, 6, 2, 2, 5, 2, 2, 5, 5, 5, 1, 5, 5, 1, 4, 4, 3, 4, 5, 3, 3, 2, 1, 2, 4, 5, 2, 2, 3, 6, 6, 2, 3, 4, 4, 3, 1, 4, 2, 6, 4, 3, 5, 4, 4, 2, 2, 3, 5, 1, 1, 6, 6, 4, 4, 5, 1, 5, 3, 4, 5, 2, 5, 6, 3, 6, 6, 6, 2, 6, 2, 3, 6, 5, 4, 5, 5, 4, 2, 4, 5, 5, 6, 3, 5, 1, 3, 3, 5, 2, 6, 3, 3, 3, 3, 2, 2, 1, 4, 6, 2, 5, 2, 4, 5, 2, 1, 6, 5, 2, 4, 6, 6, 1, 2, 6, 1, 4, 6, 1, 1, 6, 6, 1, 4, 4, 6, 5, 6, 3, 3, 5, 1, 1, 5, 1, 6, 5, 6, 2, 6, 4, 6, 1, 2, 3, 3, 5, 2, 4, 5, 4, 2, 1, 5, 6, 4, 6, 4, 3, 2, 5, 6, 1, 3, 5, 1, 3, 6, 1, 3, 5, 6, 4, 6, 1, 5, 6, 2, 5, 4, 5, 5, 1, 1, 4, 6, 3, 3, 1, 3, 3, 2, 3, 3, 3, 4, 3, 5, 3, 4, 3, 6, 6, 6, 4, 4, 5, 6, 2, 5, 2, 2, 3, 3, 5, 6, 4, 2, 3, 6, 3, 5, 5, 5, 1, 2, 6, 2, 2, 3, 4, 4, 2, 4, 2, 4, 3, 6, 4, 3, 3, 1, 4, 3, 3, 5, 3, 1, 6, 1, 5, 5, 3, 4, 3, 4, 1, 6, 5, 3, 4, 2, 6, 4, 6, 2, 3, 5, 6, 1, 3, 6, 3, 3, 2, 1, 5, 3, 5, 4, 3, 6, 1, 5, 2, 4, 1, 3, 6, 2, 4, 4, 4, 2, 3, 6, 4, 5, 3, 4, 1, 6, 5, 6, 3, 4, 3, 1, 6, 1, 4, 2, 1, 5, 2, 3, 2, 5, 5, 2, 5, 3, 5, 1, 6, 6, 3, 3, 5, 6, 5, 3, 6, 1, 4, 3, 6, 1, 2, 3, 4, 5, 5, 2, 2, 6, 1, 4, 4, 6, 5, 1, 3, 5, 4, 2, 6, 1, 5, 3, 4, 5, 1, 4, 6, 6, 4, 1, 5, 4, 5, 5, 5, 3, 6, 2, 5, 5, 4, 3, 6, 5, 5, 5, 6, 4, 4, 6, 5, 3, 2, 1, 2, 4, 3, 6, 2, 6, 1, 1, 1, 4, 2, 4, 6, 4, 3, 1, 5, 1, 5, 3, 3, 4, 1, 1, 2, 2, 5, 2, 5, 2, 1, 1, 3, 2, 2, 1, 1, 2, 6, 2, 3, 5, 3, 6, 4, 2, 5, 5, 1, 5, 1, 5, 5, 2, 5, 1, 5, 3, 4, 1, 5, 5, 2, 2, 5, 3, 5, 4, 5, 5, 1, 2, 6, 1, 1, 3, 1, 5, 5, 3, 2, 1, 1, 5, 6, 2, 2, 6, 6, 6, 6, 1, 1, 2, 2, 5, 4, 3, 3, 2, 1, 4, 4, 4, 1, 2, 2, 5, 1, 6, 1, 2, 3, 5, 5, 1, 4, 1, 4, 6, 4, 5, 1, 2, 2, 6, 3, 4, 2, 4, 6, 5, 6, 6, 2, 6, 4, 5, 1, 1, 3, 2, 3, 1, 5, 6, 4, 1, 3, 5, 2, 6, 1, 5, 1, 1, 2, 5, 5, 6, 1, 5, 4, 5, 2, 6, 5, 5, 6, 4, 6, 2, 1, 6, 2, 4, 6, 3, 4, 4, 3, 3, 3, 5, 1, 3, 4, 6, 2, 2, 4, 3, 5, 4, 3, 6, 6, 4, 5, 2, 3, 1, 3, 2, 6, 3, 6, 4, 6, 5, 1, 4, 1, 4, 3, 5, 6, 2, 5, 3, 4, 1, 2, 6, 3, 5, 6, 1, 3, 3, 3, 5, 5, 2, 6, 1, 4, 5, 1, 1, 1, 2, 5, 3, 3, 4, 6, 4, 2, 1, 1, 6, 5, 4, 5, 1, 5, 6, 5, 3, 2, 1, 6, 1, 3, 3, 6, 2, 5, 3, 6, 3, 6, 2, 4, 6, 2, 6, 2, 2, 3, 1, 4, 2, 2, 2, 4, 6, 5, 2, 1, 2, 2, 2, 6, 3, 2, 1, 3, 6, 2, 6, 2, 2, 2, 3, 1, 3, 2, 3, 1, 2, 2, 3, 5, 1, 6, 3, 1, 5, 2, 6, 5, 4, 2, 1, 4, 3, 2, 1, 6, 1, 2, 3, 2, 6, 2, 6, 5, 6, 5, 3, 5, 5, 1, 4, 6, 5, 5, 6, 4, 5, 5, 3, 4, 3, 4, 6, 4, 6, 3, 5, 5, 3, 2, 2, 3, 3, 4, 4, 6, 5, 5, 6, 5, 4, 1, 5, 4, 5, 5, 5, 4, 2, 4, 3, 1, 4, 1, 4, 1, 3, 6, 4, 3, 3, 4, 6, 4, 4, 2, 2, 3, 5, 4, 5, 4, 1, 5, 2, 5, 6, 1, 6, 1, 1, 5, 2, 6, 4, 4, 4, 3, 5, 6, 2, 5, 2, 3, 5, 6, 6, 4, 3, 3, 3, 3, 6, 5, 6, 3, 6, 2, 1, 1, 3, 4, 4, 5, 1, 5, 3, 2, 3, 1, 3, 6, 1, 3, 2, 4, 1, 5, 4, 2, 4, 2, 6, 4, 2, 4, 6, 6, 1, 1, 2, 4, 2, 1, 5, 4, 2, 4, 2, 6, 4, 3, 1, 1, 6, 4, 3, 1, 5, 5, 2, 1, 4, 6, 5, 2, 6, 5, 2, 4, 1, 4, 5, 4, 1, 1, 3, 5, 4, 5, 4, 3, 2, 3, 5, 5, 1, 5, 2, 3, 2, 2, 3, 1, 5, 5, 4, 2, 1, 1, 6, 3, 4, 1, 5, 6, 6, 3, 2, 2, 5, 5, 1, 3, 2, 5, 1, 2, 1, 2, 6, 4, 3, 6, 1, 2, 5, 6, 4, 4, 4, 6, 1, 1, 3, 6, 2, 2, 2, 4, 2, 2, 1, 3, 3, 2, 1, 4, 3, 6, 2, 1, 1, 6, 4, 5, 2, 3, 1, 1, 1, 1, 3, 5, 6, 1, 4, 2, 1, 4, 5, 3, 1, 6, 3, 2, 1, 1, 1, 6, 2, 2, 3, 3, 1, 1, 4, 5, 6, 3, 2, 5, 1, 3, 2, 5, 5, 1, 6, 5, 6, 1, 3, 4, 2, 4, 2, 6, 6, 4, 3, 3, 4, 1, 2, 5, 1, 2, 6, 5, 5, 3, 6, 3, 2, 2, 6, 1, 4, 2, 3, 2, 3, 3, 6, 2, 6, 6, 4, 4, 1, 5, 6, 2, 2, 1, 3, 5, 5, 6, 6, 6, 2, 2, 3, 5, 4, 1, 1, 3, 6, 5, 6, 2, 2, 1, 4, 3, 6, 5, 1, 1, 6, 3, 2, 4, 1, 5, 2, 4, 2, 1, 6, 2, 4, 3, 3, 4, 6, 6, 4, 3, 4, 2, 4, 6, 2, 6, 1, 2, 2, 3, 5, 2, 1, 4, 4, 3, 3, 1, 1, 1, 2, 2, 6, 3, 2, 1, 5, 3, 2, 3, 1, 3, 3, 4, 3, 6, 6, 5, 1, 2, 2, 5, 3, 3, 3, 2, 5, 6, 2, 3, 2, 5, 5, 1, 6, 6, 6, 1, 3, 4, 5, 2, 5, 6, 2, 3, 3, 5, 3, 5, 2, 4, 3, 4, 3, 6, 4, 3, 6, 2, 3, 6, 4, 5, 3, 4, 6, 1, 6, 3, 6, 4, 3, 6, 1, 6, 5, 3, 6, 4, 2, 4, 3, 5, 3, 4, 2, 6, 4, 1, 4, 5, 2, 1, 3, 3, 3, 3, 6, 3, 3, 3, 3, 4, 6, 6, 4, 4, 3, 2, 5, 6, 1, 2, 2, 3, 5, 1, 1, 4, 3, 3, 2, 2, 5, 3, 2, 1, 4, 6, 1, 5, 2, 2, 3, 3, 3, 5, 1, 4, 3, 6, 1, 3, 5, 6, 2, 2, 2, 4, 1, 5, 1, 3, 1, 1, 6, 6, 6, 4, 3, 3, 4, 4, 5, 3, 3, 4, 4, 5, 3, 3, 2, 4, 4, 3, 6, 3, 1, 3, 6, 5, 2, 2, 3, 4, 6, 3, 2, 2, 2, 6, 3, 3, 1, 6, 3, 5, 4, 2, 6, 6, 5, 4, 2, 6, 4, 2, 4, 3, 1, 1, 2, 1, 6, 4, 2, 6, 3, 1, 4, 6, 3, 5, 4, 3, 6, 5, 2, 4, 5, 2, 6, 1, 2, 5, 5, 6, 3, 3, 4, 3, 6, 6, 6, 4, 6, 2, 1, 2, 3, 2, 5, 6, 6, 6, 1, 5, 2, 1, 1, 3, 4, 2, 2, 2, 1, 3, 2, 2, 3, 3, 4, 3, 3, 6, 2, 1, 3, 4, 6, 5, 2, 2, 4, 4, 2, 1, 2, 5, 5, 1, 2, 6, 4, 1, 1, 6, 4, 3, 6, 4, 5, 3, 6, 4, 1, 3, 5, 1, 4, 3, 2, 1, 6, 1, 3, 6, 2, 5, 5, 2, 1, 1, 6, 1, 4, 1, 2, 1, 3, 6, 5, 5, 3, 6, 4, 6, 1, 3, 2, 5, 3, 5, 2, 3, 5, 6, 1, 1, 1, 2, 3, 5, 5, 6, 1, 5, 1, 5, 2, 3, 6, 1, 4, 1, 1, 6, 3, 5, 6, 5, 5, 5, 4, 2, 5, 5, 5, 6, 3, 3, 6, 2, 6, 1, 3, 6, 3, 6, 1, 4, 5, 3, 2, 1, 4, 6, 6, 5, 6, 4, 3, 5, 6, 3, 3, 6, 1, 1, 6, 6, 5, 6, 1, 6, 3, 2, 2, 2, 3, 2, 5, 3, 4, 3, 4, 6, 2, 3, 2, 4, 6, 4, 2, 6, 4, 4, 4, 3, 6, 3, 1, 3, 6, 3, 1, 2, 2, 4, 2, 4, 3, 6, 4, 3, 2, 2, 2, 3, 5, 4, 1, 5, 3, 6, 3, 4, 6, 4, 6, 3, 1, 3, 1, 3, 1, 5, 4, 3, 6, 5, 3, 3, 3, 6, 6, 5, 1, 1, 1, 3, 3, 4, 5, 5, 4, 2, 5, 5, 2, 3, 5, 1, 2, 2, 6, 6, 5, 4, 5, 5, 5, 4, 2, 5, 3, 6, 6, 3, 3, 5, 3, 4, 2, 6, 1, 6, 6, 1, 2, 6, 4, 1, 5, 1, 4, 3, 6, 1, 1, 5, 4, 4, 1, 4, 5, 3, 5, 1, 5, 4, 1, 5, 1, 1, 6, 2, 3, 6, 1, 1, 1, 3, 5, 3, 6, 5, 5, 3, 5, 3, 5, 6, 6, 4, 5, 6, 6, 2, 3, 1, 2, 3, 1, 4, 5, 6, 2, 4, 3, 6, 1, 2, 1, 3, 2, 4, 2, 5, 1, 1, 5, 5, 2, 5, 5, 3, 6, 1, 2, 3, 6, 4, 3, 2, 4, 5, 3, 1, 3, 3, 3, 1, 2, 5, 3, 6, 6, 3, 4, 5, 1, 5, 4, 2, 6, 5, 6, 2, 2, 2, 2, 4, 5, 6, 2, 2, 3, 1, 4, 1, 4, 2, 3, 5, 3, 4, 2, 6, 3, 5, 3, 6, 3, 3, 2, 5, 3, 5, 1, 3, 3, 4, 3, 3, 2, 2, 1, 5, 1, 1, 4, 4, 1, 5, 6, 2, 2, 1, 2, 2, 6, 6, 3, 3, 3, 2, 6, 2, 4, 1, 3, 4, 2, 4, 5, 5, 5, 6, 6, 3, 4, 2, 5, 2, 4, 3, 4, 5, 4, 6, 3, 3, 5, 3, 5, 5, 5, 4, 2, 6, 3, 4, 1, 4, 2, 1, 4, 3, 5, 3, 2, 3, 3, 2, 6, 3, 5, 5, 6, 2, 5, 5, 6, 2, 1, 4, 6, 3, 1, 6, 3, 2, 3, 1, 2, 2, 1, 2, 6, 2, 4, 4, 5, 6, 1, 3, 3, 2, 2, 6, 4, 5, 5, 6, 3, 3, 6, 4, 2, 6, 4, 1, 2, 1, 2, 6, 6, 1, 4, 4, 2, 1, 6, 5, 1, 6, 2, 3, 5, 2, 5, 3, 3, 5, 2, 3, 5, 5, 4, 4, 2, 4, 6, 5, 6, 3, 1, 2, 5, 1, 2, 6, 5, 3, 3, 1, 2, 4, 1, 6, 5, 1, 4, 1, 4, 1, 2, 4, 3, 3, 4, 5, 2, 3, 3, 4, 2, 2, 4, 6, 2, 2, 4, 2, 2, 5, 2, 4, 6, 4, 3, 4, 3, 6, 6, 5, 6, 4, 2, 3, 2, 6, 4, 5, 5, 2, 1, 1, 2, 6, 5, 5, 5, 4, 5, 2, 6, 1, 2, 5, 1, 4, 4, 2, 2, 1, 1, 1, 6, 5, 2, 6, 2, 3, 5, 1, 5, 4, 2, 2, 1, 1, 1, 3, 5, 1, 6, 6, 5, 2, 5, 1, 1, 5, 4, 5, 4, 1, 4, 5, 2, 5, 2, 3, 6, 1, 3, 1, 5, 1, 5, 4, 2, 2, 4, 3, 5, 2, 5, 4, 2, 5, 5, 2, 1, 4, 2, 5, 1, 2, 2, 1, 5, 2, 1, 2, 1, 5, 2, 6, 5, 6, 2, 2, 6, 1, 5, 5, 4, 1, 1, 4, 1, 4, 3, 2, 5, 2, 3, 3, 5, 4, 6, 6, 1, 1, 2, 5, 3, 4, 3, 4, 5, 6, 1, 5, 4, 3, 4, 5, 6, 1, 2, 3, 3, 4, 1, 1, 2, 1, 6, 3, 5, 5, 5, 5, 1, 5, 6, 1, 2, 5, 6, 6, 4, 5, 5, 1, 1, 5, 5, 6, 5, 6, 4, 6, 4, 5, 3, 3, 1, 4, 6, 1, 5, 6, 4, 1, 1, 5, 4, 3, 5, 2, 3, 1, 4, 1, 5, 3, 3, 3, 5, 6, 4, 2, 6, 3, 5, 4, 1, 5, 4, 3, 4, 6, 6, 1, 2, 5, 3, 2, 2, 3, 5, 2, 1, 1, 5, 1, 3, 4, 1, 3, 4, 3, 2, 4, 6, 2, 1, 5, 4, 3, 5, 1, 2, 6, 2, 4, 3, 4, 5, 4, 3, 5, 5, 4, 1, 1, 4, 5, 5, 1, 3, 4, 5, 1, 3, 6, 6, 5, 1, 1, 2, 2, 5, 6, 4, 2, 2, 4, 3, 2, 5, 1, 6, 4, 1, 5, 4, 6, 4, 6, 5, 3, 2, 4, 5, 3, 6, 1, 6, 5, 4, 2, 6, 1, 4, 3, 2, 5, 5, 4, 4, 2, 2, 3, 1, 6, 2, 6, 5, 5, 1, 2, 2, 3, 2, 2, 6, 4, 1, 3, 3, 2, 4, 6, 2, 6, 6, 5, 4, 5, 2, 3, 6, 2, 4, 3, 1, 3, 4, 1, 6, 1, 5, 4, 6, 2, 4, 3, 5, 4, 6, 1, 5, 5, 5, 5, 3, 1, 6, 4, 6, 1, 6, 4, 2, 1, 6, 6, 2, 6, 1, 5, 5, 4, 5, 1, 1, 6, 6, 3, 4, 6, 1, 1, 3, 4, 2, 2, 4, 6, 4, 1, 5, 4, 6, 1, 5, 3, 1, 6, 4, 2, 3, 3, 6, 5, 1, 5, 4, 1, 3, 5, 2, 1, 5, 2, 5, 1, 1, 1, 3, 1, 3, 6, 4, 5, 3, 5, 3, 4, 1, 4, 3, 4, 3, 2, 4, 6, 5, 2, 5, 3, 4, 6, 1, 3, 6, 6, 5, 5, 1, 2, 1, 4, 5, 1, 5, 3, 4, 2, 4, 3, 5, 1, 5, 6, 4, 5, 3, 3, 3, 3, 1, 5, 4, 3, 4, 2, 1, 6, 4, 4, 3, 1, 5, 5, 1, 4, 3, 3, 5, 5, 4, 6, 2, 1, 3, 3, 6, 4, 1, 3, 2, 4, 6, 2, 1, 6, 3, 6, 1, 5, 5, 1, 3, 1, 3, 3, 1, 3, 5, 1, 6, 2, 1, 4, 4, 2, 6, 2, 6, 3, 1, 6, 6, 1, 3, 4, 4, 2, 6, 6, 1, 4, 1, 6, 6, 2, 2, 4, 5, 1, 1, 5, 3, 2, 3, 3, 2, 4, 5, 4, 6, 3, 1, 1, 6, 3, 4, 4, 5, 6, 3, 6, 1, 3, 3, 5, 4, 5, 2, 2, 5, 3, 2, 5, 2, 6, 5, 4, 3, 4, 4, 3, 3, 6, 4, 2, 2, 6, 6, 2, 4, 3, 1, 6, 5, 5, 6, 4, 5, 3, 1, 2, 3, 1, 4, 4, 1, 2, 1, 3, 1, 2, 2, 3, 3, 6, 1, 1, 5, 6, 1, 6, 6, 1, 3, 4, 6, 4, 3, 2, 6, 5, 1, 4, 3, 3, 2, 3, 3, 3, 6, 3, 4, 1, 5, 5, 5, 3, 1, 4, 4, 5, 6, 1, 2, 5, 5, 5, 6, 3, 3, 2, 2, 3, 3, 1, 4, 4, 4, 4, 3, 5, 3, 4, 6, 5, 3, 1, 4, 2, 4, 5, 5, 5, 3, 6, 4, 4, 2, 6, 4, 4, 5, 5, 5, 5, 2, 4, 1, 2, 3, 1, 5, 1, 5, 3, 6, 4, 2, 4, 6, 6, 2, 3, 2, 6, 2, 3, 4, 4, 5, 3, 2, 2, 1, 1, 1, 6, 6, 5, 5, 4, 5, 3, 5, 4, 2, 2, 3, 4, 4, 5, 6, 1, 4, 6, 5, 2, 5, 4, 1, 4, 2, 6, 4, 4, 4, 5, 1, 1, 5, 3, 3, 1, 6, 1, 6, 5, 4, 2, 1, 1, 3, 1, 6, 3, 2, 1, 2, 2, 4, 5, 4, 4, 6, 6, 6, 4, 6, 5, 3, 5, 3, 3, 5, 5, 5, 6, 2, 4, 5, 1, 6, 3, 5, 3, 4, 1, 4, 4, 3, 2, 1, 2, 6, 4, 4, 2, 4, 5, 5, 1, 1, 1, 1, 2, 4, 5, 6, 3, 2, 5, 6, 2, 2, 1, 2, 1, 3, 1, 4, 6, 3, 4, 6, 4, 4, 1, 6, 5, 4, 5, 4, 3, 3, 6, 6, 3, 5, 4, 4, 4, 1, 3, 1, 3, 4, 5, 4, 6, 4, 3, 3, 6, 4, 5, 1, 2, 6, 3, 4, 5, 2, 2, 4, 5, 1, 3, 5, 3, 4, 3, 6, 4, 1, 3, 4, 2, 6, 3, 1, 2, 1, 2, 2, 4, 1, 6, 4, 2, 1, 4, 4, 1, 2, 2, 5, 4, 1, 2, 4, 1, 5, 6, 4, 6, 1, 6, 3, 3, 1, 1, 1, 5, 3, 1, 4, 5, 6, 1, 3, 5, 1, 3, 4, 6, 4, 1, 3, 6, 4, 2, 5, 5, 6, 3, 1, 5, 3, 1, 3, 2, 2, 6, 6, 3, 3, 5, 4, 5, 1, 1, 1, 6, 1, 1, 3, 4, 2, 5, 2, 2, 1, 2, 2, 3, 1, 5, 6, 3, 2, 5, 1, 1, 2, 3, 3, 2, 3, 6, 3, 1, 3, 1, 6, 2, 4, 1, 1, 6, 4, 2, 3, 4, 2, 5, 1, 5, 6, 6, 3, 2, 1, 6, 4, 1, 3, 5, 1, 6, 6, 5, 1, 3, 3, 1, 1, 1, 5, 2, 5, 2, 1, 1, 1, 1, 2, 2, 6, 6, 6, 1, 3, 2, 6, 6, 3, 1, 6, 6, 5, 3, 6, 3, 1, 3, 4, 5, 3, 5, 6, 4, 6, 5, 3, 5, 2, 6, 5, 3, 5, 6, 2, 4, 4, 5, 3, 1, 3, 5, 3, 4, 4, 4, 2, 2, 5, 5, 3, 2, 2, 1, 3, 2, 4, 3, 6, 4, 2, 1, 3, 4, 4, 3, 5, 6, 2, 1, 5, 6, 4, 2, 1, 5, 4, 2, 1, 2, 4, 6, 2, 2, 1, 3, 5, 6, 2, 3, 3, 2, 3, 1, 6, 5, 6, 3, 2, 6, 5, 4, 6, 4, 1, 1, 4, 6, 2, 3, 3, 5, 5, 4, 1, 2, 2, 2, 2, 1, 1, 4, 3, 2, 4, 6, 4, 5, 6, 6, 3, 4, 1, 2, 4, 1, 2, 4, 2, 6, 1, 3, 1, 3, 1, 2, 4, 6, 1, 6, 1, 6, 1, 5, 4, 5, 1, 3, 6, 5, 6, 5, 3, 1, 2, 6, 5, 1, 1, 3, 6, 4, 2, 3, 1, 2, 3, 2, 5, 6, 6, 3, 6, 5, 4, 3, 5, 5, 3, 6, 1, 5, 4, 6, 2, 6, 4, 6, 1, 4, 3, 3, 3, 1, 3, 6, 6, 2, 6, 6, 6, 3, 6, 3, 3, 6, 6, 6, 3, 6, 6, 1, 2, 4, 3, 6, 6, 3, 2, 6, 4, 4, 1, 3, 2, 3, 4, 1, 2, 5, 4, 3, 4, 5, 4, 2, 2, 1, 6, 4, 5, 3, 6, 6, 6, 4, 1, 2, 5, 2, 4, 1, 3, 1, 4, 2, 1, 6, 2, 4, 6, 4, 6, 2, 1, 3, 3, 2, 1, 1, 4, 1, 6, 4, 2, 4, 2, 3, 3, 5, 4, 2, 4, 5, 2, 2, 3, 2, 3, 5, 6, 5, 5, 2, 4, 6, 6, 3, 2, 4, 1, 4, 3, 4, 2, 3, 1, 5, 3, 2, 3, 3, 1, 2, 5, 1, 3, 3, 6, 3, 3, 4, 3, 2, 4, 5, 4, 4, 6, 5, 1, 4, 4, 1, 6, 3, 3, 5, 5, 6, 1, 4, 3, 2, 5, 3, 6, 4, 3, 5, 6, 1, 6, 1, 6, 1, 1, 3, 6, 6, 4, 4, 5, 2, 5, 6, 4, 2, 3, 3, 4, 2, 1, 3, 3, 2, 3, 3, 1, 5, 5, 4, 1, 4, 3, 3, 2, 6, 6, 4, 1, 3, 4, 5, 2, 6, 5, 1, 2, 1, 6, 1, 3, 1, 5, 3, 5, 6, 1, 3, 2, 6, 1, 5, 3, 4, 5, 2, 6, 1, 1, 5, 1, 6, 4, 2, 1, 3, 2, 2, 2, 2, 4, 3, 4, 5, 3, 1, 6, 3, 6, 6, 6, 4, 5, 1, 5, 2, 1, 5, 1, 4, 1, 5, 1, 4, 6, 4, 3, 5, 5, 4, 1, 1, 2, 5, 3, 2, 3, 6, 5, 2, 1, 1, 3, 4, 3, 5, 1, 1, 1, 5, 1, 1, 5, 1, 3, 5, 4, 5, 3, 2, 4, 5, 6, 4, 6, 4, 2, 3, 6, 6, 6, 4, 4, 2, 1, 4, 1, 6, 6, 4, 6, 3, 2, 3, 6, 1, 1, 5, 5, 1, 6, 1, 2, 1, 3, 5, 3, 2, 5, 3, 1, 2, 2, 3, 3, 1, 5, 5, 1, 3, 4, 3, 6, 3, 1, 5, 5, 2, 4, 1, 6, 4, 2, 1, 5, 6, 1, 1, 6, 2, 2, 6, 2, 2, 3, 5, 3, 3, 2, 2, 6, 3, 3, 1, 1, 4, 6, 2, 1, 4, 5, 1, 5, 3, 4, 5, 1, 1, 2, 3, 5, 3, 6, 6, 3, 1, 1, 3, 5, 6, 1, 1, 5, 3, 6, 5, 6, 4, 2, 3, 5, 1, 4, 4, 5, 5, 2, 3, 1, 4, 2, 1, 5, 3, 2, 2, 6, 2, 1, 5, 2, 5, 4, 4, 2, 5, 4, 3, 2, 1, 4, 5, 1, 1, 4, 6, 5, 3, 6, 6, 6, 1, 2, 3, 6, 1, 6, 1, 1, 3, 4, 1, 6, 6, 3, 3, 2, 4, 1, 5, 4, 3, 4, 2, 2, 5, 2, 6, 5, 6, 3, 2, 3, 6, 4, 6, 6, 6, 1, 4, 4, 6, 2, 2, 6, 5, 2, 3, 6, 6, 4, 2, 4, 1, 6, 3, 5, 5, 5, 5, 6, 1, 3, 3, 3, 4, 5, 5, 3, 6, 6, 5, 2, 2, 6, 3, 5, 4, 5, 3, 2, 3, 2, 1, 3, 5, 5, 5, 6, 2, 6, 1, 6, 4, 2, 1, 1, 6, 6, 6, 5, 3, 5, 3, 2, 5, 5, 3, 5, 1, 4, 3, 5, 5, 6, 1, 2, 6, 1, 2, 3, 3, 3, 2, 1, 3, 6, 4, 5, 4, 6, 1, 4, 2, 6, 3, 6, 2, 3, 6, 6, 1, 6, 3, 2, 4, 4, 1, 3, 2, 3, 6, 6, 6, 6, 4, 6, 1, 2, 4, 3, 1, 1, 5, 4, 2, 1, 1, 4, 1, 1, 5, 6, 4, 6, 4, 5, 4, 4, 3, 5, 4, 5, 4, 6, 5, 2, 6, 3, 1, 5, 5, 3, 5, 1, 5, 3, 6, 3, 3, 2, 1, 6, 1, 5, 5, 1, 3, 3, 2, 3, 1, 4, 6, 2, 3, 2, 5, 4, 5, 3, 2, 4, 6, 3, 4, 4, 5, 4, 1, 4, 6, 4, 6, 6, 4, 1, 4, 5, 4, 5, 1, 6, 3, 4, 6, 5, 4, 1, 4, 4, 4, 6, 5, 5, 4, 6, 1, 6, 5, 2, 3, 2, 1, 1, 6, 2, 6, 3, 3, 6, 6, 6, 5, 6, 4, 6, 4, 1, 1, 2, 2, 1, 5, 4, 2, 2, 2, 1, 2, 6, 3, 4, 3, 5, 6, 5, 6, 3, 6, 4, 3, 1, 6, 4, 4, 4, 4, 2, 4, 6, 2, 2, 1, 3, 1, 5, 4, 1, 5, 3, 5, 5, 4, 3, 4, 1, 5, 6, 3, 5, 1, 1, 4, 3, 4, 6, 2, 6, 2, 1, 3, 1, 6, 6, 2, 2, 5, 5, 2, 3, 3, 3, 6, 4, 6, 2, 1, 6, 2, 1, 5, 6, 3, 5, 4, 5, 6, 1, 2, 2, 6, 3, 1, 4, 1, 2, 5, 2, 2, 1, 6, 1, 3, 6, 3, 5, 3, 1, 6, 6, 5, 2, 6, 1, 1, 3, 6, 3, 4, 5, 4, 6, 5, 1, 6, 2, 2, 4, 2, 6, 3, 2, 2, 2, 1, 1, 5, 2, 4, 4, 4, 6, 5, 5, 6, 2, 5, 1, 3, 1, 6, 4, 1, 6, 5, 2, 2, 2, 6, 4, 3, 1, 4, 3, 2, 4, 4, 5, 5, 4, 6, 4, 3, 2, 4, 4, 3, 5, 2, 1, 6, 4, 1, 4, 3, 5, 5, 1, 2, 2, 1, 6, 1, 4, 4, 2, 1, 2, 6, 3, 6, 4, 1, 4, 6, 1, 2, 1, 5, 4, 3, 3, 5, 1, 5, 1, 6, 6, 6, 2, 1, 6, 4, 2, 1, 2, 6, 3, 5, 6, 3, 2, 1, 2, 4, 4, 4, 1, 1, 5, 4, 4, 6, 5, 1, 1, 1, 4, 2, 3, 1, 5, 2, 3, 4, 5, 2, 4, 3, 1, 2, 6, 1, 5, 6, 1, 6, 4, 1, 3, 1, 5, 6, 2, 5, 6, 3, 2, 3, 3, 5, 4, 3, 2, 5, 5, 4, 2, 4, 5, 5, 3, 4, 4, 5, 5, 5, 4, 4, 3, 6, 3, 3, 1, 6, 1, 3, 2, 1, 5, 3, 3, 6, 3, 4, 1, 3, 1, 3, 3, 6, 6, 1, 1, 1, 5, 1, 5, 3, 2, 2, 1, 6, 1, 3, 1, 2, 6, 6, 4, 1, 4, 3, 3, 6, 1, 6, 5, 1, 1, 5, 2, 2, 4, 5, 1, 1, 4, 5, 1, 4, 2, 1, 6, 1, 6, 4, 3, 5, 2, 5, 6, 2, 6, 2, 5, 3, 5, 3, 1, 1, 5, 5, 2, 2, 4, 3, 1, 4, 1, 6, 5, 2, 3, 4, 4, 5, 1, 4, 5, 4, 4, 3, 3, 5, 6, 2, 4, 5, 2, 5, 4, 4, 3, 3, 1, 6, 3, 6, 5, 1, 4, 1, 5, 2, 6, 4, 1, 4, 5, 6, 3, 3, 5, 1, 4, 4, 5, 5, 5, 4, 3, 4, 6, 4, 2, 5, 3, 3, 4, 5, 5, 4, 6, 6, 2, 4, 5, 6, 4, 5, 2, 5, 3, 3, 4, 4, 5, 2, 4, 2, 6, 4, 3, 6, 6, 3, 2, 1, 4, 3, 3, 3, 2, 5, 4, 3, 1, 3, 6, 2, 4, 4, 2, 2, 1, 3, 1, 3, 5, 5, 3, 5, 1, 3, 3, 2, 5, 3, 2, 3, 2, 2, 3, 5, 1, 3, 3, 6, 5, 1, 3, 6, 6, 3, 5, 6, 5, 3, 2, 5, 2, 4, 3, 2, 6, 6, 5, 6, 1, 2, 2, 6, 5, 2, 2, 4, 5, 1, 5, 1, 2, 6, 1, 4, 1, 6, 4, 6, 5, 2, 1, 5, 4, 5, 3, 3, 1, 6, 2, 5, 1, 2, 5, 3, 6, 4, 1, 5, 4, 1, 2, 2, 5, 1, 4, 4, 4, 2, 4, 5, 1, 5, 3, 2, 5, 1, 5, 1, 3, 1, 4, 4, 2, 1, 6, 3, 5, 4, 5, 2, 4, 1, 3, 6, 6, 6, 1, 2, 1, 3, 4, 5, 2, 2, 1, 2, 1, 2, 2, 2, 3, 4, 5, 5, 3, 4, 5, 4, 2, 5, 3, 4, 5, 5, 4, 3, 2, 6, 5, 4, 6, 3, 5, 3, 5, 5, 3, 5, 3, 6, 4, 2, 5, 5, 1, 3, 4, 1, 4, 5, 1, 2, 5, 2, 6, 2, 4, 6, 2, 5, 4, 5, 2, 3, 6, 6, 6, 5, 2, 2, 6, 2, 5, 5, 4, 1, 4, 6, 1, 2, 5, 4, 3, 1, 3, 5, 5, 2, 6, 3, 2, 5, 6, 2, 6, 6, 3, 5, 6, 6, 5, 4, 3, 3, 2, 3, 5, 5, 4, 3, 5, 6, 6, 3, 2, 2, 4, 2, 2, 2, 6, 2, 2, 1, 2, 6, 4, 4, 1, 4, 5, 5, 6, 1, 5, 1, 4, 5, 4, 1, 6, 4, 6, 4, 5, 4, 3, 3, 1, 1, 6, 1, 3, 5, 3, 1, 5, 3, 3, 2, 3, 2, 4, 2, 2, 1, 1, 6, 6, 4, 2, 1, 2, 6, 6, 1, 6, 4, 6, 5, 1, 1, 4, 5, 6, 5, 2, 2, 3, 3, 4, 5, 2, 1, 3, 5, 4, 3, 4, 2, 3, 2, 4, 2, 2, 1, 1, 1, 3, 4, 6, 2, 4, 4, 2, 2, 5, 5, 4, 4, 5, 3, 5, 5, 3, 1, 2, 4, 5, 4, 6, 2, 5, 6, 1, 6, 3, 6, 2, 3, 6, 1, 4, 6, 3, 1, 6, 1, 4, 5, 3, 3, 5, 1, 5, 1, 3, 4, 5, 5, 5, 5, 6, 3, 2, 3, 6, 5, 4, 2, 6, 2, 6, 6, 3, 4, 6, 6, 2, 6, 5, 5, 3, 6, 5, 6, 3, 3, 2, 5, 3, 3, 4, 2, 5, 6, 1, 1, 5, 1, 1, 1, 4, 3, 6, 3, 2, 2, 5, 1, 6, 4, 2, 3, 1, 1, 1, 3, 3, 5, 5, 4, 5, 4, 1, 1, 3, 5, 2, 5, 4, 3, 3, 5, 4, 1, 6, 6, 6, 3, 6, 3, 3, 4, 2, 3, 2, 3, 4, 1, 3, 1, 2, 4, 4, 1, 1, 2, 3, 4, 3, 2, 1, 4, 2, 1, 1, 5, 5, 6, 4, 4, 3, 1, 1, 4, 3, 6, 1, 3, 2, 5, 3, 3, 6, 4, 6, 1, 6, 2, 3, 3, 1, 1, 5, 6, 2, 4, 2, 6, 3, 4, 5, 5, 6, 2, 3, 4, 4, 4, 4, 4, 3, 2, 4, 2, 4, 3, 3, 2, 3, 2, 6, 1, 1, 4, 3, 6, 1, 5, 5, 4, 4, 3, 2, 2, 1, 2, 6, 3, 5, 6, 5, 4, 5, 2, 1, 3, 3, 4, 1, 2, 3, 6, 4, 6, 6, 4, 2, 5, 5, 6, 4, 6, 1, 2, 3, 3, 4, 5, 5, 6, 3, 1, 2, 5, 3, 2, 2, 6, 5, 5, 3, 2, 3, 5, 3, 3, 4, 6, 5, 3, 3, 1, 4, 6, 3, 2, 6, 3, 6, 2, 4, 6, 5, 3, 3, 4, 2, 4, 3, 3, 3, 3, 3, 6, 2, 6, 4, 5, 6, 5, 3, 3, 1, 6, 1, 3, 6, 6, 2, 4, 5, 6, 6, 6, 2, 6, 4, 6, 4, 4, 4, 4, 1, 5, 2, 6, 1, 4, 5, 4, 4, 4, 6, 3, 4, 3, 6, 3, 4, 6, 2, 4, 1, 1, 1, 6, 2, 6, 5, 1, 6, 2, 2, 1, 2, 2, 3, 5, 3, 6, 3, 3, 5, 2, 6, 4, 3, 2, 2, 2, 3, 2, 2, 1, 5, 6, 3, 3, 6, 6, 1, 2, 1, 6, 4, 6, 2, 5, 3, 5, 1, 1, 1, 6, 5, 2, 1, 5, 5, 4, 1, 3, 4, 2, 5, 2, 3, 6, 2, 1, 5, 5, 5, 6, 6, 5, 3, 1, 1, 4, 3, 4, 3, 3, 4, 2, 3, 5, 4, 4, 5, 5, 6, 2, 6, 1, 4, 4, 1, 5, 3, 6, 6, 2, 3, 3, 5, 3, 5, 4, 2, 3, 1, 4, 3, 4, 5, 2, 4, 4, 2, 6, 3, 2, 1, 4, 4, 2, 6, 5, 3, 5, 6, 3, 6, 3, 4, 1, 1, 3, 3, 1, 4, 5, 3, 4, 2, 4, 1, 3, 5, 6, 6, 5, 5, 4, 6, 6, 5, 1, 3, 4, 5, 3, 4, 2, 4, 2, 5, 2, 4, 1, 5, 5, 6, 1, 3, 4, 5, 1, 2, 4, 4, 5, 4, 2, 5, 3, 3, 4, 5, 6, 5, 4, 1, 3, 4, 3, 2, 2, 4, 2, 5, 5, 3, 1, 4, 3, 5, 3, 6, 6, 2, 2, 4, 1, 4, 4, 1, 5, 3, 2, 4, 1, 1, 3, 1, 1, 6, 2, 1, 3, 1, 5, 3, 6, 1, 2, 5, 5, 2, 5, 6, 1, 2, 2, 6, 4, 4, 5, 5, 5, 5, 4, 3, 4, 1, 6, 5, 3, 4, 1, 1, 3, 5, 3, 4, 4, 3, 4, 4, 1, 4, 6, 6, 6, 4, 5, 4, 4, 6, 4, 1, 2, 6, 3, 5, 4, 4, 2, 4, 5, 3, 4, 2, 1, 1, 1, 1, 3, 4, 2, 4, 4, 3, 2, 1, 1, 3, 1, 4, 6, 3, 1, 5, 1, 1, 2, 4, 4, 2, 4, 3, 1, 1, 6, 1, 5, 4, 6, 4, 5, 1, 3, 1, 3, 1, 1, 3, 6, 2, 2, 5, 6, 2, 2, 4, 6, 2, 6, 2, 4, 3, 3, 3, 4, 5, 5, 1, 5, 2, 1, 4, 5, 4, 2, 4, 6, 6, 3, 2, 5, 1, 1, 4, 6, 1, 3, 3, 4, 3, 4, 2, 2, 4, 2, 1, 2, 6, 3, 5, 6, 1, 1, 1, 6, 1, 3, 5, 5, 5, 1, 4, 4, 5, 5, 4, 5, 5, 4, 4, 2, 6, 1, 2, 1, 6, 6, 3, 4, 2, 6, 2, 6, 4, 2, 4, 2, 2, 2, 4, 6, 5, 6, 5, 5, 6, 1, 1, 2, 6, 2, 4, 1, 6, 3, 2, 2, 4, 4, 4, 1, 6, 3, 6, 2, 4, 4, 5, 2, 6, 3, 2, 3, 6, 1, 3, 2, 1, 6, 4, 1, 2, 4, 2, 4, 2, 4, 6, 5, 3, 3, 6, 6, 5, 1, 4, 5, 5, 5, 6, 3, 5, 2, 2, 6, 4, 5, 6, 1, 4, 5, 6, 3, 4, 3, 2, 2, 5, 2, 1, 6, 6, 1, 1, 1, 3, 4, 2, 5, 4, 3, 3, 2, 3, 5, 1, 3, 3, 6, 2, 5, 6, 2, 6, 5, 3, 6, 3, 3, 5, 4, 1, 2, 3, 3, 3, 3, 4, 2, 2, 5, 1, 5, 3, 6, 4, 6, 5, 4, 2, 4, 6, 2, 6, 1, 3, 6, 5, 1, 5, 2, 6, 6, 5, 5, 6, 1, 1, 2, 2, 1, 6, 5, 1, 1, 3, 3, 3, 4, 5, 4, 3, 3, 3, 1, 1, 3, 4, 1, 1, 2, 6, 5, 1, 2, 3, 5, 3, 2, 6, 5, 4, 6, 3, 5, 2, 2, 3, 6, 6, 2, 5, 1, 4, 1, 3, 2, 4, 6, 5, 2, 1, 6, 1, 1, 3, 3, 6, 2, 3, 1, 4, 3, 4, 3, 2, 6, 4, 2, 1, 1, 2, 3, 2, 6, 5, 1, 6, 3, 3, 4, 6, 6, 4, 1, 5, 5, 3, 5, 1, 2, 5, 1, 1, 2, 1, 3, 2, 1, 5, 3, 3, 5, 6, 5, 3, 1, 6, 3, 3, 2, 4, 3, 1, 5, 3, 1, 6, 5, 1, 4, 6, 5, 4, 6, 6, 6, 5, 5, 2, 4, 3, 3, 1, 5, 3, 5, 3, 4, 6, 3, 5, 6, 4, 1, 3, 1, 2, 6, 2, 5, 6, 1, 6, 5, 2, 1, 1, 4, 5, 5, 2, 3, 6, 4, 1, 6, 5, 6, 3, 1, 2, 2, 1, 2, 2, 5, 5, 4, 4, 2, 2, 4, 3, 5, 2, 6, 6, 4, 1, 5, 5, 3, 1, 6, 4, 3, 2, 2, 2, 3, 1, 6, 3, 3, 6, 4, 1, 6, 3, 5, 6, 6, 4, 2, 2, 5, 1, 6, 3, 5, 4, 1, 5, 6, 4, 4, 2, 4, 6, 6, 3, 2, 1, 1, 2, 1, 4, 2, 5, 4, 5, 4, 1, 1, 1, 3, 1, 4, 6, 5, 2, 1, 4, 5, 1, 5, 5, 1, 1, 2, 5, 4, 1, 4, 2, 5, 2, 5, 6, 3, 2, 5, 3, 2, 6, 5, 4, 5, 2, 2, 2, 4, 3, 4, 6, 1, 3, 2, 1, 3, 6, 3, 5, 5, 6, 2, 3, 4, 2, 2, 2, 2, 6, 3, 2, 3, 2, 4, 1, 1, 1, 6, 1, 2, 1, 4, 5, 5, 4, 2, 3, 5, 5, 2, 5, 6, 3, 3, 6, 4, 4, 1, 5, 5, 6, 1, 2, 5, 4, 2, 4, 1, 5, 1, 5, 1, 6, 6, 2, 2, 5, 3, 2, 4, 6, 6, 6, 1, 1, 1, 5, 6, 2, 4, 5, 1, 1, 3, 5, 2, 5, 3, 4, 5, 1, 2, 4, 3, 6, 3, 4, 4, 1, 3, 6, 5, 3, 5, 6, 6, 2, 1, 6, 5, 4, 4, 1, 6, 6, 1, 1, 5, 1, 4, 2, 4, 4, 6, 2, 4, 3, 2, 2, 3, 4, 4, 5, 6, 2, 2, 4, 1, 2, 3, 1, 4, 2, 3, 4, 5, 4, 1, 1, 3, 2, 4, 1, 2, 2, 3, 1, 4, 4, 1, 1, 1, 2, 3, 1, 5, 3, 5, 2, 4, 6, 3, 5, 1, 4, 5, 3, 2, 5, 5, 4, 1, 3, 5, 1, 1, 1, 5, 6, 1, 2, 2, 4, 2, 2, 2, 1, 4, 2, 2, 4, 3, 3, 2, 6, 5, 1, 3, 6, 3, 4, 1, 3, 1, 3, 4, 4, 5, 4, 6, 5, 5, 3, 2, 5, 6, 3, 6, 4, 6, 3, 3, 2, 3, 1, 1, 4, 2, 5, 2, 4, 4, 6, 3, 4, 5, 1, 6, 5, 5, 1, 3, 3, 3, 6, 4, 1, 2, 5, 4, 2, 5, 3, 5, 2, 2, 5, 5, 4, 6, 4, 1, 5, 4, 5, 1, 6, 5, 6, 2, 5, 6, 3, 2, 1, 3, 6, 4, 2, 3, 1, 6, 1, 6, 1, 6, 3, 6, 5, 6, 4, 2, 6, 1, 5, 4, 5, 2, 2, 1, 2, 4, 2, 3, 3, 3, 4, 2, 2, 1, 3, 4, 4, 5, 6, 2, 2, 3, 1, 1, 4, 1, 5, 6, 1, 4, 2, 3, 1, 4, 6, 4, 5, 5, 1, 1, 5, 3, 5, 4, 5, 1, 4, 1, 6, 2, 4, 6, 3, 1, 4, 3, 3, 3, 4, 1, 2, 1, 4, 2, 6, 3, 1, 5, 2, 3, 1, 2, 4, 2, 5, 3, 1, 5, 2, 3, 2, 6, 6, 1, 1, 5, 2, 2, 4, 6, 4, 4, 6, 2, 3, 6, 5, 4, 6, 3, 2, 3, 3, 3, 5, 2, 2, 2, 4, 2, 1, 5, 1, 5, 6, 5, 5, 1, 3, 5, 3, 6, 2, 1, 1, 6, 2, 2, 3, 4, 6, 3, 4, 1, 2, 6, 3, 1, 3, 3, 6, 5, 1, 2, 6, 5, 1, 1, 3, 1, 4, 2, 1, 2, 5, 6, 6, 6, 4, 4, 6, 2, 4, 5, 6, 2, 1, 2, 1, 5, 1, 1, 6, 1, 5, 5, 1, 3, 2, 6, 1, 1, 4, 5, 1, 3, 2, 5, 3, 1, 1, 2, 5, 6, 3, 1, 6, 6, 6, 5, 2, 3, 6, 5, 6, 6, 5, 3, 6, 3, 4, 5, 6, 2, 1, 5, 1, 6, 3, 5, 5, 3, 5, 2, 5, 3, 1, 4, 2, 3, 5, 4, 5, 6, 3, 4, 3, 3, 1, 4, 2, 1, 2, 2, 1, 6, 6, 6, 6, 4, 1, 2, 4, 2, 4, 1, 3, 1, 3, 1, 5, 6, 4, 6, 6, 3, 6, 5, 4, 6, 3, 1, 6, 4, 3, 4, 3, 5, 2, 3, 4, 2, 6, 2, 1, 4, 5, 4, 2, 2, 1, 1, 5, 3, 2, 5, 5, 5, 1, 1, 2, 5, 3, 1, 3, 3, 2, 1, 4, 5, 6, 1, 6, 6, 2, 1, 2, 6, 5, 5, 3, 3, 4, 3, 5, 5, 2, 3, 5, 6, 2, 4, 2, 6, 4, 3, 5, 3, 6, 2, 3, 1, 5, 6, 1, 3, 6, 3, 2, 1, 2, 2, 1, 2, 4, 5, 1, 1, 4, 1, 3, 2, 1, 5, 2, 2, 4, 2, 2, 3, 6, 4, 2, 1, 5, 5, 3, 4, 6, 6, 3, 5, 5, 5, 1, 4, 6, 6, 3, 5, 2, 3, 3, 3, 2, 3, 2, 2, 2, 1, 5, 1, 3, 1, 6, 5, 3, 1, 1, 2, 6, 2, 6, 5, 2, 2, 1, 5, 6, 3, 5, 5, 6, 3, 4, 5, 6, 5, 4, 3, 2, 5, 1, 6, 1, 4, 1, 5, 1, 3, 1, 4, 4, 5, 2, 6, 3, 4, 6, 3, 6, 2, 5, 2, 5, 4, 3, 3, 5, 4, 5, 1, 1, 5, 3, 1, 5, 4, 1, 1, 3, 2, 5, 2, 2, 5, 4, 6, 1, 6, 5, 3, 6, 1, 2, 1, 3, 6, 2, 1, 4, 2, 4, 5, 2, 1, 1, 1, 1, 1, 1, 4, 1, 3, 2, 3, 5, 2, 1, 5, 3, 1, 2, 1, 6, 4, 2, 3, 4, 1, 5, 2, 3, 2, 6, 4, 4, 4, 1, 4, 5, 5, 2, 4, 3, 6, 6, 3, 2, 2, 5, 1, 3, 1, 3, 5, 5, 5, 5, 4, 2, 1, 6, 5, 1, 4, 4, 1, 6, 4, 3, 5, 1, 3, 6, 4, 2, 4, 1, 2, 5, 2, 4, 5, 1, 2, 6, 4, 6, 4, 5, 6, 2, 3, 1, 3, 2, 6, 6, 5, 1, 2, 3, 5, 3, 4, 4, 1, 3, 2, 1, 4, 3, 3, 3, 3, 6, 1, 5, 1, 6, 1, 6, 6, 5, 6, 3, 3, 6, 3, 6, 6, 3, 2, 3, 6, 1, 2, 3, 6, 2, 6, 5, 6, 2, 1, 4, 5, 5, 6, 1, 4, 1, 3, 1, 4, 6, 2, 4, 6, 3, 4, 1, 1, 2, 3, 4, 6, 3, 3, 5, 4, 4, 2, 5, 2, 2, 2, 2, 4, 6, 1, 4, 3, 3, 2, 3, 4, 6, 4, 3, 2, 4, 2, 5, 6, 4, 4, 3, 3, 4, 1, 1, 3, 1, 3, 2, 1, 4, 6, 6, 1, 4, 2, 3, 4, 6, 5, 4, 6, 3, 3, 5, 3, 6, 4, 5, 2, 5, 6, 3, 2, 5, 6, 5, 2, 1, 5, 6, 1, 6, 6, 1, 5, 2, 3, 6, 2, 5, 3, 3, 4, 3, 5, 4, 6, 6, 4, 5, 1, 2, 2, 3, 6, 2, 5, 1, 6, 6, 2, 6, 1, 2, 3, 2, 5, 5, 2, 5, 1, 6, 4, 3, 5, 6, 5, 4, 6, 6, 6, 6, 5, 5, 3, 4, 1, 3, 5, 2, 3, 1, 5, 1, 5, 3, 4, 1, 5, 1, 6, 4, 5, 4, 3, 5, 4, 5, 3, 2, 4, 5, 6, 1, 5, 3, 3, 4, 1, 3, 6, 3, 3, 5, 2, 6, 3, 3, 1, 3, 4, 6, 2, 6, 1, 2, 3, 5, 5, 4, 4, 3, 5, 2, 2, 3, 2, 1, 6, 1, 3, 3, 3, 4, 5, 3, 3, 4, 4, 1, 4, 5, 5, 3, 3, 5, 4, 3, 6, 1, 3, 4, 3, 2, 6, 6, 2, 4, 5, 6, 3, 1, 5, 4, 5, 4, 6, 5, 5, 1, 1, 6, 4, 2, 4, 5, 4, 4, 4, 3, 6, 1, 2, 4, 2, 6, 6, 5, 3, 2, 4, 2, 1, 1, 6, 4, 5, 2, 6, 4, 4, 4, 3, 5, 6, 1, 2, 3, 3, 4, 2, 2, 1, 4, 5, 1, 2, 5, 4, 3, 6, 6, 1, 6, 2, 4, 3, 2, 5, 2, 6, 5, 1, 6, 5, 2, 5, 1, 1, 5, 5, 1, 2, 3, 3, 6, 3, 4, 5, 6, 2, 6, 5, 5, 1, 5, 6, 5, 5, 1, 2, 6, 5, 1, 1, 5, 6, 1, 5, 3, 3, 5, 6, 5, 3, 1, 5, 2, 2, 6, 1, 2, 4, 1, 3, 2, 6, 1, 1, 5, 5, 5, 2, 5, 3, 4, 1, 5, 5, 3, 2, 2, 3, 4, 1, 6, 3, 5, 1, 4, 3, 4, 1, 1, 3, 1, 5, 2, 3, 5, 5, 1, 5, 3, 2, 5, 1, 2, 4, 5, 3, 5, 2, 3, 6, 4, 4, 4, 1, 3, 4, 5, 3, 3, 3, 1, 4, 4, 5, 6, 3, 1, 6, 1, 6, 2, 4, 6, 3, 2, 6, 2, 6, 5, 4, 1, 2, 5, 1, 3, 1, 4, 2, 2, 1, 1, 5, 5, 3, 4, 2, 5, 4, 3, 4, 6, 2, 4, 2, 4, 6, 4, 1, 5, 1, 5, 2, 2, 4, 4, 1, 2, 2, 5, 5, 2, 5, 1, 1, 5, 5, 6, 5, 4, 6, 3, 3, 1, 3, 1, 1, 2, 2, 2, 6, 4, 6, 4, 4, 1, 5, 2, 2, 6, 3, 1, 2, 1, 6, 6, 2, 5, 5, 3, 5, 4, 6, 2, 5, 5, 6, 2, 5, 1, 3, 4, 6, 3, 3, 5, 1, 2, 1, 5, 4, 4, 4, 3, 6, 1, 2, 2, 3, 1, 4, 3, 2, 1, 1, 2, 2, 4, 5, 3, 4, 2, 6, 1, 3, 2, 3, 3, 4, 6, 1, 6, 5, 4, 2, 1, 3, 1, 1, 6, 1, 1, 6, 1, 4, 2, 4, 6, 1, 6, 1, 4, 6, 2, 1, 6, 5, 1, 6, 3, 3, 5, 5, 2, 2, 4, 4, 3, 1, 5, 3, 3, 2, 3, 4, 6, 6, 1, 1, 4, 5, 5, 4, 5, 1, 1, 3, 5, 4, 6, 1, 6, 1, 2, 2, 1, 4, 2, 6, 4, 4, 4, 1, 3, 1, 2, 6, 1, 1, 6, 3, 5, 2, 1, 1, 6, 3, 5, 2, 5, 4, 2, 3, 3, 5, 3, 3, 6, 5, 2, 4, 3, 5, 3, 6, 2, 3, 4, 2, 6, 5, 5, 6, 6, 5, 4, 2, 4, 1, 5, 2, 5, 1, 3, 3, 3, 5, 6, 2, 5, 1, 3, 3, 5, 2, 2, 4, 6, 1, 3, 5, 3, 4, 1, 5, 3, 5, 2, 4, 5, 6, 6, 1, 5, 6, 3, 6, 3, 3, 4, 3, 3, 5, 2, 2, 5, 3, 2, 2, 4, 5, 6, 1, 2, 2, 5, 3, 1, 6, 5, 1, 4, 4, 6, 3, 2, 4, 6, 4, 3, 4, 6, 1, 6, 3, 3, 3, 2, 5, 3, 2, 3, 6, 2, 1, 1, 2, 6, 2, 3, 6, 2, 1, 2, 6, 2, 1, 3, 5, 5, 5, 3, 6, 6, 6, 2, 5, 4, 2, 6, 2, 6, 4, 1, 1, 6, 1, 5, 5, 2, 2, 6, 3, 3, 1, 2, 1, 4, 4, 2, 6, 3, 6, 1, 5, 4, 6, 2, 6, 4, 5, 3, 4, 1, 2, 3, 5, 1, 2, 5, 5, 2, 1, 5, 6, 5, 2, 2, 3, 6, 1, 4, 5, 3, 6, 3, 1, 3, 2, 3, 2, 5, 1, 3, 6, 5, 4, 2, 6, 2, 2, 5, 2, 6, 6, 2, 1, 3, 3, 2, 3, 3, 4, 6, 6, 2, 2, 2, 1, 2, 6, 5, 4, 1, 4, 6, 5, 3, 6, 2, 2, 5, 4, 6, 5, 6, 1, 2, 4, 6, 3, 6, 1, 1, 3, 3, 6, 6, 3, 2, 3, 6, 6, 4, 6, 1, 1, 2, 4, 3, 2, 6, 3, 4, 5, 1, 6, 3, 5, 5, 5, 6, 3, 5, 6, 4, 6, 2, 2, 2, 5, 1, 1, 6, 6, 3, 4, 5, 2, 3, 6, 3, 3, 3, 1, 1, 5, 4, 4, 5, 3, 4, 2, 2, 6, 5, 2, 3, 4, 4, 3, 2, 4, 4, 3, 2, 1, 6, 5, 4, 6, 5, 3, 5, 5, 4, 3, 2, 3, 1, 6, 1, 4, 3, 1, 2, 5, 1, 3, 3, 5, 6, 1, 5, 3, 2, 3, 3, 3, 6, 2, 6, 5, 5, 1, 1, 4, 6, 6, 5, 1, 2, 3, 3, 6, 1, 6, 3, 2, 6, 3, 5, 3, 4, 5, 3, 1, 3, 5, 1, 4, 1, 4, 5, 4, 3, 3, 3, 4, 5, 3, 1, 4, 1, 2, 2, 6, 2, 1, 1, 4, 1, 5, 6, 6, 3, 3, 2, 5, 3, 6, 5, 3, 2, 4, 4, 3, 4, 1, 4, 2, 3, 6, 1, 4, 1, 6, 4, 6, 6, 6, 1, 4, 5, 1, 2, 1, 5, 2, 1, 5, 3, 1, 3, 1, 2, 5, 1, 1, 1, 1, 1, 5, 2, 1, 4, 2, 6, 5, 2, 2, 5, 5, 1, 1, 3, 2, 3, 1, 4, 1, 2, 6, 1, 6, 2, 4, 1, 1, 5, 4, 3, 6, 3, 6, 3, 4, 4, 6, 3, 1, 5, 2, 3, 6, 4, 4, 6, 5, 5, 5, 1, 1, 4, 5, 3, 5, 1, 2, 6, 6, 4, 5, 1, 4, 6, 6, 1, 1, 3, 5, 1, 2, 2, 4, 4, 3, 2, 5, 3, 1, 4, 2, 2, 2, 3, 1, 5, 2, 2, 5, 4, 1, 6, 1, 1, 4, 5, 4, 6, 4, 2, 4, 4, 1, 6, 2, 5, 5, 6, 4, 6, 6, 6, 3, 6, 5, 3, 3, 2, 3, 6, 4, 4, 1, 3, 2, 5, 6, 6, 2, 1, 1, 2, 4, 1, 5, 3, 6, 2, 3, 2, 4, 1, 6, 6, 4, 2, 2, 3, 5, 5, 5, 5, 2, 1, 1, 6, 3, 5, 5, 4, 4, 6, 5, 2, 5, 5, 6, 4, 1, 5, 5, 2, 5, 5, 1, 1, 2, 3, 4, 3, 4, 4, 2, 5, 5, 3, 4, 2, 2, 2, 5, 3, 5, 2, 1, 3, 6, 6, 1, 1, 6, 4, 3, 3, 4, 6, 1, 4, 2, 3, 4, 6, 1, 6, 4, 3, 4, 4, 1, 4, 6, 4, 6, 6, 4, 5, 5, 5, 4, 1, 6, 6, 1, 6, 5, 4, 5, 5, 1, 5, 5, 3, 2, 2, 1, 3, 4, 6, 6, 1, 1, 1, 6, 6, 2, 4, 1, 5, 2, 3, 1, 6, 6, 2, 1, 3, 2, 5, 4, 6, 5, 5, 6, 6, 4, 4, 1, 5, 6, 5, 4, 5, 2, 3, 5, 3, 1, 6, 6, 3, 3, 5, 6, 4, 6, 1, 6, 3, 5, 1, 2, 1, 4, 4, 2, 5, 5, 6, 6, 1, 1, 5, 2, 6, 2, 3, 3, 2, 6, 2, 4, 5, 5, 4, 6, 3, 1, 3, 5, 1, 5, 1, 4, 5, 2, 5, 5, 5, 1, 5, 3, 4, 3, 5, 3, 2, 5, 3, 1, 1, 4, 5, 3, 1, 6, 5, 6, 4, 4, 3, 6, 2, 1, 2, 1, 5, 3, 4, 4, 5, 6, 5, 5, 4, 2, 3, 6, 3, 5, 2, 2, 6, 3, 5, 6, 1, 5, 5, 6, 1, 1, 6, 1, 3, 1, 1, 1, 3, 2, 6, 4, 1, 3, 6, 3, 1, 4, 4, 6, 6, 3, 2, 2, 3, 6, 6, 1, 1, 4, 6, 6, 2, 6, 5, 1, 4, 4, 2, 5, 4, 5, 3, 3, 1, 2, 1, 2, 4, 4, 1, 6, 5, 6, 5, 4, 6, 4, 5, 4, 6, 5, 3, 4, 5, 1, 4, 3, 1, 6, 4, 3, 6, 4, 5, 3, 6, 6, 6, 1, 3, 5, 1, 6, 3, 4, 3, 5, 5, 4, 2, 5, 3, 5, 3, 3, 2, 6, 5, 4, 3, 4, 1, 5, 1, 1, 5, 5, 3, 6, 3, 6, 6, 6, 1, 2, 2, 1, 3, 3, 5, 6, 6, 4, 4, 5, 4, 3, 1, 6, 3, 6, 1, 4, 3, 1, 6, 3, 6, 3, 5, 3, 2, 4, 3, 4, 6, 6, 3, 3, 3, 3, 6, 2, 5, 4, 6, 6, 2, 4, 1, 6, 5, 4, 2, 4, 6, 4, 2, 6, 5, 3, 2, 2, 3, 1, 5, 1, 6, 6, 2, 6, 2, 5, 6, 4, 1, 6, 6, 2, 5, 1, 6, 6, 5, 5, 5, 5, 6, 4, 2, 3, 1, 4, 6, 5, 1, 5, 5, 4, 3, 5, 6, 6, 5, 3, 1, 1, 1, 3, 6, 6, 1, 2, 2, 5, 4, 6, 3, 2, 1, 5, 2, 5, 5, 1, 5, 2, 2, 4, 5, 2, 2, 1, 6, 4, 3, 4, 5, 5, 3, 4, 6, 1, 2, 3, 6, 1, 1, 6, 4, 5, 6, 3, 2, 4, 5, 1, 6, 4, 4, 2, 3, 6, 5, 2, 6, 4, 1, 6, 3, 6, 5, 2, 6, 1, 1, 5, 4, 1, 2, 2, 5, 5, 5, 3, 5, 1, 6, 4, 6, 2, 5, 4, 6, 5, 4, 6, 3, 1, 5, 3, 2, 3, 4, 1, 2, 1, 2, 4, 6, 5, 3, 2, 3, 4, 1, 6, 2, 1, 4, 1, 3, 3, 4, 3, 6, 4, 1, 6, 6, 2, 1, 2, 2, 3, 1, 4, 2, 6, 3, 2, 5, 1, 3, 3, 1, 6, 4, 6, 5, 1, 1, 1, 2, 5, 4, 5, 2, 5, 5, 2, 3, 4, 1, 1, 4, 1, 4, 6, 4, 4, 3, 3, 1, 5, 5, 4, 3, 5, 6, 5, 2, 3, 3, 6, 6, 2, 1, 2, 6, 1, 1, 1, 6, 5, 2, 3, 6, 4, 6, 4, 2, 2, 4, 2, 6, 5, 1, 4, 1, 2, 3, 2, 5, 4, 1, 4, 4, 1, 1, 2, 4, 2, 6, 4, 5, 6, 2, 6, 6, 6, 4, 6, 3, 3, 3, 4, 5, 2, 4, 6, 1, 1, 6, 1, 2, 5, 5, 3, 2, 4, 4, 3, 5, 2, 3, 1, 2, 1, 2, 6, 4, 2, 6, 3, 3, 3, 6, 1, 6, 3, 4, 5, 2, 6, 2, 5, 4, 5, 3, 1, 3, 1, 2, 6, 3, 1, 4, 3, 6, 5, 5, 5, 2, 2, 1, 6, 4, 4, 4, 1, 6, 5, 4, 2, 3, 5, 3, 3, 6, 4, 3, 6, 3, 4, 4, 5, 2, 2, 5, 3, 2, 4, 1, 5, 1, 5, 2, 2, 3, 5, 2, 6, 2, 4, 4, 1, 3, 4, 4, 6, 5, 3, 5, 1, 2, 6, 4, 2, 1, 5, 5, 2, 1, 3, 4, 5, 3, 3, 6, 1, 5, 4, 1, 5, 3, 3, 6, 4, 1, 1, 1, 2, 1, 5, 3, 3, 4, 3, 6, 1, 2, 3, 6, 2, 5, 2, 4, 5, 2, 2, 3, 1, 3, 1, 6, 3, 2, 4, 5, 6, 5, 3, 2, 6, 6, 2, 4, 1, 6, 4, 6, 3, 2, 5, 5, 2, 1, 4, 6, 3, 5, 6, 5, 1, 6, 6, 3, 6, 2, 4, 2, 1, 2, 2, 6, 3, 2, 1, 5, 2, 2, 2, 2, 6, 2, 4, 1, 4, 3, 1, 3, 3, 4, 4, 2, 6, 5, 3, 6, 6, 1, 5, 5, 5, 1, 5, 1, 5, 4, 4, 4, 6, 4, 3, 3, 5, 3, 2, 5, 4, 2, 5, 6, 6, 6, 5, 5, 5, 2, 1, 6, 4, 4, 1, 4, 4, 3, 5, 4, 6, 1, 2, 4, 2, 1, 5, 3, 5, 5, 5, 3, 5, 3, 6, 6, 1, 6, 6, 4, 2, 1, 5, 3, 4, 4, 5, 4, 4, 3, 3, 3, 6, 3, 1, 3, 1, 4, 1, 1, 2, 1, 2, 5, 2, 5, 1, 5, 3, 4, 6, 3, 1, 5, 2, 6, 3, 6, 5, 3, 1, 2, 1, 5, 3, 1, 4, 6, 5, 4, 4, 2, 2, 6, 4, 6, 4, 3, 1, 2, 1, 4, 4, 6, 2, 5, 3, 3, 1, 4, 2, 4, 5, 4, 4, 3, 1, 6, 2, 5, 6, 5, 4, 3, 6, 3, 3, 2, 6, 6, 2, 1, 1, 2, 5, 2, 2, 1, 4, 6, 2, 1, 1, 3, 1, 1, 3, 1, 3, 6, 3, 1, 6, 5, 1, 2, 6, 5, 6, 1, 3, 3, 1, 4, 1, 6, 5, 6, 6, 3, 1, 5, 2, 1, 2, 4, 6, 6, 3, 4, 6, 4, 2, 2, 5, 4, 6, 6, 5, 3, 2, 2, 2, 4, 2, 5, 3, 6, 6, 5, 4, 6, 6, 4, 6, 6, 4, 4, 3, 2, 5, 2, 1, 6, 2, 3, 1, 6, 4, 3, 2, 4, 3, 2, 1, 1, 2, 3, 5, 5, 5, 2, 1, 4, 2, 6, 6, 6, 2, 6, 3, 4, 1, 6, 5, 3, 3, 5, 1, 4, 5, 3, 5, 6, 4, 4, 6, 3, 4, 3, 5, 3, 1, 2, 4, 5, 2, 2, 4, 5, 2, 2, 3, 5, 1, 3, 1, 5, 4, 6, 6, 5, 5, 4, 6, 4, 3, 5, 5, 3, 1, 1, 3, 4, 2, 6, 4, 3, 3, 1, 1, 5, 3, 4, 2, 5, 2, 2, 6, 4, 4, 1, 5, 4, 2, 2, 5, 3, 1, 6, 6, 4, 1, 5, 2, 5, 3, 5, 4, 5, 6, 6, 2, 3, 1, 2, 2, 3, 2, 1, 2, 2, 5, 2, 3, 4, 2, 6, 5, 3, 5, 5, 3, 6, 4, 5, 1, 5, 3, 5, 4, 3, 4, 3, 5, 3, 1, 1, 5, 1, 3, 4, 4, 6, 2, 5, 1, 6, 1, 6, 2, 6, 1, 2, 1, 3, 5, 3, 6, 4, 6, 6, 3, 4, 5, 4, 3, 2, 4, 1, 2, 3, 6, 2, 6, 1, 5, 2, 6, 4, 6, 5, 6, 2, 3, 2, 4, 6, 3, 3, 3, 2, 2, 3, 4, 5, 3, 6, 3, 3, 6, 1, 1, 1, 5, 1, 6, 1, 2, 3, 6, 6, 2, 5, 6, 4, 3, 6, 1, 1, 1, 6, 6, 5, 3, 3, 2, 1, 2, 6, 6, 5, 2, 3, 5, 4, 2, 6, 5, 2, 4, 2, 1, 6, 2, 6, 2, 5, 5, 2, 2, 5, 4, 4, 3, 3, 5, 3, 6, 2, 4, 4, 5, 4, 2, 5, 6, 1, 5, 5, 2, 2, 1, 4, 6, 2, 2, 5, 1, 3, 6, 4, 3, 4, 2, 1, 6, 2, 4, 4, 6, 2, 4, 1, 2, 4, 3, 2, 6, 3, 2, 3, 6, 2, 6, 4, 1, 2, 3, 2, 2, 5, 5, 2, 5, 4, 2, 4, 4, 5, 2, 1, 4, 2, 4, 4, 2, 5, 5, 6, 3, 2, 5, 6, 2, 3, 6, 6, 2, 6, 4, 3, 5, 3, 6, 2, 6, 2, 5, 4, 4, 6, 6, 2, 1, 5, 1, 4, 2, 5, 3, 3, 3, 3, 3, 2, 3, 3, 1, 2, 5, 1, 3, 3, 1, 6, 1, 4, 5, 6, 4, 5, 5, 1, 5, 4, 4, 6, 5, 3, 4, 1, 2, 2, 4, 3, 1, 5, 3, 5, 4, 5, 2, 1, 4, 4, 5, 4, 1, 3, 3, 6, 6, 6, 3, 2, 2, 3, 2, 4, 1, 4, 5, 4, 3, 6, 5, 3, 4, 3, 5, 3, 6, 1, 5, 1, 4, 6, 3, 5, 3, 1, 4, 6, 3, 2, 1, 2, 4, 4, 5, 4, 6, 6, 1, 6, 5, 2, 2, 6, 2, 1, 3, 5, 4, 1, 6, 1, 1, 5, 3, 1, 4, 3, 4, 2, 1, 2, 4, 3, 5, 4, 3, 5, 2, 2, 4, 1, 4, 4, 1, 3, 6, 4, 3, 4, 1, 4, 4, 5, 4, 4, 5, 3, 1, 5, 3, 3, 1, 1, 6, 1, 4, 5, 5, 5, 2, 6, 5, 3, 6, 2, 5, 4, 6, 2, 1, 4, 2, 2, 5, 5, 3, 5, 5, 3, 6, 4, 4, 6, 3, 6, 4, 5, 4, 5, 4, 1, 1, 6, 6, 4, 1, 6, 2, 4, 1, 4, 2, 6, 1, 2, 4, 3, 2, 4, 6, 2, 5, 5, 3, 2, 4, 3, 3, 3, 3, 1, 1, 1, 4, 3, 1, 1, 4, 1, 4, 5, 6, 1, 3, 5, 6, 3, 4, 5, 3, 3, 5, 1, 6, 3, 1, 2, 4, 3, 4, 3, 6, 4, 4, 2, 4, 1, 2, 1, 4, 3, 5, 2, 4, 3, 6, 6, 2, 1, 3, 4, 3, 1, 2, 3, 5, 4, 5, 3, 1, 4, 2, 4, 3, 5, 5, 6, 1, 3, 3, 2, 4, 2, 1, 2, 4, 4, 2, 5, 1, 4, 5, 3, 1, 4, 6, 4, 1, 4, 3, 4, 1, 4, 1, 6, 5, 3, 5, 2, 4, 6, 6, 3, 4, 1, 2, 2, 3, 6, 1, 6, 6, 2, 4, 1, 5, 5, 4, 6, 3, 5, 4, 4, 3, 1, 6, 4, 6, 1, 1, 6, 4, 4, 1, 6, 5, 5, 1, 5, 6, 6, 4, 5, 5, 2, 3, 4, 6, 4, 5, 1, 6, 6, 3, 1, 3, 3, 2, 1, 3, 1, 2, 2, 1, 1, 3, 5, 2, 1, 4, 4, 2, 3, 5, 5, 4, 2, 5, 4, 2, 4, 6, 3, 5, 4, 3, 4, 5, 1, 2, 2, 2, 6, 1, 3, 1, 5, 4, 5, 4, 4, 5, 5, 1, 2, 1, 5, 2, 2, 2, 4, 1, 1, 4, 2, 2, 1, 4, 5, 5, 4, 1, 2, 6, 4, 6, 3, 1, 3, 4, 4, 6, 3, 3, 2, 4, 4, 4, 4, 2, 6, 6, 5, 3, 4, 3, 5, 3, 5, 6, 3, 1, 6, 3, 3, 2, 2, 3, 5, 6, 6, 1, 4, 1, 5, 5, 4, 5, 6, 3, 3, 2, 5, 2, 2, 1, 3, 3, 4, 1, 6, 1, 2, 3, 2, 6, 5, 6, 2, 3, 2, 3, 2, 1, 1, 4, 6, 4, 1, 5, 2, 1, 5, 3, 2, 5, 6, 3, 4, 6, 6, 6, 2, 6, 6, 2, 3, 2, 6, 6, 3, 6, 1, 4, 4, 2, 3, 1, 5, 5, 4, 3, 4, 6, 4, 3, 5, 1, 4, 2, 1, 3, 2, 5, 5, 4, 4, 4, 6, 3, 1, 2, 4, 3, 5, 3, 2, 6, 1, 3, 6, 2, 6, 3, 5, 4, 3, 5, 1, 5, 2, 2, 6, 5, 5, 3, 1, 4, 4, 3, 3, 2, 2, 4, 3, 2, 2, 1, 4, 4, 6, 4, 2, 6, 5, 2, 3, 2, 3, 6, 5, 5, 2, 3, 3, 6, 5, 3, 5, 6, 2, 5, 6, 4, 6, 3, 5, 5, 5, 2, 4, 4, 4, 5, 3, 4, 1, 3, 6, 3, 1, 4, 5, 1, 3, 4, 6, 2, 2, 3, 5, 4, 3, 5, 3, 3, 6, 1, 1, 5, 4, 1, 6, 2, 2, 1, 1, 4, 4, 6, 2, 5, 6, 1, 3, 1, 2, 1, 6, 4, 4, 2, 3, 5, 6, 1, 4, 5, 1, 5, 2, 4, 4, 2, 6, 3, 4, 6, 6, 2, 5, 5, 3, 3, 5, 1, 2, 1, 5, 6, 4, 1, 6, 2, 1, 6, 4, 4, 6, 6, 1, 2, 2, 1, 5, 3, 2, 6, 4, 3, 4, 4, 1, 4, 2, 6, 6, 5, 4, 4, 4, 1, 6, 2, 6, 5, 5, 3, 4, 2, 5, 2, 6, 3, 2, 1, 6, 5, 5, 2, 6, 3, 3, 4, 6, 6, 5, 4, 6, 2, 2, 6, 2, 3, 4, 1, 1, 4, 5, 4, 1, 2, 2, 5, 5, 4, 6, 5, 4, 1, 4, 5, 4, 6, 4, 5, 2, 1, 1, 3, 1, 4, 6, 5, 3, 4, 5, 1, 6, 5, 1, 4, 2, 6, 2, 5, 6, 5, 1, 4, 6, 3, 3, 6, 6, 2, 1, 3, 5, 3, 2, 2, 1, 2, 1, 6, 2, 6, 3, 2, 2, 2, 3, 6, 5, 2, 6, 6, 1, 1, 1, 5, 5, 3, 5, 2, 6, 4, 5, 4, 3, 6, 5, 1, 3, 6, 2, 4, 5, 1, 6, 5, 3, 2, 2, 5, 2, 3, 3, 6, 6, 5, 3, 6, 6, 5, 4, 4, 2, 1, 5, 1, 1, 1, 4, 4, 1, 1, 3, 2, 2, 2, 2, 2, 4, 6, 6, 3, 2, 1, 4, 5, 2, 6, 5, 6, 5, 5, 4, 1, 2, 6, 6, 4, 6, 2, 2, 2, 6, 2, 6, 3, 2, 3, 6, 2, 6, 3, 3, 3, 2, 5, 1, 1, 3, 6, 5, 6, 5, 1, 1, 4, 3, 3, 6, 6, 5, 4, 6, 6, 2, 4, 4, 1, 6, 4, 4, 1, 1, 3, 3, 6, 1, 3, 6, 6, 2, 6, 1, 5, 4, 5, 3, 2, 1, 5, 1, 5, 3, 1, 6, 5, 4, 3, 4, 4, 3, 2, 2, 6, 6, 5, 4, 2, 5, 5, 2, 4, 2, 3, 1, 5, 3, 3, 5, 3, 3, 3, 3, 2, 6, 1, 1, 3, 4, 4, 3, 5, 6, 5, 2, 3, 2, 3, 4, 6, 4, 5, 5, 3, 2, 2, 4, 2, 6, 1, 1, 4, 2, 1, 5, 5, 2, 1, 2, 3, 5, 5, 1, 6, 6, 2, 4, 6, 1, 6, 6, 1, 2, 5, 3, 3, 6, 2, 6, 1, 4, 6, 4, 3, 4, 2, 3, 6, 6, 4, 4, 6, 6, 3, 5, 6, 1, 1, 5, 4, 6, 1, 2, 6, 3, 2, 2, 5, 4, 5, 2, 2, 4, 5, 5, 2, 4, 3, 2, 5, 4, 6, 3, 2, 2, 1, 6, 4, 4, 2, 6, 5, 3, 2, 2, 4, 4, 1, 2, 2, 4, 1, 1, 5, 4, 3, 3, 1, 6, 1, 1, 5, 4, 5, 5, 4, 5, 5, 1, 5, 6, 1, 1, 3, 6, 2, 3, 3, 4, 4, 6, 1, 2, 2, 3, 5, 1, 4, 2, 2, 4, 5, 6, 5, 6, 2, 6, 1, 1, 5, 2, 3, 2, 6, 3, 1, 1, 5, 1, 2, 3, 5, 1, 2, 3, 6, 6, 1, 3, 1, 4, 6, 4, 6, 3, 1, 6, 3, 5, 2, 6, 5, 3, 1, 5, 2, 4, 4, 4, 4, 6, 6, 2, 5, 2, 5, 5, 4, 5, 6, 6, 1, 6, 5, 3, 5, 2, 1, 4, 4, 6, 6, 4, 2, 2, 1, 3, 2, 4, 4, 5, 2, 2, 1, 6, 2, 3, 3, 5, 1, 5, 5, 5, 2, 3, 3, 3, 4, 3, 2, 6, 4, 6, 3, 6, 6, 3, 2, 2, 2, 5, 3, 5, 4, 1, 5, 5, 6, 5, 1, 3, 1, 2, 3, 3, 5, 5, 3, 2, 1, 6, 6, 4, 2, 5, 1, 1, 4, 4, 4, 6, 3, 6, 3, 3, 1, 3, 4, 1, 3, 2, 2, 3, 3, 6, 4, 6, 3, 2, 4, 3, 5, 6, 3, 3, 6, 4, 2, 3, 6, 6, 6, 3, 4, 2, 3, 4, 3, 2, 5, 3, 6, 2, 4, 1, 2, 2, 2, 3, 5, 3, 2, 5, 3, 4, 1, 2, 6, 5, 4, 6, 1, 3, 6, 5, 1, 6, 5, 3, 6, 3, 1, 5, 4, 4, 5, 1, 4, 6, 2, 2, 5, 6, 5, 6, 5, 5, 3, 2, 3, 5, 3, 3, 4, 4, 4, 4, 4, 1, 3, 5, 1, 3, 1, 3, 4, 2, 1, 5, 2, 2, 2, 1, 6, 2, 2, 5, 5, 5, 4, 3, 3, 2, 6, 6, 5, 1, 6, 4, 4, 4, 4, 3, 6, 6, 6, 3, 1, 1, 2, 5, 1, 5, 4, 1, 4, 4, 5, 5, 4, 2, 4, 3, 3, 3, 2, 5, 1, 2, 2, 2, 5, 3, 6, 6, 3, 4, 5, 3, 2, 3, 4, 3, 1, 3, 4, 2, 3, 2, 5, 5, 2, 5, 1, 2, 6, 1, 1, 5, 4, 4, 5, 4, 2, 3, 5, 6, 4, 1, 1, 1, 3, 2, 1, 2, 1, 5, 1, 5, 1, 1, 1, 6, 4, 1, 4, 1, 1, 5, 1, 6, 3, 2, 6, 5, 1, 6, 4, 2, 5, 6, 3, 3, 5, 5, 6, 3, 6, 4, 4, 4, 4, 4, 2, 1, 2, 4, 3, 6, 5, 3, 6, 3, 6, 4, 5, 5, 5, 1, 3, 2, 1, 2, 4, 4, 6, 6, 3, 4, 2, 5, 2, 1, 2, 6, 3, 4, 4, 1, 2, 6, 6, 1, 5, 3, 2, 1, 6, 4, 2, 3, 6, 4, 2, 2, 4, 2, 6, 1, 6, 3, 6, 4, 5, 4, 4, 1, 2, 3, 6, 4, 2, 1, 4, 3, 1, 2, 5, 3, 4, 2, 5, 1, 2, 3, 2, 6, 1, 4, 5, 6, 5, 1, 6, 3, 1, 1, 1, 1, 6, 1, 1, 3, 6, 6, 4, 1, 2, 1, 5, 4, 5, 3, 4, 6, 2, 1, 3, 5, 6, 4, 3, 4, 6, 4, 5, 2, 4, 4, 1, 4, 6, 1, 2, 2, 4, 5, 5, 3, 5, 4, 2, 3, 3, 2, 6, 5, 4, 3, 5, 3, 4, 2, 1, 5, 2, 5, 1, 2, 6, 2, 6, 6, 2, 3, 5, 5, 3, 2, 6, 2, 2, 1, 1, 2, 2, 3, 1, 4, 4, 1, 4, 3, 4, 5, 6, 4, 2, 3, 5, 3, 2, 4, 5, 4, 2, 4, 6, 4, 2, 2, 3, 2, 3, 4, 2, 1, 2, 1, 6, 6, 3, 5, 5, 2, 2, 5, 4, 4, 6, 5, 6, 5, 1, 4, 2, 4, 4, 3, 6, 1, 3, 6, 3, 6, 1, 4, 3, 4, 4, 4, 6, 6, 6, 2, 5, 2, 1, 6, 4, 2, 1, 5, 2, 2, 4, 5, 3, 5, 3, 2, 4, 4, 5, 4, 2, 3, 6, 2, 2, 2, 2, 1, 4, 1, 4, 6, 3, 4, 4, 4, 5, 5, 2, 3, 6, 4, 2, 6, 2, 1, 6, 4, 6, 3, 2, 5, 2, 5, 1, 5, 4, 1, 2, 1, 3, 6, 2, 3, 4, 3, 2, 3, 4, 5, 3, 6, 1, 5, 2, 5, 5, 6, 2, 4, 5, 2, 2, 3, 3, 1, 1, 5, 5, 4, 4, 3, 6, 2, 3, 6, 6, 1, 5, 3, 1, 3, 2, 2, 3, 6, 3, 1, 3, 3, 2, 1, 2, 1, 4, 2, 5, 6, 4, 6, 1, 5, 1, 2, 2, 3, 4, 5, 2, 4, 5, 3, 5, 2, 3, 4, 1, 4, 5, 4, 2, 2, 4, 2, 4, 3, 3, 6, 2, 3, 4, 5, 4, 1, 3, 1, 3, 4, 4, 6, 3, 1, 5, 3, 3, 5, 4, 2, 4, 4, 3, 4, 2, 5, 1, 1, 5, 1, 5, 6, 5, 5, 6, 2, 2, 4, 2, 6, 6, 4, 5, 6, 4, 6, 3, 2, 4, 6, 6, 5, 3, 5, 1, 1, 5, 4, 4, 4, 6, 4, 6, 4, 1, 3, 4, 1, 3, 5, 3, 4, 2, 3, 4, 5, 4, 4, 5, 6, 5, 1, 3, 5, 5, 6, 1, 3, 6, 1, 1, 4, 6, 1, 2, 6, 5, 2, 3, 3, 3, 2, 3, 5, 2, 4, 3, 5, 5, 1, 4, 2, 3, 5, 1, 2, 3, 6, 5, 3, 3, 2, 4, 4, 5, 1, 4, 1, 1, 4, 1, 2, 5, 3, 2, 1, 6, 1, 1, 4, 5, 2, 2, 5, 3, 2, 5, 3, 3, 3, 2, 1, 4, 4, 5, 5, 2, 4, 6, 2, 5, 5, 1, 5, 4, 4, 6, 2, 1, 5, 5, 4, 3, 2, 2, 1, 3, 2, 1, 6, 5, 2, 6, 4, 1, 1, 3, 5, 6, 4, 4, 6, 2, 3, 3, 3, 5, 6, 6, 5, 5, 4, 4, 6, 2, 2, 4, 2, 1, 4, 1, 1, 2, 2, 5, 5, 1, 5, 4, 6, 3, 3, 6, 5, 2, 2, 2, 2, 6, 4, 5, 6, 2, 5, 5, 5, 2, 5, 2, 5, 6, 1, 4, 1, 2, 5, 1, 3, 1, 1, 6, 2, 4, 5, 1, 1, 5, 4, 5, 5, 3, 6, 2, 3, 3, 4, 4, 5, 3, 5, 2, 4, 2, 5, 4, 4, 2, 2, 4, 5, 1, 6, 3, 3, 4, 4, 2, 4, 2, 1, 4, 3, 1, 6, 2, 5, 3, 2, 2, 2, 2, 6, 5, 2, 4, 4, 4, 5, 5, 6, 4, 6, 3, 1, 3, 4, 6, 2, 3, 6, 4, 5, 6, 5, 2, 4, 2, 1, 4, 6, 2, 5, 3, 1, 2, 3, 1, 1, 3, 3, 3, 1, 3, 3, 4, 6, 5, 6, 4, 6, 2, 4, 2, 4, 6, 2, 4, 4, 2, 5, 3, 2, 3, 6, 6, 6, 6, 3, 6, 4, 3, 5, 5, 6, 4, 5, 3, 5, 2, 3, 5, 4, 1, 4, 6, 1, 2, 2, 5, 6, 1, 3, 6, 6, 4, 4, 2, 6, 1, 1, 2, 6, 5, 6, 3, 1, 4, 1, 6, 4, 3, 4, 5, 2, 6, 5, 5, 6, 1, 3, 6, 6, 4, 4, 2, 3, 1, 3, 3, 4, 3, 6, 4, 1, 3, 1, 2, 3, 1, 6, 3, 1, 5, 6, 4, 2, 4, 5, 3, 1, 6, 5, 6, 2, 2, 1, 2, 6, 3, 4, 4, 6, 5, 5, 1, 1, 5, 4, 4, 4, 4, 6, 3, 4, 6, 4, 2, 3, 2, 4, 4, 1, 1, 2, 2, 5, 4, 2, 1, 5, 5, 1, 5, 1, 2, 1, 4, 3, 2, 4, 6, 2, 4, 2, 2, 4, 6, 1, 3, 3, 5, 3, 3, 1, 1, 4, 4, 3, 5, 1, 2, 5, 2, 5, 2, 5, 1, 4, 2, 1, 6, 3, 4, 3, 3, 2, 5, 3, 1, 5, 2, 5, 2, 6, 4, 2, 5, 4, 5, 3, 4, 2, 4, 6, 5, 3, 6, 5, 6, 3, 1, 1, 2, 3, 2, 6, 2, 3, 3, 6, 1, 2, 2, 3, 4, 5, 1, 6, 5, 3, 4, 3, 5, 4, 1, 4, 6, 6, 2, 6, 4, 6, 3, 2, 2, 6, 3, 2, 4, 4, 6, 6, 2, 5, 4, 5, 3, 1, 4, 3, 6, 2, 4, 3, 4, 4, 4, 1, 5, 3, 6, 1, 2, 4, 5, 6, 5, 6, 6, 4, 5, 2, 1, 2, 1, 4, 3, 1, 6, 4, 4, 3, 6, 5, 3, 1, 6, 4, 2, 1, 3, 6, 2, 6, 4, 1, 6, 1, 2, 3, 6, 3, 2, 3, 6, 6, 3, 1, 3, 3, 2, 4, 6, 3, 2, 4, 1, 6, 5, 1, 3, 2, 3, 6, 5, 4, 2, 1, 6, 4, 4, 6, 1, 5, 5, 6, 2, 5, 6, 1, 3, 6, 1, 3, 2, 1, 4, 5, 4, 3, 2, 3, 4, 4, 4, 2, 5, 4, 5, 2, 1, 2, 4, 5, 3, 4, 2, 4, 6, 3, 3, 2, 1, 5, 5, 1, 5, 2, 3, 4, 1, 6, 2, 5, 6, 1, 4, 5, 2, 3, 3, 1, 3, 5, 1, 1, 6, 4, 2, 1, 2, 3, 1, 1, 5, 5, 1, 5, 2, 5, 6, 4, 6, 1, 1, 6, 2, 4, 1, 6, 6, 5, 3, 5, 3, 4, 6, 3, 2, 6, 6, 2, 6, 1, 3, 2, 4, 5, 1, 3, 1, 2, 4, 6, 6, 1, 5, 2, 6, 3, 5, 6, 5, 6, 5, 5, 2, 1, 3, 3, 2, 2, 6, 4, 5, 3, 1, 5, 6, 6, 2, 1, 3, 1, 6, 6, 2, 5, 4, 4, 1, 1, 4, 4, 1, 6, 3, 4, 1, 5, 4, 2, 3, 3, 1, 3, 1, 3, 6, 5, 6, 1, 2, 4, 5, 4, 5, 5, 2, 4, 5, 5, 6, 2, 1, 1, 1, 1, 4, 4, 6, 1, 1, 5, 2, 1, 3, 1, 6, 2, 1, 4, 1, 2, 2, 6, 1, 4, 1, 2, 2, 4, 1, 6, 2, 6, 1, 4, 4, 1, 1, 1, 2, 4, 5, 4, 2, 1, 1, 5, 5, 5, 1, 2, 2, 1, 6, 5, 6, 3, 3, 4, 4, 2, 5, 4, 6, 2, 5, 3, 6, 1, 4, 2, 5, 1, 2, 3, 6, 5, 5, 2, 4, 1, 1, 4, 6, 5, 3, 6, 3, 3, 4, 3, 6, 3, 3, 3, 4, 3, 3, 6, 4, 5, 2, 4, 2, 6, 5, 2, 1, 6, 2, 4, 5, 1, 5, 5, 5, 1, 3, 6, 5, 1, 5, 6, 1, 4, 6, 6, 3, 5, 2, 1, 1, 2, 6, 3, 3, 4, 1, 1, 1, 5, 4, 5, 6, 2, 4, 3, 5, 4, 1, 4, 2, 6, 2, 5, 6, 3, 3, 4, 6, 3, 2, 2, 1, 4, 2, 1, 5, 2, 4, 4, 4, 6, 6, 5, 1, 6, 1, 1, 5, 3, 6, 6, 1, 4, 6, 4, 1, 3, 3, 1, 5, 1, 3, 6, 5, 2, 5, 3, 5, 2, 6, 6, 5, 4, 4, 4, 2, 2, 4, 4, 1, 5, 5, 4, 2, 1, 5, 6, 3, 1, 3, 4, 2, 3, 6, 5, 3, 5, 2, 6, 4, 2, 6, 5, 5, 5, 4, 3, 4, 3, 2, 5, 3, 5, 3, 4, 2, 6, 5, 6, 6, 4, 6, 2, 1, 1, 5, 6, 2, 4, 4, 1, 5, 1, 6, 1, 1, 5, 1, 3, 4, 2, 1, 1, 1, 5, 5, 3, 5, 5, 1, 3, 1, 1, 4, 4, 6, 6, 2, 6, 5, 6, 2, 3, 3, 4, 4, 2, 6, 4, 3, 4, 1, 3, 1, 1, 6, 6, 2, 6, 1, 3, 6, 3, 1, 6, 1, 2, 2, 4, 2, 4, 2, 4, 3, 5, 5, 6, 4, 1, 5, 3, 6, 3, 4, 1, 4, 2, 2, 2, 1, 4, 1, 5, 6, 5, 4, 6, 2, 5, 1, 3, 2, 4, 1, 2, 3, 3, 3, 6, 4, 1, 4, 1, 6, 5, 1, 1, 2, 3, 1, 2, 1, 1, 4, 3, 4, 5, 1, 3, 5, 4, 2, 6, 4, 4, 1, 4, 2, 2, 1, 1, 5, 5, 5, 4, 2, 2, 3, 5, 2, 5, 4, 2, 3, 5, 3, 5, 3, 2, 6, 1, 4, 2, 1, 2, 4, 3, 2, 6, 4, 6, 6, 2, 1, 3, 2, 4, 6, 3, 4, 5, 3, 1, 4, 5, 1, 6, 5, 2, 2, 1, 2, 4, 3, 1, 1, 1, 6, 4, 2, 2, 3, 5, 5, 6, 3, 3, 5, 5, 6, 4, 4, 5, 5, 2, 4, 1, 2, 6, 1, 4, 3, 4, 6, 5, 5, 2, 3, 6, 5, 5, 6, 2, 2, 5, 5, 3, 2, 5, 4, 2, 3, 3, 1, 4, 4, 4, 3, 5, 1, 5, 4, 5, 4, 6, 6, 6, 4, 6, 2, 1, 3, 2, 6, 5, 1, 2, 6, 2, 5, 2, 4, 2, 2, 5, 6, 1, 1, 5, 6, 5, 1, 6, 1, 2, 3, 4, 1, 3, 2, 3, 4, 1, 1, 5, 5, 4, 2, 1, 6, 3, 5, 2, 6, 1, 5, 2, 2, 3, 2, 6, 2, 6, 6, 4, 1, 2, 4, 1, 3, 4, 4, 4, 6, 1, 2, 2, 3, 6, 3, 1, 4, 2, 5, 3, 2, 6, 4, 4, 5, 6, 1, 1, 6, 6, 4, 5, 6, 5, 4, 4, 5, 2, 3, 6, 1, 2, 6, 1, 3, 2, 3, 2, 5, 1, 4, 1, 3, 5, 5, 6, 2, 2, 6, 1, 2, 4, 1, 2, 1, 4, 1, 3, 4, 5, 3, 1, 4, 4, 4, 1, 1, 1, 2, 5, 1, 4, 4, 1, 6, 1, 5, 5, 3, 5, 4, 5, 3, 1, 6, 3, 4, 1, 5, 5, 2, 6, 1, 4, 1, 3, 5, 6, 3, 3, 1, 1, 1, 5, 6, 6, 4, 6, 6, 4, 6, 6, 1, 1, 3, 6, 5, 3, 3, 6, 4, 3, 2, 2, 3, 5, 4, 4, 3, 2, 3, 4, 3, 3, 3, 5, 5, 3, 3, 2, 4, 5, 5, 5, 1, 3, 5, 3, 2, 2, 6, 4, 3, 1, 3, 5, 2, 2, 2, 5, 5, 5, 4, 3, 3, 1, 3, 2, 1, 1, 2, 1, 5, 1, 4, 1, 1, 3, 3, 1, 5, 3, 1, 4, 2, 4, 6, 6, 6, 6, 1, 5, 6, 4, 6, 5, 6, 1, 4, 3, 3, 1, 4, 4, 1, 4, 1, 4, 3, 4, 3, 3, 2, 6, 3, 2, 6, 5, 6, 5, 5, 6, 6, 1, 1, 3, 4, 4, 3, 1, 4, 6, 4, 5, 5, 5, 3, 4, 5, 3, 3, 1, 2, 1, 1, 6, 6, 2, 6, 5, 5, 4, 2, 2, 3, 5, 2, 4, 6, 6, 6, 1, 6, 2, 1, 3, 6, 6, 6, 3, 2, 1, 1, 1, 6, 4, 6, 5, 2, 6, 2, 1, 3, 4, 4, 4, 3, 4, 6, 3, 2, 2, 6, 1, 4, 1, 4, 6, 5, 5, 1, 2, 4, 3, 4, 6, 3, 3, 4, 3, 1, 1, 2, 2, 1, 6, 2, 1, 4, 5, 2, 4, 5, 1, 2, 5, 3, 1, 1, 6, 5, 5, 6, 4, 3, 4, 6, 1, 5, 5, 5, 6, 2, 6, 3, 5, 4, 1, 4, 1, 1, 2, 6, 2, 6, 6, 2, 6, 1, 2, 5, 6, 2, 4, 5, 1, 3, 6, 6, 2, 4, 5, 4, 6, 4, 1, 6, 5, 1, 6, 6, 3, 3, 3, 5, 1, 6, 4, 2, 3, 6, 2, 6, 5, 3, 1, 5, 1, 2, 2, 4, 1, 6, 2, 2, 5, 3, 1, 2, 4, 4, 5, 6, 1, 6, 2, 4, 4, 2, 4, 6, 1, 3, 2, 3, 6, 4, 1, 6, 1, 6, 2, 3, 5, 5, 5, 1, 6, 1, 5, 2, 4, 2, 6, 2, 2, 4, 2, 2, 1, 2, 1, 4, 1, 4, 1, 4, 5, 4, 2, 6, 2, 2, 3, 5, 1, 4, 5, 5, 4, 1, 4, 4, 6, 1, 2, 4, 1, 6, 6, 6, 4, 3, 6, 2, 5, 2, 3, 1, 4, 3, 5, 4, 5, 2, 4, 1, 4, 2, 2, 5, 3, 6, 6, 2, 2, 3, 3, 6, 1, 2, 4, 6, 6, 2, 1, 3, 4, 1, 2, 5, 1, 1, 5, 5, 6, 4, 6, 1, 5, 1, 3, 1, 2, 1, 3, 3, 6, 6, 4, 6, 5, 5, 6, 4, 1, 6, 3, 5, 3, 4, 1, 1, 6, 1, 1, 1, 2, 6, 5, 3, 3, 5, 4, 5, 4, 1, 5, 3, 5, 4, 2, 2, 5, 2, 3, 1, 2, 4, 1, 2, 4, 5, 4, 5, 1, 6, 6, 1, 4, 1, 6, 5, 2, 1, 6, 1, 5, 4, 1, 1, 6, 2, 6, 1, 2, 2, 2, 4, 1, 2, 5, 6, 4, 4, 2, 5, 4, 4, 2, 1, 5, 4, 4, 3, 1, 4, 4, 6, 2, 4, 1, 6, 4, 4, 4, 1, 5, 2, 3, 6, 4, 3, 4, 5, 1, 3, 2, 2, 2, 5, 3, 3, 3, 6, 3, 3, 2, 2, 1, 6, 5, 4, 4, 3, 3, 3, 6, 1, 6, 6, 4, 1, 2, 1, 2, 6, 2, 6, 6, 1, 4, 1, 5, 5, 6, 3, 6, 1, 1, 5, 5, 2, 1, 1, 2, 6, 4, 5, 5, 1, 3, 3, 5, 5, 5, 6, 6, 1, 6, 3, 5, 3, 6, 2, 3, 6, 6, 2, 3, 1, 5, 4, 5, 5, 5, 5, 2, 5, 2, 3, 1, 5, 1, 2, 4, 5, 2, 4, 6, 6, 4, 5, 6, 1, 2, 6, 4, 5, 2, 1, 2, 3, 6, 6, 6, 5, 4, 6, 3, 4, 4, 1, 4, 5, 2, 5, 3, 4, 4, 4, 1, 4, 3, 1, 2, 2, 5, 4, 2, 6, 4, 4, 4, 6, 4, 1, 5, 6, 3, 3, 5, 6, 4, 6, 5, 6, 1, 6, 6, 5, 2, 5, 5, 1, 1, 1, 6, 2, 2, 5, 1, 5, 1, 6, 2, 3, 6, 6, 3, 2, 2, 3, 6, 1, 5, 1, 1, 2, 5, 2, 6, 3, 6, 3, 3, 5, 6, 5, 6, 4, 2, 2, 3, 3, 3, 3, 2, 5, 6, 2, 6, 6, 2, 6, 5, 1, 2, 3, 5, 4, 4, 1, 4, 6, 6, 2, 4, 2, 2, 1, 1, 4, 4, 1, 1, 4, 5, 5, 4, 5, 3, 4, 4, 3, 4, 3, 6, 6, 6, 3, 3, 6, 4, 1, 5, 5, 2, 1, 3, 1, 1, 5, 6, 3, 2, 4, 5, 2, 1, 3, 4, 1, 1, 2, 1, 5, 1, 3, 4, 1, 2, 2, 5, 5, 6, 2, 3, 5, 6, 3, 2, 1, 2, 4, 1, 2, 5, 1, 1, 2, 2, 3, 1, 3, 5, 4, 2, 4, 4, 1, 3, 6, 5, 5, 6, 3, 4, 5, 2, 2, 4, 4, 1, 5, 2, 5, 4, 2, 4, 4, 4, 6, 5, 5, 2, 3, 2, 4, 1, 6, 6, 6, 3, 3, 6, 3, 4, 4, 1, 5, 4, 2, 1, 1, 4, 2, 4, 3, 1, 2, 4, 4, 5, 2, 5, 3, 5, 4, 3, 5, 2, 2, 6, 6, 1, 3, 1, 3, 3, 2, 1, 2, 6, 4, 1, 3, 3, 2, 4, 2, 1, 3, 6, 3, 6, 3, 3, 2, 3, 6, 3, 6, 6, 3, 4, 2, 2, 6, 2, 1, 2, 2, 5, 2, 4, 2, 3, 5, 1, 4, 2, 1, 5, 4, 1, 4, 2, 5, 5, 1, 5, 1, 4, 2, 1, 6, 6, 4, 3, 6, 4, 5, 4, 3, 1, 5, 4, 1, 4, 5, 5, 1, 6, 4, 3, 3, 4, 3, 1, 5, 6, 1, 6, 2, 3, 4, 6, 3, 4, 2, 5, 6, 2, 3, 1, 3, 4, 4, 6, 2, 1, 1, 2, 1, 6, 1, 1, 4, 4, 2, 2, 1, 6, 5, 3, 5, 2, 4, 5, 6, 1, 2, 6, 5, 6, 3, 3, 1, 4, 5, 1, 4, 5, 1, 2, 3, 4, 5, 5, 5, 2, 2, 3, 4, 4, 4, 1, 4, 3, 1, 5, 2, 4, 1, 4, 6, 1, 5, 2, 6, 6, 3, 4, 6, 5, 3, 1, 6, 2, 1, 4, 3, 1, 2, 1, 2, 5, 6, 2, 3, 1, 6, 5, 2, 5, 1, 5, 6, 6, 3, 5, 6, 2, 2, 1, 2, 3, 6, 4, 2, 6, 5, 5, 3, 5, 1, 4, 2, 3, 1, 4, 5, 5, 6, 1, 5, 1, 3, 6, 4, 3, 6, 6, 3, 2, 1, 3, 2, 6, 3, 6, 5, 6, 4, 1, 2, 5, 2, 5, 6, 2, 4, 5, 5, 5, 2, 6, 3, 2, 4, 3, 2, 2, 2, 3, 2, 1, 5, 1, 5, 1, 1, 3, 4, 1, 3, 3, 1, 2, 4, 6, 6, 1, 1, 5, 2, 2, 2, 5, 3, 6, 3, 1, 5, 5, 3, 6, 6, 6, 1, 4, 2, 4, 5, 1, 3, 3, 1, 5, 2, 5, 6, 2, 4, 1, 6, 3, 4, 1, 2, 4, 4, 2, 2, 4, 5, 4, 2, 5, 3, 3, 5, 5, 4, 2, 3, 2, 5, 2, 5, 4, 4, 3, 6, 3, 2, 2, 6, 1, 3, 1, 3, 4, 4, 3, 5, 2, 4, 6, 5, 4, 1, 6, 2, 5, 4, 3, 1, 4, 3, 4, 4, 1, 1, 3, 1, 3, 5, 1, 2, 5, 6, 2, 5, 5, 4, 3, 1, 1, 3, 2, 3, 1, 6, 6, 2, 2, 2, 3, 6, 3, 5, 4, 4, 6, 2, 6, 2, 4, 6, 3, 2, 6, 1, 1, 1, 1, 4, 3, 1, 5, 3, 1, 1, 3, 6, 1, 3, 5, 4, 6, 2, 6, 3, 1, 5, 4, 4, 3, 5, 6, 4, 1, 3, 3, 3, 3, 4, 1, 5, 1, 1, 6, 1, 2, 5, 1, 1, 6, 3, 2, 2, 1, 5, 2, 5, 2, 6, 4, 5, 1, 4, 4, 3, 5, 2, 2, 5, 6, 2, 6, 6, 3, 2, 4, 2, 2, 5, 6, 5, 2, 3, 4, 2, 2, 4, 5, 5, 4, 1, 1, 3, 2, 4, 1, 4, 5, 1, 6, 5, 5, 5, 4, 1, 6, 3, 4, 1, 2, 1, 4, 6, 4, 6, 3, 6, 4, 2, 6, 2, 3, 2, 5, 6, 6, 6, 1, 4, 1, 6, 5, 6, 5, 1, 3, 4, 2, 4, 5, 5, 4, 1, 1, 4, 4, 3, 3, 4, 1, 5, 2, 1, 3, 1, 5, 6, 2, 5, 4, 3, 4, 1, 3, 3, 4, 6, 2, 2, 1, 4, 2, 5, 4, 3, 6, 4, 4, 2, 1, 3, 4, 5, 5, 4, 6, 5, 1, 5, 5, 3, 1, 6, 1, 6, 2, 3, 2, 4, 3, 2, 2, 3, 6, 4, 6, 5, 6, 2, 2, 3, 1, 5, 1, 4, 2, 6, 1, 6, 3, 4, 5, 4, 3, 4, 3, 1, 6, 6, 4, 4, 5, 2, 1, 3, 5, 2, 3, 2, 4, 6, 2, 5, 4, 1, 2, 2, 6, 2, 4, 2, 1, 2, 1, 4, 5, 6, 2, 3, 3, 5, 3, 5, 6, 2, 4, 4, 3, 5, 3, 5, 4, 2, 4, 6, 1, 5, 1, 6, 4, 4, 6, 2, 6, 4, 1, 1, 2, 6, 4, 3, 6, 2, 2, 1, 4, 6, 3, 3, 5, 1, 4, 1, 4, 6, 1, 2, 4, 3, 2, 6, 5, 3, 5, 1, 4, 6, 6, 1, 2, 1, 3, 3, 3, 4, 3, 2, 5, 3, 4, 5, 2, 2, 2, 4, 6, 1, 1, 5, 6, 1, 4, 3, 6, 3, 3, 6, 1, 6, 1, 4, 6, 5, 5, 5, 1, 3, 1, 4, 6, 1, 3, 6, 4, 4, 6, 3, 5, 5, 5, 5, 3, 6, 1, 6, 4, 4, 1, 5, 5, 5, 2, 6, 3, 4, 6, 2, 4, 3, 6, 6, 3, 2, 3, 6, 3, 5, 2, 4, 4, 1, 1, 5, 5, 5, 1, 1, 2, 6, 3, 1, 6, 3, 4, 1, 4, 3, 5, 6, 6, 1, 2, 1, 6, 6, 2, 4, 6, 5, 4, 5, 6, 4, 6, 6, 4, 5, 4, 6, 3, 5, 1, 6, 1, 5, 6, 3, 6, 2, 1, 3, 6, 3, 4, 5, 6, 1, 4, 4, 2, 1, 1, 1, 6, 6, 3, 3, 4, 6, 5, 3, 5, 6, 1, 3, 6, 2, 3, 3, 5, 5, 1, 5, 6, 1, 3, 6, 2, 2, 3, 6, 3, 6, 5, 1, 3, 1, 2, 5, 1, 6, 4, 5, 6, 6, 1, 3, 3, 5, 1, 3, 6, 4, 2, 4, 1, 4, 4, 1, 2, 4, 3, 2, 5, 6, 1, 2, 2, 2, 3, 5, 1, 5, 6, 2, 1, 3, 1, 1, 2, 5, 6, 1, 1, 4, 2, 6, 2, 1, 1, 3, 4, 4, 6, 4, 5, 4, 1, 6, 1, 1, 4, 3, 1, 1, 5, 1, 5, 1, 2, 5, 5, 5, 3, 3, 4, 6, 2, 5, 4, 1, 6, 4, 4, 4, 3, 5, 4, 3, 5, 5, 6, 6, 4, 6, 4, 4, 4, 5, 3, 6, 3, 4, 1, 4, 3, 3, 3, 4, 1, 3, 2, 3, 4, 6, 1, 3, 4, 5, 6, 6, 3, 3, 5, 5, 5, 5, 3, 2, 2, 1, 6, 4, 2, 6, 2, 4, 6, 6, 2, 6, 4, 2, 4, 6, 6, 5, 4, 5, 3, 2, 4, 1, 3, 4, 1, 4, 1, 5, 4, 6, 5, 5, 6, 6, 1, 2, 5, 3, 5, 6, 2, 3, 3, 2, 4, 2, 5, 1, 1, 2, 6, 4, 5, 2, 5, 1, 2, 2, 6, 3, 1, 1, 6, 4, 6, 1, 2, 2, 5, 4, 6, 1, 1, 6, 2, 1, 1, 5, 4, 5, 3, 2, 1, 1, 6, 1, 6, 5, 3, 3, 3, 2, 2, 1, 3, 1, 1, 3, 5, 5, 1, 5, 2, 1, 4, 6, 3, 6, 2, 4, 2, 1, 5, 2, 1, 4, 5, 5, 2, 4, 2, 3, 5, 1, 2, 3, 1, 1, 1, 1, 4, 1, 4, 2, 3, 3, 1, 1, 1, 6, 5, 6, 4, 2, 1, 6, 1, 6, 5, 2, 5, 2, 5, 2, 1, 3, 3, 1, 5, 4, 6, 4, 6, 4, 2, 2, 1, 5, 4, 6, 2, 4, 1, 4, 6, 1, 1, 5, 6, 3, 3, 1, 3, 6, 1, 6, 1, 3, 3, 1, 5, 2, 1, 1, 4, 2, 4, 3, 3, 1, 4, 4, 1, 4, 1, 5, 5, 3, 2, 3, 3, 6, 3, 3, 3, 3, 3, 4, 1, 5, 1, 6, 2, 3, 4, 5, 5, 3, 1, 4, 6, 3, 5, 2, 1, 3, 6, 6, 5, 1, 6, 3, 2, 6, 1, 1, 4, 4, 1, 2, 2, 1, 3, 4, 1, 1, 5, 3, 6, 4, 4, 6, 4, 3, 2, 5, 6, 1, 3, 1, 6, 4, 1, 5, 1, 1, 4, 1, 1, 2, 6, 2, 5, 1, 4, 3, 2, 2, 2, 4, 1, 2, 5, 6, 5, 1, 3, 6, 5, 2, 1, 4, 2, 2, 4, 5, 2, 3, 5, 2, 2, 3, 5, 2, 4, 4, 5, 6, 6, 6, 4, 4, 5, 2, 2, 4, 2, 3, 4, 2, 3, 6, 3, 3, 4, 6, 4, 6, 1, 2, 5, 1, 2, 6, 5, 4, 5, 6, 2, 1, 2, 6, 4, 1, 1, 5, 3, 2, 1, 1, 6, 2, 6, 1, 2, 5, 1, 3, 4, 5, 5, 6, 3, 2, 6, 4, 2, 4, 3, 5, 2, 1, 6, 5, 5, 3, 5, 5, 4, 3, 2, 6, 6, 2, 5, 3, 2, 5, 5, 4, 1, 1, 2, 2, 3, 6, 3, 2, 2, 6, 2, 3, 6, 5, 3, 3, 2, 2, 4, 6, 6, 6, 1, 1, 6, 2, 6, 4, 6, 5, 5, 2, 4, 5, 4, 3, 4, 4, 5, 2, 6, 5, 6, 6, 3, 6, 2, 5, 5, 1, 5, 6, 3, 6, 3, 4, 3, 1, 2, 5, 6, 4, 1, 4, 3, 3, 6, 2, 3, 6, 1, 2, 4, 5, 4, 4, 3, 4, 4, 5, 3, 2, 2, 1, 4, 3, 6, 3, 5, 3, 3, 2, 2, 2, 5, 4, 4, 3, 2, 4, 3, 1, 6, 2, 6, 1, 3, 3, 6, 5, 6, 1, 1, 5, 4, 1, 3, 5, 6, 1, 4, 2, 1, 2, 3, 1, 6, 4, 6, 2, 1, 2, 4, 2, 5, 6, 1, 5, 2, 2, 6, 6, 2, 5, 6, 3, 1, 2, 3, 1, 4, 6, 1, 3, 6, 5, 5, 6, 4, 5, 1, 2, 5, 2, 4, 3, 4, 2, 2, 6, 2, 4, 4, 2, 1, 2, 4, 5, 6, 5, 5, 2, 5, 4, 4, 6, 3, 2, 5, 6, 4, 1, 3, 5, 5, 5, 6, 6, 6, 3, 5, 3, 3, 5, 1, 4, 5, 5, 3, 4, 1, 5, 2, 4, 6, 3, 4, 2, 5, 4, 4, 5, 6, 1, 1, 3, 1, 1, 3, 5, 5, 3, 3, 6, 2, 4, 6, 3, 1, 2, 1, 5, 3, 3, 5, 4, 1, 3, 5, 1, 6, 4, 1, 6, 1, 5, 5, 6, 4, 3, 1, 6, 5, 6, 1, 5, 4, 4, 3, 1, 6, 5, 1, 4, 4, 5, 4, 6, 4, 3, 6, 6, 4, 6, 4, 1, 1, 6, 6, 2, 3, 1, 2, 3, 3, 3, 6, 3, 2, 5, 3, 4, 4, 6, 3, 6, 1, 4, 1, 3, 6, 5, 6, 3, 2, 6, 1, 3, 3, 5, 5, 1, 3, 1, 1, 1, 6, 2, 4, 2, 3, 5, 1, 4, 3, 3, 1, 3, 2, 3, 2, 5, 1, 3, 3, 2, 3, 3, 1, 2, 3, 1, 2, 2, 1, 4, 4, 6, 5, 4, 1, 6, 1, 2, 3, 4, 1, 4, 3, 2, 2, 6, 5, 2, 4, 2, 5, 1, 2, 4, 3, 2, 4, 3, 2, 1, 4, 6, 4, 2, 4, 1, 1, 3, 1, 6, 5, 5, 5, 3, 6, 1, 5, 4, 6, 5, 5, 6, 3, 4, 2, 3, 2, 1, 1, 3, 3, 3, 1, 5, 2, 1, 2, 1, 4, 4, 6, 2, 2, 4, 5, 4, 2, 6, 1, 3, 2, 6, 4, 1, 1, 6, 1, 2, 5, 4, 4, 1, 6, 1, 1, 6, 6, 6, 1, 6, 4, 4, 5, 4, 3, 3, 5, 6, 2, 5, 5, 3, 6, 6, 3, 5, 5, 5, 5, 3, 4, 2, 1, 2, 2, 1, 2, 5, 4, 4, 4, 3, 2, 1, 1, 3, 4, 3, 2, 3, 6, 4, 4, 3, 4, 2, 5, 3, 2, 3, 6, 4, 2, 5, 5, 1, 1, 1, 5, 4, 3, 6, 4, 5, 5, 4, 3, 3, 2, 6, 1, 4, 4, 3, 1, 6, 3, 5, 4, 6, 5, 1, 2, 4, 6, 2, 2, 1, 3, 1, 1, 3, 4, 1, 3, 4, 6, 5, 3, 1, 4, 5, 1, 5, 3, 5, 2, 5, 3, 2, 5, 2, 4, 5, 6, 5, 1, 5, 3, 4, 2, 4, 2, 4, 1, 1, 2, 3, 4, 1, 2, 2, 6, 2, 4, 2, 4, 6, 6, 2, 1, 4, 3, 4, 3, 3, 3, 5, 4, 5, 1, 6, 1, 6, 4, 2, 1, 4, 2, 1, 5, 3, 4, 6, 4, 6, 5, 2, 5, 2, 5, 1, 4, 2, 4, 4, 6, 2, 2, 6, 3, 5, 6, 6, 3, 6, 5, 3, 4, 1, 2, 1, 3, 3, 5, 6, 5, 6, 1, 5, 1, 2, 4, 5, 3, 6, 2, 3, 1, 2, 5, 6, 2, 6, 3, 2, 4, 3, 3, 1, 5, 2, 1, 4, 4, 1, 3, 6, 6, 1, 4, 6, 2, 3, 4, 5, 5, 2, 1, 2, 2, 5, 2, 5, 4, 5, 3, 4, 6, 3, 5, 3, 1, 2, 4, 3, 5, 6, 4, 6, 5, 3, 4, 5, 2, 4, 3, 3, 5, 2, 6, 3, 1, 1, 4, 1, 6, 2, 3, 6, 3, 3, 6, 5, 2, 3, 6, 5, 5, 2, 1, 1, 3, 2, 2, 2, 2, 4, 6, 2, 3, 4, 2, 4, 6, 2, 2, 5, 2, 6, 4, 1, 3, 5, 5, 5, 5, 4, 2, 5, 1, 3, 2, 4, 1, 4, 5, 4, 4, 4, 2, 5, 6, 3, 4, 4, 6, 4, 4, 6, 3, 5, 4, 4, 5, 6, 3, 3, 4, 2, 6, 5, 3, 6, 2, 2, 4, 4, 4, 2, 4, 3, 1, 3, 4, 2, 1, 1, 1, 6, 3, 4, 3, 5, 6, 4, 2, 2, 4, 3, 6, 2, 6, 5, 5, 5, 6, 4, 5, 2, 5, 5, 3, 3, 3, 6, 1, 2, 2, 5, 6, 3, 6, 2, 2, 1, 5, 6, 6, 4, 3, 3, 1, 5, 2, 3, 6, 2, 5, 1, 5, 2, 1, 4, 5, 3, 1, 4, 2, 3, 6, 2, 1, 6, 1, 6, 3, 4, 6, 4, 4, 3, 2, 1, 3, 2, 2, 1, 2, 4, 1, 4, 1, 2, 6, 6, 3, 4, 6, 3, 2, 5, 6, 5, 2, 2, 4, 6, 3, 4, 6, 3, 3, 3, 3, 6, 4, 6, 1, 3, 3, 2, 5, 4, 2, 2, 3, 6, 1, 2, 3, 3, 2, 4, 3, 2, 5, 4, 1, 1, 3, 1, 3, 3, 6, 5, 6, 3, 1, 5, 1, 2, 3, 1, 2, 4, 5, 3, 3, 1, 3, 3, 2, 3, 3, 4, 4, 3, 2, 4, 6, 6, 4, 3, 5, 2, 3, 3, 1, 5, 4, 3, 3, 6, 1, 2, 3, 2, 4, 4, 4, 4, 4, 4, 3, 4, 1, 4, 2, 4, 2, 1, 3, 4, 1, 6, 1, 2, 2, 3, 1, 6, 5, 4, 2, 1, 1, 2, 1, 1, 3, 4, 5, 2, 4, 3, 5, 2, 1, 4, 3, 6, 1, 5, 5, 4, 2, 1, 3, 5, 4, 2, 1, 6, 6, 6, 5, 3, 1, 6, 5, 4, 6, 2, 4, 5, 5, 3, 5, 2, 6, 5, 1, 5, 4, 3, 5, 1, 4, 5, 1, 3, 6, 3, 2, 1, 2, 3, 6, 1, 1, 6, 3, 3, 6, 5, 2, 3, 4, 4, 5, 2, 1, 2, 2, 3, 3, 6, 2, 3, 1, 5, 6, 6, 6, 1, 2, 3, 4, 3, 4, 1, 3, 6, 2, 4, 1, 4, 3, 5, 2, 2, 4, 1, 4, 5, 2, 3, 2, 1, 5, 5, 4, 4, 3, 6, 6, 1, 3, 2, 3, 6, 1, 4, 1, 2, 2, 2, 2, 1, 1, 1, 1, 6, 6, 1, 4, 4, 1, 1, 6, 6, 4, 4, 3, 5, 1, 6, 6, 2, 1, 5, 3, 6, 1, 2, 5, 1, 6, 1, 1, 5, 3, 4, 3, 2, 2, 1, 4, 2, 3, 6, 5, 5, 4, 5, 1, 6, 5, 1, 6, 3, 2, 4, 2, 2, 1, 2, 4, 4, 3, 5, 2, 3, 4, 6, 3, 4, 5, 3, 2, 2, 2, 5, 3, 2, 2, 3, 3, 1, 4, 4, 6, 4, 5, 3, 2, 3, 5, 1, 1, 4, 4, 6, 6, 6, 1, 1, 4, 2, 1, 4, 3, 5, 4, 1, 3, 6, 1, 6, 1, 2, 4, 5, 2, 5, 1, 4, 2, 1, 4, 3, 2, 2, 1, 5, 3, 6, 2, 5, 1, 1, 2, 1, 1, 6, 1, 6, 5, 2, 4, 2, 5, 2, 4, 3, 6, 3, 5, 5, 4, 2, 1, 1, 3, 4, 5, 1, 5, 5, 6, 2, 6, 2, 3, 3, 2, 4, 5, 3, 6, 4, 6, 3, 2, 6, 3, 1, 3, 3, 2, 3, 3, 6, 6, 6, 6, 5, 1, 1, 5, 4, 4, 2, 3, 3, 3, 1, 3, 1, 1, 4, 4, 5, 5, 5, 1, 1, 2, 3, 3, 5, 4, 1, 2, 4, 1, 3, 1, 3, 3, 1, 6, 6, 2, 1, 4, 5, 6, 4, 3, 2, 3, 2, 3, 4, 4, 5, 4, 5, 5, 1, 4, 2, 3, 5, 1, 4, 4, 1, 1, 5, 2, 3, 1, 2, 1, 5, 6, 3, 1, 1, 2, 6, 4, 2, 3, 1, 2, 4, 5, 1, 4, 5, 3, 2, 3, 3, 1, 4, 5, 2, 4, 5, 5, 3, 3, 4, 1, 2, 2, 3, 1, 3, 6, 4, 4, 2, 1, 2, 5, 6, 2, 5, 4, 4, 1, 1, 3, 5, 4, 5, 1, 4, 6, 2, 1, 4, 3, 4, 4, 5, 5, 3, 5, 6, 2, 3, 2, 3, 6, 5, 4, 4, 4, 5, 2, 3, 1, 4, 2, 3, 4, 5, 6, 5, 3, 3, 6, 5, 5, 4, 5, 6, 2, 3, 6, 4, 4, 6, 5, 2, 4, 3, 5, 4, 3, 5, 5, 6, 6, 2, 1, 6, 2, 1, 3, 1, 4, 4, 3, 6, 3, 6, 3, 1, 4, 1, 2, 5, 3, 4, 4, 1, 1, 6, 6, 2, 1, 1, 4, 1, 6, 3, 3, 3, 4, 6, 5, 6, 4, 4, 6, 2, 6, 4, 6, 6, 6, 1, 5, 2, 3, 5, 6, 5, 5, 4, 2, 4, 5, 2, 6, 6, 2, 5, 3, 4, 1, 5, 1, 4, 4, 2, 1, 1, 4, 1, 4, 6, 4, 2, 3, 2, 6, 2, 5, 4, 2, 5, 3, 4, 2, 2, 3, 1, 5, 5, 4, 6, 2, 3, 2, 2, 1, 3, 1, 4, 6, 4, 2, 2, 2, 3, 6, 6, 2, 6, 5, 6, 3, 4, 2, 3, 2, 2, 2, 5, 3, 1, 6, 3, 4, 3, 3, 1, 6, 2, 4, 5, 5, 1, 6, 2, 1, 3, 2, 5, 4, 2, 6, 2, 3, 1, 3, 4, 3, 3, 4, 4, 2, 4, 5, 5, 4, 3, 1, 4, 3, 4, 1, 6, 5, 2, 2, 2, 5, 2, 5, 5, 5, 3, 6, 1, 1, 4, 6, 4, 3, 3, 6, 6, 5, 3, 4, 3, 6, 1, 5, 5, 5, 1, 5, 5, 4, 4, 2, 6, 6, 1, 1, 4, 2, 2, 1, 5, 6, 1, 3, 2, 5, 3, 6, 1, 6, 5, 3, 6, 2, 3, 4, 4, 5, 5, 6, 2, 3, 6, 5, 1, 6, 3, 6, 1, 2, 1, 1, 5, 6, 4, 3, 5, 1, 4, 1, 4, 1, 4, 4, 5, 3, 1, 1, 2, 2, 4, 5, 3, 2, 2, 1, 4, 3, 3, 2, 4, 3, 2, 1, 5, 2, 4, 2, 4, 3, 6, 2, 6, 6, 3, 4, 5, 6, 4, 4, 3, 3, 2, 2, 4, 3, 6, 1, 4, 2, 1, 6, 3, 3, 3, 4, 3, 2, 2, 5, 4, 6, 2, 2, 3, 1, 5, 2, 6, 6, 5, 1, 1, 6, 5, 3, 2, 2, 2, 1, 3, 3, 5, 6, 4, 1, 3, 2, 6, 4, 3, 1, 3, 4, 3, 6, 2, 5, 3, 3, 6, 5, 1, 2, 5, 1, 4, 2, 2, 4, 3, 5, 5, 5, 3, 2, 1, 1, 4, 2, 1, 4, 4, 5, 2, 5, 3, 4, 1, 6, 1, 1, 3, 4, 3, 3, 6, 5, 6, 4, 2, 3, 3, 3, 4, 4, 6, 1, 5, 3, 5, 4, 1, 2, 5, 5, 5, 1, 1, 2, 2, 6, 6, 5, 4, 5, 5, 3, 2, 5, 5, 1, 3, 3, 5, 3, 4, 5, 5, 6, 5, 4, 3, 1, 6, 4, 4, 6, 6, 2, 5, 3, 3, 6, 3, 4, 6, 1, 2, 5, 6, 3, 3, 6, 1, 1, 1, 5, 6, 4, 1, 6, 4, 3, 3, 4, 2, 2, 1, 6, 1, 4, 2, 4, 3, 3, 3, 3, 4, 1, 3, 2, 4, 2, 6, 1, 3, 6, 4, 2, 5, 6, 6, 1, 3, 1, 5, 1, 1, 4, 4, 2, 1, 4, 5, 5, 2, 4, 3, 2, 2, 4, 6, 5, 5, 4, 3, 4, 3, 6, 4, 3, 5, 1, 2, 6, 5, 4, 2, 2, 5, 5, 6, 3, 6, 6, 5, 2, 2, 3, 1, 5, 1, 1, 2, 4, 2, 2, 3, 3, 3, 5, 6, 1, 5, 2, 4, 1, 6, 1, 6, 2, 4, 2, 3, 3, 6, 4, 3, 5, 4, 3, 3, 4, 1, 6, 6, 4, 6, 2, 1, 2, 3, 4, 3, 6, 2, 4, 5, 4, 5, 4, 1, 1, 4, 4, 2, 2, 6, 4, 2, 3, 6, 3, 4, 2, 5, 3, 3, 3, 5, 3, 1, 1, 6, 1, 6, 5, 5, 3, 3, 1, 1, 3, 3, 6, 2, 2, 4, 1, 3, 2, 5, 4, 6, 6, 4, 1, 5, 6, 3, 2, 1, 6, 5, 3, 1, 6, 3, 2, 2, 4, 4, 5, 5, 4, 5, 3, 4, 1, 4, 1, 4, 5, 6, 2, 2, 1, 6, 1, 3, 2, 3, 6, 2, 3, 4, 3, 5, 3, 2, 2, 2, 4, 3, 3, 1, 3, 4, 4, 3, 1, 4, 5, 2, 5, 1, 5, 5, 4, 1, 6, 4, 5, 1, 4, 1, 6, 3, 5, 5, 2, 3, 1, 4, 2, 3, 4, 4, 5, 3, 3, 6, 4, 4, 4, 4, 1, 5, 1, 1, 2, 3, 2, 4, 5, 4, 1, 6, 5, 6, 2, 3, 2, 2, 2, 1, 2, 3, 5, 5, 6, 4, 3, 4, 2, 6, 2, 3, 6, 2, 2, 6, 1, 6, 2, 5, 1, 6, 3, 4, 2, 2, 3, 6, 5, 2, 6, 4, 5, 4, 3, 4, 4, 2, 3, 2, 3, 5, 4, 2, 2, 2, 2, 5, 1, 5, 4, 6, 5, 1, 6, 5, 5, 4, 2, 1, 1, 2, 5, 2, 1, 6, 4, 4, 1, 1, 2, 3, 5, 5, 5, 3, 3, 1, 6, 5, 1, 6, 6, 6, 2, 5, 1, 2, 5, 4, 1, 6, 3, 1, 6, 5, 4, 4, 2, 6, 4, 3, 5, 5, 2, 3, 5, 3, 1, 5, 6, 1, 4, 2, 1, 2, 4, 1, 2, 3, 2, 3, 1, 4, 5, 6, 3, 3, 2, 1, 2, 3, 1, 2, 5, 5, 5, 4, 4, 2, 5, 3, 4, 2, 2, 4, 3, 1, 4, 2, 5, 6, 2, 5, 4, 3, 6, 4, 6, 3, 3, 3, 5, 4, 6, 4, 2, 1, 1, 6, 1, 6, 1, 1, 1, 2, 5, 1, 2, 5, 5, 2, 6, 6, 6, 2, 4, 5, 4, 6, 6, 1, 6, 4, 2, 3, 6, 1, 3, 3, 1, 6, 5, 5, 5, 2, 1, 6, 1, 2, 5, 1, 6, 5, 1, 3, 5, 1, 2, 5, 2, 6, 6, 1, 1, 1, 1, 2, 1, 6, 5, 4, 1, 1, 4, 6, 6, 4, 3, 6, 5, 6, 4, 2, 4, 5, 5, 3, 4, 6, 4, 4, 3, 6, 3, 2, 4, 3, 2, 1, 2, 1, 3, 3, 5, 5, 1, 3, 3, 4, 2, 1, 5, 2, 4, 5, 6, 2, 2, 5, 2, 5, 6, 2, 6, 5, 1, 2, 5, 2, 3, 4, 6, 1, 2, 5, 1, 2, 2, 4, 3, 6, 5, 2, 4, 4, 2, 2, 3, 3, 4, 1, 6, 2, 2, 5, 4, 2, 2, 1, 5, 4, 1, 4, 1, 1, 3, 5, 4, 6, 1, 4, 2, 4, 5, 1, 2, 6, 4, 6, 5, 3, 4, 1, 6, 4, 3, 4, 2, 2, 4, 5, 4, 2, 1, 1, 2, 4, 6, 1, 1, 6, 5, 5, 5, 3, 4, 4, 2, 2, 6, 4, 6, 2, 1, 5, 1, 1, 5, 5, 5, 4, 6, 3, 4, 1, 4, 2, 4, 6, 2, 3, 1, 5, 1, 6, 2, 6, 2, 1, 6, 6, 6, 4, 2, 3, 2, 5, 4, 5, 1, 5, 6, 1, 1, 4, 5, 1, 5, 5, 2, 6, 5, 5, 2, 5, 4, 3, 3, 2, 6, 5, 2, 3, 5, 6, 6, 1, 3, 5, 4, 3, 5, 5, 5, 3, 5, 1, 5, 4, 1, 2, 2, 4, 2, 1, 6, 6, 5, 5, 1, 6, 5, 4, 5, 1, 6, 3, 6, 1, 1, 1, 4, 5, 6, 1, 6, 2, 4, 3, 6, 2, 1, 1, 6, 2, 3, 1, 3, 6, 5, 6, 4, 3, 2, 2, 6, 4, 4, 3, 2, 1, 3, 5, 1, 6, 4, 1, 4, 6, 1, 1, 2, 6, 6, 3, 5, 4, 5, 1, 1, 1, 6, 6, 3, 3, 5, 6, 6, 5, 6, 4, 2, 2, 3, 2, 1, 3, 6, 1, 6, 2, 4, 5, 6, 1, 3, 4, 1, 4, 4, 2, 2, 1, 1, 1, 1, 3, 1, 4, 5, 5, 4, 2, 2, 1, 4, 1, 6, 4, 2, 4, 1, 3, 3, 6, 4, 1, 1, 6, 5, 3, 2, 3, 5, 5, 5, 2, 2, 6, 2, 1, 4, 3, 1, 5, 6, 4, 5, 1, 3, 4, 5, 3, 5, 2, 6, 3, 5, 1, 4, 6, 6, 3, 1, 6, 2, 2, 5, 2, 1, 1, 3, 6, 2, 1, 4, 2, 5, 5, 4, 4, 1, 5, 4, 4, 4, 4, 2, 2, 5, 1, 5, 3, 4, 3, 5, 3, 1, 2, 1, 2, 1, 2, 1, 6, 6, 3, 2, 5, 6, 1, 2, 1, 1, 2, 2, 1, 5, 2, 5, 1, 4, 1, 2, 4, 6, 1, 2, 6, 6, 1, 4, 1, 1, 6, 4, 6, 2, 3, 5, 1, 5, 5, 4, 1, 3, 6, 5, 6, 4, 3, 3, 1, 5, 6, 3, 5, 6, 3, 3, 1, 5, 5, 6, 5, 4, 3, 3, 1, 1, 6, 6, 1, 4, 3, 6, 2, 4, 4, 3, 3, 3, 3, 2, 1, 2, 1, 5, 5, 4, 6, 2, 4, 5, 5, 1, 1, 3, 3, 5, 5, 6, 2, 6, 3, 1, 3, 3, 5, 1, 3, 4, 6, 6, 6, 3, 4, 6, 1, 4, 3, 6, 1, 3, 3, 4, 2, 3, 5, 4, 4, 3, 1, 6, 4, 6, 3, 4, 5, 4, 1, 2, 2, 1, 5, 3, 3, 2, 1, 4, 6, 6, 6, 6, 4, 1, 3, 1, 3, 4, 6, 3, 1, 6, 6, 6, 6, 2, 1, 3, 1, 6, 3, 1, 3, 6, 3, 1, 6, 3, 6, 6, 1, 4, 1, 1, 6, 6, 3, 6, 1, 1, 1, 6, 6, 5, 5, 4, 2, 2, 6, 6, 5, 1, 1, 3, 4, 5, 1, 3, 3, 3, 1, 6, 1, 5, 5, 4, 5, 2, 1, 6, 4, 3, 5, 4, 4, 1, 4, 5, 4, 1, 5, 3, 2, 3, 5, 6, 1, 5, 5, 5, 1, 3, 1, 1, 1, 1, 6, 5, 4, 2, 4, 4, 6, 5, 4, 4, 4, 3, 1, 1, 1, 3, 3, 2, 2, 6, 2, 6, 4, 4, 3, 2, 3, 1, 4, 6, 4, 3, 1, 4, 4, 2, 1, 4, 5, 1, 1, 5, 5, 5, 4, 2, 6, 5, 2, 3, 3, 5, 2, 4, 5, 6, 5, 1, 3, 5, 4, 1, 6, 6, 1, 2, 3, 1, 5, 1, 3, 6, 1, 6, 6, 6, 5, 1, 4, 4, 3, 5, 2, 6, 1, 2, 2, 1, 5, 4, 2, 2, 2, 4, 6, 4, 1, 4, 1, 5, 5, 6, 6, 6, 3, 6, 3, 2, 1, 5, 5, 1, 2, 1, 4, 1, 5, 3, 4, 2, 6, 1, 2, 5, 6, 2, 2, 1, 6, 5, 2, 6, 6, 3, 1, 1, 2, 4, 4, 6, 6, 6, 5, 6, 1, 2, 3, 4, 2, 3, 5, 1, 2, 3, 4, 5, 2, 2, 4, 4, 1, 3, 2, 4, 3, 1, 2, 4, 4, 2, 6, 5, 4, 4, 6, 5, 6, 3, 4, 6, 2, 5, 6, 3, 6, 1, 6, 6, 6, 3, 4, 6, 2, 2, 5, 1, 1, 2, 5, 1, 6, 4, 2, 5, 1, 3, 1, 6, 5, 4, 5, 6, 3, 6, 5, 2, 5, 1, 5, 5, 1, 5, 5, 3, 4, 5, 5, 5, 4, 6, 2, 5, 4, 2, 5, 1, 4, 4, 3, 3, 3, 5, 3, 3, 1, 3, 6, 2, 5, 3, 1, 2, 4, 4, 6, 3, 3, 2, 6, 5, 6, 4, 5, 2, 2, 1, 6, 6, 5, 3, 2, 6, 5, 4, 2, 3, 6, 6, 2, 1, 1, 4, 2, 4, 5, 1, 5, 3, 1, 3, 2, 1, 3, 1, 6, 3, 5, 1, 6, 1, 4, 4, 4, 5, 2, 3, 2, 2, 1, 4, 6, 6, 1, 6, 4, 6, 4, 6, 3, 5, 5, 3, 3, 6, 4, 2, 1, 1, 2, 2, 5, 4, 4, 5, 1, 6, 1, 4, 1, 2, 3, 4, 5, 3, 6, 2, 4, 5, 2, 3, 6, 2, 1, 1, 6, 3, 4, 2, 3, 4, 5, 5, 5, 5, 3, 4, 6, 4, 3, 5, 1, 5, 4, 5, 2, 1, 6, 2, 6, 5, 6, 3, 1, 6, 4, 1, 1, 6, 4, 4, 1, 4, 3, 5, 5, 4, 6, 4, 3, 4, 5, 5, 4, 1, 3, 2, 2, 3, 4, 1, 1, 3, 1, 4, 1, 2, 5, 2, 2, 3, 5, 1, 1, 4, 1, 5, 1, 6, 4, 4, 6, 1, 1, 2, 1, 4, 5, 2, 6, 6, 5, 4, 4, 3, 6, 4, 1, 3, 5, 4, 1, 3, 6, 1, 5, 6, 1, 5, 6, 4, 2, 3, 5, 1, 2, 2, 4, 1, 6, 1, 3, 2, 1, 5, 3, 4, 4, 6, 5, 6, 5, 5, 1, 1, 5, 2, 5, 3, 5, 5, 5, 3, 1, 6, 1, 4, 2, 4, 1, 2, 4, 1, 4, 4, 5, 4, 5, 5, 5, 2, 1, 3, 1, 6, 6, 3, 2, 1, 1, 6, 2, 6, 4, 5, 2, 3, 4, 5, 3, 2, 5, 5, 6, 4, 2, 1, 3, 4, 1, 6, 3, 3, 1, 4, 6, 3, 2, 5, 1, 1, 4, 4, 2, 4, 4, 1, 1, 3, 4, 2, 4, 5, 2, 3, 5, 4, 1, 1, 3, 4, 4, 1, 4, 5, 1, 3, 6, 3, 6, 6, 4, 2, 1, 5, 1, 5, 4, 4, 5, 3, 2, 3, 5, 5, 1, 1, 4, 6, 2, 1, 6, 3, 2, 1, 4, 1, 1, 4, 6, 2, 1, 1, 2, 4, 6, 4, 3, 6, 5, 6, 5, 5, 3, 2, 1, 1, 3, 3, 2, 1, 6, 3, 1, 5, 5, 5, 4, 4, 3, 4, 1, 6, 3, 4, 3, 4, 1, 6, 3, 5, 3, 4, 3, 1, 4, 3, 1, 5, 3, 3, 5, 3, 6, 3, 1, 2, 2, 1, 6, 5, 6, 3, 1, 3, 3, 3, 2, 1, 2, 6, 5, 6, 4, 5, 3, 5, 1, 5, 6, 4, 3, 5, 4, 6, 5, 2, 2, 3, 4, 4, 4, 6, 4, 2, 3, 6, 5, 6, 3, 3, 4, 2, 1, 2, 6, 6, 1, 5, 5, 6, 1, 1, 3, 2, 4, 3, 5, 1, 4, 3, 4, 5, 6, 1, 5, 5, 5, 1, 2, 6, 2, 6, 5, 3, 2, 5, 5, 3, 5, 3, 5, 4, 3, 6, 2, 6, 5, 3, 6, 5, 6, 5, 5, 4, 6, 4, 6, 2, 6, 3, 6, 6, 3, 4, 1, 5, 6, 5, 1, 3, 6, 2, 1, 4, 5, 2, 6, 4, 3, 2, 5, 5, 1, 4, 2, 4, 5, 1, 5, 3, 4, 1, 2, 4, 3, 6, 2, 5, 2, 4, 2, 6, 2, 4, 2, 6, 1, 5, 4, 2, 1, 5, 6, 4, 6, 1, 6, 5, 1, 4, 6, 6, 6, 6, 1, 4, 2, 5, 3, 4, 5, 3, 5, 2, 3, 4, 6, 2, 1, 4, 1, 2, 2, 3, 5, 5, 5, 5, 5, 6, 2, 3, 1, 2, 5, 1, 2, 5, 4, 3, 1, 4, 6, 5, 2, 6, 1, 4, 4, 3, 2, 3, 4, 6, 4, 5, 2, 5, 5, 3, 3, 2, 1, 1, 4, 4, 5, 2, 1, 5, 3, 6, 1, 5, 6, 2, 1, 6, 4, 3, 3, 2, 5, 6, 6, 5, 6, 6, 6, 6, 4, 3, 3, 1, 2, 1, 3, 6, 6, 1, 4, 1, 3, 2, 6, 5, 1, 6, 5, 6, 5, 1, 6, 4, 1, 1, 4, 3, 3, 1, 2, 3, 4, 4, 4, 5, 2, 1, 2, 5, 4, 2, 5, 5, 4, 1, 6, 2, 5, 2, 6, 2, 4, 2, 5, 2, 6, 2, 2, 5, 4, 1, 3, 3, 2, 2, 6, 2, 1, 2, 3, 6, 2, 2, 6, 4, 5, 4, 4, 4, 2, 3, 3, 2, 1, 3, 3, 6, 1, 5, 5, 6, 3, 4, 3, 6, 2, 1, 6, 1, 5, 3, 3, 5, 5, 4, 3, 3, 6, 4, 4, 1, 1, 1, 6, 6, 5, 2, 1, 2, 2, 4, 5, 6, 3, 5, 6, 3, 5, 5, 2, 2, 1, 6, 2, 2, 4, 6, 4, 5, 6, 6, 5, 1, 6, 2, 2, 6, 6, 3, 4, 6, 5, 4, 4, 2, 4, 4, 5, 1, 5, 6, 5, 4, 4, 6, 3, 4, 4, 3, 1, 1, 1, 1, 1, 4, 5, 6, 1, 2, 2, 4, 3, 2, 5, 2, 6, 1, 4, 1, 1, 3, 6, 3, 1, 3, 4, 4, 6, 1, 5, 2, 5, 2, 4, 2, 1, 1, 4, 6, 3, 2, 4, 2, 6, 3, 2, 5, 1, 2, 2, 2, 4, 3, 4, 3, 4, 6, 5, 5, 2, 3, 5, 3, 5, 5, 6, 3, 4, 4, 5, 1, 3, 1, 4, 2, 6, 6, 2, 2, 5, 1, 1, 2, 5, 3, 3, 3, 1, 4, 6, 1, 6, 6, 4, 1, 1, 6, 3, 3, 6, 1, 5, 2, 6, 4, 2, 2, 6, 1, 6, 1, 2, 5, 5, 3, 6, 4, 4, 1, 6, 1, 5, 6, 4, 5, 4, 1, 1, 4, 4, 6, 1, 5, 1, 5, 2, 4, 5, 5, 5, 6, 2, 6, 2, 3, 6, 5, 6, 5, 3, 3, 5, 6, 2, 6, 3, 5, 3, 6, 4, 6, 6, 1, 4, 6, 6, 4, 4, 5, 3, 1, 3, 3, 2, 4, 2, 3, 3, 5, 3, 4, 5, 5, 1, 3, 5, 5, 2, 5, 2, 4, 1, 5, 3, 1, 1, 1, 5, 1, 4, 4, 5, 2, 1, 3, 3, 6, 5, 3, 5, 3, 2, 4, 4, 4, 5, 1, 1, 1, 3, 5, 3, 1, 5, 4, 1, 6, 1, 2, 3, 1, 3, 4, 6, 6, 4, 5, 2, 1, 2, 3, 4, 4, 3, 1, 2, 3, 4, 6, 5, 3, 2, 6, 4, 5, 1, 6, 2, 4, 4, 4, 3, 1, 2, 5, 1, 2, 3, 5, 1, 2, 4, 4, 5, 1, 5, 6, 1, 2, 2, 2, 1, 2, 5, 3, 2, 3, 5, 3, 2, 2, 3, 4, 5, 1, 4, 3, 4, 4, 6, 6, 5, 5, 2, 1, 3, 6, 1, 5, 2, 1, 5, 4, 1, 6, 6, 5, 4, 2, 5, 2, 4, 6, 3, 4, 5, 4, 5, 6, 6, 2, 3, 5, 1, 1, 6, 6, 4, 2, 1, 4, 6, 4, 4, 2, 4, 6, 5, 5, 5, 4, 6, 4, 1, 1, 1, 2, 6, 6, 6, 5, 6, 3, 2, 3, 1, 2, 2, 5, 3, 4, 2, 2, 2, 5, 2, 5, 5, 2, 1, 5, 4, 3, 1, 3, 5, 2, 6, 4, 1, 4, 3, 3, 5, 5, 5, 5, 5, 5, 4, 2, 1, 2, 1, 4, 5, 3, 3, 4, 4, 4, 5, 1, 2, 3, 6, 4, 1, 4, 6, 6, 5, 2, 2, 2, 6, 1, 3, 5, 6, 4, 5, 5, 4, 3, 6, 5, 2, 4, 5, 3, 3, 6, 4, 1, 6, 5, 3, 2, 2, 4, 3, 4, 6, 6, 5, 3, 4, 4, 2, 6, 2, 6, 3, 5, 2, 1, 3, 3, 1, 3, 1, 6, 2, 1, 1, 1, 5, 4, 1, 5, 1, 5, 5, 5, 5, 2, 6, 1, 6, 2, 4, 5, 3, 3, 5, 1, 4, 4, 4, 5, 1, 1, 3, 1, 2, 1, 2, 3, 4, 5, 5, 2, 5, 1, 1, 5, 4, 2, 1, 2, 3, 2, 3, 6, 5, 6, 3, 1, 5, 3, 1, 1, 1, 3, 2, 6, 2, 5, 3, 6, 3, 2, 1, 2, 3, 1, 1, 2, 1, 5, 1, 2, 5, 2, 3, 2, 6, 2, 4, 3, 4, 6, 1, 3, 1, 1, 1, 5, 2, 3, 2, 6, 6, 5, 1, 2, 6, 1, 2, 1, 3, 5, 2, 5, 2, 5, 3, 3, 4, 4, 3, 5, 5, 5, 6, 4, 5, 5, 3, 3, 6, 3, 5, 2, 6, 4, 3, 5, 4, 2, 3, 6, 2, 6, 4, 5, 3, 5, 1, 6, 1, 3, 2, 4, 4, 1, 2, 4, 6, 5, 2, 6, 1, 3, 4, 2, 5, 1, 4, 5, 1, 6, 1, 4, 1, 5, 2, 5, 5, 6, 3, 6, 3, 6, 1, 4, 4, 2, 4, 3, 5, 6, 1, 6, 4, 6, 6, 1, 1, 3, 5, 1, 5, 3, 5, 2, 6, 6, 1, 1, 6, 4, 3, 6, 5, 6, 1, 6, 6, 3, 4, 6, 6, 4, 6, 1, 2, 1, 6, 6, 4, 1, 3, 4, 1, 3, 3, 1, 4, 2, 4, 3, 3, 4, 5, 2, 2, 4, 6, 3, 2, 4, 2, 6, 4, 5, 6, 4, 3, 3, 4, 1, 4, 6, 4, 2, 5, 4, 2, 1, 5, 2, 1, 6, 5, 5, 5, 1, 5, 1, 2, 1, 3, 3, 2, 3, 6, 3, 6, 3, 6, 3, 4, 1, 3, 5, 6, 2, 5, 5, 4, 5, 4, 5, 5, 5, 6, 2, 3, 5, 3, 2, 6, 4, 6, 6, 5, 5, 3, 2, 4, 6, 2, 1, 6, 3, 4, 5, 6, 4, 4, 4, 6, 2, 4, 4, 6, 1, 4, 6, 1, 4, 1, 5, 6, 1, 6, 3, 5, 6, 4, 6, 1, 4, 1, 5, 1, 1, 5, 3, 1, 1, 1, 3, 3, 2, 6, 5, 3, 5, 2, 5, 3, 1, 3, 5, 5, 2, 5, 4, 6, 4, 4, 6, 4, 2, 4, 6, 3, 6, 2, 2, 3, 4, 5, 6, 4, 5, 2, 3, 5, 6, 5, 1, 6, 3, 6, 4, 3, 2, 2, 5, 2, 1, 4, 4, 3, 1, 3, 1, 4, 6, 6, 1, 5, 6, 4, 2, 6, 2, 6, 4, 5, 2, 1, 4, 4, 1, 2, 4, 6, 5, 1, 1, 2, 1, 6, 3, 2, 2, 1, 3, 5, 6, 3, 2, 5, 4, 2, 3, 2, 1, 6, 3, 2, 6, 2, 5, 6, 1, 6, 6, 3, 6, 4, 4, 4, 5, 2, 1, 1, 4, 5, 5, 4, 6, 3, 5, 5, 5, 6, 3, 4, 3, 2, 6, 5, 4, 3, 4, 5, 4, 2, 2, 1, 5, 6, 2, 1, 2, 2, 5, 6, 4, 2, 1, 3, 6, 2, 4, 5, 6, 6, 1, 6, 1, 3, 2, 6, 2, 1, 1, 3, 1, 6, 3, 1, 1, 6, 1, 5, 5, 2, 6, 3, 4, 2, 5, 6, 1, 3, 4, 6, 4, 6, 6, 6, 3, 2, 1, 4, 4, 3, 1, 4, 2, 4, 2, 6, 6, 6, 4, 3, 6, 3, 1, 3, 5, 6, 2, 4, 4, 6, 4, 1, 2, 5, 1, 4, 2, 4, 6, 5, 6, 2, 4, 4, 1, 1, 4, 2, 1, 5, 3, 5, 6, 6, 6, 1, 2, 4, 4, 6, 3, 4, 3, 5, 4, 6, 2, 2, 5, 2, 2, 5, 2, 3, 2, 2, 4, 4, 3, 1, 2, 3, 1, 5, 5, 3, 3, 4, 2, 1, 3, 4, 4, 2, 1, 6, 4, 2, 1, 1, 3, 6, 1, 6, 2, 2, 5, 4, 6, 6, 6, 2, 3, 3, 4, 1, 4, 4, 5, 2, 2, 2, 5, 5, 4, 3, 3, 6, 3, 6, 2, 6, 2, 2, 5, 5, 2, 1, 6, 1, 1, 6, 6, 2, 2, 5, 4, 3, 5, 4, 6, 2, 2, 1, 2, 5, 4, 1, 1, 4, 4, 1, 6, 6, 1, 6, 3, 4, 1, 1, 5, 2, 5, 4, 1, 5, 2, 4, 2, 3, 5, 3, 4, 5, 1, 4, 1, 1, 3, 4, 6, 5, 4, 3, 6, 1, 6, 2, 3, 2, 2, 6, 3, 5, 2, 4, 5, 5, 1, 2, 3, 1, 1, 2, 5, 1, 5, 6, 2, 3, 4, 3, 3, 5, 5, 3, 4, 6, 2, 6, 6, 1, 5, 1, 4, 5, 3, 5, 6, 3, 5, 3, 4, 1, 5, 1, 6, 1, 3, 1, 5, 2, 4, 2, 4, 5, 2, 3, 1, 1, 5, 4, 6, 4, 4, 2, 3, 1, 3, 5, 1, 1, 2, 3, 3, 1, 1, 3, 1, 5, 1, 4, 4, 2, 6, 6, 3, 2, 3, 4, 2, 1, 4, 2, 3, 1, 5, 1, 6, 5, 3, 5, 3, 1, 3, 1, 5, 6, 1, 2, 3, 4, 2, 2, 4, 6, 4, 5, 3, 2, 4, 6, 1, 1, 1, 2, 4, 2, 6, 3, 5, 3, 2, 4, 6, 2, 5, 4, 3, 3, 6, 2, 5, 1, 6, 2, 6, 2, 4, 2, 2, 3, 4, 1, 5, 2, 1, 3, 2, 6, 3, 2, 3, 4, 6, 4, 4, 4, 5, 6, 1, 2, 6, 3, 5, 6, 3, 4, 1, 2, 4, 6, 2, 5, 1, 3, 1, 6, 2, 5, 5, 3, 5, 3, 3, 3, 1, 5, 5, 5, 1, 5, 5, 3, 6, 4, 1, 3, 2, 1, 4, 2, 2, 2, 1, 6, 3, 4, 1, 2, 5, 6, 5, 3, 1, 3, 3, 2, 2, 5, 2, 1, 4, 2, 3, 6, 5, 2, 4, 2, 2, 6, 1, 1, 4, 2, 5, 2, 3, 2, 1, 2, 1, 6, 3, 5, 3, 5, 1, 4, 5, 5, 5, 3, 5, 3, 1, 6, 3, 3, 2, 1, 3, 1, 3, 4, 4, 2, 2, 5, 1, 2, 5, 5, 4, 2, 3, 4, 5, 5, 1, 3, 1, 3, 4, 4, 1, 5, 5, 2, 6, 5, 6, 2, 1, 6, 1, 6, 6, 4, 1, 1, 6, 3, 3, 6, 4, 3, 6, 4, 1, 2, 4, 3, 4, 1, 2, 1, 1, 5, 4, 1, 5, 5, 6, 2, 2, 5, 5, 1, 5, 2, 1, 6, 1, 3, 2, 1, 3, 6, 6, 6, 1, 3, 2, 1, 1, 1, 2, 6, 4, 2, 1, 3, 3, 2, 1, 2, 6, 4, 2, 1, 6, 1, 4, 1, 4, 3, 1, 2, 3, 2, 3, 1, 6, 2, 6, 5, 2, 6, 6, 5, 5, 3, 2, 5, 2, 4, 6, 5, 3, 5, 1, 3, 3, 1, 5, 1, 6, 5, 2, 4, 4, 2, 3, 4, 3, 4, 2, 5, 3, 1, 1, 3, 6, 4, 5, 1, 6, 4, 2, 5, 6, 6, 1, 3, 1, 4, 4, 6, 3, 3, 5, 1, 4, 2, 6, 6, 1, 3, 3, 2, 1, 2, 3, 3, 4, 5, 1, 3, 3, 1, 4, 5, 1, 4, 3, 6, 6, 2, 3, 4, 1, 2, 5, 3, 5, 5, 1, 1, 5, 1, 6, 4, 1, 6, 2, 5, 4, 1, 1, 3, 6, 6, 6, 5, 4, 5, 5, 1, 2, 2, 5, 1, 1, 4, 2, 2, 1, 2, 3, 4, 2, 6, 3, 1, 3, 4, 1, 6, 1, 3, 5, 4, 5, 6, 1, 6, 2, 5, 3, 4, 5, 4, 2, 2, 4, 1, 3, 5, 5, 5, 2, 4, 4, 4, 5, 2, 1, 3, 2, 2, 2, 2, 3, 5, 4, 4, 6, 4, 3, 1, 2, 5, 6, 6, 2, 2, 6, 1, 6, 6, 4, 6, 4, 4, 4, 3, 2, 2, 5, 6, 2, 6, 3, 5, 1, 3, 4, 6, 3, 1, 4, 2, 5, 1, 1, 1, 6, 6, 2, 6, 4, 5, 4, 6, 6, 5, 4, 5, 1, 3, 5, 3, 4, 4, 2, 5, 2, 2, 3, 3, 3, 4, 6, 4, 2, 2, 4, 5, 3, 6, 5, 4, 4, 6, 2, 4, 2, 4, 5, 6, 1, 3, 5, 1, 2, 5, 2, 5, 5, 3, 2, 5, 2, 4, 6, 1, 3, 6, 1, 3, 4, 2, 5, 4, 4, 4, 5, 2, 6, 3, 3, 4, 4, 2, 5, 1, 5, 6, 2, 1, 3, 3, 3, 6, 2, 2, 3, 4, 5, 5, 3, 6, 6, 6, 5, 5, 3, 3, 2, 1, 4, 6, 1, 4, 5, 5, 2, 1, 1, 1, 2, 5, 6, 3, 3, 4, 2, 6, 4, 6, 6, 4, 2, 5, 4, 6, 6, 5, 5, 6, 6, 2, 2, 5, 4, 4, 6, 5, 4, 5, 6, 2, 3, 5, 1, 5, 4, 2, 3, 2, 4, 6, 4, 5, 3, 2, 1, 3, 3, 4, 3, 5, 3, 6, 1, 2, 1, 2, 6, 3, 3, 6, 4, 1, 1, 2, 6, 2, 1, 5, 1, 3, 1, 6, 4, 3, 3, 6, 2, 3, 5, 5, 2, 5, 3, 4, 6, 2, 4, 2, 4, 2, 6, 5, 4, 3, 6, 2, 4, 1, 4, 6, 6, 2, 5, 1, 2, 4, 2, 2, 3, 4, 2, 3, 1, 1, 4, 4, 6, 4, 3, 5, 6, 2, 5, 4, 4, 4, 1, 1, 6, 3, 4, 6, 5, 3, 4, 2, 3, 2, 2, 5, 2, 2, 5, 4, 3, 1, 1, 6, 5, 6, 6, 2, 6, 5, 3, 5, 1, 3, 2, 6, 1, 4, 3, 4, 4, 3, 3, 1, 5, 2, 6, 1, 3, 3, 3, 4, 1, 3, 3, 4, 5, 1, 6, 1, 6, 3, 4, 6, 1, 2, 5, 1, 4, 3, 6, 6, 4, 3, 4, 4, 2, 1, 2, 1, 3, 5, 4, 6, 5, 1, 1, 1, 4, 4, 5, 2, 3, 2, 3, 6, 1, 6, 4, 1, 2, 5, 1, 5, 2, 4, 1, 2, 3, 6, 6, 3, 5, 2, 6, 2, 5, 4, 1, 1, 5, 6, 6, 5, 3, 5, 2, 5, 5, 4, 1, 5, 2, 4, 4, 3, 4, 1, 5, 3, 1, 4, 1, 6, 2, 6, 3, 1, 2, 5, 4, 6, 4, 6, 3, 5, 6, 6, 4, 3, 2, 1, 5, 1, 6, 1, 3, 1, 1, 6, 1, 4, 5, 2, 1, 4, 2, 3, 5, 6, 4, 4, 6, 5, 4, 2, 6, 5, 2, 2, 4, 3, 1, 4, 5, 6, 4, 2, 5, 4, 4, 6, 3, 2, 3, 5, 2, 6, 4, 4, 3, 6, 5, 6, 1, 6, 4, 5, 6, 3, 4, 1, 3, 4, 5, 6, 5, 2, 2, 6, 6, 6, 1, 4, 4, 6, 4, 2, 2, 1, 2, 6, 3, 2, 4, 3, 5, 3, 5, 3, 4, 1, 6, 1, 3, 4, 3, 6, 5, 5, 3, 1, 2, 2, 5, 5, 1, 2, 1, 5, 4, 2, 5, 6, 2, 2, 6, 4, 4, 5, 4, 3, 3, 3, 1, 3, 1, 4, 5, 5, 3, 2, 2, 2, 1, 2, 6, 5, 1, 1, 2, 5, 4, 4, 1, 1, 1, 5, 3, 3, 4, 4, 2, 5, 4, 6, 3, 5, 3, 5, 5, 3, 3, 4, 6, 6, 2, 5, 5, 5, 2, 3, 3, 5, 2, 4, 4, 4, 6, 1, 1, 1, 1, 5, 4, 3, 3, 5, 2, 5, 4, 3, 4, 1, 5, 6, 3, 3, 6, 5, 3, 4, 5, 2, 1, 6, 5, 5, 4, 5, 1, 5, 4, 2, 4, 2, 4, 6, 6, 3, 6, 5, 4, 4, 4, 2, 6, 1, 5, 4, 1, 6, 5, 2, 1, 3, 5, 3, 6, 6, 5, 3, 4, 5, 5, 6, 3, 2, 2, 1, 6, 5, 1, 2, 1, 6, 1, 2, 5, 4, 1, 5, 4, 1, 5, 6, 2, 5, 4, 4, 5, 6, 4, 6, 1, 2, 6, 3, 4, 3, 4, 4, 4, 2, 1, 5, 2, 4, 1, 6, 6, 4, 6, 1, 4, 6, 1, 3, 1, 1, 5, 3, 3, 3, 6, 3, 5, 3, 1, 2, 5, 2, 1, 6, 6, 3, 1, 5, 4, 5, 1, 4, 4, 2, 6, 1, 1, 3, 4, 4, 3, 6, 4, 1, 4, 3, 5, 2, 1, 1, 1, 5, 5, 4, 3, 4, 1, 4, 5, 5, 6, 6, 3, 5, 5, 6, 5, 4, 3, 1, 5, 2, 2, 1, 2, 2, 3, 3, 5, 4, 4, 2, 4, 3, 3, 5, 6, 5, 4, 1, 6, 6, 5, 5, 1, 5, 2, 6, 4, 3, 2, 5, 2, 3, 6, 6, 6, 6, 1, 5, 4, 6, 6, 6, 1, 2, 3, 4, 5, 6, 5, 5, 4, 3, 4, 2, 1, 5, 3, 3, 2, 6, 1, 3, 6, 4, 2, 5, 4, 6, 5, 6, 6, 4, 1, 3, 2, 2, 5, 4, 3, 5, 5, 4, 5, 2, 1, 1, 2, 5, 3, 6, 5, 2, 6, 6, 3, 6, 4, 1, 5, 3, 1, 2, 5, 1, 5, 4, 2, 2, 2, 6, 6, 3, 2, 6, 1, 6, 5, 3, 5, 1, 2, 2, 3, 3, 4, 4, 6, 6, 2, 4, 4, 2, 3, 6, 3, 1, 5, 2, 5, 6, 4, 1, 4, 2, 4, 2, 1, 5, 6, 4, 1, 3, 6, 2, 4, 1, 2, 1, 5, 6, 4, 6, 6, 6, 2, 5, 4, 3, 4, 1, 4, 5, 1, 5, 4, 3, 2, 1, 5, 4, 2, 1, 2, 3, 6, 3, 1, 4, 5, 2, 5, 6, 2, 2, 4, 6, 6, 1, 2, 1, 1, 5, 4, 1, 3, 1, 2, 3, 3, 4, 2, 4, 6, 3, 2, 6, 4, 6, 6, 3, 4, 3, 5, 2, 6, 3, 3, 3, 4, 1, 6, 2, 3, 4, 3, 6, 1, 5, 4, 1, 2, 3, 3, 1, 4, 4, 4, 6, 4, 1, 3, 1, 6, 2, 5, 2, 6, 6, 6, 2, 5, 5, 4, 1, 2, 3, 3, 5, 6, 5, 4, 6, 1, 3, 3, 2, 2, 4, 3, 2, 4, 6, 5, 1, 1, 6, 3, 6, 6, 4, 6, 1, 5, 6, 4, 4, 4, 6, 5, 1, 5, 3, 5, 6, 3, 6, 5, 2, 4, 5, 6, 6, 4, 4, 1, 4, 2, 3, 6, 5, 5, 2, 1, 1, 2, 3, 2, 3, 3, 2, 5, 4, 2, 1, 3, 5, 5, 5, 4, 6, 2, 3, 3, 4, 4, 5, 2, 1, 5, 4, 6, 1, 4, 4, 1, 1, 4, 3, 5, 4, 1, 6, 1, 5, 6, 3, 3, 2, 4, 4, 4, 2, 4, 3, 4, 6, 1, 5, 1, 4, 6, 1, 5, 1, 2, 4, 5, 6, 2, 4, 1, 1, 5, 5, 2, 2, 3, 3, 6, 5, 2, 3, 5, 4, 5, 6, 1, 6, 5, 1, 1, 3, 2, 4, 4, 2, 6, 2, 5, 4, 1, 6, 3, 1, 6, 5, 2, 4, 3, 2, 4, 5, 1, 3, 2, 5, 4, 5, 1, 2, 6, 3, 5, 3, 6, 5, 5, 4, 2, 6, 6, 6, 2, 6, 4, 6, 6, 4, 2, 4, 2, 5, 1, 6, 4, 3, 3, 6, 4, 4, 1, 6, 6, 3, 3, 6, 1, 3, 3, 4, 2, 5, 5, 6, 2, 5, 6, 5, 4, 6, 4, 3, 1, 5, 1, 6, 1, 3, 4, 4, 1, 5, 5, 5, 1, 6, 2, 2, 2, 5, 6, 2, 4, 6, 1, 2, 1, 1, 6, 2, 5, 3, 2, 5, 6, 5, 1, 2, 6, 1, 3, 5, 2, 1, 1, 6, 3, 2, 2, 4, 4, 5, 2, 3, 4, 2, 3, 1, 5, 5, 3, 1, 5, 4, 1, 5, 2, 2, 6, 3, 2, 2, 4, 2, 6, 2, 2, 6, 3, 5, 5, 3, 3, 2, 1, 2, 5, 5, 5, 5, 1, 1, 2, 3, 1, 2, 6, 2, 4, 3, 5, 3, 5, 6, 4, 3, 5, 1, 1, 3, 4, 4, 6, 1, 4, 1, 6, 3, 5, 3, 1, 2, 6, 5, 4, 1, 1, 1, 4, 2, 3, 2, 3, 4, 2, 4, 5, 6, 3, 3, 4, 2, 6, 6, 1, 6, 2, 4, 2, 3, 6, 3, 4, 3, 5, 3, 1, 2, 5, 6, 5, 1, 3, 6, 5, 2, 6, 6, 3, 1, 2, 3, 6, 3, 6, 1, 3, 1, 6, 5, 4, 5, 5, 6, 5, 6, 5, 1, 2, 3, 2, 2, 5, 6, 2, 1, 5, 3, 5, 1, 3, 6, 2, 1, 6, 4, 2, 3, 1, 4, 1, 6, 1, 4, 4, 6, 4, 3, 1, 4, 6, 2, 5, 6, 3, 4, 1, 2, 4, 4, 5, 3, 3, 3, 2, 6, 3, 4, 1, 4, 4, 4, 2, 4, 2, 3, 6, 4, 6, 1, 5, 2, 5, 4, 2, 5, 5, 1, 5, 5, 6, 5, 1, 2, 5, 6, 5, 5, 1, 2, 1, 5, 2, 6, 3, 1, 6, 4, 3, 6, 4, 1, 3, 1, 5, 5, 5, 2, 5, 1, 5, 1, 5, 1, 6, 6, 4, 3, 5, 2, 1, 1, 4, 6, 1, 5, 1, 2, 6, 5, 5, 1, 6, 1, 6, 1, 5, 2, 2, 2, 1, 5, 5, 5, 5, 5, 6, 3, 5, 5, 4, 2, 5, 5, 3, 4, 3, 4, 5, 3, 3, 5, 1, 4, 1, 4, 1, 3, 3, 6, 4, 1, 3, 3, 2, 1, 6, 2, 3, 5, 3, 3, 1, 1, 4, 3, 3, 1, 6, 4, 5, 4, 2, 2, 2, 6, 2, 1, 1, 3, 3, 6, 1, 3, 5, 3, 6, 1, 4, 5, 2, 2, 3, 1, 2, 2, 5, 2, 2, 3, 3, 1, 3, 5, 2, 4, 6, 5, 2, 5, 4, 4, 2, 5, 5, 3, 5, 2, 2, 2, 1, 3, 3, 1, 2, 6, 1, 6, 4, 4, 3, 5, 2, 2, 1, 5, 1, 5, 6, 6, 5, 1, 5, 4, 4, 1, 6, 6, 6, 3, 6, 2, 4, 5, 5, 5, 1, 2, 6, 2, 6, 3, 5, 5, 5, 3, 6, 3, 4, 1, 4, 2, 5, 5, 3, 6, 2, 3, 5, 1, 1, 6, 6, 2, 4, 4, 2, 3, 4, 2, 4, 5, 1, 5, 2, 3, 5, 5, 5, 6, 1, 5, 1, 6, 1, 1, 6, 1, 1, 1, 2, 6, 2, 5, 5, 6, 4, 4, 5, 5, 4, 5, 6, 6, 4, 6, 3, 3, 5, 6, 3, 6, 5, 1, 2, 5, 1, 1, 1, 4, 3, 6, 3, 2, 2, 2, 4, 2, 3, 6, 6, 1, 2, 3, 2, 5, 2, 2, 5, 4, 2, 2, 6, 4, 1, 4, 3, 4, 2, 5, 6, 2, 1, 3, 3, 2, 2, 5, 2, 2, 1, 3, 6, 5, 2, 2, 4, 5, 6, 1, 5, 6, 3, 2, 3, 3, 4, 1, 2, 4, 3, 2, 6, 6, 6, 5, 5, 2, 3, 1, 6, 4, 2, 6, 1, 1, 3, 1, 6, 3, 2, 2, 2, 1, 1, 5, 4, 5, 2, 4, 6, 2, 6, 3, 1, 1, 2, 2, 3, 3, 5, 2, 1, 6, 4, 3, 5, 6, 5, 4, 6, 5, 1, 1, 5, 6, 3, 3, 6, 6, 5, 4, 5, 2, 3, 5, 2, 6, 4, 3, 2, 3, 6, 2, 3, 4, 5, 6, 1, 4, 5, 4, 5, 1, 5, 2, 3, 6, 4, 5, 5, 3, 4, 1, 1, 2, 1, 6, 1, 3, 3, 5, 5, 1, 1, 1, 6, 6, 6, 2, 4, 1, 2, 1, 3, 3, 6, 5, 3, 1, 3, 3, 5, 4, 2, 4, 2, 1, 6, 5, 2, 1, 6, 5, 1, 3, 1, 2, 6, 1, 6, 4, 4, 6, 3, 6, 4, 5, 6, 4, 2, 2, 5, 6, 4, 6, 1, 2, 4, 5, 6, 6, 3, 1, 3, 3, 6, 1, 2, 5, 4, 3, 4, 3, 5, 2, 6, 4, 5, 2, 2, 4, 6, 4, 6, 4, 3, 2, 1, 6, 1, 4, 5, 5, 2, 6, 1, 1, 5, 6, 1, 4, 2, 6, 2, 4, 4, 4, 6, 3, 6, 1, 4, 4, 6, 4, 5, 2, 5, 1, 1, 3, 3, 1, 2, 4, 3, 4, 6, 2, 5, 4, 1, 1, 4, 4, 1, 4, 1, 4, 4, 5, 4, 1, 4, 3, 5, 6, 5, 1, 6, 2, 6, 3, 6, 2, 5, 6, 3, 1, 3, 3, 4, 2, 2, 2, 3, 5, 6, 2, 1, 3, 3, 2, 4, 4, 5, 5, 4, 4, 1, 3, 3, 5, 3, 2, 5, 2, 5, 2, 2, 6, 6, 5, 5, 6, 4, 5, 4, 3, 6, 4, 5, 4, 3, 5, 6, 1, 2, 5, 3, 3, 4, 3, 2, 5, 3, 1, 5, 2, 4, 6, 6, 1, 6, 1, 4, 6, 6, 6, 3, 1, 5, 4, 1, 1, 4, 3, 2, 5, 3, 4, 2, 2, 1, 3, 5, 5, 5, 6, 1, 1, 6, 5, 2, 1, 4, 1, 6, 4, 4, 4, 3, 3, 5, 6, 6, 6, 5, 6, 6, 4, 5, 1, 4, 4, 4, 4, 3, 5, 2, 4, 4, 4, 2, 5, 1, 2, 4, 1, 3, 1, 4, 6, 2, 5, 5, 1, 6, 1, 3, 1, 4, 4, 3, 2, 6, 4, 5, 4, 4, 2, 5, 2, 5, 3, 5, 2, 4, 4, 6, 3, 2, 5, 2, 6, 6, 3, 5, 1, 1, 4, 1, 3, 6, 4, 6, 1, 3, 3, 6, 5, 2, 3, 1, 3, 5, 5, 3, 2, 2, 1, 2, 5, 1, 5, 3, 1, 4, 5, 2, 5, 3, 1, 5, 4, 4, 5, 2, 2, 6, 4, 4, 1, 5, 2, 4, 2, 6, 4, 6, 4, 4, 6, 2, 4, 4, 2, 3, 2, 2, 5, 1, 3, 4, 4, 6, 1, 6, 4, 5, 1, 2, 3, 1, 1, 1, 4, 6, 3, 1, 1, 2, 6, 3, 5, 1, 4, 3, 6, 2, 1, 3, 3, 4, 6, 5, 5, 1, 2, 1, 3, 2, 5, 5, 1, 4, 6, 3, 5, 5, 2, 1, 6, 2, 2, 4, 5, 6, 2, 5, 3, 1, 1, 1, 5, 6, 1, 4, 2, 6, 2, 4, 4, 6, 1, 6, 6, 2, 4, 3, 5, 2, 1, 2, 2, 5, 6, 5, 6, 3, 1, 4, 5, 1, 5, 4, 5, 6, 4, 1, 3, 6, 3, 5, 6, 1, 4, 3, 4, 4, 3, 2, 6, 1, 2, 5, 2, 6, 4, 5, 4, 4, 3, 6, 4, 4, 1, 1, 2, 6, 2, 4, 1, 4, 2, 1, 5, 2, 3, 4, 4, 3, 4, 3, 1, 4, 1, 2, 3, 2, 6, 3, 4, 1, 6, 4, 6, 6, 1, 2, 5, 5, 2, 4, 4, 1, 2, 2, 4, 5, 1, 1, 6, 4, 2, 3, 4, 1, 1, 1, 4, 1, 6, 3, 6, 5, 4, 4, 3, 1, 6, 1, 6, 2, 5, 5, 6, 3, 4, 1, 3, 5, 5, 4, 2, 6, 3, 4, 3, 2, 6, 2, 2, 4, 2, 5, 5, 5, 5, 1, 3, 1, 5, 1, 1, 1, 4, 2, 1, 1, 3, 1, 1, 1, 3, 3, 2, 3, 5, 2, 4, 5, 2, 3, 3, 6, 2, 4, 5, 1, 3, 1, 1, 1, 6, 3, 2, 1, 5, 5, 1, 4, 3, 2, 5, 4, 2, 6, 3, 4, 5, 6, 3, 5, 5, 5, 3, 2, 1, 3, 6, 2, 4, 1, 5, 2, 5, 6, 4, 6, 3, 6, 5, 2, 6, 2, 5, 5, 5, 5, 3, 1, 3, 4, 4, 5, 6, 5, 4, 6, 5, 5, 2, 1, 1, 6, 4, 6, 1, 1, 5, 6, 1, 5, 5, 1, 4, 4, 4, 4, 1, 2, 1, 4, 6, 5, 4, 6, 5, 1, 1, 2, 6, 4, 1, 4, 1, 2, 3, 3, 2, 1, 2, 2, 3, 6, 3, 3, 1, 1, 6, 1, 2, 4, 6, 3, 1, 3, 5, 1, 5, 4, 4, 3, 4, 2, 1, 5, 1, 2, 2, 3, 2, 2, 1, 4, 1, 6, 1, 2, 4, 1, 1, 1, 4, 3, 4, 1, 4, 2, 5, 3, 4, 4, 1, 5, 1, 4, 3, 6, 5, 6, 3, 3, 4, 3, 5, 2, 5, 5, 4, 2, 6, 1, 5, 5, 6, 2, 3, 2, 6, 3, 5, 3, 1, 2, 5, 5, 5, 4, 4, 5, 6, 1, 1, 4, 4, 3, 6, 6, 2, 1, 5, 3, 3, 5, 6, 3, 6, 4, 6, 6, 4, 3, 4, 2, 3, 1, 1, 3, 1, 5, 1, 4, 1, 1, 1, 5, 5, 4, 1, 1, 6, 3, 3, 5, 2, 6, 6, 6, 6, 6, 5, 5, 4, 2, 6, 4, 6, 3, 2, 2, 2, 6, 4, 4, 2, 4, 1, 4, 5, 5, 4, 1, 3, 3, 4, 4, 3, 3, 5, 4, 4, 5, 5, 3, 4, 5, 6, 6, 6, 6, 3, 5, 2, 6, 6, 1, 4, 6, 3, 4, 3, 3, 2, 4, 2, 6, 1, 4, 6, 1, 5, 6, 5, 2, 1, 5, 2, 2, 1, 3, 4, 1, 4, 1, 1, 3, 4, 2, 4, 3, 2, 6, 5, 4, 6, 4, 4, 6, 1, 6, 1, 1, 1, 6, 6, 5, 6, 5, 2, 5, 4, 5, 5, 1, 6, 4, 5, 2, 2, 6, 3, 5, 4, 3, 5, 6, 5, 3, 6, 6, 5, 6, 3, 5, 5, 2, 4, 1, 6, 2, 5, 1, 6, 3, 4, 2, 2, 3, 4, 2, 2, 2, 6, 2, 5, 2, 4, 3, 4, 1, 2, 1, 5, 6, 4, 3, 3, 2, 5, 6, 3, 2, 4, 3, 5, 6, 4, 2, 6, 5, 1, 1, 5, 5, 6, 6, 5, 3, 1, 1, 2, 6, 5, 4, 3, 6, 5, 5, 3, 6, 5, 2, 5, 6, 1, 4, 4, 5, 1, 3, 4, 1, 1, 1, 1, 3, 3, 3, 1, 3, 5, 4, 5, 2, 6, 6, 3, 5, 3, 6, 1, 2, 1, 6, 6, 5, 5, 4, 2, 4, 6, 5, 6, 2, 3, 2, 4, 5, 3, 2, 2, 3, 3, 5, 2, 3, 3, 6, 2, 4, 4, 5, 3, 5, 6, 5, 4, 5, 5, 4, 6, 4, 6, 1, 2, 1, 1, 5, 5, 6, 3, 3, 2, 5, 4, 3, 3, 4, 4, 1, 4, 4, 1, 4, 6, 2, 1, 5, 4, 5, 4, 4, 5, 3, 1, 4, 2, 1, 2, 6, 1, 1, 1, 3, 3, 4, 4, 5, 4, 6, 1, 6, 2, 6, 2, 1, 1, 1, 4, 5, 5, 4, 4, 4, 3, 5, 4, 3, 2, 3, 4, 3, 4, 4, 3, 4, 3, 3, 5, 6, 5, 6, 2, 2, 3, 1, 5, 3, 6, 2, 4, 1, 6, 4, 5, 1, 5, 6, 4, 3, 4, 2, 2, 5, 3, 4, 3, 1, 3, 1, 1, 3, 6, 2, 3, 3, 3, 2, 4, 1, 6, 6, 4, 4, 1, 4, 5, 5, 6, 6, 2, 4, 1, 4, 2, 4, 5, 5, 4, 5, 6, 5, 5, 2, 5, 4, 3, 5, 4, 3, 3, 5, 2, 1, 5, 3, 4, 3, 3, 1, 1, 2, 6, 4, 5, 3, 2, 3, 4, 2, 2, 4, 1, 1, 2, 6, 4, 5, 1, 2, 1, 6, 4, 1, 3, 1, 2, 3, 4, 4, 6, 1, 5, 1, 1, 3, 2, 5, 4, 4, 3, 4, 6, 2, 1, 6, 5, 3, 1, 2, 4, 4, 6, 1, 1, 3, 3, 1, 5, 4, 2, 3, 1, 4, 2, 4, 2, 2, 4, 6, 4, 5, 5, 1, 4, 2, 3, 5, 4, 5, 1, 5, 3, 1, 4, 2, 2, 3, 6, 6, 5, 3, 6, 1, 6, 6, 6, 2, 2, 4, 6, 3, 2, 4, 2, 5, 6, 5, 3, 2, 2, 6, 1, 1, 1, 5, 5, 6, 2, 2, 4, 1, 1, 1, 1, 4, 4, 1, 6, 4, 2, 3, 5, 6, 3, 6, 3, 2, 1, 4, 3, 5, 6, 6, 2, 5, 4, 6, 5, 2, 4, 1, 4, 4, 3, 6, 5, 6, 1, 2, 5, 1, 1, 1, 1, 1, 1, 3, 6, 4, 4, 6, 2, 4, 3, 3, 5, 6, 1, 6, 3, 5, 5, 6, 3, 6, 4, 3, 5, 5, 5, 1, 3, 5, 3, 3, 6, 4, 3, 5, 5, 2, 5, 6, 2, 4, 5, 3, 3, 6, 1, 1, 3, 3, 2, 6, 3, 3, 3, 2, 3, 5, 6, 2, 5, 5, 6, 5, 1, 4, 4, 5, 3, 4, 1, 6, 4, 2, 1, 2, 2, 3, 4, 3, 1, 3, 4, 3, 3, 2, 6, 4, 2, 1, 6, 3, 2, 3, 3, 5, 4, 3, 5, 1, 1, 1, 3, 6, 2, 1, 5, 4, 4, 3, 2, 6, 4, 6, 2, 4, 3, 5, 5, 3, 3, 5, 1, 6, 1, 5, 5, 5, 5, 2, 6, 3, 2, 5, 1, 5, 4, 2, 5, 6, 4, 2, 5, 2, 2, 6, 3, 6, 4, 2, 4, 6, 1, 2, 1, 3, 1, 6, 4, 5, 2, 1, 5, 4, 6, 1, 1, 1, 1, 2, 3, 3, 1, 1, 6, 1, 3, 3, 5, 3, 5, 2, 6, 5, 2, 1, 3, 6, 4, 4, 2, 6, 6, 6, 5, 1, 4, 4, 2, 3, 4, 2, 2, 1, 2, 4, 2, 1, 2, 3, 6, 1, 4, 1, 1, 1, 1, 1, 3, 2, 2, 6, 6, 1, 5, 3, 6, 3, 4, 1, 5, 1, 3, 5, 1, 6, 3, 2, 5, 4, 5, 1, 6, 1, 4, 1, 4, 1, 6, 1, 1, 1, 6, 1, 3, 3, 1, 3, 1, 4, 2, 1, 4, 2, 6, 3, 6, 4, 1, 2, 5, 1, 1, 4, 2, 1, 3, 1, 1, 6, 4, 2, 6, 6, 5, 5, 1, 2, 3, 2, 1, 1, 6, 4, 3, 4, 2, 1, 3, 2, 6, 3, 6, 1, 4, 3, 4, 3, 2, 2, 5, 6, 2, 5, 1, 4, 1, 3, 2, 5, 5, 1, 4, 5, 4, 2, 1, 4, 4, 1, 2, 5, 4, 2, 1, 2, 4, 5, 5, 2, 2, 1, 2, 3, 6, 6, 4, 6, 1, 1, 3, 1, 1, 3, 2, 4, 3, 2, 1, 5, 2, 5, 6, 6, 5, 3, 5, 6, 1, 3, 1, 1, 6, 2, 3, 4, 5, 2, 4, 4, 6, 6, 5, 6, 6, 5, 4, 6, 1, 3, 3, 5, 1, 4, 5, 5, 5, 1, 1, 2, 3, 3, 6, 4, 3, 1, 3, 4, 2, 2, 5, 1, 4, 5, 4, 4, 2, 1, 3, 6, 2, 4, 1, 6, 1, 3, 6, 6, 2, 3, 3, 6, 6, 3, 4, 3, 4, 1, 6, 5, 1, 1, 5, 5, 1, 3, 3, 1, 4, 4, 5, 4, 5, 4, 5, 4, 1, 1, 4, 3, 3, 6, 5, 2, 2, 3, 4, 1, 4, 2, 5, 5, 4, 6, 1, 4, 3, 2, 3, 5, 3, 2, 3, 5, 5, 6, 5, 6, 5, 2, 3, 3, 3, 5, 5, 6, 2, 6, 6, 5, 3, 3, 2, 2, 1, 2, 5, 6, 2, 3, 4, 1, 6, 6, 2, 4, 4, 2, 6, 3, 1, 5, 3, 5, 4, 3, 1, 5, 1, 3, 3, 5, 6, 3, 5, 3, 1, 1, 5, 4, 4, 3, 5, 5, 1, 1, 2, 3, 1, 2, 2, 5, 6, 5, 1, 2, 6, 4, 1, 1, 1, 3, 6, 6, 5, 3, 6, 6, 5, 3, 3, 5, 4, 2, 3, 5, 3, 4, 6, 2, 3, 2, 3, 5, 3, 6, 5, 2, 4, 3, 6, 2, 4, 2, 1, 4, 5, 6, 1, 6, 1, 5, 3, 2, 2, 2, 4, 1, 6, 4, 1, 3, 4, 1, 3, 1, 6, 1, 2, 5, 6, 1, 4, 3, 4, 2, 1, 1, 2, 3, 3, 2, 4, 6, 3, 6, 2, 1, 1, 3, 5, 6, 2, 5, 1, 5, 6, 2, 4, 3, 6, 1, 6, 2, 6, 5, 6, 4, 6, 6, 6, 6, 4, 2, 4, 6, 3, 6, 2, 4, 1, 1, 2, 3, 6, 3, 6, 6, 3, 4, 2, 3, 3, 2, 6, 1, 4, 6, 5, 5, 6, 3, 1, 1, 2, 6, 5, 4, 2, 3, 1, 4, 4, 5, 6, 3, 2, 6, 4, 6, 4, 4, 6, 4, 1, 5, 4, 2, 3, 4, 6, 4, 5, 6, 5, 6, 4, 5, 6, 1, 6, 3, 1, 5, 5, 1, 1, 2, 2, 5, 5, 3, 4, 3, 6, 1, 4, 1, 3, 5, 1, 4, 6, 1, 2, 2, 5, 5, 6, 4, 5, 2, 4, 3, 6, 3, 3, 6, 3, 1, 4, 2, 2, 5, 6, 6, 4, 1, 2, 1, 4, 2, 1, 5, 4, 5, 6, 3, 6, 5, 3, 4, 5, 5, 4, 1, 1, 6, 2, 1, 1, 6, 5, 5, 4, 3, 4, 3, 5, 2, 3, 1, 4, 1, 6, 6, 1, 3, 2, 2, 3, 2, 4, 5, 2, 6, 4, 6, 5, 4, 2, 1, 4, 3, 3, 4, 5, 6, 5, 5, 4, 3, 5, 4, 1, 5, 1, 4, 6, 2, 5, 6, 5, 3, 1, 1, 5, 1, 6, 5, 5, 4, 6, 4, 2, 2, 6, 6, 6, 1, 3, 6, 4, 1, 5, 2, 3, 4, 4, 5, 6, 6, 3, 5, 2, 5, 5, 4, 6, 6, 1, 1, 3, 1, 6, 4, 5, 3, 1, 2, 5, 5, 1, 6, 2, 5, 1, 2, 6, 6, 6, 1, 6, 3, 1, 5, 3, 5, 2, 4, 4, 4, 1, 3, 6, 4, 5, 4, 1, 4, 6, 1, 1, 4, 6, 3, 2, 4, 5, 1, 4, 3, 5, 1, 4, 6, 3, 5, 6, 4, 4, 2, 6, 4, 1, 3, 5, 3, 1, 5, 3, 6, 2, 1, 4, 2, 2, 4, 2, 4, 3, 5, 1, 6, 3, 4, 5, 4, 3, 2, 3, 1, 2, 3, 1, 1, 4, 6, 5, 4, 6, 4, 2, 4, 3, 3, 1, 6, 5, 4, 4, 1, 1, 6, 5, 5, 6, 3, 2, 2, 6, 1, 1, 6, 6, 3, 5, 6, 3, 5, 5, 4, 3, 5, 6, 1, 4, 2, 1, 5, 1, 5, 6, 3, 6, 4, 4, 1, 1, 4, 3, 3, 5, 5, 1, 5, 4, 1, 4, 5, 1, 1, 3, 2, 1, 6, 1, 4, 5, 2, 2, 2, 3, 3, 4, 4, 6, 5, 2, 3, 2, 5, 3, 2, 5, 4, 3, 5, 5, 2, 5, 2, 4, 5, 4, 4, 5, 1, 5, 6, 3, 5, 5, 2, 3, 2, 1, 6, 6, 2, 2, 1, 6, 2, 1, 1, 5, 6, 4, 6, 6, 1, 5, 1, 2, 1, 3, 3, 5, 5, 6, 5, 1, 2, 3, 4, 5, 4, 4, 1, 3, 2, 2, 2, 6, 1, 4, 5, 1, 2, 1, 1, 4, 2, 1, 3, 6, 6, 1, 2, 5, 1, 3, 4, 6, 4, 2, 2, 4, 1, 1, 3, 3, 5, 6, 4, 5, 4, 5, 2, 1, 4, 2, 6, 2, 2, 6, 6, 2, 4, 5, 1, 4, 4, 1, 2, 6, 4, 4, 4, 4, 1, 3, 4, 5, 4, 6, 1, 4, 4, 6, 6, 1, 1, 1, 6, 3, 4, 5, 1, 4, 2, 5, 4, 1, 2, 3, 1, 2, 1, 4, 2, 6, 5, 6, 4, 2, 1, 2, 6, 2, 3, 5, 1, 5, 2, 3, 5, 6, 4, 2, 5, 3, 4, 1, 1, 6, 4, 1, 3, 2, 1, 6, 1, 6, 2, 4, 5, 4, 6, 4, 4, 4, 4, 4, 1, 5, 2, 4, 1, 5, 4, 1, 2, 2, 6, 1, 2, 4, 1, 6, 2, 2, 1, 6, 6, 6, 6, 5, 4, 5, 1, 2, 5, 1, 2, 3, 4, 4, 4, 5, 1, 4, 2, 4, 5, 5, 1, 5, 6, 2, 5, 2, 6, 4, 1, 5, 6, 2, 6, 3, 4, 2, 5, 5, 5, 5, 2, 5, 6, 4, 4, 4, 3, 3, 6, 6, 2, 3, 4, 3, 2, 2, 6, 3, 2, 3, 5, 6, 5, 5, 1, 4, 6, 2, 1, 5, 3, 1, 3, 4, 6, 6, 2, 6, 3, 6, 4, 2, 4, 6, 5, 3, 6, 1, 3, 1, 2, 5, 4, 3, 6, 4, 3, 2, 6, 3, 2, 3, 2, 1, 1, 6, 3, 2, 1, 4, 6, 2, 5, 6, 1, 1, 4, 3, 1, 3, 2, 1, 3, 1, 1, 4, 3, 6, 1, 5, 5, 3, 3, 2, 1, 1, 6, 4, 2, 1, 4, 6, 2, 6, 6, 6, 1, 5, 5, 2, 3, 6, 6, 6, 2, 2, 2, 2, 2, 6, 4, 3, 1, 5, 4, 4, 6, 3, 4, 4, 4, 6, 4, 2, 6, 3, 2, 1, 4, 2, 2, 2, 5, 2, 1, 1, 6, 3, 5, 5, 6, 5, 6, 4, 5, 2, 3, 1, 5, 6, 2, 5, 4, 3, 1, 5, 1, 6, 5, 1, 5, 4, 5, 2, 5, 1, 2, 3, 3, 2, 1, 5, 6, 4, 6, 6, 1, 6, 2, 5, 1, 5, 3, 2, 5, 3, 1, 4, 4, 5, 1, 6, 6, 4, 6, 4, 6, 6, 4, 3, 1, 6, 5, 4, 1, 1, 6, 4, 5, 1, 4, 3, 6, 6, 5, 6, 3, 1, 4, 3, 2, 4, 5, 1, 2, 3, 6, 3, 3, 1, 6, 4, 4, 5, 2, 6, 6, 4, 6, 2, 2, 2, 2, 6, 2, 2, 6, 1, 1, 2, 6, 1, 5, 2, 2, 3, 4, 4, 6, 1, 1, 3, 6, 6, 1, 5, 2, 3, 6, 6, 1, 1, 5, 3, 4, 1, 4, 2, 6, 5, 3, 1, 2, 5, 4, 3, 2, 4, 6, 6, 2, 5, 2, 6, 1, 5, 1, 2, 3, 6, 5, 3, 3, 2, 2, 2, 5, 3, 6, 5, 3, 3, 4, 6, 2, 3, 6, 3, 4, 4, 2, 2, 3, 1, 1, 3, 5, 6, 1, 5, 3, 5, 3, 5, 3, 3, 2, 6, 3, 4, 1, 5, 5, 6, 5, 3, 1, 6, 1, 3, 6, 1, 1, 1, 2, 6, 5, 3, 5, 2, 6, 2, 4, 1, 6, 2, 4, 1, 6, 6, 5, 3, 5, 1, 3, 3, 5, 4, 3, 5, 2, 6, 2, 5, 5, 6, 3, 2, 2, 4, 2, 6, 2, 6, 5, 2, 5, 5, 4, 4, 3, 4, 3, 3, 2, 5, 5, 6, 6, 6, 5, 5, 1, 1, 4, 6, 5, 6, 2, 6, 3, 2, 1, 1, 5, 6, 6, 3, 4, 4, 3, 4, 6, 1, 6, 1, 4, 6, 2, 4, 2, 4, 3, 4, 1, 2, 5, 1, 1, 1, 2, 4, 3, 5, 5, 5, 2, 6, 2, 5, 4, 2, 6, 2, 2, 2, 1, 6, 1, 6, 6, 4, 6, 2, 4, 3, 6, 2, 3, 4, 4, 6, 2, 3, 1, 4, 1, 4, 4, 2, 6, 3, 5, 4, 3, 1, 3, 6, 4, 4, 2, 3, 5, 5, 1, 1, 2, 5, 1, 2, 1, 1, 3, 6, 2, 4, 5, 2, 4, 1, 4, 1, 5, 1, 5, 1, 1, 1, 6, 6, 2, 5, 4, 5, 3, 1, 6, 2, 1, 3, 5, 5, 6, 3, 5, 2, 4, 5, 4, 2, 4, 6, 4, 5, 6, 1, 2, 3, 3, 5, 3, 3, 6, 1, 4, 5, 4, 1, 1, 4, 2, 1, 4, 2, 6, 6, 2, 5, 4, 4, 1, 1, 2, 2, 2, 3, 4, 2, 5, 1, 3, 1, 3, 4, 6, 4, 5, 4, 6, 2, 5, 5, 6, 6, 1, 1, 5, 5, 2, 5, 4, 6, 6, 1, 1, 6, 2, 6, 1, 4, 2, 4, 2, 4, 6, 4, 6, 1, 1, 3, 4, 2, 6, 2, 4, 6, 3, 1, 1, 4, 2, 4, 3, 1, 3, 4, 5, 4, 6, 3, 1, 3, 2, 6, 6, 6, 1, 1, 3, 1, 6, 6, 6, 3, 6, 4, 6, 3, 1, 3, 3, 3, 1, 5, 6, 6, 5, 2, 1, 3, 5, 4, 5, 1, 6, 6, 6, 2, 6, 6, 4, 2, 4, 6, 5, 4, 5, 4, 5, 1, 5, 4, 1, 1, 5, 2, 4, 3, 6, 2, 5, 4, 4, 1, 1, 5, 2, 6, 4, 2, 3, 3, 4, 2, 3, 3, 2, 1, 1, 5, 1, 5, 3, 5, 2, 6, 3, 2, 3, 6, 4, 6, 4, 2, 5, 6, 3, 5, 2, 4, 5, 4, 3, 3, 3, 3, 2, 5, 2, 1, 6, 4, 5, 2, 3, 1, 2, 5, 6, 6, 2, 4, 2, 1, 1, 5, 4, 2, 2, 3, 4, 3, 2, 5, 2, 6, 5, 4, 3, 3, 2, 1, 1, 2, 1, 5, 1, 3, 6, 5, 5, 4, 4, 5, 6, 4, 6, 6, 4, 6, 4, 3, 4, 1, 4, 4, 4, 6, 6, 2, 6, 3, 4, 4, 6, 3, 6, 5, 2, 1, 4, 2, 2, 1, 3, 6, 4, 4, 6, 1, 4, 3, 2, 2, 1, 3, 1, 3, 3, 5, 3, 3, 1, 2, 6, 3, 5, 6, 6, 5, 2, 2, 1, 1, 2, 6, 2, 4, 1, 2, 5, 6, 5, 1, 2, 3, 3, 1, 4, 3, 4, 5, 2, 6, 4, 4, 6, 6, 5, 1, 4, 1, 5, 6, 5, 4, 4, 3, 2, 4, 2, 1, 2, 6, 6, 4, 4, 4, 2, 5, 6, 6, 4, 2, 2, 1, 6, 6, 4, 4, 4, 5, 2, 1, 6, 5, 6, 4, 2, 4, 6, 1, 5, 5, 1, 1, 5, 3, 2, 3, 1, 3, 1, 1, 5, 5, 2, 5, 5, 5, 5, 5, 1, 3, 5, 2, 6, 1, 5, 6, 1, 4, 4, 3, 6, 4, 6, 3, 3, 3, 4, 6, 2, 5, 1, 4, 3, 4, 3, 3, 2, 1, 6, 2, 1, 1, 4, 1, 5, 1, 1, 1, 4, 6, 4, 1, 5, 2, 3, 5, 5, 4, 6, 5, 6, 1, 2, 1, 4, 6, 5, 1, 6, 2, 3, 5, 3, 6, 1, 6, 5, 6, 1, 4, 1, 2, 6, 3, 2, 3, 2, 5, 2, 1, 3, 2, 4, 6, 6, 3, 1, 6, 5, 1, 4, 1, 5, 5, 2, 5, 1, 2, 6, 6, 5, 2, 1, 2, 5, 1, 4, 1, 4, 1, 5, 3, 4, 2, 5, 1, 3, 6, 4, 4, 4, 4, 4, 2, 6, 2, 5, 4, 2, 3, 1, 6, 1, 6, 3, 2, 1, 4, 3, 5, 6, 1, 4, 4, 4, 4, 1, 2, 6, 3, 5, 4, 4, 3, 6, 2, 5, 6, 4, 2, 5, 1, 6, 1, 5, 6, 6, 2, 2, 3, 1, 1, 6, 3, 4, 1, 2, 5, 3, 4, 4, 5, 1, 4, 2, 1, 4, 3, 1, 3, 2, 2, 1, 1, 4, 6, 5, 6, 2, 2, 2, 4, 2, 1, 2, 2, 1, 1, 5, 5, 5, 5, 3, 2, 5, 2, 1, 3, 5, 3, 6, 1, 3, 5, 1, 1, 1, 4, 1, 3, 1, 1, 1, 3, 4, 3, 1, 4, 6, 4, 3, 4, 2, 1, 2, 4, 6, 1, 5, 4, 4, 6, 3, 2, 4, 1, 2, 4, 2, 1, 6, 4, 2, 5, 1, 6, 3, 2, 2, 3, 1, 3, 3, 1, 5, 3, 4, 5, 5, 4, 5, 1, 4, 2, 4, 3, 2, 1, 4, 5, 1, 4, 4, 1, 5, 2, 6, 2, 4, 3, 1, 4, 4, 4, 2, 4, 2, 1, 6, 5, 1, 5, 2, 6, 5, 3, 6, 1, 5, 2, 5, 6, 1, 1, 4, 1, 1, 3, 6, 6, 3, 6, 5, 2, 3, 1, 6, 3, 1, 3, 2, 1, 3, 4, 1, 6, 3, 5, 2, 3, 3, 3, 4, 1, 2, 5, 5, 4, 2, 2, 6, 3, 2, 4, 2, 5, 1, 2, 2, 2, 3, 3, 1, 6, 5, 4, 1, 6, 5, 2, 4, 1, 5, 4, 6, 3, 3, 4, 1, 3, 4, 1, 6, 6, 4, 4, 2, 1, 3, 4, 5, 3, 5, 2, 1, 6, 3, 2, 3, 6, 2, 4, 3, 3, 3, 5, 5, 4, 1, 5, 3, 1, 6, 2, 2, 3, 3, 2, 4, 2, 3, 5, 1, 4, 6, 6, 5, 5, 5, 5, 5, 3, 2, 5, 1, 4, 1, 6, 3, 4, 2, 4, 4, 4, 3, 4, 1, 3, 6, 6, 5, 2, 5, 2, 6, 5, 5, 3, 5, 1, 5, 4, 6, 3, 5, 6, 6, 1, 5, 4, 3, 2, 5, 6, 2, 2, 2, 6, 5, 1, 2, 5, 5, 2, 5, 5, 2, 1, 4, 5, 2, 2, 2, 2, 3, 5, 6, 6, 2, 5, 4, 6, 3, 6, 2, 6, 5, 5, 4, 3, 1, 1, 2, 3, 6, 2, 5, 5, 2, 1, 6, 6, 3, 5, 4, 1, 2, 5, 3, 1, 2, 5, 5, 5, 5, 4, 6, 2, 1, 6, 5, 6, 3, 6, 6, 5, 6, 4, 2, 3, 3, 5, 4, 4, 3, 6, 4, 1, 2, 3, 4, 3, 2, 4, 2, 4, 3, 6, 5, 6, 6, 4, 2, 4, 6, 4, 2, 5, 2, 3, 5, 4, 5, 3, 1, 4, 6, 4, 2, 1, 6, 2, 1, 1, 6, 6, 2, 1, 3, 6, 1, 4, 3, 3, 5, 4, 4, 1, 2, 1, 2, 2, 5, 5, 1, 6, 1, 4, 3, 2, 6, 3, 2, 3, 5, 1, 5, 6, 6, 6, 6, 6, 4, 1, 1, 3, 1, 1, 2, 3, 3, 6, 6, 4, 1, 3, 4, 4, 5, 4, 3, 1, 6, 1, 5, 2, 3, 5, 6, 6, 4, 6, 5, 3, 5, 6, 2, 4, 4, 5, 2, 4, 5, 5, 2, 2, 5, 5, 4, 1, 2, 6, 6, 2, 6, 5, 4, 3, 3, 2, 4, 4, 1, 5, 3, 3, 5, 2, 5, 3, 4, 4, 4, 4, 5, 3, 2, 3, 4, 2, 4, 2, 4, 5, 6, 5, 5, 2, 4, 6, 6, 6, 1, 3, 3, 2, 1, 2, 1, 1, 3, 2, 6, 1, 1, 3, 2, 1, 3, 1, 5, 2, 6, 3, 4, 4, 6, 2, 1, 2, 4, 6, 2, 2, 5, 6, 2, 4, 1, 1, 2, 5, 3, 2, 3, 3, 6, 3, 2, 6, 3, 2, 2, 4, 3, 3, 1, 1, 2, 3, 3, 2, 1, 2, 4, 3, 4, 6, 4, 5, 6, 3, 6, 6, 2, 5, 1, 3, 2, 1, 1, 5, 1, 1, 2, 1, 5, 4, 2, 5, 5, 4, 4, 5, 6, 4, 2, 1, 1, 2, 5, 2, 4, 3, 3, 1, 6, 2, 3, 5, 2, 2, 3, 6, 3, 3, 5, 5, 2, 2, 4, 1, 6, 1, 2, 4, 4, 6, 1, 3, 6, 3, 1, 1, 6, 4, 5, 5, 5, 3, 5, 2, 6, 6, 2, 5, 3, 6, 1, 1, 5, 6, 6, 3, 3, 2, 2, 4, 2, 3, 4, 1, 2, 1, 2, 4, 2, 5, 4, 3, 3, 1, 1, 2, 3, 6, 5, 3, 4, 6, 4, 4, 5, 1, 5, 5, 6, 2, 6, 3, 3, 2, 2, 3, 4, 6, 6, 3, 6, 4, 5, 2, 6, 2, 5, 1, 2, 2, 4, 5, 5, 5, 1, 5, 5, 2, 4, 1, 4, 5, 6, 4, 3, 2, 5, 6, 2, 2, 3, 6, 4, 5, 3, 6, 1, 4, 4, 6, 4, 1, 5, 3, 4, 1, 6, 1, 4, 6, 3, 3, 4, 4, 6, 6, 2, 6, 4, 4, 1, 6, 6, 6, 1, 2, 4, 4, 4, 4, 1, 3, 5, 3, 1, 4, 2, 1, 2, 1, 4, 5, 1, 6, 1, 6, 5, 5, 3, 1, 4, 6, 2, 1, 4, 2, 2, 1, 4, 5, 4, 5, 2, 2, 5, 6, 1, 2, 2, 6, 1, 3, 1, 6, 5, 4, 4, 4, 6, 1, 2, 3, 3, 6, 4, 1, 2, 5, 4, 1, 2, 3, 2, 1, 5, 2, 5, 6, 2, 5, 5, 6, 4, 3, 1, 1, 6, 6, 3, 3, 2, 1, 1, 1, 4, 4, 1, 3, 5, 1, 1, 5, 2, 2, 6, 6, 3, 6, 2, 1, 6, 4, 2, 1, 1, 3, 5, 3, 3, 6, 4, 2, 5, 4, 4, 3, 3, 1, 6, 3, 3, 3, 3, 1, 4, 5, 5, 3, 5, 6, 4, 1, 6, 4, 1, 6, 6, 2, 3, 6, 2, 3, 2, 2, 3, 6, 2, 6, 3, 6, 5, 3, 1, 2, 3, 3, 2, 3, 4, 5, 5, 2, 2, 5, 5, 2, 5, 6, 1, 3, 3, 1, 3, 5, 4, 1, 6, 2, 3, 2, 4, 4, 3, 1, 3, 4, 1, 4, 6, 3, 5, 2, 6, 4, 5, 4, 2, 5, 6, 2, 6, 3, 6, 6, 6, 5, 3, 5, 4, 4, 3, 3, 6, 2, 5, 3, 1, 5, 2, 3, 6, 6, 6, 1, 4, 2, 6, 1, 4, 5, 1, 4, 3, 1, 1, 1, 3, 2, 5, 1, 6, 6, 2, 6, 4, 3, 3, 4, 2, 1, 5, 3, 4, 1, 3, 6, 3, 3, 2, 6, 2, 1, 4, 3, 2, 4, 6, 1, 6, 4, 4, 5, 1, 2, 1, 5, 5, 6, 4, 1, 1, 1, 1, 2, 1, 2, 6, 2, 1, 4, 2, 3, 1, 4, 3, 6, 4, 3, 4, 4, 2, 6, 1, 6, 2, 1, 4, 4, 2, 6, 1, 5, 3, 2, 6, 5, 4, 5, 4, 1, 1, 4, 4, 3, 6, 2, 1, 4, 1, 4, 4, 6, 3, 4, 5, 3, 6, 3, 3, 3, 6, 5, 3, 6, 4, 3, 1, 6, 4, 5, 6, 6, 1, 2, 3, 5, 6, 6, 2, 4, 5, 4, 4, 6, 2, 2, 1, 6, 4, 5, 1, 3, 5, 1, 2, 6, 6, 2, 1, 3, 1, 1, 4, 4, 2, 2, 6, 4, 6, 6, 1, 6, 5, 5, 3, 3, 1, 4, 1, 4, 3, 1, 5, 2, 6, 6, 4, 5, 6, 1, 1, 5, 3, 3, 2, 4, 6, 6, 4, 4, 2, 6, 2, 6, 1, 5, 4, 2, 1, 6, 1, 2, 4, 2, 1, 5, 1, 6, 3, 1, 1, 4, 4, 1, 1, 1, 2, 1, 2, 2, 6, 4, 4, 4, 4, 6, 3, 6, 1, 5, 6, 1, 5, 2, 3, 4, 2, 6, 5, 6, 2, 1, 3, 5, 4, 3, 1, 6, 5, 1, 5, 1, 1, 3, 1, 2, 1, 2, 1, 2, 5, 3, 4, 6, 1, 5, 3, 2, 6, 5, 2, 3, 3, 6, 4, 6, 5, 4, 5, 1, 5, 4, 4, 2, 2, 3, 5, 4, 2, 6, 5, 1, 1, 6, 5, 2, 2, 6, 5, 3, 2, 4, 1, 1, 2, 5, 5, 2, 3, 2, 3, 4, 3, 2, 6, 2, 2, 4, 4, 4, 5, 3, 1, 4, 6, 6, 2, 5, 2, 3, 4, 2, 2, 2, 2, 3, 3, 2, 6, 1, 5, 5, 5, 1, 2, 1, 1, 1, 2, 5, 4, 4, 1, 4, 1, 3, 5, 6, 1, 6, 6, 1, 5, 4, 1, 4, 3, 5, 2, 6, 4, 6, 2, 4, 2, 4, 4, 4, 3, 2, 2, 5, 5, 5, 5, 1, 1, 1, 2, 3, 2, 2, 2, 1, 5, 3, 6, 1, 3, 2, 6, 2, 3, 6, 5, 4, 2, 2, 1, 3, 4, 5, 1, 3, 1, 4, 2, 1, 1, 1, 6, 3, 1, 5, 6, 3, 4, 2, 6, 1, 4, 3, 2, 1, 6, 4, 5, 3, 1, 4, 3, 1, 1, 1, 3, 4, 6, 2, 1, 3, 5, 6, 3, 3, 4, 6, 2, 5, 2, 5, 1, 6, 4, 6, 6, 5, 3, 4, 1, 4, 1, 2, 1, 5, 6, 3, 6, 1, 4, 2, 3, 1, 5, 1, 4, 6, 2, 2, 4, 2, 2, 3, 1, 2, 2, 4, 2, 1, 4, 6, 2, 2, 1, 5, 6, 6, 1, 2, 6, 3, 4, 4, 1, 4, 3, 3, 6, 4, 1, 5, 1, 2, 4, 5, 1, 4, 6, 2, 3, 3, 1, 4, 4, 3, 5, 2, 1, 6, 5, 6, 6, 4, 1, 2, 5, 6, 3, 5, 3, 4, 6, 1, 5, 4, 4, 3, 4, 6, 2, 5, 4, 4, 2, 4, 6, 3, 5, 3, 5, 5, 5, 5, 6, 2, 3, 3, 5, 3, 6, 4, 3, 3, 2, 1, 3, 3, 3, 4, 3, 1, 5, 6, 3, 5, 5, 6, 6, 5, 5, 2, 1, 1, 4, 1, 5, 2, 5, 1, 6, 5, 5, 5, 2, 3, 4, 6, 5, 5, 2, 2, 1, 4, 2, 6, 6, 6, 5, 2, 2, 6, 3, 6, 6, 6, 5, 4, 2, 1, 3, 3, 5, 3, 1, 2, 1, 5, 6, 4, 5, 5, 5, 2, 2, 4, 6, 6, 1, 5, 1, 5, 2, 5, 2, 5, 3, 1, 2, 3, 5, 6, 6, 5, 5, 6, 1, 3, 1, 5, 6, 3, 3, 1, 1, 3, 5, 1, 2, 5, 3, 1, 1, 1, 6, 2, 5, 2, 6, 1, 3, 1, 2, 6, 1, 2, 5, 5, 3, 4, 1, 3, 2, 2, 1, 2, 4, 5, 3, 1, 2, 3, 4, 5, 6, 5, 6, 6, 5, 5, 1, 3, 2, 1, 1, 4, 1, 4, 3, 5, 5, 1, 4, 4, 6, 4, 5, 1, 3, 5, 2, 6, 2, 4, 5, 6, 4, 3, 3, 6, 6, 1, 4, 1, 2, 1, 2, 1, 2, 6, 4, 5, 1, 2, 4, 2, 5, 1, 1, 6, 1, 3, 6, 3, 2, 4, 1, 2, 2, 3, 5, 5, 1, 4, 5, 6, 4, 6, 5, 2, 2, 1, 3, 1, 5, 3, 5, 4, 6, 2, 2, 1, 1, 2, 3, 6, 3, 3, 6, 6, 5, 5, 1, 2, 5, 3, 2, 4, 6, 1, 2, 3, 4, 6, 5, 6, 5, 2, 4, 3, 2, 4, 5, 2, 6, 1, 4, 3, 6, 1, 4, 5, 2, 5, 4, 4, 5, 1, 2, 1, 4, 6, 3, 5, 6, 3, 2, 1, 1, 5, 4, 3, 3, 6, 1, 2, 2, 2, 6, 6, 6, 2, 5, 1, 3, 6, 3, 3, 5, 1, 3, 2, 4, 5, 4, 1, 4, 2, 1, 6, 4, 5, 2, 3, 5, 4, 3, 2, 1, 5, 4, 5, 6, 2, 6, 1, 5, 2, 2, 4, 3, 1, 4, 3, 3, 1, 3, 2, 4, 6, 1, 6, 1, 4, 3, 1, 5, 6, 4, 3, 4, 3, 1, 1, 4, 1, 3, 4, 2, 1, 4, 6, 1, 2, 5, 5, 4, 1, 1, 5, 4, 5, 5, 1, 2, 6, 4, 6, 6, 1, 1, 3, 4, 3, 6, 1, 2, 1, 1, 5, 1, 3, 4, 1, 2, 3, 5, 3, 4, 4, 4, 2, 2, 2, 3, 5, 5, 1, 1, 4, 3, 6, 3, 6, 3, 4, 6, 1, 6, 4, 5, 3, 1, 2, 3, 2, 1, 4, 1, 4, 5, 3, 4, 2, 6, 5, 2, 1, 4, 5, 5, 2, 1, 3, 5, 2, 4, 1, 3, 5, 5, 3, 5, 6, 3, 1, 2, 5, 6, 2, 2, 6, 5, 5, 4, 1, 1, 6, 5, 3, 2, 5, 5, 1, 1, 2, 3, 1, 6, 3, 3, 3, 3, 4, 1, 5, 1, 3, 6, 1, 3, 6, 6, 3, 1, 3, 2, 4, 3, 5, 4, 5, 6, 5, 2, 1, 5, 3, 2, 1, 5, 3, 3, 2, 1, 3, 1, 2, 5, 5, 4, 4, 1, 4, 4, 3, 1, 3, 3, 3, 5, 4, 4, 3, 2, 1, 3, 6, 3, 6, 4, 3, 6, 5, 2, 4, 3, 3, 6, 2, 3, 1, 4, 2, 2, 5, 6, 2, 3, 3, 3, 6, 2, 2, 6, 4, 2, 2, 4, 4, 5, 2, 6, 4, 4, 4, 4, 3, 5, 4, 3, 3, 4, 1, 4, 6, 3, 2, 2, 2, 2, 5, 5, 5, 5, 2, 1, 2, 4, 6, 2, 4, 2, 5, 4, 1, 6, 3, 5, 3, 6, 4, 2, 1, 4, 3, 1, 2, 5, 4, 5, 3, 2, 3, 1, 6, 4, 5, 3, 2, 1, 1, 4, 5, 6, 5, 4, 5, 5, 4, 6, 5, 2, 5, 1, 3, 5, 4, 3, 2, 4, 3, 6, 3, 3, 5, 1, 1, 6, 2, 3, 3, 5, 4, 5, 3, 3, 3, 2, 1, 4, 3, 1, 6, 3, 6, 1, 3, 6, 3, 5, 1, 4, 4, 3, 3, 4, 1, 5, 2, 2, 4, 1, 1, 2, 2, 6, 6, 2, 6, 6, 2, 3, 5, 6, 5, 6, 2, 2, 4, 6, 1, 2, 1, 4, 1, 3, 1, 3, 3, 5, 2, 6, 6, 3, 4, 1, 4, 6, 2, 4, 3, 5, 3, 5, 5, 1, 3, 5, 4, 4, 5, 5, 4, 3, 1, 5, 3, 4, 3, 5, 3, 1, 3, 3, 5, 1, 4, 1, 3, 5, 5, 3, 2, 2, 1, 5, 6, 5, 4, 3, 5, 4, 3, 1, 3, 6, 1, 5, 4, 5, 3, 3, 1, 3, 3, 5, 1, 2, 2, 4, 6, 1, 2, 2, 5, 4, 6, 5, 5, 2, 1, 2, 1, 6, 6, 6, 4, 6, 5, 1, 3, 6, 6, 6, 3, 1, 1, 3, 5, 4, 4, 1, 1, 2, 3, 6, 3, 2, 4, 5, 1, 5, 3, 3, 6, 1, 2, 4, 5, 3, 5, 2, 5, 5, 4, 6, 4, 6, 5, 6, 5, 1, 2, 5, 1, 5, 4, 5, 2, 1, 1, 1, 1, 6, 5, 2, 5, 5, 2, 2, 2, 1, 6, 3, 6, 2, 4, 5, 4, 2, 3, 5, 6, 4, 2, 4, 3, 1, 6, 6, 3, 6, 4, 4, 3, 2, 5, 2, 5, 2, 5, 6, 3, 1, 4, 1, 5, 6, 5, 4, 4, 5, 2, 6, 4, 5, 1, 3, 3, 6, 6, 2, 6, 1, 3, 4, 1, 2, 2, 6, 4, 1, 4, 1, 2, 6, 5, 3, 5, 6, 1, 1, 4, 4, 5, 5, 3, 3, 6, 6, 5, 4, 4, 3, 6, 3, 2, 4, 1, 2, 5, 5, 5, 1, 3, 6, 1, 5, 3, 4, 6, 6, 6, 5, 3, 1, 3, 3, 5, 5, 5, 4, 4, 5, 5, 6, 1, 1, 2, 3, 4, 2, 1, 3, 2, 2, 5, 3, 1, 3, 6, 3, 2, 5, 2, 6, 4, 1, 6, 3, 2, 2, 5, 6, 3, 5, 1, 3, 2, 5, 3, 4, 5, 6, 2, 1, 3, 3, 4, 3, 1, 2, 2, 5, 4, 3, 1, 3, 1, 6, 2, 3, 2, 4, 2, 1, 1, 5, 6, 3, 3, 3, 2, 2, 6, 5, 1, 6, 1, 4, 2, 3, 3, 3, 6, 5, 4, 4, 3, 2, 4, 4, 6, 1, 3, 3, 3, 2, 4, 5, 3, 2, 2, 6, 2, 4, 4, 4, 1, 6, 2, 2, 2, 4, 4, 6, 1, 5, 5, 1, 1, 3, 1, 1, 3, 4, 3, 2, 6, 3, 6, 3, 6, 1, 4, 6, 4, 3, 4, 6, 2, 4, 1, 3, 6, 6, 1, 1, 3, 1, 5, 1, 2, 6, 6, 1, 6, 5, 1, 5, 1, 3, 3, 3, 2, 6, 4, 1, 1, 6, 1, 4, 3, 3, 4, 2, 5, 1, 2, 4, 4, 1, 4, 4, 3, 5, 3, 5, 6, 4, 1, 6, 1, 1, 5, 6, 1, 6, 3, 5, 4, 2, 4, 2, 2, 5, 2, 4, 1, 2, 1, 3, 4, 6, 4, 2, 1, 5, 5, 5, 2, 1, 3, 3, 5, 4, 3, 2, 5, 3, 3, 6, 3, 6, 5, 1, 1, 3, 6, 4, 1, 4, 1, 4, 3, 5, 1, 4, 5, 5, 5, 4, 1, 5, 3, 1, 4, 3, 3, 3, 6, 5, 3, 3, 3, 6, 5, 4, 3, 6, 4, 6, 4, 6, 4, 5, 6, 1, 4, 4, 1, 4, 6, 5, 6, 2, 2, 6, 5, 4, 4, 5, 4, 1, 1, 5, 1, 6, 5, 6, 6, 3, 6, 3, 5, 1, 6, 6, 3, 2, 2, 5, 1, 1, 5, 2, 4, 3, 6, 2, 6, 3, 4, 6, 1, 4, 6, 2, 5, 4, 3, 3, 5, 3, 6, 3, 4, 1, 5, 5, 4, 1, 6, 1, 1, 5, 3, 5, 4, 4, 6, 5, 3, 1, 1, 1, 5, 4, 3, 2, 2, 6, 2, 3, 6, 6, 2, 4, 4, 6, 3, 2, 5, 6, 4, 2, 6, 2, 1, 6, 2, 5, 6, 1, 4, 2, 1, 3, 4, 5, 5, 3, 2, 2, 3, 6, 2, 2, 6, 4, 2, 2, 5, 5, 5, 5, 2, 6, 2, 2, 3, 5, 6, 4, 2, 6, 3, 6, 1, 1, 4, 1, 1, 1, 2, 3, 6, 6, 2, 1, 3, 5, 2, 4, 3, 3, 1, 3, 2, 3, 6, 6, 4, 4, 4, 3, 4, 1, 4, 5, 1, 6, 5, 2, 5, 2, 1, 4, 3, 3, 2, 6, 5, 2, 3, 5, 6, 4, 6, 6, 5, 1, 1, 6, 6, 1, 2, 3, 1, 1, 1, 5, 4, 1, 4, 2, 4, 1, 6, 4, 4, 5, 3, 4, 6, 1, 5, 6, 2, 5, 5, 1, 5, 6, 6, 3, 6, 2, 1, 6, 3, 6, 4, 4, 6, 6, 5, 2, 4, 2, 3, 4, 2, 6, 6, 5, 2, 3, 1, 5, 4, 6, 5, 3, 6, 4, 2, 5, 3, 4, 1, 2, 5, 4, 6, 1, 5, 3, 2, 3, 5, 2, 3, 4, 6, 2, 3, 4, 5, 6, 4, 1, 4, 5, 4, 2, 1, 4, 3, 6, 5, 3, 4, 5, 2, 1, 3, 3, 2, 6, 6, 4, 6, 3, 5, 2, 2, 1, 2, 2, 6, 2, 1, 5, 1, 1, 3, 2, 3, 5, 1, 2, 1, 5, 2, 1, 4, 3, 1, 1, 6, 3, 4, 5, 3, 5, 6, 6, 2, 5, 6, 6, 5, 2, 4, 4, 5, 3, 3, 4, 1, 6, 5, 1, 6, 3, 2, 3, 4, 3, 1, 3, 3, 5, 1, 3, 6, 2, 1, 4, 4, 5, 2, 5, 4, 5, 6, 6, 5, 6, 1, 4, 3, 3, 3, 4, 5, 3, 2, 5, 5, 2, 6, 2, 4, 4, 4, 3, 3, 4, 2, 1, 6, 2, 6, 2, 6, 5, 1, 6, 3, 4, 6, 3, 3, 1, 5, 5, 2, 5, 1, 1, 6, 4, 2, 2, 6, 1, 3, 2, 3, 4, 5, 3, 4, 6, 2, 5, 6, 6, 4, 1, 4, 6, 6, 5, 1, 5, 1, 1, 5, 2, 6, 1, 6, 3, 4, 3, 2, 3, 1, 6, 6, 4, 4, 1, 5, 2, 5, 4, 4, 1, 6, 2, 6, 1, 3, 3, 1, 4, 6, 5, 6, 6, 4, 3, 5, 3, 4, 4, 4, 6, 2, 5, 5, 2, 2, 4, 3, 1, 6, 2, 4, 3, 6, 4, 1, 6, 6, 4, 5, 4, 1, 3, 3, 6, 3, 4, 4, 4, 5, 3, 1, 6, 4, 6, 1, 4, 4, 6, 1, 1, 1, 6, 3, 4, 6, 5, 5, 3, 6, 6, 1, 1, 5, 1, 1, 1, 3, 6, 5, 5, 6, 2, 4, 3, 2, 6, 2, 6, 4, 1, 3, 5, 6, 5, 5, 3, 2, 6, 5, 6, 4, 2, 5, 6, 1, 4, 5, 6, 4, 2, 3, 3, 4, 4, 5, 1, 2, 6, 4, 2, 4, 2, 3, 4, 6, 2, 3, 6, 6, 5, 4, 3, 1, 5, 5, 2, 6, 3, 5, 5, 5, 5, 6, 4, 5, 4, 6, 4, 4, 3, 5, 3, 3, 1, 1, 5, 2, 5, 5, 2, 6, 1, 6, 5, 1, 1, 3, 3, 5, 6, 2, 1, 5, 6, 5, 3, 3, 5, 2, 3, 5, 2, 2, 4, 4, 3, 4, 4, 2, 4, 5, 4, 3, 6, 6, 3, 2, 2, 5, 4, 6, 6, 1, 2, 2, 3, 3, 2, 3, 2, 5, 3, 4, 6, 3, 4, 3, 4, 6, 3, 3, 3, 5, 5, 5, 5, 2, 4, 3, 1, 2, 5, 6, 6, 2, 3, 1, 4, 4, 6, 5, 6, 2, 1, 1, 1, 6, 5, 3, 6, 1, 6, 6, 5, 5, 1, 2, 5, 3, 2, 1, 3, 1, 6, 1, 3, 6, 5, 5, 4, 4, 4, 1, 5, 6, 2, 1, 1, 6, 6, 5, 6, 2, 1, 4, 6, 6, 2, 6, 2, 4, 2, 6, 3, 5, 6, 1, 6, 6, 6, 3, 4, 2, 1, 4, 6, 6, 6, 5, 1, 3, 3, 6, 4, 5, 5, 1, 2, 6, 2, 6, 2, 5, 2, 1, 4, 2, 1, 1, 1, 3, 2, 6, 1, 2, 2, 2, 4, 6, 4, 4, 4, 6, 4, 4, 2, 1, 6, 1, 6, 6, 5, 5, 1, 6, 5, 2, 5, 5, 3, 5, 1, 6, 3, 3, 2, 1, 5, 1, 6, 4, 4, 3, 2, 4, 1, 1, 1, 3, 5, 3, 5, 4, 1, 2, 5, 6, 4, 2, 4, 1, 3, 1, 1, 2, 6, 1, 6, 4, 6, 3, 6, 5, 3, 5, 3, 6, 6, 2, 3, 4, 6, 6, 2, 2, 5, 4, 5, 4, 5, 4, 2, 1, 1, 4, 5, 3, 1, 5, 4, 6, 1, 5, 4, 3, 6, 2, 1, 5, 2, 1, 5, 4, 1, 1, 3, 5, 3, 1, 3, 4, 3, 5, 6, 2, 3, 6, 6, 4, 1, 2, 4, 5, 1, 6, 5, 1, 6, 6, 5, 1, 2, 3, 3, 6, 2, 2, 3, 4, 5, 5, 3, 2, 2, 3, 4, 2, 6, 1, 5, 4, 5, 4, 6, 4, 1, 4, 4, 1, 6, 5, 2, 2, 2, 2, 3, 4, 1, 3, 3, 5, 2, 2, 5, 5, 6, 1, 4, 5, 4, 1, 5, 6, 3, 2, 2, 1, 3, 1, 6, 4, 6, 6, 5, 4, 3, 5, 2, 5, 1, 3, 2, 2, 3, 6, 1, 5, 3, 3, 5, 5, 2, 3, 6, 1, 2, 6, 2, 2, 2, 6, 4, 5, 2, 6, 2, 4, 4, 3, 5, 5, 5, 5, 1, 2, 3, 2, 2, 6, 1, 4, 6, 1, 2, 3, 3, 3, 5, 4, 6, 4, 3, 3, 2, 2, 3, 2, 1, 6, 1, 5, 5, 3, 3, 4, 4, 1, 3, 5, 6, 2, 2, 2, 2, 5, 4, 5, 5, 2, 6, 1, 5, 3, 3, 4, 1, 6, 4, 6, 2, 2, 6, 6, 4, 1, 1, 2, 4, 4, 1, 6, 2, 1, 6, 3, 5, 4, 5, 2, 2, 6, 5, 5, 1, 3, 3, 1, 6, 4, 6, 1, 3, 2, 1, 2, 6, 6, 4, 2, 2, 4, 2, 5, 3, 5, 1, 5, 6, 2, 2, 3, 4, 6, 4, 2, 2, 3, 1, 4, 2, 3, 1, 1, 2, 2, 5, 5, 5, 5, 2, 3, 4, 6, 5, 1, 1, 6, 6, 3, 3, 4, 3, 4, 6, 1, 6, 6, 4, 6, 3, 5, 4, 1, 2, 4, 1, 2, 4, 3, 2, 2, 3, 1, 5, 5, 5, 1, 5, 2, 4, 3, 2, 4, 6, 6, 4, 2, 3, 2, 5, 5, 2, 1, 6, 2, 3, 5, 1, 5, 3, 5, 3, 3, 5, 1, 3, 6, 6, 4, 3, 4, 4, 6, 1, 6, 2, 2, 4, 2, 2, 5, 1, 2, 5, 2, 4, 4, 5, 5, 5, 3, 6, 1, 2, 5, 2, 6, 5, 2, 2, 1, 4, 2, 3, 2, 2, 5, 3, 6, 2, 3, 6, 2, 5, 6, 1, 6, 2, 3, 6, 5, 6, 5, 5, 3, 6, 2, 2, 3, 5, 1, 3, 6, 4, 5, 6, 4, 3, 1, 1, 1, 2, 1, 4, 1, 6, 2, 3, 1, 2, 2, 5, 6, 1, 5, 6, 6, 5, 2, 1, 1, 6, 2, 1, 5, 4, 5, 6, 3, 4, 3, 4, 2, 2, 1, 5, 1, 4, 1, 5, 6, 3, 5, 3, 4, 6, 2, 3, 3, 3, 1, 3, 6, 2, 6, 1, 1, 5, 3, 4, 3, 3, 4, 5, 1, 1, 5, 6, 3, 6, 6, 1, 2, 3, 2, 2, 3, 6, 1, 1, 5, 4, 5, 3, 6, 1, 1, 3, 6, 5, 4, 1, 2, 6, 4, 2, 4, 2, 3, 2, 6, 6, 1, 2, 6, 2, 2, 6, 2, 1, 4, 3, 6, 3, 4, 4, 6, 4, 3, 6, 4, 6, 5, 3, 6, 4, 6, 2, 3, 5, 3, 5, 4, 5, 1, 4, 4, 6, 1, 2, 4, 4, 5, 3, 5, 6, 1, 3, 1, 4, 2, 2, 4, 2, 6, 3, 3, 3, 2, 2, 1, 2, 4, 2, 5, 5, 4, 2, 3, 4, 5, 2, 1, 1, 1, 6, 3, 3, 5, 6, 4, 5, 5, 1, 6, 1, 1, 2, 3, 3, 3, 4, 6, 6, 5, 4, 3, 3, 6, 3, 2, 1, 5, 2, 1, 2, 1, 2, 2, 1, 2, 3, 6, 6, 6, 5, 6, 1, 2, 2, 4, 2, 5, 2, 1, 2, 5, 2, 3, 6, 3, 3, 3, 1, 5, 1, 1, 4, 4, 5, 4, 5, 6, 4, 3, 4, 6, 5, 5, 4, 5, 5, 2, 4, 6, 3, 5, 6, 3, 2, 1, 3, 6, 4, 4, 2, 2, 3, 4, 6, 4, 1, 3, 6, 6, 1, 1, 6, 4, 5, 6, 4, 5, 3, 4, 4, 1, 6, 5, 6, 3, 3, 1, 3, 4, 4, 4, 1, 4, 5, 5, 1, 3, 5, 3, 1, 6, 3, 4, 4, 6, 6, 3, 6, 3, 6, 3, 4, 2, 2, 6, 5, 3, 3, 4, 4, 3, 2, 3, 6, 3, 5, 2, 4, 6, 5, 4, 6, 1, 4, 4, 1, 2, 3, 4, 1, 6, 5, 6, 1, 4, 2, 6, 5, 4, 6, 5, 5, 5, 4, 2, 6, 4, 1, 3, 3, 5, 5, 1, 3, 2, 1, 4, 3, 6, 5, 1, 2, 1, 4, 2, 3, 4, 1, 2, 1, 5, 1, 2, 2, 1, 4, 6, 5, 5, 2, 3, 3, 4, 6, 4, 5, 1, 4, 3, 3, 3, 4, 2, 2, 6, 6, 2, 4, 1, 1, 1, 4, 2, 1, 1, 2, 6, 4, 4, 6, 4, 2, 4, 5, 3, 3, 6, 6, 5, 1, 5, 5, 3, 4, 1, 2, 5, 1, 1, 5, 4, 4, 2, 1, 3, 1, 1, 2, 5, 3, 4, 4, 1, 1, 3, 2, 2, 6, 1, 1, 1, 4, 4, 4, 2, 2, 3, 1, 1, 6, 5, 5, 4, 5, 5, 3, 6, 4, 3, 6, 2, 4, 1, 6, 2, 1, 3, 5, 4, 2, 6, 2, 2, 6, 4, 2, 4, 4, 2, 1, 2, 6, 5, 4, 2, 2, 2, 6, 1, 4, 1, 4, 2, 3, 2, 6, 4, 3, 5, 6, 4, 4, 5, 3, 6, 1, 6, 5, 3, 4, 1, 6, 5, 5, 4, 5, 5, 6, 4, 6, 1, 2, 1, 5, 3, 6, 3, 6, 4, 3, 2, 4, 2, 2, 1, 6, 5, 6, 5, 5, 6, 1, 6, 6, 1, 3, 1, 1, 5, 2, 6, 3, 4, 5, 5, 3, 3, 5, 5, 1, 5, 6, 6, 6, 2, 3, 3, 5, 4, 2, 4, 3, 6, 6, 4, 6, 6, 5, 5, 4, 5, 5, 2, 1, 5, 3, 2, 1, 3, 2, 2, 4, 5, 3, 6, 6, 5, 5, 6, 2, 5, 1, 2, 4, 4, 4, 1, 1, 3, 4, 5, 4, 5, 6, 2, 1, 5, 2, 2, 2, 6, 2, 5, 6, 1, 4, 5, 2, 3, 1, 3, 3, 3, 6, 4, 5, 3, 6, 6, 3, 3, 6, 6, 5, 4, 2, 2, 2, 2, 1, 2, 6, 2, 5, 5, 6, 5, 4, 4, 3, 4, 4, 2, 2, 4, 3, 6, 4, 3, 4, 4, 5, 1, 6, 6, 6, 2, 3, 6, 3, 3, 1, 1, 3, 1, 6, 1, 5, 2, 6, 6, 1, 2, 5, 5, 2, 2, 3, 6, 1, 2, 1, 5, 1, 6, 4, 5, 4, 2, 3, 3, 6, 2, 3, 6, 3, 6, 1, 6, 2, 1, 4, 2, 6, 6, 2, 2, 5, 2, 3, 3, 2, 4, 5, 4, 6, 5, 3, 6, 3, 5, 3, 5, 4, 4, 3, 6, 3, 2, 1, 6, 4, 1, 5, 3, 5, 5, 2, 1, 6, 1, 5, 2, 5, 3, 3, 4, 1, 5, 3, 4, 2, 1, 3, 2, 6, 1, 5, 5, 4, 1, 4, 5, 3, 6, 3, 6, 2, 2, 2, 4, 3, 6, 2, 3, 1, 6, 4, 4, 1, 1, 1, 6, 5, 5, 1, 3, 3, 3, 1, 6, 2, 5, 2, 2, 6, 2, 5, 6, 3, 3, 5, 4, 1, 3, 3, 1, 6, 1, 6, 1, 4, 4, 3, 1, 4, 6, 1, 5, 6, 6, 1, 5, 6, 3, 1, 4, 4, 4, 5, 1, 1, 2, 1, 5, 6, 4, 2, 3, 1, 4, 4, 2, 6, 5, 6, 4, 4, 5, 6, 6, 1, 6, 4, 2, 2, 4, 4, 6, 3, 1, 1, 2, 1, 1, 1, 6, 6, 1, 1, 2, 3, 6, 3, 5, 3, 2, 1, 2, 3, 6, 3, 5, 2, 3, 6, 2, 4, 3, 4, 5, 4, 1, 4, 5, 4, 5, 2, 1, 4, 1, 2, 6, 4, 1, 4, 5, 2, 6, 3, 6, 4, 5, 5, 1, 2, 3, 6, 2, 1, 4, 1, 5, 4, 2, 4, 2, 1, 3, 1, 2, 6, 1, 2, 5, 4, 2, 3, 6, 5, 5, 5, 6, 1, 1, 6, 3, 1, 2, 4, 2, 1, 1, 4, 1, 5, 6, 2, 1, 1, 4, 4, 5, 1, 3, 3, 6, 6, 6, 1, 3, 2, 4, 2, 4, 5, 6, 5, 6, 3, 2, 1, 6, 5, 5, 1, 5, 6, 6, 5, 1, 3, 2, 1, 4, 3, 4, 4, 5, 3, 3, 1, 4, 1, 5, 2, 1, 2, 6, 4, 6, 4, 3, 2, 6, 5, 1, 1, 4, 2, 2, 3, 1, 1, 1, 6, 3, 4, 3, 3, 1, 4, 5, 3, 1, 6, 2, 1, 5, 3, 4, 3, 1, 1, 1, 4, 6, 1, 3, 3, 3, 3, 4, 3, 2, 1, 2, 1, 5, 2, 6, 2, 4, 2, 2, 6, 4, 3, 4, 6, 1, 4, 1, 3, 2, 5, 3, 3, 1, 3, 3, 5, 4, 1, 3, 4, 1, 1, 3, 3, 1, 2, 6, 5, 3, 6, 3, 4, 4, 2, 4, 3, 4, 6, 2, 5, 4, 4, 4, 3, 5, 2, 2, 5, 4, 2, 1, 2, 2, 3, 6, 6, 5, 1, 6, 5, 2, 1, 1, 5, 6, 3, 4, 4, 1, 2, 2, 5, 4, 5, 1, 3, 3, 2, 6, 4, 5, 5, 5, 6, 1, 4, 5, 3, 5, 6, 1, 6, 6, 4, 6, 2, 3, 5, 2, 6, 5, 2, 2, 3, 1, 1, 6, 4, 5, 4, 2, 4, 4, 1, 6, 1, 2, 4, 1, 4, 3, 2, 2, 4, 4, 3, 5, 2, 6, 5, 3, 6, 2, 2, 4, 3, 6, 6, 5, 5, 2, 5, 6, 3, 4, 6, 2, 1, 5, 6, 4, 4, 5, 1, 2, 6, 4, 3, 5, 6, 2, 2, 6, 2, 6, 2, 6, 6, 1, 6, 5, 6, 2, 5, 4, 2, 3, 1, 1, 2, 1, 3, 5, 2, 3, 1, 4, 5, 3, 3, 4, 3, 4, 2, 6, 3, 6, 4, 2, 4, 1, 4, 6, 2, 2, 3, 6, 2, 4, 2, 3, 3, 6, 3, 5, 4, 2, 5, 3, 3, 4, 5, 1, 2, 4, 1, 3, 4, 4, 3, 1, 5, 3, 5, 2, 3, 3, 5, 6, 4, 3, 5, 5, 3, 4, 5, 3, 3, 4, 4, 4, 5, 1, 6, 1, 1, 4, 1, 6, 1, 6, 5, 2, 3, 4, 2, 6, 6, 6, 2, 2, 5, 1, 6, 3, 6, 2, 1, 4, 4, 4, 5, 6, 4, 4, 4, 5, 3, 1, 4, 3, 4, 3, 5, 1, 5, 6, 4, 2, 4, 1, 2, 1, 3, 6, 1, 6, 1, 1, 3, 3, 4, 5, 1, 1, 3, 3, 3, 5, 3, 6, 2, 4, 3, 3, 2, 6, 2, 4, 4, 3, 4, 1, 5, 5, 6, 3, 2, 6, 5, 3, 6, 3, 1, 1, 1, 6, 6, 6, 2, 5, 6, 6, 4, 2, 2, 1, 2, 3, 3, 2, 4, 5, 6, 4, 6, 2, 5, 2, 2, 3, 5, 4, 2, 5, 1, 4, 3, 5, 2, 4, 1, 5, 3, 6, 3, 1, 3, 2, 3, 4, 4, 6, 2, 5, 5, 2, 1, 6, 5, 3, 3, 5, 6, 1, 5, 6, 1, 5, 1, 6, 3, 3, 5, 4, 5, 1, 1, 6, 2, 2, 4, 5, 4, 4, 6, 2, 3, 6, 6, 4, 1, 5, 3, 4, 5, 4, 2, 4, 4, 1, 2, 1, 3, 1, 6, 6, 5, 6, 2, 3, 2, 2, 6, 6, 3, 3, 2, 3, 4, 4, 2, 5, 6, 1, 5, 3, 5, 3, 2, 5, 2, 3, 6, 2, 5, 6, 4, 2, 3, 6, 5, 3, 1, 5, 2, 3, 6, 3, 1, 6, 4, 2, 3, 2, 4, 2, 5, 6, 6, 5, 4, 4, 4, 5, 5, 4, 4, 4, 4, 5, 1, 6, 4, 5, 3, 3, 1, 1, 3, 2, 4, 3, 6, 6, 4, 2, 6, 6, 1, 5, 6, 2, 2, 1, 3, 1, 1, 3, 4, 6, 1, 6, 3, 4, 1, 3, 6, 2, 6, 5, 4, 2, 2, 6, 4, 3, 1, 2, 4, 6, 3, 1, 2, 4, 1, 4, 6, 4, 1, 3, 6, 5, 3, 4, 3, 4, 4, 3, 2, 5, 6, 6, 6, 2, 6, 2, 5, 2, 2, 5, 2, 6, 4, 5, 5, 3, 2, 3, 2, 2, 3, 4, 5, 6, 6, 4, 2, 2, 1, 6, 2, 4, 4, 5, 6, 6, 3, 4, 1, 2, 5, 4, 5, 5, 6, 4, 2, 6, 6, 2, 4, 2, 1, 1, 2, 3, 2, 6, 4, 2, 5, 6, 2, 6, 2, 3, 4, 3, 2, 6, 6, 5, 6, 6, 3, 4, 1, 2, 1, 2, 5, 6, 4, 6, 3, 2, 3, 1, 5, 4, 4, 4, 6, 1, 2, 2, 5, 4, 5, 5, 2, 5, 5, 3, 2, 4, 2, 6, 3, 5, 3, 2, 5, 3, 3, 4, 2, 3, 5, 1, 6, 5, 4, 1, 5, 3, 6, 1, 6, 3, 2, 3, 3, 1, 2, 1, 1, 2, 5, 6, 2, 3, 5, 2, 1, 6, 3, 2, 2, 2, 2, 2, 5, 3, 6, 4, 2, 6, 3, 2, 3, 5, 2, 2, 2, 2, 6, 1, 4, 6, 2, 5, 4, 4, 2, 1, 2, 6, 6, 5, 6, 4, 5, 3, 2, 6, 6, 3, 6, 2, 3, 6, 6, 3, 3, 6, 2, 6, 3, 6, 1, 2, 4, 3, 4, 3, 4, 4, 6, 4, 5, 1, 5, 2, 3, 4, 4, 1, 3, 1, 1, 3, 2, 3, 5, 1, 6, 4, 3, 4, 2, 3, 4, 5, 5, 6, 5, 5, 4, 6, 5, 5, 4, 3, 3, 6, 1, 5, 3, 1, 1, 3, 5, 4, 1, 3, 4, 1, 6, 3, 1, 6, 4, 5, 3, 6, 1, 4, 2, 2, 3, 3, 6, 5, 6, 2, 4, 6, 1, 2, 6, 4, 2, 1, 2, 3, 1, 3, 5, 1, 2, 3, 3, 4, 5, 2, 1, 4, 2, 5, 5, 2, 5, 4, 6, 6, 4, 4, 5, 6, 6, 6, 2, 6, 3, 2, 6, 1, 2, 5, 3, 5, 3, 4, 5, 2, 4, 5, 4, 3, 5, 4, 2, 3, 4, 3, 4, 1, 2, 6, 3, 6, 5, 1, 1, 4, 6, 4, 5, 1, 5, 4, 1, 4, 3, 4, 6, 4, 6, 1, 5, 5, 4, 5, 2, 4, 1, 3, 4, 2, 3, 5, 4, 1, 1, 2, 5, 1, 2, 5, 2, 2, 6, 1, 3, 5, 1, 3, 5, 5, 5, 2, 6, 4, 4, 4, 6, 3, 5, 3, 5, 6, 2, 6, 1, 5, 6, 4, 2, 3, 4, 2, 1, 3, 6, 4, 2, 4, 3, 3, 2, 2, 2, 3, 6, 2, 5, 1, 4, 3, 5, 4, 6, 4, 4, 1, 2, 3, 5, 2, 6, 3, 5, 1, 6, 5, 1, 2, 5, 4, 2, 5, 2, 1, 6, 2, 6, 6, 1, 5, 2, 2, 5, 4, 1, 6, 2, 5, 1, 6, 5, 5, 4, 2, 1, 2, 1, 4, 5, 3, 5, 6, 2, 3, 4, 6, 3, 6, 5, 1, 3, 4, 5, 5, 1, 5, 6, 6, 4, 4, 3, 3, 1, 4, 5, 3, 4, 1, 6, 4, 6, 5, 5, 4, 3, 5, 4, 4, 2, 6, 5, 1, 5, 6, 6, 6, 3, 4, 6, 2, 1, 2, 2, 1, 2, 2, 2, 5, 5, 1, 3, 4, 1, 2, 3, 1, 6, 4, 3, 4, 5, 4, 4, 6, 5, 3, 6, 1, 2, 1, 5, 2, 2, 5, 2, 4, 1, 6, 3, 6, 6, 6, 3, 1, 4, 4, 1, 3, 6, 2, 1, 3, 3, 6, 1, 4, 5, 1, 5, 2, 3, 1, 1, 2, 4, 6, 4, 4, 5, 5, 3, 5, 2, 2, 1, 3, 6, 2, 1, 4, 5, 1, 5, 4, 1, 2, 3, 6, 5, 4, 5, 5, 5, 2, 3, 4, 1, 4, 3, 3, 6, 2, 1, 4, 5, 3, 4, 6, 2, 3, 3, 1, 2, 5, 3, 2, 3, 4, 5, 4, 5, 4, 2, 3, 5, 6, 3, 3, 4, 4, 4, 6, 3, 2, 2, 4, 6, 5, 6, 1, 2, 2, 4, 2, 5, 3, 4, 4, 2, 4, 3, 3, 4, 6, 4, 3, 6, 2, 6, 3, 4, 1, 1, 4, 2, 1, 5, 5, 2, 5, 5, 5, 2, 2, 2, 4, 4, 2, 6, 5, 3, 3, 2, 5, 1, 6, 6, 5, 1, 4, 6, 3, 2, 2, 4, 3, 1, 6, 4, 5, 3, 2, 4, 1, 6, 1, 2, 3, 4, 5, 3, 1, 2, 2, 4, 2, 5, 3, 5, 3, 6, 6, 5, 2, 5, 3, 2, 5, 5, 5, 3, 4, 5, 3, 4, 6, 6, 4, 3, 3, 4, 2, 4, 3, 1, 5, 4, 5, 1, 3, 5, 5, 6, 6, 1, 5, 1, 3, 6, 4, 1, 2, 4, 6, 6, 4, 1, 4, 2, 2, 4, 1, 6, 5, 2, 2, 6, 3, 3, 2, 5, 4, 6, 4, 3, 1, 2, 3, 6, 6, 4, 4, 2, 4, 1, 2, 2, 2, 5, 6, 4, 3, 6, 2, 5, 6, 2, 5, 2, 5, 4, 2, 6, 5, 3, 2, 2, 4, 4, 5, 2, 1, 5, 2, 6, 3, 1, 2, 5, 6, 1, 1, 3, 6, 1, 4, 5, 6, 4, 2, 2, 1, 6, 3, 4, 5, 6, 1, 2, 6, 4, 5, 1, 3, 6, 5, 3, 6, 4, 1, 1, 1, 6, 2, 3, 6, 2, 2, 1, 6, 1, 3, 1, 2, 1, 2, 4, 3, 6, 3, 5, 2, 4, 6, 4, 6, 5, 1, 6, 2, 5, 3, 2, 2, 5, 6, 2, 3, 3, 2, 6, 2, 4, 6, 5, 2, 6, 5, 5, 5, 2, 1, 5, 3, 3, 6, 3, 3, 3, 1, 1, 3, 6, 6, 1, 5, 4, 2, 2, 3, 4, 3, 5, 5, 3, 2, 1, 5, 5, 1, 4, 6, 5, 4, 6, 4, 3, 5, 4, 6, 4, 4, 2, 6, 6, 3, 5, 3, 3, 1, 6, 4, 1, 5, 1, 2, 4, 3, 2, 3, 4, 1, 6, 4, 6, 5, 1, 2, 5, 6, 1, 6, 5, 3, 3, 1, 2, 1, 4, 6, 6, 2, 4, 6, 4, 3, 6, 5, 3, 6, 6, 4, 3, 3, 3, 5, 1, 2, 2, 2, 6, 6, 3, 6, 6, 2, 3, 2, 2, 3, 2, 5, 6, 1, 1, 1, 4, 3, 1, 3, 5, 2, 6, 5, 2, 3, 4, 1, 4, 5, 3, 3, 3, 6, 1, 5, 5, 1, 2, 6, 4, 3, 5, 2, 4, 6, 5, 3, 2, 4, 4, 5, 4, 5, 2, 2, 2, 4, 5, 6, 3, 4, 3, 2, 6, 3, 2, 6, 3, 2, 2, 2, 3, 5, 2, 5, 5, 3, 4, 2, 3, 2, 1, 2, 2, 4, 4, 3, 6, 6, 3, 4, 6, 1, 5, 3, 4, 4, 3, 3, 1, 3, 6, 3, 1, 2, 6, 4, 1, 6, 4, 1, 6, 5, 6, 2, 3, 2, 6, 4, 2, 5, 6, 3, 1, 1, 4, 5, 3, 3, 6, 5, 2, 3, 1, 1, 2, 3, 5, 3, 1, 5, 6, 3, 4, 3, 5, 1, 6, 1, 5, 6, 5, 6, 4, 3, 3, 2, 4, 2, 5, 4, 3, 6, 4, 1, 3, 5, 4, 2, 2, 4, 1, 4, 5, 3, 6, 1, 3, 4, 2, 5, 1, 5, 2, 6, 2, 3, 6, 1, 6, 3, 3, 2, 3, 4, 5, 4, 4, 4, 6, 4, 1, 6, 2, 3, 2, 5, 3, 1, 1, 6, 5, 3, 3, 4, 5, 1, 3, 4, 4, 6, 2, 4, 4, 3, 3, 3, 4, 6, 6, 3, 6, 1, 6, 5, 3, 1, 5, 1, 3, 6, 1, 2, 6, 1, 3, 6, 2, 4, 1, 6, 6, 1, 6, 5, 1, 4, 1, 1, 3, 6, 3, 1, 4, 1, 5, 2, 1, 6, 3, 5, 2, 1, 4, 6, 4, 2, 4, 1, 6, 5, 6, 5, 4, 3, 5, 4, 4, 3, 2, 5, 4, 2, 2, 2, 3, 5, 2, 5, 3, 2, 6, 2, 1, 6, 2, 4, 3, 4, 5, 2, 2, 1, 2, 1, 1, 4, 3, 4, 5, 1, 1, 6, 5, 3, 3, 5, 5, 2, 3, 1, 6, 2, 6, 4, 2, 4, 4, 3, 5, 1, 3, 2, 4, 2, 1, 6, 2, 5, 3, 6, 2, 2, 4, 2, 1, 5, 6, 6, 6, 6, 6, 3, 5, 4, 4, 1, 2, 3, 2, 3, 4, 2, 2, 3, 6, 4, 4, 3, 5, 1, 3, 4, 3, 3, 6, 3, 2, 5, 3, 3, 6, 2, 4, 2, 5, 5, 1, 2, 6, 5, 2, 2, 2, 6, 4, 5, 5, 4, 1, 3, 4, 6, 2, 2, 1, 6, 5, 2, 3, 1, 6, 4, 6, 2, 6, 1, 4, 5, 5, 5, 5, 6, 6, 4, 2, 6, 1, 2, 2, 3, 2, 1, 3, 4, 1, 3, 4, 4, 1, 5, 4, 4, 6, 6, 3, 1, 6, 1, 5, 4, 6, 3, 5, 4, 3, 5, 6, 1, 2, 5, 3, 6, 4, 4, 5, 5, 1, 5, 4, 5, 4, 3, 1, 5, 3, 6, 6, 2, 3, 2, 1, 6, 6, 1, 3, 3, 3, 4, 6, 2, 1, 2, 1, 2, 3, 6, 6, 1, 6, 6, 1, 4, 1, 3, 2, 3, 2, 1, 2, 4, 3, 4, 1, 1, 6, 3, 4, 3, 6, 5, 1, 5, 1, 5, 2, 3, 6, 4, 6, 4, 2, 5, 1, 1, 1, 3, 1, 2, 3, 1, 5, 6, 6, 3, 5, 6, 4, 3, 2, 4, 5, 6, 2, 3, 6, 2, 6, 2, 6, 1, 5, 4, 3, 3, 6, 3, 4, 3, 2, 5, 1, 5, 5, 5, 6, 5, 3, 5, 1, 3, 5, 1, 4, 3, 1, 5, 4, 3, 4, 4, 4, 2, 1, 4, 2, 3, 4, 4, 5, 2, 1, 6, 4, 5, 1, 5, 4, 6, 3, 5, 4, 3, 3, 4, 1, 2, 5, 4, 3, 5, 4, 2, 2, 5, 4, 4, 4, 3, 5, 1, 3, 4, 5, 1, 6, 4, 2, 2, 1, 5, 1, 5, 4, 6, 1, 5, 6, 6, 6, 3, 6, 4, 4, 4, 1, 4, 3, 3, 2, 4, 5, 4, 5, 6, 5, 5, 1, 1, 3, 5, 4, 5, 4, 2, 2, 3, 1, 4, 5, 2, 3, 5, 6, 1, 1, 3, 4, 3, 4, 4, 6, 5, 4, 4, 3, 2, 5, 4, 5, 5, 3, 5, 5, 1, 2, 2, 4, 6, 5, 3, 4, 4, 6, 6, 3, 2, 3, 6, 4, 1, 4, 4, 3, 1, 6, 4, 3, 2, 5, 2, 2, 1, 3, 1, 2, 1, 1, 3, 5, 5, 4, 1, 5, 5, 6, 1, 5, 1, 3, 6, 5, 5, 4, 4, 5, 4, 6, 5, 2, 5, 4, 4, 2, 3, 1, 3, 1, 6, 4, 6, 5, 4, 1, 5, 6, 5, 3, 6, 2, 2, 6, 1, 5, 2, 3, 3, 6, 5, 1, 6, 2, 1, 4, 3, 3, 3, 4, 5, 2, 1, 6, 6, 4, 4, 6, 2, 1, 1, 1, 4, 3, 3, 2, 6, 4, 6, 2, 6, 1, 5, 5, 6, 2, 4, 3, 6, 1, 4, 3, 5, 1, 6, 3, 5, 5, 6, 6, 1, 6, 5, 4, 5, 1, 2, 1, 4, 1, 3, 5, 1, 3, 5, 5, 3, 4, 6, 5, 5, 3, 3, 6, 4, 5, 6, 5, 2, 1, 2, 5, 5, 1, 5, 4, 3, 6, 6, 2, 2, 3, 2, 6, 5, 1, 3, 5, 2, 2, 4, 2, 6, 2, 5, 2, 4, 4, 6, 5, 6, 6, 2, 2, 6, 6, 5, 4, 4, 3, 5, 3, 1, 5, 5, 2, 2, 5, 4, 5, 5, 1, 1, 5, 5, 1, 4, 1, 5, 2, 5, 3, 4, 4, 2, 3, 3, 5, 4, 3, 2, 2, 2, 6, 3, 5, 3, 3, 6, 3, 2, 6, 4, 2, 2, 5, 5, 4, 5, 3, 1, 6, 6, 2, 1, 3, 1, 5, 2, 5, 4, 5, 6, 3, 6, 5, 6, 6, 6, 4, 2, 6, 1, 3, 3, 2, 6, 6, 2, 6, 4, 5, 1, 3, 2, 4, 4, 3, 5, 6, 1, 3, 1, 1, 1, 4, 3, 6, 4, 1, 2, 1, 1, 3, 1, 3, 4, 5, 1, 5, 4, 2, 5, 4, 2, 2, 4, 2, 3, 5, 2, 4, 2, 3, 1, 4, 4, 6, 3, 3, 4, 3, 6, 2, 6, 5, 3, 1, 2, 5, 5, 4, 3, 3, 6, 5, 1, 6, 6, 1, 6, 3, 3, 5, 6, 5, 3, 4, 6, 4, 1, 6, 1, 4, 1, 6, 6, 5, 1, 3, 4, 4, 6, 5, 1, 3, 2, 6, 1, 1, 4, 3, 2, 4, 6, 3, 4, 1, 6, 2, 2, 4, 3, 2, 1, 6, 5, 6, 5, 3, 4, 3, 2, 3, 6, 5, 1, 2, 4, 4, 5, 1, 6, 2, 1, 6, 6, 4, 4, 4, 6, 6, 3, 1, 1, 5, 5, 2, 3, 6, 1, 2, 3, 1, 3, 1, 3, 4, 3, 4, 4, 6, 4, 5, 2, 3, 4, 6, 5, 6, 6, 3, 5, 3, 4, 6, 6, 6, 1, 4, 1, 4, 2, 2, 3, 6, 1, 2, 3, 3, 2, 1, 6, 4, 6, 1, 3, 3, 6, 4, 3, 4, 6, 1, 3, 1, 3, 2, 3, 3, 1, 3, 3, 4, 5, 6, 2, 4, 2, 4, 3, 3, 1, 3, 1, 5, 2, 3, 1, 6, 4, 4, 1, 5, 2, 5, 2, 5, 3, 4, 4, 5, 6, 5, 1, 6, 3, 3, 1, 1, 1, 5, 2, 3, 2, 1, 6, 5, 3, 1, 3, 6, 2, 5, 3, 3, 3, 4, 5, 5, 2, 6, 1, 6, 3, 4, 6, 5, 1, 2, 4, 3, 4, 4, 1, 1, 4, 5, 2, 4, 2, 4, 1, 5, 4, 6, 1, 2, 5, 1, 4, 3, 5, 2, 3, 6, 5, 3, 3, 1, 1, 5, 1, 5, 3, 3, 5, 1, 4, 3, 1, 1, 5, 5, 3, 5, 2, 2, 5, 6, 1, 2, 2, 1, 6, 1, 6, 1, 5, 2, 5, 2, 3, 4, 1, 6, 1, 3, 4, 5, 6, 1, 2, 1, 1, 5, 2, 3, 6, 5, 6, 2, 6, 4, 2, 3, 4, 5, 4, 6, 1, 6, 2, 3, 3, 2, 6, 4, 5, 2, 6, 5, 3, 3, 1, 6, 1, 6, 3, 3, 6, 3, 3, 1, 5, 1, 1, 5, 4, 4, 3, 5, 2, 3, 2, 2, 5, 2, 6, 3, 5, 3, 1, 5, 6, 1, 5, 6, 6, 6, 6, 5, 5, 4, 5, 3, 4, 6, 2, 1, 1, 1, 4, 2, 5, 2, 1, 5, 4, 1, 2, 4, 1, 6, 1, 3, 2, 1, 6, 6, 6, 5, 2, 1, 6, 1, 6, 2, 6, 6, 5, 3, 5, 6, 5, 2, 4, 1, 6, 6, 4, 6, 2, 3, 2, 2, 5, 2, 1, 2, 5, 4, 3, 6, 4, 6, 1, 4, 6, 5, 1, 3, 4, 1, 5, 6, 1, 1, 3, 1, 2, 1, 6, 3, 5, 5, 6, 2, 4, 2, 5, 6, 6, 5, 1, 2, 5, 5, 1, 3, 1, 2, 4, 2, 1, 1, 4, 6, 3, 3, 1, 3, 6, 1, 5, 6, 6, 3, 5, 6, 4, 3, 2, 3, 1, 1, 4, 1, 1, 5, 3, 2, 5, 3, 6, 2, 5, 1, 1, 6, 1, 5, 6, 3, 6, 3, 4, 5, 6, 3, 2, 4, 5, 3, 6, 3, 1, 5, 3, 4, 3, 3, 4, 3, 2, 4, 2, 2, 4, 1, 6, 4, 5, 3, 1, 5, 6, 2, 1, 3, 6, 6, 5, 6, 4, 1, 3, 1, 5, 3, 1, 6, 1, 4, 6, 3, 3, 2, 1, 1, 2, 4, 3, 5, 5, 4, 5, 3, 5, 5, 5, 4, 1, 3, 3, 6, 6, 2, 6, 2, 2, 6, 1, 2, 5, 1, 5, 4, 2, 5, 4, 1, 5, 5, 3, 3, 3, 2, 3, 3, 1, 4, 4, 2, 5, 2, 5, 4, 3, 6, 4, 4, 4, 5, 2, 5, 3, 6, 3, 4, 2, 3, 6, 6, 5, 1, 6, 5, 3, 3, 4, 4, 5, 1, 3, 2, 1, 1, 5, 3, 2, 2, 1, 3, 5, 6, 5, 1, 2, 5, 5, 4, 4, 2, 1, 2, 1, 3, 4, 4, 5, 1, 4, 4, 1, 5, 6, 6, 2, 4, 3, 5, 1, 3, 3, 5, 2, 2, 1, 4, 2, 1, 1, 5, 4, 3, 1, 4, 4, 4, 1, 3, 1, 3, 6, 3, 3, 2, 1, 5, 1, 3, 3, 3, 5, 1, 2, 3, 4, 1, 1, 5, 1, 5, 1, 6, 1, 6, 2, 3, 4, 5, 4, 1, 1, 1, 2, 4, 4, 2, 3, 4, 1, 3, 2, 1, 1, 4, 2, 4, 4, 4, 6, 5, 3, 4, 1, 1, 5, 3, 1, 6, 4, 4, 4, 6, 2, 3, 5, 6, 4, 6, 6, 3, 3, 4, 6, 2, 2, 1, 2, 1, 1, 2, 3, 2, 6, 3, 2, 3, 2, 3, 1, 3, 3, 1, 6, 1, 3, 2, 6, 4, 4, 2, 3, 3, 3, 4, 1, 3, 6, 2, 4, 6, 6, 2, 5, 4, 4, 2, 6, 6, 6, 5, 3, 5, 6, 4, 2, 6, 2, 4, 4, 3, 1, 1, 3, 2, 2, 5, 3, 1, 5, 1, 3, 1, 3, 1, 2, 2, 4, 2, 1, 6, 6, 5, 1, 3, 2, 2, 3, 3, 4, 2, 1, 3, 4, 2, 4, 1, 2, 6, 3, 6, 6, 4, 6, 2, 5, 3, 2, 2, 6, 4, 4, 4, 5, 5, 2, 1, 1, 3, 4, 3, 2, 5, 1, 6, 1, 1, 2, 3, 1, 2, 2, 6, 6, 4, 5, 1, 6, 6, 6, 5, 2, 5, 4, 2, 5, 1, 2, 2, 5, 6, 3, 4, 3, 4, 5, 4, 3, 3, 6, 2, 4, 4, 3, 4, 5, 3, 2, 1, 1, 5, 6, 1, 5, 3, 3, 3, 3, 6, 5, 4, 5, 5, 2, 2, 3, 3, 1, 4, 6, 1, 3, 4, 2, 3, 2, 6, 5, 4, 6, 2, 3, 4, 2, 1, 3, 3, 1, 3, 5, 1, 3, 6, 5, 1, 1, 2, 6, 4, 6, 4, 6, 5, 1, 2, 1, 4, 2, 2, 6, 6, 2, 4, 3, 2, 3, 6, 5, 6, 4, 6, 1, 6, 4, 2, 2, 3, 5, 2, 2, 5, 5, 6, 3, 3, 3, 3, 6, 2, 1, 3, 1, 1, 2, 3, 5, 3, 5, 5, 1, 4, 5, 1, 3, 6, 6, 4, 2, 3, 4, 1, 5, 5, 1, 3, 1, 1, 3, 1, 5, 5, 4, 6, 4, 6, 2, 2, 2, 1, 6, 5, 3, 5, 2, 5, 2, 4, 6, 6, 2, 4, 5, 1, 5, 5, 6, 1, 1, 2, 6, 5, 5, 6, 4, 1, 2, 3, 5, 2, 2, 1, 3, 1, 1, 5, 1, 4, 4, 4, 1, 6, 5, 1, 2, 6, 2, 6, 3, 2, 5, 1, 2, 5, 4, 3, 2, 6, 4, 2, 6, 4, 2, 2, 4, 4, 6, 2, 3, 4, 2, 6, 5, 1, 6, 2, 1, 3, 5, 3, 2, 3, 5, 1, 2, 3, 3, 5, 6, 2, 5, 4, 2, 3, 4, 3, 5, 5, 1, 5, 6, 1, 2, 5, 5, 5, 3, 5, 6, 2, 4, 3, 1, 4, 2, 2, 3, 4, 1, 5, 5, 2, 5, 5, 5, 2, 1, 4, 5, 1, 2, 4, 3, 5, 6, 4, 2, 6, 2, 6, 5, 4, 3, 1, 4, 6, 4, 4, 5, 5, 4, 5, 6, 2, 3, 1, 6, 1, 4, 5, 5, 5, 3, 5, 3, 6, 1, 2, 1, 4, 1, 2, 3, 3, 3, 2, 2, 6, 3, 5, 4, 2, 4, 1, 6, 5, 1, 4, 4, 2, 4, 2, 2, 4, 6, 5, 5, 5, 6, 1, 5, 5, 1, 1, 3, 3, 2, 2, 5, 1, 3, 6, 2, 6, 1, 5, 3, 4, 4, 5, 5, 4, 5, 6, 3, 6, 3, 3, 4, 2, 3, 1, 5, 4, 3, 2, 4, 6, 6, 4, 3, 5, 3, 2, 3, 2, 2, 1, 3, 2, 2, 5, 2, 4, 1, 1, 5, 6, 2, 4, 3, 4, 5, 1, 4, 4, 3, 3, 1, 6, 4, 4, 6, 4, 2, 1, 5, 1, 5, 2, 1, 2, 5, 4, 4, 2, 3, 6, 5, 1, 4, 5, 6, 1, 5, 6, 2, 5, 4, 4, 6, 5, 2, 4, 4, 3, 4, 4, 3, 4, 6, 3, 1, 1, 1, 1, 1, 1, 3, 4, 2, 1, 3, 4, 4, 6, 2, 3, 1, 5, 5, 2, 2, 3, 4, 2, 6, 6, 2, 3, 2, 4, 2, 2, 4, 5, 3, 4, 3, 5, 3, 3, 5, 6, 5, 4, 3, 2, 1, 2, 6, 2, 3, 3, 3, 6, 5, 5, 5, 5, 3, 3, 1, 1, 2, 1, 6, 4, 2, 6, 1, 4, 4, 3, 2, 5, 5, 5, 6, 3, 1, 1, 4, 1, 6, 5, 4, 1, 3, 1, 1, 1, 5, 6, 4, 6, 6, 4, 4, 4, 5, 4, 3, 6, 6, 5, 5, 5, 6, 6, 3, 6, 1, 6, 3, 2, 2, 5, 3, 5, 2, 1, 5, 5, 5, 6, 6, 2, 1, 5, 6, 5, 6, 6, 2, 4, 6, 6, 4, 6, 2, 6, 3, 3, 6, 4, 3, 6, 1, 3, 5, 4, 5, 1, 1, 2, 5, 2, 1, 1, 6, 3, 5, 2, 3, 5, 5, 5, 2, 5, 6, 2, 5, 4, 4, 2, 6, 4, 4, 2, 4, 6, 6, 3, 2, 1, 5, 5, 6, 6, 3, 4, 5, 4, 3, 1, 2, 6, 2, 1, 4, 1, 5, 6, 5, 5, 1, 5, 6, 5, 6, 3, 5, 1, 1, 6, 1, 6, 1, 2, 4, 1, 2, 3, 4, 3, 3, 5, 2, 6, 1, 1, 2, 4, 3, 3, 2, 6, 2, 6, 5, 3, 3, 1, 4, 3, 5, 3, 6, 4, 6, 5, 1, 2, 4, 3, 2, 2, 1, 6, 4, 3, 4, 6, 6, 4, 4, 1, 5, 5, 3, 2, 5, 4, 6, 2, 2, 4, 4, 4, 2, 4, 3, 5, 2, 5, 5, 2, 1, 3, 6, 2, 3, 5, 3, 1, 5, 6, 5, 2, 6, 2, 3, 3, 3, 2, 2, 6, 4, 1, 2, 2, 2, 1, 6, 3, 3, 6, 5, 4, 1, 3, 6, 3, 3, 6, 2, 1, 5, 1, 1, 4, 6, 6, 6, 2, 1, 6, 6, 2, 5, 4, 2, 2, 5, 5, 4, 4, 4, 4, 6, 1, 6, 4, 6, 4, 1, 2, 6, 4, 1, 5, 4, 1, 4, 6, 2, 3, 6, 2, 4, 2, 4, 1, 6, 4, 3, 6, 6, 4, 2, 3, 3, 6, 1, 6, 3, 5, 1, 1, 2, 4, 4, 3, 6, 3, 6, 4, 4, 6, 6, 5, 2, 4, 5, 3, 2, 3, 3, 4, 3, 4, 2, 4, 5, 4, 5, 6, 1, 3, 5, 5, 5, 2, 2, 2, 2, 3, 4, 1, 6, 2, 3, 3, 1, 5, 5, 1, 1, 1, 3, 6, 4, 5, 3, 4, 4, 4, 4, 5, 4, 3, 5, 5, 6, 6, 1, 4, 3, 3, 5, 4, 6, 5, 4, 6, 1, 2, 6, 3, 5, 2, 5, 1, 5, 6, 2, 5, 5, 1, 5, 6, 1, 5, 6, 3, 1, 2, 6, 1, 5, 3, 3, 6, 1, 5, 1, 1, 5, 2, 3, 5, 5, 3, 4, 6, 3, 3, 1, 2, 4, 2, 1, 1, 4, 4, 5, 6, 4, 3, 2, 4, 2, 6, 4, 3, 2, 4, 3, 4, 3, 1, 5, 4, 3, 1, 5, 2, 4, 4, 2, 2, 1, 4, 4, 2, 1, 1, 2, 5, 4, 2, 2, 2, 1, 1, 1, 4, 5, 6, 5, 4, 5, 1, 5, 6, 2, 2, 1, 2, 5, 4, 4, 3, 1, 5, 4, 4, 3, 1, 6, 6, 2, 4, 6, 3, 3, 5, 4, 5, 6, 1, 6, 3, 6, 5, 3, 3, 4, 2, 1, 6, 4, 4, 5, 3, 3, 2, 6, 1, 6, 4, 4, 4, 1, 1, 2, 3, 1, 1, 2, 4, 2, 4, 3, 5, 5, 2, 2, 3, 4, 1, 2, 3, 6, 5, 3, 3, 6, 1, 2, 3, 1, 5, 4, 6, 3, 1, 6, 1, 4, 3, 3, 3, 2, 3, 3, 2, 6, 1, 6, 6, 5, 5, 1, 4, 3, 4, 5, 3, 3, 5, 1, 5, 4, 3, 4, 2, 4, 5, 3, 1, 3, 6, 2, 4, 5, 2, 3, 2, 4, 6, 2, 4, 3, 2, 4, 1, 2, 1, 4, 2, 2, 6, 4, 4, 1, 6, 6, 4, 2, 5, 1, 6, 5, 5, 4, 1, 6, 3, 3, 3, 1, 5, 3, 4, 5, 5, 5, 2, 6, 5, 4, 4, 2, 1, 4, 4, 2, 4, 3, 2, 1, 4, 3, 6, 5, 5, 3, 1, 1, 4, 6, 4, 4, 2, 2, 1, 3, 4, 5, 2, 2, 3, 1, 1, 3, 6, 2, 5, 5, 4, 2, 2, 4, 4, 2, 4, 4, 5, 6, 2, 5, 3, 4, 5, 2, 3, 6, 1, 6, 6, 6, 3, 6, 2, 2, 2, 6, 6, 5, 3, 1, 6, 1, 1, 1, 6, 2, 1, 6, 4, 4, 3, 6, 2, 2, 5, 3, 6, 3, 6, 4, 1, 5, 2, 5, 2, 5, 1, 6, 2, 4, 6, 4, 4, 3, 2, 6, 3, 1, 1, 6, 3, 3, 4, 3, 5, 4, 6, 3, 2, 6, 4, 5, 3, 5, 1, 2, 3, 1, 1, 5, 4, 6, 6, 2, 4, 6, 2, 4, 1, 4, 6, 2, 3, 3, 1, 4, 1, 5, 6, 6, 1, 3, 6, 5, 1, 6, 6, 1, 4, 4, 4, 5, 2, 6, 2, 6, 5, 4, 6, 4, 3, 4, 4, 6, 5, 5, 4, 4, 4, 6, 3, 2, 4, 6, 6, 1, 3, 1, 4, 6, 5, 5, 6, 3, 5, 2, 2, 2, 1, 6, 1, 1, 3, 3, 4, 4, 5, 4, 6, 3, 3, 3, 4, 2, 1, 5, 1, 4, 3, 2, 2, 4, 2, 6, 4, 6, 4, 4, 1, 1, 6, 1, 4, 3, 1, 5, 5, 4, 3, 5, 3, 6, 2, 5, 5, 4, 2, 1, 4, 1, 1, 4, 5, 2, 2, 1, 2, 6, 2, 1, 3, 6, 5, 5, 2, 2, 4, 4, 4, 1, 1, 3, 5, 2, 3, 1, 3, 2, 6, 2, 4, 1, 4, 3, 3, 4, 1, 4, 5, 6, 4, 2, 3, 5, 4, 6, 6, 1, 5, 2, 5, 2, 4, 6, 3, 1, 6, 4, 2, 5, 3, 2, 1, 4, 1, 4, 6, 1, 4, 4, 4, 2, 5, 2, 2, 3, 6, 2, 5, 6, 4, 6, 4, 6, 5, 5, 6, 1, 5, 1, 5, 4, 3, 2, 1, 3, 3, 3, 1, 5, 2, 1, 6, 4, 4, 5, 4, 5, 2, 1, 1, 2, 6, 5, 5, 3, 3, 6, 1, 4, 5, 1, 3, 3, 3, 3, 3, 3, 4, 6, 2, 5, 6, 2, 6, 1, 6, 6, 5, 5, 6, 6, 2, 3, 3, 3, 5, 2, 3, 2, 5, 3, 2, 2, 5, 6, 4, 1, 4, 4, 2, 3, 6, 6, 1, 2, 6, 5, 4, 4, 5, 5, 5, 4, 2, 2, 3, 3, 3, 5, 5, 2, 1, 4, 4, 4, 4, 5, 3, 6, 3, 1, 5, 5, 3, 2, 1, 5, 1, 1, 1, 5, 1, 6, 3, 4, 3, 6, 6, 1, 5, 4, 1, 1, 5, 4, 1, 4, 6, 3, 4, 4, 1, 3, 6, 4, 3, 6, 1, 3, 5, 6, 1, 3, 5, 3, 4, 3, 5, 1, 1, 6, 3, 6, 1, 2, 3, 1, 5, 1, 4, 6, 4, 2, 4, 6, 4, 4, 6, 1, 1, 2, 5, 5, 4, 1, 4, 2, 2, 2, 2, 2, 2, 6, 6, 5, 6, 1, 3, 1, 1, 3, 4, 1, 3, 3, 1, 4, 2, 2, 2, 3, 4, 4, 2, 4, 1, 2, 6, 2, 4, 2, 6, 2, 1, 1, 5, 2, 6, 3, 5, 4, 6, 2, 4, 4, 6, 6, 3, 3, 6, 5, 5, 5, 3, 5, 5, 2, 2, 1, 4, 1, 3, 2, 2, 3, 4, 4, 2, 2, 2, 3, 5, 3, 3, 5, 6, 2, 2, 3, 5, 2, 6, 6, 3, 2, 3, 1, 3, 3, 6, 5, 3, 1, 6, 1, 4, 4, 5, 5, 6, 4, 2, 5, 3, 4, 5, 5, 6, 3, 6, 3, 5, 6, 4, 3, 5, 3, 6, 2, 1, 4, 6, 1, 3, 6, 1, 5, 6, 4, 2, 3, 2, 3, 3, 3, 3, 6, 1, 6, 4, 5, 1, 2, 6, 6, 6, 5, 6, 3, 4, 1, 3, 4, 1, 6, 6, 6, 3, 6, 3, 6, 5, 4, 1, 6, 4, 5, 4, 5, 1, 6, 4, 3, 1, 2, 2, 4, 2, 2, 5, 1, 3, 3, 6, 5, 2, 3, 5, 4, 1, 6, 3, 2, 6, 3, 1, 1, 1, 6, 3, 5, 1, 2, 3, 1, 6, 6, 3, 4, 4, 6, 4, 6, 6, 1, 3, 2, 6, 2, 6, 1, 2, 1, 3, 5, 2, 2, 6, 2, 5, 5, 2, 6, 2, 5, 1, 3, 2, 4, 4, 3, 1, 3, 4, 6, 3, 1, 1, 6, 5, 5, 5, 3, 4, 3, 2, 4, 6, 4, 2, 3, 5, 4, 5, 2, 2, 6, 5, 1, 6, 5, 5, 3, 4, 3, 2, 3, 3, 2, 5, 3, 6, 4, 6, 6, 2, 2, 6, 2, 4, 6, 5, 2, 3, 5, 3, 3, 5, 1, 3, 5, 2, 1, 3, 2, 2, 2, 3, 1, 6, 6, 6, 6, 6, 3, 4, 1, 5, 5, 6, 3, 2, 3, 6, 6, 6, 6, 1, 6, 1, 6, 3, 4, 1, 6, 1, 4, 4, 3, 3, 2, 5, 4, 2, 3, 6, 3, 6, 5, 6, 6, 3, 6, 2, 3, 2, 4, 5, 3, 3, 6, 6, 6, 5, 2, 5, 2, 1, 4, 5, 6, 3, 6, 2, 4, 2, 2, 2, 6, 5, 1, 5, 1, 1, 3, 1, 2, 6, 2, 3, 5, 1, 3, 4, 2, 3, 4, 1, 5, 1, 6, 6, 3, 2, 1, 3, 1, 5, 6, 3, 3, 2, 6, 4, 6, 3, 6, 6, 5, 5, 5, 3, 1, 1, 1, 5, 3, 1, 1, 4, 4, 6, 2, 1, 3, 5, 4, 2, 1, 2, 4, 3, 3, 4, 4, 4, 5, 6, 1, 4, 1, 4, 4, 1, 3, 1, 2, 4, 1, 1, 1, 3, 2, 2, 6, 3, 6, 6, 2, 5, 2, 1, 4, 2, 4, 6, 2, 2, 1, 1, 5, 4, 1, 1, 1, 4, 3, 3, 4, 3, 5, 6, 5, 5, 5, 4, 2, 2, 5, 1, 6, 2, 5, 5, 2, 4, 1, 2, 1, 1, 4, 3, 5, 4, 1, 1, 1, 3, 1, 2, 1, 3, 1, 5, 6, 3, 2, 6, 5, 4, 3, 6, 1, 4, 3, 1, 5, 3, 5, 6, 5, 2, 1, 3, 1, 5, 5, 1, 2, 1, 5, 6, 5, 4, 1, 6, 1, 4, 6, 5, 1, 4, 4, 1, 1, 3, 4, 1, 4, 6, 4, 4, 6, 3, 5, 4, 6, 6, 6, 1, 1, 1, 3, 5, 1, 3, 3, 2, 5, 4, 1, 1, 3, 2, 2, 3, 6, 5, 1, 1, 3, 1, 2, 2, 4, 5, 4, 2, 1, 1, 2, 2, 3, 6, 3, 3, 3, 4, 5, 2, 3, 6, 1, 1, 5, 1, 4, 5, 6, 4, 5, 2, 2, 4, 1, 2, 2, 1, 4, 2, 2, 5, 2, 5, 1, 3, 6, 2, 2, 1, 2, 4, 1, 6, 5, 6, 6, 1, 4, 5, 4, 1, 2, 3, 4, 2, 5, 1, 6, 1, 5, 3, 6, 4, 4, 2, 3, 2, 5, 3, 3, 1, 2, 2, 2, 1, 4, 4, 2, 4, 6, 3, 5, 6, 2, 2, 2, 4, 2, 2, 2, 2, 1, 2, 2, 1, 1, 2, 4, 5, 6, 1, 2, 5, 6, 3, 5, 5, 6, 3, 5, 5, 1, 6, 4, 1, 2, 2, 1, 4, 1, 3, 1, 1, 4, 3, 4, 3, 6, 3, 5, 2, 5, 5, 4, 2, 3, 2, 5, 2, 4, 4, 2, 5, 4, 6, 2, 5, 4, 5, 6, 6, 2, 3, 6, 4, 5, 5, 4, 5, 5, 1, 6, 1, 4, 6, 5, 6, 3, 1, 4, 6, 6, 1, 4, 1, 4, 5, 2, 5, 5, 4, 2, 5, 1, 2, 3, 4, 5, 2, 3, 6, 2, 5, 2, 5, 5, 2, 6, 6, 6, 4, 4, 1, 6, 5, 4, 2, 5, 4, 4, 4, 5, 2, 1, 6, 5, 6, 4, 6, 3, 1, 1, 6, 1, 3, 2, 1, 3, 1, 5, 4, 5, 4, 1, 6, 1, 6, 6, 5, 5, 3, 6, 6, 1, 6, 6, 3, 4, 4, 3, 4, 5, 6, 2, 1, 6, 5, 5, 1, 6, 1, 4, 6, 6, 1, 6, 2, 1, 2, 5, 6, 3, 3, 4, 4, 1, 5, 1, 2, 1, 4, 3, 1, 2, 2, 3, 5, 2, 2, 4, 2, 4, 2, 2, 4, 3, 1, 1, 4, 6, 6, 5, 1, 6, 6, 1, 5, 6, 2, 1, 4, 5, 1, 1, 4, 1, 4, 3, 3, 5, 6, 6, 4, 6, 5, 1, 2, 2, 6, 3, 3, 5, 2, 1, 4, 3, 6, 2, 1, 4, 4, 5, 4, 2, 1, 4, 4, 1, 1, 3, 4, 2, 1, 3, 1, 1, 6, 2, 1, 3, 4, 5, 3, 1, 3, 4, 1, 1, 6, 3, 2, 3, 3, 4, 2, 3, 6, 2, 3, 6, 4, 4, 1, 1, 6, 5, 1, 3, 1, 1, 4, 3, 2, 4, 4, 3, 5, 4, 2, 1, 3, 4, 1, 4, 6, 6, 1, 4, 5, 2, 6, 5, 1, 6, 4, 5, 2, 2, 6, 4, 2, 2, 3, 5, 1, 6, 6, 2, 4, 3, 6, 3, 3, 1, 6, 5, 2, 6, 3, 6, 3, 4, 2, 4, 5, 3, 3, 1, 6, 6, 3, 2, 1, 5, 3, 5, 1, 2, 1, 3, 2, 1, 3, 6, 4, 1, 4, 5, 6, 5, 2, 3, 4, 1, 2, 5, 2, 5, 6, 4, 6, 6, 5, 5, 3, 4, 4, 6, 2, 3, 1, 5, 5, 2, 5, 6, 4, 3, 3, 4, 6, 6, 6, 2, 3, 5, 2, 1, 1, 3, 5, 1, 6, 1, 2, 3, 4, 4, 1, 5, 3, 2, 3, 3, 5, 6, 6, 1, 3, 6, 1, 6, 2, 1, 6, 4, 5, 5, 2, 1, 5, 5, 5, 2, 6, 4, 5, 5, 1, 5, 6, 5, 3, 3, 2, 2, 1, 3, 4, 3, 1, 4, 4, 2, 5, 6, 1, 3, 5, 3, 2, 1, 2, 4, 1, 5, 6, 4, 3, 3, 3, 6, 4, 6, 5, 3, 1, 3, 3, 6, 3, 3, 5, 4, 4, 5, 5, 3, 6, 3, 2, 6, 3, 1, 2, 4, 6, 6, 2, 4, 5, 6, 6, 3, 2, 5, 3, 5, 6, 4, 6, 2, 4, 5, 6, 4, 6, 1, 4, 1, 4, 1, 4, 3, 4, 1, 6, 6, 5, 1, 1, 3, 6, 6, 3, 4, 6, 4, 4, 3, 4, 3, 5, 6, 3, 5, 4, 2, 3, 6, 4, 2, 4, 5, 3, 4, 5, 6, 3, 4, 6, 4, 1, 2, 5, 4, 3, 1, 4, 1, 4, 3, 5, 5, 6, 4, 6, 6, 6, 2, 2, 2, 3, 5, 3, 3, 4, 6, 1, 4, 2, 5, 6, 2, 1, 6, 3, 3, 3, 4, 2, 3, 1, 5, 5, 6, 3, 4, 2, 6, 5, 6, 1, 5, 4, 6, 2, 3, 3, 2, 1, 6, 1, 2, 5, 5, 1, 6, 6, 2, 1, 5, 2, 5, 6, 3, 2, 2, 2, 2, 3, 2, 3, 1, 4, 6, 5, 3, 1, 5, 2, 2, 6, 3, 1, 2, 3, 6, 4, 5, 3, 4, 4, 1, 1, 4, 3, 2, 2, 3, 3, 4, 1, 6, 4, 6, 4, 4, 1, 3, 2, 3, 6, 5, 1, 2, 3, 5, 3, 4, 1, 4, 2, 1, 5, 5, 2, 2, 4, 3, 4, 5, 4, 6, 2, 2, 5, 3, 2, 5, 6, 4, 4, 6, 2, 4, 1, 5, 1, 1, 6, 5, 5, 3, 1, 4, 1, 6, 2, 3, 2, 4, 4, 5, 5, 2, 6, 3, 5, 4, 5, 3, 2, 3, 3, 5, 4, 6, 3, 2, 3, 2, 6, 2, 2, 5, 5, 3, 1, 2, 1, 1, 5, 2, 2, 5, 2, 1, 3, 2, 3, 3, 6, 5, 4, 4, 5, 3, 6, 2, 3, 4, 3, 3, 1, 1, 2, 6, 5, 3, 6, 5, 2, 6, 2, 2, 5, 1, 6, 1, 6, 5, 3, 4, 6, 3, 3, 4, 2, 5, 2, 1, 3, 3, 1, 1, 1, 5, 4, 5, 3, 5, 2, 3, 2, 1, 1, 1, 6, 5, 6, 5, 6, 4, 4, 1, 1, 4, 6, 6, 1, 5, 1, 6, 5, 5, 2, 6, 6, 5, 1, 1, 5, 2, 4, 2, 6, 4, 5, 3, 3, 5, 1, 3, 5, 5, 2, 6, 3, 3, 6, 6, 2, 2, 4, 6, 1, 5, 3, 3, 6, 4, 1, 1, 5, 6, 3, 4, 2, 1, 5, 6, 3, 5, 1, 1, 6, 2, 1, 3, 6, 4, 2, 4, 1, 1, 6, 4, 4, 4, 4, 5, 5, 3, 6, 1, 4, 3, 3, 3, 3, 6, 2, 6, 4, 3, 3, 5, 6, 6, 5, 3, 5, 1, 6, 3, 1, 6, 5, 4, 5, 3, 4, 5, 6, 1, 2, 1, 6, 6, 6, 6, 6, 4, 2, 4, 1, 1, 4, 2, 5, 1, 4, 2, 2, 4, 2, 2, 6, 1, 6, 4, 3, 4, 5, 2, 1, 2, 2, 6, 5, 6, 2, 3, 6, 4, 3, 6, 3, 4, 3, 6, 4, 4, 2, 5, 4, 4, 4, 6, 6, 2, 6, 4, 6, 5, 2, 5, 4, 2, 1, 5, 5, 2, 5, 5, 5, 4, 1, 3, 3, 3, 2, 2, 6, 5, 4, 4, 5, 1, 3, 6, 6, 2, 4, 1, 3, 4, 2, 2, 3, 1, 6, 1, 2, 6, 3, 6, 2, 6, 6, 2, 5, 1, 1, 3, 5, 1, 6, 6, 1, 5, 3, 3, 2, 2, 4, 3, 5, 6, 2, 2, 6, 1, 6, 5, 2, 3, 1, 6, 3, 6, 5, 6, 1, 4, 1, 2, 1, 3, 4, 2, 5, 1, 1, 1, 3, 4, 1, 3, 3, 4, 5, 1, 1, 4, 5, 1, 6, 3, 5, 4, 3, 4, 6, 6, 1, 5, 1, 2, 4, 3, 4, 4, 4, 2, 6, 4, 4, 3, 4, 5, 4, 4, 6, 4, 6, 5, 6, 4, 3, 3, 5, 5, 5, 2, 1, 1, 5, 3, 4, 6, 5, 4, 3, 2, 6, 4, 2, 1, 2, 5, 2, 3, 6, 1, 3, 4, 5, 1, 3, 5, 3, 6, 6, 1, 2, 4, 5, 2, 2, 6, 6, 2, 6, 1, 5, 5, 2, 4, 6, 4, 3, 4, 2, 6, 4, 5, 1, 6, 3, 2, 3, 6, 5, 6, 4, 6, 5, 4, 5, 1, 4, 2, 1, 5, 2, 6, 3, 2, 2, 3, 6, 6, 5, 3, 2, 1, 2, 1, 6, 1, 6, 3, 4, 1, 4, 6, 6, 3, 5, 2, 3, 5, 5, 1, 3, 6, 1, 4, 2, 5, 3, 5, 2, 3, 2, 1, 6, 4, 6, 2, 2, 4, 1, 6, 4, 3, 6, 1, 5, 2, 2, 2, 4, 1, 1, 5, 3, 4, 3, 1, 3, 6, 6, 5, 4, 2, 1, 6, 4, 4, 4, 6, 4, 3, 5, 6, 4, 1, 4, 1, 3, 4, 1, 5, 6, 6, 2, 4, 6, 5, 5, 1, 1, 5, 3, 1, 5, 1, 1, 2, 3, 2, 3, 5, 3, 3, 6, 6, 1, 4, 2, 6, 5, 3, 4, 1, 4, 2, 6, 3, 5, 2, 6, 5, 3, 4, 1, 2, 1, 3, 5, 6, 4, 4, 3, 2, 4, 3, 2, 4, 1, 5, 6, 3, 4, 1, 1, 3, 1, 3, 4, 2, 1, 3, 5, 2, 1, 4, 6, 4, 5, 1, 3, 6, 5, 1, 1, 4, 2, 2, 6, 4, 3, 4, 1, 3, 3, 1, 5, 4, 2, 3, 1, 6, 1, 3, 4, 3, 3, 5, 3, 2, 2, 6, 5, 2, 4, 5, 4, 1, 4, 3, 6, 6, 5, 5, 2, 6, 3, 1, 2, 6, 3, 2, 1, 2, 1, 1, 4, 6, 2, 1, 4, 3, 6, 4, 5, 4, 6, 1, 3, 6, 1, 3, 3, 2, 4, 1, 1, 3, 4, 6, 2, 4, 1, 5, 5, 5, 4, 6, 2, 5, 3, 4, 2, 2, 5, 6, 2, 4, 5, 1, 1, 5, 4, 2, 4, 1, 3, 4, 4, 6, 4, 4, 5, 4, 4, 1, 3, 6, 1, 3, 3, 1, 6, 1, 1, 2, 2, 3, 3, 6, 6, 3, 4, 4, 5, 3, 6, 2, 4, 6, 6, 1, 1, 3, 4, 2, 1, 3, 5, 2, 5, 2, 2, 1, 6, 6, 6, 4, 1, 2, 5, 5, 2, 5, 1, 5, 1, 2, 2, 4, 2, 1, 3, 1, 2, 5, 1, 5, 6, 4, 6, 6, 4, 3, 3, 1, 1, 3, 6, 2, 5, 6, 6, 1, 2, 4, 3, 6, 5, 5, 3, 6, 5, 2, 6, 4, 4, 4, 2, 3, 3, 1, 4, 5, 5, 6, 1, 6, 2, 6, 4, 2, 3, 6, 5, 5, 2, 6, 1, 5, 2, 1, 6, 5, 2, 1, 4, 4, 2, 4, 4, 4, 6, 4, 3, 4, 2, 2, 2, 1, 3, 6, 3, 5, 1, 1, 1, 4, 1, 6, 6, 3, 2, 1, 2, 5, 6, 3, 2, 4, 6, 4, 3, 4, 3, 5, 5, 5, 6, 6, 1, 3, 1, 3, 1, 5, 3, 5, 1, 1, 3, 4, 1, 1, 6, 6, 3, 2, 6, 1, 3, 6, 4, 6, 6, 4, 3, 1, 5, 3, 3, 6, 2, 5, 1, 3, 3, 3, 1, 1, 5, 5, 5, 6, 2, 4, 2, 2, 4, 4, 2, 5, 2, 5, 6, 5, 1, 5, 5, 5, 3, 6, 5, 2, 3, 1, 1, 5, 4, 1, 5, 2, 5, 6, 2, 4, 1, 2, 5, 4, 4, 2, 4, 4, 6, 3, 5, 5, 6, 2, 6, 3, 1, 2, 1, 1, 6, 5, 6, 2, 6, 4, 3, 6, 3, 5, 1, 2, 4, 5, 1, 5, 4, 5, 4, 2, 1, 3, 5, 3, 3, 6, 1, 6, 2, 2, 3, 2, 4, 6, 1, 6, 3, 4, 6, 5, 4, 6, 6, 5, 6, 5, 5, 2, 2, 4, 5, 1, 5, 4, 6, 6, 5, 6, 6, 6, 5, 6, 1, 4, 2, 3, 1, 6, 1, 5, 5, 6, 3, 4, 3, 4, 2, 6, 1, 5, 4, 2, 5, 3, 1, 4, 4, 5, 5, 5, 5, 2, 4, 2, 6, 6, 1, 4, 5, 6, 6, 1, 1, 6, 2, 1, 4, 5, 1, 2, 6, 1, 2, 6, 1, 1, 3, 5, 3, 4, 5, 6, 5, 3, 4, 2, 4, 2, 2, 2, 1, 3, 3, 4, 3, 6, 2, 4, 3, 3, 1, 4, 5, 3, 6, 1, 3, 6, 3, 4, 6, 5, 4, 4, 5, 6, 4, 5, 6, 2, 1, 5, 5, 5, 4, 5, 1, 3, 2, 2, 5, 2, 4, 5, 4, 6, 6, 4, 5, 2, 1, 5, 5, 3, 2, 2, 6, 1, 3, 4, 6, 4, 1, 2, 5, 6, 3, 4, 3, 2, 6, 4, 6, 3, 3, 3, 6, 4, 2, 1, 4, 2, 2, 4, 1, 2, 6, 5, 4, 5, 6, 5, 6, 1, 1, 6, 2, 1, 3, 1, 3, 3, 4, 6, 1, 3, 3, 5, 2, 1, 3, 1, 6, 6, 5, 5, 6, 5, 5, 1, 3, 3, 3, 2, 6, 5, 4, 1, 1, 2, 1, 2, 6, 3, 6, 2, 3, 1, 5, 2, 4, 5, 4, 3, 6, 5, 3, 3, 1, 4, 2, 6, 5, 5, 1, 1, 3, 1, 6, 6, 6, 1, 3, 2, 3, 6, 6, 5, 5, 3, 3, 4, 4, 2, 5, 6, 1, 1, 5, 6, 3, 1, 4, 1, 6, 3, 4, 3, 5, 6, 5, 1, 6, 4, 3, 2, 2, 6, 3, 1, 6, 2, 6, 2, 3, 2, 6, 4, 2, 4, 3, 1, 4, 6, 4, 5, 4, 2, 6, 1, 4, 1, 5, 5, 6, 6, 3, 2, 3, 2, 1, 5, 4, 2, 4, 4, 5, 2, 6, 5, 6, 3, 3, 4, 4, 6, 4, 6, 4, 6, 5, 4, 6, 1, 5, 2, 6, 3, 2, 6, 1, 1, 2, 3, 6, 3, 3, 2, 3, 4, 2, 2, 6, 4, 3, 2, 1, 1, 3, 5, 2, 2, 4, 5, 5, 6, 2, 4, 3, 1, 6, 3, 4, 6, 1, 2, 3, 4, 6, 4, 6, 1, 5, 3, 5, 1, 1, 5, 2, 3, 3, 2, 6, 2, 6, 1, 6, 4, 6, 1, 1, 5, 2, 5, 1, 2, 2, 5, 6, 3, 5, 4, 6, 4, 4, 2, 5, 5, 1, 4, 3, 4, 1, 3, 1, 4, 1, 4, 5, 3, 3, 4, 4, 3, 3, 5, 3, 5, 6, 5, 4, 4, 4, 3, 1, 6, 4, 4, 3, 2, 3, 4, 1, 6, 1, 5, 6, 6, 6, 4, 1, 1, 3, 1, 3, 4, 2, 4, 2, 4, 5, 1, 5, 2, 3, 1, 1, 6, 2, 1, 4, 1, 1, 6, 2, 3, 1, 6, 6, 1, 1, 5, 2, 5, 4, 1, 5, 4, 3, 1, 5, 3, 1, 5, 6, 6, 3, 4, 6, 1, 5, 3, 3, 5, 4, 3, 4, 1, 1, 2, 6, 3, 3, 4, 1, 6, 4, 1, 3, 1, 6, 1, 3, 3, 2, 2, 4, 5, 1, 2, 1, 5, 6, 1, 3, 6, 2, 4, 2, 3, 6, 1, 4, 1, 5, 5, 5, 4, 1, 5, 2, 6, 4, 1, 2, 2, 1, 5, 3, 6, 1, 3, 6, 3, 4, 5, 3, 6, 5, 3, 1, 3, 4, 6, 4, 6, 3, 4, 1, 2, 5, 4, 5, 3, 1, 4, 6, 5, 2, 2, 4, 5, 4, 2, 5, 4, 3, 4, 6, 4, 2, 4, 2, 6, 5, 5, 5, 2, 1, 6, 1, 1, 6, 6, 5, 1, 5, 1, 5, 3, 4, 6, 2, 6, 2, 3, 4, 6, 1, 2, 1, 2, 1, 1, 2, 4, 5, 5, 4, 1, 1, 4, 1, 3, 2, 4, 6, 4, 3, 6, 6, 1, 1, 6, 3, 5, 2, 5, 5, 6, 1, 3, 4, 5, 3, 1, 2, 1, 5, 5, 3, 2, 1, 1, 4, 4, 6, 3, 5, 3, 6, 4, 4, 2, 5, 6, 3, 4, 2, 1, 3, 1, 6, 6, 5, 3, 4, 2, 1, 6, 2, 1, 4, 1, 5, 3, 4, 3, 4, 2, 6, 5, 1, 4, 5, 1, 4, 1, 5, 4, 4, 4, 3, 3, 2, 2, 2, 5, 2, 5, 5, 6, 5, 6, 6, 2, 3, 3, 1, 2, 4, 5, 6, 3, 3, 6, 2, 3, 4, 4, 6, 2, 5, 6, 2, 4, 2, 2, 5, 1, 2, 3, 1, 2, 1, 2, 1, 3, 2, 2, 4, 3, 3, 5, 6, 4, 6, 3, 6, 4, 2, 4, 5, 3, 4, 5, 6, 3, 1, 3, 2, 4, 6, 1, 5, 2, 5, 2, 4, 1, 6, 6, 1, 6, 1, 6, 4, 3, 3, 6, 6, 3, 6, 1, 3, 2, 2, 1, 3, 1, 3, 5, 6, 4, 1, 5, 5, 3, 3, 1, 6, 6, 2, 3, 4, 2, 2, 3, 1, 2, 6, 3, 6, 5, 5, 2, 2, 6, 2, 6, 2, 5, 3, 6, 4, 4, 2, 2, 1, 2, 4, 3, 6, 4, 5, 4, 2, 4, 6, 5, 3, 2, 4, 5, 1, 4, 4, 1, 6, 3, 2, 1, 6, 6, 3, 2, 4, 1, 5, 5, 4, 4, 4, 2, 6, 6, 5, 6, 6, 2, 3, 2, 4, 2, 5, 2, 4, 2, 3, 6, 5, 4, 3, 1, 6, 6, 6, 5, 6, 3, 3, 6, 3, 1, 5, 5, 5, 6, 4, 4, 1, 3, 2, 5, 2, 6, 1, 5, 6, 5, 1, 5, 2, 5, 5, 1, 6, 3, 6, 6, 5, 6, 3, 2, 1, 3, 2, 6, 3, 4, 5, 1, 5, 6, 5, 6, 3, 6, 6, 3, 6, 5, 1, 3, 1, 5, 1, 6, 2, 3, 5, 3, 2, 4, 2, 3, 5, 1, 3, 1, 6, 3, 3, 2, 6, 1, 3, 6, 3, 2, 6, 1, 1, 4, 5, 4, 5, 1, 1, 2, 4, 4, 5, 4, 2, 6, 3, 3, 6, 6, 2, 2, 1, 2, 3, 4, 4, 4, 5, 3, 5, 6, 6, 3, 1, 6, 1, 1, 1, 1, 2, 5, 5, 4, 6, 6, 4, 5, 2, 6, 3, 1, 4, 2, 5, 5, 5, 6, 1, 6, 4, 6, 3, 4, 2, 2, 1, 5, 5, 5, 6, 2, 5, 6, 6, 1, 1, 4, 1, 2, 6, 1, 6, 5, 2, 5, 5, 1, 6, 4, 3, 1, 1, 3, 6, 4, 3, 5, 4, 2, 5, 5, 4, 4, 3, 3, 2, 3, 2, 2, 5, 2, 1, 6, 5, 2, 5, 1, 1, 1, 2, 4, 2, 1, 2, 6, 6, 5, 5, 6, 1, 1, 5, 5, 3, 6, 6, 3, 6, 1, 4, 1, 1, 6, 4, 6, 6, 5, 6, 6, 4, 4, 6, 5, 2, 3, 5, 4, 1, 3, 1, 6, 6, 1, 6, 1, 5, 3, 3, 2, 6, 1, 5, 3, 1, 6, 2, 5, 1, 5, 5, 2, 4, 6, 4, 4, 4, 3, 6, 4, 6, 6, 4, 5, 2, 1, 2, 5, 2, 5, 2, 2, 2, 2, 5, 2, 4, 3, 4, 3, 6, 3, 6, 2, 6, 4, 2, 5, 5, 5, 6, 3, 5, 2, 6, 3, 1, 3, 6, 5, 1, 4, 3, 2, 6, 1, 4, 6, 2, 6, 5, 5, 2, 5, 6, 5, 2, 1, 5, 2, 1, 4, 3, 6, 3, 2, 2, 4, 2, 3, 4, 2, 4, 4, 2, 1, 4, 2, 1, 6, 6, 1, 4, 2, 3, 4, 2, 4, 5, 5, 3, 5, 4, 1, 5, 2, 3, 5, 3, 1, 1, 6, 6, 5, 5, 2, 3, 2, 2, 6, 1, 4, 2, 1, 2, 4, 2, 3, 2, 1, 4, 3, 2, 4, 1, 3, 4, 4, 3, 2, 2, 4, 3, 2, 6, 4, 1, 1, 4, 4, 2, 4, 4, 1, 4, 4, 3, 5, 1, 1, 5, 1, 1, 2, 5, 5, 1, 6, 5, 4, 4, 3, 5, 6, 6, 1, 2, 1, 5, 6, 4, 4, 3, 4, 2, 5, 6, 2, 5, 2, 3, 3, 5, 2, 6, 6, 4, 5, 1, 3, 1, 3, 5, 3, 6, 2, 6, 6, 6, 4, 6, 1, 3, 3, 6, 6, 1, 4, 4, 2, 4, 2, 2, 6, 6, 6, 4, 2, 1, 3, 4, 3, 2, 6, 4, 3, 2, 5, 3, 2, 6, 1, 3, 1, 6, 6, 4, 1, 4, 4, 6, 2, 2, 3, 3, 5, 5, 4, 1, 6, 3, 6, 4, 5, 4, 2, 3, 3, 2, 2, 1, 6, 2, 2, 4, 5, 5, 1, 4, 4, 5, 2, 3, 1, 4, 5, 5, 1, 3, 5, 1, 3, 2, 2, 1, 4, 5, 6, 5, 6, 6, 4, 3, 5, 1, 2, 2, 4, 2, 3, 1, 2, 6, 1, 6, 3, 6, 1, 3, 3, 6, 1, 4, 2, 4, 4, 4, 4, 1, 5, 1, 3, 6, 4, 4, 1, 6, 3, 3, 5, 2, 6, 3, 4, 2, 1, 6, 1, 6, 6, 2, 5, 4, 3, 5, 6, 5, 6, 1, 5, 5, 3, 1, 1, 4, 3, 4, 2, 6, 4, 2, 1, 3, 6, 1, 4, 3, 2, 1, 6, 1, 5, 2, 2, 1, 4, 1, 3, 2, 3, 1, 1, 2, 5, 3, 6, 4, 2, 3, 2, 5, 3, 5, 4, 1, 5, 3, 3, 2, 1, 6, 2, 1, 3, 6, 3, 6, 6, 1, 5, 3, 1, 2, 6, 6, 4, 2, 3, 6, 6, 4, 4, 5, 2, 1, 2, 4, 4, 3, 2, 6, 3, 1, 4, 3, 4, 4, 6, 1, 4, 2, 3, 1, 3, 4, 1, 3, 6, 4, 2, 4, 6, 2, 2, 1, 4, 5, 5, 2, 6, 5, 4, 2, 6, 2, 2, 1, 3, 3, 4, 5, 3, 6, 2, 6, 1, 6, 2, 4, 4, 6, 1, 2, 1, 3, 1, 5, 3, 4, 3, 3, 3, 5, 2, 5, 5, 2, 5, 6, 6, 2, 5, 5, 2, 2, 5, 3, 4, 5, 3, 3, 2, 3, 5, 5, 5, 3, 5, 5, 5, 5, 6, 2, 5, 3, 1, 1, 4, 6, 5, 4, 4, 2, 5, 1, 3, 4, 2, 6, 5, 2, 2, 2, 3, 5, 5, 2, 6, 5, 4, 3, 5, 2, 4, 3, 6, 3, 5, 5, 2, 3, 3, 2, 4, 6, 5, 4, 5, 2, 5, 1, 6, 4, 1, 5, 6, 2, 4, 6, 5, 3, 1, 3, 2, 5, 3, 1, 1, 6, 1, 1, 5, 2, 5, 5, 2, 4, 1, 6, 2, 2, 1, 5, 4, 4, 4, 6, 4, 4, 2, 5, 3, 6, 3, 3, 1, 4, 5, 5, 1, 6, 6, 4, 2, 2, 6, 2, 1, 1, 2, 1, 6, 5, 2, 6, 3, 3, 4, 1, 5, 5, 6, 4, 2, 6, 5, 4, 1, 6, 2, 4, 3, 2, 4, 1, 3, 1, 4, 2, 6, 5, 5, 4, 3, 4, 5, 5, 3, 1, 4, 4, 6, 5, 2, 1, 5, 5, 1, 2, 3, 3, 1, 5, 4, 5, 6, 6, 2, 3, 3, 2, 4, 4, 6, 5, 4, 3, 4, 2, 2, 2, 2, 1, 4, 4, 3, 1, 1, 6, 1, 1, 3, 1, 5, 2, 2, 3, 1, 2, 6, 4, 4, 5, 6, 6, 1, 1, 2, 2, 5, 2, 1, 4, 1, 3, 6, 6, 6, 5, 5, 3, 5, 2, 6, 1, 3, 5, 6, 1, 4, 3, 1, 2, 1, 1, 2, 5, 3, 6, 2, 6, 1, 5, 5, 2, 1, 3, 1, 3, 6, 6, 3, 1, 6, 6, 5, 3, 5, 2, 1, 1, 3, 6, 5, 1, 1, 1, 2, 5, 5, 5, 3, 5, 6, 3, 1, 3, 5, 5, 1, 4, 5, 4, 6, 3, 6, 4, 3, 2, 3, 5, 5, 4, 4, 5, 6, 1, 5, 4, 6, 3, 2, 3, 4, 3, 1, 1, 4, 2, 6, 6, 5, 5, 5, 3, 3, 6, 1, 6, 3, 6, 1, 4, 1, 4, 3, 1, 2, 6, 4, 3, 5, 3, 6, 4, 3, 2, 4, 6, 5, 2, 6, 2, 2, 2, 3, 4, 3, 5, 6, 3, 6, 1, 2, 3, 4, 5, 6, 5, 2, 3, 4, 1, 4, 5, 1, 5, 5, 1, 5, 4, 6, 2, 2, 5, 6, 1, 4, 5, 4, 6, 5, 1, 3, 4, 2, 5, 3, 6, 3, 6, 1, 1, 1, 3, 4, 5, 1, 4, 6, 4, 6, 4, 4, 2, 2, 5, 1, 5, 3, 4, 5, 3, 2, 1, 5, 1, 3, 3, 1, 1, 2, 4, 2, 5, 2, 5, 1, 2, 1, 1, 6, 5, 6, 2, 2, 4, 5, 1, 6, 4, 1, 4, 4, 3, 3, 1, 1, 3, 3, 4, 6, 3, 5, 6, 1, 2, 2, 6, 4, 5, 1, 2, 6, 5, 4, 2, 2, 6, 3, 2, 1, 3, 3, 3, 4, 2, 5, 4, 2, 6, 3, 2, 2, 5, 6, 3, 1, 2, 4, 2, 1, 1, 4, 1, 2, 4, 1, 1, 3, 5, 5, 3, 4, 2, 2, 4, 5, 1, 2, 2, 6, 6, 1, 5, 4, 6, 1, 3, 3, 3, 3, 3, 6, 3, 3, 5, 5, 3, 1, 6, 2, 4, 5, 3, 3, 4, 2, 6, 3, 6, 2, 4, 4, 4, 5, 2, 1, 4, 1, 5, 4, 6, 1, 5, 2, 6, 4, 3, 1, 3, 5, 1, 5, 2, 1, 2, 6, 4, 2, 3, 2, 4, 2, 4, 2, 4, 3, 5, 6, 4, 3, 1, 2, 4, 1, 6, 1, 5, 1, 5, 6, 2, 1, 2, 6, 4, 2, 5, 3, 4, 4, 4, 4, 2, 5, 2, 1, 3, 6, 1, 4, 6, 4, 2, 1, 2, 6, 6, 3, 6, 4, 3, 5, 2, 2, 1, 4, 1, 6, 5, 4, 1, 3, 1, 5, 1, 2, 1, 5, 3, 5, 3, 1, 1, 2, 4, 5, 4, 1, 3, 2, 4, 1, 4, 3, 4, 5, 5, 6, 4, 3, 6, 3, 2, 1, 2, 4, 3, 2, 2, 3, 4, 2, 5, 1, 6, 4, 6, 2, 1, 5, 2, 3, 5, 5, 4, 2, 3, 2, 6, 3, 6, 5, 4, 4, 2, 2, 5, 2, 1, 3, 2, 6, 6, 1, 4, 5, 4, 5, 2, 4, 5, 4, 4, 5, 3, 4, 1, 3, 2, 4, 3, 1, 1, 3, 1, 3, 6, 1, 4, 6, 3, 2, 3, 6, 5, 6, 4, 2, 5, 3, 6, 5, 4, 2, 5, 3, 1, 4, 1, 4, 3, 1, 2, 3, 3, 6, 4, 2, 5, 6, 4, 5, 1, 1, 2, 3, 6, 5, 5, 5, 3, 6, 3, 4, 5, 4, 2, 2, 2, 6, 6, 2, 3, 2, 2, 2, 4, 3, 2, 1, 6, 3, 4, 2, 5, 5, 1, 5, 3, 3, 2, 1, 6, 5, 3, 3, 2, 1, 6, 6, 3, 2, 6, 4, 4, 1, 2, 3, 3, 3, 1, 3, 4, 6, 5, 4, 6, 2, 3, 1, 1, 3, 1, 3, 3, 4, 3, 4, 3, 4, 1, 6, 4, 6, 6, 2, 3, 4, 5, 1, 3, 5, 3, 6, 2, 3, 2, 1, 2, 2, 6, 2, 4, 1, 4, 6, 6, 3, 5, 3, 1, 4, 1, 2, 2, 5, 5, 4, 5, 3, 4, 3, 3, 3, 2, 4, 3, 6, 3, 3, 4, 3, 1, 5, 1, 6, 5, 3, 3, 4, 3, 1, 1, 3, 2, 3, 2, 1, 1, 5, 6, 2, 2, 3, 4, 5, 4, 2, 6, 3, 3, 5, 1, 5, 6, 4, 3, 5, 4, 4, 1, 2, 3, 5, 5, 6, 5, 1, 6, 1, 1, 2, 1, 6, 3, 4, 3, 4, 5, 5, 3, 3, 2, 6, 5, 1, 6, 4, 3, 5, 3, 4, 2, 3, 6, 4, 1, 3, 5, 5, 1, 3, 4, 3, 1, 3, 6, 3, 5, 5, 5, 5, 3, 6, 5, 4, 6, 5, 1, 2, 5, 3, 4, 3, 4, 2, 6, 3, 2, 6, 3, 3, 3, 6, 6, 3, 2, 3, 3, 6, 2, 4, 2, 5, 1, 2, 4, 5, 2, 2, 1, 1, 2, 2, 1, 6, 2, 4, 6, 3, 5, 1, 6, 1, 1, 2, 3, 6, 1, 4, 5, 4, 6, 1, 2, 5, 5, 4, 5, 1, 3, 2, 5, 4, 6, 3, 1, 4, 4, 1, 3, 1, 1, 3, 6, 1, 5, 3, 3, 3, 5, 6, 6, 6, 4, 6, 2, 2, 5, 3, 2, 5, 4, 6, 6, 1, 2, 4, 4, 1, 5, 3, 6, 3, 3, 4, 3, 1, 4, 6, 6, 3, 3, 6, 2, 3, 4, 5, 5, 2, 5, 5, 1, 1, 4, 6, 6, 1, 6, 3, 6, 3, 5, 6, 3, 6, 5, 1, 3, 3, 5, 2, 1, 4, 1, 2, 2, 4, 4, 5, 4, 1, 4, 2, 3, 3, 5, 4, 3, 6, 1, 2, 3, 1, 4, 3, 5, 3, 4, 5, 5, 3, 3, 2, 6, 2, 4, 3, 4, 2, 3, 1, 5, 4, 2, 4, 5, 1, 2, 3, 1, 6, 6, 3, 3, 2, 2, 1, 6, 1, 6, 6, 5, 2, 5, 6, 2, 3, 6, 3, 6, 2, 2, 1, 6, 1, 4, 3, 4, 4, 5, 4, 5, 1, 5, 3, 3, 2, 1, 1, 5, 5, 6, 4, 1, 2, 3, 4, 5, 2, 4, 5, 5, 3, 4, 1, 5, 3, 2, 4, 3, 1, 3, 1, 4, 3, 1, 6, 6, 4, 6, 6, 5, 6, 6, 5, 2, 2, 3, 1, 5, 1, 2, 2, 4, 3, 4, 3, 2, 3, 6, 5, 3, 1, 1, 1, 3, 2, 6, 2, 2, 4, 1, 5, 2, 4, 2, 6, 5, 1, 3, 5, 1, 2, 1, 2, 5, 4, 4, 1, 5, 5, 1, 3, 6, 3, 3, 6, 4, 2, 1, 5, 3, 3, 2, 1, 1, 3, 4, 4, 2, 3, 2, 2, 1, 2, 6, 6, 2, 6, 6, 3, 5, 6, 6, 1, 3, 5, 4, 4, 1, 4, 5, 5, 6, 2, 5, 2, 6, 5, 1, 6, 1, 4, 4, 3, 5, 2, 6, 4, 4, 6, 3, 3, 4, 4, 6, 5, 4, 5, 3, 6, 2, 1, 2, 3, 4, 3, 2, 2, 5, 3, 3, 2, 2, 5, 2, 5, 2, 1, 5, 3, 2, 4, 3, 6, 4, 2, 6, 6, 2, 6, 3, 6, 6, 5, 2, 6, 4, 5, 2, 1, 6, 5, 6, 3, 1, 1, 3, 6, 6, 2, 5, 6, 2, 2, 6, 5, 2, 3, 5, 2, 2, 4, 2, 5, 1, 3, 4, 3, 4, 4, 5, 5, 3, 1, 1, 3, 3, 3, 6, 1, 2, 2, 1, 2, 6, 3, 6, 3, 1, 2, 2, 2, 3, 6, 1, 5, 3, 3, 2, 6, 4, 5, 2, 1, 5, 5, 6, 5, 2, 4, 5, 6, 2, 5, 2, 3, 2, 2, 2, 5, 1, 4, 2, 2, 5, 6, 6, 3, 3, 2, 4, 6, 4, 4, 3, 3, 3, 3, 4, 6, 1, 1, 4, 4, 3, 4, 5, 4, 3, 2, 6, 5, 5, 2, 4, 1, 4, 2, 4, 1, 6, 3, 2, 1, 2, 5, 6, 2, 5, 2, 3, 1, 5, 4, 4, 1, 4, 5, 4, 3, 2, 1, 6, 2, 4, 2, 5, 2, 3, 6, 6, 4, 6, 4, 4, 2, 3, 6, 5, 5, 5, 3, 3, 3, 2, 4, 4, 2, 6, 1, 4, 3, 2, 6, 3, 5, 1, 1, 2, 2, 4, 1, 5, 6, 5, 2, 5, 6, 2, 3, 1, 6, 2, 6, 1, 5, 4, 3, 4, 6, 4, 6, 6, 6, 4, 6, 4, 1, 4, 1, 4, 5, 3, 3, 4, 4, 2, 4, 5, 6, 3, 3, 2, 6, 3, 3, 1, 6, 4, 2, 5, 4, 1, 1, 4, 6, 3, 3, 1, 3, 6, 4, 4, 1, 6, 2, 6, 5, 3, 3, 3, 3, 6, 5, 4, 4, 5, 2, 5, 4, 5, 1, 2, 4, 2, 6, 3, 3, 1, 6, 6, 1, 6, 2, 4, 5, 3, 4, 1, 3, 3, 1, 3, 1, 6, 6, 6, 1, 2, 4, 4, 6, 4, 6, 4, 4, 6, 2, 5, 5, 3, 3, 2, 2, 2, 2, 2, 4, 2, 2, 2, 5, 5, 4, 4, 6, 2, 6, 6, 3, 5, 1, 4, 1, 1, 4, 5, 4, 1, 3, 1, 6, 2, 6, 6, 1, 2, 2, 1, 1, 1, 4, 3, 1, 4, 1, 4, 5, 5, 6, 3, 2, 5, 1, 2, 5, 2, 1, 6, 4, 6, 6, 5, 1, 5, 3, 6, 4, 2, 4, 4, 2, 2, 6, 4, 3, 6, 4, 4, 2, 4, 5, 1, 1, 1, 3, 3, 6, 6, 4, 4, 3, 1, 5, 5, 2, 1, 4, 5, 4, 6, 4, 3, 6, 4, 4, 1, 1, 3, 6, 1, 5, 4, 3, 2, 1, 3, 5, 4, 4, 4, 5, 3, 6, 2, 5, 4, 2, 4, 3, 2, 4, 4, 1, 3, 2, 5, 4, 6, 6, 6, 2, 2, 3, 1, 3, 1, 5, 1, 1, 3, 4, 6, 4, 6, 4, 4, 2, 5, 2, 4, 3, 4, 4, 4, 3, 6, 1, 1, 1, 5, 5, 2, 5, 3, 6, 5, 1, 4, 4, 3, 2, 1, 3, 5, 3, 4, 4, 5, 6, 4, 1, 5, 2, 3, 6, 5, 6, 6, 1, 1, 5, 2, 5, 1, 2, 6, 5, 4, 3, 5, 2, 2, 1, 3, 6, 1, 2, 2, 3, 4, 5, 4, 4, 2, 4, 6, 3, 5, 1, 2, 4, 6, 2, 5, 6, 4, 1, 5, 5, 5, 3, 6, 1, 6, 4, 3, 6, 2, 4, 5, 5, 4, 3, 3, 1, 6, 2, 1, 6, 4, 3, 6, 2, 3, 3, 6, 5, 4, 2, 5, 2, 6, 5, 2, 2, 2, 3, 6, 2, 4, 3, 4, 2, 3, 1, 6, 5, 2, 1, 4, 3, 5, 3, 1, 3, 4, 4, 3, 5, 2, 2, 2, 4, 3, 6, 4, 3, 3, 1, 2, 5, 4, 4, 5, 6, 5, 4, 4, 3, 2, 4, 5, 2, 3, 2, 2, 6, 4, 5, 6, 1, 5, 5, 4, 5, 3, 6, 2, 5, 2, 5, 1, 4, 3, 5, 6, 4, 5, 3, 1, 3, 5, 1, 6, 5, 1, 5, 2, 5, 4, 1, 5, 1, 4, 5, 4, 1, 5, 3, 6, 2, 3, 6, 4, 4, 1, 2, 4, 2, 4, 4, 1, 1, 4, 6, 4, 5, 2, 2, 2, 3, 6, 2, 4, 2, 5, 5, 4, 4, 4, 4, 3, 3, 3, 2, 5, 2, 4, 2, 5, 4, 4, 5, 4, 2, 3, 6, 6, 2, 2, 3, 1, 4, 3, 2, 5, 2, 2, 1, 3, 1, 6, 6, 2, 4, 3, 2, 3, 5, 4, 3, 5, 5, 6, 1, 6, 2, 6, 5, 3, 5, 4, 1, 2, 5, 3, 5, 2, 5, 6, 2, 1, 3, 6, 3, 2, 5, 2, 3, 1, 3, 6, 2, 4, 5, 1, 3, 4, 4, 2, 1, 5, 4, 5, 1, 4, 1, 4, 6, 2, 2, 3, 3, 5, 6, 2, 4, 5, 5, 2, 3, 4, 1, 2, 1, 4, 2, 5, 5, 3, 1, 3, 4, 3, 6, 5, 4, 3, 3, 3, 5, 4, 6, 5, 3, 1, 4, 2, 6, 6, 2, 4, 4, 1, 3, 3, 2, 5, 4, 1, 1, 1, 5, 4, 5, 1, 4, 5, 1, 3, 2, 4, 5, 6, 4, 2, 3, 2, 2, 6, 2, 4, 2, 1, 3, 2, 2, 2, 2, 2, 6, 2, 1, 4, 6, 5, 5, 3, 5, 2, 4, 1, 2, 1, 2, 2, 6, 2, 6, 3, 1, 4, 4, 5, 5, 6, 6, 2, 6, 5, 1, 2, 2, 1, 1, 1, 2, 1, 6, 5, 4, 4, 1, 2, 5, 3, 1, 1, 1, 6, 4, 2, 5, 2, 6, 3, 2, 1, 6, 4, 3, 6, 4, 6, 4, 2, 3, 5, 5, 6, 6, 4, 5, 4, 4, 6, 5, 4, 6, 1, 4, 2, 5, 4, 1, 1, 2, 3, 3, 4, 6, 1, 4, 2, 4, 4, 6, 1, 4, 1, 1, 5, 4, 3, 2, 4, 2, 4, 4, 2, 4, 4, 1, 5, 4, 3, 1, 6, 1, 2, 2, 5, 4, 4, 6, 4, 1, 3, 6, 3, 4, 5, 3, 6, 3, 2, 5, 5, 4, 2, 6, 5, 4, 1, 5, 6, 3, 4, 3, 1, 1, 3, 6, 5, 5, 5, 4, 5, 2, 5, 6, 2, 6, 1, 4, 6, 5, 6, 2, 2, 5, 3, 6, 2, 1, 3, 5, 6, 2, 5, 1, 1, 1, 4, 3, 1, 4, 3, 4, 2, 6, 2, 2, 4, 1, 2, 6, 5, 3, 1, 6, 1, 4, 6, 2, 6, 1, 6, 3, 1, 1, 4, 3, 4, 4, 4, 1, 6, 4, 2, 3, 4, 1, 6, 2, 1, 6, 5, 5, 2, 3, 5, 6, 4, 1, 3, 4, 3, 3, 1, 4, 5, 1, 1, 2, 3, 2, 6, 5, 3, 6, 4, 3, 5, 5, 6, 1, 6, 6, 4, 3, 2, 5, 3, 3, 6, 1, 1, 2, 6, 6, 6, 3, 5, 3, 3, 2, 4, 4, 5, 4, 4, 1, 4, 5, 4, 3, 2, 5, 4, 1, 6, 2, 1, 3, 3, 2, 1, 5, 2, 3, 3, 1, 4, 4, 2, 2, 5, 4, 4, 5, 1, 6, 1, 5, 2, 6, 4, 5, 5, 6, 1, 2, 2, 4, 3, 3, 4, 6, 3, 5, 4, 5, 1, 4, 4, 6, 3, 3, 6, 4, 2, 1, 4, 6, 6, 6, 4, 3, 3, 1, 3, 4, 2, 3, 6, 3, 1, 6, 1, 2, 2, 3, 6, 3, 5, 2, 4, 1, 1, 1, 1, 3, 5, 3, 5, 6, 1, 6, 4, 5, 1, 5, 3, 6, 6, 1, 1, 3, 2, 5, 2, 5, 1, 4, 2, 4, 2, 6, 5, 3, 6, 1, 2, 2, 1, 1, 3, 2, 1, 4, 3, 5, 1, 5, 1, 6, 6, 3, 1, 1, 4, 2, 3, 2, 1, 2, 2, 6, 4, 6, 1, 2, 6, 6, 4, 6, 3, 2, 2, 5, 1, 4, 1, 1, 4, 2, 5, 4, 6, 3, 2, 4, 4, 1, 2, 2, 1, 3, 3, 2, 4, 3, 1, 6, 3, 4, 6, 6, 2, 2, 5, 3, 4, 1, 3, 5, 6, 2, 6, 3, 3, 3, 1, 2, 4, 2, 2, 6, 3, 6, 3, 5, 4, 5, 1, 2, 1, 5, 3, 5, 4, 5, 2, 4, 3, 3, 2, 5, 2, 6, 3, 2, 2, 2, 1, 6, 4, 4, 1, 5, 6, 6, 1, 5, 2, 3, 4, 5, 2, 6, 5, 1, 6, 3, 5, 4, 4, 4, 6, 1, 6, 1, 1, 2, 1, 5, 1, 5, 6, 6, 6, 5, 5, 3, 5, 3, 3, 3, 5, 1, 4, 6, 4, 1, 6, 5, 6, 2, 6, 6, 1, 2, 6, 1, 5, 2, 1, 6, 3, 4, 5, 1, 1, 2, 3, 2, 3, 5, 6, 3, 4, 2, 2, 1, 3, 3, 3, 6, 2, 5, 5, 5, 5, 3, 1, 1, 6, 4, 1, 5, 3, 2, 1, 4, 5, 6, 5, 2, 5, 3, 2, 4, 2, 3, 1, 4, 4, 5, 1, 3, 1, 1, 6, 2, 3, 1, 4, 6, 5, 3, 5, 5, 4, 6, 5, 5, 2, 3, 5, 1, 6, 5, 4, 6, 6, 5, 2, 6, 6, 5, 5, 3, 3, 1, 2, 3, 6, 5, 1, 5, 6, 6, 4, 1, 3, 2, 4, 2, 6, 4, 2, 6, 4, 2, 3, 3, 2, 4, 6, 5, 4, 4, 4, 5, 5, 3, 1, 6, 2, 3, 3, 3, 3, 1, 6, 2, 2, 4, 2, 1, 4, 3, 1, 3, 6, 2, 1, 4, 1, 2, 5, 3, 6, 4, 5, 6, 3, 2, 3, 3, 2, 5, 5, 6, 6, 6, 3, 3, 3, 6, 4, 1, 2, 4, 2, 6, 4, 5, 4, 1, 1, 1, 5, 1, 5, 3, 1, 6, 2, 6, 1, 1, 2, 6, 6, 5, 1, 4, 3, 1, 4, 2, 1, 2, 2, 6, 6, 1, 6, 5, 4, 4, 1, 1, 2, 2, 4, 2, 4, 2, 4, 5, 3, 1, 4, 6, 5, 5, 3, 6, 2, 1, 4, 5, 1, 2, 3, 1, 5, 1, 6, 2, 4, 2, 3, 6, 6, 4, 6, 4, 5, 4, 1, 6, 4, 2, 6, 2, 4, 2, 4, 4, 4, 4, 2, 5, 5, 5, 6, 5, 6, 5, 4, 1, 1, 1, 1, 1, 4, 3, 5, 2, 2, 1, 4, 6, 4, 1, 4, 6, 2, 5, 2, 5, 5, 1, 6, 1, 1, 6, 5, 5, 4, 1, 1, 2, 3, 6, 6, 6, 3, 3, 2, 3, 3, 1, 4, 2, 4, 4, 1, 3, 4, 4, 4, 2, 5, 6, 4, 4, 4, 4, 2, 6, 4, 5, 3, 2, 3, 3, 3, 3, 2, 1, 2, 5, 3, 3, 1, 4, 1, 2, 1, 5, 5, 5, 4, 1, 3, 5, 4, 4, 1, 1, 5, 1, 4, 5, 4, 3, 1, 2, 4, 3, 4, 1, 4, 1, 5, 1, 1, 4, 4, 4, 2, 6, 1, 5, 1, 6, 6, 4, 3, 3, 1, 5, 4, 2, 3, 3, 4, 3, 4, 2, 3, 3, 4, 4, 3, 4, 4, 5, 3, 2, 5, 6, 3, 1, 3, 6, 2, 3, 4, 3, 3, 3, 3, 5, 1, 1, 2, 4, 6, 1, 1, 2, 5, 2, 6, 3, 4, 1, 1, 2, 4, 1, 1, 4, 3, 4, 5, 3, 4, 2, 2, 3, 5, 3, 6, 1, 4, 1, 4, 2, 3, 5, 6, 3, 1, 2, 1, 1, 3, 4, 5, 2, 2, 3, 6, 3, 2, 2, 4, 4, 3, 2, 2, 2, 3, 2, 1, 1, 5, 5, 2, 2, 5, 2, 5, 6, 5, 5, 5, 4, 5, 2, 3, 6, 5, 2, 6, 5, 4, 3, 2, 1, 1, 6, 4, 6, 3, 6, 2, 5, 1, 3, 1, 4, 1, 3, 1, 2, 4, 3, 2, 1, 5, 2, 1, 3, 5, 4, 1, 3, 1, 4, 5, 3, 3, 2, 2, 5, 5, 1, 2, 5, 1, 1, 6, 5, 4, 4, 5, 3, 5, 6, 5, 1, 6, 6, 4, 3, 5, 6, 3, 4, 1, 4, 4, 2, 5, 5, 5, 6, 5, 3, 6, 2, 3, 1, 2, 6, 3, 6, 3, 6, 3, 6, 2, 3, 1, 5, 4, 5, 4, 4, 5, 4, 4, 6, 2, 2, 6, 3, 5, 1, 6, 6, 1, 5, 2, 6, 1, 3, 1, 5, 3, 4, 3, 4, 2, 5, 6, 2, 5, 6, 6, 6, 4, 4, 1, 1, 6, 4, 4, 1, 1, 3, 5, 6, 6, 3, 1, 3, 2, 1, 6, 3, 6, 3, 1, 6, 6, 2, 3, 1, 5, 5, 1, 2, 4, 3, 5, 3, 4, 6, 1, 4, 5, 4, 1, 1, 5, 3, 6, 6, 2, 1, 2, 4, 2, 4, 4, 5, 3, 1, 3, 3, 4, 2, 2, 3, 3, 6, 5, 3, 4, 1, 6, 4, 6, 6, 1, 2, 6, 1, 2, 2, 2, 3, 6, 6, 1, 1, 6, 1, 5, 6, 3, 6, 5, 4, 6, 2, 5, 5, 4, 2, 3, 3, 2, 2, 4, 2, 4, 3, 6, 1, 4, 1, 5, 1, 6, 2, 4, 3, 4, 6, 6, 5, 6, 2, 3, 4, 5, 5, 4, 4, 2, 5, 6, 4, 5, 4, 1, 4, 3, 4, 2, 3, 3, 1, 3, 5, 3, 4, 1, 3, 3, 2, 6, 3, 3, 4, 3, 2, 6, 5, 3, 4, 5, 4, 2, 2, 1, 6, 3, 2, 3, 3, 4, 3, 6, 3, 3, 3, 1, 4, 3, 1, 4, 6, 3, 5, 1, 2, 3, 3, 3, 4, 6, 6, 1, 4, 3, 6, 2, 6, 3, 4, 5, 5, 3, 5, 4, 5, 6, 2, 5, 3, 4, 2, 1, 2, 5, 4, 4, 6, 2, 3, 5, 3, 5, 5, 5, 2, 6, 2, 4, 4, 3, 6, 1, 4, 1, 3, 1, 3, 2, 5, 3, 3, 5, 4, 3, 4, 5, 3, 1, 3, 3, 1, 6, 4, 5, 6, 1, 4, 6, 2, 3, 2, 5, 3, 2, 1, 1, 5, 2, 1, 3, 3, 1, 5, 2, 1, 4, 5, 6, 1, 6, 6, 2, 3, 5, 3, 5, 6, 6, 6, 5, 5, 2, 3, 3, 2, 4, 4, 2, 2, 4, 6, 3, 2, 2, 3, 1, 4, 4, 3, 4, 2, 6, 3, 1, 1, 5, 3, 3, 3, 4, 1, 4, 1, 2, 4, 3, 4, 1, 3, 3, 5, 2, 3, 6, 5, 3, 2, 3, 1, 1, 1, 1, 5, 4, 3, 3, 4, 3, 6, 3, 3, 2, 6, 4, 2, 6, 3, 1, 5, 1, 3, 1, 3, 4, 5, 2, 2, 2, 5, 3, 6, 1, 4, 2, 1, 3, 1, 2, 4, 2, 1, 6, 6, 4, 2, 5, 1, 3, 2, 1, 5, 5, 2, 3, 4, 5, 1, 1, 2, 2, 5, 6, 5, 3, 2, 4, 3, 1, 5, 4, 1, 6, 6, 6, 3, 3, 5, 1, 3, 6, 2, 1, 3, 3, 1, 5, 3, 2, 5, 4, 1, 4, 3, 1, 5, 2, 1, 6, 2, 2, 3, 2, 5, 6, 6, 5, 2, 1, 5, 1, 6, 3, 5, 1, 5, 1, 5, 4, 2, 2, 4, 1, 1, 1, 1, 6, 4, 3, 5, 6, 4, 2, 4, 3, 3, 5, 5, 3, 1, 3, 2, 2, 5, 3, 6, 4, 4, 6, 2, 1, 6, 5, 2, 4, 5, 1, 4, 2, 2, 5, 2, 4, 2, 2, 4, 4, 4, 4, 4, 5, 3, 4, 3, 1, 2, 2, 4, 2, 5, 5, 3, 3, 2, 2, 3, 3, 4, 4, 5, 3, 4, 5, 1, 6, 3, 5, 6, 2, 2, 1, 1, 1, 4, 4, 5, 4, 4, 3, 5, 4, 2, 4, 6, 2, 2, 1, 6, 1, 1, 2, 2, 4, 5, 2, 2, 6, 4, 6, 2, 4, 3, 6, 2, 3, 3, 2, 5, 2, 4, 5, 1, 1, 3, 5, 2, 1, 3, 2, 6, 3, 5, 1, 3, 4, 2, 6, 6, 6, 2, 5, 3, 2, 1, 1, 1, 2, 6, 6, 4, 6, 1, 5, 4, 5, 1, 3, 1, 4, 3, 4, 5, 2, 5, 3, 1, 2, 4, 3, 2, 5, 3, 1, 3, 6, 6, 1, 3, 6, 4, 1, 6, 6, 1, 1, 5, 6, 4, 3, 2, 2, 3, 5, 2, 3, 6, 5, 3, 6, 5, 4, 4, 3, 4, 6, 2, 6, 5, 3, 6, 1, 3, 2, 1, 2, 6, 4, 1, 3, 4, 4, 4, 6, 2, 6, 1, 1, 1, 4, 1, 5, 3, 3, 3, 5, 6, 1, 2, 6, 1, 3, 4, 4, 1, 4, 4, 5, 4, 5, 4, 5, 3, 5, 5, 4, 3, 5, 2, 2, 1, 6, 6, 4, 4, 4, 2, 5, 2, 6, 4, 5, 2, 5, 3, 5, 2, 4, 4, 2, 3, 3, 5, 4, 2, 6, 6, 3, 1, 3, 3, 6, 4, 3, 6, 1, 5, 6, 4, 3, 2, 3, 2, 1, 5, 2, 3, 1, 1, 4, 4, 3, 4, 6, 2, 6, 6, 4, 1, 2, 5, 5, 3, 5, 6, 3, 1, 2, 2, 2, 6, 1, 6, 6, 6, 3, 2, 4, 6, 5, 4, 4, 1, 4, 4, 3, 3, 4, 1, 5, 4, 6, 5, 2, 5, 2, 5, 2, 3, 4, 6, 4, 2, 1, 5, 4, 1, 2, 3, 3, 1, 1, 5, 6, 4, 3, 2, 6, 3, 4, 5, 5, 3, 3, 6, 1, 5, 5, 6, 6, 6, 5, 5, 5, 5, 3, 3, 4, 4, 2, 4, 2, 2, 4, 4, 3, 6, 3, 6, 1, 4, 6, 3, 2, 4, 3, 2, 3, 4, 6, 2, 4, 5, 3, 2, 1, 6, 4, 6, 2, 2, 3, 6, 5, 6, 5, 1, 5, 2, 3, 2, 6, 2, 3, 6, 5, 4, 3, 1, 5, 6, 4, 4, 4, 4, 3, 5, 3, 3, 5, 2, 5, 5, 5, 6, 5, 1, 6, 3, 5, 2, 1, 1, 3, 4, 2, 4, 3, 4, 6, 2, 3, 6, 4, 3, 4, 4, 4, 1, 2, 3, 4, 5, 6, 1, 2, 1, 5, 5, 5, 1, 6, 6, 2, 3, 4, 5, 6, 1, 5, 1, 4, 5, 6, 4, 1, 6, 2, 3, 2, 3, 6, 3, 3, 5, 4, 4, 6, 5, 6, 1, 4, 5, 1, 6, 4, 1, 1, 5, 3, 2, 5, 4, 6, 6, 6, 5, 3, 2, 2, 6, 6, 4, 5, 1, 2, 6, 1, 4, 5, 6, 4, 5, 2, 2, 4, 6, 6, 2, 6, 2, 4, 4, 3, 3, 2, 1, 2, 3, 6, 1, 2, 2, 6, 4, 2, 3, 1, 5, 4, 4, 5, 6, 1, 5, 6, 3, 6, 6, 3, 1, 3, 4, 6, 2, 5, 4, 2, 5, 2, 3, 5, 6, 4, 3, 6, 1, 4, 3, 2, 1, 5, 5, 5, 2, 1, 4, 3, 3, 6, 3, 1, 2, 2, 5, 4, 5, 5, 3, 2, 3, 2, 5, 4, 3, 3, 5, 2, 6, 3, 2, 2, 2, 1, 5, 2, 6, 5, 1, 6, 3, 3, 6, 6, 2, 6, 6, 3, 1, 4, 2, 4, 2, 1, 1, 5, 5, 3, 4, 3, 5, 3, 5, 3, 6, 1, 3, 5, 5, 4, 2, 5, 2, 6, 6, 2, 2, 1, 3, 5, 6, 5, 3, 3, 4, 2, 5, 6, 1, 3, 4, 5, 6, 3, 1, 5, 1, 5, 1, 5, 3, 4, 5, 2, 6, 3, 5, 3, 4, 6, 3, 5, 4, 6, 6, 4, 5, 4, 6, 5, 4, 4, 1, 1, 2, 6, 4, 4, 2, 1, 1, 6, 2, 4, 5, 4, 2, 4, 1, 2, 1, 2, 4, 6, 6, 5, 4, 4, 4, 3, 6, 2, 6, 4, 5, 6, 5, 1, 5, 6, 5, 3, 4, 6, 5, 2, 6, 1, 1, 6, 1, 2, 2, 1, 3, 2, 3, 5, 2, 6, 2, 4, 4, 3, 6, 4, 2, 4, 5, 1, 3, 1, 5, 6, 1, 6, 1, 6, 4, 4, 6, 2, 4, 1, 5, 4, 2, 4, 2, 2, 2, 5, 5, 3, 4, 4, 5, 4, 2, 3, 6, 6, 4, 2, 4, 6, 6, 1, 4, 5, 5, 4, 4, 6, 3, 1, 3, 6, 5, 6, 1, 2, 5, 3, 2, 6, 2, 3, 4, 1, 5, 4, 5, 4, 4, 1, 5, 6, 1, 3, 4, 2, 1, 4, 1, 3, 4, 3, 4, 5, 6, 3, 1, 4, 6, 6, 4, 4, 3, 6, 2, 3, 5, 3, 2, 5, 4, 1, 4, 5, 1, 4, 3, 1, 1, 4, 4, 5, 6, 1, 2, 5, 2, 5, 5, 5, 5, 3, 5, 4, 6, 6, 4, 6, 5, 3, 2, 1, 2, 6, 1, 5, 5, 3, 6, 4, 4, 5, 2, 6, 2, 6, 5, 3, 2, 4, 2, 6, 3, 3, 4, 2, 5, 6, 4, 5, 2, 6, 2, 6, 4, 5, 3, 1, 3, 1, 6, 2, 4, 6, 5, 6, 6, 4, 4, 5, 1, 1, 2, 2, 4, 2, 2, 4, 2, 4, 2, 6, 1, 2, 5, 1, 5, 1, 2, 1, 6, 4, 2, 5, 5, 3, 4, 5, 1, 3, 5, 5, 3, 5, 1, 2, 2, 3, 5, 5, 5, 4, 5, 1, 1, 6, 3, 6, 6, 5, 5, 4, 4, 2, 2, 5, 2, 6, 3, 5, 4, 3, 1, 3, 3, 3, 4, 3, 4, 5, 6, 4, 4, 2, 2, 1, 4, 5, 6, 2, 2, 4, 1, 6, 6, 2, 5, 2, 3, 4, 2, 3, 6, 1, 5, 3, 6, 1, 5, 5, 1, 5, 5, 6, 4, 2, 4, 6, 2, 4, 1, 4, 1, 1, 1, 5, 3, 3, 2, 4, 3, 4, 3, 4, 1, 3, 6, 3, 1, 3, 3, 6, 6, 1, 2, 1, 4, 5, 5, 3, 6, 4, 1, 5, 5, 6, 6, 5, 1, 2, 6, 6, 4, 2, 2, 5, 6, 3, 2, 1, 2, 2, 5, 3, 6, 5, 4, 2, 2, 1, 3, 4, 3, 1, 2, 5, 4, 6, 2, 3, 2, 6, 6, 2, 4, 5, 3, 4, 4, 2, 2, 5, 5, 4, 5, 5, 5, 5, 6, 4, 2, 3, 2, 5, 2, 5, 6, 5, 6, 4, 2, 3, 1, 5, 1, 4, 2, 1, 4, 3, 6, 6, 2, 5, 4, 3, 5, 6, 6, 5, 5, 3, 5, 3, 1, 5, 2, 4, 2, 6, 4, 5, 6, 2, 1, 2, 3, 5, 4, 2, 2, 5, 4, 1, 6, 5, 6, 4, 4, 4, 1, 3, 2, 6, 4, 6, 5, 1, 4, 2, 4, 6, 5, 2, 3, 2, 3, 6, 4, 1, 5, 2, 6, 2, 1, 5, 3, 6, 2, 6, 1, 2, 3, 2, 4, 4, 5, 5, 2, 3, 2, 2, 3, 1, 3, 4, 1, 2, 6, 3, 2, 3, 1, 4, 5, 1, 3, 6, 6, 3, 3, 6, 6, 3, 2, 4, 5, 1, 2, 1, 1, 3, 4, 2, 1, 5, 6, 4, 3, 6, 1, 2, 2, 1, 6, 2, 4, 1, 6, 6, 6, 2, 2, 1, 2, 3, 5, 6, 2, 6, 3, 6, 4, 4, 3, 1, 1, 1, 1, 5, 4, 4, 6, 1, 2, 2, 1, 6, 5, 5, 3, 3, 1, 3, 2, 4, 2, 2, 5, 5, 4, 3, 2, 4, 4, 4, 3, 6, 4, 1, 1, 6, 2, 1, 2, 2, 5, 2, 6, 2, 6, 5, 4, 5, 1, 6, 3, 1, 3, 4, 1, 2, 3, 1, 1, 6, 1, 5, 6, 3, 5, 6, 6, 5, 5, 6, 5, 1, 5, 1, 2, 2, 4, 6, 1, 1, 1, 4, 4, 2, 4, 1, 6, 1, 2, 2, 6, 3, 6, 2, 3, 6, 3, 3, 4, 3, 4, 6, 4, 5, 2, 4, 5, 2, 4, 3, 6, 6, 4, 6, 6, 2, 5, 3, 5, 1, 5, 6, 3, 2, 1, 5, 5, 5, 5, 6, 6, 6, 6, 3, 4, 5, 4, 1, 1, 1, 4, 4, 4, 2, 3, 5, 6, 1, 4, 3, 2, 5, 6, 1, 3, 1, 2, 1, 1, 6, 6, 2, 3, 4, 5, 1, 2, 5, 1, 4, 6, 5, 5, 6, 6, 6, 5, 2, 3, 6, 1, 1, 4, 4, 5, 5, 5, 2, 4, 4, 6, 3, 5, 4, 4, 6, 5, 5, 3, 4, 6, 2, 6, 1, 3, 5, 3, 6, 2, 6, 5, 5, 6, 6, 6, 4, 3, 6, 6, 5, 6, 6, 3, 2, 6, 1, 6, 1, 2, 5, 4, 3, 4, 2, 6, 3, 3, 5, 3, 4, 5, 1, 3, 4, 2, 5, 5, 2, 4, 4, 2, 5, 2, 5, 5, 4, 5, 4, 1, 1, 1, 4, 1, 6, 4, 2, 4, 1, 3, 4, 5, 2, 1, 5, 1, 6, 1, 3, 5, 1, 6, 3, 4, 2, 1, 1, 5, 2, 4, 6, 4, 2, 3, 5, 6, 4, 2, 6, 2, 2, 1, 5, 5, 4, 2, 4, 3, 5, 3, 2, 2, 6, 4, 5, 5, 1, 1, 4, 1, 1, 3, 1, 2, 5, 3, 2, 4, 5, 1, 4, 4, 2, 1, 3, 4, 4, 3, 1, 5, 2, 6, 3, 5, 3, 3, 6, 5, 1, 4, 4, 5, 4, 4, 5, 6, 2, 1, 5, 5, 5, 5, 4, 5, 4, 4, 5, 2, 4, 2, 5, 5, 3, 5, 3, 2, 3, 6, 3, 1, 3, 2, 4, 1, 3, 5, 4, 4, 5, 5, 6, 2, 4, 4, 1, 5, 5, 6, 4, 1, 2, 2, 6, 4, 2, 2, 2, 4, 2, 3, 5, 4, 6, 3, 4, 3, 4, 6, 3, 3, 3, 6, 4, 2, 4, 5, 5, 2, 5, 6, 3, 6, 4, 5, 2, 5, 3, 6, 1, 2, 3, 1, 6, 3, 2, 2, 4, 2, 2, 4, 5, 3, 1, 5, 1, 5, 4, 5, 3, 3, 2, 6, 3, 3, 6, 5, 5, 3, 3, 2, 6, 6, 3, 5, 2, 3, 4, 5, 4, 2, 3, 5, 2, 2, 1, 1, 5, 2, 2, 2, 3, 4, 6, 6, 1, 4, 2, 3, 2, 6, 6, 1, 5, 4, 1, 5, 3, 4, 1, 5, 6, 3, 2, 2, 4, 4, 6, 4, 4, 6, 3, 5, 2, 2, 6, 2, 3, 3, 2, 1, 1, 2, 4, 2, 4, 6, 6, 2, 4, 2, 3, 3, 3, 3, 2, 2, 2, 5, 6, 2, 6, 6, 4, 5, 3, 5, 2, 1, 4, 3, 4, 2, 1, 1, 4, 6, 6, 5, 2, 6, 1, 4, 5, 4, 2, 4, 5, 1, 5, 4, 1, 5, 2, 3, 6, 1, 4, 4, 3, 4, 4, 3, 2, 1, 3, 1, 5, 2, 6, 6, 3, 4, 2, 2, 2, 6, 1, 4, 3, 3, 2, 6, 3, 5, 4, 2, 2, 1, 1, 6, 6, 6, 3, 1, 4, 1, 2, 5, 4, 6, 2, 5, 5, 2, 1, 1, 2, 3, 6, 4, 4, 4, 4, 3, 6, 4, 1, 3, 5, 1, 5, 6, 2, 1, 5, 6, 6, 3, 2, 4, 5, 5, 4, 3, 6, 2, 6, 6, 4, 2, 4, 4, 5, 6, 1, 6, 3, 2, 5, 4, 1, 6, 3, 4, 5, 4, 6, 6, 6, 4, 3, 4, 4, 2, 6, 6, 2, 3, 5, 5, 2, 2, 1, 3, 6, 4, 4, 6, 1, 1, 2, 5, 6, 4, 2, 3, 4, 1, 2, 5, 6, 1, 3, 4, 3, 1, 3, 6, 2, 4, 6, 2, 1, 2, 6, 5, 5, 6, 3, 2, 3, 6, 4, 6, 2, 6, 1, 6, 3, 6, 6, 5, 3, 5, 3, 4, 2, 2, 1, 4, 3, 5, 6, 1, 6, 3, 2, 6, 1, 1, 1, 6, 3, 2, 6, 5, 6, 1, 3, 4, 3, 4, 2, 4, 5, 5, 3, 3, 1, 3, 5, 1, 3, 2, 2, 2, 6, 1, 3, 2, 3, 6, 1, 2, 4, 4, 5, 3, 6, 3, 3, 4, 5, 5, 2, 1, 1, 6, 1, 1, 2, 2, 3, 3, 3, 4, 4, 1, 1, 1, 3, 3, 6, 2, 2, 3, 1, 4, 4, 3, 4, 3, 3, 3, 6, 5, 5, 2, 6, 4, 1, 2, 6, 2, 6, 4, 6, 5, 3, 2, 5, 6, 1, 2, 4, 3, 1, 2, 6, 3, 1, 4, 1, 6, 2, 5, 5, 4, 4, 3, 3, 1, 4, 5, 4, 3, 1, 5, 6, 5, 1, 4, 3, 6, 6, 5, 4, 2, 3, 2, 1, 6, 3, 4, 5, 4, 4, 6, 6, 4, 5, 4, 6, 5, 3, 2, 2, 4, 6, 3, 5, 2, 6, 5, 2, 2, 1, 5, 5, 3, 6, 4, 6, 4, 2, 4, 5, 4, 3, 1, 1, 4, 6, 5, 4, 6, 1, 2, 2, 1, 4, 3, 6, 1, 5, 5, 2, 6, 6, 3, 3, 5, 6, 4, 6, 3, 1, 1, 5, 4, 4, 6, 2, 2, 1, 4, 4, 4, 4, 6, 6, 2, 3, 4, 1, 2, 4, 4, 4, 1, 2, 1, 3, 4, 1, 6, 3, 4, 1, 2, 1, 4, 1, 2, 4, 6, 4, 5, 2, 3, 3, 1, 2, 6, 5, 5, 5, 6, 1, 4, 2, 4, 5, 3, 6, 1, 6, 5, 1, 3, 4, 4, 3, 5, 5, 3, 5, 6, 3, 6, 6, 4, 1, 3, 1, 3, 2, 6, 2, 4, 3, 1, 3, 2, 6, 3, 3, 3, 3, 6, 6, 3, 1, 3, 4, 3, 5, 4, 2, 4, 4, 6, 3, 6, 3, 6, 3, 5, 2, 3, 3, 4, 1, 3, 1, 6, 3, 3, 4, 1, 3, 6, 1, 4, 5, 5, 2, 3, 3, 6, 2, 1, 6, 5, 6, 6, 5, 2, 6, 6, 1, 3, 1, 1, 5, 2, 4, 4, 1, 4, 1, 3, 5, 6, 5, 6, 1, 3, 1, 4, 3, 6, 5, 1, 6, 3, 2, 4, 3, 4, 3, 1, 5, 5, 2, 6, 5, 1, 1, 1, 1, 6, 4, 3, 1, 4, 1, 2, 1, 5, 3, 6, 5, 3, 3, 1, 5, 4, 4, 6, 4, 3, 6, 1, 2, 2, 6, 2, 2, 3, 1, 3, 2, 4, 3, 5, 1, 2, 2, 2, 5, 5, 2, 4, 6, 4, 5, 6, 5, 1, 4, 1, 6, 5, 6, 4, 5, 6, 1, 1, 6, 5, 5, 5, 2, 6, 1, 2, 6, 1, 3, 5, 3, 6, 2, 3, 3, 6, 6, 6, 4, 1, 2, 5, 4, 3, 5, 2, 5, 1, 5, 6, 5, 2, 5, 6, 5, 6, 3, 5, 6, 4, 2, 6, 3, 1, 6, 5, 5, 3, 6, 2, 2, 3, 3, 2, 3, 6, 3, 3, 5, 3, 2, 5, 1, 6, 3, 1, 5, 5, 3, 4, 4, 2, 6, 6, 4, 6, 6, 5, 3, 1, 5, 2, 1, 1, 2, 6, 1, 6, 1, 6, 4, 4, 2, 3, 5, 4, 6, 4, 5, 5, 4, 4, 2, 5, 6, 4, 1, 2, 3, 5, 6, 1, 3, 6, 3, 4, 6, 5, 3, 5, 4, 4, 5, 4, 6, 1, 4, 6, 3, 5, 4, 4, 4, 6, 2, 6, 3, 5, 3, 1, 2, 1, 3, 5, 2, 4, 5, 5, 4, 6, 6, 6, 5, 1, 2, 1, 5, 2, 3, 1, 4, 2, 3, 4, 4, 3, 2, 6, 3, 4, 5, 5, 5, 3, 6, 1, 4, 4, 3, 4, 4, 5, 5, 3, 4, 1, 4, 1, 6, 6, 4, 3, 6, 6, 3, 6, 6, 6, 6, 1, 6, 4, 3, 5, 1, 2, 6, 5, 3, 4, 1, 6, 2, 1, 1, 3, 3, 4, 1, 2, 5, 4, 6, 2, 6, 5, 2, 6, 6, 3, 3, 2, 2, 1, 2, 2, 2, 5, 3, 4, 2, 1, 3, 6, 5, 4, 2, 2, 2, 5, 6, 4, 6, 5, 2, 3, 6, 1, 5, 2, 4, 2, 5, 3, 5, 6, 4, 6, 2, 2, 1, 5, 6, 6, 1, 6, 2, 2, 6, 6, 4, 5, 2, 4, 3, 3, 3, 3, 1, 6, 6, 4, 1, 6, 2, 6, 1, 6, 5, 6, 3, 1, 1, 1, 3, 2, 2, 4, 5, 6, 5, 5, 3, 5, 4, 1, 1, 4, 3, 2, 1, 5, 1, 1, 3, 1, 3, 2, 5, 1, 4, 6, 5, 6, 4, 6, 5, 4, 2, 3, 6, 5, 2, 1, 5, 4, 4, 5, 1, 5, 2, 3, 3, 2, 5, 5, 2, 5, 4, 3, 3, 2, 1, 3, 4, 2, 3, 5, 3, 6, 4, 2, 2, 5, 1, 3, 1, 1, 4, 4, 4, 3, 4, 4, 5, 6, 2, 4, 1, 6, 6, 4, 3, 6, 6, 1, 1, 5, 2, 3, 4, 6, 5, 1, 1, 4, 6, 3, 6, 3, 5, 6, 4, 4, 5, 4, 6, 5, 3, 5, 1, 5, 4, 5, 2, 5, 1, 1, 6, 3, 2, 4, 1, 3, 4, 3, 6, 1, 3, 3, 1, 4, 2, 6, 5, 4, 1, 5, 6, 1, 6, 5, 6, 6, 6, 5, 6, 4, 3, 5, 1, 4, 5, 5, 3, 5, 6, 5, 3, 4, 6, 3, 1, 1, 2, 1, 1, 1, 1, 3, 1, 6, 3, 4, 1, 1, 3, 4, 5, 4, 6, 6, 3, 2, 6, 3, 1, 3, 2, 2, 6, 2, 4, 3, 6, 1, 3, 6, 3, 3, 1, 4, 5, 1, 4, 5, 5, 4, 2, 6, 3, 3, 4, 1, 4, 2, 2, 2, 5, 3, 2, 3, 3, 1, 4, 5, 5, 4, 4, 5, 4, 4, 4, 1, 3, 3, 3, 6, 4, 3, 4, 1, 6, 4, 1, 2, 4, 1, 6, 4, 6, 1, 5, 2, 5, 1, 4, 4, 2, 5, 6, 1, 6, 3, 5, 2, 3, 2, 1, 4, 2, 4, 5, 5, 6, 5, 6, 1, 5, 3, 3, 4, 3, 5, 5, 6, 3, 5, 5, 1, 6, 2, 5, 3, 2, 1, 1, 2, 4, 3, 6, 6, 4, 3, 1, 2, 2, 1, 3, 4, 2, 2, 6, 6, 5, 5, 5, 3, 3, 1, 1, 2, 4, 5, 6, 3, 6, 6, 3, 4, 4, 3, 6, 6, 1, 4, 2, 1, 1, 5, 5, 5, 5, 1, 5, 5, 3, 5, 5, 1, 3, 6, 5, 2, 5, 4, 5, 1, 1, 4, 5, 2, 6, 6, 1, 3, 1, 5, 3, 5, 6, 5, 5, 6, 1, 3, 6, 4, 3, 6, 1, 2, 3, 6, 5, 4, 5, 3, 5, 1, 3, 5, 1, 1, 5, 4, 1, 5, 2, 2, 6, 4, 4, 3, 4, 6, 3, 5, 2, 1, 1, 4, 5, 5, 3, 6, 6, 2, 6, 5, 2, 2, 3, 6, 2, 5, 2, 2, 3, 5, 5, 4, 6, 1, 3, 2, 4, 2, 5, 2, 4, 1, 4, 2, 1, 3, 2, 1, 2, 1, 4, 5, 6, 6, 2, 1, 6, 3, 2, 4, 6, 5, 1, 2, 6, 5, 3, 3, 6, 4, 2, 3, 5, 4, 2, 4, 3, 1, 3, 5, 3, 2, 6, 6, 4, 5, 5, 4, 5, 3, 5, 5, 5, 3, 3, 4, 6, 5, 3, 5, 6, 1, 3, 5, 6, 2, 2, 4, 4, 2, 6, 1, 3, 1, 2, 1, 5, 4, 1, 3, 1, 1, 6, 6, 4, 4, 4, 1, 4, 5, 5, 2, 1, 4, 2, 5, 4, 5, 6, 1, 1, 4, 2, 3, 2, 3, 2, 1, 4, 5, 3, 2, 5, 2, 6, 1, 3, 2, 1, 4, 4, 3, 2, 5, 4, 1, 6, 5, 5, 4, 3, 4, 6, 1, 3, 5, 3, 3, 6, 5, 4, 4, 5, 5, 3, 4, 1, 5, 3, 5, 5, 6, 4, 3, 6, 2, 4, 3, 1, 1, 5, 5, 1, 4, 6, 6, 5, 3, 2, 4, 5, 3, 5, 6, 1, 6, 2, 5, 3, 2, 3, 3, 3, 3, 2, 5, 6, 6, 1, 6, 1, 1, 2, 1, 4, 1, 5, 6, 4, 4, 2, 5, 6, 5, 2, 6, 1, 2, 5, 5, 4, 5, 5, 5, 5, 1, 3, 5, 6, 3, 5, 6, 3, 2, 5, 2, 5, 6, 6, 3, 2, 2, 4, 5, 1, 5, 3, 4, 5, 5, 5, 1, 5, 3, 5, 1, 3, 5, 3, 3, 5, 3, 4, 6, 3, 6, 1, 4, 1, 1, 1, 4, 5, 4, 4, 3, 1, 3, 5, 2, 5, 3, 4, 6, 2, 5, 4, 6, 3, 2, 1, 1, 3, 5, 2, 1, 1, 1, 4, 1, 4, 5, 4, 2, 5, 1, 3, 1, 3, 4, 2, 5, 6, 6, 3, 2, 4, 3, 2, 2, 5, 1, 1, 2, 2, 2, 5, 2, 1, 5, 3, 1, 2, 4, 4, 5, 6, 5, 3, 4, 5, 4, 5, 5, 4, 4, 1, 4, 6, 1, 2, 1, 5, 4, 2, 3, 5, 3, 5, 5, 3, 2, 6, 5, 1, 5, 3, 2, 4, 2, 1, 5, 2, 1, 1, 4, 6, 4, 1, 3, 1, 3, 6, 1, 2, 1, 3, 2, 1, 2, 6, 6, 6, 5, 6, 5, 6, 1, 2, 4, 4, 5, 1, 3, 4, 1, 3, 2, 3, 6, 1, 3, 1, 6, 5, 1, 2, 5, 5, 2, 5, 4, 4, 5, 3, 5, 2, 3, 4, 3, 3, 5, 4, 1, 5, 2, 5, 3, 2, 2, 5, 5, 5, 6, 5, 4, 3, 6, 2, 2, 4, 1, 3, 2, 4, 1, 3, 2, 3, 4, 2, 1, 3, 5, 4, 6, 6, 5, 3, 4, 3, 1, 4, 6, 6, 2, 6, 3, 1, 1, 4, 5, 5, 6, 5, 2, 1, 5, 1, 4, 3, 6, 3, 2, 4, 5, 5, 2, 4, 2, 4, 6, 5, 6, 2, 2, 6, 5, 3, 1, 5, 4, 6, 6, 1, 2, 1, 4, 6, 5, 6, 4, 3, 5, 5, 6, 6, 3, 4, 6, 2, 4, 1, 5, 4, 1, 3, 4, 1, 5, 5, 6, 6, 2, 4, 5, 3, 3, 6, 3, 2, 6, 3, 2, 1, 6, 6, 2, 4, 5, 4, 3, 5, 5, 4, 2, 3, 4, 3, 4, 5, 4, 5, 5, 5, 1, 1, 4, 1, 3, 6, 4, 5, 4, 4, 2, 6, 3, 4, 2, 5, 3, 5, 2, 6, 4, 5, 5, 3, 1, 3, 3, 4, 2, 5, 2, 6, 6, 4, 5, 1, 1, 5, 5, 5, 3, 5, 1, 4, 5, 2, 3, 5, 1, 1, 1, 5, 5, 3, 5, 6, 5, 2, 2, 2, 2, 5, 6, 4, 4, 1, 3, 6, 6, 3, 3, 5, 5, 2, 1, 3, 5, 1, 1, 5, 4, 2, 6, 1, 5, 4, 5, 2, 1, 6, 3, 6, 3, 2, 5, 1, 6, 1, 4, 1, 1, 6, 3, 3, 1, 6, 2, 1, 5, 1, 1, 3, 6, 2, 2, 3, 3, 1, 3, 4, 1, 5, 1, 1, 1, 5, 6, 6, 4, 3, 3, 1, 5, 1, 4, 4, 2, 3, 6, 3, 3, 1, 3, 4, 4, 2, 4, 1, 1, 1, 1, 1, 6, 6, 1, 3, 1, 1, 1, 6, 4, 2, 1, 3, 4, 2, 6, 2, 5, 4, 4, 2, 6, 5, 1, 5, 6, 3, 5, 3, 2, 1, 4, 2, 6, 1, 1, 6, 4, 1, 1, 4, 4, 5, 6, 2, 6, 6, 6, 2, 4, 4, 6, 6, 5, 3, 1, 5, 2, 3, 3, 6, 2, 4, 5, 4, 4, 4, 4, 6, 6, 3, 5, 2, 5, 5, 5, 5, 2, 3, 4, 4, 1, 5, 1, 6, 4, 6, 5, 1, 1, 6, 3, 5, 3, 6, 5, 2, 5, 3, 2, 1, 2, 3, 5, 4, 2, 2, 4, 1, 5, 1, 1, 5, 2, 3, 2, 2, 6, 1, 2, 5, 2, 6, 4, 5, 6, 6, 4, 6, 1, 6, 4, 5, 6, 6, 6, 2, 3, 1, 3, 1, 2, 3, 2, 1, 6, 2, 3, 2, 4, 4, 2, 3, 6, 5, 6, 4, 1, 3, 5, 1, 6, 3, 4, 5, 1, 4, 6, 6, 6, 3, 4, 5, 1, 1, 3, 1, 4, 1, 5, 3, 6, 2, 4, 5, 1, 1, 4, 5, 4, 6, 4, 5, 3, 5, 4, 1, 6, 4, 4, 2, 2, 5, 6, 1, 2, 4, 5, 2, 6, 2, 1, 4, 2, 3, 2, 3, 5, 4, 6, 5, 5, 4, 1, 5, 3, 5, 3, 6, 5, 6, 1, 4, 6, 3, 1, 4, 6, 6, 5, 5, 3, 2, 4, 3, 4, 4, 5, 5, 5, 5, 1, 3, 2, 1, 6, 5, 4, 1, 3, 2, 3, 1, 5, 6, 4, 2, 2, 3, 3, 4, 2, 4, 3, 4, 1, 3, 3, 1, 6, 3, 6, 3, 3, 4, 6, 5, 3, 5, 4, 5, 3, 6, 2, 5, 4, 5, 5, 1, 1, 1, 6, 3, 1, 5, 1, 5, 2, 6, 2, 4, 1, 4, 2, 4, 1, 5, 6, 1, 4, 1, 6, 6, 3, 3, 2, 6, 4, 3, 3, 3, 5, 6, 6, 2, 1, 1, 3, 1, 3, 3, 6, 2, 1, 1, 2, 2, 4, 4, 3, 6, 2, 1, 2, 2, 2, 3, 1, 1, 3, 4, 4, 3, 4, 1, 3, 4, 5, 6, 5, 1, 4, 3, 5, 6, 2, 2, 5, 5, 4, 3, 5, 6, 4, 5, 1, 6, 1, 4, 2, 3, 1, 3, 2, 6, 1, 2, 1, 6, 5, 3, 5, 3, 1, 4, 4, 1, 1, 4, 2, 1, 4, 3, 1, 5, 1, 5, 3, 1, 4, 2, 3, 6, 5, 6, 2, 2, 2, 5, 3, 5, 3, 2, 4, 3, 6, 5, 2, 3, 2, 6, 5, 3, 6, 6, 4, 3, 4, 5, 6, 2, 6, 2, 1, 2, 5, 4, 3, 3, 6, 3, 4, 4, 3, 4, 6, 5, 6, 2, 4, 2, 1, 3, 4, 1, 4, 1, 1, 5, 1, 1, 2, 3, 4, 4, 1, 4, 1, 2, 3, 1, 5, 1, 6, 6, 5, 6, 5, 3, 2, 1, 5, 5, 5, 5, 1, 5, 2, 3, 5, 5, 1, 3, 2, 5, 4, 4, 5, 4, 3, 5, 5, 4, 6, 1, 3, 2, 2, 3, 5, 5, 5, 6, 2, 4, 1, 5, 6, 1, 6, 1, 6, 2, 3, 5, 2, 1, 2, 1, 6, 5, 3, 2, 1, 4, 2, 1, 1, 1, 3, 1, 2, 6, 2, 3, 5, 1, 2, 4, 6, 5, 2, 6, 4, 1, 1, 4, 2, 6, 1, 4, 1, 4, 6, 6, 2, 3, 4, 1, 6, 1, 5, 3, 6, 6, 5, 1, 4, 1, 5, 3, 6, 3, 2, 6, 1, 3, 5, 2, 4, 3, 2, 5, 4, 1, 3, 2, 6, 1, 2, 6, 6, 2, 1, 2, 3, 3, 4, 5, 4, 3, 1, 1, 5, 4, 6, 3, 2, 2, 6, 2, 5, 4, 4, 2, 2, 1, 4, 4, 5, 1, 4, 4, 5, 3, 2, 2, 1, 2, 1, 5, 1, 5, 5, 2, 6, 3, 5, 6, 2, 4, 4, 1, 6, 3, 2, 3, 3, 4, 2, 3, 5, 6, 6, 2, 3, 1, 4, 3, 2, 6, 3, 5, 5, 1, 4, 5, 6, 2, 1, 5, 6, 3, 2, 4, 6, 2, 3, 5, 2, 2, 3, 3, 4, 6, 3, 6, 3, 6, 3, 2, 5, 3, 3, 1, 4, 6, 6, 1, 4, 5, 4, 3, 2, 6, 6, 2, 3, 3, 5, 2, 5, 6, 6, 1, 4, 1, 1, 3, 4, 1, 6, 4, 3, 4, 2, 2, 6, 3, 3, 2, 3, 5, 5, 1, 2, 6, 6, 2, 1, 2, 4, 6, 3, 6, 4, 1, 5, 1, 5, 1, 3, 5, 6, 3, 6, 4, 5, 3, 2, 3, 1, 5, 1, 6, 4, 5, 1, 1, 3, 2, 2, 6, 1, 5, 2, 1, 3, 5, 5, 2, 4, 6, 5, 5, 2, 5, 4, 1, 2, 4, 1, 4, 1, 5, 2, 1, 5, 3, 2, 4, 4, 3, 1, 3, 4, 4, 2, 5, 5, 6, 5, 1, 6, 4, 3, 6, 6, 5, 6, 3, 6, 5, 6, 2, 4, 4, 2, 6, 4, 1, 2, 4, 4, 4, 1, 3, 4, 5, 5, 2, 2, 5, 1, 4, 2, 2, 5, 5, 5, 3, 1, 5, 5, 2, 2, 3, 2, 6, 5, 6, 4, 5, 4, 3, 2, 1, 1, 4, 5, 1, 6, 2, 5, 3, 3, 5, 5, 3, 6, 4, 3, 6, 3, 1, 3, 5, 2, 1, 4, 1, 6, 1, 5, 4, 2, 2, 5, 6, 6, 2, 6, 6, 1, 5, 6, 4, 4, 6, 1, 1, 1, 1, 1, 3, 4, 3, 4, 4, 6, 4, 6, 3, 4, 2, 5, 4, 5, 4, 3, 1, 5, 1, 4, 4, 5, 2, 6, 3, 1, 3, 5, 6, 1, 6, 5, 1, 3, 5, 1, 3, 4, 1, 6, 3, 1, 6, 4, 3, 4, 5, 1, 1, 4, 6, 1, 2, 2, 5, 4, 2, 6, 1, 3, 2, 2, 2, 1, 5, 4, 2, 1, 4, 5, 5, 5, 1, 1, 5, 1, 5, 4, 5, 6, 1, 4, 2, 1, 5, 5, 6, 5, 2, 1, 4, 5, 5, 3, 5, 5, 1, 5, 2, 5, 2, 4, 4, 4, 4, 5, 4, 2, 2, 5, 5, 5, 4, 1, 4, 2, 4, 3, 6, 2, 4, 2, 1, 2, 5, 6, 3, 6, 3, 2, 1, 1, 6, 4, 5, 5, 4, 5, 2, 5, 4, 4, 5, 3, 1, 4, 5, 4, 4, 2, 1, 3, 1, 1, 3, 6, 5, 4, 3, 1, 6, 2, 5, 6, 4, 5, 6, 2, 6, 5, 5, 6, 4, 1, 4, 1, 1, 2, 6, 2, 5, 1, 1, 1, 1, 2, 4, 3, 5, 4, 6, 1, 5, 5, 1, 5, 1, 4, 5, 3, 3, 3, 3, 6, 6, 6, 1, 5, 3, 4, 1, 6, 6, 4, 5, 1, 3, 1, 2, 1, 1, 2, 3, 2, 2, 1, 6, 2, 2, 4, 2, 1, 6, 2, 5, 3, 6, 2, 3, 4, 6, 2, 3, 4, 6, 1, 4, 5, 5, 2, 2, 6, 5, 6, 6, 3, 4, 1, 3, 5, 2, 3, 1, 4, 5, 6, 3, 2, 1, 6, 1, 4, 6, 5, 2, 6, 6, 1, 6, 2, 6, 3, 6, 6, 5, 2, 1, 4, 3, 4, 4, 1, 4, 5, 5, 1, 1, 2, 3, 6, 2, 1, 2, 4, 4, 6, 6, 2, 1, 4, 1, 5, 1, 2, 4, 2, 2, 6, 4, 2, 3, 2, 4, 1, 1, 1, 6, 1, 2, 5, 5, 1, 2, 1, 1, 4, 4, 5, 4, 6, 2, 6, 5, 1, 3, 5, 3, 6, 4, 5, 3, 4, 6, 1, 4, 6, 2, 5, 5, 5, 3, 6, 6, 6, 3, 5, 1, 3, 6, 5, 4, 6, 3, 1, 3, 2, 2, 6, 1, 3, 2, 4, 2, 6, 5, 2, 6, 5, 5, 2, 4, 4, 4, 4, 1, 4, 6, 3, 3, 1, 1, 5, 6, 1, 1, 5, 5, 1, 4, 5, 5, 3, 1, 1, 6, 3, 1, 1, 5, 5, 4, 2, 2, 2, 4, 1, 2, 3, 5, 4, 4, 1, 4, 1, 6, 5, 1, 5, 6, 2, 5, 6, 5, 3, 5, 3, 3, 3, 2, 1, 3, 6, 5, 3, 5, 1, 1, 5, 4, 3, 6, 6, 4, 5, 6, 5, 5, 2, 4, 4, 5, 6, 3, 1, 5, 3, 6, 3, 3, 3, 4, 1, 6, 2, 4, 4, 6, 5, 2, 1, 2, 2, 3, 6, 5, 2, 5, 2, 5, 6, 6, 4, 2, 1, 1, 2, 4, 3, 3, 3, 6, 1, 2, 4, 2, 2, 5, 2, 6, 6, 1, 5, 3, 3, 6, 2, 4, 6, 3, 1, 4, 5, 1, 1, 6, 4, 1, 4, 3, 1, 1, 1, 5, 6, 5, 1, 2, 2, 4, 6, 5, 3, 4, 5, 1, 1, 1, 3, 3, 3, 6, 3, 3, 6, 2, 1, 2, 6, 2, 4, 2, 1, 4, 2, 3, 2, 1, 1, 3, 5, 5, 6, 6, 3, 3, 2, 1, 2, 2, 5, 4, 6, 1, 5, 2, 4, 6, 4, 6, 1, 3, 2, 1, 4, 4, 4, 2, 4, 1, 5, 6, 2, 4, 1, 6, 2, 1, 2, 5, 3, 3, 4, 6, 2, 3, 5, 2, 2, 4, 3, 3, 6, 6, 6, 4, 6, 3, 5, 3, 6, 1, 4, 4, 5, 3, 4, 5, 5, 4, 4, 4, 6, 1, 4, 5, 1, 1, 5, 6, 6, 4, 5, 6, 1, 2, 2, 4, 4, 4, 2, 1, 2, 1, 1, 5, 3, 3, 2, 6, 1, 6, 5, 6, 4, 4, 6, 5, 1, 3, 6, 4, 6, 6, 6, 4, 5, 3, 1, 6, 2, 4, 2, 2, 5, 1, 5, 4, 4, 2, 6, 6, 4, 2, 2, 4, 3, 4, 2, 5, 2, 2, 3, 1, 5, 5, 6, 4, 3, 2, 1, 6, 2, 1, 4, 4, 3, 6, 1, 2, 2, 5, 1, 4, 3, 1, 6, 1, 6, 3, 4, 4, 3, 4, 1, 1, 5, 5, 6, 5, 1, 4, 4, 1, 1, 5, 1, 3, 5, 4, 6, 5, 4, 3, 3, 3, 1, 1, 1, 5, 6, 4, 5, 2, 4, 5, 2, 5, 6, 5, 1, 4, 4, 6, 2, 4, 2, 6, 5, 6, 5, 2, 2, 1, 3, 2, 5, 2, 2, 2, 4, 4, 3, 1, 2, 4, 1, 1, 6, 6, 3, 3, 5, 1, 3, 5, 2, 3, 6, 1, 2, 3, 1, 6, 1, 1, 6, 1, 2, 6, 2, 5, 4, 4, 3, 1, 1, 4, 3, 3, 6, 4, 6, 3, 4, 4, 2, 2, 4, 3, 6, 3, 6, 3, 3, 4, 4, 6, 2, 6, 2, 4, 2, 2, 4, 4, 6, 5, 4, 1, 5, 4, 2, 4, 1, 5, 2, 5, 3, 1, 6, 5, 2, 1, 4, 2, 1, 1, 4, 6, 5, 1, 1, 3, 3, 6, 3, 3, 2, 5, 2, 2, 5, 6, 5, 3, 4, 2, 6, 4, 3, 4, 6, 6, 6, 1, 5, 6, 3, 5, 6, 6, 5, 3, 1, 1, 4, 6, 4, 6, 3, 2, 1, 2, 1, 2, 1, 1, 1, 5, 5, 1, 3, 4, 5, 6, 2, 2, 1, 4, 4, 5, 3, 3, 5, 5, 6, 3, 3, 4, 2, 3, 3, 6, 3, 5, 3, 3, 6, 3, 3, 2, 6, 4, 3, 1, 1, 6, 1, 1, 3, 4, 5, 4, 4, 3, 4, 1, 4, 3, 6, 3, 1, 1, 4, 2, 5, 5, 4, 5, 2, 3, 6, 1, 3, 3, 5, 2, 2, 1, 5, 3, 5, 3, 2, 3, 5, 3, 5, 1, 2, 6, 6, 1, 3, 6, 4, 3, 3, 3, 3, 6, 4, 6, 3, 5, 5, 4, 6, 6, 2, 2, 2, 6, 3, 1, 6, 4, 2, 3, 3, 3, 3, 3, 4, 2, 1, 5, 1, 5, 1, 6, 4, 1, 3, 4, 6, 6, 1, 4, 6, 3, 6, 1, 4, 3, 6, 5, 1, 4, 1, 6, 4, 2, 2, 2, 2, 3, 4, 2, 2, 6, 3, 4, 6, 4, 4, 6, 1, 2, 2, 6, 4, 3, 6, 2, 2, 4, 6, 4, 2, 2, 1, 4, 5, 2, 3, 3, 1, 4, 4, 5, 5, 2, 3, 3, 1, 6, 2, 4, 4, 3, 3, 1, 2, 5, 2, 6, 6, 4, 1, 6, 2, 2, 4, 3, 5, 2, 4, 1, 2, 2, 5, 4, 6, 4, 3, 6, 3, 3, 3, 2, 5, 4, 6, 4, 4, 3, 6, 5, 3, 4, 4, 5, 2, 1, 2, 3, 5, 3, 5, 5, 2, 1, 5, 3, 4, 5, 5, 6, 5, 6, 1, 6, 1, 2, 5, 3, 3, 1, 6, 4, 5, 4, 1, 1, 6, 6, 1, 3, 3, 1, 5, 6, 5, 6, 5, 5, 5, 1, 1, 3, 4, 6, 3, 6, 2, 1, 2, 5, 3, 5, 5, 5, 4, 4, 1, 3, 6, 1, 5, 6, 5, 3, 1, 1, 6, 4, 6, 3, 2, 4, 1, 5, 1, 3, 2, 6, 5, 4, 5, 1, 4, 5, 2, 4, 1, 1, 1, 1, 6, 1, 2, 6, 4, 5, 2, 4, 4, 5, 1, 4, 5, 6, 1, 1, 4, 5, 2, 4, 3, 2, 5, 3, 6, 2, 6, 3, 5, 5, 1, 2, 3, 3, 5, 3, 1, 5, 3, 2, 2, 4, 1, 2, 4, 6, 3, 2, 5, 4, 4, 4, 1, 5, 1, 1, 3, 4, 2, 1, 5, 6, 4, 5, 6, 6, 6, 2, 2, 1, 3, 5, 6, 2, 1, 5, 3, 5, 2, 3, 3, 3, 3, 5, 6, 5, 6, 1, 6, 6, 2, 1, 5, 6, 1, 4, 4, 4, 4, 4, 6, 4, 2, 6, 6, 2, 2, 5, 3, 2, 6, 5, 1, 1, 3, 4, 5, 4, 2, 4, 3, 4, 4, 4, 4, 6, 6, 2, 6, 3, 6, 2, 4, 2, 3, 6, 6, 5, 1, 4, 5, 4, 3, 1, 2, 5, 3, 3, 1, 3, 6, 3, 2, 2, 5, 3, 1, 4, 1, 1, 5, 6, 5, 3, 2, 2, 2, 3, 4, 6, 6, 1, 4, 2, 6, 5, 2, 2, 2, 5, 6, 1, 1, 2, 5, 5, 4, 5, 3, 4, 3, 2, 3, 4, 2, 1, 2, 5, 2, 2, 1, 4, 2, 3, 6, 4, 1, 3, 2, 5, 3, 2, 6, 4, 1, 3, 4, 4, 5, 3, 5, 4, 4, 2, 4, 2, 5, 2, 6, 4, 4, 4, 5, 5, 5, 1, 2, 6, 4, 3, 6, 5, 3, 3, 4, 1, 1, 3, 1, 4, 6, 2, 3, 1, 1, 1, 3, 6, 2, 2, 3, 2, 2, 2, 1, 1, 4, 1, 5, 1, 5, 6, 5, 6, 5, 1, 4, 3, 3, 5, 6, 2, 6, 5, 5, 5, 3, 1, 3, 6, 5, 5, 6, 6, 5, 2, 1, 3, 5, 3, 2, 1, 4, 6, 5, 1, 4, 3, 2, 5, 5, 5, 1, 3, 6, 2, 4, 3, 3, 6, 6, 2, 2, 2, 2, 3, 4, 1, 2, 4, 6, 4, 3, 3, 6, 6, 5, 1, 2, 3, 6, 2, 1, 6, 3, 2, 1, 1, 2, 3, 4, 2, 2, 2, 2, 2, 6, 2, 4, 5, 6, 5, 6, 1, 2, 5, 6, 6, 2, 6, 5, 1, 5, 4, 2, 6, 3, 6, 5, 5, 3, 2, 2, 1, 1, 6, 4, 3, 4, 6, 6, 3, 6, 6, 2, 5, 4, 4, 6, 4, 1, 6, 6, 6, 6, 4, 6, 2, 5, 5, 1, 6, 6, 4, 6, 2, 2, 3, 4, 4, 1, 5, 3, 6, 3, 5, 3, 4, 5, 4, 4, 3, 5, 1, 5, 1, 6, 4, 2, 2, 3, 6, 4, 6, 5, 4, 3, 1, 1, 4, 6, 5, 1, 1, 3, 3, 2, 3, 6, 6, 4, 6, 4, 2, 4, 5, 1, 6, 2, 2, 1, 1, 2, 3, 2, 6, 2, 1, 6, 2, 3, 4, 4, 5, 4, 6, 4, 5, 2, 1, 6, 3, 5, 3, 2, 4, 6, 2, 1, 3, 4, 5, 4, 6, 5, 5, 3, 5, 5, 5, 5, 3, 5, 5, 3, 6, 5, 5, 5, 2, 3, 2, 5, 1, 5, 2, 6, 3, 5, 3, 2, 1, 1, 3, 5, 1, 2, 1, 6, 4, 1, 1, 4, 1, 2, 1, 4, 6, 3, 5, 1, 2, 1, 4, 3, 1, 3, 1, 4, 6, 1, 2, 5, 2, 1, 3, 3, 1, 5, 5, 1, 2, 2, 2, 2, 4, 6, 1, 1, 1, 6, 4, 4, 3, 6, 3, 4, 3, 3, 4, 2, 6, 5, 3, 2, 3, 5, 6, 1, 5, 3, 2, 2, 6, 1, 2, 3, 5, 2, 2, 5, 6, 2, 2, 4, 3, 6, 1, 3, 5, 5, 4, 1, 1, 2, 1, 5, 2, 4, 4, 3, 1, 3, 3, 5, 3, 5, 6, 2, 3, 5, 1, 5, 2, 1, 2, 1, 3, 5, 1, 6, 4, 6, 4, 3, 1, 6, 6, 3, 5, 3, 1, 5, 4, 3, 2, 6, 5, 4, 5, 1, 2, 6, 2, 3, 5, 1, 6, 1, 3, 4, 4, 1, 4, 4, 5, 4, 4, 1, 4, 5, 5, 1, 3, 4, 5, 3, 1, 3, 4, 4, 5, 6, 5, 4, 1, 4, 5, 1, 6, 2, 3, 2, 3, 6, 2, 1, 1, 4, 5, 5, 4, 5, 6, 5, 6, 2, 6, 6, 4, 4, 2, 1, 4, 4, 6, 1, 5, 4, 4, 1, 2, 1, 6, 2, 6, 6, 5, 4, 5, 1, 6, 6, 5, 1, 6, 3, 2, 5, 5, 6, 5, 6, 1, 3, 3, 1, 5, 5, 3, 3, 4, 5, 1, 3, 6, 6, 4, 1, 6, 2, 1, 5, 4, 6, 3, 6, 5, 5, 5, 5, 5, 2, 2, 4, 1, 2, 3, 2, 6, 2, 6, 5, 6, 4, 4, 4, 1, 5, 2, 5, 3, 2, 2, 2, 2, 1, 4, 4, 3, 6, 5, 1, 5, 4, 1, 2, 6, 1, 2, 1, 2, 3, 4, 6, 5, 4, 2, 1, 6, 5, 4, 6, 5, 1, 4, 6, 4, 4, 5, 4, 3, 2, 1, 2, 6, 5, 2, 4, 4, 2, 6, 5, 6, 5, 3, 5, 3, 2, 2, 6, 2, 2, 1, 4, 5, 5, 5, 5, 6, 4, 1, 6, 6, 2, 2, 2, 4, 6, 1, 4, 5, 6, 1, 2, 4, 4, 4, 3, 3, 4, 2, 4, 5, 6, 2, 6, 1, 4, 1, 6, 3, 4, 2, 2, 6, 6, 2, 2, 4, 5, 6, 3, 5, 3, 4, 6, 1, 3, 4, 1, 5, 1, 1, 5, 4, 4, 3, 4, 2, 3, 2, 2, 4, 5, 3, 2, 4, 1, 2, 6, 2, 6, 1, 1, 6, 1, 3, 3, 1, 3, 6, 6, 4, 2, 6, 1, 5, 4, 5, 1, 6, 6, 3, 6, 6, 6, 4, 1, 1, 1, 5, 6, 3, 4, 3, 5, 5, 5, 2, 1, 2, 3, 1, 6, 1, 6, 3, 5, 4, 5, 4, 4, 4, 5, 1, 2, 5, 2, 3, 3, 3, 1, 1, 1, 4, 6, 5, 1, 5, 6, 6, 1, 2, 6, 3, 1, 1, 2, 1, 1, 6, 2, 3, 3, 5, 2, 1, 2, 6, 6, 5, 2, 1, 1, 3, 5, 4, 3, 3, 3, 5, 2, 5, 5, 4, 5, 6, 4, 4, 3, 1, 4, 5, 4, 1, 1, 3, 5, 2, 3, 3, 6, 4, 2, 5, 5, 5, 4, 6, 6, 2, 5, 3, 1, 2, 6, 5, 5, 6, 5, 1, 3, 6, 3, 6, 4, 6, 3, 2, 1, 4, 4, 5, 1, 4, 3, 6, 5, 1, 4, 4, 6, 1, 3, 4, 2, 4, 5, 3, 4, 6, 6, 5, 2, 5, 5, 2, 4, 6, 3, 6, 5, 3, 4, 6, 6, 5, 3, 2, 2, 5, 6, 3, 4, 2, 5, 1, 5, 5, 6, 2, 3, 5, 5, 2, 2, 3, 2, 2, 1, 5, 5, 3, 5, 2, 5, 2, 2, 5, 6, 6, 5, 5, 3, 2, 2, 6, 2, 3, 1, 5, 2, 2, 4, 3, 1, 3, 5, 4, 3, 5, 3, 5, 6, 5, 4, 4, 4, 3, 1, 3, 2, 6, 5, 6, 6, 5, 2, 2, 3, 6, 3, 1, 1, 1, 1, 3, 5, 2, 5, 4, 2, 3, 4, 4, 5, 4, 1, 2, 3, 6, 2, 4, 5, 3, 3, 3, 4, 3, 4, 1, 4, 2, 2, 5, 2, 4, 6, 1, 1, 6, 6, 2, 5, 5, 1, 1, 1, 4, 3, 1, 5, 5, 3, 4, 4, 5, 5, 1, 4, 2, 2, 5, 2, 6, 1, 2, 5, 4, 6, 5, 3, 2, 6, 5, 4, 4, 2, 5, 6, 1, 1, 3, 6, 1, 2, 3, 2, 3, 6, 5, 3, 5, 1, 2, 2, 5, 2, 3, 1, 2, 4, 1, 2, 3, 4, 1, 5, 3, 3, 2, 5, 4, 6, 2, 4, 1, 4, 4, 4, 4, 3, 4, 6, 6, 6, 2, 1, 3, 6, 3, 1, 3, 3, 1, 2, 4, 5, 6, 2, 1, 3, 5, 4, 2, 2, 3, 2, 1, 3, 4, 4, 5, 5, 5, 6, 5, 4, 6, 2, 3, 5, 3, 1, 4, 6, 4, 1, 6, 4, 4, 6, 3, 4, 4, 5, 1, 6, 1, 1, 5, 3, 2, 4, 5, 2, 4, 6, 2, 2, 4, 1, 5, 2, 1, 2, 1, 3, 3, 6, 5, 4, 4, 4, 6, 5, 4, 2, 5, 2, 2, 3, 5, 6, 3, 1, 1, 2, 2, 5, 1, 3, 2, 2, 4, 2, 4, 3, 1, 2, 4, 1, 4, 3, 6, 2, 4, 3, 1, 3, 5, 3, 4, 1, 2, 5, 6, 6, 3, 3, 2, 5, 1, 6, 3, 4, 5, 1, 6, 3, 5, 2, 6, 4, 5, 4, 6, 1, 5, 2, 3, 6, 6, 1, 4, 2, 2, 1, 3, 3, 5, 5, 3, 4, 6, 3, 4, 3, 1, 5, 3, 4, 3, 4, 1, 5, 3, 6, 3, 4, 4, 3, 3, 3, 1, 4, 4, 3, 4, 1, 6, 4, 6, 6, 4, 4, 2, 4, 3, 1, 6, 4, 1, 1, 5, 4, 3, 5, 2, 4, 1, 2, 6, 4, 6, 1, 2, 1, 3, 6, 3, 6, 6, 4, 6, 4, 4, 3, 2, 2, 3, 5, 4, 6, 4, 4, 2, 6, 2, 4, 4, 1, 4, 2, 5, 6, 5, 3, 5, 6, 3, 6, 3, 5, 4, 6, 1, 5, 6, 1, 2, 3, 1, 6, 2, 3, 5, 1, 3, 2, 1, 6, 6, 5, 3, 2, 3, 1, 5, 6, 2, 2, 4, 2, 4, 4, 2, 1, 4, 2, 5, 1, 4, 5, 3, 3, 2, 5, 3, 6, 2, 1, 4, 1, 6, 3, 6, 2, 4, 4, 3, 4, 1, 1, 2, 2, 6, 3, 5, 3, 4, 4, 5, 4, 6, 1, 3, 4, 1, 1, 6, 5, 5, 5, 5, 1, 2, 4, 3, 4, 3, 6, 5, 3, 4, 4, 1, 4, 2, 4, 5, 3, 6, 1, 6, 6, 2, 3, 4, 4, 6, 1, 5, 4, 4, 2, 3, 6, 5, 1, 4, 1, 4, 4, 5, 6, 6, 4, 3, 6, 5, 4, 4, 1, 3, 1, 1, 2, 3, 1, 5, 2, 2, 2, 6, 5, 2, 2, 5, 3, 6, 5, 5, 4, 5, 6, 2, 3, 1, 4, 5, 4, 6, 3, 6, 1, 4, 2, 2, 6, 5, 4, 5, 4, 6, 4, 2, 3, 2, 4, 6, 4, 4, 4, 4, 2, 1, 2, 4, 2, 5, 4, 5, 4, 5, 2, 3, 1, 4, 2, 6, 2, 5, 4, 6, 6, 6, 3, 1, 4, 5, 6, 3, 1, 3, 2, 4, 3, 4, 2, 3, 3, 5, 6, 4, 2, 6, 5, 5, 3, 1, 4, 5, 3, 1, 3, 3, 6, 2, 1, 6, 3, 6, 2, 5, 6, 6, 5, 1, 4, 3, 3, 6, 2, 4, 1, 5, 1, 2, 3, 1, 2, 4, 1, 5, 5, 4, 1, 1, 4, 4, 4, 4, 5, 1, 6, 3, 4, 2, 5, 3, 2, 5, 6, 1, 3, 6, 1, 1, 5, 1, 2, 3, 4, 1, 4, 4, 2, 6, 3, 6, 2, 3, 3, 5, 4, 2, 4, 2, 4, 5, 1, 6, 1, 5, 6, 3, 3, 2, 1, 1, 3, 3, 6, 1, 3, 2, 6, 2, 1, 1, 2, 3, 4, 3, 1, 2, 3, 4, 3, 4, 2, 2, 2, 6, 1, 2, 3, 3, 5, 6, 5, 1, 6, 5, 1, 3, 1, 6, 1, 4, 1, 4, 3, 5, 4, 6, 4, 5, 4, 3, 5, 4, 2, 6, 5, 4, 1, 5, 6, 5, 5, 4, 5, 3, 1, 2, 4, 4, 2, 6, 5, 6, 4, 5, 3, 1, 3, 6, 1, 2, 3, 1, 1, 3, 1, 6, 6, 1, 5, 2, 3, 3, 2, 3, 4, 6, 5, 4, 4, 6, 3, 6, 5, 3, 1, 4, 6, 3, 6, 4, 1, 4, 3, 3, 4, 4, 5, 1, 4, 5, 5, 1, 2, 2, 2, 2, 6, 4, 4, 5, 3, 5, 6, 4, 3, 5, 3, 1, 6, 1, 3, 3, 2, 3, 6, 1, 6, 6, 3, 2, 5, 5, 1, 1, 6, 3, 3, 1, 5, 5, 4, 6, 4, 3, 5, 5, 4, 1, 4, 4, 1, 3, 5, 2, 5, 3, 2, 6, 2, 1, 2, 1, 6, 6, 1, 2, 6, 2, 6, 4, 5, 6, 6, 6, 6, 6, 4, 4, 6, 3, 2, 5, 1, 5, 6, 4, 2, 3, 6, 6, 2, 4, 6, 2, 3, 6, 1, 6, 3, 3, 6, 3, 3, 1, 6, 1, 5, 4, 5, 4, 3, 4, 4, 5, 1, 1, 5, 2, 1, 6, 1, 6, 5, 6, 2, 2, 3, 3, 2, 6, 2, 4, 6, 5, 4, 3, 4, 4, 6, 2, 4, 2, 6, 1, 3, 6, 4, 2, 6, 2, 5, 1, 6, 3, 6, 3, 3, 3, 3, 1, 5, 5, 2, 5, 5, 3, 6, 5, 2, 4, 5, 5, 5, 1, 6, 5, 5, 1, 2, 1, 6, 3, 6, 3, 4, 5, 6, 1, 4, 3, 5, 5, 2, 5, 6, 6, 5, 6, 5, 2, 4, 1, 2, 5, 3, 3, 5, 6, 3, 4, 5, 5, 2, 1, 5, 5, 4, 4, 3, 5, 3, 2, 3, 3, 1, 1, 5, 4, 4, 6, 2, 5, 1, 4, 3, 6, 6, 1, 4, 6, 5, 2, 5, 6, 2, 5, 4, 3, 2, 5, 4, 2, 6, 2, 3, 5, 1, 3, 3, 5, 3, 4, 1, 6, 5, 4, 3, 6, 5, 2, 6, 2, 1, 5, 6, 3, 6, 6, 2, 2, 4, 5, 1, 6, 3, 1, 4, 2, 3, 2, 5, 6, 3, 2, 5, 1, 6, 2, 1, 5, 5, 2, 3, 1, 6, 6, 4, 3, 5, 3, 2, 6, 6, 4, 3, 6, 1, 5, 1, 5, 5, 3, 3, 4, 3, 4, 4, 1, 6, 2, 6, 1, 4, 6, 2, 4, 4, 4, 4, 5, 6, 1, 4, 1, 6, 2, 4, 1, 5, 1, 5, 4, 4, 3, 6, 3, 1, 6, 1, 2, 1, 4, 6, 3, 1, 2, 4, 2, 1, 6, 1, 2, 1, 2, 6, 6, 5, 4, 1, 2, 6, 3, 6, 4, 2, 1, 2, 2, 1, 4, 3, 4, 4, 4, 6, 3, 6, 4, 3, 5, 4, 1, 3, 2, 5, 5, 4, 1, 6, 1, 5, 5, 1, 2, 6, 2, 4, 6, 5, 1, 3, 1, 6, 4, 2, 4, 4, 4, 4, 2, 2, 5, 3, 1, 3, 1, 5, 5, 6, 5, 6, 6, 2, 1, 2, 3, 6, 1, 1, 5, 5, 4, 6, 4, 2, 1, 3, 2, 3, 3, 6, 3, 4, 4, 6, 2, 5, 2, 5, 3, 1, 2, 5, 3, 6, 6, 3, 2, 3, 5, 1, 3, 2, 2, 1, 5, 2, 5, 1, 6, 2, 3, 6, 4, 3, 4, 6, 2, 1, 1, 3, 3, 3, 1, 2, 1, 5, 3, 6, 1, 4, 1, 2, 3, 1, 3, 4, 5, 4, 3, 5, 5, 2, 1, 1, 2, 2, 6, 1, 3, 1, 4, 5, 4, 2, 6, 6, 2, 6, 4, 4, 4, 2, 1, 4, 2, 5, 5, 2, 3, 3, 4, 5, 1, 1, 1, 6, 4, 6, 4, 5, 2, 2, 2, 3, 3, 6, 3, 1, 6, 2, 2, 1, 1, 6, 4, 1, 3, 5, 4, 6, 1, 4, 1, 3, 4, 6, 6, 4, 6, 4, 4, 6, 5, 1, 6, 3, 6, 6, 6, 6, 1, 6, 2, 1, 1, 6, 2, 3, 5, 6, 4, 3, 5, 5, 3, 2, 3, 1, 4, 6, 2, 1, 1, 5, 6, 5, 2, 2, 4, 1, 4, 4, 1, 5, 3, 3, 5, 6, 2, 2, 4, 2, 2, 1, 4, 6, 3, 6, 1, 2, 3, 2, 5, 5, 4, 4, 5, 4, 2, 3, 1, 6, 2, 6, 3, 1, 4, 5, 2, 2, 6, 1, 3, 4, 5, 6, 2, 1, 4, 5, 5, 1, 1, 5, 2, 3, 4, 3, 6, 2, 5, 3, 4, 2, 2, 4, 4, 6, 3, 2, 2, 1, 2, 6, 2, 4, 1, 1, 5, 4, 4, 4, 6, 3, 6, 3, 4, 6, 2, 4, 6, 3, 5, 6, 2, 2, 2, 6, 4, 3, 4, 6, 5, 2, 4, 1, 4, 3, 2, 3, 6, 1, 1, 1, 4, 3, 1, 4, 6, 4, 6, 2, 3, 6, 3, 1, 4, 2, 4, 6, 1, 5, 2, 5, 5, 3, 3, 1, 3, 4, 2, 1, 4, 1, 3, 3, 2, 1, 5, 4, 6, 6, 2, 3, 5, 5, 4, 1, 4, 5, 6, 5, 2, 5, 6, 3, 4, 3, 5, 4, 3, 3, 2, 4, 1, 6, 1, 5, 6, 3, 1, 4, 5, 1, 1, 2, 6, 4, 6, 5, 3, 2, 2, 1, 3, 6, 5, 2, 4, 6, 2, 2, 6, 5, 5, 6, 5, 6, 3, 4, 6, 6, 2, 3, 3, 5, 6, 5, 4, 4, 2, 1, 1, 2, 5, 5, 4, 2, 6, 3, 4, 4, 3, 3, 3, 4, 5, 2, 4, 4, 2, 5, 5, 6, 6, 1, 3, 1, 4, 2, 2, 2, 3, 6, 3, 6, 1, 2, 6, 3, 6, 6, 5, 6, 3, 5, 2, 6, 2, 4, 6, 1, 6, 5, 4, 4, 6, 3, 6, 2, 3, 1, 6, 6, 6, 3, 5, 5, 3, 6, 5, 5, 1, 4, 3, 2, 1, 6, 6, 1, 2, 3, 3, 5, 6, 5, 2, 1, 2, 3, 4, 3, 3, 4, 6, 5, 4, 1, 1, 1, 3, 4, 5, 3, 6, 1, 3, 6, 2, 2, 5, 3, 3, 2, 6, 2, 6, 5, 6, 6, 2, 4, 5, 2, 1, 2, 2, 4, 2, 5, 3, 6, 5, 6, 2, 5, 5, 3, 6, 1, 2, 1, 4, 4, 5, 5, 2, 5, 2, 3, 5, 3, 1, 1, 1, 1, 3, 4, 6, 1, 3, 3, 2, 5, 1, 2, 4, 6, 5, 1, 2, 1, 3, 6, 4, 6, 2, 4, 2, 4, 3, 4, 1, 6, 2, 5, 1, 6, 1, 5, 2, 6, 3, 1, 4, 4, 3, 3, 4, 2, 6, 1, 5, 1, 1, 5, 2, 1, 4, 2, 1, 6, 6, 1, 6, 2, 4, 1, 4, 3, 5, 1, 3, 6, 2, 2, 5, 1, 6, 2, 3, 3, 3, 3, 3, 5, 6, 6, 2, 6, 6, 5, 5, 6, 4, 3, 3, 6, 1, 5, 4, 1, 2, 2, 3, 6, 3, 3, 3, 2, 6, 2, 1, 5, 5, 2, 5, 2, 6, 6, 1, 5, 3, 3, 3, 3, 1, 1, 1, 1, 2, 6, 4, 1, 2, 3, 6, 1, 2, 5, 2, 2, 3, 3, 2, 6, 3, 1, 4, 4, 2, 6, 3, 5, 3, 5, 2, 1, 6, 2, 5, 4, 4, 6, 6, 5, 6, 6, 3, 4, 6, 6, 2, 4, 5, 3, 6, 1, 5, 6, 6, 4, 6, 3, 4, 4, 1, 5, 6, 6, 5, 1, 5, 5, 4, 2, 3, 2, 5, 2, 2, 4, 3, 5, 4, 1, 3, 3, 4, 5, 1, 3, 2, 1, 4, 4, 6, 2, 6, 6, 4, 2, 3, 6, 4, 3, 3, 6, 6, 3, 1, 2, 1, 3, 6, 4, 1, 5, 6, 3, 6, 6, 2, 6, 5, 1, 6, 2, 6, 4, 2, 3, 5, 1, 2, 4, 3, 4, 3, 5, 1, 2, 2, 6, 1, 4, 6, 1, 5, 6, 1, 1, 5, 1, 6, 1, 5, 3, 1, 6, 5, 2, 5, 3, 6, 5, 3, 5, 1, 2, 4, 1, 1, 3, 2, 4, 5, 6, 1, 1, 2, 1, 2, 1, 5, 3, 3, 5, 6, 4, 5, 6, 1, 6, 3, 3, 6, 2, 4, 4, 5, 4, 6, 5, 6, 1, 4, 5, 1, 6, 1, 5, 1, 1, 3, 6, 6, 5, 6, 3, 4, 4, 1, 1, 1, 3, 6, 4, 3, 2, 6, 3, 5, 4, 3, 6, 1, 3, 2, 4, 1, 3, 3, 5, 3, 4, 6, 3, 6, 3, 2, 4, 5, 6, 2, 4, 2, 1, 2, 5, 4, 4, 3, 5, 4, 5, 1, 2, 6, 1, 3, 3, 3, 2, 3, 2, 4, 1, 6, 2, 2, 3, 1, 4, 1, 3, 4, 4, 4, 3, 6, 2, 2, 4, 2, 5, 6, 2, 2, 2, 4, 6, 6, 1, 4, 5, 1, 3, 1, 1, 2, 1, 6, 5, 3, 6, 1, 2, 5, 4, 6, 6, 4, 3, 1, 6, 3, 1, 6, 4, 3, 6, 2, 5, 1, 1, 4, 1, 4, 4, 6, 5, 1, 4, 5, 5, 3, 4, 5, 1, 1, 6, 6, 3, 2, 4, 5, 2, 1, 2, 4, 6, 5, 5, 1, 2, 6, 4, 6, 3, 6, 6, 2, 6, 2, 3, 4, 2, 5, 6, 4, 2, 4, 2, 2, 6, 5, 2, 4, 2, 4, 6, 5, 5, 2, 3, 3, 4, 6, 4, 1, 6, 5, 3, 3, 2, 5, 3, 5, 1, 5, 3, 4, 1, 1, 6, 6, 1, 2, 5, 1, 6, 1, 3, 1, 4, 1, 6, 6, 2, 6, 3, 1, 5, 5, 4, 3, 6, 5, 5, 4, 1, 5, 4, 5, 3, 2, 3, 3, 2, 5, 5, 2, 6, 1, 3, 6, 3, 6, 5, 5, 5, 5, 6, 6, 6, 2, 2, 1, 4, 3, 1, 6, 5, 5, 3, 4, 5, 6, 3, 3, 2, 2, 5, 1, 5, 2, 2, 2, 1, 3, 3, 2, 1, 4, 5, 2, 4, 4, 1, 1, 3, 3, 6, 2, 3, 1, 5, 5, 6, 1, 5, 1, 3, 4, 2, 6, 6, 6, 3, 1, 6, 3, 1, 5, 4, 5, 2, 6, 2, 5, 3, 4, 3, 6, 3, 4, 6, 3, 5, 3, 2, 4, 2, 2, 1, 2, 2, 4, 6, 4, 4, 1, 2, 6, 5, 4, 6, 6, 1, 6, 1, 6, 4, 5, 2, 2, 2, 5, 2, 1, 5, 3, 5, 6, 3, 5, 1, 4, 6, 2, 2, 3, 1, 6, 2, 4, 1, 1, 6, 4, 2, 3, 5, 6, 6, 2, 3, 1, 6, 4, 2, 5, 6, 3, 3, 3, 5, 1, 6, 2, 1, 6, 5, 4, 3, 6, 4, 3, 4, 3, 3, 5, 1, 1, 6, 6, 5, 3, 2, 3, 6, 5, 4, 5, 1, 1, 6, 6, 4, 1, 3, 5, 2, 5, 5, 5, 1, 4, 1, 4, 4, 6, 3, 3, 1, 5, 3, 5, 4, 6, 3, 6, 6, 2, 5, 6, 3, 6, 6, 6, 1, 6, 6, 6, 1, 6, 4, 1, 4, 6, 4, 2, 4, 6, 1, 5, 6, 4, 5, 5, 4, 2, 4, 6, 1, 4, 5, 5, 3, 6, 3, 6, 2, 4, 6, 1, 5, 1, 2, 4, 3, 1, 6, 3, 1, 5, 1, 2, 3, 2, 6, 3, 3, 4, 1, 5, 2, 2, 6, 6, 1, 4, 3, 5, 4, 3, 3, 4, 6, 4, 5, 3, 4, 3, 5, 1, 3, 6, 3, 3, 5, 4, 3, 2, 1, 2, 5, 3, 3, 6, 6, 4, 5, 1, 2, 5, 5, 3, 1, 1, 1, 4, 2, 1, 3, 2, 1, 1, 3, 6, 3, 2, 4, 1, 5, 3, 5, 2, 5, 6, 1, 2, 3, 4, 5, 4, 4, 1, 4, 5, 3, 4, 3, 1, 5, 4, 2, 1, 2, 6, 3, 4, 4, 3, 4, 3, 4, 5, 6, 3, 1, 4, 4, 4, 1, 3, 2, 4, 1, 1, 2, 5, 5, 1, 3, 6, 6, 2, 1, 1, 6, 2, 2, 1, 5, 1, 6, 1, 2, 6, 2, 3, 6, 4, 3, 3, 6, 3, 4, 3, 4, 4, 3, 2, 4, 3, 5, 3, 6, 1, 2, 5, 3, 5, 4, 6, 6, 2, 6, 6, 5, 1, 4, 3, 2, 6, 6, 2, 6, 4, 4, 4, 6, 1, 3, 1, 2, 4, 5, 4, 3, 2, 6, 1, 3, 3, 5, 3, 5, 3, 1, 2, 1, 2, 1, 5, 6, 2, 1, 1, 2, 3, 5, 6, 1, 3, 1, 3, 5, 2, 1, 6, 6, 4, 4, 6, 6, 4, 5, 5, 4, 4, 3, 2, 1, 4, 1, 3, 5, 4, 2, 2, 5, 4, 4, 4, 2, 5, 5, 3, 2, 1, 2, 2, 2, 6, 4, 6, 6, 3, 4, 3, 4, 2, 6, 4, 2, 6, 2, 3, 6, 6, 3, 1, 5, 4, 1, 4, 4, 3, 4, 5, 2, 5, 3, 2, 5, 5, 3, 5, 5, 5, 6, 6, 3, 4, 1, 5, 1, 5, 3, 4, 2, 2, 4, 3, 2, 6, 1, 4, 5, 3, 4, 3, 2, 1, 1, 4, 5, 4, 3, 4, 6, 5, 6, 3, 1, 1, 5, 5, 5, 6, 1, 1, 6, 2, 2, 1, 2, 4, 3, 4, 5, 4, 5, 2, 5, 5, 1, 1, 1, 4, 4, 4, 4, 2, 4, 4, 4, 4, 1, 6, 3, 5, 2, 3, 5, 5, 6, 6, 3, 5, 3, 5, 4, 4, 5, 3, 4, 1, 1, 2, 5, 2, 3, 4, 6, 3, 3, 6, 1, 2, 6, 4, 4, 4, 6, 1, 5, 3, 1, 3, 2, 3, 1, 6, 3, 6, 5, 3, 1, 2, 4, 6, 3, 2, 5, 3, 2, 6, 2, 1, 6, 5, 1, 4, 5, 4, 1, 2, 6, 4, 1, 5, 5, 2, 6, 5, 2, 3, 3, 1, 6, 3, 1, 5, 2, 3, 4, 5, 5, 5, 2, 3, 6, 5, 1, 4, 6, 2, 3, 3, 3, 2, 1, 4, 6, 1, 2, 3, 6, 4, 2, 3, 3, 3, 1, 5, 4, 1, 5, 1, 2, 2, 2, 6, 5, 6, 6, 5, 1, 5, 3, 6, 3, 3, 5, 3, 2, 3, 3, 4, 5, 1, 5, 4, 6, 5, 4, 1, 2, 3, 3, 5, 4, 1, 5, 3, 1, 1, 3, 1, 6, 1, 6, 5, 6, 4, 5, 2, 4, 6, 5, 6, 1, 4, 3, 5, 3, 2, 4, 3, 6, 2, 6, 4, 1, 5, 3, 4, 5, 2, 6, 4, 3, 1, 5, 1, 2, 2, 4, 2, 6, 2, 5, 5, 2, 1, 4, 1, 6, 2, 3, 1, 6, 5, 6, 4, 3, 4, 2, 2, 4, 5, 6, 3, 4, 3, 6, 2, 4, 5, 6, 1, 4, 5, 5, 4, 1, 4, 6, 2, 4, 2, 1, 5, 6, 1, 3, 1, 4, 4, 1, 5, 6, 6, 5, 6, 3, 1, 6, 4, 5, 5, 6, 3, 5, 6, 4, 5, 3, 1, 4, 4, 5, 6, 6, 4, 5, 6, 2, 6, 5, 6, 4, 5, 6, 1, 1, 2, 3, 1, 2, 4, 3, 1, 4, 2, 1, 4, 4, 3, 6, 4, 3, 2, 3, 3, 3, 4, 1, 4, 4, 3, 5, 6, 6, 5, 2, 6, 2, 2, 3, 5, 6, 6, 1, 4, 1, 5, 2, 1, 4, 4, 1, 1, 1, 3, 5, 1, 1, 6, 5, 5, 6, 3, 4, 6, 2, 6, 1, 4, 1, 6, 4, 4, 1, 5, 2, 2, 3, 1, 2, 6, 2, 2, 3, 2, 6, 1, 4, 2, 2, 4, 5, 5, 6, 4, 1, 5, 4, 3, 1, 5, 1, 1, 5, 3, 4, 2, 6, 2, 1, 5, 6, 6, 5, 2, 1, 5, 1, 4, 2, 5, 2, 6, 4, 6, 3, 5, 1, 6, 2, 3, 2, 6, 3, 5, 5, 3, 3, 6, 4, 6, 1, 2, 4, 6, 4, 1, 1, 1, 1, 1, 2, 2, 4, 2, 6, 4, 5, 1, 5, 2, 3, 4, 6, 2, 5, 2, 2, 2, 1, 6, 6, 1, 4, 3, 3, 6, 5, 2, 2, 2, 1, 4, 3, 1, 4, 6, 1, 6, 2, 1, 2, 1, 1, 2, 1, 6, 5, 3, 5, 2, 3, 5, 1, 6, 2, 1, 5, 4, 5, 6, 6, 2, 5, 4, 3, 3, 6, 2, 1, 3, 4, 5, 1, 6, 2, 4, 2, 5, 5, 4, 6, 1, 6, 3, 2, 2, 2, 6, 6, 3, 3, 3, 2, 2, 5, 1, 3, 6, 5, 1, 2, 1, 5, 3, 2, 4, 4, 1, 4, 3, 1, 5, 1, 5, 6, 2, 4, 2, 1, 6, 3, 5, 4, 3, 3, 2, 6, 6, 6, 4, 1, 2, 6, 3, 2, 2, 2, 6, 3, 6, 2, 2, 3, 6, 3, 2, 1, 3, 6, 5, 5, 5, 5, 5, 4, 1, 2, 2, 5, 6, 6, 1, 4, 2, 4, 2, 4, 4, 6, 2, 1, 4, 6, 2, 2, 6, 4, 4, 5, 2, 5, 3, 1, 3, 6, 2, 2, 6, 4, 5, 1, 2, 5, 6, 2, 2, 2, 1, 2, 4, 2, 4, 4, 5, 1, 5, 6, 1, 4, 2, 5, 5, 4, 4, 6, 2, 2, 3, 6, 2, 6, 6, 3, 4, 6, 2, 2, 2, 5, 3, 3, 4, 3, 2, 1, 5, 5, 4, 5, 2, 1, 4, 3, 2, 4, 1, 2, 3, 1, 4, 3, 6, 1, 6, 6, 3, 4, 5, 6, 6, 6, 5, 4, 1, 1, 1, 6, 2, 2, 2, 2, 3, 3, 5, 5, 4, 5, 1, 5, 1, 6, 1, 6, 4, 4, 3, 2, 3, 5, 2, 5, 1, 3, 4, 2, 1, 6, 1, 5, 4, 6, 2, 3, 4, 5, 5, 2, 2, 1, 5, 4, 4, 6, 2, 6, 1, 3, 6, 1, 2, 5, 3, 4, 6, 6, 3, 5, 2, 5, 5, 1, 5, 3, 4, 4, 4, 5, 1, 1, 1, 1, 6, 3, 3, 5, 5, 3, 6, 5, 1, 5, 2, 6, 2, 4, 4, 6, 5, 6, 4, 4, 5, 3, 2, 1, 3, 2, 2, 6, 5, 6, 1, 3, 1, 5, 4, 2, 6, 6, 5, 1, 3, 3, 4, 6, 6, 5, 4, 3, 4, 1, 2, 2, 4, 1, 1, 4, 2, 5, 6, 2, 4, 6, 6, 1, 2, 3, 4, 1, 2, 2, 5, 2, 3, 5, 6, 6, 4, 5, 6, 5, 3, 4, 3, 3, 3, 5, 3, 5, 2, 5, 5, 3, 5, 6, 1, 5, 2, 6, 3, 1, 3, 2, 2, 4, 1, 5, 4, 3, 6, 1, 5, 3, 4, 5, 2, 4, 3, 3, 2, 1, 5, 3, 2, 1, 2, 5, 3, 1, 3, 5, 3, 5, 6, 2, 2, 5, 4, 1, 6, 2, 3, 4, 1, 5, 3, 5, 5, 3, 6, 6, 3, 3, 3, 3, 5, 1, 6, 2, 6, 5, 1, 3, 4, 3, 5, 3, 5, 6, 2, 5, 3, 2, 3, 2, 6, 4, 3, 1, 3, 6, 4, 1, 1, 1, 4, 3, 6, 2, 3, 5, 5, 4, 5, 1, 3, 5, 3, 6, 2, 6, 1, 4, 4, 6, 1, 2, 3, 1, 6, 1, 3, 1, 2, 5, 3, 6, 6, 5, 1, 2, 6, 5, 6, 3, 1, 6, 6, 5, 5, 4, 5, 5, 6, 3, 3, 2, 1, 3, 3, 3, 4, 1, 6, 3, 2, 2, 6, 4, 6, 3, 4, 1, 5, 1, 4, 5, 5, 2, 1, 6, 3, 1, 1, 4, 2, 5, 1, 2, 5, 3, 5, 3, 4, 1, 5, 4, 6, 3, 3, 3, 6, 4, 3, 5, 2, 6, 3, 6, 6, 3, 2, 2, 6, 6, 6, 6, 3, 4, 3, 5, 2, 4, 4, 5, 4, 5, 6, 2, 3, 6, 2, 5, 3, 1, 3, 6, 3, 4, 2, 6, 6, 4, 6, 6, 6, 3, 6, 1, 2, 3, 2, 6, 3, 4, 1, 2, 4, 6, 1, 4, 5, 4, 2, 6, 3, 4, 1, 1, 6, 4, 6, 2, 1, 6, 4, 5, 5, 3, 2, 4, 3, 4, 4, 6, 5, 6, 2, 2, 3, 2, 1, 5, 6, 2, 6, 5, 3, 1, 3, 5, 1, 1, 2, 4, 2, 6, 5, 1, 1, 1, 4, 2, 2, 3, 4, 4, 2, 4, 4, 5, 4, 4, 4, 6, 4, 3, 1, 2, 3, 5, 3, 4, 4, 2, 6, 6, 6, 1, 6, 5, 5, 1, 1, 4, 1, 2, 1, 2, 4, 3, 6, 6, 3, 2, 1, 2, 2, 6, 5, 5, 4, 2, 4, 2, 1, 3, 1, 5, 6, 3, 1, 4, 3, 1, 3, 6, 5, 6, 4, 5, 3, 1, 5, 6, 6, 2, 2, 6, 6, 5, 2, 6, 6, 6, 2, 5, 2, 3, 6, 2, 6, 1, 3, 3, 3, 2, 2, 1, 6, 1, 3, 2, 1, 5, 1, 5, 4, 3, 4, 5, 4, 1, 2, 4, 4, 3, 6, 3, 4, 3, 6, 1, 3, 3, 2, 5, 5, 6, 2, 1, 3, 3, 5, 1, 5, 5, 6, 6, 5, 1, 5, 3, 1, 6, 1, 5, 1, 6, 1, 2, 6, 3, 3, 5, 1, 6, 1, 2, 3, 3, 2, 2, 1, 3, 2, 6, 6, 3, 3, 4, 2, 4, 2, 5, 3, 3, 5, 4, 6, 6, 2, 6, 6, 6, 4, 3, 1, 5, 5, 4, 3, 5, 4, 6, 3, 6, 3, 3, 4, 6, 2, 4, 2, 5, 2, 5, 6, 5, 4, 2, 4, 1, 3, 1, 5, 5, 6, 6, 3, 3, 3, 5, 1, 1, 2, 4, 2, 1, 1, 5, 6, 4, 5, 2, 3, 4, 3, 4, 5, 6, 2, 2, 6, 4, 6, 6, 3, 1, 5, 4, 2, 5, 3, 2, 2, 4, 6, 6, 2, 6, 6, 5, 5, 3, 3, 1, 6, 1, 1, 4, 5, 3, 6, 4, 5, 3, 2, 4, 6, 4, 5, 1, 2, 4, 6, 4, 1, 1, 1, 4, 5, 2, 1, 1, 2, 2, 6, 2, 1, 3, 3, 3, 5, 2, 5, 1, 2, 1, 4, 6, 1, 4, 3, 3, 6, 2, 1, 3, 4, 2, 3, 6, 4, 6, 4, 5, 2, 1, 3, 3, 2, 5, 3, 4, 4, 3, 1, 2, 1, 4, 6, 4, 1, 6, 3, 6, 6, 4, 2, 3, 5, 6, 3, 6, 6, 3, 3, 1, 5, 5, 2, 6, 2, 1, 5, 5, 4, 3, 5, 3, 4, 4, 5, 6, 4, 2, 2, 4, 2, 2, 4, 5, 1, 6, 1, 1, 2, 6, 4, 1, 3, 6, 1, 3, 1, 1, 4, 5, 5, 4, 2, 1, 2, 5, 3, 1, 4, 2, 2, 2, 1, 6, 1, 4, 1, 1, 1, 3, 1, 6, 1, 3, 5, 6, 4, 3, 2, 2, 4, 1, 3, 3, 4, 2, 1, 3, 5, 4, 5, 1, 5, 5, 6, 3, 5, 3, 6, 6, 4, 1, 1, 1, 1, 1, 1, 5, 2, 3, 5, 6, 2, 5, 2, 5, 6, 4, 1, 2, 6, 4, 4, 5, 6, 1, 2, 3, 2, 5, 1, 6, 6, 2, 1, 1, 4, 5, 5, 5, 1, 5, 5, 6, 6, 5, 3, 5, 6, 5, 4, 1, 2, 6, 6, 3, 3, 4, 3, 5, 1, 4, 3, 5, 5, 4, 1, 2, 6, 5, 1, 1, 4, 3, 1, 3, 2, 2, 1, 1, 2, 3, 3, 2, 6, 5, 4, 5, 4, 5, 5, 4, 2, 5, 4, 2, 6, 4, 6, 6, 3, 2, 4, 5, 6, 5, 4, 3, 2, 2, 1, 1, 2, 4, 3, 5, 5, 6, 5, 2, 2, 3, 2, 5, 6, 2, 2, 5, 1, 1, 3, 6, 3, 4, 6, 3, 5, 4, 3, 2, 1, 3, 1, 2, 5, 2, 4, 6, 6, 1, 6, 3, 6, 6, 6, 6, 4, 6, 3, 6, 4, 2, 2, 6, 5, 2, 1, 5, 3, 1, 5, 5, 5, 5, 6, 5, 4, 2, 6, 3, 4, 4, 4, 2, 6, 4, 5, 1, 6, 1, 4, 1, 2, 6, 1, 6, 1, 5, 5, 4, 3, 3, 1, 5, 1, 2, 5, 1, 4, 2, 3, 5, 5, 6, 2, 5, 1, 2, 5, 4, 1, 1, 4, 4, 6, 5, 1, 1, 5, 2, 2, 2, 4, 1, 4, 3, 6, 1, 2, 1, 3, 2, 3, 3, 6, 1, 3, 2, 5, 2, 1, 5, 3, 2, 1, 2, 2, 3, 2, 3, 2, 6, 4, 1, 6, 3, 1, 6, 4, 6, 2, 2, 1, 6, 2, 6, 4, 6, 6, 5, 6, 6, 5, 3, 2, 4, 4, 5, 2, 5, 6, 3, 6, 2, 4, 3, 3, 5, 4, 4, 4, 1, 1, 5, 2, 4, 2, 3, 2, 6, 2, 6, 3, 5, 2, 3, 2, 5, 3, 6, 4, 4, 5, 4, 2, 4, 3, 1, 3, 5, 1, 2, 4, 6, 5, 1, 2, 4, 2, 6, 1, 3, 3, 3, 1, 5, 1, 1, 5, 6, 6, 6, 2, 4, 2, 5, 1, 1, 2, 4, 5, 6, 4, 3, 4, 4, 5, 3, 6, 5, 3, 6, 1, 1, 3, 5, 6, 3, 3, 2, 3, 4, 4, 1, 6, 1, 5, 2, 6, 3, 2, 6, 4, 2, 2, 2, 5, 4, 4, 1, 5, 4, 3, 4, 1, 3, 4, 2, 3, 4, 1, 2, 5, 5, 1, 5, 4, 2, 6, 4, 4, 4, 6, 4, 3, 1, 4, 4, 4, 5, 3, 5, 2, 4, 2, 1, 5, 2, 5, 3, 5, 1, 6, 2, 4, 5, 1, 5, 2, 1, 5, 4, 6, 2, 5, 4, 6, 1, 1, 3, 3, 4, 4, 1, 5, 2, 1, 4, 1, 4, 4, 2, 4, 6, 4, 3, 1, 2, 3, 6, 3, 5, 2, 6, 2, 5, 1, 2, 3, 4, 1, 6, 2, 3, 4, 3, 1, 4, 4, 5, 4, 3, 1, 2, 5, 2, 3, 2, 5, 6, 3, 1, 3, 1, 5, 4, 2, 2, 2, 4, 4, 4, 6, 6, 1, 3, 2, 2, 6, 1, 3, 3, 2, 4, 5, 6, 4, 6, 2, 3, 1, 5, 5, 6, 5, 2, 5, 6, 5, 3, 6, 6, 1, 5, 2, 1, 3, 6, 3, 6, 6, 2, 2, 4, 2, 2, 6, 2, 2, 2, 3, 2, 3, 1, 5, 6, 5, 3, 1, 4, 1, 2, 4, 3, 5, 4, 6, 1, 5, 1, 6, 5, 4, 5, 5, 5, 1, 3, 1, 1, 5, 6, 3, 2, 6, 3, 2, 4, 3, 5, 6, 2, 6, 6, 6, 1, 5, 5, 2, 2, 1, 3, 2, 6, 2, 6, 6, 5, 1, 5, 2, 5, 3, 1, 5, 6, 3, 5, 5, 2, 2, 3, 1, 2, 5, 4, 1, 4, 2, 1, 1, 4, 3, 3, 3, 6, 2, 1, 3, 3, 2, 2, 3, 1, 4, 3, 4, 4, 6, 4, 3, 2, 1, 3, 1, 3, 6, 6, 4, 5, 6, 2, 6, 6, 3, 2, 1, 6, 3, 1, 6, 1, 1, 5, 5, 5, 1, 2, 1, 1, 2, 6, 1, 6, 4, 2, 4, 1, 3, 6, 1, 1, 5, 6, 6, 6, 4, 5, 2, 6, 3, 1, 1, 4, 3, 5, 1, 4, 3, 5, 5, 6, 4, 3, 2, 3, 1, 5, 5, 1, 6, 6, 1, 6, 5, 2, 6, 3, 6, 4, 3, 2, 3, 5, 1, 1, 2, 4, 3, 4, 6, 4, 1, 1, 4, 5, 4, 5, 3, 3, 1, 1, 3, 4, 6, 1, 3, 2, 1, 4, 5, 2, 2, 2, 3, 5, 1, 2, 3, 6, 4, 1, 4, 4, 1, 4, 1, 5, 6, 5, 5, 5, 4, 5, 2, 3, 4, 3, 6, 4, 1, 2, 2, 5, 6, 1, 3, 3, 4, 1, 5, 6, 1, 4, 2, 2, 1, 1, 6, 4, 3, 4, 5, 5, 5, 1, 2, 5, 1, 2, 4, 6, 6, 2, 5, 4, 2, 3, 3, 2, 1, 6, 5, 5, 3, 5, 4, 1, 6, 5, 4, 3, 5, 6, 1, 2, 1, 5, 6, 4, 1, 4, 2, 3, 5, 5, 1, 3, 1, 5, 5, 4, 5, 3, 2, 3, 5, 4, 5, 6, 1, 1, 1, 6, 5, 6, 3, 3, 6, 2, 1, 6, 5, 1, 3, 5, 2, 3, 5, 4, 2, 1, 5, 1, 6, 2, 3, 4, 3, 6, 6, 1, 3, 5, 5, 4, 1, 4, 1, 1, 5, 5, 2, 3, 5, 4, 5, 6, 6, 4, 4, 5, 6, 5, 5, 5, 6, 5, 3, 1, 1, 4, 6, 4, 3, 1, 2, 6, 6, 5, 1, 4, 3, 4, 1, 1, 2, 1, 3, 4, 2, 5, 4, 4, 1, 5, 2, 1, 2, 1, 4, 3, 4, 3, 3, 6, 5, 1, 5, 3, 6, 4, 5, 2, 2, 2, 2, 4, 5, 5, 5, 6, 1, 3, 6, 6, 6, 4, 2, 5, 6, 2, 3, 4, 3, 5, 5, 5, 5, 1, 6, 6, 2, 4, 2, 6, 6, 6, 2, 1, 4, 1, 5, 3, 2, 1, 2, 4, 6, 3, 4, 5, 5, 6, 2, 5, 4, 6, 1, 2, 3, 1, 6, 5, 6, 4, 2, 4, 1, 5, 6, 1, 6, 5, 4, 1, 3, 6, 2, 2, 1, 2, 5, 1, 5, 6, 4, 5, 3, 2, 1, 2, 6, 1, 4, 5, 6, 4, 5, 4, 6, 1, 3, 2, 1, 4, 1, 4, 2, 5, 1, 4, 4, 3, 4, 5, 4, 3, 1, 4, 6, 1, 4, 2, 2, 4, 4, 3, 5, 1, 4, 4, 5, 2, 3, 2, 2, 2, 3, 6, 1, 2, 4, 2, 4, 2, 2, 4, 4, 3, 4, 5, 2, 5, 6, 5, 1, 2, 1, 2, 6, 5, 2, 1, 6, 5, 5, 6, 2, 6, 6, 1, 2, 1, 3, 4, 5, 1, 1, 4, 6, 6, 3, 5, 3, 1, 6, 1, 5, 3, 1, 3, 6, 3, 4, 5, 4, 1, 6, 1, 2, 1, 3, 4, 6, 4, 5, 2, 6, 6, 1, 3, 2, 6, 5, 1, 5, 2, 4, 3, 4, 1, 5, 5, 6, 6, 5, 4, 2, 5, 1, 1, 6, 6, 5, 5, 3, 2, 1, 2, 6, 4, 2, 4, 5, 2, 3, 6, 6, 5, 6, 6, 2, 1, 5, 6, 4, 3, 2, 6, 6, 5, 4, 3, 2, 2, 1, 5, 4, 2, 6, 1, 2, 4, 1, 1, 2, 4, 4, 2, 1, 3, 4, 5, 1, 2, 6, 3, 3, 4, 4, 2, 1, 1, 1, 5, 3, 3, 6, 1, 2, 1, 3, 4, 5, 2, 1, 5, 3, 3, 3, 5, 6, 4, 1, 4, 3, 1, 3, 3, 6, 3, 1, 6, 5, 3, 1, 6, 4, 6, 5, 3, 6, 3, 4, 6, 3, 1, 6, 2, 1, 5, 2, 2, 1, 2, 4, 5, 5, 2, 1, 2, 6, 4, 5, 2, 3, 6, 1, 1, 5, 1, 2, 4, 6, 6, 2, 1, 3, 4, 1, 2, 1, 1, 3, 6, 1, 2, 1, 6, 1, 6, 1, 6, 2, 4, 5, 3, 2, 2, 6, 2, 6, 5, 3, 3, 3, 6, 3, 4, 6, 2, 1, 1, 2, 5, 1, 5, 4, 4, 6, 3, 5, 6, 1, 1, 5, 3, 3, 2, 2, 3, 1, 5, 3, 2, 4, 5, 5, 3, 3, 4, 4, 4, 4, 6, 6, 3, 1, 5, 5, 6, 5, 4, 6, 4, 4, 1, 1, 4, 6, 2, 3, 5, 4, 6, 5, 2, 2, 3, 4, 4, 3, 4, 3, 3, 6, 5, 1, 3, 6, 2, 1, 5, 4, 4, 6, 6, 3, 2, 4, 3, 5, 1, 4, 5, 2, 4, 2, 1, 6, 3, 6, 6, 6, 2, 1, 2, 6, 5, 6, 1, 5, 4, 3, 2, 4, 3, 3, 4, 4, 3, 2, 4, 6, 1, 4, 2, 3, 5, 3, 1, 5, 5, 2, 2, 6, 2, 3, 6, 2, 5, 4, 4, 2, 3, 6, 2, 6, 5, 1, 5, 6, 6, 4, 6, 4, 5, 3, 6, 4, 4, 4, 4, 3, 2, 1, 5, 2, 1, 2, 3, 3, 1, 5, 3, 4, 2, 6, 4, 3, 6, 1, 4, 6, 4, 4, 4, 6, 2, 5, 2, 5, 4, 6, 4, 2, 4, 4, 6, 6, 3, 5, 4, 5, 4, 1, 6, 4, 6, 5, 1, 5, 3, 3, 4, 5, 6, 2, 2, 1, 5, 5, 5, 6, 1, 4, 4, 3, 4, 1, 2, 5, 4, 6, 4, 6, 6, 5, 4, 3, 4, 4, 2, 1, 5, 1, 2, 4, 1, 2, 5, 5, 5, 4, 3, 4, 5, 2, 6, 2, 2, 1, 5, 1, 1, 6, 3, 6, 6, 2, 6, 3, 5, 3, 6, 1, 2, 5, 6, 2, 3, 1, 3, 4, 4, 2, 6, 6, 4, 6, 1, 2, 3, 4, 5, 6, 4, 2, 6, 3, 3, 2, 6, 5, 1, 6, 5, 6, 6, 3, 1, 6, 2, 5, 6, 1, 3, 5, 3, 3, 2, 2, 5, 6, 1, 3, 2, 3, 4, 4, 2, 4, 2, 6, 4, 4, 3, 4, 2, 1, 6, 1, 1, 2, 3, 6, 5, 5, 6, 4, 4, 1, 3, 3, 1, 1, 2, 6, 4, 4, 4, 2, 2, 2, 1, 1, 6, 1, 2, 4, 6, 4, 1, 6, 1, 6, 5, 1, 1, 2, 1, 2, 1, 4, 6, 6, 4, 3, 6, 6, 1, 1, 5, 3, 2, 5, 4, 3, 4, 4, 5, 2, 4, 5, 3, 4, 2, 3, 3, 5, 2, 1, 2, 2, 1, 3, 5, 1, 1, 2, 6, 6, 4, 5, 5, 5, 1, 6, 6, 2, 3, 6, 6, 5, 3, 3, 4, 4, 5, 5, 5, 2, 4, 3, 1, 3, 4, 2, 2, 4, 2, 6, 4, 1, 2, 3, 3, 6, 1, 2, 3, 5, 2, 4, 2, 5, 2, 4, 3, 5, 1, 2, 6, 1, 5, 4, 1, 5, 3, 5, 6, 3, 2, 1, 5, 4, 6, 1, 1, 5, 1, 3, 5, 1, 3, 4, 4, 1, 4, 6, 4, 2, 1, 4, 2, 3, 1, 3, 2, 6, 5, 1, 3, 2, 5, 6, 3, 3, 1, 2, 1, 4, 6, 6, 4, 2, 6, 3, 3, 5, 3, 3, 2, 4, 5, 1, 6, 4, 2, 4, 5, 3, 4, 6, 1, 4, 1, 4, 4, 5, 4, 5, 3, 4, 5, 5, 5, 4, 2, 6, 3, 2, 4, 2, 2, 6, 3, 3, 2, 4, 3, 1, 3, 2, 2, 2, 2, 5, 3, 6, 4, 3, 3, 5, 4, 1, 4, 6, 2, 6, 5, 4, 5, 5, 1, 5, 3, 6, 6, 3, 6, 1, 1, 1, 3, 6, 1, 1, 3, 6, 6, 2, 5, 3, 5, 4, 6, 5, 3, 1, 4, 1, 3, 5, 6, 6, 4, 4, 5, 1, 3, 3, 2, 3, 4, 3, 5, 3, 4, 5, 1, 4, 1, 2, 6, 2, 2, 6, 4, 6, 2, 1, 5, 2, 4, 5, 5, 2, 2, 3, 5, 2, 6, 6, 6, 4, 5, 4, 4, 3, 2, 1, 1, 1, 1, 5, 6, 5, 4, 6, 5, 3, 1, 1, 4, 4, 6, 4, 2, 1, 2, 4, 5, 5, 6, 2, 4, 1, 6, 6, 4, 6, 2, 2, 4, 6, 2, 5, 1, 3, 3, 1, 1, 2, 6, 5, 5, 3, 4, 2, 6, 1, 3, 5, 6, 5, 5, 1, 5, 2, 6, 4, 5, 5, 5, 3, 3, 4, 6, 1, 6, 1, 1, 5, 3, 6, 5, 1, 6, 1, 4, 3, 2, 6, 2, 4, 4, 2, 1, 6, 1, 6, 4, 2, 6, 6, 5, 6, 2, 6, 4, 3, 5, 3, 1, 2, 5, 6, 1, 4, 1, 6, 1, 2, 3, 2, 2, 2, 1, 2, 5, 4, 2, 3, 6, 4, 4, 3, 6, 4, 1, 5, 4, 1, 4, 1, 6, 1, 5, 3, 6, 5, 1, 1, 5, 5, 5, 3, 3, 5, 5, 1, 4, 2, 4, 3, 2, 1, 6, 3, 1, 6, 4, 6, 3, 1, 6, 6, 4, 5, 2, 1, 4, 4, 5, 2, 1, 3, 5, 5, 4, 4, 3, 6, 5, 5, 1, 2, 4, 6, 4, 1, 1, 3, 6, 3, 1, 6, 5, 1, 1, 5, 4, 6, 5, 1, 1, 2, 6, 2, 3, 2, 2, 2, 5, 2, 3, 5, 5, 3, 2, 3, 6, 5, 1, 3, 5, 5, 5, 1, 3, 6, 2, 3, 6, 4, 2, 4, 1, 4, 3, 5, 2, 4, 3, 5, 1, 1, 6, 6, 1, 2, 5, 6, 5, 1, 6, 3, 3, 6, 5, 1, 1, 1, 5, 6, 5, 6, 4, 5, 2, 4, 5, 4, 5, 6, 1, 6, 6, 1, 4, 1, 1, 1, 5, 5, 2, 4, 6, 6, 6, 6, 1, 2, 5, 6, 5, 5, 6, 3, 6, 6, 1, 5, 1, 5, 3, 1, 3, 1, 2, 1, 2, 3, 4, 6, 2, 3, 2, 3, 3, 6, 3, 5, 5, 5, 1, 1, 2, 2, 4, 1, 1, 4, 3, 5, 3, 4, 6, 5, 3, 1, 5, 4, 5, 4, 1, 4, 2, 1, 2, 2, 5, 3, 5, 6, 4, 3, 2, 2, 2, 4, 1, 1, 3, 5, 5, 6, 1, 5, 5, 1, 4, 3, 3, 6, 3, 1, 4, 1, 3, 1, 5, 1, 1, 4, 1, 1, 1, 3, 5, 4, 5, 5, 5, 6, 5, 2, 3, 5, 3, 4, 4, 5, 1, 2, 2, 4, 6, 4, 5, 2, 3, 3, 6, 3, 3, 6, 6, 4, 6, 6, 2, 2, 1, 1, 2, 2, 1, 2, 3, 1, 4, 1, 6, 3, 1, 4, 6, 5, 1, 2, 5, 3, 5, 1, 1, 1, 5, 6, 6, 6, 3, 6, 5, 6, 5, 2, 6, 4, 6, 6, 1, 2, 1, 2, 5, 1, 5, 4, 3, 1, 5, 6, 1, 1, 3, 5, 4, 3, 1, 4, 2, 4, 1, 4, 5, 1, 4, 2, 6, 6, 6, 3, 3, 3, 3, 4, 6, 1, 1, 6, 4, 2, 2, 4, 1, 6, 3, 3, 4, 3, 3, 1, 6, 3, 6, 1, 3, 4, 5, 5, 4, 2, 2, 3, 4, 1, 1, 6, 2, 3, 2, 5, 4, 4, 2, 2, 4, 5, 3, 4, 2, 2, 6, 5, 3, 1, 1, 1, 5, 2, 6, 6, 5, 4, 6, 4, 6, 1, 2, 1, 1, 6, 6, 4, 3, 6, 1, 3, 3, 2, 6, 4, 3, 3, 1, 6, 2, 5, 1, 2, 1, 2, 3, 5, 6, 6, 4, 1, 6, 2, 4, 1, 6, 2, 1, 3, 4, 2, 2, 4, 1, 3, 1, 3, 1, 1, 2, 5, 2, 3, 6, 4, 3, 4, 3, 6, 3, 1, 2, 5, 1, 6, 6, 2, 5, 3, 3, 2, 1, 4, 2, 2, 3, 1, 6, 1, 6, 1, 4, 3, 4, 4, 1, 1, 2, 6, 6, 4, 4, 5, 5, 2, 6, 5, 2, 1, 1, 2, 1, 6, 1, 4, 2, 5, 5, 5, 1, 2, 1, 2, 2, 4, 5, 2, 2, 4, 2, 5, 6, 2, 1, 5, 4, 6, 3, 4, 3, 2, 2, 4, 4, 5, 1, 4, 4, 2, 1, 1, 3, 3, 3, 6, 4, 5, 3, 1, 1, 4, 2, 3, 1, 3, 5, 6, 2, 5, 5, 6, 6, 5, 6, 2, 5, 4, 6, 4, 5, 5, 4, 5, 3, 6, 6, 4, 5, 5, 4, 3, 1, 3, 6, 6, 1, 3, 1, 3, 4, 3, 5, 1, 2, 4, 4, 6, 5, 2, 6, 5, 2, 6, 3, 5, 2, 4, 1, 3, 6, 3, 6, 6, 6, 1, 5, 6, 4, 4, 4, 5, 5, 3, 3, 5, 3, 6, 3, 6, 6, 5, 4, 6, 1, 6, 6, 3, 1, 2, 3, 2, 4, 1, 2, 6, 6, 5, 3, 2, 5, 5, 6, 2, 3, 4, 2, 4, 4, 2, 5, 5, 1, 6, 5, 1, 1, 3, 1, 1, 3, 3, 5, 1, 2, 2, 1, 4, 2, 1, 2, 5, 6, 2, 2, 4, 4, 1, 1, 6, 6, 1, 4, 6, 3, 3, 6, 3, 2, 2, 5, 3, 2, 4, 5, 4, 3, 2, 2, 5, 1, 4, 5, 4, 2, 4, 5, 6, 5, 3, 5, 4, 2, 2, 1, 3, 6, 6, 6, 6, 6, 4, 1, 6, 6, 3, 2, 4, 2, 6, 4, 3, 2, 5, 3, 1, 1, 2, 6, 2, 4, 4, 6, 2, 4, 1, 3, 1, 3, 6, 5, 3, 4, 4, 4, 6, 4, 5, 4, 6, 5, 6, 6, 4, 6, 2, 1, 4, 2, 2, 6, 1, 2, 2, 5, 1, 4, 2, 3, 6, 4, 3, 5, 6, 6, 5, 5, 5, 6, 1, 3, 1, 6, 2, 4, 2, 6, 3, 5, 2, 2, 6, 2, 6, 4, 3, 3, 5, 2, 3, 3, 6, 5, 2, 1, 1, 1, 4, 2, 2, 4, 2, 6, 3, 2, 1, 3, 2, 5, 1, 4, 3, 6, 4, 6, 5, 1, 3, 3, 4, 1, 5, 2, 2, 4, 6, 6, 3, 2, 4, 6, 6, 5, 3, 2, 3, 2, 6, 1, 1, 5, 6, 4, 4, 6, 1, 1, 4, 2, 6, 5, 1, 2, 2, 1, 1, 2, 1, 1, 2, 1, 3, 2, 5, 6, 1, 5, 6, 2, 4, 2, 2, 4, 3, 1, 4, 3, 4, 5, 2, 5, 4, 1, 1, 3, 5, 3, 4, 6, 6, 4, 2, 2, 1, 1, 3, 1, 4, 6, 1, 3, 4, 5, 2, 3, 1, 1, 3, 3, 6, 6, 5, 2, 1, 3, 1, 4, 4, 6, 6, 6, 3, 6, 1, 4, 4, 4, 1, 3, 5, 1, 2, 1, 5, 4, 4, 4, 3, 4, 6, 1, 2, 5, 5, 3, 3, 6, 6, 2, 1, 4, 3, 4, 2, 6, 5, 4, 3, 2, 2, 1, 4, 1, 5, 3, 3, 3, 2, 6, 4, 6, 6, 3, 2, 1, 6, 1, 4, 4, 2, 1, 2, 3, 2, 4, 1, 5, 2, 4, 4, 4, 4, 1, 6, 1, 2, 3, 5, 1, 3, 1, 6, 5, 1, 2, 3, 1, 3, 2, 5, 5, 6, 1, 2, 3, 4, 3, 5, 1, 6, 5, 1, 5, 3, 6, 2, 2, 6, 5, 2, 1, 5, 1, 3, 1, 6, 6, 1, 2, 6, 2, 2, 3, 6, 4, 3, 3, 3, 6, 2, 4, 5, 6, 4, 3, 4, 5, 6, 2, 6, 6, 5, 2, 5, 2, 2, 3, 1, 4, 6, 2, 3, 5, 2, 1, 3, 3, 2, 3, 1, 5, 1, 4, 1, 3, 5, 4, 3, 1, 5, 5, 5, 5, 6, 1, 6, 3, 2, 4, 3, 1, 4, 6, 5, 5, 1, 5, 2, 3, 5, 3, 6, 6, 4, 6, 4, 1, 5, 2, 4, 6, 6, 4, 1, 1, 4, 3, 3, 5, 2, 6, 5, 1, 1, 4, 5, 5, 2, 6, 5, 5, 3, 1, 4, 3, 3, 4, 6, 6, 5, 2, 1, 1, 1, 2, 6, 3, 6, 6, 5, 6, 4, 1, 1, 6, 6, 2, 4, 4, 3, 4, 2, 3, 5, 2, 1, 4, 4, 3, 3, 2, 3, 2, 3, 6, 4, 1, 6, 2, 1, 5, 5, 5, 3, 4, 4, 5, 4, 5, 2, 2, 1, 2, 1, 5, 4, 4, 3, 1, 3, 6, 1, 4, 3, 5, 4, 2, 2, 3, 2, 3, 4, 4, 2, 4, 5, 3, 4, 1, 5, 3, 5, 2, 5, 5, 6, 1, 2, 5, 4, 2, 3, 2, 2, 1, 2, 4, 3, 1, 4, 1, 5, 2, 4, 6, 6, 1, 1, 2, 5, 6, 5, 3, 5, 1, 4, 3, 5, 5, 2, 3, 1, 1, 1, 2, 3, 2, 4, 2, 4, 4, 5, 4, 2, 5, 5, 3, 5, 6, 2, 2, 2, 1, 5, 3, 3, 3, 2, 2, 6, 1, 3, 5, 6, 6, 3, 2, 3, 5, 1, 1, 6, 4, 6, 6, 2, 4, 1, 6, 2, 2, 1, 5, 1, 5, 1, 3, 3, 4, 2, 6, 6, 4, 4, 1, 2, 1, 2, 5, 2, 6, 5, 4, 5, 3, 1, 1, 5, 1, 1, 2, 4, 5, 5, 1, 1, 6, 1, 6, 1, 6, 5, 4, 3, 2, 5, 3, 2, 5, 4, 6, 1, 1, 4, 6, 5, 5, 6, 5, 6, 1, 2, 2, 3, 2, 2, 4, 3, 5, 4, 1, 3, 4, 4, 2, 3, 3, 5, 5, 5, 4, 6, 4, 2, 2, 4, 6, 2, 2, 5, 4, 5, 3, 1, 1, 2, 6, 1, 1, 3, 5, 4, 3, 4, 2, 3, 1, 2, 4, 1, 3, 5, 5, 4, 3, 2, 6, 4, 5, 3, 5, 5, 2, 3, 4, 3, 3, 6, 6, 2, 5, 5, 1, 6, 3, 6, 1, 2, 2, 5, 5, 4, 3, 5, 2, 6, 3, 5, 1, 1, 5, 4, 4, 1, 5, 1, 2, 5, 4, 1, 6, 3, 1, 3, 1, 5, 5, 4, 1, 1, 1, 4, 1, 5, 6, 5, 3, 4, 4, 3, 1, 3, 4, 2, 6, 5, 5, 4, 1, 2, 3, 1, 2, 1, 2, 4, 6, 4, 3, 5, 2, 4, 1, 2, 3, 5, 6, 1, 3, 3, 3, 4, 4, 3, 5, 1, 4, 1, 1, 1, 1, 4, 1, 3, 4, 2, 2, 1, 4, 5, 3, 5, 1, 2, 1, 1, 1, 4, 6, 1, 3, 1, 5, 2, 4, 2, 5, 3, 2, 4, 6, 6, 4, 5, 5, 6, 6, 6, 6, 1, 6, 5, 1, 1, 4, 3, 2, 3, 5, 1, 5, 3, 1, 6, 1, 5, 1, 2, 5, 4, 3, 1, 3, 3, 5, 4, 4, 6, 2, 3, 1, 5, 5, 3, 6, 5, 5, 1, 4, 6, 4, 1, 2, 1, 2, 4, 5, 1, 1, 5, 1, 1, 5, 1, 6, 2, 2, 1, 2, 5, 3, 6, 5, 6, 6, 4, 3, 5, 1, 5, 3, 3, 2, 4, 3, 2, 6, 6, 4, 3, 2, 2, 1, 2, 3, 3, 5, 4, 3, 6, 2, 5, 2, 5, 4, 3, 5, 3, 6, 6, 2, 4, 1, 5, 2, 1, 6, 2, 2, 1, 3, 5, 1, 2, 5, 4, 4, 1, 4, 3, 4, 2, 6, 5, 6, 1, 6, 3, 4, 1, 3, 1, 6, 3, 1, 4, 6, 1, 5, 3, 5, 2, 4, 6, 1, 1, 4, 1, 4, 1, 6, 5, 5, 3, 4, 3, 6, 4, 5, 2, 3, 6, 4, 6, 3, 3, 2, 6, 6, 4, 3, 6, 5, 4, 4, 1, 3, 3, 5, 4, 3, 5, 3, 2, 2, 5, 2, 5, 6, 4, 1, 5, 1, 6, 3, 6, 5, 1, 4, 3, 1, 6, 1, 5, 4, 6, 3, 4, 6, 1, 4, 5, 3, 3, 2, 6, 2, 6, 1, 6, 4, 3, 1, 2, 1, 4, 4, 5, 4, 6, 6, 5, 3, 6, 4, 5, 1, 2, 5, 1, 3, 1, 5, 1, 5, 3, 5, 2, 5, 1, 6, 2, 6, 3, 4, 4, 4, 2, 5, 5, 2, 5, 2, 2, 2, 2, 6, 3, 5, 1, 3, 2, 4, 3, 6, 6, 2, 1, 2, 1, 2, 3, 4, 4, 4, 6, 3, 1, 2, 6, 6, 4, 1, 1, 6, 3, 5, 2, 5, 3, 2, 5, 3, 5, 5, 3, 1, 6, 3, 3, 6, 6, 5, 6, 2, 4, 5, 5, 2, 6, 2, 5, 6, 1, 2, 1, 2, 6, 2, 5, 1, 4, 5, 1, 4, 5, 1, 5, 4, 1, 6, 1, 2, 1, 1, 1, 2, 6, 3, 1, 1, 1, 5, 4, 2, 1, 4, 4, 4, 4, 6, 5, 3, 4, 4, 4, 4, 6, 3, 6, 2, 5, 1, 3, 1, 2, 5, 5, 1, 2, 5, 5, 4, 5, 6, 5, 2, 5, 1, 1, 5, 6, 4, 1, 5, 2, 1, 1, 3, 6, 6, 2, 4, 6, 2, 4, 2, 1, 4, 3, 4, 3, 5, 1, 2, 5, 2, 1, 6, 2, 4, 5, 1, 2, 1, 1, 3, 5, 4, 4, 4, 1, 6, 3, 2, 4, 2, 2, 2, 1, 4, 6, 2, 2, 1, 5, 2, 5, 4, 2, 4, 1, 2, 1, 2, 2, 5, 2, 2, 4, 2, 3, 1, 3, 1, 5, 3, 1, 4, 6, 1, 3, 2, 2, 1, 2, 6, 6, 1, 2, 4, 3, 6, 5, 6, 2, 2, 6, 6, 3, 4, 3, 3, 2, 5, 3, 1, 3, 4, 6, 2, 2, 5, 3, 1, 2, 4, 5, 6, 1, 6, 6, 6, 2, 5, 5, 5, 2, 4, 5, 4, 1, 3, 5, 1, 3, 5, 2, 6, 6, 5, 1, 5, 1, 3, 3, 5, 2, 4, 6, 3, 2, 1, 1, 1, 2, 5, 6, 1, 6, 3, 3, 3, 2, 5, 1, 1, 4, 5, 4, 2, 6, 1, 5, 2, 2, 6, 1, 2, 2, 3, 4, 2, 2, 5, 4, 2, 1, 1, 6, 6, 2, 3, 2, 2, 2, 1, 4, 1, 4, 2, 1, 4, 3, 3, 2, 2, 5, 2, 4, 4, 2, 6, 6, 2, 5, 3, 2, 1, 4, 6, 3, 4, 2, 6, 6, 3, 2, 2, 2, 2, 6, 6, 5, 5, 4, 4, 6, 4, 5, 5, 4, 5, 2, 1, 4, 1, 6, 2, 3, 6, 4, 4, 1, 5, 5, 2, 4, 5, 6, 6, 5, 3, 5, 6, 2, 4, 6, 5, 3, 5, 4, 5, 6, 5, 3, 4, 5, 4, 5, 1, 3, 1, 3, 6, 4, 4, 3, 1, 5, 1, 2, 3, 3, 6, 1, 3, 5, 2, 1, 2, 2, 2, 6, 2, 3, 2, 2, 5, 1, 4, 6, 1, 3, 6, 3, 1, 1, 1, 2, 6, 1, 4, 1, 2, 6, 1, 6, 6, 1, 2, 2, 6, 4, 1, 3, 2, 3, 6, 6, 2, 3, 5, 6, 1, 2, 3, 4, 2, 1, 3, 2, 3, 6, 3, 3, 3, 4, 3, 4, 4, 4, 4, 3, 1, 6, 2, 2, 1, 4, 1, 4, 3, 6, 1, 5, 1, 3, 5, 5, 2, 1, 2, 5, 5, 3, 1, 2, 3, 2, 3, 3, 1, 5, 3, 5, 6, 3, 1, 6, 1, 4, 3, 4, 1, 1, 6, 3, 4, 4, 1, 6, 1, 2, 5, 2, 4, 2, 4, 2, 3, 6, 6, 6, 1, 4, 5, 3, 4, 1, 2, 2, 2, 1, 2, 5, 2, 5, 2, 4, 4, 3, 1, 2, 3, 5, 1, 3, 2, 4, 2, 4, 2, 1, 6, 6, 4, 5, 1, 2, 6, 4, 4, 1, 1, 3, 4, 1, 4, 4, 6, 1, 6, 3, 2, 2, 4, 2, 5, 5, 5, 2, 1, 4, 3, 6, 4, 6, 3, 4, 6, 5, 1, 3, 4, 6, 4, 6, 1, 6, 1, 5, 1, 6, 5, 2, 4, 6, 4, 4, 5, 2, 3, 5, 1, 2, 2, 1, 6, 2, 5, 3, 5, 4, 5, 1, 4, 2, 2, 4, 2, 3, 5, 6, 2, 3, 1, 1, 6, 1, 3, 5, 5, 6, 4, 2, 6, 3, 5, 3, 5, 3, 2, 4, 2, 3, 6, 1, 2, 3, 3, 3, 1, 3, 6, 1, 1, 6, 3, 6, 4, 2, 2, 4, 3, 4, 2, 2, 1, 1, 6, 1, 1, 6, 1, 6, 5, 3, 6, 2, 2, 3, 3, 4, 2, 6, 4, 2, 5, 4, 6, 2, 1, 5, 6, 6, 4, 1, 4, 5, 2, 6, 6, 1, 6, 1, 6, 6, 1, 6, 6, 1, 6, 1, 2, 6, 1, 1, 6, 5, 3, 5, 3, 6, 3, 5, 3, 6, 4, 5, 6, 6, 1, 2, 3, 3, 3, 2, 4, 2, 5, 1, 3, 5, 1, 3, 5, 5, 2, 5, 4, 2, 3, 2, 5, 6, 2, 5, 6, 2, 4, 3, 2, 2, 4, 6, 2, 3, 2, 3, 1, 2, 2, 6, 5, 3, 5, 4, 4, 4, 2, 4, 4, 3, 1, 4, 6, 4, 1, 6, 4, 6, 1, 6, 6, 5, 4, 2, 2, 4, 2, 1, 3, 4, 2, 2, 3, 2, 2, 3, 2, 5, 2, 2, 5, 6, 5, 1, 3, 3, 1, 6, 1, 3, 1, 6, 6, 5, 2, 6, 6, 4, 1, 4, 2, 6, 2, 1, 6, 1, 2, 4, 4, 3, 5, 6, 1, 6, 5, 1, 5, 5, 1, 6, 1, 5, 2, 4, 3, 6, 5, 3, 5, 5, 6, 6, 2, 3, 3, 1, 2, 4, 4, 1, 5, 1, 4, 5, 2, 1, 1, 3, 4, 2, 1, 1, 3, 1, 1, 5, 3, 6, 6, 4, 1, 1, 4, 3, 4, 2, 6, 3, 4, 1, 6, 1, 1, 5, 3, 3, 1, 4, 4, 1, 5, 1, 4, 6, 4, 1, 1, 4, 6, 5, 1, 3, 1, 5, 2, 4, 5, 3, 5, 2, 2, 6, 1, 1, 2, 5, 6, 4, 6, 2, 2, 2, 4, 3, 6, 4, 4, 2, 4, 2, 3, 2, 5, 3, 3, 1, 1, 6, 3, 5, 1, 5, 3, 2, 4, 6, 1, 2, 4, 6, 4, 5, 1, 4, 4, 5, 6, 1, 5, 3, 4, 4, 3, 3, 2, 1, 3, 1, 1, 6, 5, 4, 2, 6, 1, 3, 2, 1, 4, 3, 6, 5, 1, 6, 3, 1, 1, 3, 6, 2, 1, 4, 3, 3, 6, 4, 4, 6, 2, 5, 2, 2, 2, 5, 1, 4, 6, 5, 1, 2, 6, 6, 4, 1, 1, 3, 2, 3, 2, 2, 4, 2, 4, 2, 3, 5, 2, 4, 3, 6, 5, 6, 4, 4, 6, 6, 5, 2, 5, 1, 6, 3, 2, 6, 5, 3, 3, 1, 6, 4, 3, 2, 2, 4, 4, 6, 2, 5, 6, 2, 5, 4, 5, 2, 3, 2, 5, 6, 4, 6, 5, 4, 6, 1, 6, 5, 3, 2, 1, 4, 2, 2, 3, 1, 5, 1, 5, 4, 2, 3, 6, 2, 1, 6, 4, 3, 3, 4, 2, 2, 2, 2, 5, 5, 3, 5, 4, 5, 3, 5, 3, 2, 6, 4, 3, 4, 4, 3, 6, 5, 3, 5, 2, 5, 4, 4, 1, 6, 2, 1, 1, 6, 2, 4, 3, 5, 5, 4, 3, 1, 4, 3, 5, 5, 6, 1, 4, 5, 2, 1, 3, 5, 2, 2, 4, 3, 4, 1, 4, 2, 2, 3, 5, 5, 2, 4, 4, 3, 2, 5, 1, 3, 1, 6, 6, 3, 2, 6, 6, 3, 6, 1, 1, 3, 4, 6, 5, 5, 4, 4, 2, 1, 3, 5, 1, 6, 1, 3, 1, 5, 3, 6, 4, 2, 4, 5, 1, 5, 1, 1, 4, 6, 1, 6, 1, 4, 6, 2, 1, 6, 6, 1, 6, 4, 1, 4, 4, 3, 5, 6, 4, 5, 4, 5, 6, 3, 2, 6, 4, 2, 1, 6, 4, 6, 6, 2, 2, 1, 5, 4, 3, 6, 2, 5, 5, 6, 6, 1, 6, 1, 3, 5, 3, 1, 3, 3, 1, 6, 1, 3, 1, 4, 5, 5, 1, 1, 1, 4, 4, 4, 5, 4, 6, 2, 5, 1, 6, 4, 6, 4, 3, 3, 1, 3, 6, 2, 6, 2, 4, 5, 3, 4, 4, 6, 5, 4, 6, 6, 6, 5, 2, 5, 5, 4, 3, 2, 2, 2, 5, 1, 2, 6, 2, 4, 4, 6, 6, 2, 3, 2, 2, 3, 1, 1, 3, 2, 5, 3, 1, 6, 3, 1, 1, 6, 3, 1, 4, 2, 3, 3, 5, 2, 3, 1, 2, 4, 1, 2, 5, 2, 6, 5, 4, 2, 3, 6, 4, 1, 6, 3, 6, 2, 4, 1, 2, 5, 5, 5, 1, 1, 3, 1, 1, 1, 6, 4, 6, 6, 4, 4, 5, 4, 5, 5, 2, 2, 1, 6, 3, 3, 1, 6, 5, 5, 3, 4, 3, 4, 2, 6, 4, 6, 6, 6, 3, 6, 5, 6, 1, 3, 6, 4, 2, 6, 5, 3, 4, 5, 5, 3, 5, 1, 3, 6, 5, 2, 6, 3, 6, 6, 1, 2, 6, 4, 4, 6, 4, 1, 3, 5, 2, 6, 3, 6, 4, 5, 3, 4, 1, 6, 2, 3, 6, 6, 4, 3, 4, 3, 5, 4, 1, 2, 6, 6, 1, 5, 4, 3, 6, 3, 4, 1, 2, 5, 4, 6, 1, 3, 4, 4, 2, 4, 6, 4, 2, 3, 4, 5, 4, 6, 5, 3, 3, 4, 5, 3, 4, 3, 6, 4, 2, 5, 5, 3, 3, 5, 4, 5, 4, 1, 6, 6, 3, 1, 6, 1, 3, 3, 4, 2, 1, 2, 3, 1, 1, 2, 3, 1, 6, 6, 4, 6, 4, 6, 6, 5, 4, 5, 6, 1, 2, 2, 6, 6, 3, 3, 2, 1, 2, 2, 2, 5, 1, 6, 1, 2, 5, 3, 3, 6, 6, 2, 2, 6, 3, 1, 1, 3, 1, 6, 5, 2, 4, 5, 4, 5, 6, 1, 2, 2, 3, 6, 3, 2, 6, 1, 3, 2, 4, 2, 6, 2, 2, 4, 3, 4, 2, 3, 5, 3, 2, 1, 4, 1, 2, 1, 5, 3, 1, 5, 1, 4, 1, 6, 3, 4, 4, 2, 1, 6, 1, 2, 3, 4, 4, 5, 3, 6, 5, 6, 5, 4, 3, 3, 2, 1, 3, 1, 5, 3, 5, 4, 1, 4, 2, 1, 6, 4, 4, 3, 5, 1, 3, 6, 6, 2, 1, 6, 5, 6, 1, 1, 6, 1, 1, 4, 2, 4, 4, 2, 3, 1, 1, 4, 4, 3, 6, 3, 1, 1, 2, 1, 6, 4, 3, 1, 6, 5, 5, 5, 6, 5, 3, 6, 3, 6, 5, 5, 6, 6, 5, 3, 4, 3, 5, 6, 5, 5, 1, 1, 5, 1, 5, 1, 3, 1, 4, 6, 5, 6, 1, 5, 1, 5, 3, 6, 3, 1, 1, 1, 1, 2, 1, 4, 1, 5, 6, 1, 3, 1, 5, 4, 4, 1, 2, 2, 2, 5, 4, 1, 6, 6, 3, 5, 4, 5, 2, 2, 4, 5, 5, 5, 5, 3, 3, 2, 3, 5, 4, 1, 3, 6, 1, 1, 2, 2, 4, 1, 5, 6, 6, 2, 4, 5, 3, 1, 6, 6, 5, 3, 5, 3, 2, 4, 4, 4, 2, 3, 3, 5, 6, 4, 5, 2, 6, 2, 1, 3, 6, 5, 2, 2, 6, 5, 5, 3, 6, 6, 3, 5, 1, 2, 2, 1, 6, 3, 5, 4, 2, 4, 1, 3, 2, 5, 3, 2, 5, 5, 6, 5, 5, 3, 4, 4, 5, 1, 5, 2, 3, 3, 3, 3, 5, 2, 2, 4, 5, 5, 3, 4, 3, 4, 6, 4, 4, 5, 3, 2, 2, 6, 6, 6, 2, 5, 4, 2, 5, 5, 6, 2, 2, 1, 5, 5, 6, 6, 1, 3, 4, 3, 5, 1, 2, 1, 4, 3, 1, 1, 1, 6, 1, 4, 6, 5, 2, 6, 5, 2, 5, 1, 2, 1, 1, 3, 4, 6, 4, 6, 2, 1, 2, 2, 3, 2, 5, 3, 4, 2, 6, 5, 3, 3, 4, 3, 4, 2, 6, 3, 2, 6, 3, 3, 1, 2, 1, 1, 5, 2, 5, 2, 3, 2, 5, 2, 1, 3, 4, 1, 2, 5, 4, 6, 2, 5, 5, 2, 1, 6, 5, 5, 5, 4, 6, 5, 2, 3, 6, 5, 1, 1, 5, 3, 4, 6, 3, 3, 6, 6, 5, 3, 5, 6, 1, 5, 4, 4, 1, 6, 4, 4, 4, 1, 3, 2, 3, 3, 1, 5, 2, 3, 1, 5, 3, 1, 3, 5, 2, 2, 3, 2, 2, 2, 3, 6, 4, 1, 5, 1, 1, 5, 5, 1, 5, 6, 6, 1, 6, 3, 1, 5, 3, 2, 5, 3, 5, 3, 3, 6, 3, 1, 5, 3, 1, 1, 1, 1, 4, 1, 1, 4, 4, 2, 2, 2, 6, 3, 6, 5, 2, 3, 2, 3, 1, 2, 4, 5, 6, 6, 6, 5, 6, 4, 2, 5, 5, 3, 4, 4, 5, 3, 4, 5, 1, 1, 6, 3, 1, 5, 5, 4, 2, 3, 3, 1, 6, 6, 4, 1, 4, 5, 6, 3, 6, 4, 3, 5, 2, 4, 5, 5, 5, 6, 4, 5, 1, 1, 6, 4, 1, 3, 6, 2, 3, 2, 2, 5, 4, 5, 2, 4, 4, 4, 3, 6, 2, 4, 3, 5, 1, 3, 3, 3, 5, 2, 2, 2, 1, 4, 4, 6, 4, 2, 3, 2, 1, 6, 4, 5, 3, 4, 6, 2, 6, 4, 1, 1, 1, 1, 5, 4, 6, 4, 5, 4, 3, 5, 5, 6, 5, 4, 1, 3, 5, 5, 4, 6, 6, 3, 2, 3, 5, 3, 5, 3, 2, 5, 5, 4, 5, 1, 5, 4, 2, 4, 3, 5, 3, 5, 5, 4, 5, 2, 6, 2, 4, 1, 4, 6, 1, 3, 2, 3, 5, 1, 6, 4, 4, 5, 5, 2, 3, 6, 5, 4, 4, 4, 1, 1, 1, 5, 6, 1, 5, 6, 6, 3, 2, 2, 1, 1, 6, 2, 1, 2, 1, 5, 4, 2, 5, 5, 4, 6, 1, 4, 4, 2, 5, 2, 5, 6, 2, 3, 4, 4, 1, 1, 1, 2, 1, 2, 1, 1, 3, 6, 2, 5, 3, 4, 5, 1, 6, 5, 4, 1, 2, 2, 5, 3, 3, 3, 2, 3, 5, 5, 1, 4, 4, 6, 2, 5, 1, 4, 3, 3, 1, 4, 1, 2, 1, 1, 2, 1, 6, 3, 2, 5, 5, 5, 5, 5, 4, 6, 2, 3, 2, 4, 5, 6, 1, 1, 2, 3, 1, 6, 2, 1, 1, 4, 3, 2, 3, 6, 5, 3, 2, 5, 2, 3, 5, 3, 2, 4, 6, 5, 1, 1, 1, 3, 5, 5, 2, 4, 5, 3, 2, 2, 1, 6, 5, 1, 1, 6, 1, 5, 3, 6, 1, 2, 3, 5, 6, 3, 2, 5, 2, 6, 6, 2, 4, 4, 1, 2, 1, 2, 4, 2, 4, 3, 1, 4, 1, 5, 6, 6, 3, 4, 3, 2, 2, 3, 5, 4, 4, 6, 5, 6, 4, 3, 6, 3, 3, 3, 5, 3, 2, 6, 1, 3, 1, 6, 1, 2, 3, 5, 5, 4, 4, 4, 2, 3, 5, 6, 1, 3, 3, 5, 6, 6, 2, 1, 4, 4, 6, 1, 1, 6, 6, 3, 5, 2, 1, 3, 4, 1, 4, 5, 3, 5, 3, 3, 3, 6, 2, 3, 4, 4, 6, 6, 4, 6, 6, 2, 6, 5, 3, 6, 3, 4, 1, 4, 2, 1, 3, 6, 4, 4, 1, 6, 5, 1, 2, 3, 6, 1, 1, 2, 1, 2, 6, 2, 1, 1, 4, 5, 5, 2, 5, 4, 1, 4, 3, 5, 2, 5, 3, 1, 4, 2, 6, 6, 2, 3, 4, 3, 3, 6, 6, 2, 3, 4, 2, 1, 2, 2, 5, 3, 5, 5, 6, 6, 1, 5, 6, 6, 4, 4, 1, 2, 6, 3, 3, 3, 4, 1, 1, 5, 4, 4, 6, 1, 3, 2, 1, 3, 2, 1, 2, 5, 4, 6, 1, 2, 3, 5, 1, 6, 6, 4, 6, 1, 5, 3, 2, 2, 6, 2, 6, 6, 1, 4, 6, 1, 1, 5, 6, 3, 4, 3, 3, 3, 5, 3, 4, 1, 6, 1, 6, 6, 2, 1, 4, 1, 1, 3, 1, 2, 6, 3, 4, 1, 5, 5, 3, 1, 1, 1, 4, 5, 6, 2, 6, 6, 2, 1, 6, 5, 2, 3, 3, 3, 5, 3, 4, 3, 2, 2, 2, 4, 1, 3, 4, 6, 6, 3, 5, 6, 6, 6, 6, 3, 1, 4, 4, 1, 4, 3, 5, 1, 6, 5, 3, 4, 4, 1, 3, 1, 5, 3, 2, 6, 1, 1, 4, 2, 2, 6, 1, 2, 6, 1, 2, 1, 6, 6, 4, 4, 6, 4, 4, 4, 2, 5, 6, 5, 5, 6, 3, 1, 2, 4, 5, 2, 3, 2, 5, 3, 5, 1, 3, 6, 1, 6, 1, 1, 6, 1, 4, 4, 3, 3, 2, 4, 1, 6, 4, 5, 1, 2, 2, 5, 2, 1, 2, 6, 2, 5, 2, 2, 6, 6, 1, 3, 6, 1, 6, 4, 2, 2, 1, 6, 2, 4, 2, 3, 1, 1, 4, 3, 6, 2, 6, 4, 2, 3, 5, 6, 6, 4, 2, 2, 5, 3, 2, 3, 3, 5, 3, 6, 3, 4, 4, 4, 2, 2, 5, 1, 5, 3, 2, 3, 2, 1, 2, 3, 3, 1, 6, 3, 4, 6, 4, 1, 6, 2, 5, 1, 2, 1, 2, 6, 2, 6, 1, 6, 6, 6, 4, 3, 6, 1, 1, 6, 4, 5, 3, 5, 1, 1, 5, 2, 3, 5, 4, 2, 3, 1, 3, 2, 3, 4, 6, 6, 5, 4, 2, 4, 5, 1, 5, 1, 4, 1, 1, 2, 1, 3, 3, 4, 2, 3, 1, 2, 5, 3, 4, 1, 4, 1, 6, 1, 6, 5, 4, 6, 2, 3, 2, 5, 6, 5, 6, 6, 4, 4, 3, 6, 5, 4, 1, 4, 6, 5, 3, 3, 5, 4, 3, 3, 5, 6, 5, 1, 6, 1, 3, 4, 4, 1, 4, 2, 4, 2, 6, 1, 5, 4, 2, 6, 6, 2, 4, 6, 5, 5, 4, 5, 4, 5, 6, 1, 5, 1, 1, 2, 4, 2, 6, 5, 3, 6, 5, 1, 1, 1, 2, 4, 2, 6, 4, 2, 3, 1, 5, 3, 2, 5, 3, 5, 3, 5, 1, 4, 5, 2, 2, 6, 5, 5, 1, 5, 3, 2, 5, 3, 6, 6, 1, 4, 1, 2, 3, 1, 1, 6, 4, 3, 4, 4, 1, 2, 1, 6, 6, 6, 4, 2, 6, 1, 5, 2, 1, 1, 4, 4, 3, 1, 4, 5, 2, 1, 1, 4, 4, 3, 4, 2, 3, 1, 5, 5, 2, 5, 6, 6, 3, 6, 5, 2, 5, 1, 6, 6, 1, 4, 2, 2, 1, 2, 3, 4, 6, 5, 2, 3, 3, 1, 3, 2, 5, 6, 4, 6, 6, 3, 1, 5, 3, 4, 4, 4, 3, 4, 5, 2, 1, 3, 6, 6, 6, 5, 4, 6, 3, 2, 4, 4, 3, 6, 1, 5, 4, 5, 4, 2, 2, 2, 6, 6, 6, 1, 4, 3, 2, 3, 3, 4, 2, 4, 5, 1, 5, 6, 3, 6, 5, 6, 6, 6, 1, 1, 5, 5, 4, 4, 2, 5, 2, 6, 6, 5, 2, 1, 6, 3, 5, 4, 2, 4, 5, 3, 5, 6, 1, 1, 6, 6, 3, 1, 3, 1, 5, 1, 4, 3, 2, 2, 6, 6, 6, 3, 5, 5, 1, 1, 3, 6, 1, 1, 5, 2, 4, 3, 6, 5, 2, 2, 2, 3, 4, 5, 5, 3, 4, 1, 5, 4, 4, 4, 2, 6, 1, 5, 6, 4, 1, 5, 5, 4, 6, 3, 1, 3, 6, 1, 6, 5, 6, 5, 5, 3, 1, 4, 5, 3, 4, 5, 2, 2, 4, 2, 5, 6, 2, 5, 2, 4, 6, 5, 5, 2, 4, 6, 1, 3, 3, 5, 4, 3, 5, 5, 6, 2, 6, 6, 2, 5, 2, 3, 4, 6, 5, 5, 5, 6, 6, 3, 2, 3, 3, 6, 4, 6, 6, 2, 5, 6, 6, 2, 3, 3, 6, 2, 1, 5, 4, 6, 3, 2, 4, 6, 3, 2, 4, 6, 4, 2, 1, 2, 6, 4, 3, 2, 6, 3, 1, 2, 3, 5, 5, 6, 2, 2, 5, 2, 4, 1, 5, 3, 2, 4, 1, 2, 2, 4, 4, 3, 3, 2, 3, 3, 1, 3, 4, 6, 2, 5, 3, 3, 6, 4, 5, 3, 3, 4, 6, 6, 1, 2, 3, 3, 3, 5, 3, 2, 5, 5, 1, 4, 6, 3, 5, 1, 5, 4, 6, 5, 1, 1, 3, 5, 4, 3, 4, 6, 3, 5, 1, 2, 5, 2, 6, 1, 4, 3, 4, 3, 3, 5, 4, 5, 3, 5, 6, 6, 3, 5, 2, 6, 5, 5, 3, 5, 3, 3, 6, 5, 4, 5, 1, 4, 6, 5, 3, 1, 2, 4, 1, 6, 2, 1, 3, 2, 4, 4, 1, 5, 5, 4, 5, 5, 1, 5, 4, 1, 3, 6, 5, 1, 2, 4, 1, 5, 4, 3, 1, 1, 4, 6, 6, 2, 4, 3, 1, 1, 2, 1, 4, 5, 2, 4, 2, 3, 4, 6, 5, 5, 5, 3, 1, 3, 2, 2, 3, 5, 4, 4, 6, 3, 4, 5, 6, 4, 1, 6, 4, 5, 4, 1, 4, 4, 6, 5, 6, 3, 5, 2, 3, 2, 3, 6, 6, 5, 6, 6, 1, 6, 5, 4, 3, 1, 6, 4, 2, 2, 5, 4, 1, 5, 5, 3, 6, 2, 1, 3, 4, 5, 6, 5, 6, 6, 1, 6, 2, 1, 4, 4, 4, 3, 4, 4, 6, 5, 2, 2, 1, 5, 6, 4, 2, 2, 1, 2, 4, 6, 6, 1, 1, 2, 1, 3, 5, 5, 5, 1, 5, 5, 4, 3, 3, 2, 3, 6, 6, 3, 4, 4, 2, 4, 1, 6, 3, 6, 2, 2, 5, 4, 3, 2, 4, 4, 2, 5, 4, 5, 2, 5, 2, 2, 2, 4, 6, 2, 6, 6, 3, 4, 5, 5, 4, 6, 1, 3, 5, 5, 1, 3, 5, 1, 1, 4, 2, 5, 6, 6, 6, 2, 4, 2, 5, 4, 3, 1, 5, 6, 2, 5, 5, 6, 3, 5, 3, 6, 5, 5, 6, 6, 2, 2, 4, 4, 1, 1, 4, 2, 4, 5, 6, 1, 6, 2, 2, 6, 5, 1, 5, 3, 1, 1, 6, 2, 6, 5, 4, 2, 1, 2, 3, 4, 5, 3, 1, 5, 6, 4, 3, 3, 5, 1, 2, 1, 2, 2, 1, 6, 5, 1, 5, 2, 4, 5, 5, 1, 4, 6, 1, 2, 2, 6, 3, 1, 4, 4, 6, 6, 6, 2, 3, 3, 4, 3, 6, 1, 6, 2, 1, 4, 1, 3, 3, 1, 6, 4, 4, 2, 2, 1, 5, 3, 3, 1, 1, 1, 3, 2, 3, 4, 2, 6, 3, 1, 2, 1, 6, 1, 3, 5, 1, 1, 5, 1, 4, 5, 6, 4, 6, 1, 2, 5, 5, 2, 2, 6, 1, 6, 1, 6, 2, 1, 1, 2, 4, 4, 3, 5, 2, 2, 1, 1, 3, 4, 4, 6, 5, 2, 3, 4, 1, 3, 1, 3, 3, 4, 4, 6, 5, 1, 5, 3, 2, 4, 2, 5, 3, 2, 3, 4, 3, 3, 5, 4, 1, 4, 2, 2, 6, 4, 1, 6, 4, 5, 2, 4, 4, 2, 3, 5, 4, 2, 1, 1, 2, 5, 2, 4, 6, 4, 5, 5, 1, 4, 2, 4, 1, 5, 2, 1, 6, 6, 4, 3, 3, 4, 4, 1, 6, 3, 1, 3, 6, 6, 1, 1, 3, 2, 2, 6, 1, 1, 6, 5, 3, 2, 5, 6, 5, 1, 5, 4, 6, 6, 1, 6, 3, 5, 5, 2, 4, 2, 5, 1, 6, 5, 5, 1, 6, 5, 4, 3, 4, 1, 4, 1, 1, 1, 4, 3, 5, 1, 4, 1, 5, 2, 2, 5, 5, 4, 2, 6, 3, 2, 6, 6, 4, 2, 2, 4, 1, 1, 1, 5, 3, 1, 6, 1, 6, 5, 2, 2, 2, 3, 1, 1, 1, 2, 2, 3, 4, 6, 5, 6, 5, 6, 3, 6, 4, 4, 5, 5, 2, 5, 6, 6, 5, 3, 2, 4, 6, 6, 1, 6, 2, 6, 6, 4, 1, 6, 4, 2, 3, 2, 6, 3, 4, 5, 5, 3, 3, 2, 2, 6, 6, 2, 2, 5, 1, 4, 4, 5, 2, 4, 4, 3, 6, 4, 1, 3, 3, 4, 1, 4, 5, 2, 3, 3, 5, 5, 4, 5, 4, 1, 3, 1, 1, 1, 6, 5, 4, 6, 2, 2, 4, 1, 4, 2, 2, 5, 3, 3, 5, 2, 4, 3, 4, 3, 6, 1, 1, 1, 4, 2, 4, 5, 1, 4, 3, 5, 1, 3, 1, 4, 5, 6, 4, 4, 4, 3, 6, 3, 1, 2, 4, 6, 5, 6, 6, 6, 4, 2, 1, 5, 4, 5, 1, 5, 5, 5, 4, 2, 6, 1, 6, 1, 1, 6, 2, 6, 5, 3, 1, 6, 1, 5, 2, 1, 3, 1, 4, 4, 6, 4, 1, 6, 1, 2, 2, 4, 5, 5, 5, 2, 2, 4, 6, 3, 3, 5, 2, 6, 5, 5, 6, 1, 2, 4, 5, 2, 1, 2, 4, 5, 5, 1, 1, 4, 4, 5, 4, 6, 3, 1, 2, 6, 6, 3, 1, 2, 2, 5, 4, 2, 2, 5, 6, 6, 1, 5, 3, 6, 3, 5, 5, 1, 6, 1, 5, 6, 2, 2, 2, 5, 6, 6, 2, 6, 2, 1, 6, 1, 1, 2, 4, 4, 3, 4, 4, 2, 4, 3, 6, 3, 3, 5, 5, 3, 4, 4, 5, 2, 3, 3, 1, 5, 4, 3, 1, 5, 3, 6, 5, 2, 3, 2, 2, 2, 3, 1, 4, 5, 3, 5, 5, 6, 5, 2, 2, 6, 2, 4, 2, 6, 2, 2, 6, 6, 5, 1, 5, 4, 2, 3, 5, 6, 3, 6, 5, 2, 1, 5, 2, 2, 4, 1, 4, 1, 4, 3, 6, 1, 5, 6, 4, 1, 1, 1, 1, 3, 6, 4, 1, 6, 1, 2, 1, 1, 4, 2, 4, 4, 2, 5, 6, 6, 5, 2, 5, 3, 2, 6, 2, 2, 3, 4, 6, 1, 6, 4, 3, 6, 2, 5, 6, 1, 6, 2, 2, 5, 6, 4, 6, 3, 4, 6, 3, 2, 3, 5, 3, 6, 3, 4, 2, 4, 1, 1, 6, 2, 1, 4, 3, 4, 2, 2, 1, 5, 2, 1, 5, 5, 6, 2, 1, 5, 6, 5, 3, 1, 5, 6, 5, 4, 6, 4, 6, 5, 3, 5, 6, 3, 3, 1, 5, 2, 3, 6, 3, 3, 5, 6, 1, 2, 1, 1, 4, 3, 5, 5, 4, 4, 6, 2, 6, 2, 6, 2, 6, 3, 5, 4, 1, 2, 1, 2, 6, 5, 2, 2, 6, 1, 6, 3, 2, 2, 3, 5, 1, 4, 4, 1, 2, 2, 4, 2, 2, 4, 1, 5, 6, 5, 6, 1, 4, 6, 3, 6, 3, 1, 6, 1, 2, 3, 4, 6, 5, 6, 3, 5, 6, 3, 3, 2, 1, 2, 4, 4, 2, 6, 5, 4, 3, 1, 2, 2, 2, 5, 6, 4, 4, 1, 1, 2, 1, 5, 5, 1, 2, 6, 4, 4, 5, 4, 5, 3, 2, 2, 6, 3, 4, 6, 1, 2, 3, 2, 4, 1, 5, 3, 4, 3, 5, 3, 1, 1, 2, 3, 1, 4, 2, 5, 6, 3, 2, 5, 3, 6, 2, 5, 1, 3, 4, 6, 1, 3, 4, 2, 2, 3, 3, 3, 1, 3, 3, 3, 6, 2, 2, 3, 1, 3, 3, 5, 1, 2, 3, 6, 2, 1, 5, 2, 1, 4, 5, 1, 4, 5, 6, 3, 6, 4, 1, 1, 1, 2, 4, 1, 5, 4, 3, 2, 2, 5, 5, 1, 4, 2, 3, 1, 2, 3, 5, 6, 1, 6, 4, 6, 5, 5, 4, 6, 2, 1, 4, 5, 4, 4, 5, 6, 4, 4, 1, 2, 3, 2, 3, 3, 3, 1, 3, 6, 1, 2, 5, 2, 6, 4, 2, 6, 3, 6, 5, 1, 2, 1, 3, 3, 6, 3, 4, 5, 1, 6, 1, 4, 3, 6, 5, 1, 4, 1, 1, 2, 5, 1, 4, 6, 3, 6, 4, 1, 5, 2, 3, 6, 2, 6, 2, 3, 6, 5, 6, 2, 2, 2, 5, 5, 6, 5, 2, 3, 6, 4, 2, 1, 2, 2, 1, 6, 3, 4, 6, 1, 5, 5, 6, 2, 1, 5, 4, 6, 3, 5, 1, 3, 6, 5, 2, 3, 5, 1, 1, 2, 5, 5, 5, 6, 3, 1, 2, 4, 3, 3, 6, 4, 2, 2, 4, 6, 5, 3, 3, 6, 1, 6, 2, 3, 5, 4, 2, 2, 5, 3, 1, 2, 2, 3, 6, 2, 3, 6, 5, 6, 3, 6, 4, 3, 1, 3, 2, 3, 3, 3, 3, 2, 2, 4, 2, 6, 6, 1, 6, 4, 2, 1, 1, 5, 6, 1, 6, 4, 5, 5, 1, 4, 3, 4, 5, 1, 1, 5, 5, 4, 6, 2, 6, 3, 1, 6, 6, 1, 6, 2, 2, 1, 4, 1, 6, 4, 5, 4, 3, 1, 1, 1, 3, 4, 6, 4, 6, 5, 1, 3, 6, 2, 4, 1, 4, 2, 5, 2, 4, 1, 4, 2, 6, 2, 6, 2, 6, 1, 3, 3, 2, 3, 2, 3, 1, 2, 4, 1, 3, 3, 3, 3, 2, 5, 2, 1, 5, 5, 5, 5, 2, 1, 5, 4, 4, 4, 6, 5, 3, 3, 3, 1, 2, 2, 6, 3, 1, 5, 6, 3, 3, 2, 2, 5, 4, 1, 6, 3, 3, 4, 4, 5, 3, 2, 4, 5, 3, 3, 6, 2, 5, 1, 4, 3, 2, 4, 4, 2, 3, 1, 4, 2, 1, 4, 5, 4, 1, 4, 2, 2, 2, 2, 3, 3, 5, 4, 1, 2, 1, 5, 5, 2, 2, 6, 1, 6, 2, 1, 1, 3, 3, 6, 2, 6, 3, 2, 5, 2, 2, 1, 6, 1, 6, 6, 4, 1, 3, 3, 3, 4, 6, 4, 1, 4, 1, 3, 2, 4, 4, 6, 5, 2, 4, 5, 2, 5, 5, 5, 3, 3, 3, 2, 5, 6, 3, 3, 2, 3, 5, 2, 4, 3, 3, 1, 1, 1, 3, 2, 5, 2, 5, 2, 1, 6, 4, 3, 1, 5, 3, 2, 4, 2, 3, 4, 2, 6, 2, 1, 3, 1, 6, 4, 4, 6, 5, 2, 1, 2, 5, 3, 1, 2, 6, 5, 1, 4, 1, 3, 2, 5, 3, 2, 6, 6, 5, 5, 3, 6, 5, 6, 3, 1, 4, 1, 5, 3, 3, 5, 1, 1, 2, 5, 1, 4, 6, 1, 2, 2, 4, 3, 6, 2, 4, 1, 6, 2, 1, 2, 5, 5, 6, 6, 2, 4, 5, 5, 6, 1, 6, 2, 1, 4, 4, 3, 3, 4, 6, 2, 3, 2, 1, 2, 3, 3, 3, 1, 6, 4, 1, 5, 1, 2, 2, 4, 2, 5, 3, 6, 1, 2, 1, 4, 4, 3, 5, 6, 6, 3, 1, 5, 3, 3, 6, 5, 5, 5, 4, 5, 5, 1, 6, 1, 1, 1, 2, 6, 4, 2, 3, 5, 4, 6, 3, 3, 1, 1, 3, 5, 3, 6, 2, 1, 5, 4, 3, 6, 3, 6, 1, 6, 4, 5, 5, 4, 2, 6, 6, 5, 3, 6, 5, 6, 3, 4, 5, 1, 5, 1, 6, 1, 4, 5, 4, 4, 4, 6, 3, 5, 4, 4, 2, 3, 4, 4, 5, 6, 5, 2, 6, 3, 4, 6, 5, 4, 5, 1, 6, 6, 3, 2, 1, 2, 6, 1, 5, 5, 3, 5, 2, 2, 4, 5, 5, 5, 1, 3, 5, 4, 5, 1, 6, 4, 3, 2, 4, 3, 3, 2, 2, 6, 3, 1, 5, 4, 2, 1, 2, 5, 3, 1, 3, 4, 1, 2, 5, 1, 2, 3, 5, 3, 4, 3, 5, 4, 2, 5, 3, 4, 6, 4, 2, 2, 1, 5, 6, 2, 6, 1, 2, 2, 5, 1, 3, 1, 1, 6, 1, 1, 4, 6, 1, 2, 4, 2, 3, 5, 3, 5, 6, 4, 1, 5, 3, 3, 5, 3, 3, 6, 1, 1, 4, 6, 4, 2, 1, 1, 4, 5, 1, 1, 6, 5, 6, 6, 2, 4, 2, 6, 5, 5, 1, 4, 6, 4, 3, 6, 5, 2, 4, 4, 6, 2, 5, 4, 6, 6, 1, 2, 4, 6, 2, 4, 5, 5, 5, 3, 1, 3, 4, 1, 4, 2, 5, 1, 2, 2, 3, 5, 3, 1, 2, 5, 6, 3, 1, 4, 5, 2, 1, 4, 3, 4, 1, 5, 3, 4, 5, 3, 4, 2, 3, 3, 2, 5, 3, 5, 4, 4, 5, 2, 4, 3, 5, 1, 1, 2, 4, 1, 4, 6, 5, 3, 5, 3, 4, 3, 2, 5, 5, 6, 2, 6, 5, 6, 5, 3, 4, 6, 5, 3, 1, 5, 3, 2, 5, 2, 2, 3, 5, 6, 1, 1, 2, 1, 5, 6, 4, 1, 4, 5, 2, 4, 4, 4, 2, 3, 2, 1, 1, 5, 5, 3, 6, 2, 1, 1, 3, 6, 5, 6, 5, 6, 2, 3, 1, 5, 1, 3, 5, 3, 4, 1, 4, 5, 1, 2, 5, 2, 2, 2, 5, 2, 2, 6, 3, 5, 5, 2, 1, 6, 1, 5, 4, 6, 3, 1, 2, 4, 6, 4, 3, 1, 3, 2, 1, 6, 5, 4, 2, 2, 2, 3, 4, 4, 2, 3, 2, 6, 2, 5, 2, 4, 2, 4, 1, 1, 5, 5, 6, 6, 1, 2, 6, 6, 3, 3, 1, 5, 4, 3, 1, 3, 4, 2, 4, 5, 1, 6, 3, 3, 4, 1, 1, 4, 4, 4, 4, 5, 4, 3, 2, 2, 2, 4, 5, 6, 6, 1, 1, 5, 6, 1, 2, 3, 5, 3, 1, 1, 3, 3, 2, 2, 5, 2, 5, 2, 2, 1, 2, 2, 4, 5, 5, 4, 4, 4, 3, 6, 3, 3, 5, 1, 1, 4, 3, 3, 4, 1, 1, 2, 1, 2, 1, 2, 3, 5, 2, 5, 5, 5, 2, 5, 6, 1, 2, 4, 3, 1, 6, 6, 3, 5, 2, 6, 4, 1, 3, 1, 3, 6, 4, 3, 3, 6, 3, 2, 6, 5, 4, 5, 2, 6, 2, 6, 2, 3, 3, 2, 4, 3, 5, 6, 3, 1, 6, 3, 3, 5, 4, 5, 3, 4, 3, 1, 5, 4, 6, 4, 2, 5, 1, 2, 3, 3, 6, 3, 4, 4, 5, 1, 2, 2, 2, 4, 4, 5, 3, 2, 3, 6, 1, 4, 5, 6, 2, 6, 6, 4, 3, 4, 6, 5, 5, 3, 2, 2, 1, 2, 4, 4, 2, 3, 1, 1, 3, 2, 3, 6, 1, 1, 3, 1, 6, 2, 4, 3, 1, 4, 6, 5, 5, 5, 4, 3, 5, 4, 4, 3, 5, 4, 5, 1, 6, 3, 5, 2, 1, 1, 6, 4, 2, 6, 5, 3, 1, 3, 4, 4, 6, 4, 2, 3, 5, 4, 1, 6, 6, 6, 1, 2, 1, 2, 5, 2, 6, 5, 1, 3, 6, 4, 3, 5, 2, 1, 1, 6, 5, 1, 3, 5, 1, 6, 6, 4, 4, 4, 3, 5, 1, 4, 5, 6, 3, 4, 6, 6, 4, 1, 3, 3, 4, 1, 4, 1, 5, 2, 2, 4, 2, 2, 4, 4, 4, 4, 6, 6, 2, 4, 2, 6, 1, 6, 5, 6, 1, 6, 3, 6, 6, 3, 6, 4, 5, 6, 5, 5, 3, 4, 4, 3, 2, 6, 5, 5, 5, 5, 5, 2, 2, 4, 5, 4, 6, 5, 2, 5, 2, 3, 5, 3, 6, 1, 1, 6, 2, 4, 5, 6, 6, 1, 4, 4, 5, 1, 1, 1, 3, 5, 3, 6, 4, 1, 4, 2, 4, 1, 4, 4, 4, 1, 5, 3, 2, 5, 1, 2, 3, 6, 1, 1, 3, 2, 1, 4, 2, 2, 5, 1, 2, 6, 3, 6, 4, 5, 6, 1, 6, 6, 6, 6, 5, 1, 6, 5, 5, 2, 3, 4, 4, 3, 4, 6, 5, 1, 2, 6, 1, 2, 3, 6, 4, 2, 5, 6, 6, 5, 5, 2, 1, 5, 4, 3, 4, 5, 2, 4, 1, 2, 1, 4, 6, 3, 2, 2, 1, 2, 6, 5, 1, 6, 3, 4, 2, 4, 4, 3, 6, 2, 1, 6, 6, 5, 4, 2, 5, 1, 2, 2, 4, 1, 1, 6, 2, 3, 6, 5, 1, 1, 2, 5, 5, 1, 3, 1, 1, 2, 4, 4, 2, 3, 4, 4, 3, 2, 6, 3, 3, 3, 5, 6, 6, 4, 5, 5, 6, 5, 3, 2, 2, 2, 6, 3, 5, 3, 4, 4, 6, 6, 5, 4, 5, 1, 6, 4, 3, 1, 4, 5, 4, 5, 1, 3, 6, 3, 2, 6, 4, 2, 3, 4, 4, 6, 2, 5, 3, 6, 4, 3, 3, 1, 4, 2, 6, 4, 6, 6, 5, 1, 6, 5, 3, 4, 2, 3, 3, 3, 2, 1, 3, 6, 3, 4, 2, 6, 4, 3, 2, 5, 1, 1, 3, 6, 3, 3, 5, 1, 6, 5, 6, 2, 5, 3, 1, 6, 1, 3, 1, 4, 1, 2, 5, 5, 6, 4, 1, 3, 3, 3, 3, 3, 3, 2, 4, 2, 1, 4, 3, 2, 1, 5, 4, 4, 3, 4, 1, 2, 1, 6, 5, 3, 4, 5, 6, 4, 1, 5, 5, 4, 1, 5, 2, 5, 1, 1, 2, 6, 4, 5, 1, 5, 6, 4, 2, 4, 1, 3, 3, 1, 5, 2, 1, 4, 6, 6, 1, 2, 6, 4, 5, 6, 6, 4, 5, 4, 5, 3, 4, 2, 6, 5, 4, 4, 6, 6, 4, 4, 2, 5, 3, 6, 1, 2, 5, 2, 1, 5, 5, 6, 1, 6, 4, 3, 4, 2, 3, 2, 6, 2, 3, 5, 6, 6, 4, 3, 6, 3, 5, 3, 6, 2, 5, 1, 6, 4, 2, 1, 6, 6, 3, 1, 5, 1, 1, 1, 4, 5, 1, 6, 4, 5, 1, 2, 3, 4, 1, 4, 2, 5, 4, 4, 2, 1, 6, 2, 1, 1, 3, 6, 2, 1, 3, 5, 1, 6, 2, 3, 5, 4, 6, 1, 6, 4, 1, 4, 5, 4, 3, 2, 5, 6, 1, 4, 1, 5, 2, 2, 2, 2, 5, 4, 1, 3, 2, 6, 2, 4, 2, 5, 2, 6, 1, 2, 5, 4, 6, 6, 4, 6, 6, 6, 6, 6, 1, 1, 3, 2, 1, 1, 4, 2, 6, 2, 6, 4, 4, 6, 3, 4, 3, 2, 4, 5, 2, 4, 1, 3, 3, 1, 4, 4, 2, 2, 5, 2, 2, 4, 3, 1, 3, 6, 1, 6, 6, 1, 1, 6, 1, 6, 5, 6, 3, 3, 5, 1, 4, 4, 4, 4, 5, 4, 3, 6, 2, 6, 1, 2, 3, 4, 4, 5, 6, 6, 2, 2, 5, 3, 6, 1, 5, 6, 2, 2, 4, 2, 5, 4, 2, 6, 5, 3, 4, 3, 2, 5, 4, 5, 1, 3, 6, 6, 1, 3, 5, 6, 3, 4, 1, 4, 3, 6, 1, 5, 3, 6, 1, 3, 1, 5, 2, 4, 6, 5, 6, 6, 1, 6, 2, 1, 5, 3, 5, 2, 2, 1, 5, 3, 6, 1, 4, 2, 5, 2, 1, 2, 2, 6, 3, 3, 3, 3, 4, 2, 4, 1, 2, 4, 6, 1, 4, 4, 2, 5, 4, 6, 3, 5, 4, 3, 5, 3, 1, 6, 5, 6, 5, 2, 5, 5, 5, 1, 1, 4, 3, 3, 1, 4, 4, 6, 5, 1, 1, 2, 4, 1, 4, 6, 5, 5, 3, 1, 6, 6, 3, 2, 5, 6, 2, 2, 2, 3, 3, 5, 1, 3, 5, 4, 6, 2, 5, 4, 4, 1, 5, 6, 6, 6, 3, 6, 5, 3, 2, 3, 4, 1, 2, 1, 2, 6, 4, 6, 5, 1, 2, 6, 1, 5, 4, 5, 4, 4, 3, 1, 5, 6, 1, 3, 1, 6, 6, 6, 1, 2, 4, 2, 4, 2, 1, 6, 5, 6, 6, 1, 3, 2, 6, 4, 3, 2, 5, 3, 3, 2, 5, 6, 1, 3, 3, 3, 5, 1, 3, 6, 6, 6, 3, 3, 3, 2, 6, 2, 2, 4, 5, 4, 1, 6, 2, 3, 1, 5, 2, 4, 5, 6, 4, 3, 1, 2, 5, 5, 6, 4, 5, 5, 1, 3, 2, 6, 3, 3, 4, 3, 6, 5, 5, 4, 3, 5, 6, 1, 4, 4, 5, 3, 2, 4, 1, 5, 4, 3, 5, 6, 2, 4, 1, 3, 3, 1, 2, 6, 6, 3, 5, 3, 6, 3, 5, 1, 3, 2, 5, 1, 4, 3, 3, 1, 5, 6, 4, 1, 3, 3, 4, 4, 4, 4, 4, 6, 6, 4, 6, 2, 2, 1, 4, 4, 1, 3, 1, 3, 3, 5, 5, 5, 5, 6, 4, 4, 4, 6, 3, 6, 1, 2, 3, 3, 2, 1, 4, 3, 1, 2, 5, 1, 5, 4, 2, 5, 6, 4, 6, 1, 5, 6, 4, 6, 2, 5, 5, 4, 4, 2, 1, 2, 4, 6, 3, 2, 4, 2, 1, 1, 4, 5, 6, 2, 6, 5, 4, 6, 2, 4, 2, 2, 3, 6, 2, 4, 6, 5, 2, 3, 4, 3, 1, 5, 6, 1, 3, 1, 3, 6, 3, 6, 6, 1, 3, 3, 5, 3, 2, 4, 3, 3, 4, 5, 5, 2, 3, 6, 6, 2, 1, 4, 5, 3, 3, 6, 3, 5, 1, 6, 6, 2, 3, 1, 5, 4, 2, 5, 1, 4, 3, 1, 4, 3, 4, 1, 5, 4, 6, 4, 2, 3, 1, 5, 6, 4, 4, 2, 2, 6, 3, 1, 4, 5, 5, 6, 4, 1, 1, 5, 6, 4, 3, 4, 2, 3, 1, 5, 6, 4, 2, 2, 6, 2, 2, 6, 3, 6, 3, 6, 3, 3, 1, 3, 6, 5, 1, 1, 1, 6, 5, 2, 2, 3, 5, 4, 1, 6, 5, 6, 2, 1, 1, 1, 6, 5, 6, 1, 1, 6, 2, 2, 4, 5, 4, 4, 2, 3, 6, 5, 1, 2, 5, 3, 3, 2, 3, 4, 1, 3, 6, 2, 1, 3, 1, 5, 5, 5, 2, 4, 3, 6, 2, 6, 2, 5, 1, 2, 5, 4, 4, 5, 4, 3, 2, 1, 5, 6, 1, 2, 5, 1, 5, 3, 3, 4, 6, 6, 4, 2, 1, 5, 4, 1, 6, 3, 2, 6, 4, 5, 4, 1, 3, 5, 3, 4, 3, 2, 6, 3, 6, 6, 4, 2, 1, 4, 1, 6, 5, 2, 1, 3, 3, 6, 5, 1, 5, 2, 2, 5, 6, 6, 3, 5, 4, 1, 6, 2, 3, 3, 5, 2, 6, 1, 4, 2, 6, 2, 4, 2, 3, 6, 2, 6, 5, 1, 1, 5, 3, 3, 5, 3, 1, 5, 3, 3, 2, 1, 4, 2, 2, 6, 4, 5, 2, 6, 2, 3, 2, 5, 1, 6, 6, 5, 2, 4, 5, 5, 2, 1, 5, 1, 1, 6, 2, 6, 6, 5, 1, 1, 3, 6, 6, 4, 1, 5, 6, 5, 5, 4, 4, 3, 3, 6, 2, 2, 4, 4, 4, 2, 3, 5, 4, 2, 3, 3, 5, 1, 2, 2, 3, 2, 5, 3, 1, 1, 3, 4, 5, 2, 1, 1, 5, 3, 2, 1, 3, 2, 4, 6, 4, 1, 5, 5, 1, 4, 4, 3, 4, 5, 1, 3, 6, 3, 2, 6, 3, 5, 3, 4, 4, 6, 6, 5, 5, 1, 2, 2, 3, 3, 6, 2, 3, 6, 4, 2, 4, 5, 3, 2, 2, 2, 1, 5, 3, 4, 1, 6, 6, 2, 1, 1, 5, 4, 2, 2, 6, 5, 6, 2, 1, 3, 3, 6, 2, 2, 4, 4, 5, 1, 3, 2, 1, 5, 4, 6, 1, 2, 4, 6, 1, 5, 3, 2, 6, 1, 2, 2, 5, 4, 4, 2, 6, 3, 6, 6, 2, 1, 3, 4, 1, 2, 4, 2, 5, 4, 5, 2, 6, 2, 2, 1, 4, 2, 5, 5, 5, 4, 2, 4, 1, 4, 3, 6, 3, 2, 4, 1, 5, 1, 3, 1, 2, 6, 4, 2, 4, 2, 5, 5, 5, 1, 1, 3, 5, 2, 4, 6, 1, 1, 4, 6, 5, 4, 2, 4, 6, 2, 4, 1, 3, 3, 6, 4, 1, 3, 2, 2, 4, 3, 3, 6, 3, 5, 3, 6, 6, 5, 3, 2, 1, 4, 6, 3, 6, 1, 2, 6, 2, 5, 1, 1, 1, 3, 5, 3, 4, 2, 6, 1, 5, 6, 6, 1, 6, 3, 3, 1, 2, 4, 1, 2, 6, 1, 1, 4, 5, 3, 5, 3, 5, 3, 6, 4, 2, 1, 2, 4, 5, 2, 3, 4, 3, 6, 6, 3, 4, 1, 3, 1, 1, 2, 5, 3, 2, 6, 6, 6, 4, 3, 5, 5, 5, 1, 6, 2, 2, 5, 5, 1, 4, 2, 2, 1, 6, 6, 4, 4, 2, 1, 2, 5, 1, 1, 5, 2, 2, 3, 5, 1, 5, 2, 3, 1, 3, 1, 3, 6, 3, 3, 4, 1, 6, 2, 4, 2, 1, 6, 3, 4, 4, 2, 3, 1, 1, 5, 4, 3, 1, 3, 3, 4, 1, 5, 2, 4, 3, 3, 5, 3, 1, 1, 4, 1, 3, 4, 6, 4, 5, 2, 2, 6, 4, 5, 6, 5, 2, 5, 5, 1, 5, 3, 4, 3, 1, 6, 1, 5, 3, 6, 6, 5, 4, 2, 4, 4, 6, 5, 2, 6, 2, 3, 4, 4, 5, 3, 1, 3, 2, 1, 2, 3, 2, 2, 1, 2, 1, 4, 6, 5, 6, 3]\n"
          ]
        }
      ]
    },
    {
      "cell_type": "markdown",
      "source": [
        "A visualização ficou um pouco ruim devido à quantidade de dados gerados, vamos melhorar?"
      ],
      "metadata": {
        "id": "kDIu_Ewk_gVi"
      }
    },
    {
      "cell_type": "code",
      "source": [
        "for inicio in range(0, 100, 10):\n",
        "  print(lancamentos[inicio:inicio + 10])"
      ],
      "metadata": {
        "id": "XnzMCcQu--bz",
        "colab": {
          "base_uri": "https://localhost:8080/"
        },
        "outputId": "23e899fc-b394-4f59-e3c7-c16e3a8ac081"
      },
      "execution_count": null,
      "outputs": [
        {
          "output_type": "stream",
          "name": "stdout",
          "text": [
            "[2, 6, 6, 3, 1, 6, 3, 6, 6, 5]\n",
            "[4, 5, 6, 2, 3, 3, 5, 4, 5, 4]\n",
            "[5, 1, 4, 2, 6, 4, 4, 6, 2, 3]\n",
            "[5, 6, 6, 6, 3, 1, 4, 6, 5, 1]\n",
            "[2, 5, 4, 3, 4, 6, 1, 4, 1, 3]\n",
            "[6, 5, 5, 5, 4, 6, 2, 2, 5, 2]\n",
            "[1, 2, 5, 5, 2, 4, 5, 3, 5, 3]\n",
            "[4, 3, 6, 5, 5, 6, 1, 4, 6, 5]\n",
            "[2, 5, 5, 2, 4, 1, 4, 3, 5, 5]\n",
            "[2, 5, 4, 4, 3, 4, 3, 1, 5, 5]\n"
          ]
        }
      ]
    },
    {
      "cell_type": "markdown",
      "source": [
        "E agora, vamos contabilizar quantas vezes cada uma das faces foi escolhida?\n",
        "\n",
        "Alguém sabe dizer que distribuição estatística é essa?"
      ],
      "metadata": {
        "id": "kVa5klLZ_wHl"
      }
    },
    {
      "cell_type": "code",
      "source": [
        "for valor in range(1, 7):\n",
        "  print(\"Lançamento do\", valor, \"-\", lancamentos.count(valor))"
      ],
      "metadata": {
        "id": "a7YAiKsB_p5B",
        "colab": {
          "base_uri": "https://localhost:8080/"
        },
        "outputId": "43d12c49-587f-475e-e9d5-d5f271b78c20"
      },
      "execution_count": null,
      "outputs": [
        {
          "output_type": "stream",
          "name": "stdout",
          "text": [
            "Lançamento do 1 - 16635\n",
            "Lançamento do 2 - 16736\n",
            "Lançamento do 3 - 16530\n",
            "Lançamento do 4 - 16843\n",
            "Lançamento do 5 - 16710\n",
            "Lançamento do 6 - 16546\n"
          ]
        }
      ]
    },
    {
      "cell_type": "markdown",
      "source": [
        "Vamos agora a uma aplicação simples e à introdução de uma técnica bastante poderosa mas que pode ser um pouco complexa para os iniciantes. Além disso, apesar de ser uma estrutura \"pythonica\", pode complicar mais na clareza do código. Use com moderação!"
      ],
      "metadata": {
        "id": "Qc1cMPQwANnQ"
      }
    },
    {
      "cell_type": "code",
      "source": [
        "def embaralha(palavra):\n",
        "  # list comprehension\n",
        "  lista = [carac for carac in palavra]\n",
        "  random.shuffle(lista)\n",
        "  palavra_emb = \"\".join(lista)\n",
        "\n",
        "  return palavra_emb"
      ],
      "metadata": {
        "id": "s6UazGm8gTwW"
      },
      "execution_count": null,
      "outputs": []
    },
    {
      "cell_type": "code",
      "source": [],
      "metadata": {
        "id": "LDwihvsnhl4z"
      },
      "execution_count": null,
      "outputs": []
    },
    {
      "cell_type": "code",
      "source": [
        "embaralha(\"palavra\")"
      ],
      "metadata": {
        "id": "4HzIuqJehRc1",
        "colab": {
          "base_uri": "https://localhost:8080/",
          "height": 35
        },
        "outputId": "d195ca5f-35b5-4d11-c5c9-db74cb0fbbab"
      },
      "execution_count": null,
      "outputs": [
        {
          "output_type": "execute_result",
          "data": {
            "text/plain": [
              "'lprvaaa'"
            ],
            "application/vnd.google.colaboratory.intrinsic+json": {
              "type": "string"
            }
          },
          "metadata": {},
          "execution_count": 74
        }
      ]
    },
    {
      "cell_type": "markdown",
      "source": [
        "Mais um exemplo de uso do \"list comprehension\""
      ],
      "metadata": {
        "id": "Fchn0aGnBGVl"
      }
    },
    {
      "cell_type": "code",
      "source": [
        "numeros = [1, 2, 3, 4, 5]\n",
        "quadrados = [num ** 2 for num in numeros]\n",
        "quadrados"
      ],
      "metadata": {
        "id": "M2hScTicg5K2",
        "colab": {
          "base_uri": "https://localhost:8080/"
        },
        "outputId": "0858d4af-34fa-4e0d-8cd4-19200c7bb149"
      },
      "execution_count": null,
      "outputs": [
        {
          "output_type": "execute_result",
          "data": {
            "text/plain": [
              "[1, 4, 9, 16, 25]"
            ]
          },
          "metadata": {},
          "execution_count": 75
        }
      ]
    },
    {
      "cell_type": "markdown",
      "source": [
        "# **Importação de módulos externos (bibliotecas) com linguagem Python**"
      ],
      "metadata": {
        "id": "989jJg-Ya7ri"
      }
    },
    {
      "cell_type": "markdown",
      "source": [
        "## Importando módulos"
      ],
      "metadata": {
        "id": "5exVywWha93x"
      }
    },
    {
      "cell_type": "markdown",
      "source": [
        "O Python permite a reutilização de códigos criados por você mesmo ou por terceiros e como a comunidade envolvida com a linguagem é muito ativa, temos uma enorme oferta de funções já feitas para as mais diversas atividades. Estes conjuntos de código são chamados de 'módulos', 'bibliotecas', ou ainda 'pacotes'.\n",
        "\n",
        "Tecnicamente, um módulo é um arquivo Python que pode ser importado. Já um pacote/biblioteca consiste de dois ou mais módulos. Porém, no dia a dia, estes nomes são usados indistintamente.\n",
        "\n",
        "Vamos ver como importar módulos para facilitar o trabalho do dia a dia."
      ],
      "metadata": {
        "id": "YjoKtqV9a_1x"
      }
    },
    {
      "cell_type": "markdown",
      "source": [
        "A palavra reservada usada para importar módulos é 'import'. Vamos a um exemplo simples."
      ],
      "metadata": {
        "id": "utA3NHTpbDIe"
      }
    },
    {
      "cell_type": "code",
      "source": [
        "import this"
      ],
      "metadata": {
        "colab": {
          "base_uri": "https://localhost:8080/"
        },
        "id": "FjJiSAlLbE0g",
        "outputId": "830686ca-4dc3-4f27-fbba-6a593d4a45d7"
      },
      "execution_count": 1,
      "outputs": [
        {
          "output_type": "stream",
          "name": "stdout",
          "text": [
            "The Zen of Python, by Tim Peters\n",
            "\n",
            "Beautiful is better than ugly.\n",
            "Explicit is better than implicit.\n",
            "Simple is better than complex.\n",
            "Complex is better than complicated.\n",
            "Flat is better than nested.\n",
            "Sparse is better than dense.\n",
            "Readability counts.\n",
            "Special cases aren't special enough to break the rules.\n",
            "Although practicality beats purity.\n",
            "Errors should never pass silently.\n",
            "Unless explicitly silenced.\n",
            "In the face of ambiguity, refuse the temptation to guess.\n",
            "There should be one-- and preferably only one --obvious way to do it.\n",
            "Although that way may not be obvious at first unless you're Dutch.\n",
            "Now is better than never.\n",
            "Although never is often better than *right* now.\n",
            "If the implementation is hard to explain, it's a bad idea.\n",
            "If the implementation is easy to explain, it may be a good idea.\n",
            "Namespaces are one honking great idea -- let's do more of those!\n"
          ]
        }
      ]
    },
    {
      "cell_type": "code",
      "source": [
        "import math\n",
        "\n",
        "math.sqrt(4)"
      ],
      "metadata": {
        "colab": {
          "base_uri": "https://localhost:8080/"
        },
        "id": "sMW1t2hZbINg",
        "outputId": "98d34f12-fbd3-47ea-c0b6-acd795dc91c2"
      },
      "execution_count": 2,
      "outputs": [
        {
          "output_type": "execute_result",
          "data": {
            "text/plain": [
              "2.0"
            ]
          },
          "metadata": {},
          "execution_count": 2
        }
      ]
    },
    {
      "cell_type": "markdown",
      "source": [
        "Como já vimos, se quisermos saber todos os métodos disponibilizados pela biblioteca \"math\", podemos usar a função \"help()\"."
      ],
      "metadata": {
        "id": "VXYSV2UbbKcj"
      }
    },
    {
      "cell_type": "code",
      "source": [
        "help(math)"
      ],
      "metadata": {
        "colab": {
          "base_uri": "https://localhost:8080/"
        },
        "id": "08-m-VjrbLWg",
        "outputId": "de24bcd1-9f36-4854-f6ac-366dab2ff86f"
      },
      "execution_count": 3,
      "outputs": [
        {
          "output_type": "stream",
          "name": "stdout",
          "text": [
            "Help on built-in module math:\n",
            "\n",
            "NAME\n",
            "    math\n",
            "\n",
            "DESCRIPTION\n",
            "    This module provides access to the mathematical functions\n",
            "    defined by the C standard.\n",
            "\n",
            "FUNCTIONS\n",
            "    acos(x, /)\n",
            "        Return the arc cosine (measured in radians) of x.\n",
            "        \n",
            "        The result is between 0 and pi.\n",
            "    \n",
            "    acosh(x, /)\n",
            "        Return the inverse hyperbolic cosine of x.\n",
            "    \n",
            "    asin(x, /)\n",
            "        Return the arc sine (measured in radians) of x.\n",
            "        \n",
            "        The result is between -pi/2 and pi/2.\n",
            "    \n",
            "    asinh(x, /)\n",
            "        Return the inverse hyperbolic sine of x.\n",
            "    \n",
            "    atan(x, /)\n",
            "        Return the arc tangent (measured in radians) of x.\n",
            "        \n",
            "        The result is between -pi/2 and pi/2.\n",
            "    \n",
            "    atan2(y, x, /)\n",
            "        Return the arc tangent (measured in radians) of y/x.\n",
            "        \n",
            "        Unlike atan(y/x), the signs of both x and y are considered.\n",
            "    \n",
            "    atanh(x, /)\n",
            "        Return the inverse hyperbolic tangent of x.\n",
            "    \n",
            "    ceil(x, /)\n",
            "        Return the ceiling of x as an Integral.\n",
            "        \n",
            "        This is the smallest integer >= x.\n",
            "    \n",
            "    comb(n, k, /)\n",
            "        Number of ways to choose k items from n items without repetition and without order.\n",
            "        \n",
            "        Evaluates to n! / (k! * (n - k)!) when k <= n and evaluates\n",
            "        to zero when k > n.\n",
            "        \n",
            "        Also called the binomial coefficient because it is equivalent\n",
            "        to the coefficient of k-th term in polynomial expansion of the\n",
            "        expression (1 + x)**n.\n",
            "        \n",
            "        Raises TypeError if either of the arguments are not integers.\n",
            "        Raises ValueError if either of the arguments are negative.\n",
            "    \n",
            "    copysign(x, y, /)\n",
            "        Return a float with the magnitude (absolute value) of x but the sign of y.\n",
            "        \n",
            "        On platforms that support signed zeros, copysign(1.0, -0.0)\n",
            "        returns -1.0.\n",
            "    \n",
            "    cos(x, /)\n",
            "        Return the cosine of x (measured in radians).\n",
            "    \n",
            "    cosh(x, /)\n",
            "        Return the hyperbolic cosine of x.\n",
            "    \n",
            "    degrees(x, /)\n",
            "        Convert angle x from radians to degrees.\n",
            "    \n",
            "    dist(p, q, /)\n",
            "        Return the Euclidean distance between two points p and q.\n",
            "        \n",
            "        The points should be specified as sequences (or iterables) of\n",
            "        coordinates.  Both inputs must have the same dimension.\n",
            "        \n",
            "        Roughly equivalent to:\n",
            "            sqrt(sum((px - qx) ** 2.0 for px, qx in zip(p, q)))\n",
            "    \n",
            "    erf(x, /)\n",
            "        Error function at x.\n",
            "    \n",
            "    erfc(x, /)\n",
            "        Complementary error function at x.\n",
            "    \n",
            "    exp(x, /)\n",
            "        Return e raised to the power of x.\n",
            "    \n",
            "    expm1(x, /)\n",
            "        Return exp(x)-1.\n",
            "        \n",
            "        This function avoids the loss of precision involved in the direct evaluation of exp(x)-1 for small x.\n",
            "    \n",
            "    fabs(x, /)\n",
            "        Return the absolute value of the float x.\n",
            "    \n",
            "    factorial(x, /)\n",
            "        Find x!.\n",
            "        \n",
            "        Raise a ValueError if x is negative or non-integral.\n",
            "    \n",
            "    floor(x, /)\n",
            "        Return the floor of x as an Integral.\n",
            "        \n",
            "        This is the largest integer <= x.\n",
            "    \n",
            "    fmod(x, y, /)\n",
            "        Return fmod(x, y), according to platform C.\n",
            "        \n",
            "        x % y may differ.\n",
            "    \n",
            "    frexp(x, /)\n",
            "        Return the mantissa and exponent of x, as pair (m, e).\n",
            "        \n",
            "        m is a float and e is an int, such that x = m * 2.**e.\n",
            "        If x is 0, m and e are both 0.  Else 0.5 <= abs(m) < 1.0.\n",
            "    \n",
            "    fsum(seq, /)\n",
            "        Return an accurate floating point sum of values in the iterable seq.\n",
            "        \n",
            "        Assumes IEEE-754 floating point arithmetic.\n",
            "    \n",
            "    gamma(x, /)\n",
            "        Gamma function at x.\n",
            "    \n",
            "    gcd(*integers)\n",
            "        Greatest Common Divisor.\n",
            "    \n",
            "    hypot(...)\n",
            "        hypot(*coordinates) -> value\n",
            "        \n",
            "        Multidimensional Euclidean distance from the origin to a point.\n",
            "        \n",
            "        Roughly equivalent to:\n",
            "            sqrt(sum(x**2 for x in coordinates))\n",
            "        \n",
            "        For a two dimensional point (x, y), gives the hypotenuse\n",
            "        using the Pythagorean theorem:  sqrt(x*x + y*y).\n",
            "        \n",
            "        For example, the hypotenuse of a 3/4/5 right triangle is:\n",
            "        \n",
            "            >>> hypot(3.0, 4.0)\n",
            "            5.0\n",
            "    \n",
            "    isclose(a, b, *, rel_tol=1e-09, abs_tol=0.0)\n",
            "        Determine whether two floating point numbers are close in value.\n",
            "        \n",
            "          rel_tol\n",
            "            maximum difference for being considered \"close\", relative to the\n",
            "            magnitude of the input values\n",
            "          abs_tol\n",
            "            maximum difference for being considered \"close\", regardless of the\n",
            "            magnitude of the input values\n",
            "        \n",
            "        Return True if a is close in value to b, and False otherwise.\n",
            "        \n",
            "        For the values to be considered close, the difference between them\n",
            "        must be smaller than at least one of the tolerances.\n",
            "        \n",
            "        -inf, inf and NaN behave similarly to the IEEE 754 Standard.  That\n",
            "        is, NaN is not close to anything, even itself.  inf and -inf are\n",
            "        only close to themselves.\n",
            "    \n",
            "    isfinite(x, /)\n",
            "        Return True if x is neither an infinity nor a NaN, and False otherwise.\n",
            "    \n",
            "    isinf(x, /)\n",
            "        Return True if x is a positive or negative infinity, and False otherwise.\n",
            "    \n",
            "    isnan(x, /)\n",
            "        Return True if x is a NaN (not a number), and False otherwise.\n",
            "    \n",
            "    isqrt(n, /)\n",
            "        Return the integer part of the square root of the input.\n",
            "    \n",
            "    lcm(*integers)\n",
            "        Least Common Multiple.\n",
            "    \n",
            "    ldexp(x, i, /)\n",
            "        Return x * (2**i).\n",
            "        \n",
            "        This is essentially the inverse of frexp().\n",
            "    \n",
            "    lgamma(x, /)\n",
            "        Natural logarithm of absolute value of Gamma function at x.\n",
            "    \n",
            "    log(...)\n",
            "        log(x, [base=math.e])\n",
            "        Return the logarithm of x to the given base.\n",
            "        \n",
            "        If the base not specified, returns the natural logarithm (base e) of x.\n",
            "    \n",
            "    log10(x, /)\n",
            "        Return the base 10 logarithm of x.\n",
            "    \n",
            "    log1p(x, /)\n",
            "        Return the natural logarithm of 1+x (base e).\n",
            "        \n",
            "        The result is computed in a way which is accurate for x near zero.\n",
            "    \n",
            "    log2(x, /)\n",
            "        Return the base 2 logarithm of x.\n",
            "    \n",
            "    modf(x, /)\n",
            "        Return the fractional and integer parts of x.\n",
            "        \n",
            "        Both results carry the sign of x and are floats.\n",
            "    \n",
            "    nextafter(x, y, /)\n",
            "        Return the next floating-point value after x towards y.\n",
            "    \n",
            "    perm(n, k=None, /)\n",
            "        Number of ways to choose k items from n items without repetition and with order.\n",
            "        \n",
            "        Evaluates to n! / (n - k)! when k <= n and evaluates\n",
            "        to zero when k > n.\n",
            "        \n",
            "        If k is not specified or is None, then k defaults to n\n",
            "        and the function returns n!.\n",
            "        \n",
            "        Raises TypeError if either of the arguments are not integers.\n",
            "        Raises ValueError if either of the arguments are negative.\n",
            "    \n",
            "    pow(x, y, /)\n",
            "        Return x**y (x to the power of y).\n",
            "    \n",
            "    prod(iterable, /, *, start=1)\n",
            "        Calculate the product of all the elements in the input iterable.\n",
            "        \n",
            "        The default start value for the product is 1.\n",
            "        \n",
            "        When the iterable is empty, return the start value.  This function is\n",
            "        intended specifically for use with numeric values and may reject\n",
            "        non-numeric types.\n",
            "    \n",
            "    radians(x, /)\n",
            "        Convert angle x from degrees to radians.\n",
            "    \n",
            "    remainder(x, y, /)\n",
            "        Difference between x and the closest integer multiple of y.\n",
            "        \n",
            "        Return x - n*y where n*y is the closest integer multiple of y.\n",
            "        In the case where x is exactly halfway between two multiples of\n",
            "        y, the nearest even value of n is used. The result is always exact.\n",
            "    \n",
            "    sin(x, /)\n",
            "        Return the sine of x (measured in radians).\n",
            "    \n",
            "    sinh(x, /)\n",
            "        Return the hyperbolic sine of x.\n",
            "    \n",
            "    sqrt(x, /)\n",
            "        Return the square root of x.\n",
            "    \n",
            "    tan(x, /)\n",
            "        Return the tangent of x (measured in radians).\n",
            "    \n",
            "    tanh(x, /)\n",
            "        Return the hyperbolic tangent of x.\n",
            "    \n",
            "    trunc(x, /)\n",
            "        Truncates the Real x to the nearest Integral toward 0.\n",
            "        \n",
            "        Uses the __trunc__ magic method.\n",
            "    \n",
            "    ulp(x, /)\n",
            "        Return the value of the least significant bit of the float x.\n",
            "\n",
            "DATA\n",
            "    e = 2.718281828459045\n",
            "    inf = inf\n",
            "    nan = nan\n",
            "    pi = 3.141592653589793\n",
            "    tau = 6.283185307179586\n",
            "\n",
            "FILE\n",
            "    (built-in)\n",
            "\n",
            "\n"
          ]
        }
      ]
    },
    {
      "cell_type": "markdown",
      "source": [
        "Importamos o módulo 'math' e utilizamos uma das funções contidas nele ('sqrt', ou raiz quadrada).\n",
        "\n",
        "Para utilizar um método do módulo, devemos chamá-lo com a seguinte sintaxe **nome_modulo.nome_metodo(argumentos)**.\n",
        "\n",
        "o módulo 'math' possui diversos outros métodos úteis como 'cos' (cosseno), 'factorial' (fatorial), 'log' (logaritmo), etc. O único cuidado que deve ser tomado é quanto ao número de argumentos exigidos pela função.\n",
        "\n",
        "Uma outra forma de importar é usando a palavra 'from'. É bem útil para não termos que usar como prefixo o nome do módulo toda vez que quisermos usar um método do módulo."
      ],
      "metadata": {
        "id": "NkfiyK1ubPjW"
      }
    },
    {
      "cell_type": "code",
      "source": [
        "from math import sqrt\n",
        "\n",
        "sqrt(16)"
      ],
      "metadata": {
        "colab": {
          "base_uri": "https://localhost:8080/"
        },
        "id": "jdEz2DHsbSuu",
        "outputId": "6c92b225-3e7e-4568-e92a-e6514a46bf72"
      },
      "execution_count": 4,
      "outputs": [
        {
          "output_type": "execute_result",
          "data": {
            "text/plain": [
              "4.0"
            ]
          },
          "metadata": {},
          "execution_count": 4
        }
      ]
    },
    {
      "cell_type": "markdown",
      "source": [
        "Aqui usamos a palavra-chave 'from' para importar apenas o método 'sqrt' do módulo 'math'. Podemos também importar mais de um método da mesma forma."
      ],
      "metadata": {
        "id": "0RIKCjOnbVC_"
      }
    },
    {
      "cell_type": "code",
      "source": [
        "from math import pi, sqrt\n",
        "\n",
        "print(sqrt(36))\n",
        "\n",
        "\n",
        "pi = 2\n",
        "print(pi)"
      ],
      "metadata": {
        "colab": {
          "base_uri": "https://localhost:8080/"
        },
        "id": "n4a76omCbWJm",
        "outputId": "b2460af7-d6f4-4aeb-8f54-3f7fa7454949"
      },
      "execution_count": 5,
      "outputs": [
        {
          "output_type": "stream",
          "name": "stdout",
          "text": [
            "6.0\n",
            "2\n"
          ]
        }
      ]
    },
    {
      "cell_type": "markdown",
      "source": [
        "\n",
        "Este exemplo mostra como podemos importar constantes numéricas!\n",
        "\n",
        "**Outro ponto importante para incentivar o uso desta forma é a economia de memória oferecida, pois apenas os métodos que serão realmente utilizados serão alocados na memória principal!**"
      ],
      "metadata": {
        "id": "MK0WSzZbbZ7V"
      }
    },
    {
      "cell_type": "markdown",
      "source": [
        "Podemos também importar todo o módulo utilizando uma sintaxe especial. Porém isso não é uma prática recomendada pois pode contaminar o que chamamos de \"namespace\", ou seja, o local de memória onde todas as variáveis vivem enquanto o script está rodando. Vamos a um exemplo para explorar os problemas decorrentes desta prática."
      ],
      "metadata": {
        "id": "OMar68eUbbr_"
      }
    },
    {
      "cell_type": "code",
      "source": [
        "from math import *\n",
        "\n",
        "math.sqrt(16)"
      ],
      "metadata": {
        "colab": {
          "base_uri": "https://localhost:8080/"
        },
        "id": "vTJW9WLTbdhQ",
        "outputId": "81f8d7d7-2e5a-4a20-ece3-e2682f4715c3"
      },
      "execution_count": 6,
      "outputs": [
        {
          "output_type": "execute_result",
          "data": {
            "text/plain": [
              "4.0"
            ]
          },
          "metadata": {},
          "execution_count": 6
        }
      ]
    },
    {
      "cell_type": "markdown",
      "source": [
        "Uma última forma de importação muito usada é dando um apelido de forma a, ao mesmo tempo, deixar explícita a origem dos métodos utilizados e utilizá-los por meio de uma sintaxe mais curta. Exemplos:"
      ],
      "metadata": {
        "id": "cR3UQMn3bfeV"
      }
    },
    {
      "cell_type": "code",
      "source": [
        "import numpy as np\n",
        "\n",
        "a = np.zeros((2,2))   # Cria um array preenchido de zeros.\n",
        "print(a)"
      ],
      "metadata": {
        "colab": {
          "base_uri": "https://localhost:8080/"
        },
        "id": "EvSNLx1obhbw",
        "outputId": "0d8166b4-e1b4-4a83-dfb3-c5e09dffa9fd"
      },
      "execution_count": 7,
      "outputs": [
        {
          "output_type": "stream",
          "name": "stdout",
          "text": [
            "[[0. 0.]\n",
            " [0. 0.]]\n"
          ]
        }
      ]
    },
    {
      "cell_type": "code",
      "source": [
        "import pandas as pd\n",
        "import numpy as np\n",
        "import matplotlib.pyplot as plt\n",
        "\n",
        "# Criando uma série de dados aleatórios a partir de uma data.\n",
        "ts = pd.Series(np.random.randn(1000), index=pd.date_range('1/1/2000', periods=1000))\n",
        "\n",
        "# 'Plotando' o gráfico dos dados.\n",
        "ts.plot()\n",
        "plt.show()  # Devemos chamar o método plt.show() para apresentar o gráfico na tela."
      ],
      "metadata": {
        "colab": {
          "base_uri": "https://localhost:8080/",
          "height": 446
        },
        "id": "xLy6i5wVbjiT",
        "outputId": "8ff0c4f1-2fd4-4f0a-c9ea-f2f9a44729fa"
      },
      "execution_count": 8,
      "outputs": [
        {
          "output_type": "display_data",
          "data": {
            "text/plain": [
              "<Figure size 640x480 with 1 Axes>"
            ],
            "image/png": "[encoded data removed]"
          },
          "metadata": {}
        }
      ]
    },
    {
      "cell_type": "code",
      "source": [
        "import numpy as np\n",
        "import matplotlib.pyplot as plt\n",
        "\n",
        "# Calcula as coordenadas x e y da curva seno.\n",
        "x = np.arange(0, 3 * np.pi, 0.1)\n",
        "y = np.sin(x)\n",
        "\n",
        "# 'Plota' os pontos com um método do módulo 'matplotlib'.\n",
        "plt.plot(x, y)\n",
        "plt.show()  # Devemos chamar o método plt.show() para apresentar o gráfico na tela."
      ],
      "metadata": {
        "colab": {
          "base_uri": "https://localhost:8080/",
          "height": 430
        },
        "id": "MhIHd8D7blxm",
        "outputId": "b2f3fd59-fc3e-405c-b3fd-7da432ab6856"
      },
      "execution_count": 9,
      "outputs": [
        {
          "output_type": "display_data",
          "data": {
            "text/plain": [
              "<Figure size 640x480 with 1 Axes>"
            ],
            "image/png": "[encoded data removed]"
          },
          "metadata": {}
        }
      ]
    },
    {
      "cell_type": "markdown",
      "source": [
        "## Instalando módulos de terceiros"
      ],
      "metadata": {
        "id": "TlVDl9a1boNl"
      }
    },
    {
      "cell_type": "markdown",
      "source": [
        "Para podermos utilizar módulos e pacotes criados por terceiros temos que primeiramente tornar o conteúdo disponível para ser importado fazendo a instalação no ambiente Python.\n",
        "\n",
        "Para tal, podemos utilizar uma ferramenta que vem pré instalado com o Python, chamada 'pip'. para usá-la devemos seguir os seguintes passos:\n",
        "\n",
        "- Abrir uma janela de linha de comando do Python (e.g. 'Anaconda Prompt', caso esteja utilizando a distribuição Anaconda).\n",
        "- Instalar o pacote com o comando **pip install nome_do_pacote**.\n",
        "\n",
        "Caso queira atualizar o pacote, pode ser usado o comando **pip install -U nome_do_pacote** da mesma forma acima.\n",
        "\n",
        "Ainda falando da distribuição Anaconda, podemos instalar muitos pacotes a partir dos repositório mantidos pelos criadores da distribuição. Basta usar o comando **conda install nome_do_pacote**.\n",
        "\n",
        "Finalmente, para instalarmos pacotes que não venham pré instalados no ambiente do Google Colaboratory, devemos usar a instrução **!pip install nome_do_pacote** (atenção para a exclamação antes da instrução \"pip\"!)\n",
        "\n",
        "Lembrem-se de manter e executar esta instrução sempre que iniciarem o notebook no Google Colab pois o ambiente é sempre recriado do zero."
      ],
      "metadata": {
        "id": "2t9rjws3bp0f"
      }
    },
    {
      "cell_type": "markdown",
      "source": [
        "**Vamos aproveitar a oportunidade e aprender um pouco mais sobre a bibliotecas 'math' e 'random'.**"
      ],
      "metadata": {
        "id": "ZtzOyD4ubruN"
      }
    },
    {
      "cell_type": "markdown",
      "source": [
        "### Utilizando um pouco mais da biblioteca 'math'"
      ],
      "metadata": {
        "id": "8A47u6PNbtX2"
      }
    },
    {
      "cell_type": "markdown",
      "source": [
        "Arredondamento \"para cima\" e \"para baixo\" utilizando funções matemáticas clássicas\n",
        "\n",
        "- A função \"ceil\" retorna o menor inteiro maior ou igual a x.\n",
        "- Já a função \"floor\" retorna o maior inteiro menor ou igual a x."
      ],
      "metadata": {
        "id": "itLy0HRhbvEH"
      }
    },
    {
      "cell_type": "code",
      "source": [
        "print(math.ceil(6.85))\n",
        "print(math.floor(6.85))"
      ],
      "metadata": {
        "colab": {
          "base_uri": "https://localhost:8080/"
        },
        "id": "PA7WCmnkbwvG",
        "outputId": "08fd03e3-c380-456c-81a8-896b8a07e5cd"
      },
      "execution_count": 10,
      "outputs": [
        {
          "output_type": "stream",
          "name": "stdout",
          "text": [
            "7\n",
            "6\n"
          ]
        }
      ]
    },
    {
      "cell_type": "markdown",
      "source": [
        "Importando de outra forma e utilizando a função exponencial $e^x$"
      ],
      "metadata": {
        "id": "WOt_Fyk7by1_"
      }
    },
    {
      "cell_type": "code",
      "source": [
        "import math as mt\n",
        "\n",
        "mt.exp(1)"
      ],
      "metadata": {
        "colab": {
          "base_uri": "https://localhost:8080/"
        },
        "id": "M3XY76ccb0Sv",
        "outputId": "59adadfc-abbe-4119-87c4-543303b413d3"
      },
      "execution_count": 11,
      "outputs": [
        {
          "output_type": "execute_result",
          "data": {
            "text/plain": [
              "2.718281828459045"
            ]
          },
          "metadata": {},
          "execution_count": 11
        }
      ]
    },
    {
      "cell_type": "markdown",
      "source": [
        "Mais uma forma de importação e utilização da função logaritmica $log$\n",
        "\n",
        "**ATENÇÃO! A função $log$ retorna, por padrão, o logaritmo natural!**"
      ],
      "metadata": {
        "id": "Of0WlfHcb2Os"
      }
    },
    {
      "cell_type": "markdown",
      "source": [
        "Importando toda a biblioteca de uma única vez e utilizando a função Fatorial (**Esta é uma função que, mesmo em Python, deve ser usada com moderação!**). "
      ],
      "metadata": {
        "id": "hjzEZHp0b4oF"
      }
    },
    {
      "cell_type": "code",
      "source": [
        "from math import *\n",
        "\n",
        "factorial(7)"
      ],
      "metadata": {
        "colab": {
          "base_uri": "https://localhost:8080/"
        },
        "id": "_v65oPTzb56m",
        "outputId": "fc74ee5d-2be8-4940-98da-c3a87c85a6be"
      },
      "execution_count": 12,
      "outputs": [
        {
          "output_type": "execute_result",
          "data": {
            "text/plain": [
              "5040"
            ]
          },
          "metadata": {},
          "execution_count": 12
        }
      ]
    },
    {
      "cell_type": "markdown",
      "source": [
        "# **A biblioteca Pandas e extração de dados com linguagem Python**\n",
        "\n",
        "Para esta aula, você deverá baixar o arquivo correspondente de dados de aula do Moodle, extrair o arquivo ZIP e carregar os três arquivos resultantes para o ambiente do Google Colab."
      ],
      "metadata": {
        "id": "w-FOoopob_lU"
      }
    },
    {
      "cell_type": "markdown",
      "source": [
        "## Pandas"
      ],
      "metadata": {
        "id": "bNs_GMFscBUH"
      }
    },
    {
      "cell_type": "markdown",
      "source": [
        "A biblioteca/pacote chamado Pandas implementa estruturas simples e de alta performance voltadas para manipulação de dados em Python.\n",
        "\n",
        "A linguagem Python é reconhecida por sua simplicidade e poder em manipular dados. O pacote chamado Pandas oferece estruturas melhores e mais eficientes, com o objetivo de facilitar a modelagem e análise de dados, permitindo assim que todo o fluxo de avaliação de dados seja feito sem a necessidade de migrar para uma linguagem como R.\n",
        "\n",
        "Alguns pontos de destaque:\n",
        "- Implementa um novo objeto eficiente e rápido, especificamente voltado para manipulação de dados, chamado Dataframe.\n",
        "- Oferece funções para leitura e escrita de formatos amplamente usados como CSV, texto, Excel, bases SQL, entre outros.\n",
        "- Flexibiliza a reformatação de conjuntos de dados;\n",
        "- Permite a inclusão e remoção de colunas e linhas;\n",
        "- Agrega e transforma dados a partir de uma implementação poderosa de 'group by', permitindo a aplicação da técnica conhecida como SAC ('Split-Apply-Combine').\n",
        "- Bastante otimizada, com código crítico escrito em lingagem C.\n",
        "- O par Pandas-Python é utilizado em uma série de domínios acadêmicos e comerciais, incluindo mas não limitado a, Finanças, Neurociência, Economia e Estatística, dentre outras.\n",
        "\n",
        "O Pandas vem com a distribuição Anaconda, porém pode ser facilmente instalado em qualquer ambiente via 'pip'."
      ],
      "metadata": {
        "id": "zk1aI8ZbcDaD"
      }
    },
    {
      "cell_type": "markdown",
      "source": [
        "### Importando o pacote\n",
        "\n",
        "A importação é feita de forma usual e o apelido utilizado pela comunidade é 'pd'."
      ],
      "metadata": {
        "id": "gJTrUnx8cFgr"
      }
    },
    {
      "cell_type": "code",
      "source": [
        "# Importando o pacote\n",
        "# Como dissemos na aula de importação esta é a forma mais comum de fazer a operação\n",
        "# e o \"apelido\" mais usado é \"pd\".\n",
        "\n",
        "import pandas as pd"
      ],
      "metadata": {
        "id": "TaRV5xoBcGzL"
      },
      "execution_count": 13,
      "outputs": []
    },
    {
      "cell_type": "markdown",
      "source": [
        "### Séries\n",
        "\n",
        "A estrutura básica oferecida pelo Pandas é a **série**. É um array unidimensional."
      ],
      "metadata": {
        "id": "AQoYlpWkcIsE"
      }
    },
    {
      "cell_type": "code",
      "source": [
        "# Criando uma série de dados. Neste caso, a primeira coluna será o índice.\n",
        "serie = pd.Series([5, 6, 2, 9, 12])\n",
        "serie"
      ],
      "metadata": {
        "colab": {
          "base_uri": "https://localhost:8080/"
        },
        "id": "-bWZSjzgcKKE",
        "outputId": "f6fe87db-bc38-4ea6-d062-d707f8824026"
      },
      "execution_count": 14,
      "outputs": [
        {
          "output_type": "execute_result",
          "data": {
            "text/plain": [
              "0     5\n",
              "1     6\n",
              "2     2\n",
              "3     9\n",
              "4    12\n",
              "dtype: int64"
            ]
          },
          "metadata": {},
          "execution_count": 14
        }
      ]
    },
    {
      "cell_type": "code",
      "source": [
        "serie = pd.Series([5, 6, 2, 9, 12], index=['Distrito Federal', 'Mato Grosso', 'Piauí', 'Rio de Janeiro', 'São Paulo'])\n",
        "serie"
      ],
      "metadata": {
        "colab": {
          "base_uri": "https://localhost:8080/"
        },
        "id": "tfL10m50cMD3",
        "outputId": "b888138f-903d-4218-c7bf-48ac04d3ec70"
      },
      "execution_count": 15,
      "outputs": [
        {
          "output_type": "execute_result",
          "data": {
            "text/plain": [
              "Distrito Federal     5\n",
              "Mato Grosso          6\n",
              "Piauí                2\n",
              "Rio de Janeiro       9\n",
              "São Paulo           12\n",
              "dtype: int64"
            ]
          },
          "metadata": {},
          "execution_count": 15
        }
      ]
    },
    {
      "cell_type": "markdown",
      "source": [
        "Identificando o valor relacionado ao Piauí."
      ],
      "metadata": {
        "id": "cdkkEeOocQdW"
      }
    },
    {
      "cell_type": "code",
      "source": [
        "serie['Piauí']"
      ],
      "metadata": {
        "colab": {
          "base_uri": "https://localhost:8080/"
        },
        "id": "M0VUt-z0cN4T",
        "outputId": "c284bea7-f566-4e1c-b2d7-f79da9a3bf3d"
      },
      "execution_count": 16,
      "outputs": [
        {
          "output_type": "execute_result",
          "data": {
            "text/plain": [
              "2"
            ]
          },
          "metadata": {},
          "execution_count": 16
        }
      ]
    },
    {
      "cell_type": "markdown",
      "source": [
        "Visualizando os itens com valor maior que 6. "
      ],
      "metadata": {
        "id": "clVouYpvcRPs"
      }
    },
    {
      "cell_type": "code",
      "source": [
        "serie[serie > 6]"
      ],
      "metadata": {
        "colab": {
          "base_uri": "https://localhost:8080/"
        },
        "id": "mhpR6X9ecTuM",
        "outputId": "7088cd41-f03b-4d0a-c69a-67a207df743a"
      },
      "execution_count": 17,
      "outputs": [
        {
          "output_type": "execute_result",
          "data": {
            "text/plain": [
              "Rio de Janeiro     9\n",
              "São Paulo         12\n",
              "dtype: int64"
            ]
          },
          "metadata": {},
          "execution_count": 17
        }
      ]
    },
    {
      "cell_type": "markdown",
      "source": [
        "Criando uma série a partir de um dicionário."
      ],
      "metadata": {
        "id": "wwY0QutecVfT"
      }
    },
    {
      "cell_type": "code",
      "source": [
        "# Criando um dicionário.\n",
        "serie_dict = {'Dado1': 12, 'Dado2': 342, 'Dado3': 13, 'Dado4': 42, 'Dado5' : 52}\n",
        "\n",
        "# Convertendo o dicionário para dataframe e apresentando.\n",
        "serie = pd.Series(serie_dict)\n",
        "serie"
      ],
      "metadata": {
        "colab": {
          "base_uri": "https://localhost:8080/"
        },
        "id": "q1CKOnyucWzq",
        "outputId": "1b6cd642-1da1-46c6-97af-d9bcccfc6d77"
      },
      "execution_count": 18,
      "outputs": [
        {
          "output_type": "execute_result",
          "data": {
            "text/plain": [
              "Dado1     12\n",
              "Dado2    342\n",
              "Dado3     13\n",
              "Dado4     42\n",
              "Dado5     52\n",
              "dtype: int64"
            ]
          },
          "metadata": {},
          "execution_count": 18
        }
      ]
    },
    {
      "cell_type": "markdown",
      "source": [
        "Alterando o índice de uma série."
      ],
      "metadata": {
        "id": "NvyNS0dOcY2S"
      }
    },
    {
      "cell_type": "code",
      "source": [
        "serie.index = [\"Um\", \"Dois\", \"Três\", \"Quatro\", \"Cinco\"]\n",
        "serie"
      ],
      "metadata": {
        "colab": {
          "base_uri": "https://localhost:8080/"
        },
        "id": "H4NLmz3RcaJa",
        "outputId": "71c69267-ce25-4255-e083-4e78d4e17cf3"
      },
      "execution_count": 19,
      "outputs": [
        {
          "output_type": "execute_result",
          "data": {
            "text/plain": [
              "Um         12\n",
              "Dois      342\n",
              "Três       13\n",
              "Quatro     42\n",
              "Cinco      52\n",
              "dtype: int64"
            ]
          },
          "metadata": {},
          "execution_count": 19
        }
      ]
    },
    {
      "cell_type": "markdown",
      "source": [
        "Criando um dataframe a partir de um conjunto de listas do mesmo tamanho."
      ],
      "metadata": {
        "id": "XRxhTlVEcceE"
      }
    },
    {
      "cell_type": "code",
      "source": [
        "data = {'Estado': ['SC', 'RJ', 'SP', 'AC', 'RR'], \n",
        "        'Ano': [2012, 2012, 2013, 2014, 2014], \n",
        "        'Relatórios': [4, 24, 31, 2, 3]}\n",
        "df = pd.DataFrame(data)\n",
        "df"
      ],
      "metadata": {
        "colab": {
          "base_uri": "https://localhost:8080/",
          "height": 206
        },
        "id": "wmMyQeACcd4s",
        "outputId": "4eff294a-5727-4ac6-85aa-77cd1e80535f"
      },
      "execution_count": 20,
      "outputs": [
        {
          "output_type": "execute_result",
          "data": {
            "text/plain": [
              "  Estado   Ano  Relatórios\n",
              "0     SC  2012           4\n",
              "1     RJ  2012          24\n",
              "2     SP  2013          31\n",
              "3     AC  2014           2\n",
              "4     RR  2014           3"
            ],
            "text/html": [
              "\n",
              "  <div id=\"df-1d77b375-3035-486f-9366-b1218b944719\">\n",
              "    <div class=\"colab-df-container\">\n",
              "      <div>\n",
              "<style scoped>\n",
              "    .dataframe tbody tr th:only-of-type {\n",
              "        vertical-align: middle;\n",
              "    }\n",
              "\n",
              "    .dataframe tbody tr th {\n",
              "        vertical-align: top;\n",
              "    }\n",
              "\n",
              "    .dataframe thead th {\n",
              "        text-align: right;\n",
              "    }\n",
              "</style>\n",
              "<table border=\"1\" class=\"dataframe\">\n",
              "  <thead>\n",
              "    <tr style=\"text-align: right;\">\n",
              "      <th></th>\n",
              "      <th>Estado</th>\n",
              "      <th>Ano</th>\n",
              "      <th>Relatórios</th>\n",
              "    </tr>\n",
              "  </thead>\n",
              "  <tbody>\n",
              "    <tr>\n",
              "      <th>0</th>\n",
              "      <td>SC</td>\n",
              "      <td>2012</td>\n",
              "      <td>4</td>\n",
              "    </tr>\n",
              "    <tr>\n",
              "      <th>1</th>\n",
              "      <td>RJ</td>\n",
              "      <td>2012</td>\n",
              "      <td>24</td>\n",
              "    </tr>\n",
              "    <tr>\n",
              "      <th>2</th>\n",
              "      <td>SP</td>\n",
              "      <td>2013</td>\n",
              "      <td>31</td>\n",
              "    </tr>\n",
              "    <tr>\n",
              "      <th>3</th>\n",
              "      <td>AC</td>\n",
              "      <td>2014</td>\n",
              "      <td>2</td>\n",
              "    </tr>\n",
              "    <tr>\n",
              "      <th>4</th>\n",
              "      <td>RR</td>\n",
              "      <td>2014</td>\n",
              "      <td>3</td>\n",
              "    </tr>\n",
              "  </tbody>\n",
              "</table>\n",
              "</div>\n",
              "      <button class=\"colab-df-convert\" onclick=\"convertToInteractive('df-1d77b375-3035-486f-9366-b1218b944719')\"\n",
              "              title=\"Convert this dataframe to an interactive table.\"\n",
              "              style=\"display:none;\">\n",
              "        \n",
              "  <svg xmlns=\"http://www.w3.org/2000/svg\" height=\"24px\"viewBox=\"0 0 24 24\"\n",
              "       width=\"24px\">\n",
              "    <path d=\"M0 0h24v24H0V0z\" fill=\"none\"/>\n",
              "    <path d=\"M18.56 5.44l.94 2.06.94-2.06 2.06-.94-2.06-.94-.94-2.06-.94 2.06-2.06.94zm-11 1L8.5 8.5l.94-2.06 2.06-.94-2.06-.94L8.5 2.5l-.94 2.06-2.06.94zm10 10l.94 2.06.94-2.06 2.06-.94-2.06-.94-.94-2.06-.94 2.06-2.06.94z\"/><path d=\"M17.41 7.96l-1.37-1.37c-.4-.4-.92-.59-1.43-.59-.52 0-1.04.2-1.43.59L10.3 9.45l-7.72 7.72c-.78.78-.78 2.05 0 2.83L4 21.41c.39.39.9.59 1.41.59.51 0 1.02-.2 1.41-.59l7.78-7.78 2.81-2.81c.8-.78.8-2.07 0-2.86zM5.41 20L4 18.59l7.72-7.72 1.47 1.35L5.41 20z\"/>\n",
              "  </svg>\n",
              "      </button>\n",
              "      \n",
              "  <style>\n",
              "    .colab-df-container {\n",
              "      display:flex;\n",
              "      flex-wrap:wrap;\n",
              "      gap: 12px;\n",
              "    }\n",
              "\n",
              "    .colab-df-convert {\n",
              "      background-color: #E8F0FE;\n",
              "      border: none;\n",
              "      border-radius: 50%;\n",
              "      cursor: pointer;\n",
              "      display: none;\n",
              "      fill: #1967D2;\n",
              "      height: 32px;\n",
              "      padding: 0 0 0 0;\n",
              "      width: 32px;\n",
              "    }\n",
              "\n",
              "    .colab-df-convert:hover {\n",
              "      background-color: #E2EBFA;\n",
              "      box-shadow: 0px 1px 2px rgba(60, 64, 67, 0.3), 0px 1px 3px 1px rgba(60, 64, 67, 0.15);\n",
              "      fill: #174EA6;\n",
              "    }\n",
              "\n",
              "    [theme=dark] .colab-df-convert {\n",
              "      background-color: #3B4455;\n",
              "      fill: #D2E3FC;\n",
              "    }\n",
              "\n",
              "    [theme=dark] .colab-df-convert:hover {\n",
              "      background-color: #434B5C;\n",
              "      box-shadow: 0px 1px 3px 1px rgba(0, 0, 0, 0.15);\n",
              "      filter: drop-shadow(0px 1px 2px rgba(0, 0, 0, 0.3));\n",
              "      fill: #FFFFFF;\n",
              "    }\n",
              "  </style>\n",
              "\n",
              "      <script>\n",
              "        const buttonEl =\n",
              "          document.querySelector('#df-1d77b375-3035-486f-9366-b1218b944719 button.colab-df-convert');\n",
              "        buttonEl.style.display =\n",
              "          google.colab.kernel.accessAllowed ? 'block' : 'none';\n",
              "\n",
              "        async function convertToInteractive(key) {\n",
              "          const element = document.querySelector('#df-1d77b375-3035-486f-9366-b1218b944719');\n",
              "          const dataTable =\n",
              "            await google.colab.kernel.invokeFunction('convertToInteractive',\n",
              "                                                     [key], {});\n",
              "          if (!dataTable) return;\n",
              "\n",
              "          const docLinkHtml = 'Like what you see? Visit the ' +\n",
              "            '<a target=\"_blank\" href=https://colab.research.google.com/notebooks/data_table.ipynb>data table notebook</a>'\n",
              "            + ' to learn more about interactive tables.';\n",
              "          element.innerHTML = '';\n",
              "          dataTable['output_type'] = 'display_data';\n",
              "          await google.colab.output.renderOutput(dataTable, element);\n",
              "          const docLink = document.createElement('div');\n",
              "          docLink.innerHTML = docLinkHtml;\n",
              "          element.appendChild(docLink);\n",
              "        }\n",
              "      </script>\n",
              "    </div>\n",
              "  </div>\n",
              "  "
            ]
          },
          "metadata": {},
          "execution_count": 20
        }
      ]
    },
    {
      "cell_type": "markdown",
      "source": [
        "Alterando a ordem das colunas com o atributo colunas."
      ],
      "metadata": {
        "id": "PhMkAIgqcf_6"
      }
    },
    {
      "cell_type": "code",
      "source": [
        "dfOrdenadoporColunas = pd.DataFrame(df, columns=['Ano', 'Estado', 'Relatórios'])\n",
        "dfOrdenadoporColunas"
      ],
      "metadata": {
        "colab": {
          "base_uri": "https://localhost:8080/",
          "height": 206
        },
        "id": "adu9jMO2chYa",
        "outputId": "f8915d5f-cff6-42fe-f3d7-35a593f3b05f"
      },
      "execution_count": 21,
      "outputs": [
        {
          "output_type": "execute_result",
          "data": {
            "text/plain": [
              "    Ano Estado  Relatórios\n",
              "0  2012     SC           4\n",
              "1  2012     RJ          24\n",
              "2  2013     SP          31\n",
              "3  2014     AC           2\n",
              "4  2014     RR           3"
            ],
            "text/html": [
              "\n",
              "  <div id=\"df-5d209185-9bce-4aa8-8a1a-71eecc35b68d\">\n",
              "    <div class=\"colab-df-container\">\n",
              "      <div>\n",
              "<style scoped>\n",
              "    .dataframe tbody tr th:only-of-type {\n",
              "        vertical-align: middle;\n",
              "    }\n",
              "\n",
              "    .dataframe tbody tr th {\n",
              "        vertical-align: top;\n",
              "    }\n",
              "\n",
              "    .dataframe thead th {\n",
              "        text-align: right;\n",
              "    }\n",
              "</style>\n",
              "<table border=\"1\" class=\"dataframe\">\n",
              "  <thead>\n",
              "    <tr style=\"text-align: right;\">\n",
              "      <th></th>\n",
              "      <th>Ano</th>\n",
              "      <th>Estado</th>\n",
              "      <th>Relatórios</th>\n",
              "    </tr>\n",
              "  </thead>\n",
              "  <tbody>\n",
              "    <tr>\n",
              "      <th>0</th>\n",
              "      <td>2012</td>\n",
              "      <td>SC</td>\n",
              "      <td>4</td>\n",
              "    </tr>\n",
              "    <tr>\n",
              "      <th>1</th>\n",
              "      <td>2012</td>\n",
              "      <td>RJ</td>\n",
              "      <td>24</td>\n",
              "    </tr>\n",
              "    <tr>\n",
              "      <th>2</th>\n",
              "      <td>2013</td>\n",
              "      <td>SP</td>\n",
              "      <td>31</td>\n",
              "    </tr>\n",
              "    <tr>\n",
              "      <th>3</th>\n",
              "      <td>2014</td>\n",
              "      <td>AC</td>\n",
              "      <td>2</td>\n",
              "    </tr>\n",
              "    <tr>\n",
              "      <th>4</th>\n",
              "      <td>2014</td>\n",
              "      <td>RR</td>\n",
              "      <td>3</td>\n",
              "    </tr>\n",
              "  </tbody>\n",
              "</table>\n",
              "</div>\n",
              "      <button class=\"colab-df-convert\" onclick=\"convertToInteractive('df-5d209185-9bce-4aa8-8a1a-71eecc35b68d')\"\n",
              "              title=\"Convert this dataframe to an interactive table.\"\n",
              "              style=\"display:none;\">\n",
              "        \n",
              "  <svg xmlns=\"http://www.w3.org/2000/svg\" height=\"24px\"viewBox=\"0 0 24 24\"\n",
              "       width=\"24px\">\n",
              "    <path d=\"M0 0h24v24H0V0z\" fill=\"none\"/>\n",
              "    <path d=\"M18.56 5.44l.94 2.06.94-2.06 2.06-.94-2.06-.94-.94-2.06-.94 2.06-2.06.94zm-11 1L8.5 8.5l.94-2.06 2.06-.94-2.06-.94L8.5 2.5l-.94 2.06-2.06.94zm10 10l.94 2.06.94-2.06 2.06-.94-2.06-.94-.94-2.06-.94 2.06-2.06.94z\"/><path d=\"M17.41 7.96l-1.37-1.37c-.4-.4-.92-.59-1.43-.59-.52 0-1.04.2-1.43.59L10.3 9.45l-7.72 7.72c-.78.78-.78 2.05 0 2.83L4 21.41c.39.39.9.59 1.41.59.51 0 1.02-.2 1.41-.59l7.78-7.78 2.81-2.81c.8-.78.8-2.07 0-2.86zM5.41 20L4 18.59l7.72-7.72 1.47 1.35L5.41 20z\"/>\n",
              "  </svg>\n",
              "      </button>\n",
              "      \n",
              "  <style>\n",
              "    .colab-df-container {\n",
              "      display:flex;\n",
              "      flex-wrap:wrap;\n",
              "      gap: 12px;\n",
              "    }\n",
              "\n",
              "    .colab-df-convert {\n",
              "      background-color: #E8F0FE;\n",
              "      border: none;\n",
              "      border-radius: 50%;\n",
              "      cursor: pointer;\n",
              "      display: none;\n",
              "      fill: #1967D2;\n",
              "      height: 32px;\n",
              "      padding: 0 0 0 0;\n",
              "      width: 32px;\n",
              "    }\n",
              "\n",
              "    .colab-df-convert:hover {\n",
              "      background-color: #E2EBFA;\n",
              "      box-shadow: 0px 1px 2px rgba(60, 64, 67, 0.3), 0px 1px 3px 1px rgba(60, 64, 67, 0.15);\n",
              "      fill: #174EA6;\n",
              "    }\n",
              "\n",
              "    [theme=dark] .colab-df-convert {\n",
              "      background-color: #3B4455;\n",
              "      fill: #D2E3FC;\n",
              "    }\n",
              "\n",
              "    [theme=dark] .colab-df-convert:hover {\n",
              "      background-color: #434B5C;\n",
              "      box-shadow: 0px 1px 3px 1px rgba(0, 0, 0, 0.15);\n",
              "      filter: drop-shadow(0px 1px 2px rgba(0, 0, 0, 0.3));\n",
              "      fill: #FFFFFF;\n",
              "    }\n",
              "  </style>\n",
              "\n",
              "      <script>\n",
              "        const buttonEl =\n",
              "          document.querySelector('#df-5d209185-9bce-4aa8-8a1a-71eecc35b68d button.colab-df-convert');\n",
              "        buttonEl.style.display =\n",
              "          google.colab.kernel.accessAllowed ? 'block' : 'none';\n",
              "\n",
              "        async function convertToInteractive(key) {\n",
              "          const element = document.querySelector('#df-5d209185-9bce-4aa8-8a1a-71eecc35b68d');\n",
              "          const dataTable =\n",
              "            await google.colab.kernel.invokeFunction('convertToInteractive',\n",
              "                                                     [key], {});\n",
              "          if (!dataTable) return;\n",
              "\n",
              "          const docLinkHtml = 'Like what you see? Visit the ' +\n",
              "            '<a target=\"_blank\" href=https://colab.research.google.com/notebooks/data_table.ipynb>data table notebook</a>'\n",
              "            + ' to learn more about interactive tables.';\n",
              "          element.innerHTML = '';\n",
              "          dataTable['output_type'] = 'display_data';\n",
              "          await google.colab.output.renderOutput(dataTable, element);\n",
              "          const docLink = document.createElement('div');\n",
              "          docLink.innerHTML = docLinkHtml;\n",
              "          element.appendChild(docLink);\n",
              "        }\n",
              "      </script>\n",
              "    </div>\n",
              "  </div>\n",
              "  "
            ]
          },
          "metadata": {},
          "execution_count": 21
        }
      ]
    },
    {
      "cell_type": "markdown",
      "source": [
        "Adicionando uma nova coluna."
      ],
      "metadata": {
        "id": "LaKdB-wpcjJi"
      }
    },
    {
      "cell_type": "code",
      "source": [
        "dfOrdenadoporColunas['Cobertura'] = pd.Series([42.3, 92.1, 12.2, 39.3, 30.2])\n",
        "dfOrdenadoporColunas"
      ],
      "metadata": {
        "colab": {
          "base_uri": "https://localhost:8080/",
          "height": 206
        },
        "id": "bfkwI7vycl1a",
        "outputId": "5ed52b9c-4a84-4c34-ef49-a52d8bcaf037"
      },
      "execution_count": 22,
      "outputs": [
        {
          "output_type": "execute_result",
          "data": {
            "text/plain": [
              "    Ano Estado  Relatórios  Cobertura\n",
              "0  2012     SC           4       42.3\n",
              "1  2012     RJ          24       92.1\n",
              "2  2013     SP          31       12.2\n",
              "3  2014     AC           2       39.3\n",
              "4  2014     RR           3       30.2"
            ],
            "text/html": [
              "\n",
              "  <div id=\"df-670e5ebc-89ea-4f72-a488-41e7e242971f\">\n",
              "    <div class=\"colab-df-container\">\n",
              "      <div>\n",
              "<style scoped>\n",
              "    .dataframe tbody tr th:only-of-type {\n",
              "        vertical-align: middle;\n",
              "    }\n",
              "\n",
              "    .dataframe tbody tr th {\n",
              "        vertical-align: top;\n",
              "    }\n",
              "\n",
              "    .dataframe thead th {\n",
              "        text-align: right;\n",
              "    }\n",
              "</style>\n",
              "<table border=\"1\" class=\"dataframe\">\n",
              "  <thead>\n",
              "    <tr style=\"text-align: right;\">\n",
              "      <th></th>\n",
              "      <th>Ano</th>\n",
              "      <th>Estado</th>\n",
              "      <th>Relatórios</th>\n",
              "      <th>Cobertura</th>\n",
              "    </tr>\n",
              "  </thead>\n",
              "  <tbody>\n",
              "    <tr>\n",
              "      <th>0</th>\n",
              "      <td>2012</td>\n",
              "      <td>SC</td>\n",
              "      <td>4</td>\n",
              "      <td>42.3</td>\n",
              "    </tr>\n",
              "    <tr>\n",
              "      <th>1</th>\n",
              "      <td>2012</td>\n",
              "      <td>RJ</td>\n",
              "      <td>24</td>\n",
              "      <td>92.1</td>\n",
              "    </tr>\n",
              "    <tr>\n",
              "      <th>2</th>\n",
              "      <td>2013</td>\n",
              "      <td>SP</td>\n",
              "      <td>31</td>\n",
              "      <td>12.2</td>\n",
              "    </tr>\n",
              "    <tr>\n",
              "      <th>3</th>\n",
              "      <td>2014</td>\n",
              "      <td>AC</td>\n",
              "      <td>2</td>\n",
              "      <td>39.3</td>\n",
              "    </tr>\n",
              "    <tr>\n",
              "      <th>4</th>\n",
              "      <td>2014</td>\n",
              "      <td>RR</td>\n",
              "      <td>3</td>\n",
              "      <td>30.2</td>\n",
              "    </tr>\n",
              "  </tbody>\n",
              "</table>\n",
              "</div>\n",
              "      <button class=\"colab-df-convert\" onclick=\"convertToInteractive('df-670e5ebc-89ea-4f72-a488-41e7e242971f')\"\n",
              "              title=\"Convert this dataframe to an interactive table.\"\n",
              "              style=\"display:none;\">\n",
              "        \n",
              "  <svg xmlns=\"http://www.w3.org/2000/svg\" height=\"24px\"viewBox=\"0 0 24 24\"\n",
              "       width=\"24px\">\n",
              "    <path d=\"M0 0h24v24H0V0z\" fill=\"none\"/>\n",
              "    <path d=\"M18.56 5.44l.94 2.06.94-2.06 2.06-.94-2.06-.94-.94-2.06-.94 2.06-2.06.94zm-11 1L8.5 8.5l.94-2.06 2.06-.94-2.06-.94L8.5 2.5l-.94 2.06-2.06.94zm10 10l.94 2.06.94-2.06 2.06-.94-2.06-.94-.94-2.06-.94 2.06-2.06.94z\"/><path d=\"M17.41 7.96l-1.37-1.37c-.4-.4-.92-.59-1.43-.59-.52 0-1.04.2-1.43.59L10.3 9.45l-7.72 7.72c-.78.78-.78 2.05 0 2.83L4 21.41c.39.39.9.59 1.41.59.51 0 1.02-.2 1.41-.59l7.78-7.78 2.81-2.81c.8-.78.8-2.07 0-2.86zM5.41 20L4 18.59l7.72-7.72 1.47 1.35L5.41 20z\"/>\n",
              "  </svg>\n",
              "      </button>\n",
              "      \n",
              "  <style>\n",
              "    .colab-df-container {\n",
              "      display:flex;\n",
              "      flex-wrap:wrap;\n",
              "      gap: 12px;\n",
              "    }\n",
              "\n",
              "    .colab-df-convert {\n",
              "      background-color: #E8F0FE;\n",
              "      border: none;\n",
              "      border-radius: 50%;\n",
              "      cursor: pointer;\n",
              "      display: none;\n",
              "      fill: #1967D2;\n",
              "      height: 32px;\n",
              "      padding: 0 0 0 0;\n",
              "      width: 32px;\n",
              "    }\n",
              "\n",
              "    .colab-df-convert:hover {\n",
              "      background-color: #E2EBFA;\n",
              "      box-shadow: 0px 1px 2px rgba(60, 64, 67, 0.3), 0px 1px 3px 1px rgba(60, 64, 67, 0.15);\n",
              "      fill: #174EA6;\n",
              "    }\n",
              "\n",
              "    [theme=dark] .colab-df-convert {\n",
              "      background-color: #3B4455;\n",
              "      fill: #D2E3FC;\n",
              "    }\n",
              "\n",
              "    [theme=dark] .colab-df-convert:hover {\n",
              "      background-color: #434B5C;\n",
              "      box-shadow: 0px 1px 3px 1px rgba(0, 0, 0, 0.15);\n",
              "      filter: drop-shadow(0px 1px 2px rgba(0, 0, 0, 0.3));\n",
              "      fill: #FFFFFF;\n",
              "    }\n",
              "  </style>\n",
              "\n",
              "      <script>\n",
              "        const buttonEl =\n",
              "          document.querySelector('#df-670e5ebc-89ea-4f72-a488-41e7e242971f button.colab-df-convert');\n",
              "        buttonEl.style.display =\n",
              "          google.colab.kernel.accessAllowed ? 'block' : 'none';\n",
              "\n",
              "        async function convertToInteractive(key) {\n",
              "          const element = document.querySelector('#df-670e5ebc-89ea-4f72-a488-41e7e242971f');\n",
              "          const dataTable =\n",
              "            await google.colab.kernel.invokeFunction('convertToInteractive',\n",
              "                                                     [key], {});\n",
              "          if (!dataTable) return;\n",
              "\n",
              "          const docLinkHtml = 'Like what you see? Visit the ' +\n",
              "            '<a target=\"_blank\" href=https://colab.research.google.com/notebooks/data_table.ipynb>data table notebook</a>'\n",
              "            + ' to learn more about interactive tables.';\n",
              "          element.innerHTML = '';\n",
              "          dataTable['output_type'] = 'display_data';\n",
              "          await google.colab.output.renderOutput(dataTable, element);\n",
              "          const docLink = document.createElement('div');\n",
              "          docLink.innerHTML = docLinkHtml;\n",
              "          element.appendChild(docLink);\n",
              "        }\n",
              "      </script>\n",
              "    </div>\n",
              "  </div>\n",
              "  "
            ]
          },
          "metadata": {},
          "execution_count": 22
        }
      ]
    },
    {
      "cell_type": "markdown",
      "source": [
        "Apagando uma coluna."
      ],
      "metadata": {
        "id": "vhhwQJQLcpeq"
      }
    },
    {
      "cell_type": "code",
      "source": [
        "del dfOrdenadoporColunas['Cobertura']\n",
        "dfOrdenadoporColunas"
      ],
      "metadata": {
        "id": "6CrXKGC5cq6a"
      },
      "execution_count": null,
      "outputs": []
    },
    {
      "cell_type": "markdown",
      "source": [
        "## Extração de dados - O formato de arquivos CSV"
      ],
      "metadata": {
        "id": "qyUEMygFcswK"
      }
    },
    {
      "cell_type": "markdown",
      "source": [
        "Carregando um CSV de forma simples."
      ],
      "metadata": {
        "id": "iEWM8SpNcvP6"
      }
    },
    {
      "cell_type": "code",
      "source": [
        "pd.read_csv('exemplo.csv')"
      ],
      "metadata": {
        "colab": {
          "base_uri": "https://localhost:8080/",
          "height": 311
        },
        "id": "G61tsMgUcwc9",
        "outputId": "bfba1ac8-f985-4122-c3c4-6c0b24b62035"
      },
      "execution_count": 23,
      "outputs": [
        {
          "output_type": "error",
          "ename": "FileNotFoundError",
          "evalue": "ignored",
          "traceback": [
            "\u001b[0;31m---------------------------------------------------------------------------\u001b[0m",
            "\u001b[0;31mFileNotFoundError\u001b[0m                         Traceback (most recent call last)",
            "\u001b[0;32m<ipython-input-23-be6c84af7eea>\u001b[0m in \u001b[0;36m<cell line: 1>\u001b[0;34m()\u001b[0m\n\u001b[0;32m----> 1\u001b[0;31m \u001b[0mpd\u001b[0m\u001b[0;34m.\u001b[0m\u001b[0mread_csv\u001b[0m\u001b[0;34m(\u001b[0m\u001b[0;34m'exemplo.csv'\u001b[0m\u001b[0;34m)\u001b[0m\u001b[0;34m\u001b[0m\u001b[0;34m\u001b[0m\u001b[0m\n\u001b[0m",
            "\u001b[0;32m/usr/local/lib/python3.10/dist-packages/pandas/util/_decorators.py\u001b[0m in \u001b[0;36mwrapper\u001b[0;34m(*args, **kwargs)\u001b[0m\n\u001b[1;32m    209\u001b[0m                 \u001b[0;32melse\u001b[0m\u001b[0;34m:\u001b[0m\u001b[0;34m\u001b[0m\u001b[0;34m\u001b[0m\u001b[0m\n\u001b[1;32m    210\u001b[0m                     \u001b[0mkwargs\u001b[0m\u001b[0;34m[\u001b[0m\u001b[0mnew_arg_name\u001b[0m\u001b[0;34m]\u001b[0m \u001b[0;34m=\u001b[0m \u001b[0mnew_arg_value\u001b[0m\u001b[0;34m\u001b[0m\u001b[0;34m\u001b[0m\u001b[0m\n\u001b[0;32m--> 211\u001b[0;31m             \u001b[0;32mreturn\u001b[0m \u001b[0mfunc\u001b[0m\u001b[0;34m(\u001b[0m\u001b[0;34m*\u001b[0m\u001b[0margs\u001b[0m\u001b[0;34m,\u001b[0m \u001b[0;34m**\u001b[0m\u001b[0mkwargs\u001b[0m\u001b[0;34m)\u001b[0m\u001b[0;34m\u001b[0m\u001b[0;34m\u001b[0m\u001b[0m\n\u001b[0m\u001b[1;32m    212\u001b[0m \u001b[0;34m\u001b[0m\u001b[0m\n\u001b[1;32m    213\u001b[0m         \u001b[0;32mreturn\u001b[0m \u001b[0mcast\u001b[0m\u001b[0;34m(\u001b[0m\u001b[0mF\u001b[0m\u001b[0;34m,\u001b[0m \u001b[0mwrapper\u001b[0m\u001b[0;34m)\u001b[0m\u001b[0;34m\u001b[0m\u001b[0;34m\u001b[0m\u001b[0m\n",
            "\u001b[0;32m/usr/local/lib/python3.10/dist-packages/pandas/util/_decorators.py\u001b[0m in \u001b[0;36mwrapper\u001b[0;34m(*args, **kwargs)\u001b[0m\n\u001b[1;32m    329\u001b[0m                     \u001b[0mstacklevel\u001b[0m\u001b[0;34m=\u001b[0m\u001b[0mfind_stack_level\u001b[0m\u001b[0;34m(\u001b[0m\u001b[0;34m)\u001b[0m\u001b[0;34m,\u001b[0m\u001b[0;34m\u001b[0m\u001b[0;34m\u001b[0m\u001b[0m\n\u001b[1;32m    330\u001b[0m                 )\n\u001b[0;32m--> 331\u001b[0;31m             \u001b[0;32mreturn\u001b[0m \u001b[0mfunc\u001b[0m\u001b[0;34m(\u001b[0m\u001b[0;34m*\u001b[0m\u001b[0margs\u001b[0m\u001b[0;34m,\u001b[0m \u001b[0;34m**\u001b[0m\u001b[0mkwargs\u001b[0m\u001b[0;34m)\u001b[0m\u001b[0;34m\u001b[0m\u001b[0;34m\u001b[0m\u001b[0m\n\u001b[0m\u001b[1;32m    332\u001b[0m \u001b[0;34m\u001b[0m\u001b[0m\n\u001b[1;32m    333\u001b[0m         \u001b[0;31m# error: \"Callable[[VarArg(Any), KwArg(Any)], Any]\" has no\u001b[0m\u001b[0;34m\u001b[0m\u001b[0;34m\u001b[0m\u001b[0m\n",
            "\u001b[0;32m/usr/local/lib/python3.10/dist-packages/pandas/io/parsers/readers.py\u001b[0m in \u001b[0;36mread_csv\u001b[0;34m(filepath_or_buffer, sep, delimiter, header, names, index_col, usecols, squeeze, prefix, mangle_dupe_cols, dtype, engine, converters, true_values, false_values, skipinitialspace, skiprows, skipfooter, nrows, na_values, keep_default_na, na_filter, verbose, skip_blank_lines, parse_dates, infer_datetime_format, keep_date_col, date_parser, dayfirst, cache_dates, iterator, chunksize, compression, thousands, decimal, lineterminator, quotechar, quoting, doublequote, escapechar, comment, encoding, encoding_errors, dialect, error_bad_lines, warn_bad_lines, on_bad_lines, delim_whitespace, low_memory, memory_map, float_precision, storage_options)\u001b[0m\n\u001b[1;32m    948\u001b[0m     \u001b[0mkwds\u001b[0m\u001b[0;34m.\u001b[0m\u001b[0mupdate\u001b[0m\u001b[0;34m(\u001b[0m\u001b[0mkwds_defaults\u001b[0m\u001b[0;34m)\u001b[0m\u001b[0;34m\u001b[0m\u001b[0;34m\u001b[0m\u001b[0m\n\u001b[1;32m    949\u001b[0m \u001b[0;34m\u001b[0m\u001b[0m\n\u001b[0;32m--> 950\u001b[0;31m     \u001b[0;32mreturn\u001b[0m \u001b[0m_read\u001b[0m\u001b[0;34m(\u001b[0m\u001b[0mfilepath_or_buffer\u001b[0m\u001b[0;34m,\u001b[0m \u001b[0mkwds\u001b[0m\u001b[0;34m)\u001b[0m\u001b[0;34m\u001b[0m\u001b[0;34m\u001b[0m\u001b[0m\n\u001b[0m\u001b[1;32m    951\u001b[0m \u001b[0;34m\u001b[0m\u001b[0m\n\u001b[1;32m    952\u001b[0m \u001b[0;34m\u001b[0m\u001b[0m\n",
            "\u001b[0;32m/usr/local/lib/python3.10/dist-packages/pandas/io/parsers/readers.py\u001b[0m in \u001b[0;36m_read\u001b[0;34m(filepath_or_buffer, kwds)\u001b[0m\n\u001b[1;32m    603\u001b[0m \u001b[0;34m\u001b[0m\u001b[0m\n\u001b[1;32m    604\u001b[0m     \u001b[0;31m# Create the parser.\u001b[0m\u001b[0;34m\u001b[0m\u001b[0;34m\u001b[0m\u001b[0m\n\u001b[0;32m--> 605\u001b[0;31m     \u001b[0mparser\u001b[0m \u001b[0;34m=\u001b[0m \u001b[0mTextFileReader\u001b[0m\u001b[0;34m(\u001b[0m\u001b[0mfilepath_or_buffer\u001b[0m\u001b[0;34m,\u001b[0m \u001b[0;34m**\u001b[0m\u001b[0mkwds\u001b[0m\u001b[0;34m)\u001b[0m\u001b[0;34m\u001b[0m\u001b[0;34m\u001b[0m\u001b[0m\n\u001b[0m\u001b[1;32m    606\u001b[0m \u001b[0;34m\u001b[0m\u001b[0m\n\u001b[1;32m    607\u001b[0m     \u001b[0;32mif\u001b[0m \u001b[0mchunksize\u001b[0m \u001b[0;32mor\u001b[0m \u001b[0miterator\u001b[0m\u001b[0;34m:\u001b[0m\u001b[0;34m\u001b[0m\u001b[0;34m\u001b[0m\u001b[0m\n",
            "\u001b[0;32m/usr/local/lib/python3.10/dist-packages/pandas/io/parsers/readers.py\u001b[0m in \u001b[0;36m__init__\u001b[0;34m(self, f, engine, **kwds)\u001b[0m\n\u001b[1;32m   1440\u001b[0m \u001b[0;34m\u001b[0m\u001b[0m\n\u001b[1;32m   1441\u001b[0m         \u001b[0mself\u001b[0m\u001b[0;34m.\u001b[0m\u001b[0mhandles\u001b[0m\u001b[0;34m:\u001b[0m \u001b[0mIOHandles\u001b[0m \u001b[0;34m|\u001b[0m \u001b[0;32mNone\u001b[0m \u001b[0;34m=\u001b[0m \u001b[0;32mNone\u001b[0m\u001b[0;34m\u001b[0m\u001b[0;34m\u001b[0m\u001b[0m\n\u001b[0;32m-> 1442\u001b[0;31m         \u001b[0mself\u001b[0m\u001b[0;34m.\u001b[0m\u001b[0m_engine\u001b[0m \u001b[0;34m=\u001b[0m \u001b[0mself\u001b[0m\u001b[0;34m.\u001b[0m\u001b[0m_make_engine\u001b[0m\u001b[0;34m(\u001b[0m\u001b[0mf\u001b[0m\u001b[0;34m,\u001b[0m \u001b[0mself\u001b[0m\u001b[0;34m.\u001b[0m\u001b[0mengine\u001b[0m\u001b[0;34m)\u001b[0m\u001b[0;34m\u001b[0m\u001b[0;34m\u001b[0m\u001b[0m\n\u001b[0m\u001b[1;32m   1443\u001b[0m \u001b[0;34m\u001b[0m\u001b[0m\n\u001b[1;32m   1444\u001b[0m     \u001b[0;32mdef\u001b[0m \u001b[0mclose\u001b[0m\u001b[0;34m(\u001b[0m\u001b[0mself\u001b[0m\u001b[0;34m)\u001b[0m \u001b[0;34m->\u001b[0m \u001b[0;32mNone\u001b[0m\u001b[0;34m:\u001b[0m\u001b[0;34m\u001b[0m\u001b[0;34m\u001b[0m\u001b[0m\n",
            "\u001b[0;32m/usr/local/lib/python3.10/dist-packages/pandas/io/parsers/readers.py\u001b[0m in \u001b[0;36m_make_engine\u001b[0;34m(self, f, engine)\u001b[0m\n\u001b[1;32m   1733\u001b[0m                 \u001b[0;32mif\u001b[0m \u001b[0;34m\"b\"\u001b[0m \u001b[0;32mnot\u001b[0m \u001b[0;32min\u001b[0m \u001b[0mmode\u001b[0m\u001b[0;34m:\u001b[0m\u001b[0;34m\u001b[0m\u001b[0;34m\u001b[0m\u001b[0m\n\u001b[1;32m   1734\u001b[0m                     \u001b[0mmode\u001b[0m \u001b[0;34m+=\u001b[0m \u001b[0;34m\"b\"\u001b[0m\u001b[0;34m\u001b[0m\u001b[0;34m\u001b[0m\u001b[0m\n\u001b[0;32m-> 1735\u001b[0;31m             self.handles = get_handle(\n\u001b[0m\u001b[1;32m   1736\u001b[0m                 \u001b[0mf\u001b[0m\u001b[0;34m,\u001b[0m\u001b[0;34m\u001b[0m\u001b[0;34m\u001b[0m\u001b[0m\n\u001b[1;32m   1737\u001b[0m                 \u001b[0mmode\u001b[0m\u001b[0;34m,\u001b[0m\u001b[0;34m\u001b[0m\u001b[0;34m\u001b[0m\u001b[0m\n",
            "\u001b[0;32m/usr/local/lib/python3.10/dist-packages/pandas/io/common.py\u001b[0m in \u001b[0;36mget_handle\u001b[0;34m(path_or_buf, mode, encoding, compression, memory_map, is_text, errors, storage_options)\u001b[0m\n\u001b[1;32m    854\u001b[0m         \u001b[0;32mif\u001b[0m \u001b[0mioargs\u001b[0m\u001b[0;34m.\u001b[0m\u001b[0mencoding\u001b[0m \u001b[0;32mand\u001b[0m \u001b[0;34m\"b\"\u001b[0m \u001b[0;32mnot\u001b[0m \u001b[0;32min\u001b[0m \u001b[0mioargs\u001b[0m\u001b[0;34m.\u001b[0m\u001b[0mmode\u001b[0m\u001b[0;34m:\u001b[0m\u001b[0;34m\u001b[0m\u001b[0;34m\u001b[0m\u001b[0m\n\u001b[1;32m    855\u001b[0m             \u001b[0;31m# Encoding\u001b[0m\u001b[0;34m\u001b[0m\u001b[0;34m\u001b[0m\u001b[0m\n\u001b[0;32m--> 856\u001b[0;31m             handle = open(\n\u001b[0m\u001b[1;32m    857\u001b[0m                 \u001b[0mhandle\u001b[0m\u001b[0;34m,\u001b[0m\u001b[0;34m\u001b[0m\u001b[0;34m\u001b[0m\u001b[0m\n\u001b[1;32m    858\u001b[0m                 \u001b[0mioargs\u001b[0m\u001b[0;34m.\u001b[0m\u001b[0mmode\u001b[0m\u001b[0;34m,\u001b[0m\u001b[0;34m\u001b[0m\u001b[0;34m\u001b[0m\u001b[0m\n",
            "\u001b[0;31mFileNotFoundError\u001b[0m: [Errno 2] No such file or directory: 'exemplo.csv'"
          ]
        }
      ]
    },
    {
      "cell_type": "markdown",
      "source": [
        "Carregando um CSV sem os cabeçalhos."
      ],
      "metadata": {
        "id": "0NzOCL9dczFO"
      }
    },
    {
      "cell_type": "code",
      "source": [
        "df = pd.read_csv('exemplo.csv', header=None)\n",
        "df"
      ],
      "metadata": {
        "colab": {
          "base_uri": "https://localhost:8080/",
          "height": 328
        },
        "id": "_uDpSqmIc0aa",
        "outputId": "9e736893-1253-47c4-802c-d95f83dfe9a8"
      },
      "execution_count": 24,
      "outputs": [
        {
          "output_type": "error",
          "ename": "FileNotFoundError",
          "evalue": "ignored",
          "traceback": [
            "\u001b[0;31m---------------------------------------------------------------------------\u001b[0m",
            "\u001b[0;31mFileNotFoundError\u001b[0m                         Traceback (most recent call last)",
            "\u001b[0;32m<ipython-input-24-bc70ce1a9eb1>\u001b[0m in \u001b[0;36m<cell line: 1>\u001b[0;34m()\u001b[0m\n\u001b[0;32m----> 1\u001b[0;31m \u001b[0mdf\u001b[0m \u001b[0;34m=\u001b[0m \u001b[0mpd\u001b[0m\u001b[0;34m.\u001b[0m\u001b[0mread_csv\u001b[0m\u001b[0;34m(\u001b[0m\u001b[0;34m'exemplo.csv'\u001b[0m\u001b[0;34m,\u001b[0m \u001b[0mheader\u001b[0m\u001b[0;34m=\u001b[0m\u001b[0;32mNone\u001b[0m\u001b[0;34m)\u001b[0m\u001b[0;34m\u001b[0m\u001b[0;34m\u001b[0m\u001b[0m\n\u001b[0m\u001b[1;32m      2\u001b[0m \u001b[0mdf\u001b[0m\u001b[0;34m\u001b[0m\u001b[0;34m\u001b[0m\u001b[0m\n",
            "\u001b[0;32m/usr/local/lib/python3.10/dist-packages/pandas/util/_decorators.py\u001b[0m in \u001b[0;36mwrapper\u001b[0;34m(*args, **kwargs)\u001b[0m\n\u001b[1;32m    209\u001b[0m                 \u001b[0;32melse\u001b[0m\u001b[0;34m:\u001b[0m\u001b[0;34m\u001b[0m\u001b[0;34m\u001b[0m\u001b[0m\n\u001b[1;32m    210\u001b[0m                     \u001b[0mkwargs\u001b[0m\u001b[0;34m[\u001b[0m\u001b[0mnew_arg_name\u001b[0m\u001b[0;34m]\u001b[0m \u001b[0;34m=\u001b[0m \u001b[0mnew_arg_value\u001b[0m\u001b[0;34m\u001b[0m\u001b[0;34m\u001b[0m\u001b[0m\n\u001b[0;32m--> 211\u001b[0;31m             \u001b[0;32mreturn\u001b[0m \u001b[0mfunc\u001b[0m\u001b[0;34m(\u001b[0m\u001b[0;34m*\u001b[0m\u001b[0margs\u001b[0m\u001b[0;34m,\u001b[0m \u001b[0;34m**\u001b[0m\u001b[0mkwargs\u001b[0m\u001b[0;34m)\u001b[0m\u001b[0;34m\u001b[0m\u001b[0;34m\u001b[0m\u001b[0m\n\u001b[0m\u001b[1;32m    212\u001b[0m \u001b[0;34m\u001b[0m\u001b[0m\n\u001b[1;32m    213\u001b[0m         \u001b[0;32mreturn\u001b[0m \u001b[0mcast\u001b[0m\u001b[0;34m(\u001b[0m\u001b[0mF\u001b[0m\u001b[0;34m,\u001b[0m \u001b[0mwrapper\u001b[0m\u001b[0;34m)\u001b[0m\u001b[0;34m\u001b[0m\u001b[0;34m\u001b[0m\u001b[0m\n",
            "\u001b[0;32m/usr/local/lib/python3.10/dist-packages/pandas/util/_decorators.py\u001b[0m in \u001b[0;36mwrapper\u001b[0;34m(*args, **kwargs)\u001b[0m\n\u001b[1;32m    329\u001b[0m                     \u001b[0mstacklevel\u001b[0m\u001b[0;34m=\u001b[0m\u001b[0mfind_stack_level\u001b[0m\u001b[0;34m(\u001b[0m\u001b[0;34m)\u001b[0m\u001b[0;34m,\u001b[0m\u001b[0;34m\u001b[0m\u001b[0;34m\u001b[0m\u001b[0m\n\u001b[1;32m    330\u001b[0m                 )\n\u001b[0;32m--> 331\u001b[0;31m             \u001b[0;32mreturn\u001b[0m \u001b[0mfunc\u001b[0m\u001b[0;34m(\u001b[0m\u001b[0;34m*\u001b[0m\u001b[0margs\u001b[0m\u001b[0;34m,\u001b[0m \u001b[0;34m**\u001b[0m\u001b[0mkwargs\u001b[0m\u001b[0;34m)\u001b[0m\u001b[0;34m\u001b[0m\u001b[0;34m\u001b[0m\u001b[0m\n\u001b[0m\u001b[1;32m    332\u001b[0m \u001b[0;34m\u001b[0m\u001b[0m\n\u001b[1;32m    333\u001b[0m         \u001b[0;31m# error: \"Callable[[VarArg(Any), KwArg(Any)], Any]\" has no\u001b[0m\u001b[0;34m\u001b[0m\u001b[0;34m\u001b[0m\u001b[0m\n",
            "\u001b[0;32m/usr/local/lib/python3.10/dist-packages/pandas/io/parsers/readers.py\u001b[0m in \u001b[0;36mread_csv\u001b[0;34m(filepath_or_buffer, sep, delimiter, header, names, index_col, usecols, squeeze, prefix, mangle_dupe_cols, dtype, engine, converters, true_values, false_values, skipinitialspace, skiprows, skipfooter, nrows, na_values, keep_default_na, na_filter, verbose, skip_blank_lines, parse_dates, infer_datetime_format, keep_date_col, date_parser, dayfirst, cache_dates, iterator, chunksize, compression, thousands, decimal, lineterminator, quotechar, quoting, doublequote, escapechar, comment, encoding, encoding_errors, dialect, error_bad_lines, warn_bad_lines, on_bad_lines, delim_whitespace, low_memory, memory_map, float_precision, storage_options)\u001b[0m\n\u001b[1;32m    948\u001b[0m     \u001b[0mkwds\u001b[0m\u001b[0;34m.\u001b[0m\u001b[0mupdate\u001b[0m\u001b[0;34m(\u001b[0m\u001b[0mkwds_defaults\u001b[0m\u001b[0;34m)\u001b[0m\u001b[0;34m\u001b[0m\u001b[0;34m\u001b[0m\u001b[0m\n\u001b[1;32m    949\u001b[0m \u001b[0;34m\u001b[0m\u001b[0m\n\u001b[0;32m--> 950\u001b[0;31m     \u001b[0;32mreturn\u001b[0m \u001b[0m_read\u001b[0m\u001b[0;34m(\u001b[0m\u001b[0mfilepath_or_buffer\u001b[0m\u001b[0;34m,\u001b[0m \u001b[0mkwds\u001b[0m\u001b[0;34m)\u001b[0m\u001b[0;34m\u001b[0m\u001b[0;34m\u001b[0m\u001b[0m\n\u001b[0m\u001b[1;32m    951\u001b[0m \u001b[0;34m\u001b[0m\u001b[0m\n\u001b[1;32m    952\u001b[0m \u001b[0;34m\u001b[0m\u001b[0m\n",
            "\u001b[0;32m/usr/local/lib/python3.10/dist-packages/pandas/io/parsers/readers.py\u001b[0m in \u001b[0;36m_read\u001b[0;34m(filepath_or_buffer, kwds)\u001b[0m\n\u001b[1;32m    603\u001b[0m \u001b[0;34m\u001b[0m\u001b[0m\n\u001b[1;32m    604\u001b[0m     \u001b[0;31m# Create the parser.\u001b[0m\u001b[0;34m\u001b[0m\u001b[0;34m\u001b[0m\u001b[0m\n\u001b[0;32m--> 605\u001b[0;31m     \u001b[0mparser\u001b[0m \u001b[0;34m=\u001b[0m \u001b[0mTextFileReader\u001b[0m\u001b[0;34m(\u001b[0m\u001b[0mfilepath_or_buffer\u001b[0m\u001b[0;34m,\u001b[0m \u001b[0;34m**\u001b[0m\u001b[0mkwds\u001b[0m\u001b[0;34m)\u001b[0m\u001b[0;34m\u001b[0m\u001b[0;34m\u001b[0m\u001b[0m\n\u001b[0m\u001b[1;32m    606\u001b[0m \u001b[0;34m\u001b[0m\u001b[0m\n\u001b[1;32m    607\u001b[0m     \u001b[0;32mif\u001b[0m \u001b[0mchunksize\u001b[0m \u001b[0;32mor\u001b[0m \u001b[0miterator\u001b[0m\u001b[0;34m:\u001b[0m\u001b[0;34m\u001b[0m\u001b[0;34m\u001b[0m\u001b[0m\n",
            "\u001b[0;32m/usr/local/lib/python3.10/dist-packages/pandas/io/parsers/readers.py\u001b[0m in \u001b[0;36m__init__\u001b[0;34m(self, f, engine, **kwds)\u001b[0m\n\u001b[1;32m   1440\u001b[0m \u001b[0;34m\u001b[0m\u001b[0m\n\u001b[1;32m   1441\u001b[0m         \u001b[0mself\u001b[0m\u001b[0;34m.\u001b[0m\u001b[0mhandles\u001b[0m\u001b[0;34m:\u001b[0m \u001b[0mIOHandles\u001b[0m \u001b[0;34m|\u001b[0m \u001b[0;32mNone\u001b[0m \u001b[0;34m=\u001b[0m \u001b[0;32mNone\u001b[0m\u001b[0;34m\u001b[0m\u001b[0;34m\u001b[0m\u001b[0m\n\u001b[0;32m-> 1442\u001b[0;31m         \u001b[0mself\u001b[0m\u001b[0;34m.\u001b[0m\u001b[0m_engine\u001b[0m \u001b[0;34m=\u001b[0m \u001b[0mself\u001b[0m\u001b[0;34m.\u001b[0m\u001b[0m_make_engine\u001b[0m\u001b[0;34m(\u001b[0m\u001b[0mf\u001b[0m\u001b[0;34m,\u001b[0m \u001b[0mself\u001b[0m\u001b[0;34m.\u001b[0m\u001b[0mengine\u001b[0m\u001b[0;34m)\u001b[0m\u001b[0;34m\u001b[0m\u001b[0;34m\u001b[0m\u001b[0m\n\u001b[0m\u001b[1;32m   1443\u001b[0m \u001b[0;34m\u001b[0m\u001b[0m\n\u001b[1;32m   1444\u001b[0m     \u001b[0;32mdef\u001b[0m \u001b[0mclose\u001b[0m\u001b[0;34m(\u001b[0m\u001b[0mself\u001b[0m\u001b[0;34m)\u001b[0m \u001b[0;34m->\u001b[0m \u001b[0;32mNone\u001b[0m\u001b[0;34m:\u001b[0m\u001b[0;34m\u001b[0m\u001b[0;34m\u001b[0m\u001b[0m\n",
            "\u001b[0;32m/usr/local/lib/python3.10/dist-packages/pandas/io/parsers/readers.py\u001b[0m in \u001b[0;36m_make_engine\u001b[0;34m(self, f, engine)\u001b[0m\n\u001b[1;32m   1733\u001b[0m                 \u001b[0;32mif\u001b[0m \u001b[0;34m\"b\"\u001b[0m \u001b[0;32mnot\u001b[0m \u001b[0;32min\u001b[0m \u001b[0mmode\u001b[0m\u001b[0;34m:\u001b[0m\u001b[0;34m\u001b[0m\u001b[0;34m\u001b[0m\u001b[0m\n\u001b[1;32m   1734\u001b[0m                     \u001b[0mmode\u001b[0m \u001b[0;34m+=\u001b[0m \u001b[0;34m\"b\"\u001b[0m\u001b[0;34m\u001b[0m\u001b[0;34m\u001b[0m\u001b[0m\n\u001b[0;32m-> 1735\u001b[0;31m             self.handles = get_handle(\n\u001b[0m\u001b[1;32m   1736\u001b[0m                 \u001b[0mf\u001b[0m\u001b[0;34m,\u001b[0m\u001b[0;34m\u001b[0m\u001b[0;34m\u001b[0m\u001b[0m\n\u001b[1;32m   1737\u001b[0m                 \u001b[0mmode\u001b[0m\u001b[0;34m,\u001b[0m\u001b[0;34m\u001b[0m\u001b[0;34m\u001b[0m\u001b[0m\n",
            "\u001b[0;32m/usr/local/lib/python3.10/dist-packages/pandas/io/common.py\u001b[0m in \u001b[0;36mget_handle\u001b[0;34m(path_or_buf, mode, encoding, compression, memory_map, is_text, errors, storage_options)\u001b[0m\n\u001b[1;32m    854\u001b[0m         \u001b[0;32mif\u001b[0m \u001b[0mioargs\u001b[0m\u001b[0;34m.\u001b[0m\u001b[0mencoding\u001b[0m \u001b[0;32mand\u001b[0m \u001b[0;34m\"b\"\u001b[0m \u001b[0;32mnot\u001b[0m \u001b[0;32min\u001b[0m \u001b[0mioargs\u001b[0m\u001b[0;34m.\u001b[0m\u001b[0mmode\u001b[0m\u001b[0;34m:\u001b[0m\u001b[0;34m\u001b[0m\u001b[0;34m\u001b[0m\u001b[0m\n\u001b[1;32m    855\u001b[0m             \u001b[0;31m# Encoding\u001b[0m\u001b[0;34m\u001b[0m\u001b[0;34m\u001b[0m\u001b[0m\n\u001b[0;32m--> 856\u001b[0;31m             handle = open(\n\u001b[0m\u001b[1;32m    857\u001b[0m                 \u001b[0mhandle\u001b[0m\u001b[0;34m,\u001b[0m\u001b[0;34m\u001b[0m\u001b[0;34m\u001b[0m\u001b[0m\n\u001b[1;32m    858\u001b[0m                 \u001b[0mioargs\u001b[0m\u001b[0;34m.\u001b[0m\u001b[0mmode\u001b[0m\u001b[0;34m,\u001b[0m\u001b[0;34m\u001b[0m\u001b[0;34m\u001b[0m\u001b[0m\n",
            "\u001b[0;31mFileNotFoundError\u001b[0m: [Errno 2] No such file or directory: 'exemplo.csv'"
          ]
        }
      ]
    },
    {
      "cell_type": "markdown",
      "source": [
        "Carregando um CSV especificando os nomes das colunas."
      ],
      "metadata": {
        "id": "JVh9Rs_hc2iz"
      }
    },
    {
      "cell_type": "code",
      "source": [
        "df = pd.read_csv('exemplo.csv', names=['ID', 'Primeiro Nome', 'Último Nome', 'Idade', 'Nota Pré-teste', 'Nota Pós-teste'])\n",
        "df"
      ],
      "metadata": {
        "colab": {
          "base_uri": "https://localhost:8080/",
          "height": 328
        },
        "id": "Ji46Hksnc5W5",
        "outputId": "ac1ce117-5e61-4132-bb8d-a4094088355c"
      },
      "execution_count": 25,
      "outputs": [
        {
          "output_type": "error",
          "ename": "FileNotFoundError",
          "evalue": "ignored",
          "traceback": [
            "\u001b[0;31m---------------------------------------------------------------------------\u001b[0m",
            "\u001b[0;31mFileNotFoundError\u001b[0m                         Traceback (most recent call last)",
            "\u001b[0;32m<ipython-input-25-64c5ec2a6314>\u001b[0m in \u001b[0;36m<cell line: 1>\u001b[0;34m()\u001b[0m\n\u001b[0;32m----> 1\u001b[0;31m \u001b[0mdf\u001b[0m \u001b[0;34m=\u001b[0m \u001b[0mpd\u001b[0m\u001b[0;34m.\u001b[0m\u001b[0mread_csv\u001b[0m\u001b[0;34m(\u001b[0m\u001b[0;34m'exemplo.csv'\u001b[0m\u001b[0;34m,\u001b[0m \u001b[0mnames\u001b[0m\u001b[0;34m=\u001b[0m\u001b[0;34m[\u001b[0m\u001b[0;34m'ID'\u001b[0m\u001b[0;34m,\u001b[0m \u001b[0;34m'Primeiro Nome'\u001b[0m\u001b[0;34m,\u001b[0m \u001b[0;34m'Último Nome'\u001b[0m\u001b[0;34m,\u001b[0m \u001b[0;34m'Idade'\u001b[0m\u001b[0;34m,\u001b[0m \u001b[0;34m'Nota Pré-teste'\u001b[0m\u001b[0;34m,\u001b[0m \u001b[0;34m'Nota Pós-teste'\u001b[0m\u001b[0;34m]\u001b[0m\u001b[0;34m)\u001b[0m\u001b[0;34m\u001b[0m\u001b[0;34m\u001b[0m\u001b[0m\n\u001b[0m\u001b[1;32m      2\u001b[0m \u001b[0mdf\u001b[0m\u001b[0;34m\u001b[0m\u001b[0;34m\u001b[0m\u001b[0m\n",
            "\u001b[0;32m/usr/local/lib/python3.10/dist-packages/pandas/util/_decorators.py\u001b[0m in \u001b[0;36mwrapper\u001b[0;34m(*args, **kwargs)\u001b[0m\n\u001b[1;32m    209\u001b[0m                 \u001b[0;32melse\u001b[0m\u001b[0;34m:\u001b[0m\u001b[0;34m\u001b[0m\u001b[0;34m\u001b[0m\u001b[0m\n\u001b[1;32m    210\u001b[0m                     \u001b[0mkwargs\u001b[0m\u001b[0;34m[\u001b[0m\u001b[0mnew_arg_name\u001b[0m\u001b[0;34m]\u001b[0m \u001b[0;34m=\u001b[0m \u001b[0mnew_arg_value\u001b[0m\u001b[0;34m\u001b[0m\u001b[0;34m\u001b[0m\u001b[0m\n\u001b[0;32m--> 211\u001b[0;31m             \u001b[0;32mreturn\u001b[0m \u001b[0mfunc\u001b[0m\u001b[0;34m(\u001b[0m\u001b[0;34m*\u001b[0m\u001b[0margs\u001b[0m\u001b[0;34m,\u001b[0m \u001b[0;34m**\u001b[0m\u001b[0mkwargs\u001b[0m\u001b[0;34m)\u001b[0m\u001b[0;34m\u001b[0m\u001b[0;34m\u001b[0m\u001b[0m\n\u001b[0m\u001b[1;32m    212\u001b[0m \u001b[0;34m\u001b[0m\u001b[0m\n\u001b[1;32m    213\u001b[0m         \u001b[0;32mreturn\u001b[0m \u001b[0mcast\u001b[0m\u001b[0;34m(\u001b[0m\u001b[0mF\u001b[0m\u001b[0;34m,\u001b[0m \u001b[0mwrapper\u001b[0m\u001b[0;34m)\u001b[0m\u001b[0;34m\u001b[0m\u001b[0;34m\u001b[0m\u001b[0m\n",
            "\u001b[0;32m/usr/local/lib/python3.10/dist-packages/pandas/util/_decorators.py\u001b[0m in \u001b[0;36mwrapper\u001b[0;34m(*args, **kwargs)\u001b[0m\n\u001b[1;32m    329\u001b[0m                     \u001b[0mstacklevel\u001b[0m\u001b[0;34m=\u001b[0m\u001b[0mfind_stack_level\u001b[0m\u001b[0;34m(\u001b[0m\u001b[0;34m)\u001b[0m\u001b[0;34m,\u001b[0m\u001b[0;34m\u001b[0m\u001b[0;34m\u001b[0m\u001b[0m\n\u001b[1;32m    330\u001b[0m                 )\n\u001b[0;32m--> 331\u001b[0;31m             \u001b[0;32mreturn\u001b[0m \u001b[0mfunc\u001b[0m\u001b[0;34m(\u001b[0m\u001b[0;34m*\u001b[0m\u001b[0margs\u001b[0m\u001b[0;34m,\u001b[0m \u001b[0;34m**\u001b[0m\u001b[0mkwargs\u001b[0m\u001b[0;34m)\u001b[0m\u001b[0;34m\u001b[0m\u001b[0;34m\u001b[0m\u001b[0m\n\u001b[0m\u001b[1;32m    332\u001b[0m \u001b[0;34m\u001b[0m\u001b[0m\n\u001b[1;32m    333\u001b[0m         \u001b[0;31m# error: \"Callable[[VarArg(Any), KwArg(Any)], Any]\" has no\u001b[0m\u001b[0;34m\u001b[0m\u001b[0;34m\u001b[0m\u001b[0m\n",
            "\u001b[0;32m/usr/local/lib/python3.10/dist-packages/pandas/io/parsers/readers.py\u001b[0m in \u001b[0;36mread_csv\u001b[0;34m(filepath_or_buffer, sep, delimiter, header, names, index_col, usecols, squeeze, prefix, mangle_dupe_cols, dtype, engine, converters, true_values, false_values, skipinitialspace, skiprows, skipfooter, nrows, na_values, keep_default_na, na_filter, verbose, skip_blank_lines, parse_dates, infer_datetime_format, keep_date_col, date_parser, dayfirst, cache_dates, iterator, chunksize, compression, thousands, decimal, lineterminator, quotechar, quoting, doublequote, escapechar, comment, encoding, encoding_errors, dialect, error_bad_lines, warn_bad_lines, on_bad_lines, delim_whitespace, low_memory, memory_map, float_precision, storage_options)\u001b[0m\n\u001b[1;32m    948\u001b[0m     \u001b[0mkwds\u001b[0m\u001b[0;34m.\u001b[0m\u001b[0mupdate\u001b[0m\u001b[0;34m(\u001b[0m\u001b[0mkwds_defaults\u001b[0m\u001b[0;34m)\u001b[0m\u001b[0;34m\u001b[0m\u001b[0;34m\u001b[0m\u001b[0m\n\u001b[1;32m    949\u001b[0m \u001b[0;34m\u001b[0m\u001b[0m\n\u001b[0;32m--> 950\u001b[0;31m     \u001b[0;32mreturn\u001b[0m \u001b[0m_read\u001b[0m\u001b[0;34m(\u001b[0m\u001b[0mfilepath_or_buffer\u001b[0m\u001b[0;34m,\u001b[0m \u001b[0mkwds\u001b[0m\u001b[0;34m)\u001b[0m\u001b[0;34m\u001b[0m\u001b[0;34m\u001b[0m\u001b[0m\n\u001b[0m\u001b[1;32m    951\u001b[0m \u001b[0;34m\u001b[0m\u001b[0m\n\u001b[1;32m    952\u001b[0m \u001b[0;34m\u001b[0m\u001b[0m\n",
            "\u001b[0;32m/usr/local/lib/python3.10/dist-packages/pandas/io/parsers/readers.py\u001b[0m in \u001b[0;36m_read\u001b[0;34m(filepath_or_buffer, kwds)\u001b[0m\n\u001b[1;32m    603\u001b[0m \u001b[0;34m\u001b[0m\u001b[0m\n\u001b[1;32m    604\u001b[0m     \u001b[0;31m# Create the parser.\u001b[0m\u001b[0;34m\u001b[0m\u001b[0;34m\u001b[0m\u001b[0m\n\u001b[0;32m--> 605\u001b[0;31m     \u001b[0mparser\u001b[0m \u001b[0;34m=\u001b[0m \u001b[0mTextFileReader\u001b[0m\u001b[0;34m(\u001b[0m\u001b[0mfilepath_or_buffer\u001b[0m\u001b[0;34m,\u001b[0m \u001b[0;34m**\u001b[0m\u001b[0mkwds\u001b[0m\u001b[0;34m)\u001b[0m\u001b[0;34m\u001b[0m\u001b[0;34m\u001b[0m\u001b[0m\n\u001b[0m\u001b[1;32m    606\u001b[0m \u001b[0;34m\u001b[0m\u001b[0m\n\u001b[1;32m    607\u001b[0m     \u001b[0;32mif\u001b[0m \u001b[0mchunksize\u001b[0m \u001b[0;32mor\u001b[0m \u001b[0miterator\u001b[0m\u001b[0;34m:\u001b[0m\u001b[0;34m\u001b[0m\u001b[0;34m\u001b[0m\u001b[0m\n",
            "\u001b[0;32m/usr/local/lib/python3.10/dist-packages/pandas/io/parsers/readers.py\u001b[0m in \u001b[0;36m__init__\u001b[0;34m(self, f, engine, **kwds)\u001b[0m\n\u001b[1;32m   1440\u001b[0m \u001b[0;34m\u001b[0m\u001b[0m\n\u001b[1;32m   1441\u001b[0m         \u001b[0mself\u001b[0m\u001b[0;34m.\u001b[0m\u001b[0mhandles\u001b[0m\u001b[0;34m:\u001b[0m \u001b[0mIOHandles\u001b[0m \u001b[0;34m|\u001b[0m \u001b[0;32mNone\u001b[0m \u001b[0;34m=\u001b[0m \u001b[0;32mNone\u001b[0m\u001b[0;34m\u001b[0m\u001b[0;34m\u001b[0m\u001b[0m\n\u001b[0;32m-> 1442\u001b[0;31m         \u001b[0mself\u001b[0m\u001b[0;34m.\u001b[0m\u001b[0m_engine\u001b[0m \u001b[0;34m=\u001b[0m \u001b[0mself\u001b[0m\u001b[0;34m.\u001b[0m\u001b[0m_make_engine\u001b[0m\u001b[0;34m(\u001b[0m\u001b[0mf\u001b[0m\u001b[0;34m,\u001b[0m \u001b[0mself\u001b[0m\u001b[0;34m.\u001b[0m\u001b[0mengine\u001b[0m\u001b[0;34m)\u001b[0m\u001b[0;34m\u001b[0m\u001b[0;34m\u001b[0m\u001b[0m\n\u001b[0m\u001b[1;32m   1443\u001b[0m \u001b[0;34m\u001b[0m\u001b[0m\n\u001b[1;32m   1444\u001b[0m     \u001b[0;32mdef\u001b[0m \u001b[0mclose\u001b[0m\u001b[0;34m(\u001b[0m\u001b[0mself\u001b[0m\u001b[0;34m)\u001b[0m \u001b[0;34m->\u001b[0m \u001b[0;32mNone\u001b[0m\u001b[0;34m:\u001b[0m\u001b[0;34m\u001b[0m\u001b[0;34m\u001b[0m\u001b[0m\n",
            "\u001b[0;32m/usr/local/lib/python3.10/dist-packages/pandas/io/parsers/readers.py\u001b[0m in \u001b[0;36m_make_engine\u001b[0;34m(self, f, engine)\u001b[0m\n\u001b[1;32m   1733\u001b[0m                 \u001b[0;32mif\u001b[0m \u001b[0;34m\"b\"\u001b[0m \u001b[0;32mnot\u001b[0m \u001b[0;32min\u001b[0m \u001b[0mmode\u001b[0m\u001b[0;34m:\u001b[0m\u001b[0;34m\u001b[0m\u001b[0;34m\u001b[0m\u001b[0m\n\u001b[1;32m   1734\u001b[0m                     \u001b[0mmode\u001b[0m \u001b[0;34m+=\u001b[0m \u001b[0;34m\"b\"\u001b[0m\u001b[0;34m\u001b[0m\u001b[0;34m\u001b[0m\u001b[0m\n\u001b[0;32m-> 1735\u001b[0;31m             self.handles = get_handle(\n\u001b[0m\u001b[1;32m   1736\u001b[0m                 \u001b[0mf\u001b[0m\u001b[0;34m,\u001b[0m\u001b[0;34m\u001b[0m\u001b[0;34m\u001b[0m\u001b[0m\n\u001b[1;32m   1737\u001b[0m                 \u001b[0mmode\u001b[0m\u001b[0;34m,\u001b[0m\u001b[0;34m\u001b[0m\u001b[0;34m\u001b[0m\u001b[0m\n",
            "\u001b[0;32m/usr/local/lib/python3.10/dist-packages/pandas/io/common.py\u001b[0m in \u001b[0;36mget_handle\u001b[0;34m(path_or_buf, mode, encoding, compression, memory_map, is_text, errors, storage_options)\u001b[0m\n\u001b[1;32m    854\u001b[0m         \u001b[0;32mif\u001b[0m \u001b[0mioargs\u001b[0m\u001b[0;34m.\u001b[0m\u001b[0mencoding\u001b[0m \u001b[0;32mand\u001b[0m \u001b[0;34m\"b\"\u001b[0m \u001b[0;32mnot\u001b[0m \u001b[0;32min\u001b[0m \u001b[0mioargs\u001b[0m\u001b[0;34m.\u001b[0m\u001b[0mmode\u001b[0m\u001b[0;34m:\u001b[0m\u001b[0;34m\u001b[0m\u001b[0;34m\u001b[0m\u001b[0m\n\u001b[1;32m    855\u001b[0m             \u001b[0;31m# Encoding\u001b[0m\u001b[0;34m\u001b[0m\u001b[0;34m\u001b[0m\u001b[0m\n\u001b[0;32m--> 856\u001b[0;31m             handle = open(\n\u001b[0m\u001b[1;32m    857\u001b[0m                 \u001b[0mhandle\u001b[0m\u001b[0;34m,\u001b[0m\u001b[0;34m\u001b[0m\u001b[0;34m\u001b[0m\u001b[0m\n\u001b[1;32m    858\u001b[0m                 \u001b[0mioargs\u001b[0m\u001b[0;34m.\u001b[0m\u001b[0mmode\u001b[0m\u001b[0;34m,\u001b[0m\u001b[0;34m\u001b[0m\u001b[0;34m\u001b[0m\u001b[0m\n",
            "\u001b[0;31mFileNotFoundError\u001b[0m: [Errno 2] No such file or directory: 'exemplo.csv'"
          ]
        }
      ]
    },
    {
      "cell_type": "markdown",
      "source": [
        "Carregando um CSV indicando a coluna ID como índice."
      ],
      "metadata": {
        "id": "LLDOKit_c8Hy"
      }
    },
    {
      "cell_type": "code",
      "source": [
        "df = pd.read_csv('exemplo.csv',\n",
        "                 index_col='ID', \n",
        "                 names=['ID', 'Primeiro Nome', 'Último Nome', 'Idade', 'Nota Pré-teste', 'Nota Pós-teste'])\n",
        "df"
      ],
      "metadata": {
        "colab": {
          "base_uri": "https://localhost:8080/",
          "height": 363
        },
        "id": "W9g3yAjTc9gJ",
        "outputId": "7794219e-4639-4905-a172-4b10265ed247"
      },
      "execution_count": 26,
      "outputs": [
        {
          "output_type": "error",
          "ename": "FileNotFoundError",
          "evalue": "ignored",
          "traceback": [
            "\u001b[0;31m---------------------------------------------------------------------------\u001b[0m",
            "\u001b[0;31mFileNotFoundError\u001b[0m                         Traceback (most recent call last)",
            "\u001b[0;32m<ipython-input-26-102ecfd7aded>\u001b[0m in \u001b[0;36m<cell line: 1>\u001b[0;34m()\u001b[0m\n\u001b[0;32m----> 1\u001b[0;31m df = pd.read_csv('exemplo.csv',\n\u001b[0m\u001b[1;32m      2\u001b[0m                  \u001b[0mindex_col\u001b[0m\u001b[0;34m=\u001b[0m\u001b[0;34m'ID'\u001b[0m\u001b[0;34m,\u001b[0m\u001b[0;34m\u001b[0m\u001b[0;34m\u001b[0m\u001b[0m\n\u001b[1;32m      3\u001b[0m                  names=['ID', 'Primeiro Nome', 'Último Nome', 'Idade', 'Nota Pré-teste', 'Nota Pós-teste'])\n\u001b[1;32m      4\u001b[0m \u001b[0mdf\u001b[0m\u001b[0;34m\u001b[0m\u001b[0;34m\u001b[0m\u001b[0m\n",
            "\u001b[0;32m/usr/local/lib/python3.10/dist-packages/pandas/util/_decorators.py\u001b[0m in \u001b[0;36mwrapper\u001b[0;34m(*args, **kwargs)\u001b[0m\n\u001b[1;32m    209\u001b[0m                 \u001b[0;32melse\u001b[0m\u001b[0;34m:\u001b[0m\u001b[0;34m\u001b[0m\u001b[0;34m\u001b[0m\u001b[0m\n\u001b[1;32m    210\u001b[0m                     \u001b[0mkwargs\u001b[0m\u001b[0;34m[\u001b[0m\u001b[0mnew_arg_name\u001b[0m\u001b[0;34m]\u001b[0m \u001b[0;34m=\u001b[0m \u001b[0mnew_arg_value\u001b[0m\u001b[0;34m\u001b[0m\u001b[0;34m\u001b[0m\u001b[0m\n\u001b[0;32m--> 211\u001b[0;31m             \u001b[0;32mreturn\u001b[0m \u001b[0mfunc\u001b[0m\u001b[0;34m(\u001b[0m\u001b[0;34m*\u001b[0m\u001b[0margs\u001b[0m\u001b[0;34m,\u001b[0m \u001b[0;34m**\u001b[0m\u001b[0mkwargs\u001b[0m\u001b[0;34m)\u001b[0m\u001b[0;34m\u001b[0m\u001b[0;34m\u001b[0m\u001b[0m\n\u001b[0m\u001b[1;32m    212\u001b[0m \u001b[0;34m\u001b[0m\u001b[0m\n\u001b[1;32m    213\u001b[0m         \u001b[0;32mreturn\u001b[0m \u001b[0mcast\u001b[0m\u001b[0;34m(\u001b[0m\u001b[0mF\u001b[0m\u001b[0;34m,\u001b[0m \u001b[0mwrapper\u001b[0m\u001b[0;34m)\u001b[0m\u001b[0;34m\u001b[0m\u001b[0;34m\u001b[0m\u001b[0m\n",
            "\u001b[0;32m/usr/local/lib/python3.10/dist-packages/pandas/util/_decorators.py\u001b[0m in \u001b[0;36mwrapper\u001b[0;34m(*args, **kwargs)\u001b[0m\n\u001b[1;32m    329\u001b[0m                     \u001b[0mstacklevel\u001b[0m\u001b[0;34m=\u001b[0m\u001b[0mfind_stack_level\u001b[0m\u001b[0;34m(\u001b[0m\u001b[0;34m)\u001b[0m\u001b[0;34m,\u001b[0m\u001b[0;34m\u001b[0m\u001b[0;34m\u001b[0m\u001b[0m\n\u001b[1;32m    330\u001b[0m                 )\n\u001b[0;32m--> 331\u001b[0;31m             \u001b[0;32mreturn\u001b[0m \u001b[0mfunc\u001b[0m\u001b[0;34m(\u001b[0m\u001b[0;34m*\u001b[0m\u001b[0margs\u001b[0m\u001b[0;34m,\u001b[0m \u001b[0;34m**\u001b[0m\u001b[0mkwargs\u001b[0m\u001b[0;34m)\u001b[0m\u001b[0;34m\u001b[0m\u001b[0;34m\u001b[0m\u001b[0m\n\u001b[0m\u001b[1;32m    332\u001b[0m \u001b[0;34m\u001b[0m\u001b[0m\n\u001b[1;32m    333\u001b[0m         \u001b[0;31m# error: \"Callable[[VarArg(Any), KwArg(Any)], Any]\" has no\u001b[0m\u001b[0;34m\u001b[0m\u001b[0;34m\u001b[0m\u001b[0m\n",
            "\u001b[0;32m/usr/local/lib/python3.10/dist-packages/pandas/io/parsers/readers.py\u001b[0m in \u001b[0;36mread_csv\u001b[0;34m(filepath_or_buffer, sep, delimiter, header, names, index_col, usecols, squeeze, prefix, mangle_dupe_cols, dtype, engine, converters, true_values, false_values, skipinitialspace, skiprows, skipfooter, nrows, na_values, keep_default_na, na_filter, verbose, skip_blank_lines, parse_dates, infer_datetime_format, keep_date_col, date_parser, dayfirst, cache_dates, iterator, chunksize, compression, thousands, decimal, lineterminator, quotechar, quoting, doublequote, escapechar, comment, encoding, encoding_errors, dialect, error_bad_lines, warn_bad_lines, on_bad_lines, delim_whitespace, low_memory, memory_map, float_precision, storage_options)\u001b[0m\n\u001b[1;32m    948\u001b[0m     \u001b[0mkwds\u001b[0m\u001b[0;34m.\u001b[0m\u001b[0mupdate\u001b[0m\u001b[0;34m(\u001b[0m\u001b[0mkwds_defaults\u001b[0m\u001b[0;34m)\u001b[0m\u001b[0;34m\u001b[0m\u001b[0;34m\u001b[0m\u001b[0m\n\u001b[1;32m    949\u001b[0m \u001b[0;34m\u001b[0m\u001b[0m\n\u001b[0;32m--> 950\u001b[0;31m     \u001b[0;32mreturn\u001b[0m \u001b[0m_read\u001b[0m\u001b[0;34m(\u001b[0m\u001b[0mfilepath_or_buffer\u001b[0m\u001b[0;34m,\u001b[0m \u001b[0mkwds\u001b[0m\u001b[0;34m)\u001b[0m\u001b[0;34m\u001b[0m\u001b[0;34m\u001b[0m\u001b[0m\n\u001b[0m\u001b[1;32m    951\u001b[0m \u001b[0;34m\u001b[0m\u001b[0m\n\u001b[1;32m    952\u001b[0m \u001b[0;34m\u001b[0m\u001b[0m\n",
            "\u001b[0;32m/usr/local/lib/python3.10/dist-packages/pandas/io/parsers/readers.py\u001b[0m in \u001b[0;36m_read\u001b[0;34m(filepath_or_buffer, kwds)\u001b[0m\n\u001b[1;32m    603\u001b[0m \u001b[0;34m\u001b[0m\u001b[0m\n\u001b[1;32m    604\u001b[0m     \u001b[0;31m# Create the parser.\u001b[0m\u001b[0;34m\u001b[0m\u001b[0;34m\u001b[0m\u001b[0m\n\u001b[0;32m--> 605\u001b[0;31m     \u001b[0mparser\u001b[0m \u001b[0;34m=\u001b[0m \u001b[0mTextFileReader\u001b[0m\u001b[0;34m(\u001b[0m\u001b[0mfilepath_or_buffer\u001b[0m\u001b[0;34m,\u001b[0m \u001b[0;34m**\u001b[0m\u001b[0mkwds\u001b[0m\u001b[0;34m)\u001b[0m\u001b[0;34m\u001b[0m\u001b[0;34m\u001b[0m\u001b[0m\n\u001b[0m\u001b[1;32m    606\u001b[0m \u001b[0;34m\u001b[0m\u001b[0m\n\u001b[1;32m    607\u001b[0m     \u001b[0;32mif\u001b[0m \u001b[0mchunksize\u001b[0m \u001b[0;32mor\u001b[0m \u001b[0miterator\u001b[0m\u001b[0;34m:\u001b[0m\u001b[0;34m\u001b[0m\u001b[0;34m\u001b[0m\u001b[0m\n",
            "\u001b[0;32m/usr/local/lib/python3.10/dist-packages/pandas/io/parsers/readers.py\u001b[0m in \u001b[0;36m__init__\u001b[0;34m(self, f, engine, **kwds)\u001b[0m\n\u001b[1;32m   1440\u001b[0m \u001b[0;34m\u001b[0m\u001b[0m\n\u001b[1;32m   1441\u001b[0m         \u001b[0mself\u001b[0m\u001b[0;34m.\u001b[0m\u001b[0mhandles\u001b[0m\u001b[0;34m:\u001b[0m \u001b[0mIOHandles\u001b[0m \u001b[0;34m|\u001b[0m \u001b[0;32mNone\u001b[0m \u001b[0;34m=\u001b[0m \u001b[0;32mNone\u001b[0m\u001b[0;34m\u001b[0m\u001b[0;34m\u001b[0m\u001b[0m\n\u001b[0;32m-> 1442\u001b[0;31m         \u001b[0mself\u001b[0m\u001b[0;34m.\u001b[0m\u001b[0m_engine\u001b[0m \u001b[0;34m=\u001b[0m \u001b[0mself\u001b[0m\u001b[0;34m.\u001b[0m\u001b[0m_make_engine\u001b[0m\u001b[0;34m(\u001b[0m\u001b[0mf\u001b[0m\u001b[0;34m,\u001b[0m \u001b[0mself\u001b[0m\u001b[0;34m.\u001b[0m\u001b[0mengine\u001b[0m\u001b[0;34m)\u001b[0m\u001b[0;34m\u001b[0m\u001b[0;34m\u001b[0m\u001b[0m\n\u001b[0m\u001b[1;32m   1443\u001b[0m \u001b[0;34m\u001b[0m\u001b[0m\n\u001b[1;32m   1444\u001b[0m     \u001b[0;32mdef\u001b[0m \u001b[0mclose\u001b[0m\u001b[0;34m(\u001b[0m\u001b[0mself\u001b[0m\u001b[0;34m)\u001b[0m \u001b[0;34m->\u001b[0m \u001b[0;32mNone\u001b[0m\u001b[0;34m:\u001b[0m\u001b[0;34m\u001b[0m\u001b[0;34m\u001b[0m\u001b[0m\n",
            "\u001b[0;32m/usr/local/lib/python3.10/dist-packages/pandas/io/parsers/readers.py\u001b[0m in \u001b[0;36m_make_engine\u001b[0;34m(self, f, engine)\u001b[0m\n\u001b[1;32m   1733\u001b[0m                 \u001b[0;32mif\u001b[0m \u001b[0;34m\"b\"\u001b[0m \u001b[0;32mnot\u001b[0m \u001b[0;32min\u001b[0m \u001b[0mmode\u001b[0m\u001b[0;34m:\u001b[0m\u001b[0;34m\u001b[0m\u001b[0;34m\u001b[0m\u001b[0m\n\u001b[1;32m   1734\u001b[0m                     \u001b[0mmode\u001b[0m \u001b[0;34m+=\u001b[0m \u001b[0;34m\"b\"\u001b[0m\u001b[0;34m\u001b[0m\u001b[0;34m\u001b[0m\u001b[0m\n\u001b[0;32m-> 1735\u001b[0;31m             self.handles = get_handle(\n\u001b[0m\u001b[1;32m   1736\u001b[0m                 \u001b[0mf\u001b[0m\u001b[0;34m,\u001b[0m\u001b[0;34m\u001b[0m\u001b[0;34m\u001b[0m\u001b[0m\n\u001b[1;32m   1737\u001b[0m                 \u001b[0mmode\u001b[0m\u001b[0;34m,\u001b[0m\u001b[0;34m\u001b[0m\u001b[0;34m\u001b[0m\u001b[0m\n",
            "\u001b[0;32m/usr/local/lib/python3.10/dist-packages/pandas/io/common.py\u001b[0m in \u001b[0;36mget_handle\u001b[0;34m(path_or_buf, mode, encoding, compression, memory_map, is_text, errors, storage_options)\u001b[0m\n\u001b[1;32m    854\u001b[0m         \u001b[0;32mif\u001b[0m \u001b[0mioargs\u001b[0m\u001b[0;34m.\u001b[0m\u001b[0mencoding\u001b[0m \u001b[0;32mand\u001b[0m \u001b[0;34m\"b\"\u001b[0m \u001b[0;32mnot\u001b[0m \u001b[0;32min\u001b[0m \u001b[0mioargs\u001b[0m\u001b[0;34m.\u001b[0m\u001b[0mmode\u001b[0m\u001b[0;34m:\u001b[0m\u001b[0;34m\u001b[0m\u001b[0;34m\u001b[0m\u001b[0m\n\u001b[1;32m    855\u001b[0m             \u001b[0;31m# Encoding\u001b[0m\u001b[0;34m\u001b[0m\u001b[0;34m\u001b[0m\u001b[0m\n\u001b[0;32m--> 856\u001b[0;31m             handle = open(\n\u001b[0m\u001b[1;32m    857\u001b[0m                 \u001b[0mhandle\u001b[0m\u001b[0;34m,\u001b[0m\u001b[0;34m\u001b[0m\u001b[0;34m\u001b[0m\u001b[0m\n\u001b[1;32m    858\u001b[0m                 \u001b[0mioargs\u001b[0m\u001b[0;34m.\u001b[0m\u001b[0mmode\u001b[0m\u001b[0;34m,\u001b[0m\u001b[0;34m\u001b[0m\u001b[0;34m\u001b[0m\u001b[0m\n",
            "\u001b[0;31mFileNotFoundError\u001b[0m: [Errno 2] No such file or directory: 'exemplo.csv'"
          ]
        }
      ]
    },
    {
      "cell_type": "markdown",
      "source": [
        "Carregando um CSV, agora utilizando duas colunas com índice."
      ],
      "metadata": {
        "id": "l1FNQWpgc_vr"
      }
    },
    {
      "cell_type": "code",
      "source": [
        "df = pd.read_csv('exemplo.csv',\n",
        "                 index_col=['Primeiro Nome', 'Último Nome'], \n",
        "                 names=['ID', 'Primeiro Nome', 'Último Nome', 'Idade', 'Nota Pré-teste', 'Nota Pós-teste'])\n",
        "df"
      ],
      "metadata": {
        "colab": {
          "base_uri": "https://localhost:8080/",
          "height": 363
        },
        "id": "3-fCDz7-dAoZ",
        "outputId": "fc5d0422-43fe-4b9f-9a22-a168f9d4abe5"
      },
      "execution_count": 27,
      "outputs": [
        {
          "output_type": "error",
          "ename": "FileNotFoundError",
          "evalue": "ignored",
          "traceback": [
            "\u001b[0;31m---------------------------------------------------------------------------\u001b[0m",
            "\u001b[0;31mFileNotFoundError\u001b[0m                         Traceback (most recent call last)",
            "\u001b[0;32m<ipython-input-27-14c95a280874>\u001b[0m in \u001b[0;36m<cell line: 1>\u001b[0;34m()\u001b[0m\n\u001b[0;32m----> 1\u001b[0;31m df = pd.read_csv('exemplo.csv',\n\u001b[0m\u001b[1;32m      2\u001b[0m                  \u001b[0mindex_col\u001b[0m\u001b[0;34m=\u001b[0m\u001b[0;34m[\u001b[0m\u001b[0;34m'Primeiro Nome'\u001b[0m\u001b[0;34m,\u001b[0m \u001b[0;34m'Último Nome'\u001b[0m\u001b[0;34m]\u001b[0m\u001b[0;34m,\u001b[0m\u001b[0;34m\u001b[0m\u001b[0;34m\u001b[0m\u001b[0m\n\u001b[1;32m      3\u001b[0m                  names=['ID', 'Primeiro Nome', 'Último Nome', 'Idade', 'Nota Pré-teste', 'Nota Pós-teste'])\n\u001b[1;32m      4\u001b[0m \u001b[0mdf\u001b[0m\u001b[0;34m\u001b[0m\u001b[0;34m\u001b[0m\u001b[0m\n",
            "\u001b[0;32m/usr/local/lib/python3.10/dist-packages/pandas/util/_decorators.py\u001b[0m in \u001b[0;36mwrapper\u001b[0;34m(*args, **kwargs)\u001b[0m\n\u001b[1;32m    209\u001b[0m                 \u001b[0;32melse\u001b[0m\u001b[0;34m:\u001b[0m\u001b[0;34m\u001b[0m\u001b[0;34m\u001b[0m\u001b[0m\n\u001b[1;32m    210\u001b[0m                     \u001b[0mkwargs\u001b[0m\u001b[0;34m[\u001b[0m\u001b[0mnew_arg_name\u001b[0m\u001b[0;34m]\u001b[0m \u001b[0;34m=\u001b[0m \u001b[0mnew_arg_value\u001b[0m\u001b[0;34m\u001b[0m\u001b[0;34m\u001b[0m\u001b[0m\n\u001b[0;32m--> 211\u001b[0;31m             \u001b[0;32mreturn\u001b[0m \u001b[0mfunc\u001b[0m\u001b[0;34m(\u001b[0m\u001b[0;34m*\u001b[0m\u001b[0margs\u001b[0m\u001b[0;34m,\u001b[0m \u001b[0;34m**\u001b[0m\u001b[0mkwargs\u001b[0m\u001b[0;34m)\u001b[0m\u001b[0;34m\u001b[0m\u001b[0;34m\u001b[0m\u001b[0m\n\u001b[0m\u001b[1;32m    212\u001b[0m \u001b[0;34m\u001b[0m\u001b[0m\n\u001b[1;32m    213\u001b[0m         \u001b[0;32mreturn\u001b[0m \u001b[0mcast\u001b[0m\u001b[0;34m(\u001b[0m\u001b[0mF\u001b[0m\u001b[0;34m,\u001b[0m \u001b[0mwrapper\u001b[0m\u001b[0;34m)\u001b[0m\u001b[0;34m\u001b[0m\u001b[0;34m\u001b[0m\u001b[0m\n",
            "\u001b[0;32m/usr/local/lib/python3.10/dist-packages/pandas/util/_decorators.py\u001b[0m in \u001b[0;36mwrapper\u001b[0;34m(*args, **kwargs)\u001b[0m\n\u001b[1;32m    329\u001b[0m                     \u001b[0mstacklevel\u001b[0m\u001b[0;34m=\u001b[0m\u001b[0mfind_stack_level\u001b[0m\u001b[0;34m(\u001b[0m\u001b[0;34m)\u001b[0m\u001b[0;34m,\u001b[0m\u001b[0;34m\u001b[0m\u001b[0;34m\u001b[0m\u001b[0m\n\u001b[1;32m    330\u001b[0m                 )\n\u001b[0;32m--> 331\u001b[0;31m             \u001b[0;32mreturn\u001b[0m \u001b[0mfunc\u001b[0m\u001b[0;34m(\u001b[0m\u001b[0;34m*\u001b[0m\u001b[0margs\u001b[0m\u001b[0;34m,\u001b[0m \u001b[0;34m**\u001b[0m\u001b[0mkwargs\u001b[0m\u001b[0;34m)\u001b[0m\u001b[0;34m\u001b[0m\u001b[0;34m\u001b[0m\u001b[0m\n\u001b[0m\u001b[1;32m    332\u001b[0m \u001b[0;34m\u001b[0m\u001b[0m\n\u001b[1;32m    333\u001b[0m         \u001b[0;31m# error: \"Callable[[VarArg(Any), KwArg(Any)], Any]\" has no\u001b[0m\u001b[0;34m\u001b[0m\u001b[0;34m\u001b[0m\u001b[0m\n",
            "\u001b[0;32m/usr/local/lib/python3.10/dist-packages/pandas/io/parsers/readers.py\u001b[0m in \u001b[0;36mread_csv\u001b[0;34m(filepath_or_buffer, sep, delimiter, header, names, index_col, usecols, squeeze, prefix, mangle_dupe_cols, dtype, engine, converters, true_values, false_values, skipinitialspace, skiprows, skipfooter, nrows, na_values, keep_default_na, na_filter, verbose, skip_blank_lines, parse_dates, infer_datetime_format, keep_date_col, date_parser, dayfirst, cache_dates, iterator, chunksize, compression, thousands, decimal, lineterminator, quotechar, quoting, doublequote, escapechar, comment, encoding, encoding_errors, dialect, error_bad_lines, warn_bad_lines, on_bad_lines, delim_whitespace, low_memory, memory_map, float_precision, storage_options)\u001b[0m\n\u001b[1;32m    948\u001b[0m     \u001b[0mkwds\u001b[0m\u001b[0;34m.\u001b[0m\u001b[0mupdate\u001b[0m\u001b[0;34m(\u001b[0m\u001b[0mkwds_defaults\u001b[0m\u001b[0;34m)\u001b[0m\u001b[0;34m\u001b[0m\u001b[0;34m\u001b[0m\u001b[0m\n\u001b[1;32m    949\u001b[0m \u001b[0;34m\u001b[0m\u001b[0m\n\u001b[0;32m--> 950\u001b[0;31m     \u001b[0;32mreturn\u001b[0m \u001b[0m_read\u001b[0m\u001b[0;34m(\u001b[0m\u001b[0mfilepath_or_buffer\u001b[0m\u001b[0;34m,\u001b[0m \u001b[0mkwds\u001b[0m\u001b[0;34m)\u001b[0m\u001b[0;34m\u001b[0m\u001b[0;34m\u001b[0m\u001b[0m\n\u001b[0m\u001b[1;32m    951\u001b[0m \u001b[0;34m\u001b[0m\u001b[0m\n\u001b[1;32m    952\u001b[0m \u001b[0;34m\u001b[0m\u001b[0m\n",
            "\u001b[0;32m/usr/local/lib/python3.10/dist-packages/pandas/io/parsers/readers.py\u001b[0m in \u001b[0;36m_read\u001b[0;34m(filepath_or_buffer, kwds)\u001b[0m\n\u001b[1;32m    603\u001b[0m \u001b[0;34m\u001b[0m\u001b[0m\n\u001b[1;32m    604\u001b[0m     \u001b[0;31m# Create the parser.\u001b[0m\u001b[0;34m\u001b[0m\u001b[0;34m\u001b[0m\u001b[0m\n\u001b[0;32m--> 605\u001b[0;31m     \u001b[0mparser\u001b[0m \u001b[0;34m=\u001b[0m \u001b[0mTextFileReader\u001b[0m\u001b[0;34m(\u001b[0m\u001b[0mfilepath_or_buffer\u001b[0m\u001b[0;34m,\u001b[0m \u001b[0;34m**\u001b[0m\u001b[0mkwds\u001b[0m\u001b[0;34m)\u001b[0m\u001b[0;34m\u001b[0m\u001b[0;34m\u001b[0m\u001b[0m\n\u001b[0m\u001b[1;32m    606\u001b[0m \u001b[0;34m\u001b[0m\u001b[0m\n\u001b[1;32m    607\u001b[0m     \u001b[0;32mif\u001b[0m \u001b[0mchunksize\u001b[0m \u001b[0;32mor\u001b[0m \u001b[0miterator\u001b[0m\u001b[0;34m:\u001b[0m\u001b[0;34m\u001b[0m\u001b[0;34m\u001b[0m\u001b[0m\n",
            "\u001b[0;32m/usr/local/lib/python3.10/dist-packages/pandas/io/parsers/readers.py\u001b[0m in \u001b[0;36m__init__\u001b[0;34m(self, f, engine, **kwds)\u001b[0m\n\u001b[1;32m   1440\u001b[0m \u001b[0;34m\u001b[0m\u001b[0m\n\u001b[1;32m   1441\u001b[0m         \u001b[0mself\u001b[0m\u001b[0;34m.\u001b[0m\u001b[0mhandles\u001b[0m\u001b[0;34m:\u001b[0m \u001b[0mIOHandles\u001b[0m \u001b[0;34m|\u001b[0m \u001b[0;32mNone\u001b[0m \u001b[0;34m=\u001b[0m \u001b[0;32mNone\u001b[0m\u001b[0;34m\u001b[0m\u001b[0;34m\u001b[0m\u001b[0m\n\u001b[0;32m-> 1442\u001b[0;31m         \u001b[0mself\u001b[0m\u001b[0;34m.\u001b[0m\u001b[0m_engine\u001b[0m \u001b[0;34m=\u001b[0m \u001b[0mself\u001b[0m\u001b[0;34m.\u001b[0m\u001b[0m_make_engine\u001b[0m\u001b[0;34m(\u001b[0m\u001b[0mf\u001b[0m\u001b[0;34m,\u001b[0m \u001b[0mself\u001b[0m\u001b[0;34m.\u001b[0m\u001b[0mengine\u001b[0m\u001b[0;34m)\u001b[0m\u001b[0;34m\u001b[0m\u001b[0;34m\u001b[0m\u001b[0m\n\u001b[0m\u001b[1;32m   1443\u001b[0m \u001b[0;34m\u001b[0m\u001b[0m\n\u001b[1;32m   1444\u001b[0m     \u001b[0;32mdef\u001b[0m \u001b[0mclose\u001b[0m\u001b[0;34m(\u001b[0m\u001b[0mself\u001b[0m\u001b[0;34m)\u001b[0m \u001b[0;34m->\u001b[0m \u001b[0;32mNone\u001b[0m\u001b[0;34m:\u001b[0m\u001b[0;34m\u001b[0m\u001b[0;34m\u001b[0m\u001b[0m\n",
            "\u001b[0;32m/usr/local/lib/python3.10/dist-packages/pandas/io/parsers/readers.py\u001b[0m in \u001b[0;36m_make_engine\u001b[0;34m(self, f, engine)\u001b[0m\n\u001b[1;32m   1733\u001b[0m                 \u001b[0;32mif\u001b[0m \u001b[0;34m\"b\"\u001b[0m \u001b[0;32mnot\u001b[0m \u001b[0;32min\u001b[0m \u001b[0mmode\u001b[0m\u001b[0;34m:\u001b[0m\u001b[0;34m\u001b[0m\u001b[0;34m\u001b[0m\u001b[0m\n\u001b[1;32m   1734\u001b[0m                     \u001b[0mmode\u001b[0m \u001b[0;34m+=\u001b[0m \u001b[0;34m\"b\"\u001b[0m\u001b[0;34m\u001b[0m\u001b[0;34m\u001b[0m\u001b[0m\n\u001b[0;32m-> 1735\u001b[0;31m             self.handles = get_handle(\n\u001b[0m\u001b[1;32m   1736\u001b[0m                 \u001b[0mf\u001b[0m\u001b[0;34m,\u001b[0m\u001b[0;34m\u001b[0m\u001b[0;34m\u001b[0m\u001b[0m\n\u001b[1;32m   1737\u001b[0m                 \u001b[0mmode\u001b[0m\u001b[0;34m,\u001b[0m\u001b[0;34m\u001b[0m\u001b[0;34m\u001b[0m\u001b[0m\n",
            "\u001b[0;32m/usr/local/lib/python3.10/dist-packages/pandas/io/common.py\u001b[0m in \u001b[0;36mget_handle\u001b[0;34m(path_or_buf, mode, encoding, compression, memory_map, is_text, errors, storage_options)\u001b[0m\n\u001b[1;32m    854\u001b[0m         \u001b[0;32mif\u001b[0m \u001b[0mioargs\u001b[0m\u001b[0;34m.\u001b[0m\u001b[0mencoding\u001b[0m \u001b[0;32mand\u001b[0m \u001b[0;34m\"b\"\u001b[0m \u001b[0;32mnot\u001b[0m \u001b[0;32min\u001b[0m \u001b[0mioargs\u001b[0m\u001b[0;34m.\u001b[0m\u001b[0mmode\u001b[0m\u001b[0;34m:\u001b[0m\u001b[0;34m\u001b[0m\u001b[0;34m\u001b[0m\u001b[0m\n\u001b[1;32m    855\u001b[0m             \u001b[0;31m# Encoding\u001b[0m\u001b[0;34m\u001b[0m\u001b[0;34m\u001b[0m\u001b[0m\n\u001b[0;32m--> 856\u001b[0;31m             handle = open(\n\u001b[0m\u001b[1;32m    857\u001b[0m                 \u001b[0mhandle\u001b[0m\u001b[0;34m,\u001b[0m\u001b[0;34m\u001b[0m\u001b[0;34m\u001b[0m\u001b[0m\n\u001b[1;32m    858\u001b[0m                 \u001b[0mioargs\u001b[0m\u001b[0;34m.\u001b[0m\u001b[0mmode\u001b[0m\u001b[0;34m,\u001b[0m\u001b[0;34m\u001b[0m\u001b[0;34m\u001b[0m\u001b[0m\n",
            "\u001b[0;31mFileNotFoundError\u001b[0m: [Errno 2] No such file or directory: 'exemplo.csv'"
          ]
        }
      ]
    },
    {
      "cell_type": "markdown",
      "source": [
        "Carregando um CSV e especificando o '.' como indicador de valor ausente. "
      ],
      "metadata": {
        "id": "qHFiXjk1dEBC"
      }
    },
    {
      "cell_type": "code",
      "source": [
        "df = pd.read_csv('exemplo.csv', na_values=['.'])\n",
        "df"
      ],
      "metadata": {
        "colab": {
          "base_uri": "https://localhost:8080/",
          "height": 328
        },
        "id": "BcK1mt51dFIg",
        "outputId": "b6685f96-51c1-4f03-bf93-959c2c3594ec"
      },
      "execution_count": 28,
      "outputs": [
        {
          "output_type": "error",
          "ename": "FileNotFoundError",
          "evalue": "ignored",
          "traceback": [
            "\u001b[0;31m---------------------------------------------------------------------------\u001b[0m",
            "\u001b[0;31mFileNotFoundError\u001b[0m                         Traceback (most recent call last)",
            "\u001b[0;32m<ipython-input-28-a7fc3d8191b7>\u001b[0m in \u001b[0;36m<cell line: 1>\u001b[0;34m()\u001b[0m\n\u001b[0;32m----> 1\u001b[0;31m \u001b[0mdf\u001b[0m \u001b[0;34m=\u001b[0m \u001b[0mpd\u001b[0m\u001b[0;34m.\u001b[0m\u001b[0mread_csv\u001b[0m\u001b[0;34m(\u001b[0m\u001b[0;34m'exemplo.csv'\u001b[0m\u001b[0;34m,\u001b[0m \u001b[0mna_values\u001b[0m\u001b[0;34m=\u001b[0m\u001b[0;34m[\u001b[0m\u001b[0;34m'.'\u001b[0m\u001b[0;34m]\u001b[0m\u001b[0;34m)\u001b[0m\u001b[0;34m\u001b[0m\u001b[0;34m\u001b[0m\u001b[0m\n\u001b[0m\u001b[1;32m      2\u001b[0m \u001b[0mdf\u001b[0m\u001b[0;34m\u001b[0m\u001b[0;34m\u001b[0m\u001b[0m\n",
            "\u001b[0;32m/usr/local/lib/python3.10/dist-packages/pandas/util/_decorators.py\u001b[0m in \u001b[0;36mwrapper\u001b[0;34m(*args, **kwargs)\u001b[0m\n\u001b[1;32m    209\u001b[0m                 \u001b[0;32melse\u001b[0m\u001b[0;34m:\u001b[0m\u001b[0;34m\u001b[0m\u001b[0;34m\u001b[0m\u001b[0m\n\u001b[1;32m    210\u001b[0m                     \u001b[0mkwargs\u001b[0m\u001b[0;34m[\u001b[0m\u001b[0mnew_arg_name\u001b[0m\u001b[0;34m]\u001b[0m \u001b[0;34m=\u001b[0m \u001b[0mnew_arg_value\u001b[0m\u001b[0;34m\u001b[0m\u001b[0;34m\u001b[0m\u001b[0m\n\u001b[0;32m--> 211\u001b[0;31m             \u001b[0;32mreturn\u001b[0m \u001b[0mfunc\u001b[0m\u001b[0;34m(\u001b[0m\u001b[0;34m*\u001b[0m\u001b[0margs\u001b[0m\u001b[0;34m,\u001b[0m \u001b[0;34m**\u001b[0m\u001b[0mkwargs\u001b[0m\u001b[0;34m)\u001b[0m\u001b[0;34m\u001b[0m\u001b[0;34m\u001b[0m\u001b[0m\n\u001b[0m\u001b[1;32m    212\u001b[0m \u001b[0;34m\u001b[0m\u001b[0m\n\u001b[1;32m    213\u001b[0m         \u001b[0;32mreturn\u001b[0m \u001b[0mcast\u001b[0m\u001b[0;34m(\u001b[0m\u001b[0mF\u001b[0m\u001b[0;34m,\u001b[0m \u001b[0mwrapper\u001b[0m\u001b[0;34m)\u001b[0m\u001b[0;34m\u001b[0m\u001b[0;34m\u001b[0m\u001b[0m\n",
            "\u001b[0;32m/usr/local/lib/python3.10/dist-packages/pandas/util/_decorators.py\u001b[0m in \u001b[0;36mwrapper\u001b[0;34m(*args, **kwargs)\u001b[0m\n\u001b[1;32m    329\u001b[0m                     \u001b[0mstacklevel\u001b[0m\u001b[0;34m=\u001b[0m\u001b[0mfind_stack_level\u001b[0m\u001b[0;34m(\u001b[0m\u001b[0;34m)\u001b[0m\u001b[0;34m,\u001b[0m\u001b[0;34m\u001b[0m\u001b[0;34m\u001b[0m\u001b[0m\n\u001b[1;32m    330\u001b[0m                 )\n\u001b[0;32m--> 331\u001b[0;31m             \u001b[0;32mreturn\u001b[0m \u001b[0mfunc\u001b[0m\u001b[0;34m(\u001b[0m\u001b[0;34m*\u001b[0m\u001b[0margs\u001b[0m\u001b[0;34m,\u001b[0m \u001b[0;34m**\u001b[0m\u001b[0mkwargs\u001b[0m\u001b[0;34m)\u001b[0m\u001b[0;34m\u001b[0m\u001b[0;34m\u001b[0m\u001b[0m\n\u001b[0m\u001b[1;32m    332\u001b[0m \u001b[0;34m\u001b[0m\u001b[0m\n\u001b[1;32m    333\u001b[0m         \u001b[0;31m# error: \"Callable[[VarArg(Any), KwArg(Any)], Any]\" has no\u001b[0m\u001b[0;34m\u001b[0m\u001b[0;34m\u001b[0m\u001b[0m\n",
            "\u001b[0;32m/usr/local/lib/python3.10/dist-packages/pandas/io/parsers/readers.py\u001b[0m in \u001b[0;36mread_csv\u001b[0;34m(filepath_or_buffer, sep, delimiter, header, names, index_col, usecols, squeeze, prefix, mangle_dupe_cols, dtype, engine, converters, true_values, false_values, skipinitialspace, skiprows, skipfooter, nrows, na_values, keep_default_na, na_filter, verbose, skip_blank_lines, parse_dates, infer_datetime_format, keep_date_col, date_parser, dayfirst, cache_dates, iterator, chunksize, compression, thousands, decimal, lineterminator, quotechar, quoting, doublequote, escapechar, comment, encoding, encoding_errors, dialect, error_bad_lines, warn_bad_lines, on_bad_lines, delim_whitespace, low_memory, memory_map, float_precision, storage_options)\u001b[0m\n\u001b[1;32m    948\u001b[0m     \u001b[0mkwds\u001b[0m\u001b[0;34m.\u001b[0m\u001b[0mupdate\u001b[0m\u001b[0;34m(\u001b[0m\u001b[0mkwds_defaults\u001b[0m\u001b[0;34m)\u001b[0m\u001b[0;34m\u001b[0m\u001b[0;34m\u001b[0m\u001b[0m\n\u001b[1;32m    949\u001b[0m \u001b[0;34m\u001b[0m\u001b[0m\n\u001b[0;32m--> 950\u001b[0;31m     \u001b[0;32mreturn\u001b[0m \u001b[0m_read\u001b[0m\u001b[0;34m(\u001b[0m\u001b[0mfilepath_or_buffer\u001b[0m\u001b[0;34m,\u001b[0m \u001b[0mkwds\u001b[0m\u001b[0;34m)\u001b[0m\u001b[0;34m\u001b[0m\u001b[0;34m\u001b[0m\u001b[0m\n\u001b[0m\u001b[1;32m    951\u001b[0m \u001b[0;34m\u001b[0m\u001b[0m\n\u001b[1;32m    952\u001b[0m \u001b[0;34m\u001b[0m\u001b[0m\n",
            "\u001b[0;32m/usr/local/lib/python3.10/dist-packages/pandas/io/parsers/readers.py\u001b[0m in \u001b[0;36m_read\u001b[0;34m(filepath_or_buffer, kwds)\u001b[0m\n\u001b[1;32m    603\u001b[0m \u001b[0;34m\u001b[0m\u001b[0m\n\u001b[1;32m    604\u001b[0m     \u001b[0;31m# Create the parser.\u001b[0m\u001b[0;34m\u001b[0m\u001b[0;34m\u001b[0m\u001b[0m\n\u001b[0;32m--> 605\u001b[0;31m     \u001b[0mparser\u001b[0m \u001b[0;34m=\u001b[0m \u001b[0mTextFileReader\u001b[0m\u001b[0;34m(\u001b[0m\u001b[0mfilepath_or_buffer\u001b[0m\u001b[0;34m,\u001b[0m \u001b[0;34m**\u001b[0m\u001b[0mkwds\u001b[0m\u001b[0;34m)\u001b[0m\u001b[0;34m\u001b[0m\u001b[0;34m\u001b[0m\u001b[0m\n\u001b[0m\u001b[1;32m    606\u001b[0m \u001b[0;34m\u001b[0m\u001b[0m\n\u001b[1;32m    607\u001b[0m     \u001b[0;32mif\u001b[0m \u001b[0mchunksize\u001b[0m \u001b[0;32mor\u001b[0m \u001b[0miterator\u001b[0m\u001b[0;34m:\u001b[0m\u001b[0;34m\u001b[0m\u001b[0;34m\u001b[0m\u001b[0m\n",
            "\u001b[0;32m/usr/local/lib/python3.10/dist-packages/pandas/io/parsers/readers.py\u001b[0m in \u001b[0;36m__init__\u001b[0;34m(self, f, engine, **kwds)\u001b[0m\n\u001b[1;32m   1440\u001b[0m \u001b[0;34m\u001b[0m\u001b[0m\n\u001b[1;32m   1441\u001b[0m         \u001b[0mself\u001b[0m\u001b[0;34m.\u001b[0m\u001b[0mhandles\u001b[0m\u001b[0;34m:\u001b[0m \u001b[0mIOHandles\u001b[0m \u001b[0;34m|\u001b[0m \u001b[0;32mNone\u001b[0m \u001b[0;34m=\u001b[0m \u001b[0;32mNone\u001b[0m\u001b[0;34m\u001b[0m\u001b[0;34m\u001b[0m\u001b[0m\n\u001b[0;32m-> 1442\u001b[0;31m         \u001b[0mself\u001b[0m\u001b[0;34m.\u001b[0m\u001b[0m_engine\u001b[0m \u001b[0;34m=\u001b[0m \u001b[0mself\u001b[0m\u001b[0;34m.\u001b[0m\u001b[0m_make_engine\u001b[0m\u001b[0;34m(\u001b[0m\u001b[0mf\u001b[0m\u001b[0;34m,\u001b[0m \u001b[0mself\u001b[0m\u001b[0;34m.\u001b[0m\u001b[0mengine\u001b[0m\u001b[0;34m)\u001b[0m\u001b[0;34m\u001b[0m\u001b[0;34m\u001b[0m\u001b[0m\n\u001b[0m\u001b[1;32m   1443\u001b[0m \u001b[0;34m\u001b[0m\u001b[0m\n\u001b[1;32m   1444\u001b[0m     \u001b[0;32mdef\u001b[0m \u001b[0mclose\u001b[0m\u001b[0;34m(\u001b[0m\u001b[0mself\u001b[0m\u001b[0;34m)\u001b[0m \u001b[0;34m->\u001b[0m \u001b[0;32mNone\u001b[0m\u001b[0;34m:\u001b[0m\u001b[0;34m\u001b[0m\u001b[0;34m\u001b[0m\u001b[0m\n",
            "\u001b[0;32m/usr/local/lib/python3.10/dist-packages/pandas/io/parsers/readers.py\u001b[0m in \u001b[0;36m_make_engine\u001b[0;34m(self, f, engine)\u001b[0m\n\u001b[1;32m   1733\u001b[0m                 \u001b[0;32mif\u001b[0m \u001b[0;34m\"b\"\u001b[0m \u001b[0;32mnot\u001b[0m \u001b[0;32min\u001b[0m \u001b[0mmode\u001b[0m\u001b[0;34m:\u001b[0m\u001b[0;34m\u001b[0m\u001b[0;34m\u001b[0m\u001b[0m\n\u001b[1;32m   1734\u001b[0m                     \u001b[0mmode\u001b[0m \u001b[0;34m+=\u001b[0m \u001b[0;34m\"b\"\u001b[0m\u001b[0;34m\u001b[0m\u001b[0;34m\u001b[0m\u001b[0m\n\u001b[0;32m-> 1735\u001b[0;31m             self.handles = get_handle(\n\u001b[0m\u001b[1;32m   1736\u001b[0m                 \u001b[0mf\u001b[0m\u001b[0;34m,\u001b[0m\u001b[0;34m\u001b[0m\u001b[0;34m\u001b[0m\u001b[0m\n\u001b[1;32m   1737\u001b[0m                 \u001b[0mmode\u001b[0m\u001b[0;34m,\u001b[0m\u001b[0;34m\u001b[0m\u001b[0;34m\u001b[0m\u001b[0m\n",
            "\u001b[0;32m/usr/local/lib/python3.10/dist-packages/pandas/io/common.py\u001b[0m in \u001b[0;36mget_handle\u001b[0;34m(path_or_buf, mode, encoding, compression, memory_map, is_text, errors, storage_options)\u001b[0m\n\u001b[1;32m    854\u001b[0m         \u001b[0;32mif\u001b[0m \u001b[0mioargs\u001b[0m\u001b[0;34m.\u001b[0m\u001b[0mencoding\u001b[0m \u001b[0;32mand\u001b[0m \u001b[0;34m\"b\"\u001b[0m \u001b[0;32mnot\u001b[0m \u001b[0;32min\u001b[0m \u001b[0mioargs\u001b[0m\u001b[0;34m.\u001b[0m\u001b[0mmode\u001b[0m\u001b[0;34m:\u001b[0m\u001b[0;34m\u001b[0m\u001b[0;34m\u001b[0m\u001b[0m\n\u001b[1;32m    855\u001b[0m             \u001b[0;31m# Encoding\u001b[0m\u001b[0;34m\u001b[0m\u001b[0;34m\u001b[0m\u001b[0m\n\u001b[0;32m--> 856\u001b[0;31m             handle = open(\n\u001b[0m\u001b[1;32m    857\u001b[0m                 \u001b[0mhandle\u001b[0m\u001b[0;34m,\u001b[0m\u001b[0;34m\u001b[0m\u001b[0;34m\u001b[0m\u001b[0m\n\u001b[1;32m    858\u001b[0m                 \u001b[0mioargs\u001b[0m\u001b[0;34m.\u001b[0m\u001b[0mmode\u001b[0m\u001b[0;34m,\u001b[0m\u001b[0;34m\u001b[0m\u001b[0;34m\u001b[0m\u001b[0m\n",
            "\u001b[0;31mFileNotFoundError\u001b[0m: [Errno 2] No such file or directory: 'exemplo.csv'"
          ]
        }
      ]
    },
    {
      "cell_type": "code",
      "source": [
        "pd.notnull(df) # Mapeia valores nulos em True e False."
      ],
      "metadata": {
        "colab": {
          "base_uri": "https://localhost:8080/",
          "height": 206
        },
        "id": "BM2xq3LfdHAQ",
        "outputId": "e8521c7d-18e0-400a-90fa-201f711410b0"
      },
      "execution_count": 29,
      "outputs": [
        {
          "output_type": "execute_result",
          "data": {
            "text/plain": [
              "   Estado   Ano  Relatórios\n",
              "0    True  True        True\n",
              "1    True  True        True\n",
              "2    True  True        True\n",
              "3    True  True        True\n",
              "4    True  True        True"
            ],
            "text/html": [
              "\n",
              "  <div id=\"df-1c680fba-06a2-42ec-9cd5-73b667c51578\">\n",
              "    <div class=\"colab-df-container\">\n",
              "      <div>\n",
              "<style scoped>\n",
              "    .dataframe tbody tr th:only-of-type {\n",
              "        vertical-align: middle;\n",
              "    }\n",
              "\n",
              "    .dataframe tbody tr th {\n",
              "        vertical-align: top;\n",
              "    }\n",
              "\n",
              "    .dataframe thead th {\n",
              "        text-align: right;\n",
              "    }\n",
              "</style>\n",
              "<table border=\"1\" class=\"dataframe\">\n",
              "  <thead>\n",
              "    <tr style=\"text-align: right;\">\n",
              "      <th></th>\n",
              "      <th>Estado</th>\n",
              "      <th>Ano</th>\n",
              "      <th>Relatórios</th>\n",
              "    </tr>\n",
              "  </thead>\n",
              "  <tbody>\n",
              "    <tr>\n",
              "      <th>0</th>\n",
              "      <td>True</td>\n",
              "      <td>True</td>\n",
              "      <td>True</td>\n",
              "    </tr>\n",
              "    <tr>\n",
              "      <th>1</th>\n",
              "      <td>True</td>\n",
              "      <td>True</td>\n",
              "      <td>True</td>\n",
              "    </tr>\n",
              "    <tr>\n",
              "      <th>2</th>\n",
              "      <td>True</td>\n",
              "      <td>True</td>\n",
              "      <td>True</td>\n",
              "    </tr>\n",
              "    <tr>\n",
              "      <th>3</th>\n",
              "      <td>True</td>\n",
              "      <td>True</td>\n",
              "      <td>True</td>\n",
              "    </tr>\n",
              "    <tr>\n",
              "      <th>4</th>\n",
              "      <td>True</td>\n",
              "      <td>True</td>\n",
              "      <td>True</td>\n",
              "    </tr>\n",
              "  </tbody>\n",
              "</table>\n",
              "</div>\n",
              "      <button class=\"colab-df-convert\" onclick=\"convertToInteractive('df-1c680fba-06a2-42ec-9cd5-73b667c51578')\"\n",
              "              title=\"Convert this dataframe to an interactive table.\"\n",
              "              style=\"display:none;\">\n",
              "        \n",
              "  <svg xmlns=\"http://www.w3.org/2000/svg\" height=\"24px\"viewBox=\"0 0 24 24\"\n",
              "       width=\"24px\">\n",
              "    <path d=\"M0 0h24v24H0V0z\" fill=\"none\"/>\n",
              "    <path d=\"M18.56 5.44l.94 2.06.94-2.06 2.06-.94-2.06-.94-.94-2.06-.94 2.06-2.06.94zm-11 1L8.5 8.5l.94-2.06 2.06-.94-2.06-.94L8.5 2.5l-.94 2.06-2.06.94zm10 10l.94 2.06.94-2.06 2.06-.94-2.06-.94-.94-2.06-.94 2.06-2.06.94z\"/><path d=\"M17.41 7.96l-1.37-1.37c-.4-.4-.92-.59-1.43-.59-.52 0-1.04.2-1.43.59L10.3 9.45l-7.72 7.72c-.78.78-.78 2.05 0 2.83L4 21.41c.39.39.9.59 1.41.59.51 0 1.02-.2 1.41-.59l7.78-7.78 2.81-2.81c.8-.78.8-2.07 0-2.86zM5.41 20L4 18.59l7.72-7.72 1.47 1.35L5.41 20z\"/>\n",
              "  </svg>\n",
              "      </button>\n",
              "      \n",
              "  <style>\n",
              "    .colab-df-container {\n",
              "      display:flex;\n",
              "      flex-wrap:wrap;\n",
              "      gap: 12px;\n",
              "    }\n",
              "\n",
              "    .colab-df-convert {\n",
              "      background-color: #E8F0FE;\n",
              "      border: none;\n",
              "      border-radius: 50%;\n",
              "      cursor: pointer;\n",
              "      display: none;\n",
              "      fill: #1967D2;\n",
              "      height: 32px;\n",
              "      padding: 0 0 0 0;\n",
              "      width: 32px;\n",
              "    }\n",
              "\n",
              "    .colab-df-convert:hover {\n",
              "      background-color: #E2EBFA;\n",
              "      box-shadow: 0px 1px 2px rgba(60, 64, 67, 0.3), 0px 1px 3px 1px rgba(60, 64, 67, 0.15);\n",
              "      fill: #174EA6;\n",
              "    }\n",
              "\n",
              "    [theme=dark] .colab-df-convert {\n",
              "      background-color: #3B4455;\n",
              "      fill: #D2E3FC;\n",
              "    }\n",
              "\n",
              "    [theme=dark] .colab-df-convert:hover {\n",
              "      background-color: #434B5C;\n",
              "      box-shadow: 0px 1px 3px 1px rgba(0, 0, 0, 0.15);\n",
              "      filter: drop-shadow(0px 1px 2px rgba(0, 0, 0, 0.3));\n",
              "      fill: #FFFFFF;\n",
              "    }\n",
              "  </style>\n",
              "\n",
              "      <script>\n",
              "        const buttonEl =\n",
              "          document.querySelector('#df-1c680fba-06a2-42ec-9cd5-73b667c51578 button.colab-df-convert');\n",
              "        buttonEl.style.display =\n",
              "          google.colab.kernel.accessAllowed ? 'block' : 'none';\n",
              "\n",
              "        async function convertToInteractive(key) {\n",
              "          const element = document.querySelector('#df-1c680fba-06a2-42ec-9cd5-73b667c51578');\n",
              "          const dataTable =\n",
              "            await google.colab.kernel.invokeFunction('convertToInteractive',\n",
              "                                                     [key], {});\n",
              "          if (!dataTable) return;\n",
              "\n",
              "          const docLinkHtml = 'Like what you see? Visit the ' +\n",
              "            '<a target=\"_blank\" href=https://colab.research.google.com/notebooks/data_table.ipynb>data table notebook</a>'\n",
              "            + ' to learn more about interactive tables.';\n",
              "          element.innerHTML = '';\n",
              "          dataTable['output_type'] = 'display_data';\n",
              "          await google.colab.output.renderOutput(dataTable, element);\n",
              "          const docLink = document.createElement('div');\n",
              "          docLink.innerHTML = docLinkHtml;\n",
              "          element.appendChild(docLink);\n",
              "        }\n",
              "      </script>\n",
              "    </div>\n",
              "  </div>\n",
              "  "
            ]
          },
          "metadata": {},
          "execution_count": 29
        }
      ]
    },
    {
      "cell_type": "code",
      "source": [
        "Carregando um CSV, pulando as duas primeiras linhas."
      ],
      "metadata": {
        "colab": {
          "base_uri": "https://localhost:8080/",
          "height": 130
        },
        "id": "1KYfbKKkdJGj",
        "outputId": "ccd361e2-488f-45b3-b525-f3923abf9517"
      },
      "execution_count": 30,
      "outputs": [
        {
          "output_type": "error",
          "ename": "SyntaxError",
          "evalue": "ignored",
          "traceback": [
            "\u001b[0;36m  File \u001b[0;32m\"<ipython-input-30-e075eecf7869>\"\u001b[0;36m, line \u001b[0;32m1\u001b[0m\n\u001b[0;31m    Carregando um CSV, pulando as duas primeiras linhas.\u001b[0m\n\u001b[0m               ^\u001b[0m\n\u001b[0;31mSyntaxError\u001b[0m\u001b[0;31m:\u001b[0m invalid syntax\n"
          ]
        }
      ]
    },
    {
      "cell_type": "code",
      "source": [
        "df = pd.read_csv('exemplo.csv', skiprows=2)\n",
        "df"
      ],
      "metadata": {
        "colab": {
          "base_uri": "https://localhost:8080/",
          "height": 328
        },
        "id": "OL_VvE6idKlv",
        "outputId": "9d47e227-8ddf-40a0-be37-4b1283dbdd07"
      },
      "execution_count": 31,
      "outputs": [
        {
          "output_type": "error",
          "ename": "FileNotFoundError",
          "evalue": "ignored",
          "traceback": [
            "\u001b[0;31m---------------------------------------------------------------------------\u001b[0m",
            "\u001b[0;31mFileNotFoundError\u001b[0m                         Traceback (most recent call last)",
            "\u001b[0;32m<ipython-input-31-d88768f4e350>\u001b[0m in \u001b[0;36m<cell line: 1>\u001b[0;34m()\u001b[0m\n\u001b[0;32m----> 1\u001b[0;31m \u001b[0mdf\u001b[0m \u001b[0;34m=\u001b[0m \u001b[0mpd\u001b[0m\u001b[0;34m.\u001b[0m\u001b[0mread_csv\u001b[0m\u001b[0;34m(\u001b[0m\u001b[0;34m'exemplo.csv'\u001b[0m\u001b[0;34m,\u001b[0m \u001b[0mskiprows\u001b[0m\u001b[0;34m=\u001b[0m\u001b[0;36m2\u001b[0m\u001b[0;34m)\u001b[0m\u001b[0;34m\u001b[0m\u001b[0;34m\u001b[0m\u001b[0m\n\u001b[0m\u001b[1;32m      2\u001b[0m \u001b[0mdf\u001b[0m\u001b[0;34m\u001b[0m\u001b[0;34m\u001b[0m\u001b[0m\n",
            "\u001b[0;32m/usr/local/lib/python3.10/dist-packages/pandas/util/_decorators.py\u001b[0m in \u001b[0;36mwrapper\u001b[0;34m(*args, **kwargs)\u001b[0m\n\u001b[1;32m    209\u001b[0m                 \u001b[0;32melse\u001b[0m\u001b[0;34m:\u001b[0m\u001b[0;34m\u001b[0m\u001b[0;34m\u001b[0m\u001b[0m\n\u001b[1;32m    210\u001b[0m                     \u001b[0mkwargs\u001b[0m\u001b[0;34m[\u001b[0m\u001b[0mnew_arg_name\u001b[0m\u001b[0;34m]\u001b[0m \u001b[0;34m=\u001b[0m \u001b[0mnew_arg_value\u001b[0m\u001b[0;34m\u001b[0m\u001b[0;34m\u001b[0m\u001b[0m\n\u001b[0;32m--> 211\u001b[0;31m             \u001b[0;32mreturn\u001b[0m \u001b[0mfunc\u001b[0m\u001b[0;34m(\u001b[0m\u001b[0;34m*\u001b[0m\u001b[0margs\u001b[0m\u001b[0;34m,\u001b[0m \u001b[0;34m**\u001b[0m\u001b[0mkwargs\u001b[0m\u001b[0;34m)\u001b[0m\u001b[0;34m\u001b[0m\u001b[0;34m\u001b[0m\u001b[0m\n\u001b[0m\u001b[1;32m    212\u001b[0m \u001b[0;34m\u001b[0m\u001b[0m\n\u001b[1;32m    213\u001b[0m         \u001b[0;32mreturn\u001b[0m \u001b[0mcast\u001b[0m\u001b[0;34m(\u001b[0m\u001b[0mF\u001b[0m\u001b[0;34m,\u001b[0m \u001b[0mwrapper\u001b[0m\u001b[0;34m)\u001b[0m\u001b[0;34m\u001b[0m\u001b[0;34m\u001b[0m\u001b[0m\n",
            "\u001b[0;32m/usr/local/lib/python3.10/dist-packages/pandas/util/_decorators.py\u001b[0m in \u001b[0;36mwrapper\u001b[0;34m(*args, **kwargs)\u001b[0m\n\u001b[1;32m    329\u001b[0m                     \u001b[0mstacklevel\u001b[0m\u001b[0;34m=\u001b[0m\u001b[0mfind_stack_level\u001b[0m\u001b[0;34m(\u001b[0m\u001b[0;34m)\u001b[0m\u001b[0;34m,\u001b[0m\u001b[0;34m\u001b[0m\u001b[0;34m\u001b[0m\u001b[0m\n\u001b[1;32m    330\u001b[0m                 )\n\u001b[0;32m--> 331\u001b[0;31m             \u001b[0;32mreturn\u001b[0m \u001b[0mfunc\u001b[0m\u001b[0;34m(\u001b[0m\u001b[0;34m*\u001b[0m\u001b[0margs\u001b[0m\u001b[0;34m,\u001b[0m \u001b[0;34m**\u001b[0m\u001b[0mkwargs\u001b[0m\u001b[0;34m)\u001b[0m\u001b[0;34m\u001b[0m\u001b[0;34m\u001b[0m\u001b[0m\n\u001b[0m\u001b[1;32m    332\u001b[0m \u001b[0;34m\u001b[0m\u001b[0m\n\u001b[1;32m    333\u001b[0m         \u001b[0;31m# error: \"Callable[[VarArg(Any), KwArg(Any)], Any]\" has no\u001b[0m\u001b[0;34m\u001b[0m\u001b[0;34m\u001b[0m\u001b[0m\n",
            "\u001b[0;32m/usr/local/lib/python3.10/dist-packages/pandas/io/parsers/readers.py\u001b[0m in \u001b[0;36mread_csv\u001b[0;34m(filepath_or_buffer, sep, delimiter, header, names, index_col, usecols, squeeze, prefix, mangle_dupe_cols, dtype, engine, converters, true_values, false_values, skipinitialspace, skiprows, skipfooter, nrows, na_values, keep_default_na, na_filter, verbose, skip_blank_lines, parse_dates, infer_datetime_format, keep_date_col, date_parser, dayfirst, cache_dates, iterator, chunksize, compression, thousands, decimal, lineterminator, quotechar, quoting, doublequote, escapechar, comment, encoding, encoding_errors, dialect, error_bad_lines, warn_bad_lines, on_bad_lines, delim_whitespace, low_memory, memory_map, float_precision, storage_options)\u001b[0m\n\u001b[1;32m    948\u001b[0m     \u001b[0mkwds\u001b[0m\u001b[0;34m.\u001b[0m\u001b[0mupdate\u001b[0m\u001b[0;34m(\u001b[0m\u001b[0mkwds_defaults\u001b[0m\u001b[0;34m)\u001b[0m\u001b[0;34m\u001b[0m\u001b[0;34m\u001b[0m\u001b[0m\n\u001b[1;32m    949\u001b[0m \u001b[0;34m\u001b[0m\u001b[0m\n\u001b[0;32m--> 950\u001b[0;31m     \u001b[0;32mreturn\u001b[0m \u001b[0m_read\u001b[0m\u001b[0;34m(\u001b[0m\u001b[0mfilepath_or_buffer\u001b[0m\u001b[0;34m,\u001b[0m \u001b[0mkwds\u001b[0m\u001b[0;34m)\u001b[0m\u001b[0;34m\u001b[0m\u001b[0;34m\u001b[0m\u001b[0m\n\u001b[0m\u001b[1;32m    951\u001b[0m \u001b[0;34m\u001b[0m\u001b[0m\n\u001b[1;32m    952\u001b[0m \u001b[0;34m\u001b[0m\u001b[0m\n",
            "\u001b[0;32m/usr/local/lib/python3.10/dist-packages/pandas/io/parsers/readers.py\u001b[0m in \u001b[0;36m_read\u001b[0;34m(filepath_or_buffer, kwds)\u001b[0m\n\u001b[1;32m    603\u001b[0m \u001b[0;34m\u001b[0m\u001b[0m\n\u001b[1;32m    604\u001b[0m     \u001b[0;31m# Create the parser.\u001b[0m\u001b[0;34m\u001b[0m\u001b[0;34m\u001b[0m\u001b[0m\n\u001b[0;32m--> 605\u001b[0;31m     \u001b[0mparser\u001b[0m \u001b[0;34m=\u001b[0m \u001b[0mTextFileReader\u001b[0m\u001b[0;34m(\u001b[0m\u001b[0mfilepath_or_buffer\u001b[0m\u001b[0;34m,\u001b[0m \u001b[0;34m**\u001b[0m\u001b[0mkwds\u001b[0m\u001b[0;34m)\u001b[0m\u001b[0;34m\u001b[0m\u001b[0;34m\u001b[0m\u001b[0m\n\u001b[0m\u001b[1;32m    606\u001b[0m \u001b[0;34m\u001b[0m\u001b[0m\n\u001b[1;32m    607\u001b[0m     \u001b[0;32mif\u001b[0m \u001b[0mchunksize\u001b[0m \u001b[0;32mor\u001b[0m \u001b[0miterator\u001b[0m\u001b[0;34m:\u001b[0m\u001b[0;34m\u001b[0m\u001b[0;34m\u001b[0m\u001b[0m\n",
            "\u001b[0;32m/usr/local/lib/python3.10/dist-packages/pandas/io/parsers/readers.py\u001b[0m in \u001b[0;36m__init__\u001b[0;34m(self, f, engine, **kwds)\u001b[0m\n\u001b[1;32m   1440\u001b[0m \u001b[0;34m\u001b[0m\u001b[0m\n\u001b[1;32m   1441\u001b[0m         \u001b[0mself\u001b[0m\u001b[0;34m.\u001b[0m\u001b[0mhandles\u001b[0m\u001b[0;34m:\u001b[0m \u001b[0mIOHandles\u001b[0m \u001b[0;34m|\u001b[0m \u001b[0;32mNone\u001b[0m \u001b[0;34m=\u001b[0m \u001b[0;32mNone\u001b[0m\u001b[0;34m\u001b[0m\u001b[0;34m\u001b[0m\u001b[0m\n\u001b[0;32m-> 1442\u001b[0;31m         \u001b[0mself\u001b[0m\u001b[0;34m.\u001b[0m\u001b[0m_engine\u001b[0m \u001b[0;34m=\u001b[0m \u001b[0mself\u001b[0m\u001b[0;34m.\u001b[0m\u001b[0m_make_engine\u001b[0m\u001b[0;34m(\u001b[0m\u001b[0mf\u001b[0m\u001b[0;34m,\u001b[0m \u001b[0mself\u001b[0m\u001b[0;34m.\u001b[0m\u001b[0mengine\u001b[0m\u001b[0;34m)\u001b[0m\u001b[0;34m\u001b[0m\u001b[0;34m\u001b[0m\u001b[0m\n\u001b[0m\u001b[1;32m   1443\u001b[0m \u001b[0;34m\u001b[0m\u001b[0m\n\u001b[1;32m   1444\u001b[0m     \u001b[0;32mdef\u001b[0m \u001b[0mclose\u001b[0m\u001b[0;34m(\u001b[0m\u001b[0mself\u001b[0m\u001b[0;34m)\u001b[0m \u001b[0;34m->\u001b[0m \u001b[0;32mNone\u001b[0m\u001b[0;34m:\u001b[0m\u001b[0;34m\u001b[0m\u001b[0;34m\u001b[0m\u001b[0m\n",
            "\u001b[0;32m/usr/local/lib/python3.10/dist-packages/pandas/io/parsers/readers.py\u001b[0m in \u001b[0;36m_make_engine\u001b[0;34m(self, f, engine)\u001b[0m\n\u001b[1;32m   1733\u001b[0m                 \u001b[0;32mif\u001b[0m \u001b[0;34m\"b\"\u001b[0m \u001b[0;32mnot\u001b[0m \u001b[0;32min\u001b[0m \u001b[0mmode\u001b[0m\u001b[0;34m:\u001b[0m\u001b[0;34m\u001b[0m\u001b[0;34m\u001b[0m\u001b[0m\n\u001b[1;32m   1734\u001b[0m                     \u001b[0mmode\u001b[0m \u001b[0;34m+=\u001b[0m \u001b[0;34m\"b\"\u001b[0m\u001b[0;34m\u001b[0m\u001b[0;34m\u001b[0m\u001b[0m\n\u001b[0;32m-> 1735\u001b[0;31m             self.handles = get_handle(\n\u001b[0m\u001b[1;32m   1736\u001b[0m                 \u001b[0mf\u001b[0m\u001b[0;34m,\u001b[0m\u001b[0;34m\u001b[0m\u001b[0;34m\u001b[0m\u001b[0m\n\u001b[1;32m   1737\u001b[0m                 \u001b[0mmode\u001b[0m\u001b[0;34m,\u001b[0m\u001b[0;34m\u001b[0m\u001b[0;34m\u001b[0m\u001b[0m\n",
            "\u001b[0;32m/usr/local/lib/python3.10/dist-packages/pandas/io/common.py\u001b[0m in \u001b[0;36mget_handle\u001b[0;34m(path_or_buf, mode, encoding, compression, memory_map, is_text, errors, storage_options)\u001b[0m\n\u001b[1;32m    854\u001b[0m         \u001b[0;32mif\u001b[0m \u001b[0mioargs\u001b[0m\u001b[0;34m.\u001b[0m\u001b[0mencoding\u001b[0m \u001b[0;32mand\u001b[0m \u001b[0;34m\"b\"\u001b[0m \u001b[0;32mnot\u001b[0m \u001b[0;32min\u001b[0m \u001b[0mioargs\u001b[0m\u001b[0;34m.\u001b[0m\u001b[0mmode\u001b[0m\u001b[0;34m:\u001b[0m\u001b[0;34m\u001b[0m\u001b[0;34m\u001b[0m\u001b[0m\n\u001b[1;32m    855\u001b[0m             \u001b[0;31m# Encoding\u001b[0m\u001b[0;34m\u001b[0m\u001b[0;34m\u001b[0m\u001b[0m\n\u001b[0;32m--> 856\u001b[0;31m             handle = open(\n\u001b[0m\u001b[1;32m    857\u001b[0m                 \u001b[0mhandle\u001b[0m\u001b[0;34m,\u001b[0m\u001b[0;34m\u001b[0m\u001b[0;34m\u001b[0m\u001b[0m\n\u001b[1;32m    858\u001b[0m                 \u001b[0mioargs\u001b[0m\u001b[0;34m.\u001b[0m\u001b[0mmode\u001b[0m\u001b[0;34m,\u001b[0m\u001b[0;34m\u001b[0m\u001b[0;34m\u001b[0m\u001b[0m\n",
            "\u001b[0;31mFileNotFoundError\u001b[0m: [Errno 2] No such file or directory: 'exemplo.csv'"
          ]
        }
      ]
    },
    {
      "cell_type": "markdown",
      "source": [
        "Carregando um CSV, com padrão brasileiro (';' como separador de campos e ',' como separador decimal.)"
      ],
      "metadata": {
        "id": "qkYJlUEPdMlB"
      }
    },
    {
      "cell_type": "code",
      "source": [
        "# Antes, carregando da forma 'padrão'.\n",
        "df = pd.read_csv('exemplo_brasileiro.csv')\n",
        "df"
      ],
      "metadata": {
        "colab": {
          "base_uri": "https://localhost:8080/",
          "height": 345
        },
        "id": "dKb0rANrdN4h",
        "outputId": "57777543-da51-473e-9d56-a8f6c3913b10"
      },
      "execution_count": 32,
      "outputs": [
        {
          "output_type": "error",
          "ename": "FileNotFoundError",
          "evalue": "ignored",
          "traceback": [
            "\u001b[0;31m---------------------------------------------------------------------------\u001b[0m",
            "\u001b[0;31mFileNotFoundError\u001b[0m                         Traceback (most recent call last)",
            "\u001b[0;32m<ipython-input-32-8ba44156815e>\u001b[0m in \u001b[0;36m<cell line: 2>\u001b[0;34m()\u001b[0m\n\u001b[1;32m      1\u001b[0m \u001b[0;31m# Antes, carregando da forma 'padrão'.\u001b[0m\u001b[0;34m\u001b[0m\u001b[0;34m\u001b[0m\u001b[0m\n\u001b[0;32m----> 2\u001b[0;31m \u001b[0mdf\u001b[0m \u001b[0;34m=\u001b[0m \u001b[0mpd\u001b[0m\u001b[0;34m.\u001b[0m\u001b[0mread_csv\u001b[0m\u001b[0;34m(\u001b[0m\u001b[0;34m'exemplo_brasileiro.csv'\u001b[0m\u001b[0;34m)\u001b[0m\u001b[0;34m\u001b[0m\u001b[0;34m\u001b[0m\u001b[0m\n\u001b[0m\u001b[1;32m      3\u001b[0m \u001b[0mdf\u001b[0m\u001b[0;34m\u001b[0m\u001b[0;34m\u001b[0m\u001b[0m\n",
            "\u001b[0;32m/usr/local/lib/python3.10/dist-packages/pandas/util/_decorators.py\u001b[0m in \u001b[0;36mwrapper\u001b[0;34m(*args, **kwargs)\u001b[0m\n\u001b[1;32m    209\u001b[0m                 \u001b[0;32melse\u001b[0m\u001b[0;34m:\u001b[0m\u001b[0;34m\u001b[0m\u001b[0;34m\u001b[0m\u001b[0m\n\u001b[1;32m    210\u001b[0m                     \u001b[0mkwargs\u001b[0m\u001b[0;34m[\u001b[0m\u001b[0mnew_arg_name\u001b[0m\u001b[0;34m]\u001b[0m \u001b[0;34m=\u001b[0m \u001b[0mnew_arg_value\u001b[0m\u001b[0;34m\u001b[0m\u001b[0;34m\u001b[0m\u001b[0m\n\u001b[0;32m--> 211\u001b[0;31m             \u001b[0;32mreturn\u001b[0m \u001b[0mfunc\u001b[0m\u001b[0;34m(\u001b[0m\u001b[0;34m*\u001b[0m\u001b[0margs\u001b[0m\u001b[0;34m,\u001b[0m \u001b[0;34m**\u001b[0m\u001b[0mkwargs\u001b[0m\u001b[0;34m)\u001b[0m\u001b[0;34m\u001b[0m\u001b[0;34m\u001b[0m\u001b[0m\n\u001b[0m\u001b[1;32m    212\u001b[0m \u001b[0;34m\u001b[0m\u001b[0m\n\u001b[1;32m    213\u001b[0m         \u001b[0;32mreturn\u001b[0m \u001b[0mcast\u001b[0m\u001b[0;34m(\u001b[0m\u001b[0mF\u001b[0m\u001b[0;34m,\u001b[0m \u001b[0mwrapper\u001b[0m\u001b[0;34m)\u001b[0m\u001b[0;34m\u001b[0m\u001b[0;34m\u001b[0m\u001b[0m\n",
            "\u001b[0;32m/usr/local/lib/python3.10/dist-packages/pandas/util/_decorators.py\u001b[0m in \u001b[0;36mwrapper\u001b[0;34m(*args, **kwargs)\u001b[0m\n\u001b[1;32m    329\u001b[0m                     \u001b[0mstacklevel\u001b[0m\u001b[0;34m=\u001b[0m\u001b[0mfind_stack_level\u001b[0m\u001b[0;34m(\u001b[0m\u001b[0;34m)\u001b[0m\u001b[0;34m,\u001b[0m\u001b[0;34m\u001b[0m\u001b[0;34m\u001b[0m\u001b[0m\n\u001b[1;32m    330\u001b[0m                 )\n\u001b[0;32m--> 331\u001b[0;31m             \u001b[0;32mreturn\u001b[0m \u001b[0mfunc\u001b[0m\u001b[0;34m(\u001b[0m\u001b[0;34m*\u001b[0m\u001b[0margs\u001b[0m\u001b[0;34m,\u001b[0m \u001b[0;34m**\u001b[0m\u001b[0mkwargs\u001b[0m\u001b[0;34m)\u001b[0m\u001b[0;34m\u001b[0m\u001b[0;34m\u001b[0m\u001b[0m\n\u001b[0m\u001b[1;32m    332\u001b[0m \u001b[0;34m\u001b[0m\u001b[0m\n\u001b[1;32m    333\u001b[0m         \u001b[0;31m# error: \"Callable[[VarArg(Any), KwArg(Any)], Any]\" has no\u001b[0m\u001b[0;34m\u001b[0m\u001b[0;34m\u001b[0m\u001b[0m\n",
            "\u001b[0;32m/usr/local/lib/python3.10/dist-packages/pandas/io/parsers/readers.py\u001b[0m in \u001b[0;36mread_csv\u001b[0;34m(filepath_or_buffer, sep, delimiter, header, names, index_col, usecols, squeeze, prefix, mangle_dupe_cols, dtype, engine, converters, true_values, false_values, skipinitialspace, skiprows, skipfooter, nrows, na_values, keep_default_na, na_filter, verbose, skip_blank_lines, parse_dates, infer_datetime_format, keep_date_col, date_parser, dayfirst, cache_dates, iterator, chunksize, compression, thousands, decimal, lineterminator, quotechar, quoting, doublequote, escapechar, comment, encoding, encoding_errors, dialect, error_bad_lines, warn_bad_lines, on_bad_lines, delim_whitespace, low_memory, memory_map, float_precision, storage_options)\u001b[0m\n\u001b[1;32m    948\u001b[0m     \u001b[0mkwds\u001b[0m\u001b[0;34m.\u001b[0m\u001b[0mupdate\u001b[0m\u001b[0;34m(\u001b[0m\u001b[0mkwds_defaults\u001b[0m\u001b[0;34m)\u001b[0m\u001b[0;34m\u001b[0m\u001b[0;34m\u001b[0m\u001b[0m\n\u001b[1;32m    949\u001b[0m \u001b[0;34m\u001b[0m\u001b[0m\n\u001b[0;32m--> 950\u001b[0;31m     \u001b[0;32mreturn\u001b[0m \u001b[0m_read\u001b[0m\u001b[0;34m(\u001b[0m\u001b[0mfilepath_or_buffer\u001b[0m\u001b[0;34m,\u001b[0m \u001b[0mkwds\u001b[0m\u001b[0;34m)\u001b[0m\u001b[0;34m\u001b[0m\u001b[0;34m\u001b[0m\u001b[0m\n\u001b[0m\u001b[1;32m    951\u001b[0m \u001b[0;34m\u001b[0m\u001b[0m\n\u001b[1;32m    952\u001b[0m \u001b[0;34m\u001b[0m\u001b[0m\n",
            "\u001b[0;32m/usr/local/lib/python3.10/dist-packages/pandas/io/parsers/readers.py\u001b[0m in \u001b[0;36m_read\u001b[0;34m(filepath_or_buffer, kwds)\u001b[0m\n\u001b[1;32m    603\u001b[0m \u001b[0;34m\u001b[0m\u001b[0m\n\u001b[1;32m    604\u001b[0m     \u001b[0;31m# Create the parser.\u001b[0m\u001b[0;34m\u001b[0m\u001b[0;34m\u001b[0m\u001b[0m\n\u001b[0;32m--> 605\u001b[0;31m     \u001b[0mparser\u001b[0m \u001b[0;34m=\u001b[0m \u001b[0mTextFileReader\u001b[0m\u001b[0;34m(\u001b[0m\u001b[0mfilepath_or_buffer\u001b[0m\u001b[0;34m,\u001b[0m \u001b[0;34m**\u001b[0m\u001b[0mkwds\u001b[0m\u001b[0;34m)\u001b[0m\u001b[0;34m\u001b[0m\u001b[0;34m\u001b[0m\u001b[0m\n\u001b[0m\u001b[1;32m    606\u001b[0m \u001b[0;34m\u001b[0m\u001b[0m\n\u001b[1;32m    607\u001b[0m     \u001b[0;32mif\u001b[0m \u001b[0mchunksize\u001b[0m \u001b[0;32mor\u001b[0m \u001b[0miterator\u001b[0m\u001b[0;34m:\u001b[0m\u001b[0;34m\u001b[0m\u001b[0;34m\u001b[0m\u001b[0m\n",
            "\u001b[0;32m/usr/local/lib/python3.10/dist-packages/pandas/io/parsers/readers.py\u001b[0m in \u001b[0;36m__init__\u001b[0;34m(self, f, engine, **kwds)\u001b[0m\n\u001b[1;32m   1440\u001b[0m \u001b[0;34m\u001b[0m\u001b[0m\n\u001b[1;32m   1441\u001b[0m         \u001b[0mself\u001b[0m\u001b[0;34m.\u001b[0m\u001b[0mhandles\u001b[0m\u001b[0;34m:\u001b[0m \u001b[0mIOHandles\u001b[0m \u001b[0;34m|\u001b[0m \u001b[0;32mNone\u001b[0m \u001b[0;34m=\u001b[0m \u001b[0;32mNone\u001b[0m\u001b[0;34m\u001b[0m\u001b[0;34m\u001b[0m\u001b[0m\n\u001b[0;32m-> 1442\u001b[0;31m         \u001b[0mself\u001b[0m\u001b[0;34m.\u001b[0m\u001b[0m_engine\u001b[0m \u001b[0;34m=\u001b[0m \u001b[0mself\u001b[0m\u001b[0;34m.\u001b[0m\u001b[0m_make_engine\u001b[0m\u001b[0;34m(\u001b[0m\u001b[0mf\u001b[0m\u001b[0;34m,\u001b[0m \u001b[0mself\u001b[0m\u001b[0;34m.\u001b[0m\u001b[0mengine\u001b[0m\u001b[0;34m)\u001b[0m\u001b[0;34m\u001b[0m\u001b[0;34m\u001b[0m\u001b[0m\n\u001b[0m\u001b[1;32m   1443\u001b[0m \u001b[0;34m\u001b[0m\u001b[0m\n\u001b[1;32m   1444\u001b[0m     \u001b[0;32mdef\u001b[0m \u001b[0mclose\u001b[0m\u001b[0;34m(\u001b[0m\u001b[0mself\u001b[0m\u001b[0;34m)\u001b[0m \u001b[0;34m->\u001b[0m \u001b[0;32mNone\u001b[0m\u001b[0;34m:\u001b[0m\u001b[0;34m\u001b[0m\u001b[0;34m\u001b[0m\u001b[0m\n",
            "\u001b[0;32m/usr/local/lib/python3.10/dist-packages/pandas/io/parsers/readers.py\u001b[0m in \u001b[0;36m_make_engine\u001b[0;34m(self, f, engine)\u001b[0m\n\u001b[1;32m   1733\u001b[0m                 \u001b[0;32mif\u001b[0m \u001b[0;34m\"b\"\u001b[0m \u001b[0;32mnot\u001b[0m \u001b[0;32min\u001b[0m \u001b[0mmode\u001b[0m\u001b[0;34m:\u001b[0m\u001b[0;34m\u001b[0m\u001b[0;34m\u001b[0m\u001b[0m\n\u001b[1;32m   1734\u001b[0m                     \u001b[0mmode\u001b[0m \u001b[0;34m+=\u001b[0m \u001b[0;34m\"b\"\u001b[0m\u001b[0;34m\u001b[0m\u001b[0;34m\u001b[0m\u001b[0m\n\u001b[0;32m-> 1735\u001b[0;31m             self.handles = get_handle(\n\u001b[0m\u001b[1;32m   1736\u001b[0m                 \u001b[0mf\u001b[0m\u001b[0;34m,\u001b[0m\u001b[0;34m\u001b[0m\u001b[0;34m\u001b[0m\u001b[0m\n\u001b[1;32m   1737\u001b[0m                 \u001b[0mmode\u001b[0m\u001b[0;34m,\u001b[0m\u001b[0;34m\u001b[0m\u001b[0;34m\u001b[0m\u001b[0m\n",
            "\u001b[0;32m/usr/local/lib/python3.10/dist-packages/pandas/io/common.py\u001b[0m in \u001b[0;36mget_handle\u001b[0;34m(path_or_buf, mode, encoding, compression, memory_map, is_text, errors, storage_options)\u001b[0m\n\u001b[1;32m    854\u001b[0m         \u001b[0;32mif\u001b[0m \u001b[0mioargs\u001b[0m\u001b[0;34m.\u001b[0m\u001b[0mencoding\u001b[0m \u001b[0;32mand\u001b[0m \u001b[0;34m\"b\"\u001b[0m \u001b[0;32mnot\u001b[0m \u001b[0;32min\u001b[0m \u001b[0mioargs\u001b[0m\u001b[0;34m.\u001b[0m\u001b[0mmode\u001b[0m\u001b[0;34m:\u001b[0m\u001b[0;34m\u001b[0m\u001b[0;34m\u001b[0m\u001b[0m\n\u001b[1;32m    855\u001b[0m             \u001b[0;31m# Encoding\u001b[0m\u001b[0;34m\u001b[0m\u001b[0;34m\u001b[0m\u001b[0m\n\u001b[0;32m--> 856\u001b[0;31m             handle = open(\n\u001b[0m\u001b[1;32m    857\u001b[0m                 \u001b[0mhandle\u001b[0m\u001b[0;34m,\u001b[0m\u001b[0;34m\u001b[0m\u001b[0;34m\u001b[0m\u001b[0m\n\u001b[1;32m    858\u001b[0m                 \u001b[0mioargs\u001b[0m\u001b[0;34m.\u001b[0m\u001b[0mmode\u001b[0m\u001b[0;34m,\u001b[0m\u001b[0;34m\u001b[0m\u001b[0;34m\u001b[0m\u001b[0m\n",
            "\u001b[0;31mFileNotFoundError\u001b[0m: [Errno 2] No such file or directory: 'exemplo_brasileiro.csv'"
          ]
        }
      ]
    },
    {
      "cell_type": "code",
      "source": [
        "# Agora, carregando usando a forma mais apropriada.\n",
        "df = pd.read_csv('exemplo_brasileiro.csv', sep=';', decimal=',')\n",
        "df"
      ],
      "metadata": {
        "colab": {
          "base_uri": "https://localhost:8080/",
          "height": 345
        },
        "id": "nEC7TTgkdPvA",
        "outputId": "e14737be-9a9a-4f94-9314-1f5cf33d4c43"
      },
      "execution_count": 33,
      "outputs": [
        {
          "output_type": "error",
          "ename": "FileNotFoundError",
          "evalue": "ignored",
          "traceback": [
            "\u001b[0;31m---------------------------------------------------------------------------\u001b[0m",
            "\u001b[0;31mFileNotFoundError\u001b[0m                         Traceback (most recent call last)",
            "\u001b[0;32m<ipython-input-33-dd28e13b1c2c>\u001b[0m in \u001b[0;36m<cell line: 2>\u001b[0;34m()\u001b[0m\n\u001b[1;32m      1\u001b[0m \u001b[0;31m# Agora, carregando usando a forma mais apropriada.\u001b[0m\u001b[0;34m\u001b[0m\u001b[0;34m\u001b[0m\u001b[0m\n\u001b[0;32m----> 2\u001b[0;31m \u001b[0mdf\u001b[0m \u001b[0;34m=\u001b[0m \u001b[0mpd\u001b[0m\u001b[0;34m.\u001b[0m\u001b[0mread_csv\u001b[0m\u001b[0;34m(\u001b[0m\u001b[0;34m'exemplo_brasileiro.csv'\u001b[0m\u001b[0;34m,\u001b[0m \u001b[0msep\u001b[0m\u001b[0;34m=\u001b[0m\u001b[0;34m';'\u001b[0m\u001b[0;34m,\u001b[0m \u001b[0mdecimal\u001b[0m\u001b[0;34m=\u001b[0m\u001b[0;34m','\u001b[0m\u001b[0;34m)\u001b[0m\u001b[0;34m\u001b[0m\u001b[0;34m\u001b[0m\u001b[0m\n\u001b[0m\u001b[1;32m      3\u001b[0m \u001b[0mdf\u001b[0m\u001b[0;34m\u001b[0m\u001b[0;34m\u001b[0m\u001b[0m\n",
            "\u001b[0;32m/usr/local/lib/python3.10/dist-packages/pandas/util/_decorators.py\u001b[0m in \u001b[0;36mwrapper\u001b[0;34m(*args, **kwargs)\u001b[0m\n\u001b[1;32m    209\u001b[0m                 \u001b[0;32melse\u001b[0m\u001b[0;34m:\u001b[0m\u001b[0;34m\u001b[0m\u001b[0;34m\u001b[0m\u001b[0m\n\u001b[1;32m    210\u001b[0m                     \u001b[0mkwargs\u001b[0m\u001b[0;34m[\u001b[0m\u001b[0mnew_arg_name\u001b[0m\u001b[0;34m]\u001b[0m \u001b[0;34m=\u001b[0m \u001b[0mnew_arg_value\u001b[0m\u001b[0;34m\u001b[0m\u001b[0;34m\u001b[0m\u001b[0m\n\u001b[0;32m--> 211\u001b[0;31m             \u001b[0;32mreturn\u001b[0m \u001b[0mfunc\u001b[0m\u001b[0;34m(\u001b[0m\u001b[0;34m*\u001b[0m\u001b[0margs\u001b[0m\u001b[0;34m,\u001b[0m \u001b[0;34m**\u001b[0m\u001b[0mkwargs\u001b[0m\u001b[0;34m)\u001b[0m\u001b[0;34m\u001b[0m\u001b[0;34m\u001b[0m\u001b[0m\n\u001b[0m\u001b[1;32m    212\u001b[0m \u001b[0;34m\u001b[0m\u001b[0m\n\u001b[1;32m    213\u001b[0m         \u001b[0;32mreturn\u001b[0m \u001b[0mcast\u001b[0m\u001b[0;34m(\u001b[0m\u001b[0mF\u001b[0m\u001b[0;34m,\u001b[0m \u001b[0mwrapper\u001b[0m\u001b[0;34m)\u001b[0m\u001b[0;34m\u001b[0m\u001b[0;34m\u001b[0m\u001b[0m\n",
            "\u001b[0;32m/usr/local/lib/python3.10/dist-packages/pandas/util/_decorators.py\u001b[0m in \u001b[0;36mwrapper\u001b[0;34m(*args, **kwargs)\u001b[0m\n\u001b[1;32m    329\u001b[0m                     \u001b[0mstacklevel\u001b[0m\u001b[0;34m=\u001b[0m\u001b[0mfind_stack_level\u001b[0m\u001b[0;34m(\u001b[0m\u001b[0;34m)\u001b[0m\u001b[0;34m,\u001b[0m\u001b[0;34m\u001b[0m\u001b[0;34m\u001b[0m\u001b[0m\n\u001b[1;32m    330\u001b[0m                 )\n\u001b[0;32m--> 331\u001b[0;31m             \u001b[0;32mreturn\u001b[0m \u001b[0mfunc\u001b[0m\u001b[0;34m(\u001b[0m\u001b[0;34m*\u001b[0m\u001b[0margs\u001b[0m\u001b[0;34m,\u001b[0m \u001b[0;34m**\u001b[0m\u001b[0mkwargs\u001b[0m\u001b[0;34m)\u001b[0m\u001b[0;34m\u001b[0m\u001b[0;34m\u001b[0m\u001b[0m\n\u001b[0m\u001b[1;32m    332\u001b[0m \u001b[0;34m\u001b[0m\u001b[0m\n\u001b[1;32m    333\u001b[0m         \u001b[0;31m# error: \"Callable[[VarArg(Any), KwArg(Any)], Any]\" has no\u001b[0m\u001b[0;34m\u001b[0m\u001b[0;34m\u001b[0m\u001b[0m\n",
            "\u001b[0;32m/usr/local/lib/python3.10/dist-packages/pandas/io/parsers/readers.py\u001b[0m in \u001b[0;36mread_csv\u001b[0;34m(filepath_or_buffer, sep, delimiter, header, names, index_col, usecols, squeeze, prefix, mangle_dupe_cols, dtype, engine, converters, true_values, false_values, skipinitialspace, skiprows, skipfooter, nrows, na_values, keep_default_na, na_filter, verbose, skip_blank_lines, parse_dates, infer_datetime_format, keep_date_col, date_parser, dayfirst, cache_dates, iterator, chunksize, compression, thousands, decimal, lineterminator, quotechar, quoting, doublequote, escapechar, comment, encoding, encoding_errors, dialect, error_bad_lines, warn_bad_lines, on_bad_lines, delim_whitespace, low_memory, memory_map, float_precision, storage_options)\u001b[0m\n\u001b[1;32m    948\u001b[0m     \u001b[0mkwds\u001b[0m\u001b[0;34m.\u001b[0m\u001b[0mupdate\u001b[0m\u001b[0;34m(\u001b[0m\u001b[0mkwds_defaults\u001b[0m\u001b[0;34m)\u001b[0m\u001b[0;34m\u001b[0m\u001b[0;34m\u001b[0m\u001b[0m\n\u001b[1;32m    949\u001b[0m \u001b[0;34m\u001b[0m\u001b[0m\n\u001b[0;32m--> 950\u001b[0;31m     \u001b[0;32mreturn\u001b[0m \u001b[0m_read\u001b[0m\u001b[0;34m(\u001b[0m\u001b[0mfilepath_or_buffer\u001b[0m\u001b[0;34m,\u001b[0m \u001b[0mkwds\u001b[0m\u001b[0;34m)\u001b[0m\u001b[0;34m\u001b[0m\u001b[0;34m\u001b[0m\u001b[0m\n\u001b[0m\u001b[1;32m    951\u001b[0m \u001b[0;34m\u001b[0m\u001b[0m\n\u001b[1;32m    952\u001b[0m \u001b[0;34m\u001b[0m\u001b[0m\n",
            "\u001b[0;32m/usr/local/lib/python3.10/dist-packages/pandas/io/parsers/readers.py\u001b[0m in \u001b[0;36m_read\u001b[0;34m(filepath_or_buffer, kwds)\u001b[0m\n\u001b[1;32m    603\u001b[0m \u001b[0;34m\u001b[0m\u001b[0m\n\u001b[1;32m    604\u001b[0m     \u001b[0;31m# Create the parser.\u001b[0m\u001b[0;34m\u001b[0m\u001b[0;34m\u001b[0m\u001b[0m\n\u001b[0;32m--> 605\u001b[0;31m     \u001b[0mparser\u001b[0m \u001b[0;34m=\u001b[0m \u001b[0mTextFileReader\u001b[0m\u001b[0;34m(\u001b[0m\u001b[0mfilepath_or_buffer\u001b[0m\u001b[0;34m,\u001b[0m \u001b[0;34m**\u001b[0m\u001b[0mkwds\u001b[0m\u001b[0;34m)\u001b[0m\u001b[0;34m\u001b[0m\u001b[0;34m\u001b[0m\u001b[0m\n\u001b[0m\u001b[1;32m    606\u001b[0m \u001b[0;34m\u001b[0m\u001b[0m\n\u001b[1;32m    607\u001b[0m     \u001b[0;32mif\u001b[0m \u001b[0mchunksize\u001b[0m \u001b[0;32mor\u001b[0m \u001b[0miterator\u001b[0m\u001b[0;34m:\u001b[0m\u001b[0;34m\u001b[0m\u001b[0;34m\u001b[0m\u001b[0m\n",
            "\u001b[0;32m/usr/local/lib/python3.10/dist-packages/pandas/io/parsers/readers.py\u001b[0m in \u001b[0;36m__init__\u001b[0;34m(self, f, engine, **kwds)\u001b[0m\n\u001b[1;32m   1440\u001b[0m \u001b[0;34m\u001b[0m\u001b[0m\n\u001b[1;32m   1441\u001b[0m         \u001b[0mself\u001b[0m\u001b[0;34m.\u001b[0m\u001b[0mhandles\u001b[0m\u001b[0;34m:\u001b[0m \u001b[0mIOHandles\u001b[0m \u001b[0;34m|\u001b[0m \u001b[0;32mNone\u001b[0m \u001b[0;34m=\u001b[0m \u001b[0;32mNone\u001b[0m\u001b[0;34m\u001b[0m\u001b[0;34m\u001b[0m\u001b[0m\n\u001b[0;32m-> 1442\u001b[0;31m         \u001b[0mself\u001b[0m\u001b[0;34m.\u001b[0m\u001b[0m_engine\u001b[0m \u001b[0;34m=\u001b[0m \u001b[0mself\u001b[0m\u001b[0;34m.\u001b[0m\u001b[0m_make_engine\u001b[0m\u001b[0;34m(\u001b[0m\u001b[0mf\u001b[0m\u001b[0;34m,\u001b[0m \u001b[0mself\u001b[0m\u001b[0;34m.\u001b[0m\u001b[0mengine\u001b[0m\u001b[0;34m)\u001b[0m\u001b[0;34m\u001b[0m\u001b[0;34m\u001b[0m\u001b[0m\n\u001b[0m\u001b[1;32m   1443\u001b[0m \u001b[0;34m\u001b[0m\u001b[0m\n\u001b[1;32m   1444\u001b[0m     \u001b[0;32mdef\u001b[0m \u001b[0mclose\u001b[0m\u001b[0;34m(\u001b[0m\u001b[0mself\u001b[0m\u001b[0;34m)\u001b[0m \u001b[0;34m->\u001b[0m \u001b[0;32mNone\u001b[0m\u001b[0;34m:\u001b[0m\u001b[0;34m\u001b[0m\u001b[0;34m\u001b[0m\u001b[0m\n",
            "\u001b[0;32m/usr/local/lib/python3.10/dist-packages/pandas/io/parsers/readers.py\u001b[0m in \u001b[0;36m_make_engine\u001b[0;34m(self, f, engine)\u001b[0m\n\u001b[1;32m   1733\u001b[0m                 \u001b[0;32mif\u001b[0m \u001b[0;34m\"b\"\u001b[0m \u001b[0;32mnot\u001b[0m \u001b[0;32min\u001b[0m \u001b[0mmode\u001b[0m\u001b[0;34m:\u001b[0m\u001b[0;34m\u001b[0m\u001b[0;34m\u001b[0m\u001b[0m\n\u001b[1;32m   1734\u001b[0m                     \u001b[0mmode\u001b[0m \u001b[0;34m+=\u001b[0m \u001b[0;34m\"b\"\u001b[0m\u001b[0;34m\u001b[0m\u001b[0;34m\u001b[0m\u001b[0m\n\u001b[0;32m-> 1735\u001b[0;31m             self.handles = get_handle(\n\u001b[0m\u001b[1;32m   1736\u001b[0m                 \u001b[0mf\u001b[0m\u001b[0;34m,\u001b[0m\u001b[0;34m\u001b[0m\u001b[0;34m\u001b[0m\u001b[0m\n\u001b[1;32m   1737\u001b[0m                 \u001b[0mmode\u001b[0m\u001b[0;34m,\u001b[0m\u001b[0;34m\u001b[0m\u001b[0;34m\u001b[0m\u001b[0m\n",
            "\u001b[0;32m/usr/local/lib/python3.10/dist-packages/pandas/io/common.py\u001b[0m in \u001b[0;36mget_handle\u001b[0;34m(path_or_buf, mode, encoding, compression, memory_map, is_text, errors, storage_options)\u001b[0m\n\u001b[1;32m    854\u001b[0m         \u001b[0;32mif\u001b[0m \u001b[0mioargs\u001b[0m\u001b[0;34m.\u001b[0m\u001b[0mencoding\u001b[0m \u001b[0;32mand\u001b[0m \u001b[0;34m\"b\"\u001b[0m \u001b[0;32mnot\u001b[0m \u001b[0;32min\u001b[0m \u001b[0mioargs\u001b[0m\u001b[0;34m.\u001b[0m\u001b[0mmode\u001b[0m\u001b[0;34m:\u001b[0m\u001b[0;34m\u001b[0m\u001b[0;34m\u001b[0m\u001b[0m\n\u001b[1;32m    855\u001b[0m             \u001b[0;31m# Encoding\u001b[0m\u001b[0;34m\u001b[0m\u001b[0;34m\u001b[0m\u001b[0m\n\u001b[0;32m--> 856\u001b[0;31m             handle = open(\n\u001b[0m\u001b[1;32m    857\u001b[0m                 \u001b[0mhandle\u001b[0m\u001b[0;34m,\u001b[0m\u001b[0;34m\u001b[0m\u001b[0;34m\u001b[0m\u001b[0m\n\u001b[1;32m    858\u001b[0m                 \u001b[0mioargs\u001b[0m\u001b[0;34m.\u001b[0m\u001b[0mmode\u001b[0m\u001b[0;34m,\u001b[0m\u001b[0;34m\u001b[0m\u001b[0;34m\u001b[0m\u001b[0m\n",
            "\u001b[0;31mFileNotFoundError\u001b[0m: [Errno 2] No such file or directory: 'exemplo_brasileiro.csv'"
          ]
        }
      ]
    },
    {
      "cell_type": "markdown",
      "source": [
        "Importando um XLSX."
      ],
      "metadata": {
        "id": "N4LWMvzUdSWk"
      }
    },
    {
      "cell_type": "code",
      "source": [
        "df = pd.read_excel('exemplo_brasileiro.xlsx')\n",
        "df"
      ],
      "metadata": {
        "id": "5tCvvTE9dUSQ"
      },
      "execution_count": null,
      "outputs": []
    },
    {
      "cell_type": "markdown",
      "source": [
        "Importando agora uma guia específica."
      ],
      "metadata": {
        "id": "37OdxsY3dWF3"
      }
    },
    {
      "cell_type": "code",
      "source": [
        "df = pd.read_excel('exemplo_brasileiro.xlsx',sheet_name='Teste')\n",
        "df"
      ],
      "metadata": {
        "id": "UfLKF_AEdXZo"
      },
      "execution_count": null,
      "outputs": []
    },
    {
      "cell_type": "markdown",
      "source": [
        "# **Manipulando dados com a biblioteca Pandas**"
      ],
      "metadata": {
        "id": "wgBV8bs7daG1"
      }
    },
    {
      "cell_type": "markdown",
      "source": [
        "## Pandas (continuação)\n",
        "\n"
      ],
      "metadata": {
        "id": "way-NO7fdeP_"
      }
    },
    {
      "cell_type": "markdown",
      "source": [
        "Vamos dar continuidade ao estudo da bilioteca chamada Pandas, agora entendendo como usar sua estrutura mais poderosa, o dataframe, e executando operações para manipulação dos dados."
      ],
      "metadata": {
        "id": "XNs9IkopdgtI"
      }
    },
    {
      "cell_type": "markdown",
      "source": [
        "### Dataframes\n",
        "\n",
        "Dataframes são estruturas de dados similares às matrizes. A principal diferença é que os dataframes podem ser compostos por objetos de diferentes tipos."
      ],
      "metadata": {
        "id": "PiS4GMrUdimX"
      }
    },
    {
      "cell_type": "code",
      "source": [
        "# Importando o pacote\n",
        "# Como dissemos na aula de importação esta é a forma mais comum de fazer a operação\n",
        "# e o \"apelido\" mais usado é \"pd\".\n",
        "\n",
        "import pandas as pd"
      ],
      "metadata": {
        "id": "d-uuwezbdl-b"
      },
      "execution_count": 34,
      "outputs": []
    },
    {
      "cell_type": "markdown",
      "source": [
        "####Importando uma base em CSV para trabalharmos. \n",
        "\n",
        "A base que usaremos é certamente a mais utilizada para experimentos iniciais em ciência de dados. \n",
        "\n",
        "A base de dados conhecida como 'Iris dataset' possui quatro variáveis numéricas e uma variável categórica. \n",
        "\n",
        "> O conjunto de dados flor Iris ou conjunto de dados Iris de Fisher é um conjunto de dados multivariados introduzido pelo estatístico e biólogo britânico Ronald Fisher em seu artigo de 1936, \"O uso de múltiplas medições em problemas taxonômicos\", como um exemplo de análise discriminante linear.Também conhecido como conjunto de dados da íris de Anderson porque Edgar Anderson coletou os dados para quantificar a variação morfológica das flores da íris de três espécies relacionadas.\n",
        "\n",
        "> Duas das três espécies foram coletadas na Península de Gaspé (sudeste do Quebec, Canadá), \"todas do mesmo campo, colhidas no mesmo dia e medidas ao mesmo tempo pela mesma pessoa com o mesmo aparelho\".\n",
        "\n",
        "> O conjunto de dados consiste em 50 amostras de cada uma das três espécies de Iris ( Iris setosa, Iris virginica e Iris versicolor). Quatro variáveis foram medidas em cada amostra: o comprimento e a largura das sépalas e pétalas, em centímetros. Com base na combinação dessas quatro características, Fisher desenvolveu um modelo discriminante linear para distinguir as espécies umas das outras.\n",
        "\n",
        "> Fonte: Wikipedia\n",
        "\n",
        "Iris é uma flor, as variáveis numéricas indicam características físicas e a variável categórica indica o tipo de flor Iris correspondente a cada conjunto de características. Neste conjunto de dados temos flores Iris de três tipos:\n",
        "\n",
        "* Setosa\n",
        "* Virginica\n",
        "* Versicolor\n",
        "\n",
        "<img src=\"https://hellor.netlify.app/slides/iris_flower_dataset.png\">"
      ],
      "metadata": {
        "id": "mdNSsInbdktP"
      }
    },
    {
      "cell_type": "markdown",
      "source": [
        "As variáveis no dataset indicam dimensões das pétalas e sépalas dos três diferentes tipos de flores Iris apresentados.\n",
        "\n",
        "<img src=\"https://ars.els-cdn.com/content/image/3-s2.0-B9780128147610000034-f03-01-9780128147610.jpg\">"
      ],
      "metadata": {
        "id": "-5PX-ySCdsNW"
      }
    },
    {
      "cell_type": "markdown",
      "source": [
        "#### Carregando a base\n",
        "\n",
        "O arquivo CSV está disponibilizado na página do curso. Baixe o arquivo ZIP relativo à aula 09 (Dados_Aula09.zip) e descompacte-o.\n",
        "\n",
        "Suba o arquivo CSV para o ambiente do Google Colab, com explicado em aula."
      ],
      "metadata": {
        "id": "uN2IABlYduGb"
      }
    },
    {
      "cell_type": "code",
      "source": [
        "iris = pd.read_csv('iris.csv',names=['sepal length', 'sepal width', 'petal length', 'petal width', 'class'])\n",
        "iris.head()"
      ],
      "metadata": {
        "colab": {
          "base_uri": "https://localhost:8080/",
          "height": 328
        },
        "id": "8C_3rYLLdvXv",
        "outputId": "350049c5-f40f-48c9-b3ac-47e28eed9534"
      },
      "execution_count": 35,
      "outputs": [
        {
          "output_type": "error",
          "ename": "FileNotFoundError",
          "evalue": "ignored",
          "traceback": [
            "\u001b[0;31m---------------------------------------------------------------------------\u001b[0m",
            "\u001b[0;31mFileNotFoundError\u001b[0m                         Traceback (most recent call last)",
            "\u001b[0;32m<ipython-input-35-dd17f90ef450>\u001b[0m in \u001b[0;36m<cell line: 1>\u001b[0;34m()\u001b[0m\n\u001b[0;32m----> 1\u001b[0;31m \u001b[0miris\u001b[0m \u001b[0;34m=\u001b[0m \u001b[0mpd\u001b[0m\u001b[0;34m.\u001b[0m\u001b[0mread_csv\u001b[0m\u001b[0;34m(\u001b[0m\u001b[0;34m'iris.csv'\u001b[0m\u001b[0;34m,\u001b[0m\u001b[0mnames\u001b[0m\u001b[0;34m=\u001b[0m\u001b[0;34m[\u001b[0m\u001b[0;34m'sepal length'\u001b[0m\u001b[0;34m,\u001b[0m \u001b[0;34m'sepal width'\u001b[0m\u001b[0;34m,\u001b[0m \u001b[0;34m'petal length'\u001b[0m\u001b[0;34m,\u001b[0m \u001b[0;34m'petal width'\u001b[0m\u001b[0;34m,\u001b[0m \u001b[0;34m'class'\u001b[0m\u001b[0;34m]\u001b[0m\u001b[0;34m)\u001b[0m\u001b[0;34m\u001b[0m\u001b[0;34m\u001b[0m\u001b[0m\n\u001b[0m\u001b[1;32m      2\u001b[0m \u001b[0miris\u001b[0m\u001b[0;34m.\u001b[0m\u001b[0mhead\u001b[0m\u001b[0;34m(\u001b[0m\u001b[0;34m)\u001b[0m\u001b[0;34m\u001b[0m\u001b[0;34m\u001b[0m\u001b[0m\n",
            "\u001b[0;32m/usr/local/lib/python3.10/dist-packages/pandas/util/_decorators.py\u001b[0m in \u001b[0;36mwrapper\u001b[0;34m(*args, **kwargs)\u001b[0m\n\u001b[1;32m    209\u001b[0m                 \u001b[0;32melse\u001b[0m\u001b[0;34m:\u001b[0m\u001b[0;34m\u001b[0m\u001b[0;34m\u001b[0m\u001b[0m\n\u001b[1;32m    210\u001b[0m                     \u001b[0mkwargs\u001b[0m\u001b[0;34m[\u001b[0m\u001b[0mnew_arg_name\u001b[0m\u001b[0;34m]\u001b[0m \u001b[0;34m=\u001b[0m \u001b[0mnew_arg_value\u001b[0m\u001b[0;34m\u001b[0m\u001b[0;34m\u001b[0m\u001b[0m\n\u001b[0;32m--> 211\u001b[0;31m             \u001b[0;32mreturn\u001b[0m \u001b[0mfunc\u001b[0m\u001b[0;34m(\u001b[0m\u001b[0;34m*\u001b[0m\u001b[0margs\u001b[0m\u001b[0;34m,\u001b[0m \u001b[0;34m**\u001b[0m\u001b[0mkwargs\u001b[0m\u001b[0;34m)\u001b[0m\u001b[0;34m\u001b[0m\u001b[0;34m\u001b[0m\u001b[0m\n\u001b[0m\u001b[1;32m    212\u001b[0m \u001b[0;34m\u001b[0m\u001b[0m\n\u001b[1;32m    213\u001b[0m         \u001b[0;32mreturn\u001b[0m \u001b[0mcast\u001b[0m\u001b[0;34m(\u001b[0m\u001b[0mF\u001b[0m\u001b[0;34m,\u001b[0m \u001b[0mwrapper\u001b[0m\u001b[0;34m)\u001b[0m\u001b[0;34m\u001b[0m\u001b[0;34m\u001b[0m\u001b[0m\n",
            "\u001b[0;32m/usr/local/lib/python3.10/dist-packages/pandas/util/_decorators.py\u001b[0m in \u001b[0;36mwrapper\u001b[0;34m(*args, **kwargs)\u001b[0m\n\u001b[1;32m    329\u001b[0m                     \u001b[0mstacklevel\u001b[0m\u001b[0;34m=\u001b[0m\u001b[0mfind_stack_level\u001b[0m\u001b[0;34m(\u001b[0m\u001b[0;34m)\u001b[0m\u001b[0;34m,\u001b[0m\u001b[0;34m\u001b[0m\u001b[0;34m\u001b[0m\u001b[0m\n\u001b[1;32m    330\u001b[0m                 )\n\u001b[0;32m--> 331\u001b[0;31m             \u001b[0;32mreturn\u001b[0m \u001b[0mfunc\u001b[0m\u001b[0;34m(\u001b[0m\u001b[0;34m*\u001b[0m\u001b[0margs\u001b[0m\u001b[0;34m,\u001b[0m \u001b[0;34m**\u001b[0m\u001b[0mkwargs\u001b[0m\u001b[0;34m)\u001b[0m\u001b[0;34m\u001b[0m\u001b[0;34m\u001b[0m\u001b[0m\n\u001b[0m\u001b[1;32m    332\u001b[0m \u001b[0;34m\u001b[0m\u001b[0m\n\u001b[1;32m    333\u001b[0m         \u001b[0;31m# error: \"Callable[[VarArg(Any), KwArg(Any)], Any]\" has no\u001b[0m\u001b[0;34m\u001b[0m\u001b[0;34m\u001b[0m\u001b[0m\n",
            "\u001b[0;32m/usr/local/lib/python3.10/dist-packages/pandas/io/parsers/readers.py\u001b[0m in \u001b[0;36mread_csv\u001b[0;34m(filepath_or_buffer, sep, delimiter, header, names, index_col, usecols, squeeze, prefix, mangle_dupe_cols, dtype, engine, converters, true_values, false_values, skipinitialspace, skiprows, skipfooter, nrows, na_values, keep_default_na, na_filter, verbose, skip_blank_lines, parse_dates, infer_datetime_format, keep_date_col, date_parser, dayfirst, cache_dates, iterator, chunksize, compression, thousands, decimal, lineterminator, quotechar, quoting, doublequote, escapechar, comment, encoding, encoding_errors, dialect, error_bad_lines, warn_bad_lines, on_bad_lines, delim_whitespace, low_memory, memory_map, float_precision, storage_options)\u001b[0m\n\u001b[1;32m    948\u001b[0m     \u001b[0mkwds\u001b[0m\u001b[0;34m.\u001b[0m\u001b[0mupdate\u001b[0m\u001b[0;34m(\u001b[0m\u001b[0mkwds_defaults\u001b[0m\u001b[0;34m)\u001b[0m\u001b[0;34m\u001b[0m\u001b[0;34m\u001b[0m\u001b[0m\n\u001b[1;32m    949\u001b[0m \u001b[0;34m\u001b[0m\u001b[0m\n\u001b[0;32m--> 950\u001b[0;31m     \u001b[0;32mreturn\u001b[0m \u001b[0m_read\u001b[0m\u001b[0;34m(\u001b[0m\u001b[0mfilepath_or_buffer\u001b[0m\u001b[0;34m,\u001b[0m \u001b[0mkwds\u001b[0m\u001b[0;34m)\u001b[0m\u001b[0;34m\u001b[0m\u001b[0;34m\u001b[0m\u001b[0m\n\u001b[0m\u001b[1;32m    951\u001b[0m \u001b[0;34m\u001b[0m\u001b[0m\n\u001b[1;32m    952\u001b[0m \u001b[0;34m\u001b[0m\u001b[0m\n",
            "\u001b[0;32m/usr/local/lib/python3.10/dist-packages/pandas/io/parsers/readers.py\u001b[0m in \u001b[0;36m_read\u001b[0;34m(filepath_or_buffer, kwds)\u001b[0m\n\u001b[1;32m    603\u001b[0m \u001b[0;34m\u001b[0m\u001b[0m\n\u001b[1;32m    604\u001b[0m     \u001b[0;31m# Create the parser.\u001b[0m\u001b[0;34m\u001b[0m\u001b[0;34m\u001b[0m\u001b[0m\n\u001b[0;32m--> 605\u001b[0;31m     \u001b[0mparser\u001b[0m \u001b[0;34m=\u001b[0m \u001b[0mTextFileReader\u001b[0m\u001b[0;34m(\u001b[0m\u001b[0mfilepath_or_buffer\u001b[0m\u001b[0;34m,\u001b[0m \u001b[0;34m**\u001b[0m\u001b[0mkwds\u001b[0m\u001b[0;34m)\u001b[0m\u001b[0;34m\u001b[0m\u001b[0;34m\u001b[0m\u001b[0m\n\u001b[0m\u001b[1;32m    606\u001b[0m \u001b[0;34m\u001b[0m\u001b[0m\n\u001b[1;32m    607\u001b[0m     \u001b[0;32mif\u001b[0m \u001b[0mchunksize\u001b[0m \u001b[0;32mor\u001b[0m \u001b[0miterator\u001b[0m\u001b[0;34m:\u001b[0m\u001b[0;34m\u001b[0m\u001b[0;34m\u001b[0m\u001b[0m\n",
            "\u001b[0;32m/usr/local/lib/python3.10/dist-packages/pandas/io/parsers/readers.py\u001b[0m in \u001b[0;36m__init__\u001b[0;34m(self, f, engine, **kwds)\u001b[0m\n\u001b[1;32m   1440\u001b[0m \u001b[0;34m\u001b[0m\u001b[0m\n\u001b[1;32m   1441\u001b[0m         \u001b[0mself\u001b[0m\u001b[0;34m.\u001b[0m\u001b[0mhandles\u001b[0m\u001b[0;34m:\u001b[0m \u001b[0mIOHandles\u001b[0m \u001b[0;34m|\u001b[0m \u001b[0;32mNone\u001b[0m \u001b[0;34m=\u001b[0m \u001b[0;32mNone\u001b[0m\u001b[0;34m\u001b[0m\u001b[0;34m\u001b[0m\u001b[0m\n\u001b[0;32m-> 1442\u001b[0;31m         \u001b[0mself\u001b[0m\u001b[0;34m.\u001b[0m\u001b[0m_engine\u001b[0m \u001b[0;34m=\u001b[0m \u001b[0mself\u001b[0m\u001b[0;34m.\u001b[0m\u001b[0m_make_engine\u001b[0m\u001b[0;34m(\u001b[0m\u001b[0mf\u001b[0m\u001b[0;34m,\u001b[0m \u001b[0mself\u001b[0m\u001b[0;34m.\u001b[0m\u001b[0mengine\u001b[0m\u001b[0;34m)\u001b[0m\u001b[0;34m\u001b[0m\u001b[0;34m\u001b[0m\u001b[0m\n\u001b[0m\u001b[1;32m   1443\u001b[0m \u001b[0;34m\u001b[0m\u001b[0m\n\u001b[1;32m   1444\u001b[0m     \u001b[0;32mdef\u001b[0m \u001b[0mclose\u001b[0m\u001b[0;34m(\u001b[0m\u001b[0mself\u001b[0m\u001b[0;34m)\u001b[0m \u001b[0;34m->\u001b[0m \u001b[0;32mNone\u001b[0m\u001b[0;34m:\u001b[0m\u001b[0;34m\u001b[0m\u001b[0;34m\u001b[0m\u001b[0m\n",
            "\u001b[0;32m/usr/local/lib/python3.10/dist-packages/pandas/io/parsers/readers.py\u001b[0m in \u001b[0;36m_make_engine\u001b[0;34m(self, f, engine)\u001b[0m\n\u001b[1;32m   1733\u001b[0m                 \u001b[0;32mif\u001b[0m \u001b[0;34m\"b\"\u001b[0m \u001b[0;32mnot\u001b[0m \u001b[0;32min\u001b[0m \u001b[0mmode\u001b[0m\u001b[0;34m:\u001b[0m\u001b[0;34m\u001b[0m\u001b[0;34m\u001b[0m\u001b[0m\n\u001b[1;32m   1734\u001b[0m                     \u001b[0mmode\u001b[0m \u001b[0;34m+=\u001b[0m \u001b[0;34m\"b\"\u001b[0m\u001b[0;34m\u001b[0m\u001b[0;34m\u001b[0m\u001b[0m\n\u001b[0;32m-> 1735\u001b[0;31m             self.handles = get_handle(\n\u001b[0m\u001b[1;32m   1736\u001b[0m                 \u001b[0mf\u001b[0m\u001b[0;34m,\u001b[0m\u001b[0;34m\u001b[0m\u001b[0;34m\u001b[0m\u001b[0m\n\u001b[1;32m   1737\u001b[0m                 \u001b[0mmode\u001b[0m\u001b[0;34m,\u001b[0m\u001b[0;34m\u001b[0m\u001b[0;34m\u001b[0m\u001b[0m\n",
            "\u001b[0;32m/usr/local/lib/python3.10/dist-packages/pandas/io/common.py\u001b[0m in \u001b[0;36mget_handle\u001b[0;34m(path_or_buf, mode, encoding, compression, memory_map, is_text, errors, storage_options)\u001b[0m\n\u001b[1;32m    854\u001b[0m         \u001b[0;32mif\u001b[0m \u001b[0mioargs\u001b[0m\u001b[0;34m.\u001b[0m\u001b[0mencoding\u001b[0m \u001b[0;32mand\u001b[0m \u001b[0;34m\"b\"\u001b[0m \u001b[0;32mnot\u001b[0m \u001b[0;32min\u001b[0m \u001b[0mioargs\u001b[0m\u001b[0;34m.\u001b[0m\u001b[0mmode\u001b[0m\u001b[0;34m:\u001b[0m\u001b[0;34m\u001b[0m\u001b[0;34m\u001b[0m\u001b[0m\n\u001b[1;32m    855\u001b[0m             \u001b[0;31m# Encoding\u001b[0m\u001b[0;34m\u001b[0m\u001b[0;34m\u001b[0m\u001b[0m\n\u001b[0;32m--> 856\u001b[0;31m             handle = open(\n\u001b[0m\u001b[1;32m    857\u001b[0m                 \u001b[0mhandle\u001b[0m\u001b[0;34m,\u001b[0m\u001b[0;34m\u001b[0m\u001b[0;34m\u001b[0m\u001b[0m\n\u001b[1;32m    858\u001b[0m                 \u001b[0mioargs\u001b[0m\u001b[0;34m.\u001b[0m\u001b[0mmode\u001b[0m\u001b[0;34m,\u001b[0m\u001b[0;34m\u001b[0m\u001b[0;34m\u001b[0m\u001b[0m\n",
            "\u001b[0;31mFileNotFoundError\u001b[0m: [Errno 2] No such file or directory: 'iris.csv'"
          ]
        }
      ]
    },
    {
      "cell_type": "markdown",
      "source": [
        "O método 'head' nos entrega as primeiras linhas de um dataframe. Já o método 'tail' nos entrega as últimas linhas. Sem parâmetros serão as cinco primeiras ou cinco últimas. Mas podemos pedir quantas linhas forem necessárias usando o parâmetro apropriado."
      ],
      "metadata": {
        "id": "ppz328o2dxPm"
      }
    },
    {
      "cell_type": "code",
      "source": [
        "iris.tail()"
      ],
      "metadata": {
        "colab": {
          "base_uri": "https://localhost:8080/",
          "height": 165
        },
        "id": "T5qbyBRldy-d",
        "outputId": "adbbc493-920e-4aae-f30e-818e14cc14a1"
      },
      "execution_count": 36,
      "outputs": [
        {
          "output_type": "error",
          "ename": "NameError",
          "evalue": "ignored",
          "traceback": [
            "\u001b[0;31m---------------------------------------------------------------------------\u001b[0m",
            "\u001b[0;31mNameError\u001b[0m                                 Traceback (most recent call last)",
            "\u001b[0;32m<ipython-input-36-a3b2f3952097>\u001b[0m in \u001b[0;36m<cell line: 1>\u001b[0;34m()\u001b[0m\n\u001b[0;32m----> 1\u001b[0;31m \u001b[0miris\u001b[0m\u001b[0;34m.\u001b[0m\u001b[0mtail\u001b[0m\u001b[0;34m(\u001b[0m\u001b[0;34m)\u001b[0m\u001b[0;34m\u001b[0m\u001b[0;34m\u001b[0m\u001b[0m\n\u001b[0m",
            "\u001b[0;31mNameError\u001b[0m: name 'iris' is not defined"
          ]
        }
      ]
    },
    {
      "cell_type": "code",
      "source": [
        "iris.tail(n=10)"
      ],
      "metadata": {
        "id": "1GT3cxbhd0nY"
      },
      "execution_count": null,
      "outputs": []
    },
    {
      "cell_type": "code",
      "source": [
        "iris.head(n=15)"
      ],
      "metadata": {
        "id": "AktlUnLId2Cl"
      },
      "execution_count": null,
      "outputs": []
    },
    {
      "cell_type": "code",
      "source": [
        "# Fazendo uma cópia do dataframe para trabalharmos.\n",
        "iris_copia = iris.copy()"
      ],
      "metadata": {
        "id": "tx8nKmUkd4VN"
      },
      "execution_count": null,
      "outputs": []
    },
    {
      "cell_type": "code",
      "source": [
        "# Vamos filtrar a última coluna, buscando por valores 'Iris-setosa'.\n",
        "iris_setosa = iris_copia[iris_copia['class'] == 'Iris-setosa']\n",
        "iris_setosa.head()"
      ],
      "metadata": {
        "id": "sQjVu2pCd5ol"
      },
      "execution_count": null,
      "outputs": []
    },
    {
      "cell_type": "code",
      "source": [
        "# Agora vamos filtrar por flores com 'sepal lenght' < 4.8.\n",
        "iris_sl = iris_copia[iris_copia['sepal length'] < 4.8]\n",
        "iris_sl"
      ],
      "metadata": {
        "id": "6FQUF2Vnd67l"
      },
      "execution_count": null,
      "outputs": []
    },
    {
      "cell_type": "code",
      "source": [
        "filtro_mult = iris_copia[((iris_copia['sepal length'] < 4.8) & (iris_copia['petal width'] == 0.2))]\n",
        "filtro_mult"
      ],
      "metadata": {
        "id": "50d7b_8jd8h1"
      },
      "execution_count": null,
      "outputs": []
    },
    {
      "cell_type": "markdown",
      "source": [
        "Apresentando dados estatísticos para todas as colunas."
      ],
      "metadata": {
        "id": "FYc9bjoUd-eJ"
      }
    },
    {
      "cell_type": "code",
      "source": [
        "iris.describe()"
      ],
      "metadata": {
        "id": "1GKNifOAd_1t"
      },
      "execution_count": null,
      "outputs": []
    },
    {
      "cell_type": "markdown",
      "source": [
        "E para apenas uma coluna?"
      ],
      "metadata": {
        "id": "974dNbVReBTm"
      }
    },
    {
      "cell_type": "code",
      "source": [
        "iris['sepal length'].describe()"
      ],
      "metadata": {
        "id": "rBy6fk40eCWa"
      },
      "execution_count": null,
      "outputs": []
    },
    {
      "cell_type": "markdown",
      "source": [
        "Usando os eixos ('0'=linhas, '1'=colunas).\n",
        "\n",
        "'0' = faz a média das linhas\n",
        "'1' = faz a média das colunas"
      ],
      "metadata": {
        "id": "kjbmUWQOeFWO"
      }
    },
    {
      "cell_type": "code",
      "source": [
        "iris.mean(axis=0)\n"
      ],
      "metadata": {
        "id": "xtWZV9kZeFMc"
      },
      "execution_count": null,
      "outputs": []
    },
    {
      "cell_type": "code",
      "source": [
        "iris.mean(axis=1).tail()"
      ],
      "metadata": {
        "id": "1oyowJwteIeO"
      },
      "execution_count": null,
      "outputs": []
    },
    {
      "cell_type": "markdown",
      "source": [
        "Agora, fazendo mais uma operação. O que será feito?"
      ],
      "metadata": {
        "id": "0ZC3vP_ueKEf"
      }
    },
    {
      "cell_type": "code",
      "source": [
        "teste = iris['class'].str.upper()\n",
        "teste"
      ],
      "metadata": {
        "id": "x9nA6okheLab"
      },
      "execution_count": null,
      "outputs": []
    },
    {
      "cell_type": "markdown",
      "source": [
        "Vamos ver uma outra forma de filtrar elementos."
      ],
      "metadata": {
        "id": "wUaLX-v2eNW9"
      }
    },
    {
      "cell_type": "code",
      "source": [
        "filtro_2 = iris['class'].str.contains('Iris-virginica')\n",
        "filtro_2"
      ],
      "metadata": {
        "id": "FOBtMLGpeOpT"
      },
      "execution_count": null,
      "outputs": []
    },
    {
      "cell_type": "markdown",
      "source": [
        "Qual a vantagem? Qual a diferença para o método de filtragem direta que vimos antes? Podemos usar isso para contar os casos de sucesso."
      ],
      "metadata": {
        "id": "2AsriX8heQl9"
      }
    },
    {
      "cell_type": "code",
      "source": [
        "filtro_2.sum()"
      ],
      "metadata": {
        "id": "RnFX0Uv6eSBn"
      },
      "execution_count": null,
      "outputs": []
    },
    {
      "cell_type": "markdown",
      "source": [
        "Por enquanto ainda não aplicamos o filtro na base original, só identificamos quem cumpriu o filtro. Vamos para o próximo passo, aplicar o filtro na base."
      ],
      "metadata": {
        "id": "bqomptHqeT47"
      }
    },
    {
      "cell_type": "code",
      "source": [
        "resultado = iris[filtro_2]\n",
        "resultado"
      ],
      "metadata": {
        "id": "f0eunOvAeVVs"
      },
      "execution_count": null,
      "outputs": []
    },
    {
      "cell_type": "markdown",
      "source": [
        "### Agrupando resultados\n"
      ],
      "metadata": {
        "id": "tFKcP7AAeXZM"
      }
    },
    {
      "cell_type": "markdown",
      "source": [
        "Uma operação muito útil é agrupar os dados seguindo algum tipo de critério. \n",
        "\n",
        "No Pandas, isso pode ser feito utilizando o método 'groupby'."
      ],
      "metadata": {
        "id": "yeNQwbS6eY17"
      }
    },
    {
      "cell_type": "code",
      "source": [
        "iris_copia = iris # Fazendo uma cópia do dataframe.\n",
        "iris_copia.groupby('class')['class'].count()"
      ],
      "metadata": {
        "id": "pQRhKvtCeafs"
      },
      "execution_count": null,
      "outputs": []
    },
    {
      "cell_type": "code",
      "source": [
        "iris_copia.groupby('class').mean()"
      ],
      "metadata": {
        "id": "9lXvRpE4ebu5"
      },
      "execution_count": null,
      "outputs": []
    },
    {
      "cell_type": "code",
      "source": [
        "iris_copia.groupby('class').describe()"
      ],
      "metadata": {
        "id": "0_V7ozP8edME"
      },
      "execution_count": null,
      "outputs": []
    },
    {
      "cell_type": "code",
      "source": [
        "iris_copia.groupby('class').median()"
      ],
      "metadata": {
        "id": "kwhm8o3ueep1"
      },
      "execution_count": null,
      "outputs": []
    },
    {
      "cell_type": "markdown",
      "source": [
        "### Aplicando funções em todos os elementos de uma coluna"
      ],
      "metadata": {
        "id": "byNpfrL_egDF"
      }
    },
    {
      "cell_type": "markdown",
      "source": [
        "Vamos utilizar uma outra base de dados bem conhecida na área de ciência de dados. A base contém dados reais de passageiros do Titanic no momento de seu naufrágio em 1912. \n",
        "\n",
        "Esta base foi criada no processo de investigação do acidente, executado por autoridades inglesas. São seis variáveis, Nome, Classe de hospedagem, Idade, Sexo e se o passageiro sobreviveu ou não ao naufrágio."
      ],
      "metadata": {
        "id": "JFt82s_0eizr"
      }
    },
    {
      "cell_type": "code",
      "source": [
        "# Carregando uma URL para um objeto. Vamos utilizar um DF bem conhecido na área de ciência de dados.\n",
        "# e vamos capturar a informação com esta URL.\n",
        "url = 'https://raw.githubusercontent.com/chrisalbon/simulated_datasets/master/titanic.csv'\n",
        "\n",
        "# Carregando os dados para um objeto.\n",
        "dataframe = pd.read_csv(url)\n",
        "\n",
        "# Criando uma função que será aplicada a todas as linhas do dataframe.\n",
        "def funcao_1(x):\n",
        "    return x.upper()\n",
        "\n",
        "# Aplicando a função.\n",
        "dataframe['Name'].apply(funcao_1)"
      ],
      "metadata": {
        "id": "Gge9D1YNekoT"
      },
      "execution_count": null,
      "outputs": []
    },
    {
      "cell_type": "code",
      "source": [
        "# Vamos aplicar uma segunda função.\n",
        "\n",
        "def funcao_2(x):\n",
        "    if x < 12:\n",
        "        resultado = 'Child'\n",
        "    elif (x >= 12) & (x < 20):\n",
        "        resultado = 'Teen'\n",
        "    elif (x >= 20) & (x < 60):\n",
        "        resultado = 'Adult'\n",
        "    else:\n",
        "        resultado = 'Senior'\n",
        "    \n",
        "    return resultado\n",
        "\n",
        "dataframe['AgeRange'] = dataframe['Age'].apply(funcao_2)\n",
        "dataframe"
      ],
      "metadata": {
        "id": "Oex6vh8pemqd"
      },
      "execution_count": null,
      "outputs": []
    },
    {
      "cell_type": "markdown",
      "source": [
        "O próximo passo será agregar os dados pela faixa de idade que acabamos de criar."
      ],
      "metadata": {
        "id": "RM_sE2Speour"
      }
    },
    {
      "cell_type": "code",
      "source": [
        "contagem = dataframe.groupby('AgeRange')['AgeRange'].count()\n",
        "contagem"
      ],
      "metadata": {
        "id": "Bk31GazNeqVV"
      },
      "execution_count": null,
      "outputs": []
    },
    {
      "cell_type": "markdown",
      "source": [
        "### Concatenando dataframes"
      ],
      "metadata": {
        "id": "7_9IsqGOesJi"
      }
    },
    {
      "cell_type": "code",
      "source": [
        "# Criando o primeiro dataframe\n",
        "data_a = {'id': ['1', '2', '3'],\n",
        "          'first': ['Alex', 'Amy', 'Allen'],\n",
        "          'last': ['Anderson', 'Ackerman', 'Ali']}\n",
        "dataframe_a = pd.DataFrame(data_a, columns = ['id', 'first', 'last'])\n",
        "dataframe_a"
      ],
      "metadata": {
        "id": "cI3AL0yIeswL"
      },
      "execution_count": null,
      "outputs": []
    },
    {
      "cell_type": "code",
      "source": [
        "# Criando o segundo dataframe. \n",
        "data_b = {'id': ['4', '5', '6'],\n",
        "          'first': ['Billy', 'Brian', 'Bran'],\n",
        "          'last': ['Bonder', 'Black', 'Balwner']}\n",
        "dataframe_b = pd.DataFrame(data_b, columns = ['id', 'first', 'last'])\n",
        "dataframe_b"
      ],
      "metadata": {
        "id": "eZXz2wjdewZq"
      },
      "execution_count": null,
      "outputs": []
    },
    {
      "cell_type": "code",
      "source": [
        "# Concatenando os dois dataframes pelas linhas.\n",
        "df_concat = pd.concat([dataframe_a, dataframe_b], axis=0)\n",
        "df_concat"
      ],
      "metadata": {
        "id": "LGINYPENextS"
      },
      "execution_count": null,
      "outputs": []
    },
    {
      "cell_type": "markdown",
      "source": [
        "O que existe de estranho no exemplo acima?\n",
        "\n",
        "Vamos consertar."
      ],
      "metadata": {
        "id": "0Gijne0GezYa"
      }
    },
    {
      "cell_type": "code",
      "source": [
        "df_concat.reset_index(drop=True)"
      ],
      "metadata": {
        "id": "nlGa1H8ne03j"
      },
      "execution_count": null,
      "outputs": []
    },
    {
      "cell_type": "markdown",
      "source": [
        "E o que aconteceria se aplicássemos a concatenação pelas colunas, no lugar das linhas?"
      ],
      "metadata": {
        "id": "Zc0jtHSqe27C"
      }
    },
    {
      "cell_type": "code",
      "source": [
        "pd.concat([dataframe_a, dataframe_b], axis=1)"
      ],
      "metadata": {
        "id": "O4abAF3Ye4DK"
      },
      "execution_count": null,
      "outputs": []
    },
    {
      "cell_type": "markdown",
      "source": [
        "### Cruzamento de bases"
      ],
      "metadata": {
        "id": "0Khsfs0je5ir"
      }
    },
    {
      "cell_type": "markdown",
      "source": [
        "Vamos agora entender os fundamentos de uma das operações mais importantes em nosso dia a dia.\n",
        "\n",
        "A operação chamada 'merge' faz o cruzamento de bases. É a forma de replicar o comportamento da função 'VLOOKUP' (ou 'PROCV', em português) porém é muito mais flexível e, principalmente, escalável.\n",
        "\n",
        "Seguem exemplos simples para familiarização com o método."
      ],
      "metadata": {
        "id": "rlY4iO_We7JC"
      }
    },
    {
      "cell_type": "code",
      "source": [
        "# Criando o primeiro dataframe.\n",
        "employee_data = {'employee_id': ['1', '2', '3', '4'],\n",
        "                 'name': ['Amy Jones', 'Allen Keys', 'Alice Bees',\n",
        "                 'Tim Horton']}\n",
        "dataframe_employees = pd.DataFrame(employee_data, columns = ['employee_id',\n",
        "                'name'])\n",
        "dataframe_employees"
      ],
      "metadata": {
        "id": "YbE2exUHe8od"
      },
      "execution_count": null,
      "outputs": []
    },
    {
      "cell_type": "code",
      "source": [
        "# Criando o segundo dataframe.\n",
        "sales_data = {'employee_id': ['3', '4', '5', '6'],\n",
        "              'total_sales': [23456, 2512, 2345, 1455]}\n",
        "dataframe_sales = pd.DataFrame(sales_data, columns = ['employee_id',\n",
        "                                                     'total_sales'])\n",
        "dataframe_sales  "
      ],
      "metadata": {
        "id": "ZMLCHFL5e-JB"
      },
      "execution_count": null,
      "outputs": []
    },
    {
      "cell_type": "code",
      "source": [
        "# Operação de 'merge'.\n",
        "pd.merge(dataframe_employees, dataframe_sales, on='employee_id')"
      ],
      "metadata": {
        "id": "wPVmNVxxe_uq"
      },
      "execution_count": null,
      "outputs": []
    },
    {
      "cell_type": "markdown",
      "source": [
        "Olhem os dois dataframes e o resultado. O que aconteceu?"
      ],
      "metadata": {
        "id": "aAEoKG91fBLk"
      }
    },
    {
      "cell_type": "markdown",
      "source": [
        "Vamos alterar ligeiramente a operação de 'merge'."
      ],
      "metadata": {
        "id": "tTWanH8ofC87"
      }
    },
    {
      "cell_type": "code",
      "source": [
        "pd.merge(dataframe_employees, dataframe_sales, on='employee_id', how='outer')"
      ],
      "metadata": {
        "id": "iQOsCSegfEhh"
      },
      "execution_count": null,
      "outputs": []
    },
    {
      "cell_type": "markdown",
      "source": [
        "O que aconteceu desta vez?"
      ],
      "metadata": {
        "id": "UGWoyMWgfGCT"
      }
    },
    {
      "cell_type": "markdown",
      "source": [
        "Vamos a mais uma alteração da operação?"
      ],
      "metadata": {
        "id": "OCceH6EqfHXL"
      }
    },
    {
      "cell_type": "code",
      "source": [
        "pd.merge(dataframe_employees, dataframe_sales, on='employee_id', how='left')"
      ],
      "metadata": {
        "id": "Sklgj0hOfIk0"
      },
      "execution_count": null,
      "outputs": []
    },
    {
      "cell_type": "markdown",
      "source": [
        "Sabem explicar?"
      ],
      "metadata": {
        "id": "GlHNj-6FfKHg"
      }
    },
    {
      "cell_type": "markdown",
      "source": [
        "Última variação de 'merge'."
      ],
      "metadata": {
        "id": "pLUV1cYHfMK-"
      }
    },
    {
      "cell_type": "code",
      "source": [
        "pd.merge(dataframe_employees, dataframe_sales, on='employee_id', how='right')"
      ],
      "metadata": {
        "id": "5i5Q6iH5fN-C"
      },
      "execution_count": null,
      "outputs": []
    },
    {
      "cell_type": "markdown",
      "source": [
        "E o que aconteceu desta vez?"
      ],
      "metadata": {
        "id": "KBDYR3IKfPxS"
      }
    },
    {
      "cell_type": "markdown",
      "source": [
        "Para registro, a primeira operação que fizemos (o comportamento padrão do método 'merge') é fazer o chamado 'inner join'.\n",
        "\n",
        "A forma de guardar os tipos de 'merge' é lembrar de teoria de conjuntos (Ha! Facilitou ou dificultou?)."
      ],
      "metadata": {
        "id": "6KFi0tYxfRcp"
      }
    },
    {
      "cell_type": "markdown",
      "source": [
        "Nosso próximo passo é mostrar mais uma das facilidades do 'merge'. Vamos alterar ligeiramente os dataframes que utilizamos no exemplo."
      ],
      "metadata": {
        "id": "TKXoy9ZUfToD"
      }
    },
    {
      "cell_type": "code",
      "source": [
        "# Alterando o primeiro dataframe.\n",
        "employee_data = {'employee_id': ['1', '2', '3', '4'],\n",
        "                 'name': ['Amy Jones', 'Allen Keys', 'Alice Bees',\n",
        "                 'Tim Horton']}\n",
        "dataframe_employees_2 = pd.DataFrame(employee_data, columns = ['employee_id',\n",
        "                'name'])\n",
        "\n",
        "# Alterando o segundo dataframe.\n",
        "sales_data = {'id': ['3', '4', '5', '6'],\n",
        "              'total_sales': [23456, 2512, 2345, 1455]}\n",
        "dataframe_sales_2 = pd.DataFrame(sales_data, columns = ['id',\n",
        "                                                      'total_sales'])"
      ],
      "metadata": {
        "id": "IgZvhO1bfVbK"
      },
      "execution_count": null,
      "outputs": []
    },
    {
      "cell_type": "code",
      "source": [
        "dataframe_employees_2"
      ],
      "metadata": {
        "id": "-Rv69SiGfW2y"
      },
      "execution_count": null,
      "outputs": []
    },
    {
      "cell_type": "code",
      "source": [
        "dataframe_sales_2"
      ],
      "metadata": {
        "id": "mVFoXcFpfYD-"
      },
      "execution_count": null,
      "outputs": []
    },
    {
      "cell_type": "markdown",
      "source": [
        "Agora, vamos fazer a operação de 'merge', como foi feita anteriormente, com sucesso."
      ],
      "metadata": {
        "id": "T1hvGs6NfaC2"
      }
    },
    {
      "cell_type": "code",
      "source": [
        "pd.merge(dataframe_employees_2, dataframe_sales_2, on='employee_id')"
      ],
      "metadata": {
        "id": "kSgSAJAWfbMg"
      },
      "execution_count": null,
      "outputs": []
    },
    {
      "cell_type": "markdown",
      "source": [
        "O que aconteceu?"
      ],
      "metadata": {
        "id": "ufIZEVN0fdIT"
      }
    },
    {
      "cell_type": "markdown",
      "source": [
        "Vamos arrumar?"
      ],
      "metadata": {
        "id": "mLOdL5Vrfeix"
      }
    },
    {
      "cell_type": "code",
      "source": [
        "pd.merge(dataframe_employees_2, dataframe_sales_2, left_on='employee_id', right_on='id')"
      ],
      "metadata": {
        "id": "OUyS7HtZfgXa"
      },
      "execution_count": null,
      "outputs": []
    },
    {
      "cell_type": "markdown",
      "source": [
        "**DICA!** Para quem quer conhecer um pouco mais como funcionam os 'joins' e sua aplicação em SQL, um bom link é [A Visual Explanation of SQL Joins](https://blog.codinghorror.com/a-visual-explanation-of-sql-joins/). Uma ótima referência é também a [documentação oficial do Pandas](http://pandas.pydata.org/pandas-docs/stable/merging.html)."
      ],
      "metadata": {
        "id": "2X3M4D_RfiRK"
      }
    },
    {
      "cell_type": "markdown",
      "source": [
        "### Exercícios"
      ],
      "metadata": {
        "id": "EsrrpHTrfjoX"
      }
    }
  ],
  "metadata": {
    "kernelspec": {
      "display_name": "Python 3 (ipykernel)",
      "language": "python",
      "name": "python3"
    },
    "language_info": {
      "codemirror_mode": {
        "name": "ipython",
        "version": 3
      },
      "file_extension": ".py",
      "mimetype": "text/x-python",
      "name": "python",
      "nbconvert_exporter": "python",
      "pygments_lexer": "ipython3",
      "version": "3.8.12"
    },
    "colab": {
      "provenance": [],
      "include_colab_link": true
    }
  },
  "nbformat": 4,
  "nbformat_minor": 0
}